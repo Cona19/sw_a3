{
 "cells": [
  {
   "cell_type": "markdown",
   "metadata": {},
   "source": []
  },
  {
   "cell_type": "code",
   "execution_count": 1,
   "metadata": {
    "collapsed": false
   },
   "outputs": [
    {
     "data": {
      "text/plain": [
       "'ascii'"
      ]
     },
     "execution_count": 1,
     "metadata": {},
     "output_type": "execute_result"
    }
   ],
   "source": [
    "import sys\n",
    "sys.getdefaultencoding()"
   ]
  },
  {
   "cell_type": "code",
   "execution_count": 2,
   "metadata": {
    "collapsed": true
   },
   "outputs": [],
   "source": [
    "#reload(sys)\n",
    "#sys.setdefaultencoding('utf-8')"
   ]
  },
  {
   "cell_type": "code",
   "execution_count": 3,
   "metadata": {
    "collapsed": true
   },
   "outputs": [],
   "source": [
    "from sklearn.externals import joblib"
   ]
  },
  {
   "cell_type": "code",
   "execution_count": 4,
   "metadata": {
    "collapsed": false
   },
   "outputs": [],
   "source": [
    "\n",
    "clf = joblib.load('classify.model')\n",
    "cate_dict = joblib.load('cate_dict.dat')\n",
    "vectorizer = joblib.load('vectorizer.dat')\n"
   ]
  },
  {
   "cell_type": "code",
   "execution_count": 5,
   "metadata": {
    "collapsed": false
   },
   "outputs": [
    {
     "data": {
      "text/plain": [
       "['n_classify.model',\n",
       " 'n_classify.model_01.npy',\n",
       " 'n_classify.model_02.npy',\n",
       " 'n_classify.model_03.npy']"
      ]
     },
     "execution_count": 5,
     "metadata": {},
     "output_type": "execute_result"
    }
   ],
   "source": [
    "joblib.dump(clf,'n_classify.model')"
   ]
  },
  {
   "cell_type": "code",
   "execution_count": 6,
   "metadata": {
    "collapsed": false
   },
   "outputs": [
    {
     "data": {
      "text/plain": [
       "['n_vectorizer.dat']"
      ]
     },
     "execution_count": 6,
     "metadata": {},
     "output_type": "execute_result"
    }
   ],
   "source": [
    "joblib.dump(cate_dict,'n_cate_dict.dat')\n",
    "joblib.dump(vectorizer,'n_vectorizer.dat')"
   ]
  },
  {
   "cell_type": "code",
   "execution_count": 7,
   "metadata": {
    "collapsed": false
   },
   "outputs": [],
   "source": [
    "cate_id_name_dict = dict(map(lambda kv:(kv[1],kv[0]),cate_dict.items()))"
   ]
  },
  {
   "cell_type": "code",
   "execution_count": 8,
   "metadata": {
    "collapsed": false
   },
   "outputs": [
    {
     "name": "stdout",
     "output_type": "stream",
     "text": [
      "패션의류;아동의류;한복\n"
     ]
    }
   ],
   "source": [
    "pred = clf.predict(vectorizer.transform(['[신한카드5%할인][서우한복] 아동한복 여자아동 금나래 (분홍)']))[0]\n",
    "print(cate_id_name_dict[pred])"
   ]
  },
  {
   "cell_type": "code",
   "execution_count": 9,
   "metadata": {
    "collapsed": true
   },
   "outputs": [],
   "source": [
    "image_all_cache = joblib.load('image_cache/image_all_dict.cache')"
   ]
  },
  {
   "cell_type": "code",
   "execution_count": 10,
   "metadata": {
    "collapsed": false
   },
   "outputs": [
    {
     "data": {
      "text/plain": [
       "{'8284053019.jpg': [('bolo tie', '0.52997'),\n",
       "  ('chain', '0.13735'),\n",
       "  ('stethoscope', '0.11027'),\n",
       "  ('loupe', '0.06622'),\n",
       "  ('necklace', '0.04344')],\n",
       " '8260116297.jpg': [('espresso maker', '0.17685'),\n",
       "  ('bucket', '0.15010'),\n",
       "  ('mixing bowl', '0.06116'),\n",
       "  ('cocktail shaker', '0.05880'),\n",
       "  ('water jug', '0.04871')],\n",
       " '7704257593.jpg': [('maillot', '0.27543'),\n",
       "  ('maillot', '0.24505'),\n",
       "  ('brassiere', '0.08476'),\n",
       "  ('dumbbell', '0.07860'),\n",
       "  ('barbell', '0.07202')],\n",
       " '8352832425.jpg': [('chain mail', '0.55674'),\n",
       "  ('stole', '0.09517'),\n",
       "  ('cardigan', '0.05063'),\n",
       "  ('miniskirt', '0.04581'),\n",
       "  ('wool', '0.02792')],\n",
       " '8082224988.jpg': [('loudspeaker', '0.16636'),\n",
       "  ('radio', '0.11706'),\n",
       "  ('loupe', '0.10191'),\n",
       "  ('reflex camera', '0.09304'),\n",
       "  ('projector', '0.07434')],\n",
       " '8240711783.20150123095423.jpg': [('lighter', '0.08118'),\n",
       "  ('scoreboard', '0.05932'),\n",
       "  ('modem', '0.05834'),\n",
       "  ('hard disc', '0.04287'),\n",
       "  ('radio', '0.03725')],\n",
       " '8270242743.jpg': [('switch', '0.10371'),\n",
       "  ('analog clock', '0.08454'),\n",
       "  ('pencil sharpener', '0.07766'),\n",
       "  ('backpack', '0.05501'),\n",
       "  ('buckle', '0.04862')],\n",
       " '5695241465.20120211194636.jpg': [('hand blower', '0.21858'),\n",
       "  ('modem', '0.13901'),\n",
       "  ('binder', '0.11856'),\n",
       "  ('hand-held computer', '0.02567'),\n",
       "  ('rule', '0.01984')],\n",
       " '8340131362.jpg': [('cardigan', '0.45151'),\n",
       "  ('suit', '0.16899'),\n",
       "  ('wool', '0.14531'),\n",
       "  ('sweatshirt', '0.06365'),\n",
       "  ('trench coat', '0.05385')],\n",
       " '7885417143.jpg': [('modem', '0.45986'),\n",
       "  ('scale', '0.20820'),\n",
       "  ('hard disc', '0.12199'),\n",
       "  ('CD player', '0.04123'),\n",
       "  ('radio', '0.03481')],\n",
       " '8001040570.jpg': [('pajama', '0.77320'),\n",
       "  ('lab coat', '0.06571'),\n",
       "  ('suit', '0.04145'),\n",
       "  ('sarong', '0.01890'),\n",
       "  ('jean', '0.01442')],\n",
       " '8260103993.jpg': [('space heater', '0.17547'),\n",
       "  ('sweatshirt', '0.13918'),\n",
       "  ('bib', '0.07831'),\n",
       "  ('iron', '0.05018'),\n",
       "  ('jersey', '0.04923')],\n",
       " '8278097447.1.jpg': [('bulletproof vest', '0.45629'),\n",
       "  ('velvet', '0.09890'),\n",
       "  ('cardigan', '0.08494'),\n",
       "  ('jersey', '0.08328'),\n",
       "  ('wool', '0.06622')],\n",
       " '7772521227.jpg': [('diaper', '0.35523'),\n",
       "  ('envelope', '0.35176'),\n",
       "  ('rubber eraser', '0.03624'),\n",
       "  ('wallet', '0.02506'),\n",
       "  ('hand blower', '0.02504')],\n",
       " '8092214596.jpg': [('stole', '0.36564'),\n",
       "  ('velvet', '0.31275'),\n",
       "  ('poncho', '0.06394'),\n",
       "  ('gown', '0.04574'),\n",
       "  ('abaya', '0.03894')],\n",
       " '8270222390.jpg': [('reel', '0.26450'),\n",
       "  ('bolo tie', '0.15597'),\n",
       "  ('stethoscope', '0.09101'),\n",
       "  ('whistle', '0.08382'),\n",
       "  ('magnetic compass', '0.04832')],\n",
       " '8277248608.jpg': [('loupe', '0.48389'),\n",
       "  ('neck brace', '0.10297'),\n",
       "  ('stethoscope', '0.06381'),\n",
       "  ('frying pan', '0.04565'),\n",
       "  ('snorkel', '0.03674')],\n",
       " '7003598667.1.jpg': [('cleaver', '0.12670'),\n",
       "  ('switch', '0.07469'),\n",
       "  ('spatula', '0.07094'),\n",
       "  ('syringe', '0.06479'),\n",
       "  ('nail', '0.05907')],\n",
       " '8253902499.jpg': [('mailbag', '0.69132'),\n",
       "  ('purse', '0.10023'),\n",
       "  ('wallet', '0.04805'),\n",
       "  ('loudspeaker', '0.03606'),\n",
       "  ('knee pad', '0.02652')],\n",
       " '8027886338.1.jpg': [('packet', '0.14371'),\n",
       "  ('rule', '0.12533'),\n",
       "  ('comic book', '0.10737'),\n",
       "  ('envelope', '0.10590'),\n",
       "  ('web site', '0.09667')],\n",
       " '8244757742.jpg': [('spotlight', '0.19063'),\n",
       "  ('oil filter', '0.13874'),\n",
       "  ('piggy bank', '0.07510'),\n",
       "  ('balloon', '0.06788'),\n",
       "  ('microphone', '0.06638')],\n",
       " '8277915629.jpg': [('oil filter', '0.13666'),\n",
       "  ('gas pump', '0.07988'),\n",
       "  ('can opener', '0.05383'),\n",
       "  ('Band Aid', '0.04448'),\n",
       "  ('packet', '0.04240')],\n",
       " '7330823119.jpg': [('cash machine', '0.30825'),\n",
       "  ('screen', '0.23800'),\n",
       "  ('digital clock', '0.17349'),\n",
       "  ('hand-held computer', '0.05362'),\n",
       "  ('monitor', '0.02705')],\n",
       " '7953368287.jpg': [('cardigan', '0.77639'),\n",
       "  ('sweatshirt', '0.10930'),\n",
       "  ('wool', '0.07680'),\n",
       "  ('suit', '0.01884'),\n",
       "  ('jersey', '0.01000')],\n",
       " '6847942275.20130412174524.jpg': [('loudspeaker', '0.37988'),\n",
       "  ('knee pad', '0.15239'),\n",
       "  ('joystick', '0.10111'),\n",
       "  ('reflex camera', '0.08162'),\n",
       "  ('binoculars', '0.06745')],\n",
       " '8271314887.jpg': [('mortarboard', '0.31292'),\n",
       "  ('pencil sharpener', '0.08366'),\n",
       "  ('wallet', '0.07289'),\n",
       "  ('modem', '0.04115'),\n",
       "  ('purse', '0.03264')],\n",
       " '8269181305.jpg': [('radio', '0.27394'),\n",
       "  ('CD player', '0.14705'),\n",
       "  ('modem', '0.12539'),\n",
       "  ('projector', '0.08428'),\n",
       "  ('tape player', '0.06340')],\n",
       " '8319579491.jpg': [('brassiere', '0.84099'),\n",
       "  ('bib', '0.06190'),\n",
       "  ('diaper', '0.01677'),\n",
       "  ('apron', '0.00750'),\n",
       "  ('mortar', '0.00739')],\n",
       " '8377777602.jpg': [('can opener', '0.15404'),\n",
       "  ('microphone', '0.12953'),\n",
       "  ('scabbard', '0.08973'),\n",
       "  ('letter opener', '0.08218'),\n",
       "  ('corkscrew', '0.06969')],\n",
       " '8067334864.jpg': [('abaya', '0.33052'),\n",
       "  ('jean', '0.25439'),\n",
       "  ('pajama', '0.09089'),\n",
       "  ('swimming trunks', '0.04213'),\n",
       "  ('miniskirt', '0.03852')],\n",
       " '8207937347.jpg': [('book jacket', '0.28691'),\n",
       "  ('packet', '0.21454'),\n",
       "  ('envelope', '0.05219'),\n",
       "  ('binder', '0.04854'),\n",
       "  ('Band Aid', '0.04486')],\n",
       " '6203391597.20130329183117.jpg': [('digital clock', '0.20571'),\n",
       "  ('modem', '0.15346'),\n",
       "  ('loudspeaker', '0.09526'),\n",
       "  ('radio', '0.06818'),\n",
       "  ('television', '0.06747')],\n",
       " '8250818479.jpg': [('trench coat', '0.25787'),\n",
       "  ('cuirass', '0.16723'),\n",
       "  ('fur coat', '0.11653'),\n",
       "  ('chain mail', '0.10621'),\n",
       "  ('poncho', '0.08929')],\n",
       " '5980984852.20120211201557.jpg': [('nipple', '0.12705'),\n",
       "  ('remote control', '0.12402'),\n",
       "  ('sunscreen', '0.07198'),\n",
       "  ('safety pin', '0.06248'),\n",
       "  ('lotion', '0.04672')],\n",
       " '5794468597.20120211195549.jpg': [('space heater', '0.75764'),\n",
       "  ('joystick', '0.15933'),\n",
       "  ('microphone', '0.02870'),\n",
       "  ('electric fan', '0.01444'),\n",
       "  ('projector', '0.00355')],\n",
       " '8280145633.jpg': [('switch', '0.16035'),\n",
       "  ('microwave', '0.14046'),\n",
       "  ('dishwasher', '0.10083'),\n",
       "  ('screen', '0.08469'),\n",
       "  ('safe', '0.06850')],\n",
       " '7635111114.jpg': [('jersey', '0.28616'),\n",
       "  ('bow tie', '0.05840'),\n",
       "  ('bib', '0.04878'),\n",
       "  ('apron', '0.04830'),\n",
       "  ('brassiere', '0.03869')],\n",
       " '5991333386.20120211210927.jpg': [('binder', '0.37393'),\n",
       "  ('loudspeaker', '0.18919'),\n",
       "  ('modem', '0.10369'),\n",
       "  ('wallet', '0.04228'),\n",
       "  ('digital clock', '0.03524')],\n",
       " '8255871639.jpg': [('brassiere', '0.94985'),\n",
       "  ('apron', '0.01635'),\n",
       "  ('bath towel', '0.00453'),\n",
       "  ('mosquito net', '0.00416'),\n",
       "  ('diaper', '0.00286')],\n",
       " '8203567610.jpg': [('loudspeaker', '0.35550'),\n",
       "  ('modem', '0.12918'),\n",
       "  ('space heater', '0.11076'),\n",
       "  ('oil filter', '0.06477'),\n",
       "  ('wallet', '0.04694')],\n",
       " '8015034363.jpg': [('hoopskirt', '0.28889'),\n",
       "  ('miniskirt', '0.16873'),\n",
       "  ('swimming trunks', '0.12622'),\n",
       "  ('Windsor tie', '0.11410'),\n",
       "  ('wool', '0.10724')],\n",
       " '8220284192.jpg': [('maillot', '0.32034'),\n",
       "  ('maillot', '0.19561'),\n",
       "  ('brassiere', '0.15926'),\n",
       "  ('neck brace', '0.07033'),\n",
       "  ('dumbbell', '0.06982')],\n",
       " '7428712928.jpg': [('jersey', '0.47894'),\n",
       "  ('bulletproof vest', '0.23804'),\n",
       "  ('crutch', '0.03889'),\n",
       "  ('neck brace', '0.03805'),\n",
       "  ('suit', '0.02499')],\n",
       " '4119060243.20120211202119.jpg': [('face powder', '0.10080'),\n",
       "  ('CD player', '0.08701'),\n",
       "  ('pencil sharpener', '0.08623'),\n",
       "  ('scale', '0.07526'),\n",
       "  ('cup', '0.03026')],\n",
       " '8266151084.jpg': [('hand blower', '0.26935'),\n",
       "  ('can opener', '0.18446'),\n",
       "  ('corkscrew', '0.07635'),\n",
       "  ('spotlight', '0.06230'),\n",
       "  ('microphone', '0.03824')],\n",
       " '8157170454.jpg': [('cellular telephone', '0.07956'),\n",
       "  ('iPod', '0.06093'),\n",
       "  ('rubber eraser', '0.05341'),\n",
       "  ('vending machine', '0.04802'),\n",
       "  ('slot', '0.04163')],\n",
       " '8305020671.jpg': [('jean', '0.43568'),\n",
       "  ('knee pad', '0.10220'),\n",
       "  ('rule', '0.04739'),\n",
       "  ('cleaver', '0.03853'),\n",
       "  ('letter opener', '0.02653')],\n",
       " '7824215930.jpg': [('jersey', '0.56838'),\n",
       "  ('printer', '0.01792'),\n",
       "  ('projector', '0.01697'),\n",
       "  ('toilet tissue', '0.01638'),\n",
       "  ('can opener', '0.01635')],\n",
       " '8064719242.jpg': [('trench coat', '0.82296'),\n",
       "  ('bulletproof vest', '0.13694'),\n",
       "  ('backpack', '0.01053'),\n",
       "  ('military uniform', '0.00745'),\n",
       "  ('suit', '0.00694')],\n",
       " '8269911721.jpg': [('binder', '0.24057'),\n",
       "  ('wallet', '0.08652'),\n",
       "  ('desktop computer', '0.07885'),\n",
       "  ('screen', '0.06611'),\n",
       "  ('monitor', '0.04636')],\n",
       " '7651755091.3.jpg': [('switch', '0.40164'),\n",
       "  ('radio', '0.08521'),\n",
       "  ('printer', '0.05678'),\n",
       "  ('Polaroid camera', '0.04284'),\n",
       "  ('modem', '0.03523')],\n",
       " '6857101139.1.jpg': [('scoreboard', '0.27056'),\n",
       "  ('slot', '0.19427'),\n",
       "  ('Band Aid', '0.05631'),\n",
       "  ('barbershop', '0.03453'),\n",
       "  ('cassette', '0.03067')],\n",
       " '7253987840.jpg': [('switch', '0.73074'),\n",
       "  ('modem', '0.06170'),\n",
       "  ('printer', '0.04243'),\n",
       "  ('safe', '0.02169'),\n",
       "  ('projector', '0.02118')],\n",
       " '4030738731.20120211204045.jpg': [('nipple', '0.79950'),\n",
       "  ('can opener', '0.04785'),\n",
       "  ('safety pin', '0.02848'),\n",
       "  ('corkscrew', '0.01669'),\n",
       "  ('remote control', '0.01123')],\n",
       " '8023464321.jpg': [('brassiere', '0.55698'),\n",
       "  ('bikini', '0.23509'),\n",
       "  ('diaper', '0.11305'),\n",
       "  ('maillot', '0.02153'),\n",
       "  ('pajama', '0.01470')],\n",
       " '8284073068.jpg': [('syringe', '0.69764'),\n",
       "  ('screw', '0.15808'),\n",
       "  ('ballpoint', '0.05598'),\n",
       "  ('rubber eraser', '0.03497'),\n",
       "  ('fountain pen', '0.00877')],\n",
       " '5858617518.20120211164358.jpg': [('printer', '0.24829'),\n",
       "  ('desktop computer', '0.21228'),\n",
       "  ('microwave', '0.06821'),\n",
       "  ('photocopier', '0.06586'),\n",
       "  ('cassette player', '0.03997')],\n",
       " '8275625603.jpg': [('harmonica', '0.29274'),\n",
       "  ('switch', '0.08397'),\n",
       "  ('screwdriver', '0.07729'),\n",
       "  ('modem', '0.05245'),\n",
       "  (\"carpenter's kit\", '0.04578')],\n",
       " '8240370759.jpg': [(\"carpenter's kit\", '0.08420'),\n",
       "  ('cassette', '0.07225'),\n",
       "  ('Polaroid camera', '0.07102'),\n",
       "  ('tape player', '0.06875'),\n",
       "  ('cassette player', '0.05765')],\n",
       " '8363632063.jpg': [('harmonica', '0.27576'),\n",
       "  ('ballpoint', '0.25569'),\n",
       "  ('letter opener', '0.05298'),\n",
       "  ('can opener', '0.04792'),\n",
       "  ('spatula', '0.04170')],\n",
       " '7816609672.jpg': [('projector', '0.89059'),\n",
       "  ('Polaroid camera', '0.05975'),\n",
       "  ('reflex camera', '0.02257'),\n",
       "  ('loudspeaker', '0.00727'),\n",
       "  ('CD player', '0.00551')],\n",
       " '8270732220.jpg': [('academic gown', '0.25114'),\n",
       "  ('suit', '0.22447'),\n",
       "  ('trench coat', '0.09908'),\n",
       "  ('backpack', '0.08282'),\n",
       "  ('sweatshirt', '0.05901')],\n",
       " '8118597313.jpg': [('brassiere', '0.32692'),\n",
       "  ('bikini', '0.26953'),\n",
       "  ('maillot', '0.18973'),\n",
       "  ('miniskirt', '0.12653'),\n",
       "  ('maillot', '0.04545')],\n",
       " '6772072888.jpg': [('microphone', '0.28353'),\n",
       "  ('hook', '0.20120'),\n",
       "  ('spotlight', '0.15973'),\n",
       "  ('combination lock', '0.05628'),\n",
       "  ('buckle', '0.03805')],\n",
       " '8364552496.jpg': [('pencil sharpener', '0.23295'),\n",
       "  ('carton', '0.09175'),\n",
       "  ('digital clock', '0.08789'),\n",
       "  ('chest', '0.05213'),\n",
       "  ('chocolate sauce', '0.04548')],\n",
       " '8015818901.jpg': [('cardigan', '0.35843'),\n",
       "  ('wool', '0.28190'),\n",
       "  ('suit', '0.12209'),\n",
       "  ('velvet', '0.10721'),\n",
       "  ('sweatshirt', '0.04918')],\n",
       " '7287962710.1.jpg': [('sarong', '0.31789'),\n",
       "  ('gown', '0.25572'),\n",
       "  ('hoopskirt', '0.05713'),\n",
       "  ('bulletproof vest', '0.04706'),\n",
       "  ('velvet', '0.04553')],\n",
       " '6003694319.20120211210443.jpg': [('book jacket', '0.65793'),\n",
       "  ('abaya', '0.03552'),\n",
       "  ('wallet', '0.02606'),\n",
       "  ('jersey', '0.02400'),\n",
       "  ('binder', '0.01990')],\n",
       " '8348432912.jpg': [('sweatshirt', '0.42138'),\n",
       "  ('jersey', '0.09158'),\n",
       "  ('velvet', '0.06527'),\n",
       "  ('trench coat', '0.06382'),\n",
       "  ('vestment', '0.04972')],\n",
       " '8174819977.jpg': [('swimming trunks', '0.55344'),\n",
       "  ('jersey', '0.07772'),\n",
       "  ('miniskirt', '0.06536'),\n",
       "  ('knee pad', '0.04554'),\n",
       "  ('loudspeaker', '0.03029')],\n",
       " '7452093983.jpg': [('nipple', '0.19168'),\n",
       "  ('hand blower', '0.16080'),\n",
       "  ('face powder', '0.11732'),\n",
       "  ('lotion', '0.09395'),\n",
       "  ('piggy bank', '0.06398')],\n",
       " '8198563414.jpg': [('jean', '0.21752'),\n",
       "  ('holster', '0.13530'),\n",
       "  ('abaya', '0.11845'),\n",
       "  ('mailbag', '0.08837'),\n",
       "  ('bulletproof vest', '0.05846')],\n",
       " '8277590356.jpg': [('switch', '0.30071'),\n",
       "  ('safety pin', '0.16807'),\n",
       "  ('screw', '0.06855'),\n",
       "  ('modem', '0.05624'),\n",
       "  ('ocarina', '0.05215')],\n",
       " '8284168875.jpg': [('screwdriver', '0.10954'),\n",
       "  ('quill', '0.09908'),\n",
       "  ('paintbrush', '0.09507'),\n",
       "  ('matchstick', '0.08196'),\n",
       "  ('flagpole', '0.05079')],\n",
       " '7749073577.jpg': [('Christmas stocking', '0.29278'),\n",
       "  ('maillot', '0.06628'),\n",
       "  ('diaper', '0.06014'),\n",
       "  ('maillot', '0.05895'),\n",
       "  ('bib', '0.04404')],\n",
       " '8316828063.jpg': [('jean', '0.09474'),\n",
       "  ('rule', '0.07859'),\n",
       "  ('fountain pen', '0.06701'),\n",
       "  ('quill', '0.05916'),\n",
       "  ('paddle', '0.05130')],\n",
       " '8165758662.jpg': [('digital clock', '0.46982'),\n",
       "  ('rule', '0.15327'),\n",
       "  ('modem', '0.09275'),\n",
       "  ('rubber eraser', '0.03615'),\n",
       "  ('harmonica', '0.02897')],\n",
       " '5528341755.20120211194429.jpg': [('radio', '0.47441'),\n",
       "  ('CD player', '0.18420'),\n",
       "  ('modem', '0.10120'),\n",
       "  ('tape player', '0.05432'),\n",
       "  ('cassette player', '0.04561')],\n",
       " '8283724361.jpg': [('electric fan', '0.70821'),\n",
       "  ('magnetic compass', '0.04132'),\n",
       "  ('analog clock', '0.02772'),\n",
       "  ('buckle', '0.02312'),\n",
       "  ('binder', '0.01172')],\n",
       " '8310876135.jpg': [('apron', '0.37932'),\n",
       "  ('gown', '0.15294'),\n",
       "  ('sarong', '0.13258'),\n",
       "  ('maillot', '0.10604'),\n",
       "  ('maillot', '0.08480')],\n",
       " '7030924327.jpg': [('binoculars', '0.17854'),\n",
       "  ('buckle', '0.15822'),\n",
       "  ('knee pad', '0.15479'),\n",
       "  ('switch', '0.11905'),\n",
       "  ('radio', '0.08609')],\n",
       " '8433946434.jpg': [('digital watch', '0.53526'),\n",
       "  ('modem', '0.13145'),\n",
       "  ('hard disc', '0.09633'),\n",
       "  ('hand-held computer', '0.05697'),\n",
       "  ('stopwatch', '0.05566')],\n",
       " '8319792986.jpg': [('envelope', '0.07877'),\n",
       "  ('loudspeaker', '0.07802'),\n",
       "  ('scoreboard', '0.07286'),\n",
       "  ('analog clock', '0.06944'),\n",
       "  ('binder', '0.06248')],\n",
       " '7119832893.jpg': [('punching bag', '0.08268'),\n",
       "  ('scoreboard', '0.06302'),\n",
       "  ('pop bottle', '0.05627'),\n",
       "  ('red wine', '0.04394'),\n",
       "  ('beer bottle', '0.03707')],\n",
       " '8274336401.jpg': [('switch', '0.63765'),\n",
       "  ('can opener', '0.10020'),\n",
       "  ('analog clock', '0.05448'),\n",
       "  ('safe', '0.03567'),\n",
       "  ('corkscrew', '0.03285')],\n",
       " '8280740355.jpg': [('binder', '0.12432'),\n",
       "  ('web site', '0.11607'),\n",
       "  ('sunscreen', '0.10875'),\n",
       "  ('combination lock', '0.08540'),\n",
       "  ('lotion', '0.08385')],\n",
       " '8137462204.jpg': [('cellular telephone', '0.25215'),\n",
       "  ('remote control', '0.15749'),\n",
       "  ('hand-held computer', '0.13845'),\n",
       "  ('iPod', '0.10853'),\n",
       "  ('modem', '0.05136')],\n",
       " '8319189665.jpg': [('sweatshirt', '0.44427'),\n",
       "  ('cardigan', '0.23441'),\n",
       "  ('wool', '0.09190'),\n",
       "  ('jersey', '0.08637'),\n",
       "  ('bulletproof vest', '0.06060')],\n",
       " '8217645005.jpg': [('ballpoint', '0.10549'),\n",
       "  ('remote control', '0.09568'),\n",
       "  ('fountain pen', '0.07423'),\n",
       "  ('corkscrew', '0.06833'),\n",
       "  ('letter opener', '0.05631')],\n",
       " '7972795637.20140925153303.jpg': [('oscilloscope', '0.16284'),\n",
       "  ('hard disc', '0.15178'),\n",
       "  ('remote control', '0.11794'),\n",
       "  ('modem', '0.11082'),\n",
       "  ('lighter', '0.04747')],\n",
       " '8260150872.jpg': [('hatchet', '0.18209'),\n",
       "  ('whistle', '0.12924'),\n",
       "  ('microphone', '0.06006'),\n",
       "  ('hook', '0.05673'),\n",
       "  ('corkscrew', '0.05429')],\n",
       " '8259551088.jpg': [('cellular telephone', '0.13252'),\n",
       "  ('lighter', '0.09541'),\n",
       "  ('iPod', '0.09513'),\n",
       "  ('desktop computer', '0.06353'),\n",
       "  ('perfume', '0.04835')],\n",
       " '8220020832.jpg': [('poncho', '0.33842'),\n",
       "  ('stole', '0.25780'),\n",
       "  ('cardigan', '0.17967'),\n",
       "  ('wool', '0.10178'),\n",
       "  ('chain mail', '0.04558')],\n",
       " '8270162933.jpg': [('rule', '0.08733'),\n",
       "  ('scabbard', '0.06747'),\n",
       "  ('ballpoint', '0.05332'),\n",
       "  ('nail', '0.04720'),\n",
       "  ('microphone', '0.03996')],\n",
       " '7847422583.jpg': [('cardigan', '0.25535'),\n",
       "  ('stole', '0.25052'),\n",
       "  ('sarong', '0.20195'),\n",
       "  ('apron', '0.06846'),\n",
       "  ('gown', '0.03362')],\n",
       " '8110520631.jpg': [('trench coat', '0.95092'),\n",
       "  ('lab coat', '0.01203'),\n",
       "  ('cardigan', '0.00807'),\n",
       "  ('suit', '0.00673'),\n",
       "  ('Windsor tie', '0.00453')],\n",
       " '8313963759.jpg': [('suit', '0.35326'),\n",
       "  ('Windsor tie', '0.21214'),\n",
       "  ('kimono', '0.10830'),\n",
       "  ('trench coat', '0.05230'),\n",
       "  ('bulletproof vest', '0.03081')],\n",
       " '7315076363.jpg': [('book jacket', '0.40629'),\n",
       "  ('grand piano', '0.16530'),\n",
       "  ('comic book', '0.04438'),\n",
       "  ('balance beam', '0.04022'),\n",
       "  ('horizontal bar', '0.02356')],\n",
       " '8351866022.jpg': [('miniskirt', '0.32031'),\n",
       "  ('stole', '0.18075'),\n",
       "  ('velvet', '0.12634'),\n",
       "  ('overskirt', '0.12299'),\n",
       "  ('brassiere', '0.10901')],\n",
       " '6575686978.1.jpg': [('hand-held computer', '0.17961'),\n",
       "  ('chiffonier', '0.12564'),\n",
       "  ('remote control', '0.08830'),\n",
       "  ('file', '0.08027'),\n",
       "  ('oscilloscope', '0.05911')],\n",
       " '8241636204.jpg': [('miniskirt', '0.42407'),\n",
       "  ('maillot', '0.20903'),\n",
       "  ('maillot', '0.04167'),\n",
       "  ('sunglass', '0.02707'),\n",
       "  ('brassiere', '0.02537')],\n",
       " '8270685613.jpg': [('hatchet', '0.18560'),\n",
       "  ('sunglass', '0.12468'),\n",
       "  ('microphone', '0.05597'),\n",
       "  ('shovel', '0.05204'),\n",
       "  ('hook', '0.04259')],\n",
       " '8133865799.jpg': [('remote control', '0.08134'),\n",
       "  ('book jacket', '0.08078'),\n",
       "  ('running shoe', '0.04621'),\n",
       "  ('can opener', '0.03988'),\n",
       "  ('jersey', '0.03218')],\n",
       " '8229261534.jpg': [('jean', '0.75551'),\n",
       "  ('swimming trunks', '0.20400'),\n",
       "  ('velvet', '0.01062'),\n",
       "  ('wool', '0.00669'),\n",
       "  ('pajama', '0.00320')],\n",
       " '8152769175.jpg': [('cellular telephone', '0.07956'),\n",
       "  ('iPod', '0.06093'),\n",
       "  ('rubber eraser', '0.05341'),\n",
       "  ('vending machine', '0.04802'),\n",
       "  ('slot', '0.04163')],\n",
       " '7880109642.jpg': [('scoreboard', '0.27470'),\n",
       "  (\"carpenter's kit\", '0.15121'),\n",
       "  ('slot', '0.13236'),\n",
       "  ('cassette', '0.08730'),\n",
       "  ('gas pump', '0.06504')],\n",
       " '8313944298.jpg': [('kimono', '0.20443'),\n",
       "  ('pajama', '0.19437'),\n",
       "  ('suit', '0.06866'),\n",
       "  ('trench coat', '0.06845'),\n",
       "  ('Windsor tie', '0.06685')],\n",
       " '8226810260.jpg': [('handkerchief', '0.34705'),\n",
       "  ('jersey', '0.25558'),\n",
       "  ('envelope', '0.07146'),\n",
       "  ('bib', '0.05557'),\n",
       "  ('cardigan', '0.04014')],\n",
       " '7900485637.jpg': [('web site', '0.23221'),\n",
       "  ('book jacket', '0.21205'),\n",
       "  ('television', '0.07032'),\n",
       "  ('monitor', '0.06863'),\n",
       "  ('comic book', '0.06064')],\n",
       " '1100170565.20120211194404.jpg': [('Crock Pot', '0.09574'),\n",
       "  ('beaker', '0.07300'),\n",
       "  ('can opener', '0.06477'),\n",
       "  ('pill bottle', '0.05513'),\n",
       "  ('cup', '0.05437')],\n",
       " '8281956395.jpg': [('Band Aid', '0.41721'),\n",
       "  ('rubber eraser', '0.08288'),\n",
       "  ('lipstick', '0.05032'),\n",
       "  ('ice lolly', '0.03864'),\n",
       "  ('face powder', '0.03465')],\n",
       " '8274684790.jpg': [('harmonica', '0.28343'),\n",
       "  (\"carpenter's kit\", '0.18886'),\n",
       "  ('modem', '0.07309'),\n",
       "  ('tape player', '0.06362'),\n",
       "  ('cassette', '0.06041')],\n",
       " '8084299724.jpg': [('sweatshirt', '0.47040'),\n",
       "  ('cardigan', '0.15075'),\n",
       "  ('wool', '0.13794'),\n",
       "  ('velvet', '0.07018'),\n",
       "  ('poncho', '0.03272')],\n",
       " '8319298932.jpg': [('jersey', '0.20886'),\n",
       "  ('bathing cap', '0.09977'),\n",
       "  ('swimming trunks', '0.09904'),\n",
       "  ('dumbbell', '0.07855'),\n",
       "  ('lab coat', '0.06980')],\n",
       " '7537993728.jpg': [('apron', '0.17137'),\n",
       "  ('dumbbell', '0.17104'),\n",
       "  ('gown', '0.15530'),\n",
       "  ('barbell', '0.13565'),\n",
       "  ('hoopskirt', '0.05920')],\n",
       " '8142582260.jpg': [('mailbag', '0.65797'),\n",
       "  ('wallet', '0.05475'),\n",
       "  ('binder', '0.03246'),\n",
       "  ('purse', '0.03191'),\n",
       "  ('loudspeaker', '0.02616')],\n",
       " '8275722451.jpg': [('modem', '0.19166'),\n",
       "  ('hard disc', '0.09313'),\n",
       "  ('notebook', '0.08049'),\n",
       "  ('remote control', '0.07717'),\n",
       "  ('radio', '0.07374')],\n",
       " '8247200725.jpg': [('matchstick', '0.41574'),\n",
       "  ('ping-pong ball', '0.22439'),\n",
       "  ('rubber eraser', '0.10294'),\n",
       "  ('abacus', '0.06222'),\n",
       "  ('golf ball', '0.03586')],\n",
       " '7801013626.jpg': [('jean', '0.32098'),\n",
       "  ('bulletproof vest', '0.12248'),\n",
       "  ('military uniform', '0.06543'),\n",
       "  ('suit', '0.04816'),\n",
       "  ('lab coat', '0.03250')],\n",
       " '7520737233.jpg': [('suit', '0.26526'),\n",
       "  ('jean', '0.24904'),\n",
       "  ('bulletproof vest', '0.19702'),\n",
       "  ('Loafer', '0.05071'),\n",
       "  ('punching bag', '0.02581')],\n",
       " '8279943053.jpg': [('sunscreen', '0.21470'),\n",
       "  ('lotion', '0.10956'),\n",
       "  ('pill bottle', '0.09155'),\n",
       "  ('nipple', '0.05407'),\n",
       "  ('tennis ball', '0.04741')],\n",
       " '8152622368.jpg': [('cellular telephone', '0.07169'),\n",
       "  ('digital watch', '0.05679'),\n",
       "  ('hand-held computer', '0.04117'),\n",
       "  ('stopwatch', '0.03854'),\n",
       "  ('slot', '0.03708')],\n",
       " '7883756635.jpg': [('poncho', '0.26440'),\n",
       "  ('swimming trunks', '0.11196'),\n",
       "  ('wool', '0.10223'),\n",
       "  ('stole', '0.08900'),\n",
       "  ('miniskirt', '0.08153')],\n",
       " '7658273607.jpg': [('maillot', '0.47898'),\n",
       "  ('maillot', '0.33909'),\n",
       "  ('jersey', '0.04170'),\n",
       "  ('sarong', '0.03296'),\n",
       "  ('miniskirt', '0.02210')],\n",
       " '8259840291.jpg': [('pencil sharpener', '0.12348'),\n",
       "  ('paper towel', '0.08516'),\n",
       "  ('switch', '0.07492'),\n",
       "  ('toilet tissue', '0.05484'),\n",
       "  ('corkscrew', '0.04452')],\n",
       " '8245964745.jpg': [('can opener', '0.23715'),\n",
       "  ('whistle', '0.08133'),\n",
       "  ('hook', '0.05441'),\n",
       "  ('lipstick', '0.03274'),\n",
       "  ('spatula', '0.02700')],\n",
       " '7894793110.1.jpg': [('stole', '0.58731'),\n",
       "  ('poncho', '0.18366'),\n",
       "  ('chain mail', '0.07106'),\n",
       "  ('sarong', '0.03014'),\n",
       "  ('wool', '0.01598')],\n",
       " '8245964706.jpg': [('can opener', '0.23715'),\n",
       "  ('whistle', '0.08133'),\n",
       "  ('hook', '0.05441'),\n",
       "  ('lipstick', '0.03274'),\n",
       "  ('spatula', '0.02700')],\n",
       " '8265240214.jpg': [('sweatshirt', '0.58526'),\n",
       "  ('abaya', '0.09268'),\n",
       "  ('cloak', '0.07645'),\n",
       "  ('ski mask', '0.04412'),\n",
       "  ('velvet', '0.02675')],\n",
       " '7849137732.jpg': [('knee pad', '0.16675'),\n",
       "  ('dumbbell', '0.12845'),\n",
       "  ('maillot', '0.11361'),\n",
       "  ('swimming trunks', '0.09314'),\n",
       "  ('maillot', '0.07871')],\n",
       " '8260086756.jpg': [('mouse', '0.19162'),\n",
       "  ('spotlight', '0.16909'),\n",
       "  ('loupe', '0.15116'),\n",
       "  ('whistle', '0.08495'),\n",
       "  ('can opener', '0.05424')],\n",
       " '8271550803.jpg': [('combination lock', '0.17145'),\n",
       "  ('digital watch', '0.15814'),\n",
       "  ('digital clock', '0.13758'),\n",
       "  ('oil filter', '0.08996'),\n",
       "  ('stopwatch', '0.08589')],\n",
       " '8280076430.jpg': [('suit', '0.22814'),\n",
       "  ('jean', '0.09956'),\n",
       "  ('backpack', '0.08853'),\n",
       "  ('wardrobe', '0.06229'),\n",
       "  ('knee pad', '0.05237')],\n",
       " '8270795005.jpg': [('corn', '0.56275'),\n",
       "  ('hen-of-the-woods', '0.07624'),\n",
       "  ('ear', '0.04640'),\n",
       "  ('spaghetti squash', '0.03443'),\n",
       "  ('carbonara', '0.02564')],\n",
       " '7882569277.1.jpg': [('comic book', '0.04247'),\n",
       "  ('coho', '0.03618'),\n",
       "  ('ballplayer', '0.02479'),\n",
       "  ('Siberian husky', '0.02266'),\n",
       "  ('water bottle', '0.01941')],\n",
       " '7800582937.20140711115745.jpg': [('desktop computer', '0.72932'),\n",
       "  ('cellular telephone', '0.06164'),\n",
       "  ('screen', '0.03015'),\n",
       "  ('modem', '0.02758'),\n",
       "  ('monitor', '0.01509')],\n",
       " '8277845891.jpg': [('ballpoint', '0.16278'),\n",
       "  ('hand blower', '0.08634'),\n",
       "  ('rubber eraser', '0.05657'),\n",
       "  ('lighter', '0.04234'),\n",
       "  ('switch', '0.04120')],\n",
       " '30901915L.jpg': [('military uniform', '0.43483'),\n",
       "  ('academic gown', '0.08002'),\n",
       "  ('suit', '0.05548'),\n",
       "  ('bearskin', '0.04435'),\n",
       "  ('jean', '0.03943')],\n",
       " '8334840691.jpg': [('running shoe', '0.94521'),\n",
       "  ('Loafer', '0.03435'),\n",
       "  ('clog', '0.01678'),\n",
       "  ('cowboy boot', '0.00177'),\n",
       "  ('sandal', '0.00119')],\n",
       " '8223269051.jpg': [('refrigerator', '0.18748'),\n",
       "  ('medicine chest', '0.06566'),\n",
       "  ('binder', '0.06235'),\n",
       "  ('can opener', '0.05884'),\n",
       "  ('envelope', '0.04762')],\n",
       " '7898596986.jpg': [('sweatshirt', '0.92256'),\n",
       "  ('cardigan', '0.01606'),\n",
       "  ('lab coat', '0.00847'),\n",
       "  ('velvet', '0.00593'),\n",
       "  ('ski mask', '0.00505')],\n",
       " '5853585883.jpg': [('stethoscope', '0.21702'),\n",
       "  ('loupe', '0.08713'),\n",
       "  ('joystick', '0.08677'),\n",
       "  ('whistle', '0.08626'),\n",
       "  ('radio', '0.08410')],\n",
       " '5957515694.1.jpg': [('street sign', '0.23658'),\n",
       "  ('digital clock', '0.13038'),\n",
       "  ('odometer', '0.07154'),\n",
       "  ('stopwatch', '0.06570'),\n",
       "  ('cash machine', '0.05823')],\n",
       " '7390163573.jpg': [('maillot', '0.19586'),\n",
       "  ('swimming trunks', '0.16168'),\n",
       "  ('maillot', '0.13845'),\n",
       "  ('knee pad', '0.08325'),\n",
       "  ('jean', '0.03850')],\n",
       " '5883631295.20120211165353.jpg': [('plunger', '0.24230'),\n",
       "  ('joystick', '0.12844'),\n",
       "  ('shovel', '0.10898'),\n",
       "  ('pencil sharpener', '0.06142'),\n",
       "  ('broom', '0.03357')],\n",
       " '8270849582.jpg': [('suit', '0.51195'),\n",
       "  ('academic gown', '0.21827'),\n",
       "  ('Windsor tie', '0.12682'),\n",
       "  ('sweatshirt', '0.03314'),\n",
       "  ('trench coat', '0.02918')],\n",
       " '7808758563.20140714102303.jpg': [('bobsled', '0.09665'),\n",
       "  ('remote control', '0.05161'),\n",
       "  (\"carpenter's kit\", '0.04424'),\n",
       "  ('desktop computer', '0.04153'),\n",
       "  ('hard disc', '0.03474')],\n",
       " '5483057680.20120211170932.jpg': [('loudspeaker', '0.72485'),\n",
       "  ('reflex camera', '0.14663'),\n",
       "  ('radio', '0.02031'),\n",
       "  ('cassette player', '0.01768'),\n",
       "  ('CD player', '0.01329')],\n",
       " '8309563793.jpg': [('lab coat', '0.82196'),\n",
       "  ('sweatshirt', '0.05150'),\n",
       "  ('cardigan', '0.03635'),\n",
       "  ('suit', '0.02546'),\n",
       "  ('apron', '0.00994')],\n",
       " '8228720498.jpg': [('dumbbell', '0.31257'),\n",
       "  ('barber chair', '0.13463'),\n",
       "  ('tripod', '0.06633'),\n",
       "  ('binoculars', '0.05075'),\n",
       "  ('dial telephone', '0.04924')],\n",
       " '7412899983.jpg': [('gown', '0.82874'),\n",
       "  ('overskirt', '0.06826'),\n",
       "  ('pajama', '0.04114'),\n",
       "  ('lab coat', '0.01675'),\n",
       "  ('hoopskirt', '0.01555')],\n",
       " '8397417501.jpg': [('binder', '0.31590'),\n",
       "  ('envelope', '0.18493'),\n",
       "  ('digital clock', '0.07276'),\n",
       "  ('scoreboard', '0.04805'),\n",
       "  ('book jacket', '0.04276')],\n",
       " '6971576712.20130624112453.jpg': [('wallet', '0.36946'),\n",
       "  ('desktop computer', '0.34472'),\n",
       "  ('binder', '0.06253'),\n",
       "  ('hard disc', '0.02621'),\n",
       "  ('modem', '0.02506')],\n",
       " '8231982442.jpg': [('lab coat', '0.54424'),\n",
       "  ('gown', '0.16236'),\n",
       "  ('groom', '0.09074'),\n",
       "  ('overskirt', '0.03376'),\n",
       "  ('hoopskirt', '0.03034')],\n",
       " '7073074662.jpg': [('loudspeaker', '0.88994'),\n",
       "  ('radio', '0.00952'),\n",
       "  ('projector', '0.00921'),\n",
       "  ('reflex camera', '0.00778'),\n",
       "  ('switch', '0.00748')],\n",
       " '7860167565.jpg': [('brassiere', '0.78940'),\n",
       "  ('maillot', '0.12108'),\n",
       "  ('bikini', '0.04750'),\n",
       "  ('maillot', '0.02664'),\n",
       "  ('miniskirt', '0.01007')],\n",
       " '8285616695.jpg': [('lab coat', '0.24018'),\n",
       "  ('miniskirt', '0.11193'),\n",
       "  ('suit', '0.08398'),\n",
       "  ('bulletproof vest', '0.05915'),\n",
       "  ('gown', '0.04679')],\n",
       " '8223156370.jpg': [('jean', '0.41966'),\n",
       "  ('swimming trunks', '0.18384'),\n",
       "  ('suit', '0.09811'),\n",
       "  ('velvet', '0.04249'),\n",
       "  ('knee pad', '0.04156')],\n",
       " '7588014330.jpg': [('bow tie', '0.12446'),\n",
       "  ('kimono', '0.08193'),\n",
       "  ('mask', '0.04053'),\n",
       "  ('velvet', '0.03950'),\n",
       "  ('pinwheel', '0.03115')],\n",
       " '7973354493.jpg': [('dumbbell', '0.18584'),\n",
       "  ('horizontal bar', '0.16436'),\n",
       "  ('punching bag', '0.13462'),\n",
       "  ('plunger', '0.06702'),\n",
       "  ('parallel bars', '0.06265')],\n",
       " '8271342699.jpg': [('bobsled', '0.21212'),\n",
       "  ('snowmobile', '0.14154'),\n",
       "  ('ski', '0.07547'),\n",
       "  ('comic book', '0.03517'),\n",
       "  ('American lobster', '0.03384')],\n",
       " '8267013946.jpg': [('safety pin', '0.45216'),\n",
       "  ('stethoscope', '0.16714'),\n",
       "  ('scale', '0.08308'),\n",
       "  ('bow', '0.05285'),\n",
       "  ('hook', '0.03575')],\n",
       " '6738335700.20130123162243.jpg': [('puck', '0.23463'),\n",
       "  ('bobsled', '0.12909'),\n",
       "  ('power drill', '0.08581'),\n",
       "  ('stopwatch', '0.05438'),\n",
       "  ('pick', '0.04448')],\n",
       " '8350063889.jpg': [('spotlight', '0.29752'),\n",
       "  ('crash helmet', '0.23718'),\n",
       "  ('knee pad', '0.05488'),\n",
       "  ('microphone', '0.03973'),\n",
       "  ('buckle', '0.03580')],\n",
       " '8266285898.jpg': [('magnetic compass', '0.38074'),\n",
       "  ('digital watch', '0.26038'),\n",
       "  ('stopwatch', '0.18764'),\n",
       "  ('analog clock', '0.04607'),\n",
       "  ('barometer', '0.02350')],\n",
       " '7846635378.jpg': [('maillot', '0.28416'),\n",
       "  ('bikini', '0.20073'),\n",
       "  ('maillot', '0.16987'),\n",
       "  ('bathing cap', '0.08350'),\n",
       "  ('volleyball', '0.04981')],\n",
       " '8225762774.jpg': [('lotion', '0.24825'),\n",
       "  ('sunscreen', '0.23547'),\n",
       "  ('analog clock', '0.07776'),\n",
       "  ('safe', '0.04776'),\n",
       "  ('switch', '0.03883')],\n",
       " '8270465934.jpg': [('water bottle', '0.17646'),\n",
       "  ('ballpoint', '0.13645'),\n",
       "  ('syringe', '0.05852'),\n",
       "  ('screwdriver', '0.04822'),\n",
       "  ('modem', '0.04710')],\n",
       " '8283763070.jpg': [('web site', '0.20276'),\n",
       "  ('comic book', '0.13673'),\n",
       "  ('monitor', '0.06084'),\n",
       "  ('screen', '0.04257'),\n",
       "  ('shower curtain', '0.03662')],\n",
       " '8266623198.jpg': [('sunscreen', '0.62379'),\n",
       "  ('lotion', '0.23772'),\n",
       "  ('pill bottle', '0.01943'),\n",
       "  ('hair spray', '0.01939'),\n",
       "  ('packet', '0.01931')],\n",
       " '8250076511.jpg': [('lab coat', '0.11639'),\n",
       "  ('envelope', '0.08883'),\n",
       "  ('bath towel', '0.06207'),\n",
       "  ('switch', '0.05887'),\n",
       "  ('sweatshirt', '0.04209')],\n",
       " '7303102125.jpg': [('wallet', '0.13475'),\n",
       "  ('binder', '0.04384'),\n",
       "  ('jean', '0.03512'),\n",
       "  ('book jacket', '0.03079'),\n",
       "  ('buckle', '0.02953')],\n",
       " '7019053392.jpg': [('Windsor tie', '0.26293'),\n",
       "  ('syringe', '0.06329'),\n",
       "  ('Band Aid', '0.05510'),\n",
       "  ('barbershop', '0.04798'),\n",
       "  ('sock', '0.04305')],\n",
       " '8236904908.jpg': [('swimming trunks', '0.44467'),\n",
       "  ('jean', '0.32494'),\n",
       "  ('miniskirt', '0.09212'),\n",
       "  ('velvet', '0.03463'),\n",
       "  ('sarong', '0.01496')],\n",
       " '8261406688.jpg': [('binder', '0.11374'),\n",
       "  ('iPod', '0.10854'),\n",
       "  ('wallet', '0.06331'),\n",
       "  ('cellular telephone', '0.05472'),\n",
       "  ('screen', '0.04043')],\n",
       " '8259839375.jpg': [('stove', '0.41807'),\n",
       "  ('plate rack', '0.04272'),\n",
       "  ('paper towel', '0.02471'),\n",
       "  ('hook', '0.01958'),\n",
       "  ('combination lock', '0.01939')],\n",
       " '8246406004.jpg': [('radio', '0.41569'),\n",
       "  ('microphone', '0.20280'),\n",
       "  ('modem', '0.05404'),\n",
       "  ('loudspeaker', '0.04499'),\n",
       "  ('monitor', '0.01838')],\n",
       " '8321783274.jpg': [('cellular telephone', '0.43509'),\n",
       "  ('hand-held computer', '0.34797'),\n",
       "  ('remote control', '0.05320'),\n",
       "  ('iPod', '0.04824'),\n",
       "  ('modem', '0.02499')],\n",
       " '8265538876.jpg': [('gas pump', '0.35223'),\n",
       "  ('scoreboard', '0.06204'),\n",
       "  ('cash machine', '0.06070'),\n",
       "  ('cab', '0.04728'),\n",
       "  ('slot', '0.03541')],\n",
       " '8312860081.jpg': [('gown', '0.57427'),\n",
       "  ('pajama', '0.34583'),\n",
       "  ('sarong', '0.01684'),\n",
       "  ('velvet', '0.01661'),\n",
       "  ('jean', '0.01375')],\n",
       " '6777788645.1.jpg': [('envelope', '0.84162'),\n",
       "  ('web site', '0.03429'),\n",
       "  ('lotion', '0.02263'),\n",
       "  ('binder', '0.02033'),\n",
       "  ('sunscreen', '0.01481')],\n",
       " '8065833507.jpg': [('brassiere', '0.91791'),\n",
       "  ('maillot', '0.05105'),\n",
       "  ('maillot', '0.02582'),\n",
       "  ('bow tie', '0.00268'),\n",
       "  ('bikini', '0.00124')],\n",
       " '6478873554.20120619115710.jpg': [('modem', '0.39751'),\n",
       "  ('notebook', '0.31567'),\n",
       "  ('scale', '0.04484'),\n",
       "  ('laptop', '0.03537'),\n",
       "  ('radio', '0.03466')],\n",
       " '8365739721.jpg': [('cellular telephone', '0.25631'),\n",
       "  ('car mirror', '0.05698'),\n",
       "  ('sports car', '0.04845'),\n",
       "  ('vacuum', '0.04785'),\n",
       "  ('minivan', '0.04527')],\n",
       " '8001959913.jpg': [('plate rack', '0.48478'),\n",
       "  ('chime', '0.04182'),\n",
       "  ('nail', '0.02940'),\n",
       "  ('microphone', '0.02786'),\n",
       "  ('pedestal', '0.02740')],\n",
       " '7971936367.jpg': [('sarong', '0.22431'),\n",
       "  ('stole', '0.21983'),\n",
       "  ('abaya', '0.11448'),\n",
       "  ('velvet', '0.07058'),\n",
       "  ('jean', '0.03671')],\n",
       " '8238946014.jpg': [('brassiere', '0.95078'),\n",
       "  ('bikini', '0.02500'),\n",
       "  ('maillot', '0.01189'),\n",
       "  ('maillot', '0.00844'),\n",
       "  ('diaper', '0.00139')],\n",
       " '8087340647.jpg': [('stole', '0.16397'),\n",
       "  ('poncho', '0.14720'),\n",
       "  ('gown', '0.11975'),\n",
       "  ('overskirt', '0.10058'),\n",
       "  ('velvet', '0.07704')],\n",
       " '7958407207.jpg': [('desktop computer', '0.13949'),\n",
       "  ('iPod', '0.11735'),\n",
       "  ('monitor', '0.11600'),\n",
       "  ('screen', '0.09769'),\n",
       "  ('joystick', '0.07479')],\n",
       " '6277840773.1.jpg': [('brassiere', '0.41218'),\n",
       "  ('diaper', '0.22513'),\n",
       "  ('apron', '0.03494'),\n",
       "  ('mailbag', '0.02435'),\n",
       "  ('sarong', '0.02144')],\n",
       " '8301317280.jpg': [('suit', '0.61336'),\n",
       "  ('academic gown', '0.24184'),\n",
       "  ('Windsor tie', '0.02753'),\n",
       "  ('wool', '0.02730'),\n",
       "  ('trench coat', '0.01949')],\n",
       " '7845504322.4.jpg': [('pajama', '0.36139'),\n",
       "  ('diaper', '0.28566'),\n",
       "  ('gown', '0.08963'),\n",
       "  ('apron', '0.03430'),\n",
       "  ('groom', '0.03030')],\n",
       " '8323243191.jpg': [('sweatshirt', '0.53881'),\n",
       "  ('cardigan', '0.19304'),\n",
       "  ('wool', '0.13686'),\n",
       "  ('jersey', '0.05253'),\n",
       "  ('pajama', '0.03233')],\n",
       " '8275145860.1.jpg': [('bulletproof vest', '0.54787'),\n",
       "  ('backpack', '0.26826'),\n",
       "  ('mailbag', '0.07129'),\n",
       "  ('sweatshirt', '0.07103'),\n",
       "  ('trench coat', '0.01617')],\n",
       " '7976848799.jpg': [('velvet', '0.28191'),\n",
       "  ('apron', '0.06665'),\n",
       "  ('cardigan', '0.06197'),\n",
       "  ('bulletproof vest', '0.04495'),\n",
       "  ('sweatshirt', '0.04340')],\n",
       " '8259839360.jpg': [('stove', '0.40736'),\n",
       "  ('plate rack', '0.05137'),\n",
       "  ('paper towel', '0.03009'),\n",
       "  ('hook', '0.02454'),\n",
       "  ('combination lock', '0.01941')],\n",
       " '8280746517.jpg': [('loudspeaker', '0.21235'),\n",
       "  ('binder', '0.11471'),\n",
       "  ('wallet', '0.09353'),\n",
       "  ('notebook', '0.03569'),\n",
       "  ('digital clock', '0.03272')],\n",
       " '8003991971.jpg': [('hand-held computer', '0.45561'),\n",
       "  ('cellular telephone', '0.27422'),\n",
       "  ('iPod', '0.03372'),\n",
       "  ('remote control', '0.02978'),\n",
       "  ('cash machine', '0.02561')],\n",
       " '6835363121.jpg': [('remote control', '0.18498'),\n",
       "  ('hand-held computer', '0.09551'),\n",
       "  ('cassette player', '0.06536'),\n",
       "  ('CD player', '0.06150'),\n",
       "  ('cellular telephone', '0.05953')],\n",
       " '8219262468.jpg': [('lab coat', '0.39677'),\n",
       "  ('sweatshirt', '0.13308'),\n",
       "  ('apron', '0.13232'),\n",
       "  ('miniskirt', '0.05957'),\n",
       "  ('pajama', '0.04892')],\n",
       " '8178527955.jpg': [('toaster', '0.19237'),\n",
       "  ('washer', '0.14178'),\n",
       "  ('space heater', '0.08999'),\n",
       "  ('paper towel', '0.08270'),\n",
       "  ('can opener', '0.06679')],\n",
       " '8214162696.jpg': [('suit', '0.65677'),\n",
       "  ('Windsor tie', '0.14226'),\n",
       "  ('cardigan', '0.10888'),\n",
       "  ('wool', '0.03832'),\n",
       "  ('sweatshirt', '0.01045')],\n",
       " '8254705304.jpg': [('pick', '0.14416'),\n",
       "  ('knee pad', '0.10104'),\n",
       "  ('microphone', '0.09160'),\n",
       "  ('loudspeaker', '0.05887'),\n",
       "  ('spatula', '0.04951')],\n",
       " '8105106600.jpg': [('cardigan', '0.38698'),\n",
       "  ('wool', '0.28640'),\n",
       "  ('suit', '0.10030'),\n",
       "  ('stole', '0.02729'),\n",
       "  ('jean', '0.02352')],\n",
       " '7861812010.jpg': [('cassette', '0.28773'),\n",
       "  ('cash machine', '0.07036'),\n",
       "  ('harmonica', '0.06463'),\n",
       "  ('Band Aid', '0.05983'),\n",
       "  ('web site', '0.05063')],\n",
       " '7565032325.jpg': [('sweatshirt', '0.60619'),\n",
       "  ('abaya', '0.10915'),\n",
       "  ('suit', '0.08622'),\n",
       "  ('trench coat', '0.03771'),\n",
       "  ('jersey', '0.03319')],\n",
       " '8293420505.jpg': [('lighter', '0.21329'),\n",
       "  ('vending machine', '0.09991'),\n",
       "  ('slot', '0.06468'),\n",
       "  ('pencil sharpener', '0.03810'),\n",
       "  ('medicine chest', '0.03404')],\n",
       " '2028728941_0_600.jpg': [('suit', '0.65751'),\n",
       "  ('trench coat', '0.08676'),\n",
       "  ('jean', '0.06867'),\n",
       "  ('Windsor tie', '0.06110'),\n",
       "  ('bow tie', '0.03990')],\n",
       " '7253768316.jpg': [('rule', '0.44096'),\n",
       "  ('harmonica', '0.38340'),\n",
       "  ('modem', '0.03796'),\n",
       "  ('lighter', '0.03183'),\n",
       "  ('cassette', '0.02268')],\n",
       " '8274684936.jpg': [('joystick', '0.99776'),\n",
       "  ('binoculars', '0.00107'),\n",
       "  ('remote control', '0.00037'),\n",
       "  ('loudspeaker', '0.00020'),\n",
       "  ('radio', '0.00016')],\n",
       " '8274702425.jpg': [('web site', '0.14231'),\n",
       "  ('oscilloscope', '0.14101'),\n",
       "  ('cassette', '0.10933'),\n",
       "  ('tape player', '0.06278'),\n",
       "  ('hand-held computer', '0.05840')],\n",
       " '7298103008.jpg': [('envelope', '0.11051'),\n",
       "  ('packet', '0.10336'),\n",
       "  ('vending machine', '0.07383'),\n",
       "  ('Band Aid', '0.06642'),\n",
       "  ('carton', '0.05064')],\n",
       " '8278611688.jpg': [('screw', '0.69224'),\n",
       "  ('coil', '0.07176'),\n",
       "  ('corkscrew', '0.05005'),\n",
       "  ('spotlight', '0.04184'),\n",
       "  ('torch', '0.02383')],\n",
       " '8270137187.jpg': [('reflex camera', '0.99878'),\n",
       "  ('lens cap', '0.00082'),\n",
       "  ('binoculars', '0.00026'),\n",
       "  ('gasmask', '0.00004'),\n",
       "  ('Polaroid camera', '0.00002')],\n",
       " '8175436199.jpg': [('hatchet', '0.11467'),\n",
       "  ('jean', '0.10382'),\n",
       "  ('cleaver', '0.06252'),\n",
       "  ('hammer', '0.05210'),\n",
       "  ('can opener', '0.03949')],\n",
       " '8261412091.jpg': [('modem', '0.10280'),\n",
       "  ('radio', '0.09417'),\n",
       "  ('harmonica', '0.05706'),\n",
       "  ('lighter', '0.05449'),\n",
       "  ('ballpoint', '0.05351')],\n",
       " '1100132448.20120211172926.jpg': [('CD player', '0.18362'),\n",
       "  ('mouse', '0.09827'),\n",
       "  ('face powder', '0.06679'),\n",
       "  ('Crock Pot', '0.05405'),\n",
       "  ('soap dispenser', '0.03794')],\n",
       " '8277620264.jpg': [('waffle iron', '0.10961'),\n",
       "  ('switch', '0.09072'),\n",
       "  ('cassette', '0.07347'),\n",
       "  ('printer', '0.05635'),\n",
       "  ('cassette player', '0.04907')],\n",
       " '7306382664.jpg': [('scoreboard', '0.32168'),\n",
       "  ('container ship', '0.27171'),\n",
       "  ('binder', '0.06692'),\n",
       "  ('oscilloscope', '0.05388'),\n",
       "  ('modem', '0.03457')],\n",
       " '8368291712.jpg': [('pencil box', '0.58779'),\n",
       "  ('wallet', '0.12213'),\n",
       "  ('doormat', '0.03047'),\n",
       "  ('tray', '0.02193'),\n",
       "  ('envelope', '0.01445')],\n",
       " '8241255923.jpg': [('notebook', '0.41721'),\n",
       "  ('desktop computer', '0.17676'),\n",
       "  ('computer keyboard', '0.07632'),\n",
       "  ('laptop', '0.07265'),\n",
       "  ('mouse', '0.05497')],\n",
       " '8270200894.jpg': [('envelope', '0.29889'),\n",
       "  ('packet', '0.26188'),\n",
       "  ('carton', '0.06223'),\n",
       "  ('Band Aid', '0.06112'),\n",
       "  ('book jacket', '0.04406')],\n",
       " '6505821362.1.jpg': [('modem', '0.17644'),\n",
       "  ('screen', '0.16106'),\n",
       "  ('monitor', '0.13565'),\n",
       "  ('notebook', '0.09182'),\n",
       "  ('television', '0.06386')],\n",
       " '7473769466.1.jpg': [('velvet', '0.26832'),\n",
       "  ('cloak', '0.17440'),\n",
       "  ('poncho', '0.08893'),\n",
       "  ('stole', '0.07710'),\n",
       "  ('cardigan', '0.07539')],\n",
       " '8206561674.jpg': [('backpack', '0.30904'),\n",
       "  ('sleeping bag', '0.12772'),\n",
       "  ('bulletproof vest', '0.08449'),\n",
       "  ('ski mask', '0.04059'),\n",
       "  ('sweatshirt', '0.03903')],\n",
       " '8106485064.jpg': [('ballpoint', '0.29690'),\n",
       "  ('syringe', '0.26101'),\n",
       "  ('screwdriver', '0.03740'),\n",
       "  ('swab', '0.03545'),\n",
       "  ('water bottle', '0.03103')],\n",
       " '8136523834.jpg': [('wool', '0.34931'),\n",
       "  ('trench coat', '0.15910'),\n",
       "  ('cardigan', '0.15682'),\n",
       "  ('suit', '0.13059'),\n",
       "  ('fur coat', '0.09117')],\n",
       " '8355272081.jpg': [('pajama', '0.34982'),\n",
       "  ('sarong', '0.22119'),\n",
       "  ('shower curtain', '0.21277'),\n",
       "  ('apron', '0.19454'),\n",
       "  ('swimming trunks', '0.00569')],\n",
       " '8351196291.jpg': [('desktop computer', '0.11520'),\n",
       "  ('screen', '0.07741'),\n",
       "  ('web site', '0.07106'),\n",
       "  ('desk', '0.06648'),\n",
       "  ('snorkel', '0.03466')],\n",
       " '8283407611.jpg': [('hammer', '0.29719'),\n",
       "  ('fountain pen', '0.09490'),\n",
       "  ('hatchet', '0.05256'),\n",
       "  ('spatula', '0.05110'),\n",
       "  ('can opener', '0.03313')],\n",
       " '7714028445.20140529122325.jpg': [('loudspeaker', '0.22688'),\n",
       "  ('cellular telephone', '0.10304'),\n",
       "  ('modem', '0.06098'),\n",
       "  ('desktop computer', '0.04870'),\n",
       "  ('hard disc', '0.04476')],\n",
       " '5444693771.20130311182247.jpg': [('reflex camera', '0.98542'),\n",
       "  ('loudspeaker', '0.01030'),\n",
       "  ('lens cap', '0.00105'),\n",
       "  ('gasmask', '0.00102'),\n",
       "  ('joystick', '0.00036')],\n",
       " '8370171226.jpg': [('CD player', '0.11713'),\n",
       "  ('racer', '0.10546'),\n",
       "  ('mouse', '0.08759'),\n",
       "  ('ballpoint', '0.03216'),\n",
       "  ('Polaroid camera', '0.03123')],\n",
       " '8266272177.jpg': [('modem', '0.13863'),\n",
       "  ('cassette', '0.11334'),\n",
       "  ('switch', '0.08218'),\n",
       "  ('radio', '0.07857'),\n",
       "  ('cassette player', '0.05234')],\n",
       " '8282839489.jpg': [('digital clock', '0.69218'),\n",
       "  ('modem', '0.12864'),\n",
       "  ('switch', '0.07143'),\n",
       "  ('CD player', '0.03836'),\n",
       "  ('radio', '0.02314')],\n",
       " '7206169670.jpg': [('quill', '0.72086'),\n",
       "  ('pick', '0.02778'),\n",
       "  ('ice lolly', '0.02412'),\n",
       "  ('matchstick', '0.02395'),\n",
       "  ('red wine', '0.01785')],\n",
       " '8241807809.jpg': [('rubber eraser', '0.17612'),\n",
       "  ('binder', '0.16168'),\n",
       "  ('packet', '0.10092'),\n",
       "  ('web site', '0.07260'),\n",
       "  ('book jacket', '0.04818')],\n",
       " '8281773961.jpg': [('screw', '0.63500'),\n",
       "  ('hook', '0.06361'),\n",
       "  ('corkscrew', '0.03552'),\n",
       "  ('whistle', '0.02579'),\n",
       "  ('nail', '0.02558')],\n",
       " '7966151018.jpg': [('racket', '0.23837'),\n",
       "  ('crash helmet', '0.08022'),\n",
       "  ('racer', '0.07020'),\n",
       "  ('running shoe', '0.06232'),\n",
       "  ('pencil box', '0.05519')],\n",
       " '6575804724.1.jpg': [('desktop computer', '0.25280'),\n",
       "  ('modem', '0.10964'),\n",
       "  ('sunscreen', '0.08678'),\n",
       "  ('remote control', '0.06834'),\n",
       "  ('hand-held computer', '0.06505')],\n",
       " '8302981289.jpg': [('jersey', '0.44040'),\n",
       "  ('sweatshirt', '0.06951'),\n",
       "  ('bulletproof vest', '0.05747'),\n",
       "  ('wool', '0.05580'),\n",
       "  ('stole', '0.04479')],\n",
       " '8241450469.jpg': [(\"carpenter's kit\", '0.32386'),\n",
       "  ('comic book', '0.12436'),\n",
       "  ('packet', '0.07479'),\n",
       "  ('cassette', '0.05092'),\n",
       "  ('book jacket', '0.04880')],\n",
       " '8218068515.jpg': [('suit', '0.23470'),\n",
       "  ('trench coat', '0.06862'),\n",
       "  ('crutch', '0.04695'),\n",
       "  ('bow tie', '0.04214'),\n",
       "  ('groom', '0.04165')],\n",
       " '8185380692.jpg': [('swimming trunks', '0.22708'),\n",
       "  ('diaper', '0.04878'),\n",
       "  ('cash machine', '0.03407'),\n",
       "  ('maillot', '0.03374'),\n",
       "  ('brassiere', '0.02560')],\n",
       " '4146170745.20120211164319.jpg': [('loudspeaker', '0.07646'),\n",
       "  ('pencil sharpener', '0.07096'),\n",
       "  ('monitor', '0.05940'),\n",
       "  ('buckle', '0.05273'),\n",
       "  ('binoculars', '0.04343')],\n",
       " '8207088497.2.jpg': [('jersey', '0.48066'),\n",
       "  ('sarong', '0.12429'),\n",
       "  ('apron', '0.09779'),\n",
       "  ('bulletproof vest', '0.06348'),\n",
       "  ('sweatshirt', '0.04834')],\n",
       " '8217449778.jpg': [('mortarboard', '0.27873'),\n",
       "  ('jersey', '0.21321'),\n",
       "  ('apron', '0.07954'),\n",
       "  ('sweatshirt', '0.07915'),\n",
       "  ('swimming trunks', '0.07912')],\n",
       " '8283724873.jpg': [('beaker', '0.22629'),\n",
       "  ('photocopier', '0.14244'),\n",
       "  ('water jug', '0.07645'),\n",
       "  ('printer', '0.03932'),\n",
       "  ('lotion', '0.03251')],\n",
       " '8266391227.jpg': [('handkerchief', '0.25726'),\n",
       "  ('shower cap', '0.13026'),\n",
       "  ('sleeping bag', '0.10030'),\n",
       "  ('quilt', '0.09155'),\n",
       "  ('bib', '0.08909')],\n",
       " '7365038506.jpg': [('stole', '0.26868'),\n",
       "  ('cardigan', '0.24225'),\n",
       "  ('sarong', '0.20984'),\n",
       "  ('apron', '0.06206'),\n",
       "  ('gown', '0.03257')],\n",
       " '8132446394.jpg': [('Windsor tie', '0.22333'),\n",
       "  ('pajama', '0.18040'),\n",
       "  ('chain mail', '0.16115'),\n",
       "  ('stole', '0.12255'),\n",
       "  ('abaya', '0.04225')],\n",
       " '8276934262.jpg': [('loupe', '0.25550'),\n",
       "  ('snorkel', '0.09395'),\n",
       "  ('oxygen mask', '0.08392'),\n",
       "  ('hair slide', '0.07359'),\n",
       "  ('stethoscope', '0.05237')],\n",
       " '8293085888.jpg': [('swimming trunks', '0.42618'),\n",
       "  ('miniskirt', '0.37438'),\n",
       "  ('knee pad', '0.03282'),\n",
       "  ('apron', '0.03246'),\n",
       "  ('stole', '0.02457')],\n",
       " '8283667953.jpg': [('radio', '0.06722'),\n",
       "  ('stove', '0.06504'),\n",
       "  ('switch', '0.05389'),\n",
       "  ('space heater', '0.04436'),\n",
       "  ('projector', '0.04396')],\n",
       " '2027374918_0_600.jpg': [('abaya', '0.11264'),\n",
       "  ('fur coat', '0.09921'),\n",
       "  ('triumphal arch', '0.05684'),\n",
       "  ('monastery', '0.04624'),\n",
       "  ('prison', '0.03902')],\n",
       " '8316692553.jpg': [('matchstick', '0.05501'),\n",
       "  ('paintbrush', '0.04445'),\n",
       "  ('pencil sharpener', '0.03740'),\n",
       "  ('quill', '0.03166'),\n",
       "  ('switch', '0.03138')],\n",
       " '8267047120.jpg': [('suit', '0.28900'),\n",
       "  ('bulletproof vest', '0.10541'),\n",
       "  ('Windsor tie', '0.08299'),\n",
       "  ('wool', '0.07430'),\n",
       "  ('stole', '0.06972')],\n",
       " '8437244237.jpg': [('jersey', '0.96528'),\n",
       "  ('sweatshirt', '0.01622'),\n",
       "  ('lab coat', '0.00539'),\n",
       "  ('plastic bag', '0.00302'),\n",
       "  ('can opener', '0.00262')],\n",
       " '4037940552.20120211182616.jpg': [('rule', '0.45391'),\n",
       "  ('wallet', '0.09974'),\n",
       "  ('hard disc', '0.06345'),\n",
       "  ('shopping basket', '0.05826'),\n",
       "  ('pencil box', '0.04713')],\n",
       " '8267151902.jpg': [('bolo tie', '0.92996'),\n",
       "  ('gong', '0.01444'),\n",
       "  ('loupe', '0.00870'),\n",
       "  ('hook', '0.00825'),\n",
       "  ('whistle', '0.00583')],\n",
       " '8327865744.jpg': [('Band Aid', '0.23786'),\n",
       "  ('sunscreen', '0.06413'),\n",
       "  ('oil filter', '0.04935'),\n",
       "  ('packet', '0.04454'),\n",
       "  ('binder', '0.03477')],\n",
       " '6681567716.1.jpg': [('web site', '0.24376'),\n",
       "  ('scale', '0.16263'),\n",
       "  ('notebook', '0.13692'),\n",
       "  ('modem', '0.08383'),\n",
       "  ('envelope', '0.05740')],\n",
       " '8269408830.jpg': [('space bar', '0.37224'),\n",
       "  ('typewriter keyboard', '0.23330'),\n",
       "  ('waffle iron', '0.22343'),\n",
       "  (\"carpenter's kit\", '0.05817'),\n",
       "  ('dishwasher', '0.01426')],\n",
       " '7648279860.jpg': [('microphone', '0.48785'),\n",
       "  ('hook', '0.13046'),\n",
       "  ('combination lock', '0.04823'),\n",
       "  ('radio', '0.03680'),\n",
       "  ('mouse', '0.03084')],\n",
       " '7854466839.jpg': [('jean', '0.12798'),\n",
       "  ('cleaver', '0.12659'),\n",
       "  ('hatchet', '0.07199'),\n",
       "  ('scabbard', '0.05820'),\n",
       "  ('quill', '0.05015')],\n",
       " '8252623610.jpg': [('jersey', '0.91649'),\n",
       "  ('sweatshirt', '0.04622'),\n",
       "  ('velvet', '0.00960'),\n",
       "  ('pajama', '0.00664'),\n",
       "  ('sleeping bag', '0.00322')],\n",
       " '8255880091.20150129130808.jpg': [('pajama', '0.24886'),\n",
       "  ('vestment', '0.15192'),\n",
       "  ('lampshade', '0.13520'),\n",
       "  ('kimono', '0.13301'),\n",
       "  ('apron', '0.06426')],\n",
       " '8312270142.jpg': [('bathing cap', '0.17276'),\n",
       "  ('maillot', '0.10853'),\n",
       "  ('dumbbell', '0.09537'),\n",
       "  ('maillot', '0.07348'),\n",
       "  ('jersey', '0.05925')],\n",
       " '8394597325.jpg': [('packet', '0.13038'),\n",
       "  ('pencil box', '0.11566'),\n",
       "  ('wallet', '0.09181'),\n",
       "  ('binder', '0.07421'),\n",
       "  ('envelope', '0.06267')],\n",
       " '8282097156.jpg': [('reflex camera', '0.28761'),\n",
       "  ('projector', '0.15270'),\n",
       "  ('washer', '0.14316'),\n",
       "  ('switch', '0.10491'),\n",
       "  ('loudspeaker', '0.10396')],\n",
       " '7937813415.jpg': [('suit', '0.29546'),\n",
       "  ('Windsor tie', '0.28973'),\n",
       "  ('bulletproof vest', '0.28150'),\n",
       "  ('wool', '0.02786'),\n",
       "  ('bow tie', '0.02718')],\n",
       " '6859455634.20130424170805.jpg': [('hard disc', '0.43400'),\n",
       "  ('remote control', '0.15164'),\n",
       "  ('digital clock', '0.07051'),\n",
       "  ('gas pump', '0.05984'),\n",
       "  ('packet', '0.05327')],\n",
       " '8277914974.jpg': [('oil filter', '0.13015'),\n",
       "  ('gas pump', '0.09394'),\n",
       "  ('can opener', '0.04984'),\n",
       "  ('Band Aid', '0.04184'),\n",
       "  ('packet', '0.04138')],\n",
       " '7927946417.jpg': [('binder', '0.28078'),\n",
       "  ('shopping basket', '0.15922'),\n",
       "  ('wallet', '0.14500'),\n",
       "  ('packet', '0.07605'),\n",
       "  ('perfume', '0.03256')],\n",
       " '7985549193.jpg': [('maillot', '0.28778'),\n",
       "  ('gown', '0.16568'),\n",
       "  ('stole', '0.15605'),\n",
       "  ('sarong', '0.08842'),\n",
       "  ('velvet', '0.06214')],\n",
       " '8252170530.jpg': [('sweatshirt', '0.64922'),\n",
       "  ('jersey', '0.19060'),\n",
       "  ('bulletproof vest', '0.01983'),\n",
       "  ('backpack', '0.01982'),\n",
       "  ('pajama', '0.01147')],\n",
       " '8279973257.jpg': [('web site', '0.47477'),\n",
       "  ('cassette', '0.07534'),\n",
       "  ('scoreboard', '0.07314'),\n",
       "  ('cash machine', '0.03042'),\n",
       "  ('book jacket', '0.02718')],\n",
       " '8260081912.20150131022600.jpg': [('swimming trunks', '0.57218'),\n",
       "  ('purse', '0.05982'),\n",
       "  ('miniskirt', '0.04673'),\n",
       "  ('brassiere', '0.03403'),\n",
       "  ('sunglasses', '0.03096')],\n",
       " '7979206223.jpg': [('jean', '0.20614'),\n",
       "  ('miniskirt', '0.11181'),\n",
       "  ('stole', '0.07714'),\n",
       "  ('suit', '0.05935'),\n",
       "  ('maillot', '0.05592')],\n",
       " '6174145654.20120719140404.jpg': [('electric fan', '0.77869'),\n",
       "  ('waffle iron', '0.06676'),\n",
       "  ('magnetic compass', '0.06614'),\n",
       "  ('gong', '0.01790'),\n",
       "  ('space heater', '0.01415')],\n",
       " '8286512883.jpg': [('maillot', '0.42223'),\n",
       "  ('brassiere', '0.28014'),\n",
       "  ('maillot', '0.07506'),\n",
       "  ('dumbbell', '0.03522'),\n",
       "  ('balance beam', '0.03237')],\n",
       " '8048782997.jpg': [('bulletproof vest', '0.31669'),\n",
       "  ('sweatshirt', '0.16582'),\n",
       "  ('wool', '0.16526'),\n",
       "  ('cardigan', '0.12109'),\n",
       "  ('suit', '0.08226')],\n",
       " '8299004662.jpg': [('suit', '0.37344'),\n",
       "  ('holster', '0.14256'),\n",
       "  ('bulletproof vest', '0.12871'),\n",
       "  ('mailbag', '0.09149'),\n",
       "  ('trench coat', '0.05392')],\n",
       " '7885479753.jpg': [('trench coat', '0.82999'),\n",
       "  ('cardigan', '0.13288'),\n",
       "  ('suit', '0.02795'),\n",
       "  ('military uniform', '0.00214'),\n",
       "  ('lab coat', '0.00148')],\n",
       " '8349777919.jpg': [('jersey', '0.14898'),\n",
       "  ('dial telephone', '0.10556'),\n",
       "  ('perfume', '0.08965'),\n",
       "  ('espresso maker', '0.06351'),\n",
       "  ('lighter', '0.05323')],\n",
       " '8319409612.jpg': [('shower cap', '0.47302'),\n",
       "  ('apron', '0.10625'),\n",
       "  ('bib', '0.09481'),\n",
       "  ('handkerchief', '0.06051'),\n",
       "  ('diaper', '0.05186')],\n",
       " '8274247261.jpg': [('digital clock', '0.05946'),\n",
       "  ('lighter', '0.04629'),\n",
       "  ('binder', '0.04578'),\n",
       "  ('combination lock', '0.04216'),\n",
       "  ('cassette', '0.03784')],\n",
       " '1100167523.20120211202533.jpg': [('face powder', '0.23762'),\n",
       "  ('pill bottle', '0.08307'),\n",
       "  ('oil filter', '0.05694'),\n",
       "  ('toilet seat', '0.04890'),\n",
       "  ('soap dispenser', '0.03516')],\n",
       " '8277815461.jpg': [('packet', '0.49820'),\n",
       "  ('Band Aid', '0.24233'),\n",
       "  ('web site', '0.12028'),\n",
       "  ('sunscreen', '0.04579'),\n",
       "  ('nipple', '0.01897')],\n",
       " '7759193899.jpg': [('stethoscope', '0.49840'),\n",
       "  ('whistle', '0.15777'),\n",
       "  ('loupe', '0.08518'),\n",
       "  ('microphone', '0.06468'),\n",
       "  ('hook', '0.05538')],\n",
       " '8245964751.jpg': [('can opener', '0.23715'),\n",
       "  ('whistle', '0.08133'),\n",
       "  ('hook', '0.05441'),\n",
       "  ('lipstick', '0.03274'),\n",
       "  ('spatula', '0.02700')],\n",
       " '8264499145.jpg': [('binder', '0.27857'),\n",
       "  ('lighter', '0.13216'),\n",
       "  ('lipstick', '0.06271'),\n",
       "  ('switch', '0.05023'),\n",
       "  ('space heater', '0.03955')],\n",
       " '8049111413.jpg': [('sweatshirt', '0.43028'),\n",
       "  ('wool', '0.28376'),\n",
       "  ('velvet', '0.09405'),\n",
       "  ('cardigan', '0.08582'),\n",
       "  ('bulletproof vest', '0.02388')],\n",
       " '8252139125.jpg': [('jersey', '0.35896'),\n",
       "  ('bulletproof vest', '0.17897'),\n",
       "  ('sweatshirt', '0.10622'),\n",
       "  ('ski mask', '0.05957'),\n",
       "  ('neck brace', '0.05820')],\n",
       " '8223113939.jpg': [('lab coat', '0.09502'),\n",
       "  ('bathtub', '0.06473'),\n",
       "  ('Windsor tie', '0.05826'),\n",
       "  ('hand blower', '0.05387'),\n",
       "  ('tub', '0.05076')],\n",
       " '5413898374.jpg': [('safe', '0.16554'),\n",
       "  ('digital clock', '0.08735'),\n",
       "  ('switch', '0.08166'),\n",
       "  ('desktop computer', '0.06588'),\n",
       "  ('radio', '0.05124')],\n",
       " '7949354819.jpg': [('Windsor tie', '0.71393'),\n",
       "  ('pencil box', '0.11701'),\n",
       "  ('sleeping bag', '0.03380'),\n",
       "  ('Band Aid', '0.02665'),\n",
       "  ('mitten', '0.01664')],\n",
       " '8273684357.jpg': [('notebook', '0.34235'),\n",
       "  ('desktop computer', '0.15067'),\n",
       "  ('laptop', '0.09314'),\n",
       "  ('screen', '0.05507'),\n",
       "  ('modem', '0.04180')],\n",
       " '8201627148.jpg': [('trench coat', '0.44918'),\n",
       "  ('sweatshirt', '0.15274'),\n",
       "  ('velvet', '0.08612'),\n",
       "  ('stole', '0.07505'),\n",
       "  ('wool', '0.04382')],\n",
       " '7626521507.1.jpg': [('suit', '0.66876'),\n",
       "  ('trench coat', '0.27193'),\n",
       "  ('cardigan', '0.01830'),\n",
       "  ('wool', '0.01743'),\n",
       "  ('bulletproof vest', '0.00663')],\n",
       " '8273249945.jpg': [('printer', '0.34217'),\n",
       "  ('desktop computer', '0.10374'),\n",
       "  ('radio', '0.08488'),\n",
       "  ('CD player', '0.06935'),\n",
       "  ('safe', '0.06341')],\n",
       " '8225818020.1.jpg': [('espresso maker', '0.29813'),\n",
       "  ('coffeepot', '0.09165'),\n",
       "  ('joystick', '0.08573'),\n",
       "  ('loupe', '0.07571'),\n",
       "  ('lens cap', '0.06245')],\n",
       " '8112122179.jpg': [('remote control', '0.18791'),\n",
       "  ('power drill', '0.14186'),\n",
       "  ('hand blower', '0.07182'),\n",
       "  ('radio', '0.06799'),\n",
       "  ('joystick', '0.06693')],\n",
       " '1100157805.20120211200001.jpg': [('CD player', '0.32873'),\n",
       "  ('scale', '0.15347'),\n",
       "  ('gasmask', '0.14540'),\n",
       "  ('washer', '0.04613'),\n",
       "  ('oxygen mask', '0.03898')],\n",
       " '7845252140.jpg': [('bulletproof vest', '0.62840'),\n",
       "  ('cuirass', '0.03709'),\n",
       "  ('breastplate', '0.03254'),\n",
       "  ('mailbag', '0.02738'),\n",
       "  ('jersey', '0.02351')],\n",
       " '7828546444.jpg': [('modem', '0.49197'),\n",
       "  ('soap dispenser', '0.03835'),\n",
       "  ('notebook', '0.03196'),\n",
       "  ('ballpoint', '0.02678'),\n",
       "  ('paper towel', '0.02289')],\n",
       " '8279991262.jpg': [('notebook', '0.86554'),\n",
       "  ('laptop', '0.06379'),\n",
       "  ('screen', '0.02561'),\n",
       "  ('computer keyboard', '0.01619'),\n",
       "  ('desktop computer', '0.00856')],\n",
       " '8275849330.jpg': [('radio', '0.20486'),\n",
       "  ('microphone', '0.17978'),\n",
       "  ('modem', '0.14980'),\n",
       "  ('hand blower', '0.08598'),\n",
       "  ('digital clock', '0.04184')],\n",
       " '6293511007.jpg': [('analog clock', '0.43922'),\n",
       "  ('stethoscope', '0.08796'),\n",
       "  ('wall clock', '0.07259'),\n",
       "  ('stopwatch', '0.05588'),\n",
       "  ('street sign', '0.04171')],\n",
       " '8267657871.jpg': [('jersey', '0.30109'),\n",
       "  ('envelope', '0.24897'),\n",
       "  ('sweatshirt', '0.13534'),\n",
       "  ('analog clock', '0.02018'),\n",
       "  ('binder', '0.01960')],\n",
       " '8344723552.jpg': [('cardigan', '0.56143'),\n",
       "  ('suit', '0.12690'),\n",
       "  ('sweatshirt', '0.11129'),\n",
       "  ('wool', '0.03627'),\n",
       "  ('jersey', '0.03564')],\n",
       " '7978927238.jpg': [('velvet', '0.21607'),\n",
       "  ('wool', '0.17670'),\n",
       "  ('sweatshirt', '0.14890'),\n",
       "  ('poncho', '0.12707'),\n",
       "  ('trench coat', '0.09721')],\n",
       " '8258871630.jpg': [('sunscreen', '0.40019'),\n",
       "  ('lotion', '0.12103'),\n",
       "  ('packet', '0.11204'),\n",
       "  ('paper towel', '0.05570'),\n",
       "  ('pill bottle', '0.04062')],\n",
       " '8258686715.jpg': [('cash machine', '0.35164'),\n",
       "  ('home theater', '0.09193'),\n",
       "  ('pay-phone', '0.07280'),\n",
       "  ('cellular telephone', '0.04702'),\n",
       "  ('iPod', '0.04350')],\n",
       " '8280332607.jpg': [('radio', '0.23327'),\n",
       "  ('Polaroid camera', '0.20588'),\n",
       "  ('loudspeaker', '0.16779'),\n",
       "  ('reflex camera', '0.15940'),\n",
       "  ('iPod', '0.03022')],\n",
       " '7292365232.20131129152236.jpg': [('loudspeaker', '0.85943'),\n",
       "  ('projector', '0.05483'),\n",
       "  ('radio', '0.02057'),\n",
       "  ('pencil sharpener', '0.01178'),\n",
       "  ('reflex camera', '0.01142')],\n",
       " '8353536166.jpg': [('digital watch', '0.12706'),\n",
       "  ('loudspeaker', '0.09197'),\n",
       "  ('washer', '0.07302'),\n",
       "  ('cellular telephone', '0.06500'),\n",
       "  ('car mirror', '0.06470')],\n",
       " '8261646851.jpg': [('envelope', '0.33030'),\n",
       "  ('hair slide', '0.28823'),\n",
       "  ('handkerchief', '0.05270'),\n",
       "  ('bib', '0.04527'),\n",
       "  ('tray', '0.04467')],\n",
       " '8284172040.jpg': [('spatula', '0.30632'),\n",
       "  ('letter opener', '0.21486'),\n",
       "  ('Band Aid', '0.10086'),\n",
       "  ('panpipe', '0.09846'),\n",
       "  ('cleaver', '0.05459')],\n",
       " '8266268940.jpg': [('corkscrew', '0.50009'),\n",
       "  ('airship', '0.05345'),\n",
       "  ('hair slide', '0.04649'),\n",
       "  ('switch', '0.04521'),\n",
       "  ('modem', '0.04416')],\n",
       " '8286686590.jpg': [('suit', '0.63236'),\n",
       "  ('bow tie', '0.14403'),\n",
       "  ('Windsor tie', '0.11131'),\n",
       "  ('academic gown', '0.01644'),\n",
       "  ('cardigan', '0.01604')],\n",
       " '8239231880.jpg': [('radiator', '0.50892'),\n",
       "  ('space heater', '0.19331'),\n",
       "  ('accordion', '0.14408'),\n",
       "  ('solar dish', '0.04306'),\n",
       "  ('oil filter', '0.03120')],\n",
       " '8081886398.jpg': [('knee pad', '0.09805'),\n",
       "  ('bulletproof vest', '0.08053'),\n",
       "  ('cowboy boot', '0.06714'),\n",
       "  ('suit', '0.06082'),\n",
       "  ('holster', '0.03918')],\n",
       " '8325721882.jpg': [('suit', '0.87186'),\n",
       "  ('trench coat', '0.07118'),\n",
       "  ('bulletproof vest', '0.02942'),\n",
       "  ('Windsor tie', '0.00749'),\n",
       "  ('military uniform', '0.00563')],\n",
       " '8334347293.jpg': [('gown', '0.71550'),\n",
       "  ('hoopskirt', '0.11252'),\n",
       "  ('sarong', '0.04982'),\n",
       "  ('apron', '0.04066'),\n",
       "  ('overskirt', '0.03881')],\n",
       " '26951139L.jpg': [('mountain tent', '0.56832'),\n",
       "  ('iron', '0.15075'),\n",
       "  ('plastic bag', '0.03889'),\n",
       "  ('backpack', '0.03095'),\n",
       "  ('hoopskirt', '0.01717')],\n",
       " '8278049830.jpg': [('packet', '0.43194'),\n",
       "  ('Band Aid', '0.29568'),\n",
       "  ('web site', '0.11311'),\n",
       "  ('sunscreen', '0.05541'),\n",
       "  ('nipple', '0.02516')],\n",
       " '7832133276.1.jpg': [('saltshaker', '0.25100'),\n",
       "  ('rubber eraser', '0.06360'),\n",
       "  ('soap dispenser', '0.05217'),\n",
       "  ('lotion', '0.05108'),\n",
       "  ('nipple', '0.04549')],\n",
       " '8274013990.jpg': [('rule', '0.38590'),\n",
       "  ('ballpoint', '0.15316'),\n",
       "  ('rubber eraser', '0.10368'),\n",
       "  ('shower curtain', '0.06126'),\n",
       "  ('candle', '0.03247')],\n",
       " '1100140322.20120211202131.jpg': [('cellular telephone', '0.16507'),\n",
       "  ('projector', '0.13409'),\n",
       "  ('waffle iron', '0.08645'),\n",
       "  ('modem', '0.07999'),\n",
       "  ('radio', '0.06366')],\n",
       " '8283423948.jpg': [('bow tie', '0.23895'),\n",
       "  ('brassiere', '0.19812'),\n",
       "  ('maillot', '0.18363'),\n",
       "  ('miniskirt', '0.12002'),\n",
       "  ('swimming trunks', '0.10953')],\n",
       " '8238263680.20150122180633.jpg': [('binder', '0.22252'),\n",
       "  ('digital clock', '0.12374'),\n",
       "  ('cassette', '0.10277'),\n",
       "  ('scoreboard', '0.09300'),\n",
       "  ('screen', '0.02995')],\n",
       " '6772685427.jpg': [('remote control', '0.89648'),\n",
       "  ('joystick', '0.05215'),\n",
       "  ('mouse', '0.00941'),\n",
       "  ('radio', '0.00897'),\n",
       "  ('cellular telephone', '0.00474')],\n",
       " '8280687695.jpg': [('stopwatch', '0.21450'),\n",
       "  ('hand-held computer', '0.17461'),\n",
       "  ('cellular telephone', '0.14370'),\n",
       "  ('remote control', '0.10015'),\n",
       "  ('magnetic compass', '0.04113')],\n",
       " '8265566096.jpg': [('remote control', '0.12572'),\n",
       "  (\"carpenter's kit\", '0.05415'),\n",
       "  ('cassette', '0.04593'),\n",
       "  ('screwdriver', '0.04514'),\n",
       "  ('combination lock', '0.04472')],\n",
       " '8310993044.jpg': [('cardigan', '0.10090'),\n",
       "  ('apron', '0.09058'),\n",
       "  ('jean', '0.08097'),\n",
       "  ('stole', '0.06967'),\n",
       "  ('sarong', '0.06705')],\n",
       " '8323243080.jpg': [('running shoe', '0.99040'),\n",
       "  ('sandal', '0.00824'),\n",
       "  ('clog', '0.00034'),\n",
       "  ('shoe shop', '0.00033'),\n",
       "  ('oxygen mask', '0.00016')],\n",
       " '8229455987.1.jpg': [('pajama', '0.28599'),\n",
       "  ('kimono', '0.17157'),\n",
       "  ('stole', '0.07468'),\n",
       "  ('miniskirt', '0.05690'),\n",
       "  ('apron', '0.04156')],\n",
       " '7731743153.jpg': [('monitor', '0.16341'),\n",
       "  ('web site', '0.13083'),\n",
       "  ('scoreboard', '0.08507'),\n",
       "  ('screen', '0.08059'),\n",
       "  ('television', '0.04817')],\n",
       " '5606964748.20120211204403.jpg': [('hard disc', '0.99335'),\n",
       "  ('magnetic compass', '0.00212'),\n",
       "  ('CD player', '0.00096'),\n",
       "  ('waffle iron', '0.00057'),\n",
       "  ('tape player', '0.00044')],\n",
       " '7993773372.jpg': [('bulletproof vest', '0.33376'),\n",
       "  ('maillot', '0.18924'),\n",
       "  ('maillot', '0.15788'),\n",
       "  ('brassiere', '0.11144'),\n",
       "  ('bib', '0.08969')],\n",
       " '12463287_L6.jpg': [('suit', '0.59805'),\n",
       "  ('mortarboard', '0.18608'),\n",
       "  ('academic gown', '0.09011'),\n",
       "  ('bow tie', '0.04800'),\n",
       "  ('groom', '0.02926')],\n",
       " '7590807630.11.jpg': [('brassiere', '0.26177'),\n",
       "  ('maillot', '0.09712'),\n",
       "  ('maillot', '0.09645'),\n",
       "  ('cardigan', '0.09393'),\n",
       "  ('apron', '0.04347')],\n",
       " '7958871488.jpg': [('web site', '0.22073'),\n",
       "  ('book jacket', '0.13969'),\n",
       "  ('comic book', '0.06899'),\n",
       "  ('hand-held computer', '0.06627'),\n",
       "  ('packet', '0.05998')],\n",
       " '8079806178.jpg': [('crutch', '0.10275'),\n",
       "  ('bathing cap', '0.09434'),\n",
       "  ('ski', '0.08675'),\n",
       "  ('stole', '0.06049'),\n",
       "  ('ski mask', '0.05994')],\n",
       " '8312235109.jpg': [('dumbbell', '0.22812'),\n",
       "  ('barbell', '0.10004'),\n",
       "  ('soap dispenser', '0.05671'),\n",
       "  ('punching bag', '0.04700'),\n",
       "  ('plunger', '0.04420')],\n",
       " '8337428437.jpg': [('bib', '0.43733'),\n",
       "  ('envelope', '0.09282'),\n",
       "  ('handkerchief', '0.03450'),\n",
       "  ('matchstick', '0.02427'),\n",
       "  ('maze', '0.01454')],\n",
       " '8102372629.jpg': [('jean', '0.35783'),\n",
       "  ('hatchet', '0.10660'),\n",
       "  ('wool', '0.10201'),\n",
       "  ('velvet', '0.08266'),\n",
       "  ('cloak', '0.07355')],\n",
       " '8205576769.jpg': [('brassiere', '0.96599'),\n",
       "  ('maillot', '0.01168'),\n",
       "  ('bikini', '0.00535'),\n",
       "  ('bow tie', '0.00469'),\n",
       "  ('maillot', '0.00305')],\n",
       " '7752298551.jpg': [('abacus', '0.16886'),\n",
       "  ('tray', '0.12450'),\n",
       "  ('packet', '0.10132'),\n",
       "  ('pizza', '0.06768'),\n",
       "  ('hotdog', '0.03034')],\n",
       " '8269242453.jpg': [('reflex camera', '0.07314'),\n",
       "  ('digital watch', '0.06981'),\n",
       "  ('lighter', '0.06164'),\n",
       "  ('combination lock', '0.04039'),\n",
       "  ('perfume', '0.03924')],\n",
       " '8297365823.jpg': [('cloak', '0.34310'),\n",
       "  ('vestment', '0.20293'),\n",
       "  ('abaya', '0.14397'),\n",
       "  ('iron', '0.05305'),\n",
       "  ('fur coat', '0.04394')],\n",
       " '8255241108.jpg': [('stethoscope', '0.09462'),\n",
       "  ('pencil box', '0.07674'),\n",
       "  ('bib', '0.06479'),\n",
       "  ('face powder', '0.05817'),\n",
       "  ('purse', '0.05293')],\n",
       " '8282077247.jpg': [('hatchet', '0.43127'),\n",
       "  ('hammer', '0.07599'),\n",
       "  ('paintbrush', '0.06997'),\n",
       "  ('spatula', '0.06533'),\n",
       "  ('screwdriver', '0.06190')],\n",
       " '8407475603.jpg': [('letter opener', '0.19417'),\n",
       "  ('jean', '0.08618'),\n",
       "  ('binder', '0.08583'),\n",
       "  ('loudspeaker', '0.06229'),\n",
       "  ('abaya', '0.05538')],\n",
       " '8252361994.jpg': [('jersey', '0.31364'),\n",
       "  ('ping-pong ball', '0.10610'),\n",
       "  ('sweatshirt', '0.07144'),\n",
       "  ('soccer ball', '0.06712'),\n",
       "  ('tennis ball', '0.04673')],\n",
       " '8005184030.jpg': [('plate rack', '0.07942'),\n",
       "  ('harmonica', '0.07445'),\n",
       "  ('printer', '0.06971'),\n",
       "  ('hair slide', '0.06942'),\n",
       "  ('photocopier', '0.04750')],\n",
       " '6887710980.jpg': [('tub', '0.12382'),\n",
       "  ('hoopskirt', '0.12284'),\n",
       "  ('horizontal bar', '0.11749'),\n",
       "  ('bathtub', '0.08612'),\n",
       "  ('apron', '0.08465')],\n",
       " '8103101090.jpg': [('jean', '0.28023'),\n",
       "  ('miniskirt', '0.20828'),\n",
       "  ('suit', '0.18063'),\n",
       "  ('lab coat', '0.10286'),\n",
       "  ('bow tie', '0.05208')],\n",
       " '8260150495.jpg': [('ballpoint', '0.13283'),\n",
       "  ('maraca', '0.08657'),\n",
       "  ('rubber eraser', '0.07348'),\n",
       "  ('envelope', '0.07063'),\n",
       "  ('pinwheel', '0.06403')],\n",
       " '4840845085.20120211203336.jpg': [('modem', '0.13992'),\n",
       "  ('cassette', '0.13266'),\n",
       "  ('radio', '0.10606'),\n",
       "  ('projector', '0.06597'),\n",
       "  ('rule', '0.05934')],\n",
       " '5677627947.20120211205006.jpg': [('radio', '0.20087'),\n",
       "  ('microphone', '0.12879'),\n",
       "  ('modem', '0.12106'),\n",
       "  ('loudspeaker', '0.06097'),\n",
       "  ('corkscrew', '0.04457')],\n",
       " '8134939628.jpg': [('web site', '0.18740'),\n",
       "  ('analog clock', '0.08594'),\n",
       "  ('binder', '0.06119'),\n",
       "  ('envelope', '0.05586'),\n",
       "  ('book jacket', '0.04970')],\n",
       " '8267718797.jpg': [('television', '0.17709'),\n",
       "  ('screen', '0.11345'),\n",
       "  ('notebook', '0.06205'),\n",
       "  ('monitor', '0.04161'),\n",
       "  ('binder', '0.03600')],\n",
       " '8245964718.jpg': [('can opener', '0.23715'),\n",
       "  ('whistle', '0.08133'),\n",
       "  ('hook', '0.05441'),\n",
       "  ('lipstick', '0.03274'),\n",
       "  ('spatula', '0.02700')],\n",
       " '7440709819.jpg': [('miniskirt', '0.27641'),\n",
       "  ('bath towel', '0.15042'),\n",
       "  ('swimming trunks', '0.06743'),\n",
       "  ('poncho', '0.05263'),\n",
       "  ('wool', '0.04449')],\n",
       " '8278031913.jpg': [('electric fan', '0.25357'),\n",
       "  ('fire screen', '0.12545'),\n",
       "  ('buckle', '0.11369'),\n",
       "  ('stove', '0.11020'),\n",
       "  ('mailbag', '0.06945')],\n",
       " '8246413724.jpg': [('tape player', '0.31769'),\n",
       "  ('modem', '0.16955'),\n",
       "  ('radio', '0.14402'),\n",
       "  ('cassette', '0.11265'),\n",
       "  ('CD player', '0.09157')],\n",
       " '7413480866.jpg': [('crutch', '0.10696'),\n",
       "  ('letter opener', '0.10009'),\n",
       "  ('scabbard', '0.09642'),\n",
       "  ('cleaver', '0.06771'),\n",
       "  ('hammer', '0.06190')],\n",
       " '7058344250.jpg': [('gown', '0.06077'),\n",
       "  ('groom', '0.05440'),\n",
       "  ('hair spray', '0.04026'),\n",
       "  ('jean', '0.03404'),\n",
       "  ('sunglasses', '0.03204')],\n",
       " '8179831361.jpg': [('suit', '0.28525'),\n",
       "  ('jean', '0.22457'),\n",
       "  ('sweatshirt', '0.05937'),\n",
       "  ('trench coat', '0.04089'),\n",
       "  ('abaya', '0.03922')],\n",
       " '7743584374.15.jpg': [('maillot', '0.33471'),\n",
       "  ('maillot', '0.29946'),\n",
       "  ('jersey', '0.20885'),\n",
       "  ('stole', '0.04434'),\n",
       "  ('cardigan', '0.02324')],\n",
       " '8021573699.jpg': [('parallel bars', '0.10106'),\n",
       "  ('ping-pong ball', '0.06394'),\n",
       "  ('crutch', '0.04838'),\n",
       "  ('dumbbell', '0.04171'),\n",
       "  ('file', '0.04042')],\n",
       " '8269231206.jpg': [('rubber eraser', '0.31568'),\n",
       "  ('street sign', '0.11332'),\n",
       "  ('buckle', '0.06368'),\n",
       "  ('lighter', '0.03504'),\n",
       "  ('pencil sharpener', '0.02649')],\n",
       " '8270721516.jpg': [('measuring cup', '0.25851'),\n",
       "  ('beaker', '0.14409'),\n",
       "  ('medicine chest', '0.10802'),\n",
       "  ('soap dispenser', '0.08874'),\n",
       "  ('espresso maker', '0.06657')],\n",
       " '8354660521.jpg': [('apron', '0.35148'),\n",
       "  ('handkerchief', '0.17855'),\n",
       "  ('wallet', '0.16766'),\n",
       "  ('binder', '0.06582'),\n",
       "  ('swimming trunks', '0.04835')],\n",
       " '6962324442.20130619122608.jpg': [('desktop computer', '0.48081'),\n",
       "  ('screen', '0.14513'),\n",
       "  ('cellular telephone', '0.05227'),\n",
       "  ('modem', '0.03838'),\n",
       "  ('oscilloscope', '0.03509')],\n",
       " '7627592113.jpg': [('pajama', '0.19822'),\n",
       "  ('apron', '0.18087'),\n",
       "  ('jersey', '0.17891'),\n",
       "  ('lab coat', '0.09942'),\n",
       "  ('bulletproof vest', '0.07111')],\n",
       " '7380184892.jpg': [('bonnet', '0.14237'),\n",
       "  ('rapeseed', '0.11852'),\n",
       "  ('poncho', '0.09172'),\n",
       "  ('croquet ball', '0.06307'),\n",
       "  ('diaper', '0.06276')],\n",
       " '7580161275.jpg': [('binder', '0.13278'),\n",
       "  ('hair slide', '0.13256'),\n",
       "  ('book jacket', '0.12509'),\n",
       "  ('web site', '0.10249'),\n",
       "  ('envelope', '0.04332')],\n",
       " '8203521809.jpg': [('cellular telephone', '0.28845'),\n",
       "  ('oil filter', '0.16412'),\n",
       "  ('face powder', '0.07741'),\n",
       "  ('hand-held computer', '0.03911'),\n",
       "  ('lotion', '0.03611')],\n",
       " '8223450850.jpg': [('iPod', '0.62386'),\n",
       "  ('loudspeaker', '0.30168'),\n",
       "  ('radio', '0.01208'),\n",
       "  ('cellular telephone', '0.00766'),\n",
       "  ('projector', '0.00594')],\n",
       " '1100006754.20120211211251.jpg': [('lighter', '0.17793'),\n",
       "  ('harmonica', '0.12936'),\n",
       "  ('rule', '0.10011'),\n",
       "  ('pencil box', '0.08965'),\n",
       "  ('modem', '0.06762')],\n",
       " '8271136979.jpg': [('binoculars', '0.16272'),\n",
       "  ('screwdriver', '0.09558'),\n",
       "  ('Polaroid camera', '0.06216'),\n",
       "  ('mouse', '0.06126'),\n",
       "  ('hair slide', '0.05914')],\n",
       " '8277109736.jpg': [('wallet', '0.27599'),\n",
       "  ('remote control', '0.18202'),\n",
       "  ('pencil box', '0.10917'),\n",
       "  ('ocarina', '0.06162'),\n",
       "  ('cassette', '0.04462')],\n",
       " '8112350397.jpg': [('whistle', '0.38376'),\n",
       "  ('can opener', '0.07863'),\n",
       "  ('paintbrush', '0.05129'),\n",
       "  ('rubber eraser', '0.04093'),\n",
       "  ('hook', '0.03671')],\n",
       " '8228720496.jpg': [('oil filter', '0.34279'),\n",
       "  ('coffee mug', '0.16075'),\n",
       "  ('loupe', '0.04264'),\n",
       "  ('cocktail shaker', '0.04176'),\n",
       "  ('face powder', '0.03163')],\n",
       " '6248468792.1.jpg': [('modem', '0.10075'),\n",
       "  ('cassette', '0.09917'),\n",
       "  ('packet', '0.09443'),\n",
       "  ('web site', '0.07937'),\n",
       "  ('binder', '0.06891')],\n",
       " '8040245972.jpg': [('spotlight', '0.83778'),\n",
       "  ('screw', '0.03089'),\n",
       "  ('golf ball', '0.02514'),\n",
       "  ('strainer', '0.02448'),\n",
       "  ('Petri dish', '0.00761')],\n",
       " '8265638963.jpg': [('gasmask', '0.18262'),\n",
       "  ('dumbbell', '0.17214'),\n",
       "  ('spotlight', '0.13416'),\n",
       "  ('oxygen mask', '0.08724'),\n",
       "  ('barbell', '0.05740')],\n",
       " '32854637L.jpg': [('cardigan', '0.32746'),\n",
       "  ('suit', '0.32094'),\n",
       "  ('wool', '0.10093'),\n",
       "  ('academic gown', '0.08245'),\n",
       "  ('velvet', '0.03686')],\n",
       " '8266286438.jpg': [('reflex camera', '0.87690'),\n",
       "  ('binoculars', '0.03667'),\n",
       "  ('switch', '0.01829'),\n",
       "  ('lens cap', '0.01776'),\n",
       "  ('combination lock', '0.00954')],\n",
       " '8305660235.jpg': [('suit', '0.32919'),\n",
       "  ('Windsor tie', '0.15981'),\n",
       "  ('cardigan', '0.15597'),\n",
       "  ('bow tie', '0.05000'),\n",
       "  ('sweatshirt', '0.03838')],\n",
       " '8081470979.jpg': [('hook', '0.15902'),\n",
       "  ('can opener', '0.10157'),\n",
       "  ('vine snake', '0.05150'),\n",
       "  ('whistle', '0.05074'),\n",
       "  ('snorkel', '0.04374')],\n",
       " '8142244401.jpg': [('candle', '0.18541'),\n",
       "  ('Crock Pot', '0.17377'),\n",
       "  ('pencil sharpener', '0.12928'),\n",
       "  ('oil filter', '0.09352'),\n",
       "  ('thimble', '0.09218')],\n",
       " '8055850672.jpg': [('lab coat', '0.47980'),\n",
       "  ('jersey', '0.35916'),\n",
       "  ('vestment', '0.05029'),\n",
       "  ('sweatshirt', '0.03151'),\n",
       "  ('trench coat', '0.02773')],\n",
       " '7738153185.jpg': [('file', '0.39687'),\n",
       "  ('desktop computer', '0.12271'),\n",
       "  ('binder', '0.11446'),\n",
       "  ('printer', '0.09288'),\n",
       "  ('modem', '0.05842')],\n",
       " '7389855215.20140113160538.jpg': [('radio', '0.18161'),\n",
       "  ('switch', '0.06952'),\n",
       "  ('tape player', '0.06290'),\n",
       "  ('printer', '0.05544'),\n",
       "  ('combination lock', '0.04895')],\n",
       " '8297236368.jpg': [('suit', '0.16045'),\n",
       "  ('cardigan', '0.15320'),\n",
       "  ('Windsor tie', '0.13275'),\n",
       "  ('sweatshirt', '0.08781'),\n",
       "  ('wool', '0.06576')],\n",
       " '7578094297.jpg': [('book jacket', '0.09585'),\n",
       "  ('stove', '0.07368'),\n",
       "  ('lighter', '0.06681'),\n",
       "  ('fire screen', '0.04564'),\n",
       "  ('comic book', '0.03280')],\n",
       " '7936318123.jpg': [('parallel bars', '0.22097'),\n",
       "  ('apron', '0.08531'),\n",
       "  ('crutch', '0.08287'),\n",
       "  ('dumbbell', '0.06239'),\n",
       "  ('barbell', '0.06068')],\n",
       " '8312330788.jpg': [('whistle', '0.26846'),\n",
       "  ('bassoon', '0.09840'),\n",
       "  ('hook', '0.06874'),\n",
       "  ('ski', '0.06425'),\n",
       "  ('ballpoint', '0.05381')],\n",
       " '8055849801.jpg': [('jersey', '0.19409'),\n",
       "  ('sweatshirt', '0.19163'),\n",
       "  ('velvet', '0.12300'),\n",
       "  ('pajama', '0.05891'),\n",
       "  ('cardigan', '0.05212')],\n",
       " '8256500625.jpg': [('printer', '0.20454'),\n",
       "  ('photocopier', '0.08654'),\n",
       "  ('switch', '0.04548'),\n",
       "  ('power drill', '0.04472'),\n",
       "  ('toaster', '0.04133')],\n",
       " '6307141667.1.jpg': [('dumbbell', '0.15551'),\n",
       "  ('reflex camera', '0.14808'),\n",
       "  ('screw', '0.13104'),\n",
       "  ('binoculars', '0.12806'),\n",
       "  ('combination lock', '0.05689')],\n",
       " '30643311L.jpg': [('suit', '0.29183'),\n",
       "  ('abaya', '0.15541'),\n",
       "  ('sweatshirt', '0.10524'),\n",
       "  ('trench coat', '0.10263'),\n",
       "  ('kimono', '0.02810')],\n",
       " '8362335987.jpg': [('comic book', '0.89311'),\n",
       "  ('packet', '0.01899'),\n",
       "  ('book jacket', '0.01704'),\n",
       "  ('toyshop', '0.00944'),\n",
       "  ('binder', '0.00514')],\n",
       " '8201026167.jpg': [('modem', '0.40450'),\n",
       "  ('digital clock', '0.14600'),\n",
       "  ('radio', '0.06824'),\n",
       "  ('printer', '0.04405'),\n",
       "  ('mouse', '0.03796')],\n",
       " '8035076572.jpg': [('loudspeaker', '0.93408'),\n",
       "  ('switch', '0.01065'),\n",
       "  ('reflex camera', '0.00839'),\n",
       "  ('radio', '0.00670'),\n",
       "  ('CD player', '0.00569')],\n",
       " '8260195479.jpg': [('hair slide', '0.12322'),\n",
       "  ('corkscrew', '0.10639'),\n",
       "  ('can opener', '0.10521'),\n",
       "  ('hook', '0.08376'),\n",
       "  ('whistle', '0.07992')],\n",
       " '8240540445.jpg': [('modem', '0.22011'),\n",
       "  ('microwave', '0.11969'),\n",
       "  ('screen', '0.10658'),\n",
       "  ('loudspeaker', '0.10628'),\n",
       "  ('desktop computer', '0.09364')],\n",
       " '8290845034.jpg': [('jersey', '0.23127'),\n",
       "  ('jean', '0.07679'),\n",
       "  ('velvet', '0.06247'),\n",
       "  ('gown', '0.05791'),\n",
       "  ('bulletproof vest', '0.05721')],\n",
       " '7992998122.jpg': [('suit', '0.62103'),\n",
       "  ('cardigan', '0.12073'),\n",
       "  ('Windsor tie', '0.05179'),\n",
       "  ('sweatshirt', '0.04673'),\n",
       "  ('wool', '0.04565')],\n",
       " '8021040180.jpg': [('velvet', '0.34605'),\n",
       "  ('overskirt', '0.13329'),\n",
       "  ('stole', '0.06890'),\n",
       "  ('kimono', '0.06315'),\n",
       "  ('hoopskirt', '0.04891')],\n",
       " '8269429981.jpg': [('coil', '0.12630'),\n",
       "  ('combination lock', '0.12421'),\n",
       "  ('hook', '0.10132'),\n",
       "  ('bolo tie', '0.06091'),\n",
       "  ('stethoscope', '0.04379')],\n",
       " '8152272096.jpg': [('jersey', '0.72129'),\n",
       "  ('sweatshirt', '0.12833'),\n",
       "  ('gasmask', '0.01444'),\n",
       "  ('shower cap', '0.01304'),\n",
       "  ('mask', '0.01061')],\n",
       " '7136326458.1.jpg': [('wallet', '0.73119'),\n",
       "  ('pencil box', '0.08881'),\n",
       "  ('hair slide', '0.05019'),\n",
       "  ('envelope', '0.03054'),\n",
       "  ('tray', '0.01872')],\n",
       " '8064126923.jpg': [('bulletproof vest', '0.56455'),\n",
       "  ('trench coat', '0.16442'),\n",
       "  ('abaya', '0.12242'),\n",
       "  ('suit', '0.06380'),\n",
       "  ('cloak', '0.03649')],\n",
       " '7992440193.jpg': [('chain mail', '0.95474'),\n",
       "  ('poncho', '0.01982'),\n",
       "  ('pajama', '0.00607'),\n",
       "  ('wool', '0.00438'),\n",
       "  ('stole', '0.00400')],\n",
       " '8275987253.jpg': [('scoreboard', '0.48052'),\n",
       "  ('vending machine', '0.13118'),\n",
       "  ('web site', '0.03672'),\n",
       "  ('slot', '0.02337'),\n",
       "  ('oil filter', '0.01798')],\n",
       " '8277837131.1.jpg': [('sleeping bag', '0.69797'),\n",
       "  ('bath towel', '0.03870'),\n",
       "  ('pencil box', '0.03008'),\n",
       "  ('nematode', '0.02987'),\n",
       "  ('rule', '0.02601')],\n",
       " '8277543054.jpg': [('hand blower', '0.20073'),\n",
       "  ('sunscreen', '0.16283'),\n",
       "  ('soap dispenser', '0.12651'),\n",
       "  ('lotion', '0.11899'),\n",
       "  ('switch', '0.08191')],\n",
       " '8044072570.jpg': [('switch', '0.26426'),\n",
       "  ('modem', '0.18462'),\n",
       "  ('radio', '0.14745'),\n",
       "  ('cassette', '0.06947'),\n",
       "  ('corkscrew', '0.05617')],\n",
       " '7581602238.jpg': [('computer keyboard', '0.25647'),\n",
       "  ('space bar', '0.08225'),\n",
       "  ('mouse', '0.06450'),\n",
       "  ('notebook', '0.06173'),\n",
       "  ('hand blower', '0.04424')],\n",
       " '8245964551.jpg': [('menu', '0.29943'),\n",
       "  ('fire engine', '0.27627'),\n",
       "  ('vending machine', '0.04950'),\n",
       "  ('scoreboard', '0.03379'),\n",
       "  ('envelope', '0.03293')],\n",
       " '8276739296.jpg': [('radio', '0.18311'),\n",
       "  ('tape player', '0.08079'),\n",
       "  ('desktop computer', '0.06218'),\n",
       "  ('hard disc', '0.06028'),\n",
       "  ('CD player', '0.05251')],\n",
       " '8308686553.jpg': [('bikini', '0.10331'),\n",
       "  ('miniskirt', '0.07048'),\n",
       "  ('brassiere', '0.05829'),\n",
       "  ('maillot', '0.05686'),\n",
       "  ('maillot', '0.05590')],\n",
       " '8050603100.jpg': [('brassiere', '0.99912'),\n",
       "  ('maillot', '0.00036'),\n",
       "  ('maillot', '0.00015'),\n",
       "  ('Band Aid', '0.00015'),\n",
       "  ('bikini', '0.00009')],\n",
       " '6559289600.jpg': [('hook', '0.27549'),\n",
       "  ('nail', '0.08098'),\n",
       "  ('corkscrew', '0.07393'),\n",
       "  ('whistle', '0.06940'),\n",
       "  ('stethoscope', '0.05973')],\n",
       " '8272906737.jpg': [('reflex camera', '0.99487'),\n",
       "  ('lens cap', '0.00212'),\n",
       "  ('loudspeaker', '0.00153'),\n",
       "  ('Polaroid camera', '0.00052'),\n",
       "  ('combination lock', '0.00020')],\n",
       " '8245964424.jpg': [('digital clock', '0.09074'),\n",
       "  ('typewriter keyboard', '0.08183'),\n",
       "  ('pick', '0.06771'),\n",
       "  ('loudspeaker', '0.06262'),\n",
       "  ('analog clock', '0.04561')],\n",
       " '8333301630.jpg': [('Band Aid', '0.26598'),\n",
       "  ('computer keyboard', '0.17703'),\n",
       "  ('notebook', '0.07785'),\n",
       "  ('iPod', '0.03759'),\n",
       "  ('face powder', '0.02814')],\n",
       " '7469385724.20140207150255.jpg': [('television', '0.44283'),\n",
       "  ('monitor', '0.24994'),\n",
       "  ('notebook', '0.11001'),\n",
       "  ('screen', '0.07908'),\n",
       "  ('hard disc', '0.02246')],\n",
       " '8131205458.jpg': [('web site', '0.39495'),\n",
       "  ('remote control', '0.17267'),\n",
       "  ('cash machine', '0.09876'),\n",
       "  ('rubber eraser', '0.03972'),\n",
       "  ('vending machine', '0.03850')],\n",
       " '8382493902.jpg': [('web site', '0.14737'),\n",
       "  ('jersey', '0.07014'),\n",
       "  ('bathing cap', '0.04549'),\n",
       "  ('envelope', '0.04373'),\n",
       "  ('can opener', '0.04108')],\n",
       " '8376070118.jpg': [('digital clock', '0.39483'),\n",
       "  ('hand-held computer', '0.12894'),\n",
       "  ('digital watch', '0.09482'),\n",
       "  ('iPod', '0.09381'),\n",
       "  ('scale', '0.06161')],\n",
       " '6480907435.1.jpg': [('modem', '0.14258'),\n",
       "  ('hard disc', '0.07508'),\n",
       "  ('analog clock', '0.06555'),\n",
       "  ('laptop', '0.06051'),\n",
       "  ('notebook', '0.05428')],\n",
       " '7955087482.jpg': [('rotisserie', '0.38421'),\n",
       "  ('space heater', '0.12099'),\n",
       "  ('printer', '0.10041'),\n",
       "  ('tape player', '0.06859'),\n",
       "  ('stove', '0.05710')],\n",
       " '8258243882.jpg': [('modem', '0.38311'),\n",
       "  ('hard disc', '0.13894'),\n",
       "  ('loudspeaker', '0.11853'),\n",
       "  ('iPod', '0.09030'),\n",
       "  ('cellular telephone', '0.05397')],\n",
       " '8072837245.jpg': [('cardigan', '0.40573'),\n",
       "  ('wool', '0.26647'),\n",
       "  ('suit', '0.08065'),\n",
       "  ('stole', '0.03285'),\n",
       "  ('jean', '0.02656')],\n",
       " '8270040591.jpg': [('chest', '0.17803'),\n",
       "  ('tray', '0.17730'),\n",
       "  ('dining table', '0.08157'),\n",
       "  ('guillotine', '0.07878'),\n",
       "  ('crate', '0.06162')],\n",
       " '7986304800.jpg': [('suit', '0.58591'),\n",
       "  ('cardigan', '0.15016'),\n",
       "  ('wool', '0.05573'),\n",
       "  ('sweatshirt', '0.05092'),\n",
       "  ('Windsor tie', '0.04328')],\n",
       " '8277537306.jpg': [('hand-held computer', '0.29844'),\n",
       "  ('cellular telephone', '0.11896'),\n",
       "  ('television', '0.05916'),\n",
       "  ('hard disc', '0.04245'),\n",
       "  ('tray', '0.04128')],\n",
       " '8247008794.jpg': [('sweatshirt', '0.64410'),\n",
       "  ('cardigan', '0.21217'),\n",
       "  ('wool', '0.05650'),\n",
       "  ('stole', '0.03454'),\n",
       "  ('poncho', '0.02082')],\n",
       " '7981494902.jpg': [('theater curtain', '0.23569'),\n",
       "  ('velvet', '0.14349'),\n",
       "  ('abaya', '0.08460'),\n",
       "  ('cloak', '0.05170'),\n",
       "  ('sweatshirt', '0.04788')],\n",
       " '8324727474.jpg': [('suit', '0.75286'),\n",
       "  ('Windsor tie', '0.19012'),\n",
       "  ('lab coat', '0.01423'),\n",
       "  ('cardigan', '0.01052'),\n",
       "  ('bow tie', '0.00980')],\n",
       " '8351015309.jpg': [('lighter', '0.28123'),\n",
       "  ('whistle', '0.08222'),\n",
       "  ('can opener', '0.07840'),\n",
       "  ('Band Aid', '0.07698'),\n",
       "  ('switch', '0.06030')],\n",
       " '8165734216.jpg': [('rule', '0.25365'),\n",
       "  ('screwdriver', '0.12364'),\n",
       "  ('harmonica', '0.09210'),\n",
       "  ('rubber eraser', '0.07827'),\n",
       "  ('ballpoint', '0.07011')],\n",
       " '8067434997.jpg': [('pajama', '0.27128'),\n",
       "  ('apron', '0.14433'),\n",
       "  ('stole', '0.12918'),\n",
       "  ('swimming trunks', '0.12487'),\n",
       "  ('wool', '0.08639')],\n",
       " '8127972946.jpg': [('switch', '0.20467'),\n",
       "  ('radio', '0.19998'),\n",
       "  ('traffic light', '0.08253'),\n",
       "  ('power drill', '0.06749'),\n",
       "  ('red wine', '0.05094')],\n",
       " '7517026142.jpg': [('sunscreen', '0.32384'),\n",
       "  ('lotion', '0.19715'),\n",
       "  ('whistle', '0.09391'),\n",
       "  ('hair spray', '0.07833'),\n",
       "  ('lipstick', '0.05855')],\n",
       " '6882130067.jpg': [('hoopskirt', '0.23534'),\n",
       "  ('perfume', '0.17698'),\n",
       "  ('gown', '0.17626'),\n",
       "  ('overskirt', '0.12697'),\n",
       "  ('saltshaker', '0.08479')],\n",
       " '5746442830.20120211193327.jpg': [('notebook', '0.34878'),\n",
       "  ('modem', '0.09078'),\n",
       "  ('table lamp', '0.04936'),\n",
       "  ('loudspeaker', '0.04588'),\n",
       "  ('lampshade', '0.03487')],\n",
       " '5439651783.jpg': [('hair slide', '0.22085'),\n",
       "  ('necklace', '0.15325'),\n",
       "  ('stole', '0.08512'),\n",
       "  ('wool', '0.06480'),\n",
       "  ('knot', '0.04601')],\n",
       " '8273954369.jpg': [('hair spray', '0.69109'),\n",
       "  ('pill bottle', '0.09190'),\n",
       "  ('water bottle', '0.03357'),\n",
       "  ('lotion', '0.03163'),\n",
       "  ('sunscreen', '0.02129')],\n",
       " '8350035311.jpg': [('Band Aid', '0.10785'),\n",
       "  ('iPod', '0.07576'),\n",
       "  ('pencil sharpener', '0.06310'),\n",
       "  ('combination lock', '0.04405'),\n",
       "  ('soap dispenser', '0.04106')],\n",
       " '6806489727.20130318153942.jpg': [('switch', '0.31288'),\n",
       "  ('television', '0.15347'),\n",
       "  ('paper towel', '0.07597'),\n",
       "  ('envelope', '0.05013'),\n",
       "  ('microwave', '0.03112')],\n",
       " '4024900020.20120211194914.jpg': [('medicine chest', '0.16376'),\n",
       "  ('refrigerator', '0.15077'),\n",
       "  ('wardrobe', '0.12978'),\n",
       "  ('dishwasher', '0.08417'),\n",
       "  ('washbasin', '0.06887')],\n",
       " '4038912044.20120211213604.jpg': [('sunscreen', '0.16504'),\n",
       "  ('bathing cap', '0.14316'),\n",
       "  ('packet', '0.12917'),\n",
       "  ('rubber eraser', '0.08743'),\n",
       "  ('oil filter', '0.07557')],\n",
       " '8312865915.jpg': [('gown', '0.33358'),\n",
       "  ('stole', '0.14038'),\n",
       "  ('miniskirt', '0.10014'),\n",
       "  ('maillot', '0.06819'),\n",
       "  ('maillot', '0.06404')],\n",
       " '6760965208.jpg': [('microphone', '0.99609'),\n",
       "  ('electric fan', '0.00107'),\n",
       "  ('spotlight', '0.00083'),\n",
       "  ('table lamp', '0.00035'),\n",
       "  ('hand blower', '0.00031')],\n",
       " '8274520850.jpg': [('maraca', '0.52470'),\n",
       "  ('croquet ball', '0.06033'),\n",
       "  ('sock', '0.03964'),\n",
       "  ('balloon', '0.03429'),\n",
       "  ('mask', '0.01246')],\n",
       " '7783404515.jpg': [('hard disc', '0.25615'),\n",
       "  ('modem', '0.13021'),\n",
       "  ('printer', '0.10591'),\n",
       "  ('Polaroid camera', '0.04675'),\n",
       "  ('projector', '0.04371')],\n",
       " '7600280046.jpg': [('hammer', '0.25373'),\n",
       "  ('fountain pen', '0.10528'),\n",
       "  ('spatula', '0.07207'),\n",
       "  ('hatchet', '0.05091'),\n",
       "  ('ladle', '0.03239')],\n",
       " '8240645078.jpg': [(\"carpenter's kit\", '0.22147'),\n",
       "  ('power drill', '0.19558'),\n",
       "  ('dumbbell', '0.03644'),\n",
       "  ('switch', '0.03514'),\n",
       "  ('oil filter', '0.03267')],\n",
       " '6209461670.2.jpg': [('trench coat', '0.19234'),\n",
       "  ('cardigan', '0.18747'),\n",
       "  ('suit', '0.16692'),\n",
       "  ('sweatshirt', '0.06936'),\n",
       "  ('stole', '0.05488')],\n",
       " '8087975822.jpg': [('apron', '0.20872'),\n",
       "  ('sweatshirt', '0.12999'),\n",
       "  ('swimming trunks', '0.08259'),\n",
       "  ('umbrella', '0.07700'),\n",
       "  ('plastic bag', '0.05516')],\n",
       " '8308604159.jpg': [('maillot', '0.16735'),\n",
       "  ('bulletproof vest', '0.11014'),\n",
       "  ('pajama', '0.10983'),\n",
       "  ('Windsor tie', '0.09082'),\n",
       "  ('maillot', '0.07692')],\n",
       " '8295596483.jpg': [('brassiere', '0.42149'),\n",
       "  ('honeycomb', '0.38662'),\n",
       "  ('conch', '0.10710'),\n",
       "  ('butternut squash', '0.03557'),\n",
       "  ('corn', '0.01116')],\n",
       " '8354772442.jpg': [('bulletproof vest', '0.20630'),\n",
       "  ('velvet', '0.19944'),\n",
       "  ('sarong', '0.15835'),\n",
       "  ('stole', '0.05837'),\n",
       "  ('apron', '0.05511')],\n",
       " '8258574040.jpg': [('abacus', '0.18694'),\n",
       "  ('scoreboard', '0.11733'),\n",
       "  ('digital clock', '0.07518'),\n",
       "  ('medicine chest', '0.05902'),\n",
       "  ('modem', '0.04893')],\n",
       " '5804633516.jpg': [('binoculars', '0.42263'),\n",
       "  ('cocktail shaker', '0.07968'),\n",
       "  ('lotion', '0.07653'),\n",
       "  ('lighter', '0.07293'),\n",
       "  ('beer bottle', '0.06910')],\n",
       " '8341536697.jpg': [('washer', '0.80951'),\n",
       "  ('switch', '0.10312'),\n",
       "  ('dishwasher', '0.01357'),\n",
       "  ('toilet seat', '0.01139'),\n",
       "  ('analog clock', '0.00718')],\n",
       " '8247174295.jpg': [('car mirror', '0.11502'),\n",
       "  ('cab', '0.05498'),\n",
       "  ('sunglasses', '0.05350'),\n",
       "  ('sunglass', '0.04313'),\n",
       "  ('racer', '0.03689')],\n",
       " '8129202635.jpg': [('hand-held computer', '0.17062'),\n",
       "  ('perfume', '0.12114'),\n",
       "  ('desktop computer', '0.10877'),\n",
       "  ('modem', '0.08633'),\n",
       "  ('cellular telephone', '0.08130')],\n",
       " '7853013492.jpg': [('corn', '0.09004'),\n",
       "  ('ice cream', '0.06121'),\n",
       "  ('burrito', '0.05980'),\n",
       "  ('dough', '0.05464'),\n",
       "  ('honeycomb', '0.04668')],\n",
       " '8260087828.jpg': [('espresso maker', '0.24745'),\n",
       "  ('coffeepot', '0.10250'),\n",
       "  ('cocktail shaker', '0.09656'),\n",
       "  ('hand blower', '0.07313'),\n",
       "  ('cup', '0.06001')],\n",
       " '8249975352.jpg': [('cassette', '0.20888'),\n",
       "  ('switch', '0.11945'),\n",
       "  ('tape player', '0.07844'),\n",
       "  ('projector', '0.03891'),\n",
       "  ('scale', '0.03369')],\n",
       " '6198288785.jpg': [('packet', '0.24883'),\n",
       "  ('comic book', '0.08653'),\n",
       "  ('pretzel', '0.07443'),\n",
       "  ('candle', '0.03324'),\n",
       "  ('book jacket', '0.02648')],\n",
       " '8017900413.jpg': [('scoreboard', '0.22872'),\n",
       "  ('loudspeaker', '0.11089'),\n",
       "  ('digital clock', '0.07937'),\n",
       "  ('switch', '0.05389'),\n",
       "  ('oil filter', '0.04614')],\n",
       " '8219692273.jpg': [('jersey', '0.43087'),\n",
       "  ('abaya', '0.24145'),\n",
       "  ('bulletproof vest', '0.08840'),\n",
       "  ('academic gown', '0.05816'),\n",
       "  ('breastplate', '0.03233')],\n",
       " '8313959814.jpg': [('kimono', '0.17015'),\n",
       "  ('abaya', '0.14019'),\n",
       "  ('groom', '0.06902'),\n",
       "  ('bow tie', '0.03993'),\n",
       "  ('suit', '0.03844')],\n",
       " '6840537357.20130408150328.jpg': [('vending machine', '0.12671'),\n",
       "  ('iPod', '0.10688'),\n",
       "  ('cassette', '0.05234'),\n",
       "  ('slot', '0.04949'),\n",
       "  ('television', '0.04853')],\n",
       " '7309913266.1.jpg': [('kimono', '0.08369'),\n",
       "  ('miniature pinscher', '0.07718'),\n",
       "  ('toyshop', '0.07248'),\n",
       "  ('shoe shop', '0.04305'),\n",
       "  ('sarong', '0.03602')],\n",
       " '8214594839.1.jpg': [('wool', '0.51442'),\n",
       "  ('cardigan', '0.19976'),\n",
       "  ('velvet', '0.07235'),\n",
       "  ('trench coat', '0.06830'),\n",
       "  ('cloak', '0.03909')],\n",
       " '7610441217.jpg': [('monitor', '0.17362'),\n",
       "  ('web site', '0.12200'),\n",
       "  ('screen', '0.10540'),\n",
       "  ('scoreboard', '0.08572'),\n",
       "  ('television', '0.05595')],\n",
       " '8276182137.jpg': [('hair slide', '0.32147'),\n",
       "  ('maraca', '0.23659'),\n",
       "  ('whistle', '0.08256'),\n",
       "  ('rubber eraser', '0.03780'),\n",
       "  ('pick', '0.02807')],\n",
       " '8219132519.jpg': [('jean', '0.27776'),\n",
       "  ('swimming trunks', '0.09143'),\n",
       "  ('bow tie', '0.06077'),\n",
       "  ('velvet', '0.05176'),\n",
       "  ('loudspeaker', '0.03694')],\n",
       " '8293375255.jpg': [('suit', '0.90221'),\n",
       "  ('Windsor tie', '0.03902'),\n",
       "  ('cardigan', '0.02253'),\n",
       "  ('trench coat', '0.00807'),\n",
       "  ('wool', '0.00628')],\n",
       " '8212344576.20150122175631.jpg': [('book jacket', '0.17370'),\n",
       "  ('binder', '0.12290'),\n",
       "  ('desktop computer', '0.11905'),\n",
       "  ('safe', '0.07599'),\n",
       "  ('refrigerator', '0.06259')],\n",
       " '8455078028.20150422144025.jpg': [('cellular telephone', '0.28121'),\n",
       "  ('iPod', '0.10726'),\n",
       "  ('desktop computer', '0.07984'),\n",
       "  ('modem', '0.06148'),\n",
       "  ('loudspeaker', '0.05887')],\n",
       " '8348397944.jpg': [('sarong', '0.45851'),\n",
       "  ('miniskirt', '0.41510'),\n",
       "  ('swimming trunks', '0.03965'),\n",
       "  ('velvet', '0.03051'),\n",
       "  ('sleeping bag', '0.01886')],\n",
       " '8277468329.jpg': [('slide rule', '0.12868'),\n",
       "  ('studio couch', '0.09477'),\n",
       "  ('tobacco shop', '0.08869'),\n",
       "  ('upright', '0.03105'),\n",
       "  ('balance beam', '0.02538')],\n",
       " '7965268762.jpg': [('pajama', '0.29567'),\n",
       "  ('trench coat', '0.06419'),\n",
       "  ('miniskirt', '0.06317'),\n",
       "  ('lab coat', '0.06155'),\n",
       "  ('apron', '0.05791')],\n",
       " '8344447885.jpg': [('washbasin', '0.14803'),\n",
       "  ('scale', '0.14502'),\n",
       "  ('modem', '0.06093'),\n",
       "  ('notebook', '0.04121'),\n",
       "  ('bathtub', '0.03778')],\n",
       " '8109085356.3.jpg': [('iPod', '0.19409'),\n",
       "  ('web site', '0.12545'),\n",
       "  ('binder', '0.09057'),\n",
       "  ('vending machine', '0.06139'),\n",
       "  ('screen', '0.05281')],\n",
       " '8274473714.jpg': [('stethoscope', '0.45720'),\n",
       "  ('snorkel', '0.13860'),\n",
       "  ('whistle', '0.05352'),\n",
       "  ('hook', '0.03944'),\n",
       "  ('sunglass', '0.03303')],\n",
       " '8269184914.jpg': [(\"carpenter's kit\", '0.28361'),\n",
       "  ('stethoscope', '0.09278'),\n",
       "  ('magnetic compass', '0.06455'),\n",
       "  ('combination lock', '0.05827'),\n",
       "  ('scale', '0.03715')],\n",
       " '8280111422.jpg': [('loudspeaker', '0.83395'),\n",
       "  ('home theater', '0.07258'),\n",
       "  ('iPod', '0.02783'),\n",
       "  ('radio', '0.01802'),\n",
       "  ('reflex camera', '0.00808')],\n",
       " '8276198316.jpg': [('dumbbell', '0.12632'),\n",
       "  ('stretcher', '0.07907'),\n",
       "  ('grand piano', '0.05496'),\n",
       "  ('barbell', '0.05212'),\n",
       "  ('solar dish', '0.05090')],\n",
       " '8352545569.jpg': [('envelope', '0.10997'),\n",
       "  ('oil filter', '0.09862'),\n",
       "  ('sunscreen', '0.08047'),\n",
       "  ('web site', '0.07941'),\n",
       "  ('lotion', '0.07078')],\n",
       " '8234400843.jpg': [('binoculars', '0.42878'),\n",
       "  ('torch', '0.11268'),\n",
       "  ('microphone', '0.05836'),\n",
       "  ('dumbbell', '0.05094'),\n",
       "  ('screw', '0.04260')],\n",
       " '8203442572.jpg': [('trench coat', '0.90916'),\n",
       "  ('cardigan', '0.06964'),\n",
       "  ('suit', '0.01540'),\n",
       "  ('military uniform', '0.00121'),\n",
       "  ('lab coat', '0.00109')],\n",
       " '8183156586.jpg': [('packet', '0.17597'),\n",
       "  ('Band Aid', '0.08638'),\n",
       "  ('web site', '0.07543'),\n",
       "  ('screen', '0.07251'),\n",
       "  ('digital clock', '0.04351')],\n",
       " '8127412133.jpg': [('iPod', '0.50728'),\n",
       "  ('remote control', '0.31258'),\n",
       "  ('cellular telephone', '0.10272'),\n",
       "  ('vending machine', '0.02334'),\n",
       "  ('hand-held computer', '0.02216')],\n",
       " '1000204328.20120211203546.jpg': [('toaster', '0.21240'),\n",
       "  ('pencil sharpener', '0.13526'),\n",
       "  ('Polaroid camera', '0.11365'),\n",
       "  ('cellular telephone', '0.10572'),\n",
       "  ('desktop computer', '0.06805')],\n",
       " '8313965017.jpg': [('pajama', '0.33196'),\n",
       "  ('suit', '0.18622'),\n",
       "  ('Windsor tie', '0.12365'),\n",
       "  ('apron', '0.06674'),\n",
       "  ('trench coat', '0.05272')],\n",
       " '7965752864.jpg': [('wallet', '0.13495'),\n",
       "  ('purse', '0.12865'),\n",
       "  ('mitten', '0.10508'),\n",
       "  ('dishrag', '0.05915'),\n",
       "  ('envelope', '0.04603')],\n",
       " '8296071478.jpg': [('suit', '0.56203'),\n",
       "  ('bow tie', '0.17268'),\n",
       "  ('wool', '0.07733'),\n",
       "  ('Windsor tie', '0.06285'),\n",
       "  ('cardigan', '0.06220')],\n",
       " '8182360434.jpg': [('trench coat', '0.45952'),\n",
       "  ('sleeping bag', '0.08976'),\n",
       "  ('velvet', '0.05673'),\n",
       "  ('fur coat', '0.05409'),\n",
       "  ('bulletproof vest', '0.03921')],\n",
       " '8018994657.jpg': [('bulletproof vest', '0.21682'),\n",
       "  ('lab coat', '0.18791'),\n",
       "  ('Windsor tie', '0.17671'),\n",
       "  ('suit', '0.11147'),\n",
       "  ('sweatshirt', '0.04842')],\n",
       " '7286889513.jpg': [('binoculars', '0.29891'),\n",
       "  ('reflex camera', '0.26280'),\n",
       "  ('dumbbell', '0.09678'),\n",
       "  ('lens cap', '0.05060'),\n",
       "  ('projector', '0.03834')],\n",
       " '8062707341.jpg': [('brass', '0.04489'),\n",
       "  ('iPod', '0.03947'),\n",
       "  ('modem', '0.03652'),\n",
       "  ('apron', '0.03566'),\n",
       "  ('binder', '0.03330')],\n",
       " '8274036920.jpg': [('modem', '0.49713'),\n",
       "  ('binder', '0.04982'),\n",
       "  ('rubber eraser', '0.04106'),\n",
       "  ('envelope', '0.03954'),\n",
       "  ('rule', '0.03464')],\n",
       " '7366172905.jpg': [('desktop computer', '0.16354'),\n",
       "  ('digital clock', '0.15164'),\n",
       "  ('CD player', '0.09009'),\n",
       "  ('notebook', '0.08286'),\n",
       "  ('printer', '0.07918')],\n",
       " '5920395173.20130416142831.jpg': [('loudspeaker', '0.75214'),\n",
       "  ('lens cap', '0.04383'),\n",
       "  ('loupe', '0.02623'),\n",
       "  ('reflex camera', '0.01651'),\n",
       "  ('tripod', '0.01371')],\n",
       " '7820836871.jpg': [('comic book', '0.84402'),\n",
       "  ('book jacket', '0.08769'),\n",
       "  ('packet', '0.01421'),\n",
       "  ('chain saw', '0.00466'),\n",
       "  ('ocarina', '0.00377')],\n",
       " '8307175550.jpg': [('whistle', '0.45943'),\n",
       "  ('hook', '0.07890'),\n",
       "  ('can opener', '0.04057'),\n",
       "  ('rubber eraser', '0.03233'),\n",
       "  ('nematode', '0.02924')],\n",
       " '7656791348.20140429113148.jpg': [('hard disc', '0.62290'),\n",
       "  ('modem', '0.08029'),\n",
       "  ('book jacket', '0.06642'),\n",
       "  ('binder', '0.04598'),\n",
       "  ('brass', '0.03920')],\n",
       " '7924635341.jpg': [('velvet', '0.25300'),\n",
       "  ('cloak', '0.16629'),\n",
       "  ('poncho', '0.08490'),\n",
       "  ('wool', '0.06696'),\n",
       "  ('Windsor tie', '0.06626')],\n",
       " '8222742013.jpg': [('miniskirt', '0.47341'),\n",
       "  ('swimming trunks', '0.46952'),\n",
       "  ('pajama', '0.02525'),\n",
       "  ('wool', '0.00554'),\n",
       "  ('overskirt', '0.00455')],\n",
       " '8272097596.jpg': [('hair slide', '0.21633'),\n",
       "  ('maraca', '0.16627'),\n",
       "  ('whistle', '0.08388'),\n",
       "  ('pencil sharpener', '0.08156'),\n",
       "  ('rubber eraser', '0.07563')],\n",
       " '7415120060.20140117155735.jpg': [('book jacket', '0.15520'),\n",
       "  ('envelope', '0.14606'),\n",
       "  ('web site', '0.07084'),\n",
       "  ('binder', '0.05872'),\n",
       "  ('iron', '0.04699')],\n",
       " '8277352692.jpg': [('sweatshirt', '0.45580'),\n",
       "  ('velvet', '0.16340'),\n",
       "  ('cardigan', '0.07586'),\n",
       "  ('apron', '0.04171'),\n",
       "  ('jersey', '0.04146')],\n",
       " '7113314141.jpg': [('espresso maker', '0.14923'),\n",
       "  ('barbershop', '0.09568'),\n",
       "  ('gas pump', '0.08490'),\n",
       "  ('scoreboard', '0.05086'),\n",
       "  ('tobacco shop', '0.05020')],\n",
       " '7949398785.jpg': [('safety pin', '0.17153'),\n",
       "  ('ballpoint', '0.07169'),\n",
       "  ('abacus', '0.06125'),\n",
       "  ('saltshaker', '0.05963'),\n",
       "  ('rule', '0.05126')],\n",
       " '8110534390.jpg': [('wallet', '0.17890'),\n",
       "  ('tray', '0.17708'),\n",
       "  ('pencil box', '0.07407'),\n",
       "  ('pillow', '0.05997'),\n",
       "  ('packet', '0.04771')],\n",
       " '7939636781.jpg': [('suit', '0.32754'),\n",
       "  ('mortarboard', '0.07978'),\n",
       "  ('abaya', '0.06232'),\n",
       "  ('sweatshirt', '0.05323'),\n",
       "  ('academic gown', '0.05109')],\n",
       " '8316661094.jpg': [('knee pad', '0.08949'),\n",
       "  ('cleaver', '0.05562'),\n",
       "  ('swimming trunks', '0.05534'),\n",
       "  ('letter opener', '0.05385'),\n",
       "  ('hatchet', '0.04997')],\n",
       " '8267921101.jpg': [('ashcan', '0.41466'),\n",
       "  ('oil filter', '0.33305'),\n",
       "  ('pencil sharpener', '0.04909'),\n",
       "  ('lighter', '0.01480'),\n",
       "  ('loupe', '0.01365')],\n",
       " '8347205801.jpg': [('cardigan', '0.53915'),\n",
       "  ('wool', '0.30793'),\n",
       "  ('poncho', '0.03287'),\n",
       "  ('chain mail', '0.01310'),\n",
       "  ('stole', '0.01213')],\n",
       " '6834597725.2.jpg': [('wallet', '0.15246'),\n",
       "  ('monitor', '0.05959'),\n",
       "  ('binder', '0.05168'),\n",
       "  ('toaster', '0.04161'),\n",
       "  ('pencil sharpener', '0.03979')],\n",
       " '8290582661.jpg': [('poncho', '0.39076'),\n",
       "  ('abaya', '0.12979'),\n",
       "  ('apron', '0.10978'),\n",
       "  ('pajama', '0.10189'),\n",
       "  ('overskirt', '0.07639')],\n",
       " '8263146006.jpg': [('mouse', '0.50852'),\n",
       "  ('toilet seat', '0.17741'),\n",
       "  ('neck brace', '0.05691'),\n",
       "  ('can opener', '0.04845'),\n",
       "  ('mortar', '0.03063')],\n",
       " '8273268937.jpg': [('brassiere', '0.50658'),\n",
       "  ('maillot', '0.12378'),\n",
       "  ('diaper', '0.06733'),\n",
       "  ('maillot', '0.04845'),\n",
       "  ('bikini', '0.03639')],\n",
       " '8189926895.jpg': [('swimming trunks', '0.20016'),\n",
       "  ('diaper', '0.18023'),\n",
       "  ('miniskirt', '0.17630'),\n",
       "  ('maillot', '0.10146'),\n",
       "  ('maillot', '0.05825')],\n",
       " '8318304643.jpg': [('sweatshirt', '0.25959'),\n",
       "  ('suit', '0.25770'),\n",
       "  ('cardigan', '0.21074'),\n",
       "  ('maillot', '0.05288'),\n",
       "  ('swimming trunks', '0.04989')],\n",
       " '8277268838.jpg': [('trench coat', '0.11976'),\n",
       "  ('tripod', '0.06252'),\n",
       "  ('cloak', '0.05545'),\n",
       "  ('abaya', '0.04907'),\n",
       "  ('backpack', '0.04878')],\n",
       " '7512103167.jpg': [('comic book', '0.47422'),\n",
       "  ('book jacket', '0.06800'),\n",
       "  ('jigsaw puzzle', '0.05421'),\n",
       "  ('monitor', '0.02102'),\n",
       "  ('screen', '0.02072')],\n",
       " '5574830964.20120211204402.jpg': [('television', '0.16296'),\n",
       "  ('dishwasher', '0.07193'),\n",
       "  ('table lamp', '0.05539'),\n",
       "  ('medicine chest', '0.04608'),\n",
       "  ('home theater', '0.04213')],\n",
       " '8334661247.jpg': [('power drill', '0.19351'),\n",
       "  ('joystick', '0.19295'),\n",
       "  ('lawn mower', '0.10721'),\n",
       "  ('spotlight', '0.04997'),\n",
       "  ('backpack', '0.04596')],\n",
       " '8265234917.jpg': [('digital clock', '0.08917'),\n",
       "  ('web site', '0.08648'),\n",
       "  ('rubber eraser', '0.08489'),\n",
       "  ('street sign', '0.07008'),\n",
       "  ('sunscreen', '0.05354')],\n",
       " '7257420125.20131113163115.jpg': [('loudspeaker', '0.38259'),\n",
       "  ('punching bag', '0.11569'),\n",
       "  ('modem', '0.10482'),\n",
       "  ('cellular telephone', '0.07461'),\n",
       "  ('desktop computer', '0.03491')],\n",
       " '8265481156.jpg': [('desktop computer', '0.11454'),\n",
       "  ('screen', '0.07830'),\n",
       "  ('web site', '0.06846'),\n",
       "  ('desk', '0.06490'),\n",
       "  ('snorkel', '0.03383')],\n",
       " '8318693533.jpg': [('cardigan', '0.47642'),\n",
       "  ('sweatshirt', '0.13188'),\n",
       "  ('velvet', '0.12389'),\n",
       "  ('wool', '0.07077'),\n",
       "  ('trench coat', '0.03871')],\n",
       " '8265245957.jpg': [('loupe', '0.16437'),\n",
       "  ('frying pan', '0.15225'),\n",
       "  ('combination lock', '0.13601'),\n",
       "  ('stethoscope', '0.07701'),\n",
       "  ('hook', '0.05686')],\n",
       " '8382584597.jpg': [('jersey', '0.15633'),\n",
       "  ('plastic bag', '0.11623'),\n",
       "  ('velvet', '0.07827'),\n",
       "  ('swimming trunks', '0.07584'),\n",
       "  ('abaya', '0.06756')],\n",
       " '7901256877.jpg': [('wallet', '0.09717'),\n",
       "  ('binder', '0.04370'),\n",
       "  ('street sign', '0.03345'),\n",
       "  ('buckle', '0.03305'),\n",
       "  ('loudspeaker', '0.02821')],\n",
       " '8070466090.1.jpg': [('hand-held computer', '0.27604'),\n",
       "  ('remote control', '0.19784'),\n",
       "  ('screen', '0.08900'),\n",
       "  ('iPod', '0.08898'),\n",
       "  ('cellular telephone', '0.08804')],\n",
       " '8349772864.jpg': [('spatula', '0.20841'),\n",
       "  ('paintbrush', '0.13431'),\n",
       "  ('screwdriver', '0.10552'),\n",
       "  ('pick', '0.09871'),\n",
       "  ('ballpoint', '0.03143')],\n",
       " '8106430999.jpg': [('swimming trunks', '0.94125'),\n",
       "  ('miniskirt', '0.05433'),\n",
       "  ('mailbag', '0.00113'),\n",
       "  ('sarong', '0.00087'),\n",
       "  ('velvet', '0.00037')],\n",
       " '6806053786.jpg': [('Band Aid', '0.15300'),\n",
       "  ('whistle', '0.14049'),\n",
       "  ('dumbbell', '0.12945'),\n",
       "  ('switch', '0.11208'),\n",
       "  ('rubber eraser', '0.07589')],\n",
       " '8376372214.20150320152934.jpg': [('lighter', '0.26206'),\n",
       "  ('iPod', '0.16963'),\n",
       "  ('perfume', '0.14367'),\n",
       "  ('cellular telephone', '0.11368'),\n",
       "  ('desktop computer', '0.05282')],\n",
       " '5688688234.20120211165612.jpg': [('modem', '0.25994'),\n",
       "  ('radio', '0.25537'),\n",
       "  ('notebook', '0.09694'),\n",
       "  ('loudspeaker', '0.04467'),\n",
       "  ('face powder', '0.02104')],\n",
       " '6655960659.20121101151431.jpg': [('digital clock', '0.80069'),\n",
       "  ('modem', '0.03061'),\n",
       "  ('perfume', '0.02365'),\n",
       "  ('face powder', '0.01455'),\n",
       "  ('rubber eraser', '0.01415')],\n",
       " '11555062_g.jpg': [('jean', '0.27377'),\n",
       "  ('notebook', '0.10556'),\n",
       "  ('suit', '0.09695'),\n",
       "  ('miniskirt', '0.03789'),\n",
       "  ('stole', '0.03683')],\n",
       " '8208657763.jpg': [('hard disc', '0.40094'),\n",
       "  ('scale', '0.30216'),\n",
       "  ('hand-held computer', '0.19508'),\n",
       "  ('digital watch', '0.01116'),\n",
       "  ('modem', '0.01093')],\n",
       " '8283689934.jpg': [('hard disc', '0.99639'),\n",
       "  ('CD player', '0.00093'),\n",
       "  ('waffle iron', '0.00044'),\n",
       "  ('magnetic compass', '0.00018'),\n",
       "  ('vacuum', '0.00018')],\n",
       " '7982024217.jpg': [('bulletproof vest', '0.23962'),\n",
       "  ('backpack', '0.11800'),\n",
       "  ('breastplate', '0.10978'),\n",
       "  ('ski mask', '0.07612'),\n",
       "  ('cuirass', '0.07277')],\n",
       " '8258705560.jpg': [('nipple', '0.25537'),\n",
       "  ('toilet seat', '0.15557'),\n",
       "  ('water jug', '0.12809'),\n",
       "  ('measuring cup', '0.10125'),\n",
       "  ('diaper', '0.05701')],\n",
       " '6923248107.jpg': [('gasmask', '0.18804'),\n",
       "  ('spotlight', '0.16564'),\n",
       "  ('microphone', '0.11118'),\n",
       "  ('loudspeaker', '0.04767'),\n",
       "  ('radio', '0.04666')],\n",
       " '7207515117.1.jpg': [('whistle', '0.14631'),\n",
       "  ('hair slide', '0.13772'),\n",
       "  ('stethoscope', '0.07965'),\n",
       "  ('ballpoint', '0.05962'),\n",
       "  ('safety pin', '0.05753')],\n",
       " '8282821878.jpg': [('modem', '0.19050'),\n",
       "  ('printer', '0.11627'),\n",
       "  ('safe', '0.10212'),\n",
       "  ('CD player', '0.07788'),\n",
       "  ('switch', '0.07165')],\n",
       " '8261608574.jpg': [('modem', '0.50879'),\n",
       "  ('cassette', '0.07029'),\n",
       "  ('tape player', '0.05387'),\n",
       "  ('harmonica', '0.05017'),\n",
       "  ('switch', '0.03630')],\n",
       " '8261395786.jpg': [('electric fan', '0.45211'),\n",
       "  ('space heater', '0.04793'),\n",
       "  ('rain barrel', '0.04315'),\n",
       "  ('radiator', '0.03151'),\n",
       "  ('wool', '0.03151')],\n",
       " '8280999684.jpg': [('lotion', '0.20551'),\n",
       "  ('safe', '0.17257'),\n",
       "  ('sunscreen', '0.16942'),\n",
       "  ('face powder', '0.13483'),\n",
       "  ('oil filter', '0.03481')],\n",
       " '8121968655.jpg': [('packet', '0.82668'),\n",
       "  ('carton', '0.06011'),\n",
       "  ('pencil box', '0.02986'),\n",
       "  ('Band Aid', '0.01906'),\n",
       "  ('envelope', '0.01352')],\n",
       " '6861142524.20130424150854.jpg': [('monitor', '0.17081'),\n",
       "  ('television', '0.14559'),\n",
       "  ('notebook', '0.13465'),\n",
       "  ('screen', '0.09380'),\n",
       "  ('modem', '0.07010')],\n",
       " '8270259279.jpg': [('hand-held computer', '0.99577'),\n",
       "  ('oscilloscope', '0.00087'),\n",
       "  ('cassette player', '0.00075'),\n",
       "  ('desktop computer', '0.00068'),\n",
       "  ('cellular telephone', '0.00040')],\n",
       " '7884039742.jpg': [('hand-held computer', '0.51967'),\n",
       "  ('notebook', '0.26230'),\n",
       "  ('desktop computer', '0.07198'),\n",
       "  ('computer keyboard', '0.02961'),\n",
       "  ('cellular telephone', '0.02820')],\n",
       " '7203137951.1.jpg': [('kimono', '0.21436'),\n",
       "  ('vase', '0.06499'),\n",
       "  ('sarong', '0.05969'),\n",
       "  ('vestment', '0.05103'),\n",
       "  ('saltshaker', '0.04806')],\n",
       " '7224680830.20131025171655.jpg': [('bulletproof vest', '0.72618'),\n",
       "  ('sweatshirt', '0.10881'),\n",
       "  ('wool', '0.05901'),\n",
       "  ('cardigan', '0.03960'),\n",
       "  ('jersey', '0.01815')],\n",
       " '8196272098.jpg': [('jersey', '0.43735'),\n",
       "  ('abaya', '0.24886'),\n",
       "  ('bulletproof vest', '0.08785'),\n",
       "  ('sweatshirt', '0.03950'),\n",
       "  ('academic gown', '0.03878')],\n",
       " '7575211421.jpg': [('mortarboard', '0.41042'),\n",
       "  ('academic gown', '0.08724'),\n",
       "  ('horizontal bar', '0.02030'),\n",
       "  ('sleeping bag', '0.01747'),\n",
       "  ('gown', '0.01568')],\n",
       " '8269177140.jpg': [('wallet', '0.12492'),\n",
       "  ('pencil box', '0.08567'),\n",
       "  ('hair slide', '0.03986'),\n",
       "  ('rubber eraser', '0.03585'),\n",
       "  ('lighter', '0.03487')],\n",
       " '8334090356.jpg': [('jersey', '0.45812'),\n",
       "  ('sweatshirt', '0.39811'),\n",
       "  ('lab coat', '0.08825'),\n",
       "  ('envelope', '0.01773'),\n",
       "  ('diaper', '0.01570')],\n",
       " '8310812394.jpg': [('cardigan', '0.46240'),\n",
       "  ('wool', '0.10222'),\n",
       "  ('stole', '0.09232'),\n",
       "  ('Windsor tie', '0.05923'),\n",
       "  ('bulletproof vest', '0.04189')],\n",
       " '8050569322.jpg': [('lab coat', '0.23294'),\n",
       "  ('pajama', '0.17027'),\n",
       "  ('bulletproof vest', '0.10996'),\n",
       "  ('brassiere', '0.09107'),\n",
       "  ('apron', '0.07448')],\n",
       " '8034883360.jpg': [('seat belt', '0.24058'),\n",
       "  ('green lizard', '0.10124'),\n",
       "  ('hair spray', '0.03333'),\n",
       "  ('American chameleon', '0.03260'),\n",
       "  ('green mamba', '0.02646')],\n",
       " '8247209090.jpg': [('jean', '0.28426'),\n",
       "  ('hatchet', '0.16737'),\n",
       "  ('can opener', '0.09928'),\n",
       "  ('hammer', '0.09183'),\n",
       "  ('scabbard', '0.05780')],\n",
       " '6785205212.jpg': [('gown', '0.30714'),\n",
       "  ('overskirt', '0.13565'),\n",
       "  ('cloak', '0.10838'),\n",
       "  ('abaya', '0.09777'),\n",
       "  ('velvet', '0.08624')],\n",
       " '7970080699.jpg': [('jean', '0.24860'),\n",
       "  ('abaya', '0.21602'),\n",
       "  ('obelisk', '0.06995'),\n",
       "  ('velvet', '0.03026'),\n",
       "  ('cloak', '0.02369')],\n",
       " '8067374189.jpg': [('suit', '0.16197'),\n",
       "  ('modem', '0.15108'),\n",
       "  ('cardigan', '0.14066'),\n",
       "  ('Windsor tie', '0.12031'),\n",
       "  ('sweatshirt', '0.07133')],\n",
       " '6620764642.jpg': [('ski', '0.11991'),\n",
       "  ('pencil box', '0.09621'),\n",
       "  ('puck', '0.09462'),\n",
       "  ('hard disc', '0.07578'),\n",
       "  ('oscilloscope', '0.06912')],\n",
       " '7656970791.jpg': [('cleaver', '0.13985'),\n",
       "  ('toaster', '0.13080'),\n",
       "  ('refrigerator', '0.12186'),\n",
       "  ('space heater', '0.10057'),\n",
       "  ('switch', '0.05664')],\n",
       " '8231401495.jpg': [('suit', '0.22812'),\n",
       "  ('jean', '0.18971'),\n",
       "  ('abaya', '0.03002'),\n",
       "  ('dumbbell', '0.01847'),\n",
       "  ('knee pad', '0.01793')],\n",
       " '4025128577.20120211202953.jpg': [('printer', '0.26902'),\n",
       "  ('scale', '0.19158'),\n",
       "  ('digital watch', '0.08508'),\n",
       "  ('photocopier', '0.03789'),\n",
       "  ('Polaroid camera', '0.02747')],\n",
       " '8277702248.jpg': [('electric fan', '0.29586'),\n",
       "  ('stove', '0.15193'),\n",
       "  ('buckle', '0.07732'),\n",
       "  ('reel', '0.06281'),\n",
       "  ('analog clock', '0.06015')],\n",
       " '7949350584.jpg': [('diaper', '0.24864'),\n",
       "  ('piggy bank', '0.18669'),\n",
       "  ('purse', '0.12515'),\n",
       "  ('mailbag', '0.08473'),\n",
       "  ('velvet', '0.04996')],\n",
       " '6277697189.jpg': [('comic book', '0.20536'),\n",
       "  ('book jacket', '0.09536'),\n",
       "  ('ballplayer', '0.07422'),\n",
       "  ('abacus', '0.07031'),\n",
       "  ('web site', '0.05715')],\n",
       " '7979329439.jpg': [('Windsor tie', '0.20246'),\n",
       "  ('bulletproof vest', '0.18333'),\n",
       "  ('lab coat', '0.16844'),\n",
       "  ('suit', '0.13770'),\n",
       "  ('sweatshirt', '0.04632')],\n",
       " '8260088929.jpg': [('espresso maker', '0.26552'),\n",
       "  ('neck brace', '0.12399'),\n",
       "  ('water jug', '0.08285'),\n",
       "  ('coffeepot', '0.06082'),\n",
       "  ('can opener', '0.03862')],\n",
       " '8312201086.jpg': [('hammer', '0.15770'),\n",
       "  ('hatchet', '0.15026'),\n",
       "  ('drumstick', '0.08823'),\n",
       "  ('letter opener', '0.07765'),\n",
       "  ('scabbard', '0.04519')],\n",
       " '8269427691.jpg': [('desktop computer', '0.44208'),\n",
       "  ('microwave', '0.07595'),\n",
       "  ('entertainment center', '0.04414'),\n",
       "  ('tape player', '0.03811'),\n",
       "  ('television', '0.03441')],\n",
       " '7841380114.1.jpg': [('hard disc', '0.31518'),\n",
       "  ('digital watch', '0.21453'),\n",
       "  ('modem', '0.11239'),\n",
       "  ('hand-held computer', '0.09115'),\n",
       "  ('stopwatch', '0.05318')],\n",
       " '7217633107.jpg': [('football helmet', '0.13734'),\n",
       "  ('microphone', '0.09152'),\n",
       "  ('muzzle', '0.06983'),\n",
       "  ('hook', '0.05865'),\n",
       "  ('hand blower', '0.05617')],\n",
       " '8235150137.jpg': [('loudspeaker', '0.76030'),\n",
       "  ('radio', '0.08260'),\n",
       "  ('cassette player', '0.04400'),\n",
       "  ('switch', '0.03001'),\n",
       "  ('tape player', '0.02735')],\n",
       " '8237568094.jpg': [('alp', '0.12966'),\n",
       "  ('ski', '0.12115'),\n",
       "  ('lab coat', '0.08858'),\n",
       "  ('solar dish', '0.04675'),\n",
       "  ('jean', '0.03030')],\n",
       " '7759536433.jpg': [('gown', '0.51914'),\n",
       "  ('overskirt', '0.21338'),\n",
       "  ('hoopskirt', '0.13840'),\n",
       "  ('miniskirt', '0.02770'),\n",
       "  ('brassiere', '0.01874')],\n",
       " '7869410417.jpg': [('lotion', '0.12190'),\n",
       "  ('red wine', '0.09299'),\n",
       "  ('soap dispenser', '0.08162'),\n",
       "  ('wine bottle', '0.07208'),\n",
       "  ('abaya', '0.05917')],\n",
       " '5739967382.20130327121253.jpg': [('monitor', '0.50552'),\n",
       "  ('television', '0.22903'),\n",
       "  ('screen', '0.07758'),\n",
       "  ('desktop computer', '0.05128'),\n",
       "  ('notebook', '0.01931')],\n",
       " '8219887712.jpg': [('mailbag', '0.23798'),\n",
       "  ('backpack', '0.11400'),\n",
       "  ('apron', '0.07830'),\n",
       "  ('purse', '0.07392'),\n",
       "  ('hamper', '0.06205')],\n",
       " '7923485906.1.jpg': [('stole', '0.28360'),\n",
       "  ('Windsor tie', '0.25627'),\n",
       "  ('jean', '0.12839'),\n",
       "  ('pajama', '0.12682'),\n",
       "  ('chain mail', '0.05304')],\n",
       " '6643893492.20140605115222.jpg': [('modem', '0.17603'),\n",
       "  ('remote control', '0.07942'),\n",
       "  ('hard disc', '0.06198'),\n",
       "  ('book jacket', '0.05996'),\n",
       "  ('radio', '0.05394')],\n",
       " '8290845805.jpg': [('trench coat', '0.20084'),\n",
       "  ('cardigan', '0.15269'),\n",
       "  ('mailbag', '0.10108'),\n",
       "  ('fur coat', '0.09649'),\n",
       "  ('cowboy boot', '0.08383')],\n",
       " '8284178484.jpg': [('bolo tie', '0.47051'),\n",
       "  ('stethoscope', '0.13618'),\n",
       "  ('hook', '0.07661'),\n",
       "  ('loupe', '0.04847'),\n",
       "  ('chain', '0.03065')],\n",
       " '7351280645.jpg': [('printer', '0.51225'),\n",
       "  ('photocopier', '0.44190'),\n",
       "  ('desk', '0.01117'),\n",
       "  ('rotisserie', '0.00867'),\n",
       "  ('sewing machine', '0.00390')],\n",
       " '7341894529.1.jpg': [('refrigerator', '0.30241'),\n",
       "  ('safe', '0.20216'),\n",
       "  ('desktop computer', '0.14705'),\n",
       "  ('lighter', '0.04291'),\n",
       "  ('binder', '0.02907')],\n",
       " '8126456328.jpg': [('suit', '0.30366'),\n",
       "  ('bannister', '0.06343'),\n",
       "  ('vacuum', '0.06342'),\n",
       "  ('tripod', '0.05333'),\n",
       "  ('crutch', '0.04817')],\n",
       " '8323020200.jpg': [('punching bag', '0.20585'),\n",
       "  ('remote control', '0.05020'),\n",
       "  ('bathing cap', '0.03595'),\n",
       "  ('jersey', '0.03441'),\n",
       "  ('diaper', '0.02720')],\n",
       " '8273888602.jpg': [('cassette', '0.15524'),\n",
       "  (\"carpenter's kit\", '0.11817'),\n",
       "  ('harmonica', '0.09821'),\n",
       "  ('tape player', '0.05764'),\n",
       "  ('cassette player', '0.05447')],\n",
       " '8228917926.jpg': [('soap dispenser', '0.18738'),\n",
       "  ('screen', '0.12017'),\n",
       "  ('modem', '0.10283'),\n",
       "  ('oil filter', '0.06466'),\n",
       "  ('paper towel', '0.06321')],\n",
       " '8291187315.jpg': [('jean', '0.46211'),\n",
       "  ('swab', '0.06188'),\n",
       "  ('plunger', '0.03631'),\n",
       "  ('broom', '0.03502'),\n",
       "  ('vase', '0.03008')],\n",
       " '8264507543.jpg': [('loudspeaker', '0.30193'),\n",
       "  ('mouse', '0.12456'),\n",
       "  ('CD player', '0.09473'),\n",
       "  ('radio', '0.06109'),\n",
       "  ('remote control', '0.06044')],\n",
       " '8082765754.jpg': [('trench coat', '0.96267'),\n",
       "  ('sweatshirt', '0.00803'),\n",
       "  ('cardigan', '0.00725'),\n",
       "  ('cloak', '0.00387'),\n",
       "  ('suit', '0.00269')],\n",
       " '5717848404.20120211205526.jpg': [('digital clock', '0.19335'),\n",
       "  ('typewriter keyboard', '0.06219'),\n",
       "  ('switch', '0.03979'),\n",
       "  ('web site', '0.03943'),\n",
       "  ('space bar', '0.03925')],\n",
       " '8193534928.jpg': [('apron', '0.82534'),\n",
       "  ('bib', '0.04740'),\n",
       "  ('jersey', '0.03148'),\n",
       "  ('pajama', '0.01112'),\n",
       "  ('plastic bag', '0.00971')],\n",
       " '7708764383.11.jpg': [('jersey', '0.55000'),\n",
       "  ('maillot', '0.15605'),\n",
       "  ('maillot', '0.06913'),\n",
       "  ('brassiere', '0.05663'),\n",
       "  ('dumbbell', '0.02921')],\n",
       " '8313959358.jpg': [('cardigan', '0.26563'),\n",
       "  ('wool', '0.26008'),\n",
       "  ('stole', '0.14787'),\n",
       "  ('chain mail', '0.07826'),\n",
       "  ('quilt', '0.04887')],\n",
       " '7540346331.jpg': [('web site', '0.22353'),\n",
       "  ('refrigerator', '0.20057'),\n",
       "  ('comic book', '0.08239'),\n",
       "  ('envelope', '0.05120'),\n",
       "  ('cash machine', '0.03837')],\n",
       " '8149407994.jpg': [('maillot', '0.42641'),\n",
       "  ('brassiere', '0.25566'),\n",
       "  ('maillot', '0.24406'),\n",
       "  ('bikini', '0.03607'),\n",
       "  ('knee pad', '0.03357')],\n",
       " '8260087626.jpg': [('hand blower', '0.32264'),\n",
       "  ('microphone', '0.26018'),\n",
       "  ('spotlight', '0.14173'),\n",
       "  ('table lamp', '0.04650'),\n",
       "  ('strainer', '0.01660')],\n",
       " '8290966744.jpg': [('suit', '0.56576'),\n",
       "  ('bulletproof vest', '0.12087'),\n",
       "  ('trench coat', '0.09675'),\n",
       "  ('military uniform', '0.05551'),\n",
       "  ('Windsor tie', '0.04502')],\n",
       " '8331193080.jpg': [('jersey', '0.30994'),\n",
       "  ('sweatshirt', '0.16648'),\n",
       "  ('cardigan', '0.16508'),\n",
       "  ('stole', '0.10459'),\n",
       "  ('wool', '0.04514')],\n",
       " '8268015753.jpg': [('Band Aid', '0.19766'),\n",
       "  ('oil filter', '0.18223'),\n",
       "  ('power drill', '0.17144'),\n",
       "  ('screwdriver', '0.13059'),\n",
       "  (\"carpenter's kit\", '0.05828')],\n",
       " '8270263239.jpg': [('abacus', '0.33231'),\n",
       "  ('studio couch', '0.10478'),\n",
       "  ('dumbbell', '0.10055'),\n",
       "  ('plate rack', '0.09845'),\n",
       "  ('hair slide', '0.06146')],\n",
       " '6756513265.jpg': [('Petri dish', '0.17608'),\n",
       "  ('strainer', '0.11023'),\n",
       "  ('loupe', '0.08375'),\n",
       "  ('face powder', '0.07566'),\n",
       "  ('pill bottle', '0.05470')],\n",
       " '8276248253.jpg': [('pajama', '0.12018'),\n",
       "  ('hoopskirt', '0.08753'),\n",
       "  ('swimming trunks', '0.06228'),\n",
       "  ('handkerchief', '0.04191'),\n",
       "  ('overskirt', '0.03983')],\n",
       " '8266577076.jpg': [('can opener', '0.17334'),\n",
       "  ('frying pan', '0.10265'),\n",
       "  ('waffle iron', '0.09467'),\n",
       "  ('screwdriver', '0.05522'),\n",
       "  ('fountain pen', '0.04467')],\n",
       " '7634148301.jpg': [('knee pad', '0.34071'),\n",
       "  ('swimming trunks', '0.30454'),\n",
       "  ('miniskirt', '0.19191'),\n",
       "  ('maillot', '0.02696'),\n",
       "  ('maillot', '0.01392')],\n",
       " '4096600156.20120211194858.jpg': [('notebook', '0.23875'),\n",
       "  ('desktop computer', '0.12021'),\n",
       "  ('modem', '0.07638'),\n",
       "  ('screen', '0.04489'),\n",
       "  ('pencil sharpener', '0.04052')],\n",
       " '6486336885.jpg': [('screwdriver', '0.14993'),\n",
       "  ('ski', '0.14246'),\n",
       "  ('power drill', '0.06228'),\n",
       "  ('rubber eraser', '0.05454'),\n",
       "  ('fountain pen', '0.04076')],\n",
       " '7785984763.jpg': [('brassiere', '0.23615'),\n",
       "  ('bathtub', '0.18475'),\n",
       "  ('tub', '0.12019'),\n",
       "  ('gown', '0.11831'),\n",
       "  ('diaper', '0.05946')],\n",
       " '8266270649.jpg': [('harmonica', '0.24973'),\n",
       "  ('switch', '0.13528'),\n",
       "  ('modem', '0.06626'),\n",
       "  ('studio couch', '0.05395'),\n",
       "  ('quill', '0.05321')],\n",
       " '8274695776.jpg': [('iPod', '0.41235'),\n",
       "  ('modem', '0.13344'),\n",
       "  ('hard disc', '0.11874'),\n",
       "  ('cassette', '0.08425'),\n",
       "  ('radio', '0.04300')],\n",
       " '7730239483.jpg': [('miniskirt', '0.61340'),\n",
       "  ('swimming trunks', '0.30961'),\n",
       "  ('knee pad', '0.04579'),\n",
       "  ('sarong', '0.00531'),\n",
       "  ('maillot', '0.00391')],\n",
       " '7463657202.jpg': [('typewriter keyboard', '0.43985'),\n",
       "  ('space bar', '0.17900'),\n",
       "  ('safety pin', '0.02403'),\n",
       "  ('computer keyboard', '0.02117'),\n",
       "  (\"carpenter's kit\", '0.02062')],\n",
       " '7945883732.1.jpg': [('stole', '0.38725'),\n",
       "  ('wool', '0.16538'),\n",
       "  ('cardigan', '0.14529'),\n",
       "  ('fur coat', '0.06326'),\n",
       "  ('velvet', '0.05531')],\n",
       " '8277247796.jpg': [('spotlight', '0.20309'),\n",
       "  ('electric fan', '0.15291'),\n",
       "  ('microphone', '0.13487'),\n",
       "  ('dial telephone', '0.08174'),\n",
       "  ('barber chair', '0.05381')],\n",
       " '6826548626.1.jpg': [('parallel bars', '0.25339'),\n",
       "  ('apron', '0.08541'),\n",
       "  ('crutch', '0.06469'),\n",
       "  ('dumbbell', '0.06021'),\n",
       "  ('barbell', '0.05682')],\n",
       " '8345190003.jpg': [('jean', '0.31983'),\n",
       "  ('scabbard', '0.13285'),\n",
       "  ('suit', '0.02945'),\n",
       "  ('corkscrew', '0.02608'),\n",
       "  ('cleaver', '0.02215')],\n",
       " '5493919059.1.jpg': [('lighter', '0.10474'),\n",
       "  ('gas pump', '0.10437'),\n",
       "  ('perfume', '0.08133'),\n",
       "  ('red wine', '0.07675'),\n",
       "  ('combination lock', '0.07087')],\n",
       " '8280845687.jpg': [('web site', '0.63591'),\n",
       "  ('oscilloscope', '0.06760'),\n",
       "  ('scoreboard', '0.05341'),\n",
       "  ('digital clock', '0.04546'),\n",
       "  ('cassette', '0.02139')],\n",
       " '8277593737.jpg': [('pencil sharpener', '0.07882'),\n",
       "  ('can opener', '0.05450'),\n",
       "  ('whistle', '0.05169'),\n",
       "  ('sunglass', '0.04206'),\n",
       "  ('toaster', '0.03420')],\n",
       " '8302396785.jpg': [('digital clock', '0.25223'),\n",
       "  ('modem', '0.05990'),\n",
       "  ('spatula', '0.05127'),\n",
       "  ('rule', '0.02994'),\n",
       "  ('computer keyboard', '0.02769')],\n",
       " '7519459096.jpg': [('mailbag', '0.61978'),\n",
       "  ('purse', '0.37419'),\n",
       "  ('backpack', '0.00506'),\n",
       "  ('shopping basket', '0.00044'),\n",
       "  ('padlock', '0.00023')],\n",
       " '8270885455.jpg': [('hen-of-the-woods', '0.58672'),\n",
       "  ('hair slide', '0.18594'),\n",
       "  ('dishrag', '0.10895'),\n",
       "  ('safety pin', '0.03097'),\n",
       "  ('bolo tie', '0.03083')],\n",
       " '8223031753.jpg': [('loudspeaker', '0.26280'),\n",
       "  ('cassette', '0.21412'),\n",
       "  ('safe', '0.14859'),\n",
       "  ('switch', '0.09884'),\n",
       "  ('tape player', '0.04024')],\n",
       " '8196072520.1.jpg': [('washbasin', '0.21573'),\n",
       "  ('red wine', '0.12584'),\n",
       "  ('punching bag', '0.08553'),\n",
       "  ('wok', '0.07445'),\n",
       "  ('lipstick', '0.05859')],\n",
       " '7428475687.20140124165358.jpg': [('modem', '0.25140'),\n",
       "  ('radio', '0.23599'),\n",
       "  ('projector', '0.17901'),\n",
       "  ('CD player', '0.05062'),\n",
       "  ('loudspeaker', '0.04846')],\n",
       " '8270559556.jpg': [('envelope', '0.26691'),\n",
       "  ('web site', '0.14376'),\n",
       "  ('analog clock', '0.12824'),\n",
       "  ('stopwatch', '0.04481'),\n",
       "  ('hand blower', '0.02939')],\n",
       " '7998720251.1.jpg': [(\"carpenter's kit\", '0.12047'),\n",
       "  ('switch', '0.06791'),\n",
       "  ('tape player', '0.06143'),\n",
       "  ('space heater', '0.04746'),\n",
       "  ('cassette', '0.04064')],\n",
       " '7597208661.jpg': [('switch', '0.11990'),\n",
       "  ('radio', '0.11521'),\n",
       "  ('perfume', '0.10317'),\n",
       "  ('modem', '0.08959'),\n",
       "  ('tape player', '0.07497')],\n",
       " '8178328414.20150123175751.jpg': [('desktop computer', '0.79567'),\n",
       "  ('loudspeaker', '0.12271'),\n",
       "  ('radio', '0.01600'),\n",
       "  ('hard disc', '0.01043'),\n",
       "  ('modem', '0.00919')],\n",
       " '8019538385.jpg': [('sweatshirt', '0.32691'),\n",
       "  ('cardigan', '0.18550'),\n",
       "  ('stole', '0.07912'),\n",
       "  ('jersey', '0.07023'),\n",
       "  ('lab coat', '0.06956')],\n",
       " '8299097401.jpg': [('jean', '0.98218'),\n",
       "  ('knee pad', '0.00822'),\n",
       "  ('miniskirt', '0.00147'),\n",
       "  ('scabbard', '0.00107'),\n",
       "  ('sarong', '0.00077')],\n",
       " '7109561479.jpg': [('web site', '0.56101'),\n",
       "  ('comic book', '0.06962'),\n",
       "  ('packet', '0.04860'),\n",
       "  ('vending machine', '0.04569'),\n",
       "  ('rule', '0.02988')],\n",
       " '6920653148.jpg': [('power drill', '0.14624'),\n",
       "  ('vacuum', '0.06272'),\n",
       "  ('comic book', '0.05826'),\n",
       "  ('dumbbell', '0.02550'),\n",
       "  ('book jacket', '0.02467')],\n",
       " '8334871128.jpg': [('web site', '0.54573'),\n",
       "  ('refrigerator', '0.13133'),\n",
       "  ('printer', '0.05272'),\n",
       "  ('medicine chest', '0.04781'),\n",
       "  ('oscilloscope', '0.02423')],\n",
       " '6974458914.1.jpg': [('remote control', '0.89401'),\n",
       "  ('joystick', '0.05159'),\n",
       "  ('mouse', '0.01004'),\n",
       "  ('radio', '0.00959'),\n",
       "  ('cellular telephone', '0.00491')],\n",
       " '6018035143.jpg': [('whistle', '0.29551'),\n",
       "  ('lighter', '0.18385'),\n",
       "  ('rubber eraser', '0.05839'),\n",
       "  ('lotion', '0.05046'),\n",
       "  ('microphone', '0.04075')],\n",
       " '8300877818.jpg': [('loudspeaker', '0.15242'),\n",
       "  ('letter opener', '0.06866'),\n",
       "  ('ballpoint', '0.06014'),\n",
       "  ('binder', '0.04875'),\n",
       "  ('crutch', '0.04633')],\n",
       " '8250309958.jpg': [('nipple', '0.10963'),\n",
       "  ('Band Aid', '0.10396'),\n",
       "  ('rubber eraser', '0.06918'),\n",
       "  ('binder', '0.06480'),\n",
       "  ('whistle', '0.06135')],\n",
       " '8266271076.jpg': [('modem', '0.15535'),\n",
       "  ('cassette', '0.09754'),\n",
       "  ('switch', '0.08554'),\n",
       "  ('hard disc', '0.05684'),\n",
       "  ('radio', '0.04323')],\n",
       " '8064443940.jpg': [('web site', '0.23679'),\n",
       "  ('scale', '0.13046'),\n",
       "  ('printer', '0.06614'),\n",
       "  ('digital clock', '0.06574'),\n",
       "  ('projector', '0.04389')],\n",
       " '8053000026.jpg': [('wool', '0.42662'),\n",
       "  ('wallet', '0.07079'),\n",
       "  ('velvet', '0.04958'),\n",
       "  ('purse', '0.03886'),\n",
       "  ('poncho', '0.03365')],\n",
       " '8169287977.jpg': [('joystick', '0.28405'),\n",
       "  ('hand-held computer', '0.16216'),\n",
       "  ('cellular telephone', '0.06648'),\n",
       "  ('scale', '0.04043'),\n",
       "  ('binder', '0.03309')],\n",
       " '8283970566.jpg': [('microphone', '0.18584'),\n",
       "  ('table lamp', '0.10536'),\n",
       "  ('swab', '0.05044'),\n",
       "  ('syringe', '0.04472'),\n",
       "  ('spotlight', '0.03703')],\n",
       " '8283350514.jpg': [('hamper', '0.19330'),\n",
       "  ('matchstick', '0.18011'),\n",
       "  ('crate', '0.16595'),\n",
       "  ('abacus', '0.07191'),\n",
       "  ('doormat', '0.06477')],\n",
       " '8341132477.jpg': [('trench coat', '0.37809'),\n",
       "  ('lab coat', '0.37252'),\n",
       "  ('sweatshirt', '0.15283'),\n",
       "  ('jersey', '0.06342'),\n",
       "  ('pajama', '0.00659')],\n",
       " '8332323176.jpg': [('cowboy boot', '0.86494'),\n",
       "  ('clog', '0.05657'),\n",
       "  ('Loafer', '0.03753'),\n",
       "  ('holster', '0.00863'),\n",
       "  ('breastplate', '0.00834')],\n",
       " '7607879151.jpg': [('medicine chest', '0.25506'),\n",
       "  ('wardrobe', '0.21323'),\n",
       "  ('switch', '0.11842'),\n",
       "  ('envelope', '0.07023'),\n",
       "  ('refrigerator', '0.03370')],\n",
       " '7616985093.jpg': [('loudspeaker', '0.85167'),\n",
       "  ('Polaroid camera', '0.01295'),\n",
       "  ('projector', '0.01238'),\n",
       "  ('mouse', '0.01236'),\n",
       "  ('CD player', '0.01149')],\n",
       " '7949359557.jpg': [('pencil box', '0.19119'),\n",
       "  ('safety pin', '0.12121'),\n",
       "  ('lighter', '0.09477'),\n",
       "  ('sleeping bag', '0.08560'),\n",
       "  ('handkerchief', '0.05694')],\n",
       " '8343556531.jpg': [('swimming trunks', '0.99482'),\n",
       "  ('miniskirt', '0.00500'),\n",
       "  ('sarong', '0.00009'),\n",
       "  ('knee pad', '0.00003'),\n",
       "  ('velvet', '0.00002')],\n",
       " '8214567492.jpg': [('poncho', '0.24706'),\n",
       "  ('wool', '0.22949'),\n",
       "  ('cardigan', '0.18628'),\n",
       "  ('stole', '0.11600'),\n",
       "  ('vestment', '0.06274')],\n",
       " '8270221321.jpg': [('hand-held computer', '0.51815'),\n",
       "  ('notebook', '0.14682'),\n",
       "  ('space bar', '0.09017'),\n",
       "  ('laptop', '0.06337'),\n",
       "  ('cellular telephone', '0.05997')],\n",
       " '8282887173.jpg': [('suit', '0.41822'),\n",
       "  ('academic gown', '0.16719'),\n",
       "  ('sweatshirt', '0.08381'),\n",
       "  ('trench coat', '0.08030'),\n",
       "  ('velvet', '0.05843')],\n",
       " '8271351850.jpg': [('microphone', '0.23479'),\n",
       "  ('space heater', '0.12221'),\n",
       "  ('joystick', '0.08201'),\n",
       "  ('spotlight', '0.07750'),\n",
       "  ('vacuum', '0.05921')],\n",
       " '8286762597.jpg': [('poncho', '0.54166'),\n",
       "  ('apron', '0.17495'),\n",
       "  ('pajama', '0.07485'),\n",
       "  ('stole', '0.05223'),\n",
       "  ('abaya', '0.03096')],\n",
       " '7427902469.jpg': [('binder', '0.30009'),\n",
       "  ('desktop computer', '0.05239'),\n",
       "  ('police van', '0.03968'),\n",
       "  ('hard disc', '0.03697'),\n",
       "  ('ambulance', '0.03464')],\n",
       " '8223447418.jpg': [('hard disc', '0.12051'),\n",
       "  ('pencil sharpener', '0.11703'),\n",
       "  ('radio', '0.07593'),\n",
       "  ('modem', '0.07389'),\n",
       "  ('waffle iron', '0.06803')],\n",
       " '8278684781.jpg': [('Band Aid', '0.58893'),\n",
       "  ('packet', '0.16335'),\n",
       "  ('book jacket', '0.06576'),\n",
       "  ('mousetrap', '0.03691'),\n",
       "  ('oil filter', '0.01357')],\n",
       " '7587863882.jpg': [('gasmask', '0.33324'),\n",
       "  ('backpack', '0.15081'),\n",
       "  ('oxygen mask', '0.06782'),\n",
       "  ('shower cap', '0.06611'),\n",
       "  ('nipple', '0.04582')],\n",
       " '8223314302.jpg': [('refrigerator', '0.23062'),\n",
       "  ('switch', '0.10393'),\n",
       "  ('cleaver', '0.05265'),\n",
       "  ('wardrobe', '0.04451'),\n",
       "  ('rule', '0.03789')],\n",
       " '7767572362.jpg': [('velvet', '0.24115'),\n",
       "  ('sarong', '0.16218'),\n",
       "  ('overskirt', '0.10968'),\n",
       "  ('backpack', '0.10627'),\n",
       "  ('stole', '0.08518')],\n",
       " '8443596402.jpg': [('reflex camera', '0.95506'),\n",
       "  ('lens cap', '0.01533'),\n",
       "  ('digital watch', '0.00472'),\n",
       "  ('radio', '0.00366'),\n",
       "  ('tape player', '0.00346')],\n",
       " '6212615984.20120229103746.jpg': [('book jacket', '0.21906'),\n",
       "  ('corkscrew', '0.21264'),\n",
       "  ('street sign', '0.16796'),\n",
       "  ('comic book', '0.06767'),\n",
       "  ('can opener', '0.03564')],\n",
       " '8351384784.jpg': [('jersey', '0.99953'),\n",
       "  ('sweatshirt', '0.00034'),\n",
       "  ('maillot', '0.00004'),\n",
       "  ('cardigan', '0.00002'),\n",
       "  ('velvet', '0.00002')],\n",
       " '8271519782.jpg': [('modem', '0.13327'),\n",
       "  ('oil filter', '0.13063'),\n",
       "  ('face powder', '0.11029'),\n",
       "  ('binder', '0.09875'),\n",
       "  ('perfume', '0.08737')],\n",
       " '7140165980.2.jpg': [('lipstick', '0.17006'),\n",
       "  ('paintbrush', '0.06746'),\n",
       "  ('swab', '0.04941'),\n",
       "  ('ballpoint', '0.04895'),\n",
       "  ('rule', '0.04726')],\n",
       " '8273954288.jpg': [('syringe', '0.14209'),\n",
       "  ('rule', '0.08483'),\n",
       "  ('nail', '0.07693'),\n",
       "  ('ballpoint', '0.06892'),\n",
       "  ('screwdriver', '0.06006')],\n",
       " '7995169651.jpg': [('binoculars', '0.10425'),\n",
       "  ('mouse', '0.10097'),\n",
       "  ('running shoe', '0.09737'),\n",
       "  ('printer', '0.04124'),\n",
       "  ('toaster', '0.03575')],\n",
       " '8282687404.jpg': [('cellular telephone', '0.36923'),\n",
       "  ('remote control', '0.07080'),\n",
       "  ('gas pump', '0.06540'),\n",
       "  ('hand-held computer', '0.03617'),\n",
       "  ('iPod', '0.02434')],\n",
       " '6936910435.jpg': [('brassiere', '0.46322'),\n",
       "  ('bow tie', '0.11911'),\n",
       "  ('knee pad', '0.06882'),\n",
       "  ('maillot', '0.05584'),\n",
       "  ('Windsor tie', '0.05223')],\n",
       " '8264205221.jpg': [('soap dispenser', '0.11347'),\n",
       "  ('cellular telephone', '0.10148'),\n",
       "  ('stopwatch', '0.08387'),\n",
       "  ('scale', '0.07864'),\n",
       "  ('digital clock', '0.05223')],\n",
       " '6981583546.jpg': [('microwave', '0.21381'),\n",
       "  ('television', '0.18488'),\n",
       "  ('screen', '0.18319'),\n",
       "  ('nipple', '0.04258'),\n",
       "  ('Band Aid', '0.02743')],\n",
       " '7361565080.20131225153636.jpg': [('binder', '0.33737'),\n",
       "  ('envelope', '0.14545'),\n",
       "  ('soap dispenser', '0.06518'),\n",
       "  ('medicine chest', '0.03907'),\n",
       "  ('switch', '0.03805')],\n",
       " '8274228587.jpg': [('monitor', '0.46675'),\n",
       "  ('screen', '0.16615'),\n",
       "  ('television', '0.12261'),\n",
       "  ('wire-haired fox terrier', '0.02834'),\n",
       "  ('chow', '0.01892')],\n",
       " '4088963893.20120211212840.jpg': [('joystick', '0.89032'),\n",
       "  ('binoculars', '0.03877'),\n",
       "  ('remote control', '0.03464'),\n",
       "  ('dumbbell', '0.00444'),\n",
       "  ('loupe', '0.00411')],\n",
       " '6751302988.20130219144830.jpg': [('modem', '0.84831'),\n",
       "  ('radio', '0.08635'),\n",
       "  ('mouse', '0.03575'),\n",
       "  ('microphone', '0.00418'),\n",
       "  ('scale', '0.00284')],\n",
       " '7799609691.jpg': [('soap dispenser', '0.38496'),\n",
       "  ('switch', '0.08803'),\n",
       "  ('paper towel', '0.07645'),\n",
       "  ('cleaver', '0.07311'),\n",
       "  ('sunscreen', '0.04282')],\n",
       " '7450222883.1.jpg': [('jersey', '0.22972'),\n",
       "  ('cardigan', '0.21316'),\n",
       "  ('bulletproof vest', '0.16469'),\n",
       "  ('maillot', '0.07207'),\n",
       "  ('apron', '0.05445')],\n",
       " '8152172042.jpg': [('sweatshirt', '0.14254'),\n",
       "  ('packet', '0.13109'),\n",
       "  ('plastic bag', '0.08441'),\n",
       "  ('jersey', '0.06120'),\n",
       "  ('apron', '0.06024')],\n",
       " '8358907734.jpg': [('screw', '0.22088'),\n",
       "  ('syringe', '0.12941'),\n",
       "  ('hand blower', '0.06189'),\n",
       "  ('corkscrew', '0.04669'),\n",
       "  ('electric guitar', '0.03459')],\n",
       " '7849068409.jpg': [('espresso maker', '0.08641'),\n",
       "  ('can opener', '0.08003'),\n",
       "  ('gas pump', '0.06239'),\n",
       "  ('cassette player', '0.05809'),\n",
       "  ('lab coat', '0.05199')],\n",
       " '7136198784.20130912112036.jpg': [('desktop computer', '0.71875'),\n",
       "  ('tape player', '0.05851'),\n",
       "  ('modem', '0.05576'),\n",
       "  ('radio', '0.02794'),\n",
       "  ('hard disc', '0.02674')],\n",
       " '8270657552.jpg': [('hair spray', '0.09664'),\n",
       "  ('web site', '0.07202'),\n",
       "  ('water bottle', '0.06177'),\n",
       "  ('medicine chest', '0.05940'),\n",
       "  ('nipple', '0.04676')],\n",
       " '8283548157.jpg': [('Polaroid camera', '0.87456'),\n",
       "  ('reflex camera', '0.09518'),\n",
       "  ('loudspeaker', '0.01267'),\n",
       "  ('lens cap', '0.00393'),\n",
       "  ('projector', '0.00285')],\n",
       " '8309390544.jpg': [('bulletproof vest', '0.22003'),\n",
       "  ('Windsor tie', '0.20122'),\n",
       "  ('sweatshirt', '0.14334'),\n",
       "  ('cardigan', '0.14166'),\n",
       "  ('lab coat', '0.07606')],\n",
       " '8187960539.jpg': [('sweatshirt', '0.20454'),\n",
       "  ('suit', '0.17321'),\n",
       "  ('jersey', '0.12525'),\n",
       "  ('velvet', '0.09971'),\n",
       "  ('cardigan', '0.08900')],\n",
       " '8332431195.jpg': [('miniskirt', '0.69161'),\n",
       "  ('jean', '0.03027'),\n",
       "  ('swimming trunks', '0.02317'),\n",
       "  ('maillot', '0.02165'),\n",
       "  ('sarong', '0.01173')],\n",
       " '8149617486.20141215100518.jpg': [('desktop computer', '0.78254'),\n",
       "  ('screen', '0.03394'),\n",
       "  ('modem', '0.03381'),\n",
       "  ('cellular telephone', '0.02643'),\n",
       "  ('monitor', '0.01550')],\n",
       " '8027751723.jpg': [('dumbbell', '0.06459'),\n",
       "  ('jersey', '0.05929'),\n",
       "  ('oboe', '0.05422'),\n",
       "  ('crutch', '0.04433'),\n",
       "  ('electric guitar', '0.02981')],\n",
       " '8274612621.jpg': [('suit', '0.31325'),\n",
       "  ('academic gown', '0.29628'),\n",
       "  ('sweatshirt', '0.06876'),\n",
       "  ('trench coat', '0.06652'),\n",
       "  ('velvet', '0.05355')],\n",
       " '8218061172.jpg': [('CD player', '0.25966'),\n",
       "  ('radio', '0.22499'),\n",
       "  ('tape player', '0.18123'),\n",
       "  ('modem', '0.10243'),\n",
       "  ('cassette player', '0.09387')],\n",
       " '8348243384.jpg': [('scoreboard', '0.29499'),\n",
       "  ('book jacket', '0.17071'),\n",
       "  ('packet', '0.07020'),\n",
       "  ('Band Aid', '0.02827'),\n",
       "  ('tobacco shop', '0.02789')],\n",
       " '8350158896.jpg': [('maillot', '0.24932'),\n",
       "  ('pajama', '0.19847'),\n",
       "  ('maillot', '0.12490'),\n",
       "  ('gown', '0.10207'),\n",
       "  ('brassiere', '0.06323')],\n",
       " '8078301067.jpg': [('swimming trunks', '0.45853'),\n",
       "  ('miniskirt', '0.15499'),\n",
       "  ('knee pad', '0.05802'),\n",
       "  ('jean', '0.05787'),\n",
       "  ('hoopskirt', '0.03326')],\n",
       " '8098753414.jpg': [('swimming trunks', '0.68379'),\n",
       "  ('knee pad', '0.07671'),\n",
       "  ('miniskirt', '0.06016'),\n",
       "  ('diaper', '0.03568'),\n",
       "  ('mailbag', '0.03250')],\n",
       " '8290942372.jpg': [('jean', '0.38248'),\n",
       "  ('miniskirt', '0.33168'),\n",
       "  ('swimming trunks', '0.06680'),\n",
       "  ('suit', '0.05176'),\n",
       "  ('sarong', '0.02898')],\n",
       " '6226896178.jpg': [('cardigan', '0.20203'),\n",
       "  ('suit', '0.12559'),\n",
       "  ('jean', '0.10637'),\n",
       "  ('chain mail', '0.10393'),\n",
       "  ('sweatshirt', '0.06904')],\n",
       " '7413100027.1.jpg': [('gasmask', '0.14052'),\n",
       "  ('bulletproof vest', '0.13728'),\n",
       "  ('whistle', '0.06235'),\n",
       "  ('maillot', '0.05114'),\n",
       "  ('neck brace', '0.04013')],\n",
       " '8282998108.jpg': [('comic book', '0.31502'),\n",
       "  ('toyshop', '0.11430'),\n",
       "  ('packet', '0.11065'),\n",
       "  ('slot', '0.03686'),\n",
       "  ('rubber eraser', '0.02397')],\n",
       " '8341756898.jpg': [('overskirt', '0.19693'),\n",
       "  ('gown', '0.15013'),\n",
       "  ('stole', '0.11372'),\n",
       "  ('pajama', '0.08864'),\n",
       "  ('apron', '0.04846')],\n",
       " '8268744876.jpg': [('remote control', '0.18500'),\n",
       "  ('harmonica', '0.12133'),\n",
       "  ('spatula', '0.09520'),\n",
       "  ('screwdriver', '0.04569'),\n",
       "  ('Windsor tie', '0.04513')],\n",
       " '8274598808.jpg': [('loudspeaker', '0.11529'),\n",
       "  ('projector', '0.09819'),\n",
       "  ('notebook', '0.08536'),\n",
       "  ('safe', '0.08120'),\n",
       "  ('desktop computer', '0.08111')],\n",
       " '6533627597.jpg': [('vending machine', '0.49711'),\n",
       "  ('slot', '0.43786'),\n",
       "  ('iPod', '0.01787'),\n",
       "  ('television', '0.00759'),\n",
       "  ('scoreboard', '0.00494')],\n",
       " '8261063786.jpg': [('modem', '0.33345'),\n",
       "  ('cellular telephone', '0.17517'),\n",
       "  ('harmonica', '0.05089'),\n",
       "  ('iron', '0.03256'),\n",
       "  ('combination lock', '0.03077')],\n",
       " '7845478433.jpg': [('dumbbell', '0.54239'),\n",
       "  ('barbell', '0.12804'),\n",
       "  ('lens cap', '0.08106'),\n",
       "  ('magnetic compass', '0.03648'),\n",
       "  ('reflex camera', '0.03628')],\n",
       " '7782557646.20140707141423.jpg': [('loudspeaker', '0.57636'),\n",
       "  ('washer', '0.17812'),\n",
       "  ('projector', '0.12347'),\n",
       "  ('microwave', '0.01952'),\n",
       "  ('frying pan', '0.01245')],\n",
       " '6768219167.jpg': [('digital clock', '0.63758'),\n",
       "  ('modem', '0.13580'),\n",
       "  ('switch', '0.02826'),\n",
       "  ('radio', '0.02735'),\n",
       "  ('scoreboard', '0.02013')],\n",
       " '7875495004.1.jpg': [('suit', '0.51104'),\n",
       "  ('lab coat', '0.09459'),\n",
       "  ('trench coat', '0.06444'),\n",
       "  ('sweatshirt', '0.06331'),\n",
       "  ('cardigan', '0.05424')],\n",
       " '8062638526.1.jpg': [('combination lock', '0.72614'),\n",
       "  ('loupe', '0.06959'),\n",
       "  ('face powder', '0.03905'),\n",
       "  ('padlock', '0.01778'),\n",
       "  ('can opener', '0.01088')],\n",
       " '8274137184.jpg': [('cellular telephone', '0.15947'),\n",
       "  ('oil filter', '0.13196'),\n",
       "  ('sunscreen', '0.10718'),\n",
       "  ('digital watch', '0.07063'),\n",
       "  ('radio', '0.06305')],\n",
       " '8312454387.jpg': [('lab coat', '0.81008'),\n",
       "  ('sweatshirt', '0.05154'),\n",
       "  ('cardigan', '0.05143'),\n",
       "  ('suit', '0.02913'),\n",
       "  ('pajama', '0.02460')],\n",
       " '8110280402.jpg': [('bath towel', '0.07074'),\n",
       "  ('swab', '0.06689'),\n",
       "  ('jean', '0.06520'),\n",
       "  ('lab coat', '0.04321'),\n",
       "  ('suit', '0.03982')],\n",
       " '7774604039.jpg': [('gown', '0.43184'),\n",
       "  ('hoopskirt', '0.27590'),\n",
       "  ('tub', '0.06679'),\n",
       "  ('bathtub', '0.06584'),\n",
       "  ('overskirt', '0.06148')],\n",
       " '8251717624.jpg': [('digital clock', '0.32151'),\n",
       "  ('oscilloscope', '0.13592'),\n",
       "  ('cinema', '0.04390'),\n",
       "  ('modem', '0.03693'),\n",
       "  ('theater curtain', '0.03411')],\n",
       " '8275845136.jpg': [('radio', '0.12326'),\n",
       "  ('microphone', '0.10265'),\n",
       "  ('modem', '0.07967'),\n",
       "  ('ballpoint', '0.06280'),\n",
       "  ('scabbard', '0.05982')],\n",
       " '7759076726.1.jpg': [('jean', '0.97976'),\n",
       "  ('suit', '0.00234'),\n",
       "  ('knee pad', '0.00204'),\n",
       "  ('punching bag', '0.00146'),\n",
       "  ('sock', '0.00138')],\n",
       " '8109149304.jpg': [('modem', '0.21761'),\n",
       "  ('washer', '0.14545'),\n",
       "  ('Crock Pot', '0.10569'),\n",
       "  ('barrel', '0.08452'),\n",
       "  ('ashcan', '0.07384')],\n",
       " '8260106659.jpg': [('can opener', '0.14249'),\n",
       "  ('spotlight', '0.11267'),\n",
       "  ('hand blower', '0.10532'),\n",
       "  ('safety pin', '0.05696'),\n",
       "  ('loupe', '0.04399')],\n",
       " '8295550948.jpg': [('digital watch', '0.08389'),\n",
       "  ('can opener', '0.06604'),\n",
       "  ('microphone', '0.05048'),\n",
       "  ('dumbbell', '0.04464'),\n",
       "  ('parking meter', '0.04231')],\n",
       " '8261690321.jpg': [('wall clock', '0.43206'),\n",
       "  ('steel drum', '0.12100'),\n",
       "  ('analog clock', '0.07191'),\n",
       "  ('puck', '0.06844'),\n",
       "  ('basketball', '0.04066')],\n",
       " '7986022117.jpg': [('suit', '0.20658'),\n",
       "  ('velvet', '0.14359'),\n",
       "  ('cardigan', '0.13684'),\n",
       "  ('wool', '0.11420'),\n",
       "  ('academic gown', '0.10701')],\n",
       " '7656788431.jpg': [('gown', '0.33762'),\n",
       "  ('hoopskirt', '0.15113'),\n",
       "  ('diaper', '0.12645'),\n",
       "  ('miniskirt', '0.09430'),\n",
       "  ('pajama', '0.08502')],\n",
       " '8060045649.jpg': [('carton', '0.16066'),\n",
       "  ('mousetrap', '0.12748'),\n",
       "  ('web site', '0.08635'),\n",
       "  ('book jacket', '0.06084'),\n",
       "  ('packet', '0.05124')],\n",
       " '8283004615.jpg': [('modem', '0.29557'),\n",
       "  ('radio', '0.13588'),\n",
       "  ('hard disc', '0.12679'),\n",
       "  ('tape player', '0.12046'),\n",
       "  ('CD player', '0.06135')],\n",
       " '8167205425.jpg': [('knee pad', '0.23497'),\n",
       "  ('swimming trunks', '0.23135'),\n",
       "  ('miniskirt', '0.16989'),\n",
       "  ('brassiere', '0.08263'),\n",
       "  ('sarong', '0.03684')],\n",
       " '8164721920.jpg': [('vacuum', '0.08814'),\n",
       "  ('mouse', '0.08719'),\n",
       "  ('pencil sharpener', '0.07402'),\n",
       "  ('iPod', '0.07160'),\n",
       "  ('paintbrush', '0.06933')],\n",
       " '7492897313.jpg': [('dumbbell', '0.29227'),\n",
       "  ('binoculars', '0.14874'),\n",
       "  ('whistle', '0.08863'),\n",
       "  ('screw', '0.08329'),\n",
       "  ('traffic light', '0.04322')],\n",
       " '8114291666.jpg': [('paper towel', '0.16988'),\n",
       "  ('packet', '0.09594'),\n",
       "  ('nipple', '0.07269'),\n",
       "  ('water jug', '0.06952'),\n",
       "  ('sunscreen', '0.05192')],\n",
       " '8283873788.jpg': [('suit', '0.32883'),\n",
       "  ('jean', '0.15557'),\n",
       "  ('swimming trunks', '0.02646'),\n",
       "  ('miniskirt', '0.02584'),\n",
       "  ('abaya', '0.02406')],\n",
       " '7297878601.jpg': [('oil filter', '0.19067'),\n",
       "  ('rubber eraser', '0.18044'),\n",
       "  ('harmonica', '0.08074'),\n",
       "  ('modem', '0.07842'),\n",
       "  ('remote control', '0.04709')],\n",
       " '6826436627.jpg': [('piggy bank', '0.30040'),\n",
       "  ('nipple', '0.16172'),\n",
       "  ('soap dispenser', '0.07338'),\n",
       "  ('iron', '0.03848'),\n",
       "  ('paper towel', '0.03415')],\n",
       " '8268090978.jpg': [('modem', '0.32015'),\n",
       "  ('loudspeaker', '0.09666'),\n",
       "  ('monitor', '0.06382'),\n",
       "  ('screen', '0.05774'),\n",
       "  ('digital clock', '0.05480')],\n",
       " '8266336777.jpg': [('pot', '0.36708'),\n",
       "  ('water bottle', '0.07424'),\n",
       "  ('water jug', '0.05626'),\n",
       "  ('binoculars', '0.04272'),\n",
       "  ('can opener', '0.03085')],\n",
       " '7832744477.1.jpg': [('sweatshirt', '0.50065'),\n",
       "  ('jersey', '0.13635'),\n",
       "  ('cardigan', '0.12923'),\n",
       "  ('wool', '0.09699'),\n",
       "  ('velvet', '0.07148')],\n",
       " '8266285897.jpg': [('reflex camera', '0.87690'),\n",
       "  ('binoculars', '0.03667'),\n",
       "  ('switch', '0.01829'),\n",
       "  ('lens cap', '0.01776'),\n",
       "  ('combination lock', '0.00954')],\n",
       " '8270292622.jpg': [('can opener', '0.10583'),\n",
       "  ('screwdriver', '0.09448'),\n",
       "  ('remote control', '0.08438'),\n",
       "  ('corkscrew', '0.08001'),\n",
       "  ('hair slide', '0.07301')],\n",
       " '8282839358.jpg': [('switch', '0.28768'),\n",
       "  ('modem', '0.17289'),\n",
       "  ('radio', '0.12850'),\n",
       "  ('cassette', '0.06401'),\n",
       "  ('loupe', '0.02549')],\n",
       " '7776297757.jpg': [('folding chair', '0.20951'),\n",
       "  ('turnstile', '0.09674'),\n",
       "  ('guillotine', '0.09496'),\n",
       "  ('perfume', '0.08237'),\n",
       "  ('printer', '0.06642')],\n",
       " '8174815576.jpg': [('trench coat', '0.25554'),\n",
       "  ('suit', '0.15404'),\n",
       "  ('backpack', '0.08887'),\n",
       "  ('bulletproof vest', '0.08663'),\n",
       "  ('sweatshirt', '0.06575')],\n",
       " '8303462181.jpg': [('gown', '0.67767'),\n",
       "  ('velvet', '0.14076'),\n",
       "  ('overskirt', '0.06223'),\n",
       "  ('pajama', '0.02472'),\n",
       "  ('stole', '0.02349')],\n",
       " '8078846405.jpg': [('cardigan', '0.41320'),\n",
       "  ('wool', '0.24644'),\n",
       "  ('suit', '0.07328'),\n",
       "  ('stole', '0.04581'),\n",
       "  ('trench coat', '0.02862')],\n",
       " '8249165627.jpg': [('printer', '0.63441'),\n",
       "  ('photocopier', '0.12265'),\n",
       "  ('cash machine', '0.04613'),\n",
       "  ('screen', '0.04238'),\n",
       "  ('scale', '0.03616')],\n",
       " '8111063618.jpg': [('binder', '0.18452'),\n",
       "  ('cleaver', '0.17949'),\n",
       "  ('face powder', '0.06153'),\n",
       "  ('power drill', '0.04443'),\n",
       "  ('lighter', '0.03218')],\n",
       " '6768219769.jpg': [('corkscrew', '0.23608'),\n",
       "  ('combination lock', '0.15084'),\n",
       "  ('bow', '0.05329'),\n",
       "  ('can opener', '0.04380'),\n",
       "  ('hair slide', '0.04357')],\n",
       " '8250425231.jpg': [('photocopier', '0.34113'),\n",
       "  ('scale', '0.16167'),\n",
       "  ('printer', '0.13553'),\n",
       "  ('cassette', '0.05257'),\n",
       "  ('cassette player', '0.05217')],\n",
       " '7934996286.jpg': [('modem', '0.12132'),\n",
       "  ('remote control', '0.09754'),\n",
       "  ('switch', '0.09632'),\n",
       "  ('iron', '0.06688'),\n",
       "  ('printer', '0.04843')],\n",
       " '7975500771.jpg': [('cash machine', '0.16308'),\n",
       "  ('web site', '0.09909'),\n",
       "  ('packet', '0.05997'),\n",
       "  ('Band Aid', '0.04267'),\n",
       "  ('cassette', '0.04158')],\n",
       " '8188214511.jpg': [('pajama', '0.28217'),\n",
       "  ('hoopskirt', '0.14826'),\n",
       "  ('mosquito net', '0.06229'),\n",
       "  ('cardigan', '0.05008'),\n",
       "  ('sleeping bag', '0.04332')],\n",
       " '8275984799.jpg': [('book jacket', '0.20652'),\n",
       "  ('binder', '0.05511'),\n",
       "  ('crane', '0.04593'),\n",
       "  ('schooner', '0.04466'),\n",
       "  ('iron', '0.04432')],\n",
       " '8257458504.1.jpg': [('suit', '0.66138'),\n",
       "  ('academic gown', '0.14760'),\n",
       "  ('Windsor tie', '0.11491'),\n",
       "  ('cardigan', '0.02264'),\n",
       "  ('bow tie', '0.01865')],\n",
       " '8433135719.jpg': [('cassette player', '0.17453'),\n",
       "  ('tape player', '0.14482'),\n",
       "  ('cassette', '0.11730'),\n",
       "  ('radio', '0.08240'),\n",
       "  ('CD player', '0.06056')],\n",
       " '8231777601.jpg': [('envelope', '0.18776'),\n",
       "  ('lab coat', '0.17978'),\n",
       "  ('cardigan', '0.15154'),\n",
       "  ('handkerchief', '0.09024'),\n",
       "  ('suit', '0.07851')],\n",
       " '6952319589.jpg': [('cellular telephone', '0.15115'),\n",
       "  ('printer', '0.13873'),\n",
       "  ('iPod', '0.11775'),\n",
       "  ('radio', '0.10585'),\n",
       "  ('desktop computer', '0.10583')],\n",
       " '8106502338.jpg': [('suit', '0.21840'),\n",
       "  ('Windsor tie', '0.12736'),\n",
       "  ('knee pad', '0.12452'),\n",
       "  ('swimming trunks', '0.05375'),\n",
       "  ('jean', '0.04787')],\n",
       " '8300747026.jpg': [('combination lock', '0.12687'),\n",
       "  ('radio', '0.08528'),\n",
       "  ('hook', '0.07141'),\n",
       "  ('whistle', '0.06266'),\n",
       "  ('microphone', '0.04669')],\n",
       " '8260563332.jpg': [('digital clock', '0.13031'),\n",
       "  ('digital watch', '0.09694'),\n",
       "  ('cassette', '0.08699'),\n",
       "  ('cellular telephone', '0.08055'),\n",
       "  ('stopwatch', '0.04681')],\n",
       " '8257873511.20150130062432.jpg': [('jersey', '0.98644'),\n",
       "  ('sweatshirt', '0.00410'),\n",
       "  ('cardigan', '0.00377'),\n",
       "  ('maillot', '0.00313'),\n",
       "  ('lab coat', '0.00075')],\n",
       " '6506936017.1.jpg': [('comic book', '0.44532'),\n",
       "  ('toyshop', '0.29800'),\n",
       "  ('jigsaw puzzle', '0.04694'),\n",
       "  ('packet', '0.03622'),\n",
       "  ('refrigerator', '0.02925')],\n",
       " '8280325446.jpg': [('hand-held computer', '0.35595'),\n",
       "  ('oscilloscope', '0.10497'),\n",
       "  ('modem', '0.05037'),\n",
       "  ('remote control', '0.03534'),\n",
       "  ('binder', '0.03452')],\n",
       " '6564210147.20120830165910.jpg': [('washer', '0.75003'),\n",
       "  ('switch', '0.19403'),\n",
       "  ('safe', '0.01783'),\n",
       "  ('microwave', '0.00730'),\n",
       "  ('cassette player', '0.00602')],\n",
       " '8258858961.jpg': [('dumbbell', '0.30786'),\n",
       "  ('whistle', '0.17957'),\n",
       "  ('plane', '0.17732'),\n",
       "  ('switch', '0.05949'),\n",
       "  ('binoculars', '0.04816')],\n",
       " '8367612716.jpg': [('reflex camera', '0.97069'),\n",
       "  ('CD player', '0.00828'),\n",
       "  ('cassette player', '0.00561'),\n",
       "  ('tape player', '0.00384'),\n",
       "  ('loudspeaker', '0.00336')],\n",
       " '7950954899.jpg': [('remote control', '0.37341'),\n",
       "  ('hand-held computer', '0.34831'),\n",
       "  ('cellular telephone', '0.10216'),\n",
       "  ('modem', '0.03062'),\n",
       "  ('desktop computer', '0.02273')],\n",
       " '7608411849.20140408175623.jpg': [('binder', '0.21310'),\n",
       "  ('notebook', '0.17809'),\n",
       "  ('modem', '0.07396'),\n",
       "  ('hard disc', '0.06392'),\n",
       "  ('wallet', '0.05327')],\n",
       " '8260088058.jpg': [('disk brake', '0.35740'),\n",
       "  ('nipple', '0.13239'),\n",
       "  ('loudspeaker', '0.08450'),\n",
       "  ('pencil sharpener', '0.06737'),\n",
       "  ('puck', '0.05232')],\n",
       " '8283118931.jpg': [('bulletproof vest', '0.31710'),\n",
       "  ('suit', '0.30316'),\n",
       "  ('cardigan', '0.16744'),\n",
       "  ('wool', '0.04768'),\n",
       "  ('trench coat', '0.04084')],\n",
       " '8403187945.jpg': [('envelope', '0.17456'),\n",
       "  ('vestment', '0.08130'),\n",
       "  ('pillow', '0.05552'),\n",
       "  ('handkerchief', '0.04533'),\n",
       "  ('binder', '0.04468')],\n",
       " '8263388688.jpg': [('packet', '0.11929'),\n",
       "  ('book jacket', '0.10436'),\n",
       "  ('remote control', '0.06811'),\n",
       "  ('rule', '0.03641'),\n",
       "  ('street sign', '0.03562')],\n",
       " '8279377836.jpg': [('espresso maker', '0.14326'),\n",
       "  ('remote control', '0.14073'),\n",
       "  ('toaster', '0.07330'),\n",
       "  ('iron', '0.05498'),\n",
       "  ('mouse', '0.04444')],\n",
       " '7760141347.jpg': [('switch', '0.11080'),\n",
       "  ('washer', '0.07048'),\n",
       "  ('CD player', '0.05501'),\n",
       "  ('cassette', '0.04366'),\n",
       "  ('stove', '0.04241')],\n",
       " '4090788056.jpg': [('web site', '0.16250'),\n",
       "  ('refrigerator', '0.10899'),\n",
       "  ('packet', '0.10387'),\n",
       "  ('comic book', '0.10257'),\n",
       "  ('menu', '0.07722')],\n",
       " '7224654248.20131025122929.jpg': [('cleaver', '0.11774'),\n",
       "  ('rule', '0.11408'),\n",
       "  ('modem', '0.09634'),\n",
       "  ('ballpoint', '0.06926'),\n",
       "  ('corkscrew', '0.04905')],\n",
       " '8338755256.jpg': [('jean', '0.34837'),\n",
       "  ('wool', '0.13301'),\n",
       "  ('chain mail', '0.08783'),\n",
       "  ('stole', '0.07137'),\n",
       "  ('cardigan', '0.06905')],\n",
       " '8256605201.jpg': [('lipstick', '0.83631'),\n",
       "  ('perfume', '0.03384'),\n",
       "  ('espresso maker', '0.02124'),\n",
       "  ('hair spray', '0.01663'),\n",
       "  ('coffeepot', '0.01078')],\n",
       " '8338571042.jpg': [('cardigan', '0.39268'),\n",
       "  ('sweatshirt', '0.18323'),\n",
       "  ('suit', '0.14223'),\n",
       "  ('wool', '0.11729'),\n",
       "  ('Windsor tie', '0.05189')],\n",
       " '7443264949.jpg': [('water jug', '0.30563'),\n",
       "  ('coffee mug', '0.29236'),\n",
       "  ('coffeepot', '0.16519'),\n",
       "  ('espresso maker', '0.11344'),\n",
       "  ('oil filter', '0.01627')],\n",
       " '8290844219.jpg': [('cardigan', '0.34218'),\n",
       "  ('poncho', '0.32335'),\n",
       "  ('wool', '0.13199'),\n",
       "  ('sweatshirt', '0.05904'),\n",
       "  ('jersey', '0.03817')],\n",
       " '7826590239.1.jpg': [('web site', '0.15102'),\n",
       "  ('suit', '0.06344'),\n",
       "  ('notebook', '0.06186'),\n",
       "  ('solar dish', '0.05722'),\n",
       "  ('pajama', '0.04294')],\n",
       " '8433726625.jpg': [('handkerchief', '0.32820'),\n",
       "  ('envelope', '0.24319'),\n",
       "  ('bath towel', '0.17439'),\n",
       "  ('swimming trunks', '0.06031'),\n",
       "  ('wallet', '0.05774')],\n",
       " '7136297039.1.jpg': [('joystick', '0.36271'),\n",
       "  ('microphone', '0.20341'),\n",
       "  ('can opener', '0.08850'),\n",
       "  ('sewing machine', '0.05262'),\n",
       "  ('hammer', '0.03751')],\n",
       " '8039283511.jpg': [('jean', '0.27591'),\n",
       "  ('suit', '0.16848'),\n",
       "  ('knee pad', '0.13990'),\n",
       "  ('Windsor tie', '0.06710'),\n",
       "  ('sarong', '0.04756')],\n",
       " '1000160870.20130312174753.jpg': [('reflex camera', '0.99850'),\n",
       "  ('lens cap', '0.00146'),\n",
       "  ('knee pad', '0.00001'),\n",
       "  ('binoculars', '0.00001'),\n",
       "  ('Polaroid camera', '0.00001')],\n",
       " '8283838017.jpg': [('spatula', '0.16035'),\n",
       "  ('can opener', '0.14274'),\n",
       "  ('safety pin', '0.07284'),\n",
       "  ('whistle', '0.06349'),\n",
       "  ('cleaver', '0.05774')],\n",
       " '7384269338.jpg': [('scoreboard', '0.55958'),\n",
       "  ('web site', '0.13381'),\n",
       "  ('vending machine', '0.09671'),\n",
       "  ('book jacket', '0.02236'),\n",
       "  ('slot', '0.02165')],\n",
       " '8275919956.jpg': [('sunscreen', '0.35263'),\n",
       "  ('binder', '0.14578'),\n",
       "  ('Band Aid', '0.04554'),\n",
       "  ('modem', '0.04312'),\n",
       "  ('oil filter', '0.03598')],\n",
       " '8312735746.jpg': [('cardigan', '0.39005'),\n",
       "  ('sweatshirt', '0.25978'),\n",
       "  ('suit', '0.20668'),\n",
       "  ('lab coat', '0.08085'),\n",
       "  ('wool', '0.02202')],\n",
       " '8277934944.jpg': [('jersey', '0.11845'),\n",
       "  ('book jacket', '0.10779'),\n",
       "  ('comic book', '0.06765'),\n",
       "  ('volleyball', '0.03583'),\n",
       "  ('hair spray', '0.03053')],\n",
       " '5932905962.jpg': [('cassette', '0.19808'),\n",
       "  ('switch', '0.13466'),\n",
       "  ('spatula', '0.07055'),\n",
       "  ('computer keyboard', '0.06797'),\n",
       "  ('shovel', '0.04670')],\n",
       " '8222482114.jpg': [('lab coat', '0.15138'),\n",
       "  ('trench coat', '0.14220'),\n",
       "  ('abaya', '0.08155'),\n",
       "  ('sweatshirt', '0.08081'),\n",
       "  ('neck brace', '0.05568')],\n",
       " '8283220310.jpg': [('notebook', '0.35836'),\n",
       "  ('desktop computer', '0.12302'),\n",
       "  ('screen', '0.11992'),\n",
       "  ('space bar', '0.11473'),\n",
       "  ('laptop', '0.07327')],\n",
       " '7844478452.jpg': [('projector', '0.27245'),\n",
       "  ('radio', '0.12406'),\n",
       "  ('microphone', '0.11517'),\n",
       "  ('tripod', '0.08948'),\n",
       "  ('reflex camera', '0.07033')],\n",
       " '8301464516.jpg': [('sweatshirt', '0.43903'),\n",
       "  ('abaya', '0.19878'),\n",
       "  ('cloak', '0.08473'),\n",
       "  ('velvet', '0.07011'),\n",
       "  ('trench coat', '0.05318')],\n",
       " '8243628956.jpg': [('jersey', '0.67272'),\n",
       "  ('sweatshirt', '0.15255'),\n",
       "  ('soccer ball', '0.07560'),\n",
       "  ('football helmet', '0.00888'),\n",
       "  ('piggy bank', '0.00358')],\n",
       " '8288326832.jpg': [('web site', '0.40915'),\n",
       "  ('scoreboard', '0.13532'),\n",
       "  ('vending machine', '0.11567'),\n",
       "  ('remote control', '0.07952'),\n",
       "  ('digital clock', '0.03155')],\n",
       " '4028653855.20130809182353.jpg': [('soap dispenser', '0.16755'),\n",
       "  ('measuring cup', '0.10025'),\n",
       "  ('binder', '0.06145'),\n",
       "  ('paper towel', '0.05394'),\n",
       "  ('lotion', '0.05380')],\n",
       " '8151412850.jpg': [('maillot', '0.45349'),\n",
       "  ('brassiere', '0.14749'),\n",
       "  ('maillot', '0.12526'),\n",
       "  ('knee pad', '0.04720'),\n",
       "  ('gown', '0.03480')],\n",
       " '7427911815.1.jpg': [('espresso maker', '0.10570'),\n",
       "  ('oscilloscope', '0.09518'),\n",
       "  ('safe', '0.07665'),\n",
       "  ('sewing machine', '0.06567'),\n",
       "  ('stove', '0.05222')],\n",
       " '8287939489.jpg': [('miniskirt', '0.07817'),\n",
       "  ('sweatshirt', '0.07285'),\n",
       "  ('coil', '0.05760'),\n",
       "  ('maillot', '0.05180'),\n",
       "  ('tile roof', '0.04213')],\n",
       " '8178604837.1.jpg': [('soap dispenser', '0.23869'),\n",
       "  ('toaster', '0.17099'),\n",
       "  ('iron', '0.08143'),\n",
       "  ('face powder', '0.06771'),\n",
       "  ('piggy bank', '0.05705')],\n",
       " '8014278543.jpg': [('sarong', '0.37521'),\n",
       "  ('stole', '0.24022'),\n",
       "  ('pajama', '0.07421'),\n",
       "  ('poncho', '0.05954'),\n",
       "  ('gown', '0.05817')],\n",
       " '8297794629.jpg': [('ice lolly', '0.15869'),\n",
       "  ('lipstick', '0.13950'),\n",
       "  ('brassiere', '0.13317'),\n",
       "  ('maillot', '0.06037'),\n",
       "  ('matchstick', '0.05715')],\n",
       " '8277917575.jpg': [('oil filter', '0.13666'),\n",
       "  ('gas pump', '0.07988'),\n",
       "  ('can opener', '0.05383'),\n",
       "  ('Band Aid', '0.04448'),\n",
       "  ('packet', '0.04240')],\n",
       " '8282281031.jpg': [('switch', '0.17596'),\n",
       "  ('joystick', '0.16280'),\n",
       "  ('power drill', '0.13763'),\n",
       "  ('espresso maker', '0.10027'),\n",
       "  ('binoculars', '0.05478')],\n",
       " '7091895549.20130829171934.jpg': [('scoreboard', '0.12658'),\n",
       "  ('web site', '0.09781'),\n",
       "  ('hard disc', '0.08548'),\n",
       "  ('radio', '0.05588'),\n",
       "  ('brass', '0.05278')],\n",
       " '8283642040.jpg': [('corkscrew', '0.18142'),\n",
       "  ('hook', '0.12223'),\n",
       "  ('can opener', '0.09284'),\n",
       "  ('washbasin', '0.06528'),\n",
       "  ('hand blower', '0.03168')],\n",
       " '8274253506.jpg': [('mousetrap', '0.18111'),\n",
       "  ('binder', '0.08741'),\n",
       "  ('cassette', '0.07073'),\n",
       "  ('printer', '0.05168'),\n",
       "  ('book jacket', '0.03189')],\n",
       " '8237711932.jpg': [('pajama', '0.78605'),\n",
       "  ('kimono', '0.03939'),\n",
       "  ('sleeping bag', '0.02830'),\n",
       "  ('handkerchief', '0.01993'),\n",
       "  ('bib', '0.01782')],\n",
       " '8276711121.jpg': [('milk can', '0.12155'),\n",
       "  ('thresher', '0.10425'),\n",
       "  ('bassinet', '0.07062'),\n",
       "  ('espresso maker', '0.06561'),\n",
       "  ('nipple', '0.06102')],\n",
       " '8319093511.jpg': [('bonnet', '0.14322'),\n",
       "  ('rapeseed', '0.13895'),\n",
       "  ('poncho', '0.07357'),\n",
       "  ('croquet ball', '0.06255'),\n",
       "  ('diaper', '0.05273')],\n",
       " '7482039864.jpg': [('web site', '0.31908'),\n",
       "  ('rule', '0.14350'),\n",
       "  ('packet', '0.11593'),\n",
       "  ('envelope', '0.08841'),\n",
       "  ('prayer rug', '0.08311')],\n",
       " '8279955159.jpg': [('oil filter', '0.29345'),\n",
       "  ('hand-held computer', '0.13387'),\n",
       "  ('modem', '0.07868'),\n",
       "  ('combination lock', '0.05296'),\n",
       "  ('stopwatch', '0.05295')],\n",
       " '8270282668.jpg': [('hand-held computer', '0.25909'),\n",
       "  ('desktop computer', '0.15758'),\n",
       "  ('cellular telephone', '0.13417'),\n",
       "  ('microwave', '0.08348'),\n",
       "  ('cassette player', '0.03698')],\n",
       " '8305234728.jpg': [('jean', '0.71884'),\n",
       "  ('swimming trunks', '0.13105'),\n",
       "  ('sleeping bag', '0.06156'),\n",
       "  ('Windsor tie', '0.02577'),\n",
       "  ('knee pad', '0.01109')],\n",
       " '7492922253.jpg': [('Polaroid camera', '0.15155'),\n",
       "  ('combination lock', '0.10199'),\n",
       "  ('cassette', '0.09803'),\n",
       "  ('loupe', '0.09259'),\n",
       "  ('binder', '0.04002')],\n",
       " '7474699057.jpg': [(\"carpenter's kit\", '0.11519'),\n",
       "  ('cassette', '0.09157'),\n",
       "  ('pencil sharpener', '0.06577'),\n",
       "  ('digital clock', '0.06533'),\n",
       "  ('buckle', '0.04831')],\n",
       " '8108883285.jpg': [('suit', '0.22364'),\n",
       "  ('knee pad', '0.09390'),\n",
       "  ('jean', '0.07486'),\n",
       "  ('Windsor tie', '0.06030'),\n",
       "  ('swimming trunks', '0.05315')],\n",
       " '8260782597.jpg': [('cassette', '0.34623'),\n",
       "  ('digital clock', '0.17469'),\n",
       "  ('cassette player', '0.16588'),\n",
       "  ('tape player', '0.12182'),\n",
       "  ('safe', '0.06120')],\n",
       " '8270507092.jpg': [('fire screen', '0.12583'),\n",
       "  ('microwave', '0.11533'),\n",
       "  ('parallel bars', '0.08507'),\n",
       "  ('screen', '0.07837'),\n",
       "  ('television', '0.07145')],\n",
       " '8142843250.jpg': [('brassiere', '0.74286'),\n",
       "  ('bikini', '0.14052'),\n",
       "  ('maillot', '0.10759'),\n",
       "  ('maillot', '0.00777'),\n",
       "  ('miniskirt', '0.00062')],\n",
       " '8152197647.jpg': [('sweatshirt', '0.14254'),\n",
       "  ('packet', '0.13109'),\n",
       "  ('plastic bag', '0.08441'),\n",
       "  ('jersey', '0.06120'),\n",
       "  ('apron', '0.06024')],\n",
       " '7984241219.jpg': [('fur coat', '0.15342'),\n",
       "  ('trench coat', '0.11664'),\n",
       "  ('cardigan', '0.11301'),\n",
       "  ('velvet', '0.08593'),\n",
       "  ('abaya', '0.06190')],\n",
       " '8277593713.jpg': [('cassette', '0.17883'),\n",
       "  ('modem', '0.15141'),\n",
       "  ('switch', '0.07844'),\n",
       "  ('rubber eraser', '0.06147'),\n",
       "  ('harmonica', '0.05956')],\n",
       " '8028662977.jpg': [('iPod', '0.31782'),\n",
       "  ('remote control', '0.29802'),\n",
       "  ('cellular telephone', '0.13321'),\n",
       "  ('vending machine', '0.12997'),\n",
       "  ('hand-held computer', '0.01197')],\n",
       " '8229134371.jpg': [('stethoscope', '0.42787'),\n",
       "  ('tricycle', '0.34725'),\n",
       "  ('barbell', '0.02009'),\n",
       "  ('spindle', '0.01977'),\n",
       "  ('measuring cup', '0.01485')],\n",
       " '8281910748.jpg': [('lighter', '0.21466'),\n",
       "  ('switch', '0.21416'),\n",
       "  ('water jug', '0.09499'),\n",
       "  ('cleaver', '0.06201'),\n",
       "  ('soap dispenser', '0.05552')],\n",
       " '8347719923.jpg': [('space bar', '0.47387'),\n",
       "  ('computer keyboard', '0.41369'),\n",
       "  ('typewriter keyboard', '0.08734'),\n",
       "  ('notebook', '0.01130'),\n",
       "  ('abacus', '0.00694')],\n",
       " '8271553644.jpg': [('stopwatch', '0.22392'),\n",
       "  ('digital clock', '0.14976'),\n",
       "  ('cellular telephone', '0.10875'),\n",
       "  ('hand-held computer', '0.09856'),\n",
       "  ('radio', '0.04264')],\n",
       " '7697582111.jpg': [('sunglass', '0.37137'),\n",
       "  ('loupe', '0.08169'),\n",
       "  ('sunglasses', '0.05784'),\n",
       "  ('hook', '0.05587'),\n",
       "  ('microphone', '0.05132')],\n",
       " '5754277212.jpg': [('combination lock', '0.09808'),\n",
       "  ('hook', '0.09719'),\n",
       "  ('whistle', '0.08611'),\n",
       "  ('screw', '0.07242'),\n",
       "  ('nail', '0.05536')],\n",
       " '8260118570.jpg': [('espresso maker', '0.09282'),\n",
       "  ('water jug', '0.08814'),\n",
       "  ('can opener', '0.07865'),\n",
       "  ('bulletproof vest', '0.07216'),\n",
       "  ('cuirass', '0.05178')],\n",
       " '8121978559.jpg': [('trench coat', '0.28248'),\n",
       "  ('stole', '0.09349'),\n",
       "  ('kimono', '0.08993'),\n",
       "  ('miniskirt', '0.08484'),\n",
       "  ('velvet', '0.05933')],\n",
       " '8294757114.jpg': [('crutch', '0.17382'),\n",
       "  ('sweatshirt', '0.17124'),\n",
       "  ('oxygen mask', '0.07636'),\n",
       "  ('ski mask', '0.06748'),\n",
       "  ('tripod', '0.04603')],\n",
       " '8280845291.jpg': [('screwdriver', '0.10213'),\n",
       "  ('ballpoint', '0.09308'),\n",
       "  ('swab', '0.07747'),\n",
       "  ('paintbrush', '0.06881'),\n",
       "  ('screw', '0.05691')],\n",
       " '8095618452.jpg': [('swimming trunks', '0.71778'),\n",
       "  ('knee pad', '0.06814'),\n",
       "  ('miniskirt', '0.05031'),\n",
       "  ('diaper', '0.03254'),\n",
       "  ('mailbag', '0.02781')],\n",
       " '1100137482.20120211201954.jpg': [('remote control', '0.99991'),\n",
       "  ('cellular telephone', '0.00003'),\n",
       "  ('pencil box', '0.00002'),\n",
       "  ('ocarina', '0.00001'),\n",
       "  ('lighter', '0.00001')],\n",
       " '7844219508.1.jpg': [('poncho', '0.69230'),\n",
       "  ('cloak', '0.13337'),\n",
       "  ('fur coat', '0.03069'),\n",
       "  ('wool', '0.02820'),\n",
       "  ('cardigan', '0.02561')],\n",
       " '8011538318.jpg': [('whistle', '0.29874'),\n",
       "  ('spotlight', '0.09983'),\n",
       "  ('hook', '0.05615'),\n",
       "  ('combination lock', '0.05387'),\n",
       "  ('screwdriver', '0.04327')],\n",
       " '8409394563.jpg': [('joystick', '0.19703'),\n",
       "  ('power drill', '0.15222'),\n",
       "  ('tripod', '0.09619'),\n",
       "  ('reel', '0.06702'),\n",
       "  (\"carpenter's kit\", '0.04722')],\n",
       " '7805134040.jpg': [('soccer ball', '0.76517'),\n",
       "  ('maraca', '0.10627'),\n",
       "  ('bib', '0.02203'),\n",
       "  ('ping-pong ball', '0.01246'),\n",
       "  ('piggy bank', '0.01098')],\n",
       " '8275561476.jpg': [('joystick', '0.71749'),\n",
       "  ('loudspeaker', '0.06158'),\n",
       "  ('mouse', '0.03485'),\n",
       "  ('remote control', '0.02778'),\n",
       "  ('switch', '0.02371')],\n",
       " '8337432958.jpg': [('cardigan', '0.93266'),\n",
       "  ('stole', '0.03143'),\n",
       "  ('wool', '0.01170'),\n",
       "  ('suit', '0.00861'),\n",
       "  ('chain mail', '0.00604')],\n",
       " '8266128731.jpg': [('modem', '0.37099'),\n",
       "  ('loudspeaker', '0.08857'),\n",
       "  ('cellular telephone', '0.08833'),\n",
       "  ('desktop computer', '0.08089'),\n",
       "  ('iPod', '0.06179')],\n",
       " '8046319790.2.jpg': [('cardigan', '0.36408'),\n",
       "  ('jean', '0.16351'),\n",
       "  ('sweatshirt', '0.07837'),\n",
       "  ('stole', '0.06373'),\n",
       "  ('suit', '0.03731')],\n",
       " '8354615319.jpg': [('ski mask', '0.20276'),\n",
       "  ('wool', '0.14591'),\n",
       "  ('suit', '0.14557'),\n",
       "  ('sweatshirt', '0.14171'),\n",
       "  ('cloak', '0.05968')],\n",
       " '8282216576.jpg': [('bikini', '0.19086'),\n",
       "  ('maillot', '0.17846'),\n",
       "  ('maillot', '0.14991'),\n",
       "  ('miniskirt', '0.08182'),\n",
       "  ('swimming trunks', '0.03237')],\n",
       " '8253572978.jpg': [('fur coat', '0.20143'),\n",
       "  ('trench coat', '0.18291'),\n",
       "  ('lab coat', '0.04374'),\n",
       "  ('cardigan', '0.02983'),\n",
       "  ('miniskirt', '0.02869')],\n",
       " '7594568912.jpg': [('jersey', '0.39358'),\n",
       "  ('shower curtain', '0.06691'),\n",
       "  ('hair spray', '0.04163'),\n",
       "  ('lab coat', '0.01611'),\n",
       "  ('lotion', '0.01556')],\n",
       " '8145114920.jpg': [('miniskirt', '0.48575'),\n",
       "  ('swimming trunks', '0.25069'),\n",
       "  ('sarong', '0.13214'),\n",
       "  ('knee pad', '0.07625'),\n",
       "  ('maillot', '0.02165')],\n",
       " '7975965568.jpg': [(\"potter's wheel\", '0.24176'),\n",
       "  ('carousel', '0.12342'),\n",
       "  ('brassiere', '0.07636'),\n",
       "  ('neck brace', '0.04854'),\n",
       "  ('swing', '0.03544')],\n",
       " '8107005565.jpg': [('miniskirt', '0.65516'),\n",
       "  ('knee pad', '0.14736'),\n",
       "  ('swimming trunks', '0.09719'),\n",
       "  ('brassiere', '0.03053'),\n",
       "  ('maillot', '0.02672')],\n",
       " '7200575827.jpg': [('loudspeaker', '0.32138'),\n",
       "  ('desktop computer', '0.16157'),\n",
       "  ('safe', '0.10174'),\n",
       "  ('modem', '0.05820'),\n",
       "  ('iPod', '0.05210')],\n",
       " '8252721851.jpg': [('slot', '0.27133'),\n",
       "  ('scoreboard', '0.13348'),\n",
       "  ('street sign', '0.09329'),\n",
       "  ('hand-held computer', '0.09214'),\n",
       "  ('screen', '0.06171')],\n",
       " '8001035207.jpg': [('velvet', '0.23183'),\n",
       "  ('trench coat', '0.20051'),\n",
       "  ('backpack', '0.19652'),\n",
       "  ('sleeping bag', '0.12137'),\n",
       "  ('knee pad', '0.03116')],\n",
       " '6573447389.20120906125059.jpg': [('oil filter', '0.17234'),\n",
       "  ('lipstick', '0.14852'),\n",
       "  ('hair spray', '0.08005'),\n",
       "  ('barrel', '0.07797'),\n",
       "  ('pencil sharpener', '0.07120')],\n",
       " '8238777002.jpg': [('trench coat', '0.39512'),\n",
       "  ('suit', '0.24166'),\n",
       "  ('sweatshirt', '0.07102'),\n",
       "  ('abaya', '0.06395'),\n",
       "  ('mortarboard', '0.05266')],\n",
       " '8265242566.jpg': [('jersey', '0.31703'),\n",
       "  ('sweatshirt', '0.20692'),\n",
       "  ('Windsor tie', '0.11701'),\n",
       "  ('bathing cap', '0.08073'),\n",
       "  ('bow tie', '0.03515')],\n",
       " '8052156170.jpg': [('jean', '0.15295'),\n",
       "  ('loudspeaker', '0.15009'),\n",
       "  ('bulletproof vest', '0.12216'),\n",
       "  ('knee pad', '0.11137'),\n",
       "  ('suit', '0.10385')],\n",
       " '8252423357.jpg': [('tape player', '0.12086'),\n",
       "  ('power drill', '0.10430'),\n",
       "  ('hard disc', '0.07193'),\n",
       "  ('cassette player', '0.06435'),\n",
       "  ('pay-phone', '0.04196')],\n",
       " '8251893912.jpg': [('sweatshirt', '0.44076'),\n",
       "  ('velvet', '0.09112'),\n",
       "  ('suit', '0.08683'),\n",
       "  ('academic gown', '0.06781'),\n",
       "  ('cardigan', '0.06443')],\n",
       " '8338486028.jpg': [('jersey', '0.32778'),\n",
       "  ('sweatshirt', '0.19464'),\n",
       "  ('bib', '0.06694'),\n",
       "  ('handkerchief', '0.03881'),\n",
       "  ('gasmask', '0.03061')],\n",
       " '8277736116.jpg': [('web site', '0.14999'),\n",
       "  ('iron', '0.08792'),\n",
       "  ('envelope', '0.06903'),\n",
       "  ('remote control', '0.05801'),\n",
       "  ('modem', '0.04077')],\n",
       " '8245964496.jpg': [('digital clock', '0.09074'),\n",
       "  ('typewriter keyboard', '0.08183'),\n",
       "  ('pick', '0.06771'),\n",
       "  ('loudspeaker', '0.06262'),\n",
       "  ('analog clock', '0.04561')],\n",
       " '8228245007.jpg': [('can opener', '0.09215'),\n",
       "  ('binder', '0.07095'),\n",
       "  ('modem', '0.06337'),\n",
       "  ('safe', '0.05804'),\n",
       "  ('cash machine', '0.03632')],\n",
       " '8250797382.jpg': [('swimming trunks', '0.56285'),\n",
       "  ('miniskirt', '0.43436'),\n",
       "  ('sarong', '0.00145'),\n",
       "  ('jean', '0.00043'),\n",
       "  ('overskirt', '0.00021')],\n",
       " '8286289913.jpg': [('wool', '0.27679'),\n",
       "  ('cardigan', '0.23638'),\n",
       "  ('fur coat', '0.12712'),\n",
       "  ('poncho', '0.10586'),\n",
       "  ('stole', '0.06946')],\n",
       " '8267266734.jpg': [('loupe', '0.44537'),\n",
       "  ('combination lock', '0.21586'),\n",
       "  ('buckle', '0.08579'),\n",
       "  ('neck brace', '0.04048'),\n",
       "  ('whistle', '0.02163')],\n",
       " '5558273454.jpg': [('space heater', '0.28410'),\n",
       "  ('can opener', '0.15496'),\n",
       "  ('paper towel', '0.15338'),\n",
       "  ('ashcan', '0.11193'),\n",
       "  ('dishwasher', '0.04275')],\n",
       " '8280379362.jpg': [('radio', '0.38247'),\n",
       "  ('reflex camera', '0.29800'),\n",
       "  ('Polaroid camera', '0.08544'),\n",
       "  ('loudspeaker', '0.04042'),\n",
       "  ('switch', '0.03395')],\n",
       " '8276345686.jpg': [('radio', '0.13052'),\n",
       "  ('CD player', '0.11342'),\n",
       "  ('cassette player', '0.09421'),\n",
       "  ('espresso maker', '0.09246'),\n",
       "  ('rotisserie', '0.07812')],\n",
       " '8269353849.jpg': [('plate rack', '0.14030'),\n",
       "  ('screw', '0.11261'),\n",
       "  ('nail', '0.10223'),\n",
       "  ('space heater', '0.09608'),\n",
       "  ('radiator', '0.06490')],\n",
       " '8295875364.jpg': [('scoreboard', '0.74598'),\n",
       "  ('crossword puzzle', '0.09162'),\n",
       "  ('book jacket', '0.03219'),\n",
       "  ('street sign', '0.02024'),\n",
       "  ('tobacco shop', '0.01313')],\n",
       " '7517097859.jpg': [('bib', '0.24378'),\n",
       "  ('purse', '0.12842'),\n",
       "  ('pencil box', '0.09755'),\n",
       "  ('wallet', '0.08896'),\n",
       "  ('diaper', '0.06378')],\n",
       " '8300803587.20150217131551.jpg': [('suit', '0.54276'),\n",
       "  ('trench coat', '0.28566'),\n",
       "  ('cardigan', '0.03738'),\n",
       "  ('wool', '0.03194'),\n",
       "  ('academic gown', '0.02505')],\n",
       " '8270297238.jpg': [('nipple', '0.08022'),\n",
       "  ('sleeping bag', '0.06951'),\n",
       "  ('whistle', '0.06045'),\n",
       "  ('paintbrush', '0.05817'),\n",
       "  ('sunscreen', '0.03875')],\n",
       " '6735558466.6.jpg': [('envelope', '0.13390'),\n",
       "  ('pencil box', '0.09039'),\n",
       "  ('abacus', '0.08333'),\n",
       "  ('wallet', '0.07459'),\n",
       "  ('modem', '0.06974')],\n",
       " '8042144702.jpg': [('trench coat', '0.26689'),\n",
       "  ('sweatshirt', '0.13332'),\n",
       "  ('jersey', '0.12010'),\n",
       "  ('cardigan', '0.10758'),\n",
       "  ('abaya', '0.06013')],\n",
       " '7680589707.20140513153341.jpg': [('hard disc', '0.08994'),\n",
       "  ('packet', '0.06388'),\n",
       "  ('magnetic compass', '0.06008'),\n",
       "  ('analog clock', '0.04171'),\n",
       "  ('binder', '0.04169')],\n",
       " '8056678222.jpg': [('kimono', '0.19680'),\n",
       "  ('overskirt', '0.05818'),\n",
       "  ('gown', '0.05008'),\n",
       "  ('puck', '0.04162'),\n",
       "  ('abaya', '0.04139')],\n",
       " '8275556326.jpg': [('joystick', '0.93082'),\n",
       "  ('remote control', '0.01657'),\n",
       "  ('switch', '0.01238'),\n",
       "  ('binoculars', '0.00945'),\n",
       "  ('knee pad', '0.00506')],\n",
       " '8243154151.jpg': [('paper towel', '0.12426'),\n",
       "  ('toilet tissue', '0.07724'),\n",
       "  ('Sealyham terrier', '0.07564'),\n",
       "  ('Maltese dog', '0.06483'),\n",
       "  ('space shuttle', '0.05460')],\n",
       " '8242941137.jpg': [('knee pad', '0.38123'),\n",
       "  ('miniskirt', '0.26946'),\n",
       "  ('Band Aid', '0.22272'),\n",
       "  ('swimming trunks', '0.02921'),\n",
       "  ('lipstick', '0.01206')],\n",
       " '7633150532.1.jpg': [('trench coat', '0.97229'),\n",
       "  ('poncho', '0.00853'),\n",
       "  ('fur coat', '0.00442'),\n",
       "  ('cloak', '0.00399'),\n",
       "  ('suit', '0.00180')],\n",
       " '8159724180.jpg': [('combination lock', '0.13870'),\n",
       "  ('remote control', '0.06766'),\n",
       "  ('oil filter', '0.03545'),\n",
       "  ('reflex camera', '0.03328'),\n",
       "  ('loudspeaker', '0.03184')],\n",
       " '8235341743.jpg': [('modem', '0.64416'),\n",
       "  ('tape player', '0.09509'),\n",
       "  ('radio', '0.06324'),\n",
       "  ('cassette player', '0.05954'),\n",
       "  ('switch', '0.03906')],\n",
       " '8255216396.jpg': [('hook', '0.11098'),\n",
       "  ('switch', '0.07814'),\n",
       "  ('spotlight', '0.06768'),\n",
       "  ('loupe', '0.06651'),\n",
       "  ('combination lock', '0.05925')],\n",
       " '8270737669.jpg': [('magnetic compass', '0.14571'),\n",
       "  ('face powder', '0.10253'),\n",
       "  ('sunscreen', '0.08549'),\n",
       "  ('nipple', '0.06599'),\n",
       "  ('pill bottle', '0.04870')],\n",
       " '6802412837.jpg': [('Polaroid camera', '0.09833'),\n",
       "  ('mouse', '0.08115'),\n",
       "  ('projector', '0.06450'),\n",
       "  ('cassette', '0.04239'),\n",
       "  ('mousetrap', '0.03074')],\n",
       " '8034337510.jpg': [('pajama', '0.08541'),\n",
       "  ('suit', '0.06196'),\n",
       "  ('plunger', '0.06070'),\n",
       "  ('quill', '0.05699'),\n",
       "  ('cardigan', '0.04660')],\n",
       " '5398753127.20130424121118.jpg': [('web site', '0.30208'),\n",
       "  ('stopwatch', '0.05912'),\n",
       "  ('combination lock', '0.05131'),\n",
       "  ('digital clock', '0.04924'),\n",
       "  ('lotion', '0.04292')],\n",
       " '7597901667.20140404115919.jpg': [('hand blower', '0.17574'),\n",
       "  ('screw', '0.06992'),\n",
       "  (\"carpenter's kit\", '0.04750'),\n",
       "  ('can opener', '0.04466'),\n",
       "  ('syringe', '0.04435')],\n",
       " '7946447501.jpg': [('jean', '0.63487'),\n",
       "  ('suit', '0.08700'),\n",
       "  ('miniskirt', '0.03084'),\n",
       "  ('plunger', '0.02173'),\n",
       "  ('Loafer', '0.01533')],\n",
       " '8270208236.jpg': [('whistle', '0.38920'),\n",
       "  ('rubber eraser', '0.10508'),\n",
       "  ('airship', '0.04800'),\n",
       "  ('screwdriver', '0.04082'),\n",
       "  ('book jacket', '0.03757')],\n",
       " '8260478328.jpg': [('miniskirt', '0.64024'),\n",
       "  ('wool', '0.10253'),\n",
       "  ('stole', '0.09344'),\n",
       "  ('swimming trunks', '0.07431'),\n",
       "  ('poncho', '0.03394')],\n",
       " '8203833028.jpg': [('bulletproof vest', '0.75828'),\n",
       "  ('wool', '0.03378'),\n",
       "  ('ski mask', '0.02838'),\n",
       "  ('poncho', '0.02730'),\n",
       "  ('cuirass', '0.02487')],\n",
       " '8346088410.jpg': [('whistle', '0.24179'),\n",
       "  ('rubber eraser', '0.24034'),\n",
       "  ('Band Aid', '0.14556'),\n",
       "  ('lipstick', '0.11306'),\n",
       "  ('pencil sharpener', '0.08665')],\n",
       " '8270354321.jpg': [('mousetrap', '0.15675'),\n",
       "  ('can opener', '0.12632'),\n",
       "  ('lotion', '0.08778'),\n",
       "  ('face powder', '0.07853'),\n",
       "  ('Band Aid', '0.07776')],\n",
       " '8173253770.1.jpg': [('tape player', '0.12292'),\n",
       "  ('safe', '0.08734'),\n",
       "  ('cassette player', '0.06543'),\n",
       "  ('espresso maker', '0.05994'),\n",
       "  ('desktop computer', '0.04982')],\n",
       " '8270643647.jpg': [('coil', '0.11282'),\n",
       "  ('stethoscope', '0.05320'),\n",
       "  ('iron', '0.04907'),\n",
       "  ('combination lock', '0.04349'),\n",
       "  ('quill', '0.03408')],\n",
       " '8275825612.jpg': [('lotion', '0.09800'),\n",
       "  ('lighter', '0.07957'),\n",
       "  ('water bottle', '0.06267'),\n",
       "  ('remote control', '0.06209'),\n",
       "  ('vending machine', '0.04559')],\n",
       " '7929855402.1.jpg': [('nipple', '0.17665'),\n",
       "  ('pencil box', '0.11226'),\n",
       "  ('bib', '0.09996'),\n",
       "  ('face powder', '0.08857'),\n",
       "  ('purse', '0.07642')],\n",
       " '7385786534.jpg': [('stethoscope', '0.42866'),\n",
       "  ('whistle', '0.18197'),\n",
       "  ('microphone', '0.08942'),\n",
       "  ('loupe', '0.07263'),\n",
       "  ('hook', '0.06900')],\n",
       " '8278060662.jpg': [('studio couch', '0.50563'),\n",
       "  ('modem', '0.06457'),\n",
       "  ('projector', '0.03151'),\n",
       "  ('electric guitar', '0.02651'),\n",
       "  ('switch', '0.01726')],\n",
       " '8409522358.jpg': [('abaya', '0.28812'),\n",
       "  ('bulletproof vest', '0.26664'),\n",
       "  ('backpack', '0.12652'),\n",
       "  ('suit', '0.09416'),\n",
       "  ('sweatshirt', '0.08625')],\n",
       " '15856589_L1.jpg': [('trench coat', '0.29300'),\n",
       "  ('gown', '0.11276'),\n",
       "  ('maillot', '0.10955'),\n",
       "  ('velvet', '0.09831'),\n",
       "  ('stethoscope', '0.05615')],\n",
       " '8066249648.jpg': [('daisy', '0.84943'),\n",
       "  ('pot', '0.04163'),\n",
       "  ('quill', '0.02419'),\n",
       "  ('vase', '0.00730'),\n",
       "  ('cardoon', '0.00490')],\n",
       " '8011348430.jpg': [('binder', '0.30354'),\n",
       "  ('envelope', '0.07543'),\n",
       "  ('rule', '0.06956'),\n",
       "  ('notebook', '0.05879'),\n",
       "  ('modem', '0.04583')],\n",
       " '8178412518.jpg': [('hand-held computer', '0.52799'),\n",
       "  ('iPod', '0.25281'),\n",
       "  ('cellular telephone', '0.15646'),\n",
       "  ('notebook', '0.00988'),\n",
       "  ('screen', '0.00970')],\n",
       " '8313530732.jpg': [('punching bag', '0.28016'),\n",
       "  ('knee pad', '0.11592'),\n",
       "  ('power drill', '0.10195'),\n",
       "  ('bulletproof vest', '0.06712'),\n",
       "  ('suit', '0.05235')],\n",
       " '7831804818.jpg': [('apron', '0.34066'),\n",
       "  ('bulletproof vest', '0.07408'),\n",
       "  ('diaper', '0.02516'),\n",
       "  ('miniskirt', '0.02235'),\n",
       "  ('pill bottle', '0.01918')],\n",
       " '7658667000.jpg': [('maillot', '0.44154'),\n",
       "  ('maillot', '0.38983'),\n",
       "  ('sarong', '0.03530'),\n",
       "  ('bulletproof vest', '0.02851'),\n",
       "  ('jersey', '0.02522')],\n",
       " '7868629446.1.jpg': [('suit', '0.45382'),\n",
       "  ('Windsor tie', '0.16580'),\n",
       "  ('abaya', '0.09433'),\n",
       "  ('trench coat', '0.07671'),\n",
       "  ('velvet', '0.03944')],\n",
       " '8341164575.jpg': [('jean', '0.56277'),\n",
       "  ('Windsor tie', '0.04975'),\n",
       "  ('suit', '0.04529'),\n",
       "  ('knee pad', '0.04197'),\n",
       "  ('letter opener', '0.03807')],\n",
       " '6393093817.20120529170709.jpg': [('desktop computer', '0.42201'),\n",
       "  ('hard disc', '0.10237'),\n",
       "  ('modem', '0.08448'),\n",
       "  ('loudspeaker', '0.04743'),\n",
       "  ('ashcan', '0.04617')],\n",
       " '6201401363.jpg': [('loudspeaker', '0.87229'),\n",
       "  ('loupe', '0.01750'),\n",
       "  ('reflex camera', '0.01131'),\n",
       "  ('projector', '0.01032'),\n",
       "  ('radio', '0.00735')],\n",
       " '8016438849.1.jpg': [('backpack', '0.19801'),\n",
       "  ('kimono', '0.15718'),\n",
       "  ('ski mask', '0.14333'),\n",
       "  ('vestment', '0.04741'),\n",
       "  ('poncho', '0.03981')],\n",
       " '8334332794.jpg': [('swimming trunks', '0.26533'),\n",
       "  ('miniskirt', '0.15100'),\n",
       "  ('ice lolly', '0.12504'),\n",
       "  ('velvet', '0.09541'),\n",
       "  ('lipstick', '0.06387')],\n",
       " '7866856936.jpg': [('chain mail', '0.31754'),\n",
       "  ('strainer', '0.08297'),\n",
       "  ('microphone', '0.06644'),\n",
       "  ('lampshade', '0.05224'),\n",
       "  ('stole', '0.04057')],\n",
       " '8282844353.jpg': [('notebook', '0.41520'),\n",
       "  ('desktop computer', '0.13841'),\n",
       "  ('binder', '0.12230'),\n",
       "  ('modem', '0.04319'),\n",
       "  ('radio', '0.03408')],\n",
       " '8232293177.jpg': [('nipple', '0.34284'),\n",
       "  ('Band Aid', '0.14459'),\n",
       "  ('packet', '0.10111'),\n",
       "  ('tennis ball', '0.04925'),\n",
       "  ('comic book', '0.04492')],\n",
       " '7907057409.jpg': [('web site', '0.44918'),\n",
       "  ('printer', '0.04488'),\n",
       "  ('binder', '0.04119'),\n",
       "  ('desk', '0.03989'),\n",
       "  ('laptop', '0.03721')],\n",
       " '6336136969.20120516121300.jpg': [('switch', '0.27847'),\n",
       "  ('refrigerator', '0.15344'),\n",
       "  ('safe', '0.08698'),\n",
       "  ('modem', '0.08375'),\n",
       "  ('wardrobe', '0.05255')],\n",
       " '8300853348.jpg': [('bulletproof vest', '0.35975'),\n",
       "  ('cardigan', '0.08316'),\n",
       "  ('abaya', '0.07163'),\n",
       "  ('trench coat', '0.05583'),\n",
       "  ('suit', '0.05358')],\n",
       " '8312460152.jpg': [('bath towel', '0.38974'),\n",
       "  ('miniskirt', '0.17208'),\n",
       "  ('diaper', '0.11835'),\n",
       "  ('poncho', '0.03355'),\n",
       "  ('velvet', '0.02897')],\n",
       " '7945884012.1.jpg': [('pajama', '0.84718'),\n",
       "  ('kimono', '0.03305'),\n",
       "  ('sleeping bag', '0.03065'),\n",
       "  ('handkerchief', '0.01201'),\n",
       "  ('apron', '0.01102')],\n",
       " '7736597447.jpg': [('swimming trunks', '0.45744'),\n",
       "  ('sarong', '0.24442'),\n",
       "  ('miniskirt', '0.20847'),\n",
       "  ('apron', '0.04200'),\n",
       "  ('brassiere', '0.01472')],\n",
       " '8268222875.jpg': [(\"carpenter's kit\", '0.15913'),\n",
       "  ('pencil box', '0.08488'),\n",
       "  ('scale', '0.06068'),\n",
       "  ('mousetrap', '0.04841'),\n",
       "  ('modem', '0.04528')],\n",
       " '7353821034.20131224155040.jpg': [('desktop computer', '0.54957'),\n",
       "  ('cellular telephone', '0.12982'),\n",
       "  ('loudspeaker', '0.07347'),\n",
       "  ('radio', '0.03971'),\n",
       "  ('modem', '0.03881')],\n",
       " '8382940990.jpg': [('hand-held computer', '0.32015'),\n",
       "  ('cellular telephone', '0.21068'),\n",
       "  ('remote control', '0.08375'),\n",
       "  ('iPod', '0.07712'),\n",
       "  ('scale', '0.05750')],\n",
       " '6923060468.jpg': [('harmonica', '0.12020'),\n",
       "  ('rule', '0.10498'),\n",
       "  ('modem', '0.06174'),\n",
       "  ('ballpoint', '0.05976'),\n",
       "  ('nail', '0.05068')],\n",
       " '7596884624.jpg': [('modem', '0.38374'),\n",
       "  ('radio', '0.07180'),\n",
       "  ('envelope', '0.04113'),\n",
       "  ('notebook', '0.03667'),\n",
       "  ('hard disc', '0.03322')],\n",
       " '5835807885.jpg': [('bow tie', '0.45004'),\n",
       "  ('purse', '0.10364'),\n",
       "  ('wallet', '0.07014'),\n",
       "  ('mailbag', '0.06895'),\n",
       "  ('backpack', '0.05071')],\n",
       " '5645503873.jpg': [('washer', '0.82591'),\n",
       "  ('switch', '0.09578'),\n",
       "  ('dishwasher', '0.01311'),\n",
       "  ('toilet seat', '0.00950'),\n",
       "  ('analog clock', '0.00587')],\n",
       " '7641187506.20140422154156.jpg': [('web site', '0.39656'),\n",
       "  ('modem', '0.10884'),\n",
       "  ('rubber eraser', '0.07329'),\n",
       "  ('hard disc', '0.05847'),\n",
       "  ('screwdriver', '0.02616')],\n",
       " '7580194537.jpg': [('spotlight', '0.08763'),\n",
       "  ('combination lock', '0.07826'),\n",
       "  ('cocktail shaker', '0.07335'),\n",
       "  ('frying pan', '0.06912'),\n",
       "  ('buckle', '0.06626')],\n",
       " '8074112312.jpg': [('bulletproof vest', '0.74293'),\n",
       "  ('abaya', '0.05320'),\n",
       "  ('trench coat', '0.03569'),\n",
       "  ('wool', '0.02744'),\n",
       "  ('cloak', '0.02552')],\n",
       " '8280117604.jpg': [('cleaver', '0.12852'),\n",
       "  ('corkscrew', '0.09149'),\n",
       "  ('switch', '0.07654'),\n",
       "  ('space bar', '0.05778'),\n",
       "  ('analog clock', '0.05683')],\n",
       " '8355261442.jpg': [('nipple', '0.56314'),\n",
       "  ('hoopskirt', '0.11146'),\n",
       "  ('bassinet', '0.05939'),\n",
       "  ('water bottle', '0.05325'),\n",
       "  ('overskirt', '0.02311')],\n",
       " '6999381352.jpg': [('corkscrew', '0.14298'),\n",
       "  ('cassette', '0.09701'),\n",
       "  ('loupe', '0.07834'),\n",
       "  ('hook', '0.05869'),\n",
       "  ('hard disc', '0.04817')],\n",
       " '8137110529.jpg': [('mailbag', '0.65750'),\n",
       "  ('paper towel', '0.06046'),\n",
       "  ('soap dispenser', '0.04117'),\n",
       "  ('washbasin', '0.03430'),\n",
       "  ('pencil sharpener', '0.02890')],\n",
       " '8261669831.jpg': [('stethoscope', '0.16907'),\n",
       "  ('sunglass', '0.11179'),\n",
       "  ('spatula', '0.08935'),\n",
       "  ('face powder', '0.05703'),\n",
       "  ('shovel', '0.05407')],\n",
       " '8279941605.jpg': [('can opener', '0.09151'),\n",
       "  ('ski', '0.05864'),\n",
       "  ('vacuum', '0.03885'),\n",
       "  ('corkscrew', '0.03464'),\n",
       "  ('power drill', '0.03121')],\n",
       " '8178826721.jpg': [('remote control', '0.88509'),\n",
       "  ('joystick', '0.05712'),\n",
       "  ('mouse', '0.01101'),\n",
       "  ('radio', '0.00946'),\n",
       "  ('hand-held computer', '0.00570')],\n",
       " '8256519045.jpg': [('lipstick', '0.19649'),\n",
       "  ('web site', '0.08510'),\n",
       "  ('book jacket', '0.07891'),\n",
       "  ('wine bottle', '0.07522'),\n",
       "  ('red wine', '0.06986')],\n",
       " '8283487990.jpg': [('modem', '0.04969'),\n",
       "  (\"carpenter's kit\", '0.04739'),\n",
       "  ('power drill', '0.04709'),\n",
       "  ('mousetrap', '0.04699'),\n",
       "  ('mouse', '0.04621')],\n",
       " '8276105628.jpg': [('washer', '0.08621'),\n",
       "  ('can opener', '0.08436'),\n",
       "  ('oil filter', '0.07696'),\n",
       "  ('Crock Pot', '0.06188'),\n",
       "  ('jersey', '0.04688')],\n",
       " '8290760549.jpg': [('binder', '0.25261'),\n",
       "  ('envelope', '0.17728'),\n",
       "  ('oscilloscope', '0.05105'),\n",
       "  ('safety pin', '0.04351'),\n",
       "  ('web site', '0.04041')],\n",
       " '7934072578.1.jpg': [('shower curtain', '0.92335'),\n",
       "  ('window shade', '0.03640'),\n",
       "  ('bath towel', '0.00656'),\n",
       "  ('mosquito net', '0.00347'),\n",
       "  ('window screen', '0.00302')],\n",
       " '8273138512.jpg': [('sweatshirt', '0.56470'),\n",
       "  ('bulletproof vest', '0.22962'),\n",
       "  ('sleeping bag', '0.05576'),\n",
       "  ('jersey', '0.02836'),\n",
       "  ('knee pad', '0.02142')],\n",
       " '7085443254.20130826180010.jpg': [('hard disc', '0.98460'),\n",
       "  ('CD player', '0.00229'),\n",
       "  ('cassette player', '0.00133'),\n",
       "  ('analog clock', '0.00132'),\n",
       "  ('tape player', '0.00099')],\n",
       " '11222094_g.jpg': [('suit', '0.56356'),\n",
       "  ('jean', '0.06587'),\n",
       "  ('bow tie', '0.06352'),\n",
       "  ('Windsor tie', '0.04369'),\n",
       "  ('cardigan', '0.03839')],\n",
       " '7619498903.1.jpg': [('handkerchief', '0.59105'),\n",
       "  ('bib', '0.06277'),\n",
       "  ('diaper', '0.05185'),\n",
       "  ('quilt', '0.03271'),\n",
       "  ('shower cap', '0.02420')],\n",
       " '8283665589.jpg': [(\"carpenter's kit\", '0.18124'),\n",
       "  ('magnetic compass', '0.10203'),\n",
       "  ('remote control', '0.05862'),\n",
       "  ('radio', '0.03897'),\n",
       "  ('cassette', '0.03127')],\n",
       " '8258435202.jpg': [('toilet seat', '0.09914'),\n",
       "  ('diaper', '0.09804'),\n",
       "  ('pill bottle', '0.08127'),\n",
       "  ('nipple', '0.06786'),\n",
       "  ('piggy bank', '0.05524')],\n",
       " '8302736433.jpg': [('miniskirt', '0.45960'),\n",
       "  ('overskirt', '0.09962'),\n",
       "  ('hoopskirt', '0.08219'),\n",
       "  ('swimming trunks', '0.07402'),\n",
       "  ('pajama', '0.05047')],\n",
       " '5653092964.1.jpg': [('digital clock', '0.11498'),\n",
       "  ('scoreboard', '0.09394'),\n",
       "  (\"carpenter's kit\", '0.09181'),\n",
       "  ('slot', '0.06377'),\n",
       "  ('oil filter', '0.03422')],\n",
       " '6189497490.jpg': [('abaya', '0.27723'),\n",
       "  ('academic gown', '0.22795'),\n",
       "  ('cloak', '0.17649'),\n",
       "  ('trench coat', '0.06483'),\n",
       "  ('suit', '0.04756')],\n",
       " '8006633170.jpg': [('gown', '0.66477'),\n",
       "  ('hoopskirt', '0.08431'),\n",
       "  ('sarong', '0.07297'),\n",
       "  ('apron', '0.06766'),\n",
       "  ('overskirt', '0.04067')],\n",
       " '6768218912.jpg': [('radio', '0.51796'),\n",
       "  ('modem', '0.12826'),\n",
       "  ('cassette player', '0.09807'),\n",
       "  ('cassette', '0.06120'),\n",
       "  ('tape player', '0.04408')],\n",
       " '8265854454.jpg': [('switch', '0.20086'),\n",
       "  ('candle', '0.10799'),\n",
       "  ('binder', '0.09545'),\n",
       "  ('lighter', '0.08475'),\n",
       "  ('modem', '0.05515')],\n",
       " '8270514429.jpg': [('radio', '0.44255'),\n",
       "  ('CD player', '0.24206'),\n",
       "  ('modem', '0.11033'),\n",
       "  ('tape player', '0.03657'),\n",
       "  ('hard disc', '0.02542')],\n",
       " '8105030832.jpg': [('abaya', '0.13790'),\n",
       "  ('Windsor tie', '0.13101'),\n",
       "  ('pajama', '0.12278'),\n",
       "  ('jersey', '0.10947'),\n",
       "  ('wool', '0.03416')],\n",
       " '6861096535.jpg': [('perfume', '0.06929'),\n",
       "  ('gown', '0.06851'),\n",
       "  ('chain mail', '0.06804'),\n",
       "  ('miniskirt', '0.03629'),\n",
       "  ('maillot', '0.03354')],\n",
       " '8250482175.jpg': [('jersey', '0.28823'),\n",
       "  ('lab coat', '0.20432'),\n",
       "  ('sweatshirt', '0.09325'),\n",
       "  ('diaper', '0.04377'),\n",
       "  ('poncho', '0.03338')],\n",
       " '8121397253.jpg': [('lighter', '0.16174'),\n",
       "  ('cellular telephone', '0.13401'),\n",
       "  ('iPod', '0.04949'),\n",
       "  ('hand-held computer', '0.04470'),\n",
       "  ('scale', '0.04042')],\n",
       " '8289602417.jpg': [('wool', '0.26202'),\n",
       "  ('cardigan', '0.22536'),\n",
       "  ('fur coat', '0.15466'),\n",
       "  ('poncho', '0.08366'),\n",
       "  ('stole', '0.06588')],\n",
       " '8065848504.jpg': [('jean', '0.16141'),\n",
       "  ('suit', '0.15734'),\n",
       "  ('abaya', '0.05158'),\n",
       "  ('miniskirt', '0.05070'),\n",
       "  ('velvet', '0.03980')],\n",
       " '8260440387.jpg': [('gown', '0.52076'),\n",
       "  ('apron', '0.13108'),\n",
       "  ('velvet', '0.05294'),\n",
       "  ('overskirt', '0.04176'),\n",
       "  ('hoopskirt', '0.03457')],\n",
       " '8269602722.jpg': [('trench coat', '0.82776'),\n",
       "  ('fur coat', '0.07675'),\n",
       "  ('lab coat', '0.02383'),\n",
       "  ('velvet', '0.01954'),\n",
       "  ('poncho', '0.01661')],\n",
       " '8275920068.jpg': [('vending machine', '0.23604'),\n",
       "  ('cash machine', '0.22030'),\n",
       "  ('mailbox', '0.06700'),\n",
       "  ('gas pump', '0.06529'),\n",
       "  ('pay-phone', '0.03846')],\n",
       " '8270195103.jpg': [('hand-held computer', '0.89307'),\n",
       "  ('cellular telephone', '0.09525'),\n",
       "  ('desktop computer', '0.00280'),\n",
       "  ('screen', '0.00275'),\n",
       "  ('iPod', '0.00110')],\n",
       " '8309563823.jpg': [('trench coat', '0.20352'),\n",
       "  ('suit', '0.08704'),\n",
       "  ('stole', '0.07339'),\n",
       "  ('cardigan', '0.06057'),\n",
       "  ('Windsor tie', '0.05466')],\n",
       " '8200004439.jpg': [('Band Aid', '0.20590'),\n",
       "  ('packet', '0.12973'),\n",
       "  ('web site', '0.09043'),\n",
       "  ('slot', '0.04778'),\n",
       "  ('screen', '0.04413')],\n",
       " '8364544950.jpg': [('dial telephone', '0.20645'),\n",
       "  ('goblet', '0.08471'),\n",
       "  ('table lamp', '0.07868'),\n",
       "  ('perfume', '0.06808'),\n",
       "  ('eggnog', '0.04658')],\n",
       " '8277798401.jpg': [('cassette player', '0.30896'),\n",
       "  ('tape player', '0.30250'),\n",
       "  ('radio', '0.08501'),\n",
       "  ('cassette', '0.03527'),\n",
       "  ('oscilloscope', '0.02485')],\n",
       " '8015858520.20141027123158.jpg': [('dumbbell', '0.40318'),\n",
       "  ('whistle', '0.14012'),\n",
       "  ('plane', '0.13558'),\n",
       "  ('binoculars', '0.06501'),\n",
       "  ('barbell', '0.05909')],\n",
       " ...}"
      ]
     },
     "execution_count": 10,
     "metadata": {},
     "output_type": "execute_result"
    }
   ],
   "source": [
    "image_all_cache"
   ]
  },
  {
   "cell_type": "code",
   "execution_count": 11,
   "metadata": {
    "collapsed": true
   },
   "outputs": [],
   "source": [
    "d_all = joblib.load('image_cache/d_all.cache')"
   ]
  },
  {
   "cell_type": "code",
   "execution_count": 12,
   "metadata": {
    "collapsed": false
   },
   "outputs": [
    {
     "data": {
      "text/plain": [
       "{u'[\\ube44\\ube44\\uc548]\\uac00\\ubcbc\\uc6b4\\uc18c\\uc7ac\\uac70\\ub4e4\\ud32c\\ud2f0(GP3186)': u'7613045745.jpg',\n",
       " u'[\\ud328\\uc158\\ud50c\\ub7ec\\uc2a4][PANDORA by vivien]\\ud310\\ub3c4\\ub77cby\\ube44\\ube44\\uc548 \\uc2a4\\ud2b8\\ub77c\\uc774\\ud504 \\ud328\\ud134 \\uc0b0\\uc804\\uc6a9 \\ube0c\\ub77c\\ud32c\\ud2f0\\uc138\\ud2b8 bp1547_a': u'7603000429.jpg',\n",
       " u'[\\uac8c\\uc2a4\\ud0a4\\uc988]\\ub808\\uc774\\uc2a4 \\uc7a5\\uc2dd \\uc18d\\ubc14\\uc9c0 G54KCP040': u'8433726625.jpg',\n",
       " u'\\ud1a0\\ud0a4\\uc624 \\ub9ac\\ud30c\\uc778\\ub4dc \\uc2a4\\ud2b8\\ub77c\\uc774\\ud504 \\uc2ac\\ub799\\uc2a4 (\\ube14\\ub799)': u'8337996599.jpg',\n",
       " u'[4%\\uc989\\uc2dc\\ud560\\uc778\\ucfe0\\ud3f0](\\uc815\\ud488)\\uce90\\ub17c 100D   18-55 IS ll   50.8   55-250mmIS': u'8277349444.jpg',\n",
       " u'[\\ud574\\uc678]Panasonic hand mixer MK-H4-W white': u'8260100294.jpg',\n",
       " u'[\\ud544\\ub9bd\\uc2a4 \\uc815\\ud488]HX-6013/\\uc804\\ub3d9\\uce6b\\uc194\\ubaa8/\\uce6b\\uc194\\ubaa8/\\ud544\\ub9bd\\uc2a4\\uc804\\ub3d9\\uce6b\\uc194\\ubaa8/\\ud544\\ub9bd\\uc2a4\\uce6b\\uc194\\ubaa8/\\uc18c\\ub2c8\\ucf00\\uc5b4\\uce6b\\uc194\\ubaa8/\\ud544\\ub9bd\\uc2a4\\uc74c\\ud30c\\uce6b\\uc194\\ubaa8/HX6932/HX6511/HX6972/HX6733/HX6311/HX6754': u'8226974021.jpg',\n",
       " u'\\ub77c\\ud478\\ub9c8(LEZ65E500-YL-BI)LYCRA COOLMAX \\uc2a4\\ud3ec\\uce20 \\ube0c\\ub77c': u'8312204453.jpg',\n",
       " u'[\\ube44\\ube44\\uc548]\\uc218\\ubbf8\\ud30c\\uba74\\uc2f1\\uae00\\ub0a8\\uc131\\ud2b8\\ub801\\ud06c\\ud32c\\ud2f0(TP9342)': u'7879238780.1.jpg',\n",
       " u'\\uc5d0\\ub4c0\\ud50c\\ub808\\uc774\\uc5b4 {\\uacf5\\uc2dd\\uc815\\ud488 \\uc5d0\\ub4c0\\ud50c3 8GB} pmp/ EBS/\\uc544\\uc774\\ub9ac\\ubc84/\\uc804\\uc790\\uc0ac\\uc804 \\uacf5\\ubd80\\ub9cc\\uc744 \\uc6d0\\ud55c\\ub2e4\\uba74 \\uc5d0\\ub4c0\\ud50c3': u'7743185967.jpg',\n",
       " u'\\uc911\\uace0\\ud3f0 \\uc911\\uace0\\uc2a4\\ub9c8\\ud2b8\\ud3f0 \\uac24\\ub7ed\\uc2dcS4LTE-A \\ube14\\ub799 KT SHV-E330K': u'8261659088.2.jpg',\n",
       " u'[\\ube44\\uc528\\uce74\\ub4dc5%][\\uc5e0\\uc528\\uc634\\ubbc0(MC HOMME)][MC\\uc634\\ubbc0] FR12S01_CH  Trend style Coat \\ud2b8\\ub79c\\ub4dc \\ubaa8\\uc9c1 \\uc0e4\\ubcb3 \\ub354\\ube14 \\ucf54\\ud2b8': u'6677286034.jpg',\n",
       " u'[\\ub3c5\\ud2b9\\ub2f7\\ucef4] \\ud2b8\\ub79c\\ub514(TRANDY) \\ud0a4\\ubcf4\\ub4dc USB \\ubbf8\\ub2c8\\uccad\\uc18c\\uae30': u'6018035143.jpg',\n",
       " u'ACTTO/\\uc5d1\\ud1a0 \\ud5e4\\ub4dc\\uc14b BKS-64': u'8078888547.jpg',\n",
       " u'[CalvinKlein Jean] [AK\\ud50c\\ub77c\\uc790][\\uce98\\ube48\\ud074\\ub77c\\uc778\\uc9c4] \\uc5ec\\uc131\\uc6a9 \\ub77c\\uc6b4\\ub4dc \\ud06c\\ub86d \\ub2c8\\ud2b8(J201585)_P020119203': u'8186190426.jpg',\n",
       " u'[5%\\uc989\\uc2dc\\ud560\\uc778\\ucfe0\\ud3f0]DB-2000NoHub \\uc2e0\\uac1c\\ub150 \\ub2e4\\uc6a9\\ub3c4 \\uc218\\ub0a9\\ubcf4\\ub4dc \\ubd09\\ud5c8\\ube0c\\ubd88\\ud3ec\\ud568': u'8262856862.jpg',\n",
       " u'[BC\\uce74\\ub4dc5%\\ud560\\uc778][LeGEN HOMME]\\ub974\\uc820 \\uc6b830% \\uc2dc\\ubcf4\\ub9ac\\uce74\\ub77c \\ubaa8\\uc9c1 \\ud328\\ub529 \\ucf54\\ud2b8(LNCT049DN)[\\ud328\\uc158\\ud50c\\ub7ec\\uc2a4]': u'8117958655.jpg',\n",
       " u'[\\ud574\\uc678]AdobeAdobe Photoshop Lightroom 5': u'8275673291.jpg',\n",
       " u'\\ube0c\\ub77c\\uc6b4 \\uc624\\ub784\\ube44 D-2010   EB10-2 2\\uac1c 2\\uc885 \\uc138\\ud2b8': u'4036159850.20120211194140.jpg',\n",
       " u'[5% \\uc989\\uc2dc\\ud560\\uc778]\\ube44\\ub108\\uc2a4 \\ud22c\\ud1a4 \\ud651\\uacb9 \\ud2a4\\ub808\\uc774\\uc2a4 \\ube0c\\ub77c(B\\ucef5) OBR7103': u'8295630083.jpg',\n",
       " u'[\\ud574\\uc678]Dominion D6002 5S Speed 150-watt Hand Mixer White': u'8260086756.jpg',\n",
       " u'[\\ud558\\uc774\\ub9c8\\ud2b8] \\ud55c\\uc77c \\ud0c8\\uc218\\uae30(\\uc9e4\\uc21c\\uc774) WS-6600 [6.2KG / \\uc6d0\\uc2ec\\ud0c8\\uc218 \\ubc29\\uc2dd / \\ud0c0\\uc774\\uba38 \\uae30\\ub2a5 / \\ubc30\\uc218 \\ud638\\uc218 \\uac78\\uc774 \\ucc44\\uc6a9]': u'7409010392.jpg',\n",
       " u'\\ud55c\\uc77c2\\uc804\\uae30\\uc9e4\\uc21c\\uc774 WS-6600/4\\uc911\\uc548\\uc804\\uc7a5\\uce58/\\uac15\\ub825 \\ub808\\ub4dc\\ubaa8\\ud130/\\uc6d0\\uc2ec \\ud0c8\\uc218 \\ubc29\\uc2dd/\\uc548\\uc804\\uc124\\uacc4\\ud615 \\ub69c\\uaed1/\\uac15\\ub825\\ud55c\\ud0c8\\uc218(WS-6600)': u'5558273454.jpg',\n",
       " u'[4%\\uc989\\uc2dc\\ud560\\uc778\\ucfe0\\ud3f0]WS-6600 \\ud55c\\uc77c\\uc9e4\\uc21c\\uc774/\\ud0c8\\uc218\\uae30/6.2KG\\ub300\\uc6a9\\ub7c9/\\uad6d\\ub0b4\\uc0dd\\uc0b0': u'5705028796.1.jpg',\n",
       " u'[4%\\uc989\\uc2dc\\ud560\\uc778\\ucfe0\\ud3f0]\\ub85c\\uc9c0\\ud14d \\ube60\\ub978\\ubc30\\uc1a1 \\ub85c\\uc9c0\\ud14d\\ucf54\\ub9ac\\uc544\\uc815\\ud488 \\ucee8\\ud37c\\ub7f0\\uc2a4\\ucea0 BCC950 \\uc120\\uba85\\ud55c \\uc601\\uc0c1\\uacfc \\uace0\\ud488\\uc9c8\\uc758 \\uc0ac\\uc6b4\\ub4dc': u'6573524516.jpg',\n",
       " u'\\ubc14\\ubcf4\\uc0ac\\ub791[\\ub77c\\uc774\\ube0c\\ud329\\ud1a0\\ub9ac]\\uc544\\uc774\\ud3f06\\ud50c\\ub7ec\\uc2a4 \\uce74\\uba54\\ub77c \\ub80c\\uc988 \\ubcf4\\ud638 \\uba54\\ud0c8\\ub9c1[\\ubb34\\ub8cc\\ubc30\\uc1a1]': u'8255003593.jpg',\n",
       " u'[\\ube44\\ub108\\uc2a4/VENUS] [\\ube44\\ub108\\uc2a4] \\ud2b8\\ub808\\ub178 \\ud22c\\ud1a4 \\uc790\\uac00\\ub4dc \\ub4dc\\ub85c\\uc988 vmp5177t(5852927)': u'7829331662.jpg',\n",
       " u'[\\ub3c5\\uc77c\\ube0c\\ub79c\\ub4dc] \\ubcf4\\ub9cc \\uac70\\ud488\\ubc18\\uc8fd\\uae30 HM5111 [\\ubc18\\uc8fd/\\ud718\\ud551]': u'7729293645.jpg',\n",
       " u'[\\uc544\\ud2b8\\ubc15\\uc2a4 POOM(\\uc774\\ubbf8\\uc6a9,\\uc0dd\\ud65c)] Fydelity Le Boom Box BUM BAG- BLACK': u'7797856151.1.jpg',\n",
       " u'[\\uc6b0\\ub9ac\\uce74\\ub4dc5%\\ud560\\uc778][TRANSCEND] \\ud2b8\\ub79c\\uc0cc\\ub4dc Transcend JetDrive 500 960GB / TS960GJDM500': u'7890655644.jpg',\n",
       " u'[\\uc608\\uc791\\uc154\\uce20]\\ube14\\ub8e8 \\ube14\\ub808\\uc778 \\uc194\\ub9ac\\ub4dc \\ub8e8\\ubbf8 \\uae34\\uc18c\\ub9e4\\uc154\\uce20(YJ5SBR157BL)': u'8234958226.jpg',\n",
       " u'[\\ud6c4\\ucd94\\ud1b5(\\ud0a4\\ub35c\\ud2b8,\\ucde8\\ubbf8)] \\ud06c\\ub9ac\\uc2a4\\ud0c8\\ud038 \\uac24\\ub7ed\\uc2dcS4 \\ud050\\ube45\\ucf00\\uc774\\uc2a4_P014404314': u'7530478532.jpg',\n",
       " u'[gk] [\\uc2a4\\uce74\\uc774\\ub514\\uc9c0\\ud0c8]SKY7C \\ub2e4\\uc6a9\\ub3c4 \\uccad\\uc18c\\ube0c\\ub7ec\\uc26c/\\ud0a4\\ubcf4\\ub4dc/\\ub808\\ucf54\\ub4dc\\ud310 [\\ub2f9\\uc77c\\ucd9c\\uace0][\\ube60\\ub978\\ubc30\\uc1a1]': u'8162182523.jpg',\n",
       " u'[4%\\uc989\\uc2dc\\ud560\\uc778\\ucfe0\\ud3f0]2\\uad6c 3\\uc2dc\\uac04/12\\uc2dc\\uac04\\ud0c0\\uc774\\uba38\\uba40\\ud2f0\\ud0ed SKM-2G3H-01 \\uc138\\uad11\\uc804\\uc790': u'8258495213.jpg',\n",
       " u'[BC\\uce74\\ub4dc5%\\ud560\\uc778]\\ud5e4\\uc9c0\\uc2a4\\ub0a8\\uc131 14FW \\ucc28\\ucf5c \\uc2ac\\ub9bc\\ud54f \\ub204\\ube54\\ub0b4\\ud53c \\uc790\\ucf13 HZJ04D462CC': u'8252033661.jpg',\n",
       " u'LG\\uc804\\uc790 LG-F430L 8G (LG Gx2)[\\ubc88\\ud638\\uc774\\ub3d9]': u'7932709868.20140909140223.jpg',\n",
       " u'\\ub77c\\uc774\\uce74 M': u'7219625924.20131023182404.jpg',\n",
       " u'\\ud30c\\ub098\\uc18c\\ub2c9 UJDA-760 \\ube14\\ub799': u'4109515594.jpg',\n",
       " u'VMS-D205 \\ubca0\\uc2a4\\ubeec\\ub808 \\ucfe8 \\uae30\\ub2a5\\uc131 \\ub0a8\\uc790 \\uc2a4\\ud3ec\\uce20 \\ub7f0\\ub2dd \\uc0ac\\uac01 \\ub4dc\\ub85c\\uc988 \\ud32c\\ud2f0 \\uc138\\ud2b8': u'7431334260.jpg',\n",
       " u'\\uc0c8\\ub85c\\ud14d AirStor WF-ABU2': u'7410657955.20140114112144.jpg',\n",
       " u'[4%\\uc989\\uc2dc\\ud560\\uc778\\ucfe0\\ud3f0]USB3.0 SATA \\ub3c4\\ud0b9 \\uc2a4\\ud14c\\uc774\\uc158\\ud558\\ub4dc\\ubbf8\\ud3ec\\ud568 USB \\uc678\\uc7a5\\ud558\\ub4dc': u'8283971697.jpg',\n",
       " u'[AK\\ubab0/\\ub098\\uc774\\ud0a4(NIKE)]  [NIKE \\ub9e4\\uc7a5\\u6b63\\u54c1] \\ub098\\uc774\\ud0a4 \\uc758\\ub958 \\ub0a8\\uc131 \\uc870\\ub358 \\ubca0\\uc2a4\\ud2b8 JORDAN ELE PADDED VEST UPDATE(\\ub2e4\\ud06c\\uadf8\\ub808\\uc774\\ube14\\ub799) 623483-010': u'8280076430.jpg',\n",
       " u'[\\uc6d4\\ud2bc\\ud0a4\\uc988] [\\uc6d4\\ud2bc\\ud0a4\\uc988]\\ub2e8\\uc544\\ud55c\\uccb4\\ud06c\\ub9ac\\ubcf8\\uc6d0\\ud53c\\uc2a4_N': u'8213093222.1.jpg',\n",
       " u'[SKT\\ubc88\\ud638\\uc774\\ub3d9][24\\uac1c\\uc6d4\\uc57d\\uc815] SHV-E330S 16G [\\ud560\\ubd80 211,900\\uc6d0][\\uac00\\uc785\\ube44\\uba74\\uc81c][\\uc720\\uc2ec\\ud6c4\\ub0a9][100\\uc694\\uae08\\uc81c][\\uc704\\uc57d\\uae08=\\uc57d\\u2026': u'8011483551.jpg',\n",
       " u'M2496 \\uace0\\uae09\\ud615[T2350] Coms UTP \\ud0c8\\ud53c\\uae30(S-110N), \\ub79c\\uc120\\ud53c\\ubcf5 \\ud0c8\\ud53c': u'6553190021.jpg',\n",
       " u'[\\ud574\\uc678]SonySony Movie Studio 13 Suite': u'8275825612.jpg',\n",
       " u'\\u3147\\ud544\\uc988\\u3147 SAPPHIRE  \\ub77c\\ub370\\uc628 HD 7790 O.C D5 1GB Dual-X \\u3147\\ub2f9\\uc77c\\ubc1c\\uc1a1\\u3147': u'8280433754.jpg',\n",
       " u'[\\uc720\\ub2c9\\uc2a4\\uc804\\uc790\\uacf5\\uc2dd\\ud310\\ub9e4\\uc810] \\uc720\\ub2c9\\uc2a4 \\ud14c\\uc774\\ud06c\\uc544\\uc6c3 \\ub9ac\\ubbf8\\ud2f0\\ub4dc \\ud55c\\uc815\\ud310 \\ubbf8\\ub2c8 \\ud50c\\ub81b \\uace0\\ub370\\uae30 UCI-B2875S': u'8354190539.jpg',\n",
       " u'\\uc0e4\\ud504 SP700 30G': u'4057872287.20120211181029.jpg',\n",
       " u'\\ube44\\ud30c\\uc778 \\ub9e5\\ubd81\\uc5d0\\uc5b4 13\\uc778\\uce58,\\ub9e5\\ubd81\\ud504\\ub85c \\ub808\\ud2f0\\ub098 13,15\\uc778\\uce58 \\uacf5\\uc6a9 \\uceec\\ub7ec\\ud0a4\\uc2a4\\ud0a8 \\ub514\\uc790\\uc778\\ud615 \\ud654\\uc774\\ud2b8 BF-WE135D-RD': u'7584289230.jpg',\n",
       " u'[\\ud558\\ud504\\ud074\\ub7fd/WELLMADE]I\\ud2b8\\ub808\\ubab0\\ub85c(tremolo)I \\uc544\\uac00\\uc77cV\\ub125\\ub2c8\\ud2b8\\ubca0\\uc2a4\\ud2b8..': u'8331193080.jpg',\n",
       " u'[\\ud574\\uc678][\\uad6c\\ub9e4\\ub300\\ud589][B00AZVFGIA] AD7780BRZ': u'8266270845.jpg',\n",
       " u'[\\ud604\\ub300\\ubc31\\ud654\\uc810 III\\uad00] [\\ube44\\ub108\\uc2a4] \\uc258\\ucfe8 \\ucf54\\ub514 \\uc20f\\uac70\\ub4e4 (VGR0740S)': u'7788270504.jpg',\n",
       " u'[\\uc911\\uc678\\uc81c\\uc57d \\ud558\\uc774\\ub9bc\\uc5d0\\ub4c0 \\ud718\\uc0b0\\uae30\\u3161\\ub9ac\\ud544\\uc561500ml\\ud3ec\\ud568  \\ud53c\\ud1a4\\uce58\\ub4dc \\uc0b0\\ub9bc\\uc695\\uae30 \\uacf5\\uae30\\uccad\\uc815 \\uc815\\ud654 \\uc0b0\\uc18c\\ubc1c\\uc0dd': u'8251790853.jpg',\n",
       " u'\\ube0c\\ub9ac\\uce20 BR-1100V Plus': u'6319778737.20120510163331.jpg',\n",
       " u'/(\\uae30\\ud68d\\uc0c1\\ud488) \\uc0bc\\uc131\\uce74\\uba54\\ub77c ES95 \\uc804\\uc6a9 \\uc561\\uc815\\ud544\\ub984 ES95 \\ubcf4\\ud638\\ud544\\ub984 \\uad6d\\uc0b0 //': u'8263068540.jpg',\n",
       " u'\\ubc14\\ubcf4\\uc0ac\\ub791[\\ucea1\\ub370\\uc774\\uc2a4]\\ucda9\\uc804 \\ucef5\\ud640\\ub354 CA00-C101[\\ubb34\\ub8cc\\ubc30\\uc1a1]': u'8236920929.jpg',\n",
       " u'\\uc544\\ub0a0\\ub3c4\\ubc14\\uc2dc\\ub2c8 \\ub808\\uc774\\ub514\\uc2a4 \\uc2a4\\ud33d\\uae00\\uc7a5\\uc2dd \\ud050\\ud2f0 \\uc6d0\\ud53c\\uc2a4 AL10OP10BG': u'8088030671.jpg',\n",
       " u'[\\ud574\\uc678]\\uc0c8\\ub85c \\ud63c\\ub2e4 GX160 \\uc5d4\\uc9c4 5.5hp\\uc758 \\uacbd\\uc6b0 \\ud2b9\\ubcc4 \\uc870\\uc815 \\uae30\\ud654\\uae30 \\uae30\\ud654\\uae30 \\uad50\\uccb4\\ub97c dollarine/dollarine Special Adjustable Carb Carbureto': u'8259840861.jpg',\n",
       " u'\\ubc14\\ubcf4\\uc0ac\\ub791[\\uc9c4\\ubc14\\uc2a4]\\uace0\\uac10\\ub3c4 \\uc2a4\\ud0e0\\ub4dc \\ub9c8\\uc774\\ud06c MICROPHONE[\\ub178\\ud2b8\\ubd81\\uc6a9\\ud488, PC\\uc8fc\\ubcc0\\uae30\\uae30, \\ucef4\\ud4e8\\ud130\\uc8fc\\ubcc0\\uc18c\\ubaa8\\ud488, \\uace0\\uac10\\ub3c4]': u'6745219542.jpg',\n",
       " u'Pedco \\ud3ab\\ucf54 \\uc0bc\\uac01\\ub300 \\ud5e4\\ub4dc  P-UP1-QUICK \\uace0\\uc815 \\ub098\\uc0ac': u'8277712381.jpg',\n",
       " u'[4%\\uc989\\uc2dc\\ud560\\uc778\\ucfe0\\ud3f0]\\ud5ec\\ub85c\\ud0a4\\ud2f0 \\ubb34\\ub8cc\\ubc30\\uc1a1 HelloKitty  \\ud5ec\\ub85c\\ud0a4\\ud2f0 \\ubaa8\\ub2c8\\ud130 \\uba54\\ubaa8 \\uac70\\uc6b8': u'6924688894.jpg',\n",
       " u'[BC\\uce74\\ub4dc5%\\ud560\\uc778][\\ud2b8\\uc708\\ud0a4\\uc988(\\ubca0\\uc774\\ube44)](\\ud3f4\\ud504\\ub7ad\\ud06c)\\ud3f4\\ud504\\ub7ad\\ud06c\\uc2a4\\ud2b8\\ub77c\\uc774\\ud504\\uc218\\uba74P_T3WB9P04[\\ud328\\uc158\\ud50c\\ub7ec\\uc2a4]': u'8100780480.jpg',\n",
       " u'[\\ud574\\uc678]Swarovski Optik BT- Plex 5-30x50 Z6 Series Rifle Scope 59910': u'8253945229.jpg',\n",
       " u'CVP-100 PS/2 10\\ubbf8\\ud130 KVM\\ucf00\\uc774\\ube14 (15 HDB(M)15 HDB(M)/MD6M, MD6M) [PCD2556]': u'8277739536.jpg',\n",
       " u'[\\uac10\\ub3d9\\uc138\\uc77c][\\uc774\\uc0ad\\uc90d\\uae30 300\\uc870\\uac01] \\uad6d\\ub0b4\\uc81c\\uc791 \\ud37c\\uc990 \\ud310\\ud37c\\uc990 \\uc9c1\\uc18c\\ud37c\\uc990 \\uc5b4\\ub9b0\\uc774\\uc7a5\\ub09c\\uac10 \\uc7a5\\ub09c\\uac10 \\uc870\\uac01\\ud37c\\uc990 \\ud310\\ud37c\\uc990 \\uc9c1\\uc18c\\ud37c\\uc990 \\uc870\\uac01\\ud37c\\uc990 \\ud37c\\uc990 \\ucde8[\\ube60\\ub978\\ubc30\\uc1a1]': u'8115944864.jpg',\n",
       " u'\\ubc14\\ubcf4\\uc0ac\\ub791[\\uadf8\\ub808\\uc774\\uc2a4\\ubca8]\\uadf8\\ub808\\uc774\\uc2a4\\ubca8 \\ud5ec\\ub85c\\uc81c\\uc778 \\ub9c8\\uc6b0\\uc2a4\\ud328\\ub4dc 02.\\uae30\\ub3c4\\ud574': u'7949395633.jpg',\n",
       " u'\\ud30c\\uc138\\ucf54/PHD-M670ST/PHD-M660ST/\\ub9c8\\uc6b4\\ud2f4\\ud6c4\\ub4dc/\\ud1b5\\ud6c4\\ub4dc/\\uc2a4\\ud14c\\uc778\\ub808\\uc2a4\\uc2a4\\ud2f8/\\uc54c\\ub8e8\\ubbf8\\ub284\\ud544\\ud130/\\uc8fc\\ubc29\\ud6c4\\ub4dc': u'7017790169.jpg',\n",
       " u'[fashionplus]MC\\uc634\\ubbc0 \\uc2a4\\ud2b8\\ub9bf \\ub77c\\ub974 \\uae34\\ud314 \\ub0a8\\ubc29 \\uc154\\uce20 (RT14S103_G)': u'7986304800.jpg',\n",
       " u'[4%\\uc989\\uc2dc\\ud560\\uc778\\ucfe0\\ud3f0]G \\uce90\\ub17c EOS 700D  18-55mm STM \\uc815\\ud488': u'8277222846.jpg',\n",
       " u'[6%\\uc989\\uc2dc\\ud560\\uc778\\ucfe0\\ud3f0]  ATEN 2L-5005P/C/PS/2 KVM \\ucf00\\uc774\\ube14 2L-5005P/C/PS/2 K': u'8276143917.jpg',\n",
       " u'\\ucfe8\\ud2b8(KULTE) \\ub0a8\\uc131 \\ud504\\ub80c\\uce58 \\ud328\\ub529\\ub77c\\uc774\\ub108 \\uc6b8\\ucf54\\ud2b8': u'30799701L.jpg',\n",
       " u'[\\ud574\\uc678]Haier RDG350AW 6.5 Cubic Foot Front Load Gas Dryer': u'8282506566.jpg',\n",
       " u'[BC\\uce74\\ub4dc5%\\ud560\\uc778][Banana Pocket][\\ubc14\\ub098\\ub098\\ud3ec\\ucf13][2015 \\ubd04\\uc2e0\\uc0c1] \\uadc0\\uc5fc\\ub465\\uc774_\\ub465\\uadfc\\uce74\\ub77c\\uadc0\\uc5ec\\uc6b4\\ube14\\ub77c\\uc6b0\\uc2a4-BG12T70_1[\\ud328\\uc158\\ud50c\\ub7ec\\uc2a4]': u'8243107584.jpg',\n",
       " u'\\ud55c\\uc77c/\\ud0c8\\uc218\\uae30/6.2kg/\\uc9e4\\uc21c\\uc774/WS-6700/6600/\\uac15\\ub825\\ubaa8\\ud130': u'7744807194.jpg',\n",
       " u'[TBJ] \\ub0a8\\uc5ec\\uacf5\\uc6a9 \\ub77c\\uc6b4\\ub4dc \\uc544\\ud2b8\\uc6cd \\uae30\\ubcf8 \\ub9e8\\ud22c\\ub9e8 \\ud2f0\\uc154\\uce20(T151TS120P)[[AK\\ud50c\\ub77c\\uc790,\\ud2f0\\ube44\\uc81c\\uc774,\\ud2f0\\ube44\\uc7ac\\uc774,tbj,TBJ]': u'8276397481.jpg',\n",
       " u'[\\ub300\\uad6c\\ubc31\\ud654\\uc810 II\\uad00] [\\uc9c0\\ubc14\\uc774\\uac8c\\uc2a4]\\uae30\\uc2a4\\uad6c\\uc81c \\uc218\\ud37c\\uc2a4\\ud0a4\\ub2c8(GF1D1131)': u'8291187315.jpg',\n",
       " u'ANDZBYZIOZIA \\uc2a4\\ud0e0\\ub529\\uce74\\ub77c \\ucc28\\uc774\\ub098 \\ubcc0\\ud615 \\ud328\\ub529\\uc790\\ucf13 (BLU4KP1001)': u'32292186L.jpg',\n",
       " u'[4%\\uc989\\uc2dc\\ud560\\uc778\\ucfe0\\ud3f0][\\ud574\\uc678] Atlas 550 Bundle for t1 To Pri Conversion with 10/ \\ucd5c\\uc800\\uac00 \\ud574\\uc678\\uad6c\\ub9e4\\ub300\\ud589 \\uc804\\ubb38\\uc11c\\ube44\\uc2a4': u'8269408830.jpg',\n",
       " u'7200 \\uc5d1\\ud1a0 \\ud3f4\\ub4dc\\uc2a4\\ud0e0\\ub4dc\\ub9c8\\uc774\\ud06c(MIC-03)___\\uc5d1\\ud1a0\\ub9c8\\uc774\\ud06c/\\uc2a4\\ud0e0\\ub4dc\\ub9c8\\uc774\\ud06c/\\uc2a4\\ud53c\\ucee4/\\ud5e4\\ub4dc\\uc14b/PC\\ub9c8\\uc774\\ud06c/\\ud540\\ub9c8\\uc774\\ud06c': u'6693634065.jpg',\n",
       " u'[\\ud574\\uc678]Kitchen Aid Blender Clutch Coupler 6-Teeth 34mm Dia 2 Pcs Gray': u'8260088058.jpg',\n",
       " u'[\\uc0bc\\uc131\\uce74\\ub4dc5%\\ud560\\uc778~15\\uc77c\\uae4c\\uc9c0][CK\\uc5b8\\ub354\\uc6e8\\uc5b4][\\uce98\\ube48\\ud074\\ub77c\\uc778\\uc18d\\uc637][\\uc911\\ub3d9\\uc810]CK 14SS \\ud2b8\\ub801\\ud06c BOXER 2\\uc7a5\\uc5d0 !  U3023D': u'8249899780.jpg',\n",
       " u'[Superdry] [\\ub300\\uad6c\\ubc31\\ud654\\uc810 I\\uad00] [\\uc288\\ud37c\\ub4dc\\ub77c\\uc774](\\uae30\\uc874\\uac00:58 000\\uc6d0)\\uc5ec\\uc131\\uc6a9 \\ub9ac\\uc5bc \\uc288\\ud37c\\ub4dc\\ub77c\\uc774 \\ud2f0\\uc154\\uce20 PI(S42GCT02 0PI)_P014571756': u'8038341320.jpg',\n",
       " u'\\uc911\\ud559\\uc0dd\\uc2a4\\ub9c8\\ud2b8\\ud3f0\\uc694\\uae08\\uc81c/LG\\uc720\\ud50c\\ub7ec\\uc2a4\\uc54c\\ub730\\ud3f0/\\uc2e0\\uaddc\\ud734\\ub300\\ud3f0': u'8152175624.jpg',\n",
       " u'[PHILIPS \\ud544\\ub9bd\\uc2a4 \\uc18c\\ub2c9\\ucf00\\uc5b4 \\ud30c\\uc6cc\\uc5c5 \\ube14\\ub8e8 HX3120/01][[]': u'8106485064.jpg',\n",
       " u'[5% \\uc989\\uc2dc\\ud560\\uc778]\\ud50c\\ub808\\uc778 \\ub808\\uc778 \\ucf54\\ud2b8 (\\ubca0\\uc774\\uc9c0)(TPA-26WSJK5A020MAP)': u'7630670401.jpg',\n",
       " u'[\\ube44\\ube44\\uc548]\\ub9c8\\ub984\\ubaa8\\uccb4\\ud06c\\ub0a8\\uc131\\ud2b8\\ub801\\ud06c\\ud32c\\ud2f0(TP9346)': u'8181527587.jpg',\n",
       " u'[BYC] BYC \\ub0a8\\ub140 \\uae30\\ub2a5\\uc131\\uc5d0\\uc5b4\\ub85c\\uc26c \\ub7f0\\ub2dd 3\\ub9e4\\uc785 \\ud2b9\\uac00\\uc804': u'8294762196.jpg',\n",
       " u'\\uc18c\\ub2c8 [\\uc18c\\ub2c8\\uc815\\ud488] \\uc18c\\ub2c8 \\ud3ec\\ud130\\ube14 \\ud5e4\\ub4dc\\ud3f0 \\uc570\\ud504[PHA-1] \\ud558\\uc774\\ud004\\ub9ac\\ud2f0 \\uc0ac\\uc6b4\\ub4dc/\\uace0\\ud574\\uc0c1\\ub3c4/\\uc544\\ub0a0\\ub85c\\uadf8\\ud68c\\ub85c/\\uc544\\uc774\\ud328\\ub4dc4/\\uc544\\uc774\\ud3f05 \\uc120\\ucc29\\uc21c MDR-10R \\ud5e4\\ub4dc\\ud3f0 \\uc99d\\uc815 \\ub2f9\\uc77c\\ucd9c\\uace0': u'6780524170.jpg',\n",
       " u'[\\ub300\\uad6c\\ubc31\\ud654\\uc810 I\\uad00] [\\ub974\\uc0f5]\\ubca0\\uc774\\uc9c1\\ube14\\ub77c\\uc6b0\\uc2a4(LF3BL383)': u'8309563793.jpg',\n",
       " u'[\\uc2e0\\ud55c\\uce74\\ub4dc 5%\\ud560\\uc778, 3/13](\\ub4f1\\uc0b0\\uc591\\ub9d0 \\ubc84\\ud504\\uc99d\\uc815) \\ubc00\\ub808 \\ub0a8\\uc131 \\ub8e8\\uc2dc \\ucf54\\ucf54\\ub098 \\ubcf8\\ub529 \\ud32c\\uce20 (MDJWP101)': u'8178278531.jpg',\n",
       " u'[\\ud574\\uc678]  \\ud574\\uc678\\ube60\\ub978\\ubc30\\uc1a1  \\ub274\\uc695\\ub9e4\\ub2c8\\uc544 MyfotoSource/MyfotoSourc \\ud574\\uc678 \\uc815\\ud488 \\uc9c1\\ubc30\\uc1a1': u'8279957818.jpg',\n",
       " u'[\\ud574\\uc678][\\uad6c\\ub9e4\\ub300\\ud589][B00AZVJIEI] AD7524LNZ': u'8266272594.jpg',\n",
       " u'\\ub514\\uc635\\ud14d Snake HDMI to DVI \\ubcc0\\ud658\\ucf00\\uc774\\ube14 1.5M': u'8279960324.jpg',\n",
       " u'[\\ub9ac\\ud045] \\ub9ac\\ud045 \\ud31d\\ucf58 \\uba54\\uc774\\ucee4 LP-09/\\uac00\\uc815\\uc6a9 \\ud31d\\ucf58\\uae30/\\ubc14\\uc0ad\\ubc14\\uc0ad \\ud31d\\ucf58\\uc81c\\uc870\\uae30/\\uce74\\ub77c\\uba5c \\ud31d\\ucf58/\\uc601\\uc591\\uac04\\uc2dd': u'7412858887.jpg',\n",
       " u'\\ubc14\\ubcf4\\uc0ac\\ub791[\\uc815\\uc560\\uc774\\ub178\\ubca0\\uc774\\uc158]\\uc81c\\uc774\\uba54\\ud0c0 S1 \\uace8\\ub4dc \\ud48d\\uc18d\\ud654 \\uc790\\uac1c-16GB[\\ubb34\\ub8cc\\ubc30\\uc1a1]': u'7711186397.jpg',\n",
       " u'[\\ubb34\\ub8cc\\ubc30\\uc1a1]EFM\\ub124\\ud2b8\\uc705\\uc2a4 iptime DVD101 \\ube14\\ub799 \\uc678\\uc7a5\\ud615 DVD CD\\ub86c': u'8252086344.jpg',\n",
       " u'[AK PLAZA][\\ube14\\ub799\\ube0c\\ub77c\\uc6b4] \\ubbf8\\ub2e4 | M.I.D.A. 36509 \\ud328\\ub529 \\uc790\\ucf13 NAVY(\\ub124\\uc774\\ube44)': u'8223502721.jpg',\n",
       " u'YBH LG\\uc804\\uc790  BH16NS40 (\\uc815\\ud488 \\ubc15\\uc2a4)': u'8258576434.jpg',\n",
       " u'[14% \\uc989\\uc2dc\\ud560\\uc778][B839]\\uace8\\ub4e0\\ube14\\ub77c\\uc378/\\uc720\\uc544\\ub3d9 \\uc5b4\\ub9b0\\uc774 \\uc5ec\\uc544 \\ubc1c\\ub808\\ubcf5 \\uc288\\uc988 \\ud0c0\\uc774\\uc988/ \\ubc1c\\ub808\\ud0a4\\uc988': u'7639226570.jpg',\n",
       " u'\\uc5d0\\ub4c0\\ud50c\\ub808\\uc774\\uc5b4 \\uc5d0\\ub4c0\\ud50c7 32GB PMP\\ud328\\ub4dc/\\uc804\\uc790\\uc0ac\\uc804\\ud0d1\\uc7ac': u'8182975228.jpg',\n",
       " u'RTR-R1000/\\uc704\\ub4dc\\uc704\\ub4dc/\\uac00\\uc2a4\\ub80c\\uc9c0/\\ub9b0\\ub098\\uc774[RTR-R1000]': u'8276460783.jpg',\n",
       " u'KT\\uae30\\uae30\\ubcc0\\uacbd/\\uac24\\ub7ed\\uc2dc\\ub178\\ud2b84 S-LTE/SM-N916K/24\\uac1c\\uc6d4/\\ud560\\ubd80\\uc6d0\\uae08 612,000\\uc6d0/\\uc21c \\uc644\\uc804\\ubb34\\ud55c77/\\uac00\\uc785\\ube44\\uba74\\uc81c/\\uc720\\uc2ec\\uba74\\uc81c/\\uc704\\uc57d[olleh\\ub300\\ub9ac\\uc810/\\ubb34\\ub8cc\\ubc30\\uc1a1/\\uce5c\\uc808\\uc0c1\\ub2f4/\\ud2b9\\uac00\\ud310\\ub9e4]': u'8240603839.jpg',\n",
       " u'[\\ucf54\\uc2a4\\uba54 \\ub370\\ucf54\\ub974\\ud14c] AQMW\\ud398\\uc774\\uc2a4 \\ube0c\\ub7ec\\uc26c 1ea': u'7619303092.jpg',\n",
       " u'\\uc5d0\\ud504\\uc54c\\uc81c\\uc774 [\\ub86f\\ub370\\ubc31\\ud654\\uc810]\\ub0a8\\uc5ec\\uacf5\\uc6a9 \\uc55e\\uc591\\ud3ec\\ucf13\\ub370\\ub2d8\\uc720\\ub2c8\\uc154\\uce20(F51U-SH09ZB)': u'8293527983.jpg',\n",
       " u'DRA00-120150 [\\uc9c0\\ud558\\uc6a9 \\uc911\\uacc4\\uae30 \\uc804\\uc6d0\\uacf5\\uae09\\uae30-AC Adapter-12V, 1.5A]': u'6923248107.jpg',\n",
       " u'[4%\\uc989\\uc2dc\\ud560\\uc778\\ucfe0\\ud3f0][\\ubc14\\ubcf4\\uc0ac\\ub791]\\uc2ac\\ub9bc \\ub178\\ud2b8\\ubd81 \\uc7a0\\uae08\\uc7a5\\uce58 (USB\\ud3ec\\ud2b8 \\ud0c0\\uc785)[\\ubb34\\ub8cc\\ubc30\\uc1a1]': u'8217272504.jpg',\n",
       " u'[4%\\uc989\\uc2dc\\ud560\\uc778\\ucfe0\\ud3f0]WST-0971 \\uc624\\ube10\\ud1a0\\uc2a4\\ud130\\uae30 9L /\\ubbf8\\ub2c8\\uc624\\ube10/\\uc804\\uae30\\uc624\\ube10/\\ud1a0\\uc2a4\\ud2b8\\uc624\\ube10/\\ud1a0\\uc2a4\\ud130\\uc624\\ube10/\\ud1a0\\uc2a4\\ud2b8\\uae30/\\ud1a0\\uc2a4\\ud130\\uae30/ \\uc704\\uc988\\uc6f0': u'8204052423.jpg',\n",
       " u'[KB\\uad6d\\ubbfc\\uce74\\ub4dc 5%\\ud560\\uc778, 3/14]\\ud150\\ubc14\\uc774\\ud150 \\ud30c\\uc6cc\\uc11c\\ud3ec\\ud2b8 \\ub9e5\\ubd81\\uc5d0\\uc5b4\\uc790\\ucf13 13.15\\uc778\\uce58 \\ud074\\ub9ac\\uc5b4': u'7218284174.jpg',\n",
       " u'\\ubb34\\ub8cc\\ubc30\\uc1a1 \\uc232\\uc5d0\\uc11c \\ud53c\\ud1a4\\uce58\\ub4dc \\uc0b0\\ub9bc\\uc695\\uae30 S2000 \\uc804\\uc6a9 \\ub9ac\\ud544\\uac94 200g\\u3161\\ubc29\\ud5a5 \\ud0c8\\ucde8 \\uacf5\\uae30\\uc815\\ud654 \\ucc28[\\uc5b4\\ub514\\uc11c\\ub098 \\ub290\\ub07c\\ub294 \\uc232\\uc18d\\uc774 \\uc0b0\\ub9bc\\uc695]': u'8238196846.jpg',\n",
       " u'[\\uc2e0\\ud55c\\uce74\\ub4dc5%\\ud560\\uc778~14\\uc77c\\uae4c\\uc9c0][KENWOOD] \\uc601\\uad6d \\ucf04\\uc6b0\\ub4dc KM020 \\ud0a4\\uce5c\\uba38\\uc2e0 AT338\\ubbf9\\uc11c\\uae30/\\ubc18\\uc8fd\\uae30/\\ud14c\\uc774\\ube14\\ubbf9\\uc11c\\uae30': u'8293677529.jpg',\n",
       " u'\\ud06c\\ub9ac\\uc2a4\\ud06c\\ub9ac\\uc2a4\\ud2f0 \\ub0a8\\uc131 \\uceec\\ub7ec\\ube14\\ub7ed \\uc9d1\\uc5c5\\ub2c8\\ud2b8  (KCXBLPF4021)': u'32593725L.jpg',\n",
       " u'[\\ud574\\uc678][\\uad6c\\ub9e4\\ub300\\ud589][B003D3F114] Heat Sink': u'8269230301.jpg',\n",
       " u'[\\ud574\\uc678]LG[\\uc544\\ub9c8\\uc874]LG Electronics 55EC9300 55-Inch 1080p 3D Curved OLED TV': u'7987300837.jpg',\n",
       " u'[\\ud790\\ub9c1\\uc274\\ub4dc] \\uc0bc\\uc131 \\uc544\\ud2f0\\ube0c \\ubd819 NT900X3G AFP \\uc62c\\ub808\\ud3ec\\ube45 \\uc561\\uc815\\ubcf4\\ud638\\ud544\\ub984': u'7934996286.jpg',\n",
       " u'[\\uc5d1\\ud1a0]\\ud5e4\\ub4dc\\uc14b(64) BKS-64': u'8164713625.jpg',\n",
       " u'\\ucfe0\\uc2a4\\ud55c\\ud2b8 KCT-TG75': u'5474457237.20120211193312.jpg',\n",
       " u'[\\ub2c8\\ucf58(NIKON)][\\uc815\\ud488]\\ub2c8\\ucf58 D7100 Body\\uff0b\\uc778\\ud654\\uad8c': u'7330362107.jpg',\n",
       " u'\\uc778\\ud154 \\ucf54\\uc5b42 \\ucffc\\ub4dc \\ucf04\\uce20\\ud544\\ub4dc Q6600': u'4038912044.20120211213604.jpg',\n",
       " u'\\ubc14\\ubcf4\\uc0ac\\ub791[\\ud1b5\\ud070\\uc8fc\\uba38\\ub2c8]Stitchflower \\uc2a4\\ud2f0\\uce58\\ud50c\\ub77c\\uc6cc \\uc774\\uc5b4\\ucea1': u'7984179156.jpg',\n",
       " u'OPS-7204A': u'7421061911.20140211113942.jpg',\n",
       " u'[\\ud53c\\uc2dc\\ud3ec\\uc62c] \\uc790\\uc774\\ubdf0 XV400PCI   VX400PCI Lite \\uc778\\ud130\\ub137\\ubc84\\uc804 (8\\ucc44\\ub110/60\\ud504\\ub808\\uc784) \\ub2f9\\uc77c\\ubc1c\\uc1a1': u'6735558466.6.jpg',\n",
       " u'[4%\\uc989\\uc2dc\\ud560\\uc778\\ucfe0\\ud3f0][\\ud574\\uc678] Flexible Grommet 2-3/8 Diameter - 2-3/8 Diameterso \\ucd5c\\uc800\\uac00 \\ud574\\uc678\\uad6c\\ub9e4\\ub300\\ud589 \\uc804\\ubb38\\uc11c\\ube44\\uc2a4': u'8261690321.jpg',\n",
       " u'[\\ud574\\uc678] \\ub2cc\\ud150\\ub3c4 \\uc544\\ubbf8\\ubcf4 \\ub8e8\\uce74\\ub9ac\\uc624 \\ud574\\uc678 \\uc815\\ud488 \\uc9c1\\ubc30\\uc1a1': u'8265640520.jpg',\n",
       " u'\\ubc14\\ubcf4\\uc0ac\\ub791[\\ud0a4\\uc2a4\\ub9e5]\\uc610\\ub85c\\uc6b0 \\ub370\\uc774\\uc9c0 \\ud50c\\ub77c\\uc6cc\\ucf00\\uc774\\uc2a4(\\uc544\\uc774\\ud3f05S/5)[\\ubb34\\ub8cc\\ubc30\\uc1a1]': u'7949354819.jpg',\n",
       " u'[4%\\uc989\\uc2dc\\ud560\\uc778\\ucfe0\\ud3f0][TSZ] ipTIME DVD101 Premium Pack \\uc678\\uc7a5\\ud615 DVD-Multi \\ube14\\ub799/\\ud654\\uc774\\ud2b8 \\uc544\\uc774\\ud53c\\ud0c0\\uc784': u'6967012097.1.jpg',\n",
       " u'[5%\\uc989\\uc2dc\\ud560\\uc778\\ucfe0\\ud3f0]SKT\\ubc88\\ud638\\uc774\\ub3d9 24\\uac1c\\uc6d4\\uc57d\\uc815 \\uac24\\ub7ed\\uc2dc \\uadf8\\ub79c\\ub4dc \\ub9e5\\uc2a4 85\\uc694\\uae08\\uc81c': u'8455406848.jpg',\n",
       " u'[\\ud328\\uc158\\ud50c\\ub7ec\\uc2a4][EMPOLHAM(AK PLAZA)]\\uc5e0\\ud3f4\\ud584 EMPOLHAM \\ub0a8\\uc131 \\uc9dc\\uc784 \\ud328\\ud134 \\ub77c\\uc6b4\\ub4dc\\ub125 \\ud480\\uc624\\ubc84 \\ub2c8\\ud2b8(EPU4ER1412)': u'8204496838.jpg',\n",
       " u'[4%\\uc989\\uc2dc\\ud560\\uc778\\ucfe0\\ud3f0][\\ud574\\uc678] Safco Multi-Purpose Stand Misc. Part No. 1874BL \\ucd5c\\uc800\\uac00 \\ud574\\uc678\\uad6c\\ub9e4\\ub300\\ud589 \\uc804\\ubb38\\uc11c\\ube44\\uc2a4': u'8269443218.jpg',\n",
       " u'\\uc774\\uba54\\uc774\\uc158 HCM-2610': u'6188915902.20120211195045.jpg',\n",
       " u'[\\ud574\\uc678][\\uad6c\\ub9e4\\ub300\\ud589][B00H71G59U] Sparepart: HP HEATSINK DSC, 683192-001': u'8269231206.jpg',\n",
       " u'[\\ud2f0\\uc544\\uc774\\ud3ec\\ub9e8/T.I FOR MEN] [TI FOR MEN] \\ud2f0\\uc544\\uc774\\ud3ec\\ub9e8 \\uba74\\ud63c\\ubc29 \\ube0c\\uc774\\ub125 \\ub2e8\\ucd94 \\uac00\\ub514\\uac74 M132MSW003MMI3(6578826)': u'8343094681.jpg',\n",
       " u'\\uc2a4\\ud018\\uc5b4\\uc5d0\\ub2c9\\uc2a4 \\ub358\\uc804 \\uc2dc\\uc988 3 ': u'6529631871.20120802155643.jpg',\n",
       " u'[\\uc2a4\\uce74\\uc774\\ub514\\uc9c0\\ud0c8]SKY7C \\ub2e4\\uc6a9\\ub3c4 \\uccad\\uc18c\\ube0c\\ub7ec\\uc26c': u'8273651845.jpg',\n",
       " u'LG U  \\uc544\\uc774\\ud3f06 16GB [AIP6-16G] \\uae30\\uae30\\ubcc0\\uacbd [LTE89.9 \\uc694\\uae08\\uc81c/\\ud560\\ubd80\\uc6d0\\uae08: 513,800\\uc6d0/24\\uac1c\\uc6d4\\uc57d\\uc815/\\uac00\\uc785\\ube44\\uc5c6\\uc74c/\\uc720\\uc2ec\\ube44\\ud6c4\\ub0a9/\\ubd80\\uac00\\uc11c\\ube44\\uc2a4\\u7121/\\ucd5c\\ub300 \\ucd94\\uac00\\ud560\\uc778/\\uc704\\uc57d\\uae08\\u6709] ': u'8028662977.jpg',\n",
       " u'(\\uc0c8\\uc0c1\\ud488) (\\uc815\\ud488) \\ud544\\ub77c CM-008 \\ub9c8\\uc774\\ud06c': u'8282148075.jpg',\n",
       " u'LG\\uc804\\uc790 \\uc120\\uc0e4\\uc778 42LG50FD': u'4117491409.20130508120651.jpg',\n",
       " u'[CCRO] \\uc2dc\\uac8c\\uc774\\ud2b8 HDD 4TB[CCTV, \\ud558\\ub4dc, HDD, \\uc2dc\\uac8c\\uc774\\ud2b8]': u'8215154680.jpg',\n",
       " u'[\\uc560\\ud50c\\ud558\\ub098][\\uc624\\uac00\\uac8c/Applehana]\\ud30c\\ud53c\\ub8e8\\uc2a4\\uc2a4\\ucee4\\ud2b8 A6006': u'8273818899.1.jpg',\n",
       " u'[4%\\uc989\\uc2dc\\ud560\\uc778\\ucfe0\\ud3f0]PC\\uce90\\ub9ac\\uc5b4 PC\\ubc1b\\uce68\\ub300 \\ucef4\\ud4e8\\ud130\\ubc1b\\uce68\\ub300 \\uc77c\\ubc18\\ud615 \\uc2ac\\ub9bc\\ud615 \\ucef4\\ud4e8': u'8279999175.jpg',\n",
       " u'[10% \\uc989\\uc2dc\\ud560\\uc778]PMR423/PMT347 \\ud3f4\\ubc0b \\uace0\\uae09 \\uc2e4\\ucf13\\uac00\\uacf5 \\uc21c\\uba74 \\ub2c8\\ud2b8 \\ub0a8\\uc131 \\ub7f0\\ub2dd \\ud2b8\\ub801\\ud06c \\ud32c\\ud2f0 6\\uc885 \\uc138\\ud2b8 \\uc18d\\uc637 \\ube45\\uc0ac\\uc774\\uc988\\ucd9c\\uc2dc': u'6790458241.jpg',\n",
       " u'[SKT-\\ubc88\\uc774]\\uac94\\ub7ed\\uc2dc \\uba54\\uac00\\u2665\\uc628\\uac00\\uc871\\ud560\\uc778\\u2665\\uc0ac\\uc740\\ud488(\\uc0e4\\uc624\\ubbf8\\ubcf4\\uc870\\ubc30\\ud130\\ub9ac \\uc6785\\uc885)\\u26651\\uc6d0\\u266524\\uac1c\\uc6d4/100\\uc694\\uae08\\uc81c/\\uac00\\uc785\\ube44X\\uc720\\uc2ecO\\ubd80\\uac00X\\uc704\\uc57d\\ubc18\\ud658\\uae08O': u'8213547987.jpg',\n",
       " u'[4%\\uc989\\uc2dc\\ud560\\uc778\\ucfe0\\ud3f0]  \\uc2e0\\ubc1c\\ub0c4\\uc0c8\\uc81c\\uac70 \\ubc1c\\ub0c4\\uc0c8 \\uc2e0\\ubc1c\\ub0c4\\uc0c8,\\uc2b5\\uae30\\uc81c\\uac70,\\uc138\\uade0\\uc81c\\uac70,\\uc2a4\\ud0a4\\ud654-\\uc2e0\\ubc1c\\uac74\\uc870,\\uc0b4\\uade0 \\ud0c8\\ucde8 \\uac74\\uc870,\\ubb34\\uc880\\uc608\\ubc29 \\ub205\\ub205\\ud55c \\uc2e0\\ubc1c \\ubf40\\uc1a1\\ubf40\\uc1a1\\ud558\\uac8c-\\uc138\\uade0 \\uc2f9\\uc2f9 \\uc81c\\uac70': u'6023208600.jpg',\n",
       " u'\\uc804\\ub3d9\\uce6b\\uc194 \\ub374\\ud2f0\\uc62c \\ud504\\ub85c \\ucf69\\uc2a4\\ud1a0\\uc5b4': u'8268569722.jpg',\n",
       " u'[4%\\uc989\\uc2dc\\ud560\\uc778\\ucfe0\\ud3f0]\\uc0bc\\uc131\\uc804\\uc790 (CDR) \\uc0bc\\uc131\\uc804\\uc790  Ultra Thin Portable DVD Writer SE-': u'8259013981.jpg',\n",
       " u'DIY \\ud68c\\uc804\\uc2dd \\ud22c\\uba85 \\uc544\\ud06c\\ub9b4 \\ud654\\uc7a5\\ud488 \\uc815\\ub9ac\\ub300': u'8283711056.jpg',\n",
       " u'[\\uc2e0\\ud55c\\uce74\\ub4dc5%\\ud560\\uc778][asics]\\ucf00\\uc774\\uc2a4\\uc704\\uc2a4 \\ub0a8\\uc131 \\uaca8\\uc6b8 \\uad6c\\uc2a4\\ub2e4\\uc6b4 \\uc810\\ud37c \\ub808\\ub4dc 4213DJ615[\\ud328\\uc158\\ud50c\\ub7ec\\uc2a4]': u'8144705723.jpg',\n",
       " u'NETmate KVM 21 \\uc2a4\\uc704\\uce58(\\ub9c8\\uc6b0\\uc2a4\\ud074\\ub9ad\\ud0b9) [PCD0985]': u'8277524434.jpg',\n",
       " u'\\uac15\\uc6d0\\uc804\\uc790 PROLINK PMM \\uc2a4\\ud14c\\ub808\\uc624 to RCA 2\\uc120 \\ucf00\\uc774\\ube14 2M (OFC/24K\\uae08\\ub3c4\\uae08)/\\uc2a4\\ud14c\\ub808\\uc624\\ucf00\\uc774\\ube14/AV/\\uc601\\uc0c1/DVD/PMM103-0200': u'6478026954.1.jpg',\n",
       " u'[\\ucd08\\ud2b9\\uac00/\\ub178\\ub9c8\\uc9c4] [\\ub300\\uc6b0 LED TV-32\\ud615]32\\uc778\\uce58/\\ud154\\ub808\\ube44\\uc83c/\\ubcbd\\uac78\\uc774\\uacb8\\uc6a9/\\uc2a4\\ud0e0\\ub4dcTV/\\ubcbd\\uac78\\uc774TV/\\uc640\\uc774\\ub4dcTV/\\ub300\\uc6b0 \\ub8e8\\ucef4..': u'7764192083.jpg',\n",
       " u'[BC\\uce74\\ub4dc5%\\ud560\\uc778]\\ud5e4\\uc9c0\\uc2a4\\ub0a8\\uc131 14FW \\ub124\\uc774\\ube44 \\ubca0\\uc2a4\\ud2b8\\ub0b4\\ud53c \\ucc28\\uc774\\ub098\\ub125 \\uc2ac\\ub9bc\\ud54f \\uc790\\ucf13 HZJ04D535NV': u'8252033668.jpg',\n",
       " u'\\u2605\\uc8fc\\ub9d0\\ub354\\ube14\\uc801\\ub9bd\\u260510\\ud37c\\uc13c\\ud2b8 \\ubaa8\\ubc14\\uc77c5\\ud37c\\uc13c\\ud2b8\\uc801\\ub9bd[\\uc5d1\\uc2a4\\ud53c\\ub514]XPD \\ub124\\uc624\\ud504\\ub79c \\uc5ed\\ub3c4\\ubca8\\ud2b8 \\ud2b8\\ub808\\uc774\\ub2dd\\ubca8\\ud2b8 \\ud5ec\\uc2a4\\ubca8\\ud2b8': u'8237876551.1.jpg',\n",
       " u'[\\ubb34\\ub8cc\\ubc30\\uc1a1]\\ud2b8\\ub77c\\uc774 \\ucfe8\\ub9e5\\uc2a4\\ube0c\\ub77c\\ud0d1442 \\ub77c\\uc774\\ud06c\\ub77c \\ud761\\uc2b5\\uc18d\\uac74 \\uc218\\ubd84\\ubc30\\ucd9c \\ud3b8\\uc548\\ud55c \\ucfe8\\ub9e5\\uc2a4 \\ube0c\\ub77c\\ud0d1 \\uc18d\\uc637 \\ube0c\\ub808\\uc9c0\\uc5b4 \\uc5ec\\uc131': u'7993773372.jpg',\n",
       " u'[\\ud574\\uc678] Fancy Fancy Replicator Mini 3D Printer by MakerBot': u'8252544531.jpg',\n",
       " u'[KT]SM-G906K[\\ubc88\\ud638\\uc774\\ub3d9][\\uac24\\ub7ed\\uc2dcS5 LTE-A][28\\uc694\\uae08\\uc81c\\uc774\\uc0c1][\\uac00\\uc785\\ube44/\\uc720\\uc2ec \\ud6c4\\ub0a9][\\ud560\\ubd80\\uae08 \\uc694\\uae08\\uc81c\\ubcc4 \\uc0c1\\uc774][24\\uac1c\\uc6d4][[\\uae30\\uc874\\uc0ac\\uc6a9\\ud3f0 \\ucd5c\\uace0\\uac00\\ub9e4\\uc785]]': u'8059750341.jpg',\n",
       " u'Opticis HD\\ubbf8\\ub514\\uc5b4 \\ud50c\\ub808\\uc774\\uc5b4(\\ub124\\ud2b8\\uc6cc\\ud06c\\uc9c0\\uc6d0)HDMP-1000': u'8235341743.jpg',\n",
       " u'e\\ud504\\ub791\\ud2f0\\uc2a4 \\ubaa8\\ub4c8\\ub7ec \\ubc31 MD23 \\uc610\\ub85c\\uc6b0': u'6773834948.jpg',\n",
       " u'[\\ucf54\\ub370\\uc988\\ucef4\\ubc14\\uc778\\uc774\\ub108]\\ubca0\\uc774\\uc9c1 \\ube0c\\ub9ac\\ud504 BFA11M1BG/\\ubc84\\uac74\\ub514': u'8174774882.jpg',\n",
       " u'[CRITIC]HIPSTER CREWNECK (GREY) CTOFICR05UGY \\ud06c\\ub9ac\\ud2f1 \\uc758\\ub958 \\ud06c\\ub9ac\\ud2f1  3': u'8258266033.jpg',\n",
       " u'\\ub9c8\\uc774\\ud06c\\ub85c\\uc18c\\ud504\\ud2b8 HD-5000': u'5578616668.20120211213600.jpg',\n",
       " u'\\uc232\\uc5d0\\uc11c \\ud53c\\ud1a4\\uce58\\ub4dc \\uc0b0\\ub9bc\\uc695\\uae30 S2000 \\uc804\\uc6a9 \\ub9ac\\ud544\\uac94 200g\\u3161\\ubc29\\ud5a5 \\ud0c8\\ucde8 \\uacf5\\uae30\\uc815\\ud654 \\ucc28\\ub7c9\\uc6a9 \\uc0ac\\ubb34\\uc2e4 \\ub0c4\\uc0c8\\uc81c\\uac70 \\uc545\\ucde8\\uc81c\\uac70': u'8243711335.1.jpg',\n",
       " u'\\uc564\\ub4c0 \\uc5ec\\uc131\\uc6a9 \\ub124\\uc624\\ud504\\ub80c \\uc57c\\uc0c1\\uc810\\ud37c O151JP530P': u'8323488551.20150226203254.jpg',\n",
       " u'\\ucfe8\\ub860\\uba54\\uc26cV\\ub125\\ubc18\\ud314\\ub7f0\\ub2dd (MR80_JHMRM005)': u'7824215930.jpg',\n",
       " u'[\\uc608\\uc2a4\\ubdf0\\ud2f0] \\ub9e4\\uc9c1 \\uceec\\ub9c1 \\ud5e4\\uc5b4 \\uc544\\uc774\\ub871 YB-386 \\uace0\\ub370\\uae30 \\ub9e4\\uc9c1\\uae30 \\ubbf8\\uc6a9\\uac00\\uc804 \\ub4dc\\ub77c\\uc774\\uae30': u'7404406692.jpg',\n",
       " u'[4%\\uc989\\uc2dc\\ud560\\uc778\\ucfe0\\ud3f0]\\ub77c\\uc778\\ub77c\\uc774\\ud504 [linelife] pa11121400ux0012 Universal Digital LCD A/C Air Conditioner Remote Control': u'6622443492.jpg',\n",
       " u'\\ucef4\\ud4e8\\ud130\\uc6a9\\ud488 UNICORN \\ucf69\\uc2a4\\ud1a0\\uc5b4': u'8268994416.jpg',\n",
       " u'[\\uc624\\uac00\\uac8c/PAPABRO]\\uac04\\uc808\\uae30\\uace8\\ud504\\ubc14\\uc9c0(\\ubc31\\ud654\\uc810\\uc6a9)': u'8352610644.jpg',\n",
       " u'[9% \\uc989\\uc2dc\\ud560\\uc778]\\uc9c0\\uc624\\uc9c0\\uc544 \\uc9c0\\uc624\\uc9c0\\uc544  ANDZ \\uba74\\ud63c\\ubc29 \\ud558\\uc774\\ub125 \\uc9d1\\uc5c5 \\uc0ac\\ud30c\\ub9ac BZT1FF11': u'8277356010.jpg',\n",
       " u'[6%\\uc989\\uc2dc\\ud560\\uc778\\ucfe0\\ud3f0][ATEN]CS1744/4\\ud3ec\\ud2b8 USB \\ub4c0\\uc5bc\\ubdf0 KVMP  \\uc2a4\\uc704\\uce58 CS1744': u'8282826990.jpg',\n",
       " u'PC/DVD) \\ud1a0\\ud0c8\\uc6cc : \\uc544\\ud2f8\\ub77c (\\uc2a4\\ud300\\uc5f0\\ub3d9) \\ubc14\\uc774\\ud0b9\\uc758 \\uc120\\uc870\\ub4e4 \\uceec\\uccd0\\ud329 \\ud3ec\\ud568/\\ucf54\\ub4dc\\ubc1c\\uc1a1 \\uac00\\ub2a5': u'8280344075.jpg',\n",
       " u'KT\\uc5d0\\uadf8 \\ud3ec\\ucf13\\uc640\\uc774\\ud30c\\uc774 \\uc0c9\\uc0c1\\ubcc4\\uc7ac\\uace0\\ub109\\ub109 5\\ud540\\ucf00\\uc774\\ube14 \\ubb34\\uc120': u'8203567610.jpg',\n",
       " u'[\\ucf54\\uc6d0\\uc2dc\\uc2a4\\ud15c]\\ucf54\\uc6d0 \\uc2a4\\ub9c8\\ud2b8PMP A5 Plenue 32GB *2\\uc885\\uc0ac\\uc740\\ud488 \\uc99d\\uc815*': u'7846462547.jpg',\n",
       " u'\\ubb34\\ub8cc \\uc2a4\\uce74\\uc774\\ub514\\uc9c0\\ud0c8 SKYTV HD Magenta HDTV\\uce74\\ub4dc/PCI-Express/\\ud55c\\uae00\\uc790\\ub9c9\\ubc29\\uc1a1\\uc9c0\\uc6d0/PAL\\ubc29\\uc2dd\\uc9c0\\uc6d0/EPG\\uc9c0\\uc6d0/\\ub2e4\\uad6d\\uc5b4\\uc9c0\\uc6d0/\\ub9ac\\ubaa8\\ucee8\\uc81c\\uacf5 SKYTV HD Magenta(SK': u'8261052786.jpg',\n",
       " u'[4%\\uc989\\uc2dc\\ud560\\uc778\\ucfe0\\ud3f0]VP-8870 \\ubcf4\\uc18c\\ub2c9 Vosonic \\ud3ec\\ud1a0\\uc2a4\\ud1a0\\ub9ac\\uc9c0 \\uc804\\uc6a9 4.3\\uc778\\uce58 V': u'8262909772.jpg',\n",
       " u'\\uc21c\\uc218\\uc2a4\\ucee4\\ud2b8 (2color),(20\\ub300\\uc5ec\\uc131\\uc758\\ub958,\\ub370\\uc77c\\ub9ac\\ub8e9,\\uce90\\uc96c\\uc5bc,\\ud558\\uac1d\\ub8e9,\\uc624\\ud53c\\uc2a4\\ub8e9,\\ub7ec\\ube14\\ub9ac,\\ud0a4\\uc791\\uc740\\uc5ec\\uc790,33\\uc0ac\\uc774\\uc988,44\\uc0ac\\uc774\\uc988)': u'8332431195.jpg',\n",
       " u'\\uc62c\\ub77c\\uc18c\\ub2c9 \\ud504\\ub9ac\\ubbf8\\uc5c4 \\uc2a4\\ud53c\\ucee4 TW-S7 (\\ucd5c\\ub300 \\ucd9c\\ub825 20W / USB / \\uac01\\ub3c4\\uc870\\uc808 / SCDS\\ubc29\\uc2dd / \\ud328\\uc2dc\\ube0c \\ub77c\\ub514\\uc5d0\\uc774\\ud130 \\ud615)': u'7797531974.jpg',\n",
       " u'[Aero-Milk] \\uc5d0\\uc5b4\\ub85c\\ubc00\\ud06c \\ucd5c\\uc2e0\\ud615 \\uc804\\uc790\\ub3d9\\uc6b0\\uc720\\uac70\\ud488\\uae30 MMF-003': u'7443264949.jpg',\n",
       " u'[\\ubc84\\ucee4\\ub8e8\\uc9c4] \\ub0a8\\uc131 \\uc5c5\\ub77c\\uc774\\ud2b82 \\ub370\\ub2d8 \\uc2a4\\ud310 \\ud32c\\uce20(B145Z0144P)': u'7901256877.jpg',\n",
       " u'[\\ub300\\uad6c\\ubc31\\ud654\\uc810 II\\uad00] [\\uce98\\ube48\\ud074\\ub77c\\uc778\\uc5b8\\ub354\\uc6e8\\uc5b4]CK ONE \\ub9c8\\uc774\\ud06c\\ub85c \\ub4dc\\ub85c\\uc988(U8516D 1VS)': u'8302542062.jpg',\n",
       " u'[\\ud574\\uc678][\\uad6c\\ub9e4\\ub300\\ud589][B00AZVMOH6] ADR445ARZ': u'8266272177.jpg',\n",
       " u'UFO-DSD': u'8166598997.20141219135536.jpg',\n",
       " u'\\ub098\\ub2e4\\ud154 NVR-04P': u'7420653390.20140117123809.jpg',\n",
       " u'[5%\\uc989\\uc2dc\\ud560\\uc778\\ucfe0\\ud3f0]\\ube0c\\ub7f0\\ud2bc \\uc30d\\uc548\\uacbd/\\uc5d0\\ucf54 10x50 \\ud3ec\\ub85c \\ub2f9\\uc77c\\ubc1c\\uc1a1/\\ube60\\ub978\\ubc30\\uc1a1': u'8266405448.jpg',\n",
       " u'[4%\\uc989\\uc2dc\\ud560\\uc778\\ucfe0\\ud3f0]LG DVD-R 4.7GB 16x \\ucf00\\uc775 25\\uc7a5 \\ub2e4\\ub098\\uc640\\uc5f0\\ub3d9\\ubab0 \\ub9e4\\ucd9c1\\uc704/\\uace0\\uac1d\\ub9cc\\uc871\\ub3c4 \\ucd5c\\uc6b0\\uc218\\uc5c5\\uccb4': u'8266336248.jpg',\n",
       " u'[\\uc548\\ub098\\ubba4]\\uc6d4\\ud558\\ud5a5 \\uae30\\ubaa8\\ub178[\\uae30\\ubaa8\\ub178\\ucf54\\uc2a4\\ud504\\ub808,\\uc139\\uc2dc\\uc18d\\uc637,\\uc139\\uc2dc\\uc2ac\\ub9bd,\\uc139\\uc2dc\\ucf54\\uc2a4\\ud2ac,\\uc139\\uc2dc\\ucf54\\uc2a4\\ud504\\ub808]': u'7309913266.1.jpg',\n",
       " u'[14% \\uc989\\uc2dc\\ud560\\uc778]\\ud6c4\\ucd94\\ud1b5_ Varie  \\ubc14\\ub9ac\\uc5d0 \\ud30c\\uc2a4\\ud154\\uceec\\ub7ec \\uc774\\uc5b4\\ud3f0 VES-101': u'8231873910.jpg',\n",
       " u'[4%\\uc989\\uc2dc\\ud560\\uc778\\ucfe0\\ud3f0][ATEN]CS52A/USB\\ud3ec\\ud2b8': u'8276934374.jpg',\n",
       " u'SKT \\uc5d8\\uc9c0\\uc640\\uc778\\uc2a4\\ub9c8\\ud2b8\\ud3f0 [LG-F480S] \\uc2e0\\uaddc\\uac00\\uc785 [LTE100 \\uc694\\uae08\\uc81c/\\ud560\\ubd80\\uc6d0\\uae08: 34,450\\uc6d0/24\\uac1c\\uc6d4\\uc57d\\uc815/\\uac00\\uc785\\ube44\\uc5c6\\uc74c/\\uc720\\uc2ec\\ube44\\ud6c4\\ub0a9/\\ubd80\\uac00\\uc11c\\ube44\\uc2a4\\u7121/\\ucd5c\\ub300 \\ucd94\\uac00\\ud560\\uc778/\\uc704\\uc57d\\uae08\\u6709] \\ube60\\ub978\\ubc30\\uc1a1': u'8157828506.jpg',\n",
       " u'[\\ud574\\uc678]GV-17 190,130 \\uc548\\ub4dc\\ub85c\\uc774\\ub4dc 4.0 CPU\\uc758 A10 1.5GHz\\uc758 WIFI 8\\uae30\\uac00\\ubc14\\uc774\\ud2b8 TV \\uc0c1\\uc790 HDMI 1080PCamera VGA AV \\uc6d0\\uaca9 \\uc81c\\uc5b4/GV-17 \\uc548': u'8158363365.jpg',\n",
       " u'ipTIME \\uacf5\\uc778\\ud310\\ub9e4\\uc810 NAS-I NAS / 3.5\\uc778\\uce58 1\\ubca0\\uc774 / HDD \\ubbf8\\ud0d1\\uc7ac / \\uae30\\uac00\\ube44\\ud2b8 \\uc720\\uc120 / Torrent \\uc9c0\\uc6d0 [\\ud558\\ub4dc\\ubbf8\\ud3ec\\ud568]': u'7575161327.jpg',\n",
       " u'SCEK \\uc774\\uc5b4\\ud3f0 PSP-S140G': u'4077657491.20120211205605.jpg',\n",
       " u'(\\ud53c\\uc528\\uc0ac\\uc790) \\ub85c\\uc9c0\\ud14d BCC950 \\ucee8\\ud37c\\ub7f0\\uc2a4\\ucea0 \\uc815\\ud488': u'7129591671.jpg',\n",
       " u'[\\ud574\\uc678]CirkaN64 Cirka Controller - Gray': u'8275556326.jpg',\n",
       " u'[4%\\uc989\\uc2dc\\ud560\\uc778\\ucfe0\\ud3f0][\\ud574\\uc678] Fluke Networks PTNX2-DLX Pocket Toner NX2 Coax Cab \\ucd5c\\uc800\\uac00 \\ud574\\uc678\\uad6c\\ub9e4\\ub300\\ud589 \\uc804\\ubb38\\uc11c\\ube44\\uc2a4': u'8261694443.jpg',\n",
       " u'[\\uc0bc\\uc131\\uce74\\ub4dc5%\\ud560\\uc778~16\\uc77c\\uae4c\\uc9c0][\\uc528\\uac8c\\uc774\\ud2b8\\uacf5\\uc2dd\\ucd1d\\ud310/\\ub300\\uc6d0CTS] Seagate Video HDD - 2TB (ST2000VM003)': u'7824398377.jpg',\n",
       " u'[4%\\uc989\\uc2dc\\ud560\\uc778\\ucfe0\\ud3f0]\\ud30c\\uc6cc\\ud53d FDA\\ub4f1\\ub85d \\uad6c\\uac15\\uc138\\uc815\\uae30/\\ub300\\uc6a9\\ub7c9\\uc218\\uc870 \\uad6c\\uac15\\uc138\\ucc99\\uae30 \\ubbf8\\uad6d \\ub9e4\\ud2b8\\uc6e8\\uc774\\ube0c\\uc0ac \\uc815\\ud488/\\ucd1d\\uc54c\\ubc30\\uc1a1/AS\\ubcf4\\uc7a5/\\ucd08\\uac15\\ub825\\ubb3c\\uc0b4': u'8258994929.jpg',\n",
       " u'[\\ud574\\uc678][\\uad6c\\ub9e4\\ub300\\ud589][B00ADB7RKW] XENPAK-SX-MM850 - H3C Compatible - Factory New': u'8269353667.jpg',\n",
       " u'TATE(AK PLAZA)/\\ud14c\\uc774\\ud2b8 \\uc5ec\\uc131 \\ubab8\\ud310\\ud50c\\ub77c\\uc6cc\\ub808\\uc774\\uc2a4 \\ub8e8\\uc988\\ud54f \\uba74\\uc154\\uce20(KA5S1-WRC030) AGTE': u'8325282637.jpg',\n",
       " u'[\\ud2f0\\uc544\\uc774\\ud3ec\\ub9e8] \\uba5c\\ub780\\uc9c0\\ube0c\\ub77c\\uc6b4 \\uc2ac\\ub9bc\\ud615 \\ubaa8\\uc9c1 \\ud5cc\\ud130\\uc790\\ucf13- M138MJK235(AKBD) (\\uae30\\uc874\\uac00:498000\\uc6d0)': u'8136523834.jpg',\n",
       " u'[14% \\uc989\\uc2dc\\ud560\\uc778][W525]\\uc9c0\\uc824\\uc6d0\\ud1b5\\uac00\\ubc29/\\ubc1c\\ub808\\uac00\\ubc29 \\uc720\\uc544\\ub3d9 \\uc5b4\\ub9b0\\uc774 \\uc5ec\\uc544 \\ubc1c\\ub808\\ubcf5 \\uc288\\uc988/ \\ubc1c\\ub808\\ud0a4\\uc988': u'8276254450.jpg',\n",
       " u'[LGU-\\ubc88\\uc774]iPhone 6 Plus 64G\\u2665\\uc0ac\\uc740\\ud488(\\uc0e4\\uc624\\ubbf8\\ubcf4\\uc870\\ubc30\\ud130\\ub9ac \\uc6785\\uc885)\\u2665806,450\\uc6d0\\u266524\\uac1c\\uc6d4/124\\uc694\\uae08\\uc81c/\\uac00\\uc785\\ube44O\\uc720\\uc2ecO\\ubd80\\uac00X\\uc704\\uc57d\\ubc18\\ud658\\uae08O': u'8127412133.jpg',\n",
       " u'[4%\\uc989\\uc2dc\\ud560\\uc778\\ucfe0\\ud3f0][\\ud574\\uc678\\uc9c1\\ubc30\\uc1a1]HP ProBook D3S66US ABA 15.6-Inch Laptop (Black)/30093625': u'8280017857.jpg',\n",
       " u'\\ub3c4\\uc2dc\\ubc14 DT01ABA 500GB': u'8144795721.20141209142333.jpg',\n",
       " u'[\\uc544\\ud2b8\\ubc15\\uc2a4(\\ubb38\\uad6c,\\ud32c\\uc2dc)] WOW STEREOSCOPE \\uc640\\uc6b0\\ubdf0\\uc5b4_P020497750': u'8225164285.jpg',\n",
       " u'[\\ud558\\ud504\\ud074\\ub7fd/MOST]\\uc0ac\\uc740\\ud488\\uc99d\\uc815  \\ub0a8\\uc131 \\ubc14\\ub514\\uc250\\uc774\\ud37c \\ubcf4\\uc815\\uc18d\\uc637 MOST/\\ubaa8\\uc2a4\\ud2b8 MSBS501-502': u'7925974819.jpg',\n",
       " u'[\\ubc14\\ud480] [\\ubc14\\ud480] MG \\uc544\\uc0ac\\uba74 \\uc18d\\ubc14\\uc9c0  1 (85,90 \\uc0ac\\uc774\\uc988 )': u'7736597447.jpg',\n",
       " u'[\\ucf5c\\ud551/KOLPING] [KOLPING] \\ucf5c\\ud551 \\uac04\\ud3b8\\ud55c \\ud734\\ub300\\uc6a9 \\ud310\\ucd08\\uc2a4\\ud0c0\\uc77c \\uc6b0\\uc758 KFA4028U(5795764)': u'7801609573.jpg',\n",
       " u'[5% \\uc989\\uc2dc\\ud560\\uc778][TRY]\\uc2e0\\uc0ac-\\ub808\\uc774\\ub354\\uc2a4R-2 \\ube14\\ub8e8\\ubc0d \\ub7f0\\ub2dd 3\\ub9e41\\uc138\\ud2b8/\\uae30\\ub2a5\\uc131\\ub7f0\\ub2dd/\\uae30\\ubcf8\\ub7f0\\ub2dd[4675]': u'8270280753.jpg',\n",
       " u'[\\uac8c\\uc2a4 (GUESS)] 14\\ub144 F/W [\\ub0a8\\uc131] \\uc740\\uadfc\\uc5bc\\ub8e9\\uc774 \\uace8\\ub4dc \\u25bd \\uc778\\ub514\\uace0 \\uc2ac\\ub9bc \\uc2a4\\ud2b8\\ub808\\uc774\\ud2b8\\ub370\\ub2d8 (ME3D1142) [\\uac24\\ub7ec\\ub9ac\\uc544 \\uc218\\uc6d0\\uc810]': u'7950218848.jpg',\n",
       " u'[\\ud574\\uc678] Corel Corel Web.Designer': u'8278684781.jpg',\n",
       " u'[\\ud328\\uc158\\ud50c\\ub7ec\\uc2a4][MUTNAM][\\uba4b\\ub0a8]Wiki Knit Tee': u'8214571761.jpg',\n",
       " u'[AK\\ubab0/\\ud2b8\\ub8e8\\uc820]\\uc815\\uc0c1\\uac00:339,000= gt': u'7830741031.1.jpg',\n",
       " u'\\ubc1c\\ub808\\ud0a4\\uc988 [W523]\\ubc1c\\ub808\\ud29c\\ud29c \\uc2a4\\ud33d\\uae00\\uac00\\ubc29_\\ud551\\ud06c/\\ubc1c\\ub808\\uac00\\ubc29 \\uc720\\uc544\\ub3d9 \\uc5b4\\ub9b0\\uc774 \\uc5ec\\uc544 \\ubc1c\\ub808\\ubcf5 \\uc288\\uc988': u'8274648876.jpg',\n",
       " u'[6%\\uc989\\uc2dc\\ud560\\uc778\\ucfe0\\ud3f0](ATEN)2L-5002P C PS 2 KVM \\ucf00\\uc774\\ube14 2L-5002P C PS 2 K': u'8272850965.jpg',\n",
       " u'[\\ud574\\uc678] EAST KNITTING CD138 Free Shipping 2015 Women Hoody Spring Long Sleeve Pullover Hoodies Casual S': u'8318304643.jpg',\n",
       " u'\\ud638\\ub8e8\\uc2a4\\ubca4\\ub204 \\uc0bc\\uac01\\ub300\\uc6a9 \\uce74\\uc6b4\\ud130\\uc6e8\\uc787 H-TCW1 (\\uac00\\ubc29\\uac78\\uc774)': u'8281773961.jpg',\n",
       " u'[AK\\ubab0][\\uc624\\ud0a4\\uc988] [H1312] \\ud560\\ub85c\\uc708 \\ub9c8\\ub140\\uc758\\uc0c1 [\\ub9c8\\ubc95\\uc0ac\\ub9c8\\ub140-G14602] \\ud560\\ub85c\\uc708 \\uc720\\uce58\\uc6d0 \\uc5ed\\ud560\\uadf9': u'8056678222.jpg',\n",
       " u'[DC25]T5 \\ub204\\ub9ac\\uc548 NURIAN \\ud55c\\ub204\\ub9ac\\ube44\\uc988 \\uc804\\uc6a9 5\\uc778\\uce58 \\uc804\\uc790\\uc0ac\\uc804 \\uc561\\uc815\\ubcf4\\ud638\\ud544\\ub984   T5\\ubcf4\\ud638\\ud544\\ub984 \\ud558\\ub098\\ub354': u'8188171669.jpg',\n",
       " u'[10% \\uc989\\uc2dc\\ud560\\uc778][\\ud328\\uc158\\ud50c\\ub7ec\\uc2a4][\\ub9ac\\ubcf5] \\uc5ec\\uc131 POLO TSHQ3HS \\uce74\\ub77c\\ub125 \\uae34\\ud314 \\ud2f0\\uc154\\uce20 X66853': u'7565032325.jpg',\n",
       " u'[4%\\uc989\\uc2dc\\ud560\\uc778\\ucfe0\\ud3f0][\\ud574\\uc678] 200ft DS3/DS4 Plenum Simplex 735 BNC Cable \\ucd5c\\uc800\\uac00 \\ud574\\uc678\\uad6c\\ub9e4\\ub300\\ud589 \\uc804\\ubb38\\uc11c\\ube44\\uc2a4': u'8269424366.jpg',\n",
       " u'(\\uc81d\\uc2a4)\\uc544\\uc138\\ub204 \\ub540\\ud761\\uc218\\ud328\\ub4dccool(\\ubc31\\uc0c920\\ub9e4)': u'8131309982.jpg',\n",
       " u'\\uc0c8\\ub85c\\ud14d abigs Q3II': u'7522069217.20140226155917.jpg',\n",
       " u'[\\ud574\\uc678]\\uc560\\ud50c \\uc544\\uc774 \\ud328\\ub4dc \\ubbf8\\ub2c8 \\ud22c\\uba85 / \\ub808\\ub4dc / \\ube14\\ub8e8\\uc5d0 \\ub300 \\ud55c \\ub2e4\\ucc44\\ub85c\\uc6b4 \\ud06c\\ub9ac\\uc2a4\\ud0c8 \\ud22c\\uba85 \\uc0c8\\ub85c\\uc6b4 \\ud56b \\ud558\\ub4dc \\ub9d1\\uace0 \\ud22c\\uba85 \\ud50c\\ub77c\\uc2a4\\ud2f1 \\ub3cc\\uc544 \\uac00\\uae30 \\ucf00\\uc774\\uc2a4 \\ucee4\\ubc84 \\uc2a4\\ud0a8/Colorful crystal': u'8397417501.jpg',\n",
       " u'[BC\\uce74\\ub4dc5%\\ud560\\uc778]\\ubcf4\\ub2cc \\ucf54\\ud2bc \\ub098\\uadf8\\ub791 \\ub864\\ub125 \\ube0c\\uc774\\ub125 \\ub2c8\\ud2b8 \\ube14\\ub799 YHVC1044BK5': u'7119686249.15.jpg',\n",
       " u'[\\ud574\\uc678]\\uba54\\uc774\\uc2dc\\uc2a4\\ucf54\\ub9ac\\uc544/SiliSkins Siliskin Ipod Nano w/ Vi.deo Silicone Case/SiliSkins/30066246/100%\\uc815\\ud488/\\ud574\\uc678\\uad6c\\ub9e4\\ub300\\ud589/Ma': u'8276624987.jpg',\n",
       " u'[\\uc2e0\\ud55c\\uce74\\ub4dc5%\\ud560\\uc778~24\\uc77c\\uae4c\\uc9c0][SERIES] OBSCURA \\ud2b8\\ub79c\\ub514 \\uc0ac\\ud30c\\ub9ac\\ud615 \\uc810\\ud37c_SAJS42021GR': u'8293404156.jpg',\n",
       " u'\\ub77c\\ub2c8 RER-TD601E': u'6564210147.20120830165910.jpg',\n",
       " u'[BYC]\\ube45\\uc0ac\\uc774\\uc988HIGH QUALITY\\ub0a8\\uc131\\uc6a9\\uac15\\uc5f0\\uc0ac100\\uc218\\ubc18\\ud314\\ub7f0\\ub2dd5\\uc885[BYE6039]': u'6621532875.1.jpg',\n",
       " u'[\\uc544\\ub514\\ub2e4\\uc2a4] adidas I J F50 \\uc544\\ub3d9 \\ud2b8\\ub808\\uc774\\ub2dd \\uc138\\ud2b8 S21466 \\ube14\\ub799 [\\ub9e4\\uc7a5\\uc815\\ud488]': u'8240034995.jpg',\n",
       " u'100\\ud50c\\ub7ec\\uc2a4\\ubab0 \\uc218\\ud5d8\\uc0dd \\ud544\\uc218 \\uacf5\\uc2e0\\ud328\\ub4dc \\ubc14\\ub978\\uc790\\uc138 \\uc790\\uc138\\uad50\\uc815 \\uc9d1\\uc911\\ub825 \\ud5a5\\uc0c1 \\ucc99\\ucd94 \\uc804\\ubb38\\uc758\\uac00 \\uc81c\\uc548\\ud558\\ub294 \\ucd5c\\uc801\\uc194\\ub8e8\\uc158 \\uc790\\uc138\\uad50\\uc815...': u'8270467196.jpg',\n",
       " u'[\\ud574\\uc678]TOPPING TP31 TP-31 STEREO AMP   Head AMP   24/192 DAC N': u'8269188537.jpg',\n",
       " u'MIC-J2SL, \\uace0\\uac10\\ub3c4 \\uc804\\ubc29\\ud5a5 \\uc2a4\\ud14c\\ub808\\uc624 \\ud074\\ub9bd \\ub9c8\\uc774\\ud06c MIC-J2SL': u'5754277212.jpg',\n",
       " u'[4%\\uc989\\uc2dc\\ud560\\uc778\\ucfe0\\ud3f0] U9421  Coms USB \\ub9c8\\uc0ac\\uc9c0 \\ubcfc(Massage Ball)': u'6756513265.jpg',\n",
       " u'\\uc798\\ub9cc\\ud14c\\ud06c \\uc798\\ub9cc GF GTX750 \\uac8c\\uc774\\ubc0d DDR5 1G': u'7716407829.20140530151331.jpg',\n",
       " u'\\ucd08\\ub4f1\\ud559\\uc0dd\\ud578\\ub4dc\\ud3f0\\ucd94\\ucc9c/LG\\uc720\\ud50c\\ub7ec\\uc2a4\\uc815\\uc2dd\\ub300\\ub9ac\\uc810/\\ud654\\uc6e8\\uc774X3': u'8157229991.jpg',\n",
       " u'[NMA-LM10] NETmate 2\\ub2e8 \\uad00\\uc808\\ud615 \\ubaa8\\ub2c8\\ud130 \\uac70\\uce58\\ub300 [\\ubaa8\\ub2c8\\ud130\\uac70\\uce58\\ub300/\\ubaa8\\ub2c8\\ud130\\uc554/LCD\\ubaa8\\ub2c8\\ud130\\uac70\\uce58\\ub300/\\ubcbd\\uac78\\uc774\\ubaa8\\ub2c8\\ud130/\\ubaa8\\ub2c8\\ud130\\uac78\\uc774/LCD TV/\\ucc45\\uc0c1\\ud615\\uac70\\uce58\\ub300]': u'6905372876.jpg',\n",
       " u'\\uc774\\uc2a4\\ud018\\uc5b4 Commodore Commodore Joystick 100%\\uc815\\ud488 \\uad00\\ubd80\\uac00\\uc138\\ud3ec\\ud568': u'8263145215.jpg',\n",
       " u'[SKT \\ubc88\\ud638\\uc774\\ub3d9][\\uc0bc\\uc131 \\uac24\\ub7ed\\uc2dcW(SM-T255S)]\\uc57d\\uc81524\\uac1c\\uc6d4/\\uc694\\uae08\\uc81c\\uc790\\uc720/\\ud560\\ubd80\\uc6d0\\uae08 0~100,500\\uc6d0/\\uac00\\uc785\\ube44 \\uc5c6\\uc74c/\\uc720\\uc2ec\\ud6c4\\ub0a9/\\ubd80\\uac00\\uc11c\\ube44\\uc2a4 \\ubb34/\\ub2e8\\ub9d0\\uc9c0\\uc6d0 \\uc704\\uc57d\\uae08[IT\\ub09c\\ub2e4_FM\\uc2a4\\ud0c0\\uc77c]': u'8304304116.jpg',\n",
       " u'[\\ud558\\uc774\\uc5b4\\uc2dc\\uc2a4] ASHTON  AT-3300 WOOD [\\ucd1d\\uc54c\\ubc30\\uc1a1]': u'7118934828.jpg',\n",
       " u'[4%\\uc989\\uc2dc\\ud560\\uc778\\ucfe0\\ud3f0][\\ud574\\uc678] NavePoint Adjustable Rack Mount Server Shelf Shelv \\ucd5c\\uc800\\uac00 \\ud574\\uc678\\uad6c\\ub9e4\\ub300\\ud589 \\uc804\\ubb38\\uc11c\\ube44\\uc2a4': u'8261709767.jpg',\n",
       " u'\\ud50c\\ub808\\uc774\\uc628 \\ud50c\\ub808\\uc774 \\uc870\\uc774\\uc2a4\\ud2f1': u'6755379917.20130212152929.jpg',\n",
       " u'[\\ud2f0\\ubcb3] PHP-04 4\\ucc44\\ub110 H.264 120/120FPS \\uc2a4\\ub9c8\\ud2b8\\ud3f0\\uc9c0\\uc6d0 \\uc0ac\\uc6a9\\uc790\\uac00\\ud3b8\\ub9ac\\ud55c\\uae30\\ub2a5': u'7225265661.jpg',\n",
       " u'\\uc54c\\ub730\\ud3f0\\uc8fc\\ub9d0\\uac1c\\ud1b5/\\ubd80\\ubaa8\\ub2d8\\ud578\\ub4dc\\ud3f0\\ucd94\\ucc9c/\\uc2a4\\ub9c8\\ud2b8\\ud3f0\\ubb34\\uc81c\\ud55c\\uc694\\uae08': u'8152474929.jpg',\n",
       " u'[5%\\uc989\\uc2dc\\ud560\\uc778\\ucfe0\\ud3f0](P1j)\\ud3f0\\uc904/\\uc0ac\\uac01\\ubb34\\ub2ac\\uacf0\\ub3cc\\uc774(10\\uac1c1Set)': u'8282196438.jpg',\n",
       " u'[GOROKE] [\\uace0\\ub85c\\ucf00] \\uba54\\uc774\\uc6cc\\uc2f1 sk x 4c /\\uce58\\ub9c8/\\uc2a4\\ucee4\\ud2b8_P016961619': u'7828761573.1.jpg',\n",
       " u'[12% \\uc989\\uc2dc\\ud560\\uc778]\\ub2e8\\uad70  DANGOON  \\ud328\\uc158\\ud50c\\ub7ec\\uc2a4 DG_\\ud0c0\\ub178\\ub9b0\\ub128\\ubc18\\ud314\\uc154\\uce20 No.1 \\ud504\\ub9ac\\ubbf8\\uc5c4 \\ud328\\uc158\\ube0c\\ub79c\\ub4dc \\uc804\\ubb38\\uc1fc\\ud551\\ubab0': u'7801013626.jpg',\n",
       " u'\\uc704\\ub4dc\\uc2a4\\uc717\\ubab0 \\ube0c\\ub7f0\\ud2bc \\uc30d\\uc548\\uacbd/\\uc5d0\\ucf54 8x45 \\ud3ec\\ub85c': u'8266347734.jpg',\n",
       " u'\\ud790\\ub9c1\\uc274\\ub4dc \\ub808\\ub178\\ubc84 \\uc694\\uac00 \\ud0c0\\ube14\\ub81b2 8 AG Nanovid \\uc800\\ubc18\\uc0ac \\uc9c0\\ubb38\\ubc29\\uc9c0 \\uc561\\uc815\\ubcf4\\ud638\\ud544\\ub984 1\\ub9e4 \\ud6c4\\uba74\\ubcf4\\ud638\\ud544\\ub984 2\\ub9e4': u'8220329886.jpg',\n",
       " u'[\\ud504\\ub9b0\\uc138\\uc2a4\\ud0d0\\ud0d0][\\uc5ec]Lolita \\uc0ac\\uac01\\ud32c\\ud2f0(PPT247R IPK)': u'8312456081.jpg',\n",
       " u'\\uc0bc\\uc131\\ud14c\\ud06c\\uc708-1\\uc704\\ub300\\ub9ac\\uc810 \\uc0bc\\uc131\\uc815\\ud488 SRD-445   SCO-2040R 2\\uc14b \\ubc29\\uc218\\uc801\\uc678\\uc120 CCTV CCTV\\uc5c5\\uacc4 \\ucd5c\\ub2e4\\ud310\\ub9e4\\uc7281\\uc704 \\ucd5c\\uc6b0\\uc218\\ud310\\ub9e4\\uc790 \\uc120\\uc815': u'5874245022.1.jpg',\n",
       " u'TNT \\uc2a4\\ud53c\\ucee4 \\ud130\\ubbf8\\ub110\\ube14\\ub7ed \\uc2a4\\ub0c5\\uc778 \\uba40\\ud2f0\\ubbf8\\ub514\\uc5b4 \\ubaa8\\ub4c8[  \\ub2e8\\uace8\\ucd94\\uac00\\ud560\\uc778/\\ubc29\\ubb38\\uc218\\ub839/\\ub2f9\\uc77c\\ucd9c\\uace0  ]': u'7785041975.jpg',\n",
       " u'[4%\\uc989\\uc2dc\\ud560\\uc778\\ucfe0\\ud3f0][\\ud574\\uc678\\uc9c1\\ubc30\\uc1a1]HP EliteBook B9T72US ABA 14-Inch Laptop (Silver)/30093579': u'8280036089.jpg',\n",
       " u'[4%\\uc989\\uc2dc\\ud560\\uc778\\ucfe0\\ud3f0][\\ub85c\\ucee4\\uc2a4] [GE] \\uc798\\ub9cc M200 \\uad11\\ub9c8\\uc6b0\\uc2a4 \\uc778\\uae30\\uc21c\\uc704 1\\uc704 \\ucd5c\\uc800\\uac00 \\ucef4\\ud4e8\\ud130 \\ud310\\ub9e4\\uc810. LTE-A\\uae09 \\ubc30\\uc1a1.': u'8062199344.jpg',\n",
       " u'[\\ubc14\\ubcf4\\uc0ac\\ub791] \\ub2e8\\uccadUSB\\uba54\\ubaa8\\ub9ac4G-\\ub9e4\\ud654\\uae08\\ubb38L(\\uc0bc\\uccad), \\uc77c\\ubc18\\ud615,4GB': u'8110664539.jpg',\n",
       " u'[FV]\\ub2f9\\uc77c\\ucd9c\\uace0 AV-A9 \\uc548\\ub4dc\\ub85c\\uc774\\ub4dc\\uc14b\\ud0d1 \\ub514\\ube45\\uc2a4\\ud50c\\ub808\\uc774\\uc5b4,\\ub514\\ube45\\uc2a4,\\uc2a4\\ub9c8\\ud2b8TV': u'8201026167.jpg',\n",
       " u'\\uc5d4\\ube44\\ub8e9 [\\uc624\\uac00\\uac8c/envylook]\\ub77c\\uc77c\\ub77d\\ube14\\ub77c\\uc6b0\\uc2a4 \\ud2b8\\uc784\\ub2c8\\ud2b8\\uc2a4\\ucee4\\ud2b8': u'8341756898.jpg',\n",
       " u'[\\ud06c\\ub808\\uc774\\uc9c0\\ubcf8] SLEEVELESS MS-WHITE COLOR PACKAGE(4set)': u'7928525035.1.jpg',\n",
       " u'\\uc0bc\\ubcf4 TG\\uc0bc\\ubcf4 Dvbrothers ROYAL \\uc2e4\\ubc84 USB\\uba54\\ubaa8\\ub9ac 32GB': u'7079013475.1.jpg',\n",
       " u'KT\\ubc88\\ud638\\uc774\\ub3d9[24\\uac1c\\uc6d4][\\uac24\\ub7ed\\uc2dc\\uc54c\\ud30c SM-G850K][149990\\uc6d0][\\uc21c\\uc644\\ubb3499\\uc694\\uae08\\uc81c][\\uc704\\uc57d\\uae08:\\uacf5\\uc2dc\\uc9c0\\uc6d0\\uae08][\\uac00\\ubd84\\uc720\\ud6c4\\ubd80\\uac00\\u7121]': u'8351015309.jpg',\n",
       " u'GMC H200 \\ud48dV': u'6766280692.20130218151050.jpg',\n",
       " u'[\\ud574\\uc678]Handheld Aluminum Alloy Portable Flexible Telescopic Extendible Monopod Tripod Handlebar holder ': u'8260149889.jpg',\n",
       " u'[4%\\uc989\\uc2dc\\ud560\\uc778\\ucfe0\\ud3f0](SM)OFC 5.5 \\ubaa8\\ub178 \\u3131\\uc790\\ud615 \\uae30\\ud0c0 \\ucf00\\uc774\\ube14 5M(\\uc81c\\uc791)(\\uc774\\ubca0': u'8284165355.jpg',\n",
       " u'[4%\\uc989\\uc2dc\\ud560\\uc778\\ucfe0\\ud3f0]\\ub514\\ube45\\uc2a4 ATV1000 \\uc548\\ub4dc\\ub85c\\uc774\\ub4dcOS \\ud0d1\\uc7ac': u'8230840673.jpg',\n",
       " u'[styleforman] \\uc0ac\\uacc4\\uc808\\ubc34\\ub529\\ubc14\\uc9c0 F45PT003 _P019138480': u'8082081859.jpg',\n",
       " u'\\ub2e4\\ub2c8\\uc5d8\\ud06c\\ub808\\ubba4 \\ub0a8\\uc131 \\ub2e8\\ud488_AUTUMN MOOD \\uac00\\ub514\\uac74': u'28392272L.jpg',\n",
       " u'[BC\\uce74\\ub4dc5%\\ud560\\uc778][\\ubc14\\ubcf4\\uc0ac\\ub791]\\ubaac\\uc2a4\\ud37c X \\uc9c0\\uc778\\uc528 \\uadc0\\uc694\\ubbf8 \\uac24\\ub7ed\\uc2dc\\ub178\\ud2b81 \\ucf00\\uc774\\uc2a4 (\\ubcf4\\ud638\\ud544\\ub984\\ud3ec\\ud568)': u'7832133276.1.jpg',\n",
       " u'[5%\\uc989\\uc2dc\\ud560\\uc778\\ucfe0\\ud3f0]KT\\uc804\\uc6a9/LG-KU2800/3G/\\ud3f4\\ub354\\ud3f0/\\uc911\\uace0\\ud3f0\\uacf5\\uae30\\uacc4': u'8256519045.jpg',\n",
       " u'[\\uc624\\uac00\\ub2c9\\ub9d8] \\ub85c\\uadf8\\ub0a8\\uc544\\uae34\\uc18c\\uc544\\ub3d9\\uc7a0\\uc637[MZF1SW01]': u'7945884012.1.jpg',\n",
       " u'[fashionplus]\\uc62c\\uc9c4 JB7118-2 \\ubca0\\uc774\\uc9c0 \\ud3ec\\uc778\\ud2b8 \\ud3ec\\ucf13 \\uc2ac\\ub9bc\\ud54f \\uc2a4\\ud310 \\uba74\\ubc14\\uc9c0': u'8282216576.jpg',\n",
       " u'[\\uc704\\ub2c9\\uc2a4]\\uc5d0\\uc5b4\\uc6cc\\uc154(\\uac00\\uc2b5 \\uacf5\\uae30\\uc815\\ud654)WSC-407MW(9L)/\\uacf5\\uae30\\uc815\\ud654\\ub2e8\\ub3c5\\uc0ac\\uc6a9\\uae30\\ub2a5/\\uc790\\uc5f0\\uac00\\uc2b5': u'8220030727.jpg',\n",
       " u'[\\ub300\\uad6c\\ubc31\\ud654\\uc810 II\\uad00] [\\uc7ad\\uc564\\uc9c8]\\ud3ec\\uc778\\ud2b8 \\ud504\\ub9b0\\ud2b8 \\ube14\\ub8e8\\uc885 \\uc810\\ud37c(32151JP503)': u'8300843571.jpg',\n",
       " u'\\ubb34\\ub8cc\\ubc30\\uc1a1- CISS-A-65 \\ubb34\\ud55c\\uacf5\\uae09\\uae30 \\uce69\\uc5c6\\uc74c \\ubb34\\uc120\\uacf5\\uae09\\uae30 \\ube0c\\ub77c\\ub354 J2510 J2310 J3720 J3520 -\\uc0c1\\uc138\\uc124\\uba85\\uc219\\uc9c0\\uc694\\ub9dd': u'8243154151.jpg',\n",
       " u'[4%\\uc989\\uc2dc\\ud560\\uc778\\ucfe0\\ud3f0]DC25 M575 \\ucf54\\ub2e5 \\ub514\\uc9c0\\ud138\\uce74\\uba54\\ub77c (3\\uc778\\uce58) M575\\uc561\\uc815\\ubcf4\\ud638': u'8270354321.jpg',\n",
       " u'PCPOP JACKPOT': u'6393093817.20120529170709.jpg',\n",
       " u'[SKT \\uc2e0\\uaddc\\uac00\\uc785]SHV-E470S T\\ub07c\\ub9ac45\\u2605\\ud560\\uc6d0441750\\u25a0\\ub2f9\\uc77c\\ubc1c\\uc1a1\\u25a0\\uac00\\uc785\\ube44\\ubb34\\u25a0\\uc720\\uc2ec\\uc720\\u2605\\ubd80\\uac00\\ubb34\\u25a024\\uac1c\\uc6d4\\ud560\\ubd80 \\ud560\\uc778\\ubc18\\ud658\\uae08\\ubb34': u'8003991834.jpg',\n",
       " u'[\\ud604\\ub300\\uce74\\ub4dc 5%\\ud560\\uc778, 3/15][BYC]\\ube45\\uc0ac\\uc774\\uc988HIGH QUALITY\\ub0a8\\uc131\\uc6a9\\uac15\\uc5f0\\uc0ac100\\uc218\\ubc18\\ud314\\ub7f0\\ub2dd5\\uc885[BYE6039]': u'7415544588.jpg',\n",
       " u'[\\ud560\\uc778\\ud310\\ub9e4]PCDBUFFALO TeraStation 56006bay TS5600D 6TB \\ub098\\uc2a4\\uc2a4\\ud1a0\\ub9ac\\uc9c0 \\uc2a4\\ud1a0\\ub9ac\\uc9c0 \\ud558\\ub4dc\\uacf5\\uc720 NAS[\\ube60\\ub978\\ubc30\\uc1a1]': u'8263251189.jpg',\n",
       " u'CAMAC CMK-30A Click': u'6589759028.20130328174444.jpg',\n",
       " u'[fashionplus](\\ubd48\\ubd48)(PBR802\\ucfe8 \\uc778\\uacac \\uc2dc\\uc6d0\\ud55c \\ub178\\uc640\\uc774\\uc5b4 \\ube0c\\ub77c\\ub7f0\\ub2dd': u'8310993279.jpg',\n",
       " u'[9% \\uc989\\uc2dc\\ud560\\uc778][\\ubcf4\\uc288\\uc544]\\uc219\\ub140-\\uc870\\uc5ec\\uc8fc\\uace0 \\uc7a1\\uc544\\uc8fc\\ub294 p250\\uc18d\\ubc14\\uc9c0 \\ube14\\ub799 \\uadf8\\ub808\\uc774 \\uc9c4\\uadf8\\ub808\\uc774 \\ud0dd1\\uc885[3138]/ \\ubcf4\\uc288\\uc544': u'7440709819.jpg',\n",
       " u'G3 Cat.6[LG-F460K][\\ud560\\ubd80 491,500\\uc6d0][\\uc21c\\uc644\\uc804\\ubb34\\ud55c99][\\uac00\\uc785\\ube44\\uba74\\uc81c/\\uc720\\uc2ec\\ud6c4\\ub0a9][KT\\uae30\\uae30\\ubcc0\\uacbd][2\\ub144\\uc57d\\uc815/\\ud560\\uc778\\ubc18\\ud658\\uae08/\\uc9c0\\uc6d0\\ubc18\\ud658\\uae08][\\ubd80\\uac00\\u7121]': u'8113462601.jpg',\n",
       " u'\\ubbf8\\ub85c\\ud074\\ub9b0\\ud31f \\ubbf8\\ub85c\\ud074\\ub9b0\\ud31f \\ubd80\\uc720\\uc2dd \\ucd08\\uc74c\\ud30c \\uac00\\uc2b5\\uae30 MIRO-CP02KONL (\\uc288\\uac00\\uc2b5\\uae30/ \\ub77c\\ud76c \\ub77c\\uc728\\uc774\\ub97c \\uc704\\ud55c \\uc288 \\uc5c4\\ub9c8\\uc758 \\ud604\\uba85\\ud55c \\uc120\\ud0dd)': u'8040188771.jpg',\n",
       " u'[\\uc9c0\\uc624\\uc9c0\\uc544] \\ubaa8100 \\uc2ac\\ub9bc\\ud54f \\uccb4\\ud06c \\ud22c\\ubc84\\ud2bc \\uc815\\uc7a5\\uc218\\ud2b8 AAU2SB1304MGR_AAU2SP1304MGR': u'8299004662.jpg',\n",
       " u'[\\ub2e8\\uad70]DG_\\ud0c0\\ub178\\ub9b0\\ub128\\ubc18\\ud314\\uc154\\uce20': u'8289946410.jpg',\n",
       " u'[\\ub2f9\\uc77c\\ubc30\\uc1a1 \\ubc14\\ub85c\\ucd9c\\ubc1c] \\ub514\\ube44\\ucf54 FusionHDTV7 USB Deluxe [\\uc815\\ud488]': u'8215645568.jpg',\n",
       " u'AXLE GF GT610 TRACK DDR3 1G LP': u'6343994725.20120523152712.jpg',\n",
       " u'KVM \\ucf00\\uc774\\ube1420M (M/M) [PCD4043]': u'8270643647.jpg',\n",
       " u'[\\ud604\\ub300\\ubc31\\ud654\\uc810 II\\uad00] [\\ubc84\\ucee4\\ub8e8] B145Z0144P \\ub0a8\\uc131 \\uc5c5\\ub77c\\uc774\\ud2b82 \\ub370\\ub2d8 \\uc2a4\\ud310 \\ud32c\\uce20': u'7303102125.jpg',\n",
       " u'\\uc2a4\\ud0e0\\ub4dc\\ub9c8\\uc774\\ud06c': u'8271553486.jpg',\n",
       " u'[\\ud574\\uc678]Gopro hero Elastic Adjustable Head Strap Mount with anti-slide glue like original for GoPro HD H': u'8275517802.jpg',\n",
       " u'\\ud2b8\\ub79c\\uc13c\\ub4dc JetFlash 810 32G USB \\uba54\\ubaa8\\ub9ac TS32GJF810': u'8064443940.jpg',\n",
       " u'[6%\\uc989\\uc2dc\\ud560\\uc778\\ucfe0\\ud3f0][PCD]NETmate KVM \\uc5f0\\uc7a5(RGB) \\ucf00\\uc774\\ube14 10M (ST\\ud3ec\\ud568)/\\ucef4': u'8258107536.jpg',\n",
       " u'[\\ud574\\uc678] Wholesale - --Hot!!! Death Clutch Brock Lesnar Vale Tudo Fight shorts breeches beach shorts \\uad6c\\ub9e4\\ub300': u'8313474845.jpg',\n",
       " u'[\\ud574\\uc678][\\uad6c\\ub9e4\\ub300\\ud589][B005TAG118] UC3825BDW': u'8266273845.jpg',\n",
       " u'\\uaca8\\ub4dc\\ub791\\uc774\\ub540\\uc790\\uad6d\\ubc29\\uc9c0\\uc2dc\\ud2b8/\\uaca8\\ub4dc\\ub791\\uc774/\\uaca8\\ub4dc\\ub791\\uc774\\ub540\\ud328\\ub4dc/\\uaca8\\ub4dc\\ub791\\uc774\\ud328\\ub4dc/\\uaca8\\ub4dc\\ub791\\uc774\\ub540/\\ub540/\\uaca8\\ub540/\\uaca8\\ub4dc\\ub791\\uc774\\ub0c4\\uc0c8/': u'8291644883.jpg',\n",
       " u'Seagate 6TB Surveillance HDD Rescue ST6000VX0011': u'8256190893.jpg',\n",
       " u'[\\ube14\\ub8e8\\uba38\\ud540] \\ud50c\\ub85c\\ub784 \\uc6d0\\ud53c\\uc2a4 BM14FOP606C': u'8270968259.jpg',\n",
       " u'\\uce90\\ub9ac\\uc5b4 \\uc790\\uc5f0\\uac00\\uc2b5 \\uacf5\\uae30\\uccad\\uc815\\uae30 \\uc88b\\uc740\\uacf5\\uae30 CAP-H034SWA': u'8212887876.jpg',\n",
       " u'[KB\\uad6d\\ubbfc\\uce74\\ub4dc 5%\\ud560\\uc778, 3/16~3/17][7\\ub9cc\\uc6d0\\uc774\\uc0c1 \\uad6c\\ub9e4\\uc2dc \\uc6b0\\uc0b0\\uc99d\\uc815]\\ucf00\\uc774\\uc2a4\\uc704\\uc2a4 K-SWISS \\ud5e4\\ub9ac\\ud2f0\\uc9c0 \\uac10\\uc131\\uc758 \\uae30\\ubcf8 \\uce94\\ubc84\\uc2a4\\ud654 \\uc2a4\\ub2c8\\ucee4\\uc988 4115SP509': u'8344664922.jpg',\n",
       " u'\\uc815\\ud488  SWAROVSKI 25-50x W Eyepiece / \\uc30d\\uc548\\uacbd \\ub9dd\\uc6d0\\uacbd \\ub4f1\\uc0b0 \\ub808\\uc838 \\uc2a4\\ud3ec\\uce20\\uad00\\ub78c': u'8237462115.jpg',\n",
       " u'[\\ud574\\uc678]small  cleaning brush mobile phone cleaning brush keyboard cleaning brush/\\uc791\\uc740 \\uc138\\ucc99 \\ube0c\\ub7ec\\uc2dc \\ud734\\ub300\\ud3f0 \\uccad\\uc18c \\ube0c\\ub7ec\\uc2dc??': u'7747818195.jpg',\n",
       " u'NETmate KVM 2\\ub3001\\uc2a4\\uc704\\uce58(PS2\\ubbf8\\ub2c8)': u'6206556078.jpg',\n",
       " u'[\\ubcf4\\ub9ac\\ubcf4\\ub9ac/Hello Kitty]\\ud5ec\\ub85c\\ud0a4\\ud2f0 \\ud0a4\\uc988 \\uace8\\ub4dc\\ubc84\\ud2bc \\uc0ac\\uc120\\uc2a4\\ud310 \\uc735\\uae30\\ubaa8 \\uc2ac\\ub9bc\\ud32c\\uce20(KBW2P52)': u'7970080699.jpg',\n",
       " u'[4%\\uc989\\uc2dc\\ud560\\uc778\\ucfe0\\ud3f0][\\uc774\\uba54\\uc774\\uc158] \\uc2a4\\ud14c\\ub808\\uc624 \\ud5e4\\ub4dc\\uc14b PCH-430 (\\uace0\\uac10\\ub3c4 \\uc77c\\uccb4\\ud615 \\ub9c8\\uc774\\ud06c\\ub85c\\ud3f0 / \\uc8fc\\ubcc0\\uc18c\\uc74c \\ucc28\\ub2e8 / \\ubcfc\\ub968 \\uc870\\uc808 \\ucee8\\ud2b8\\ub864\\ub7ec / \\uae38\\uc774 \\uc870\\uc808 \\ud5e4\\uc5b4\\ubc34\\ub4dc)': u'7447893609.jpg',\n",
       " u'[5% \\uc989\\uc2dc\\ud560\\uc778](\\ud604\\ub300Hmall)[\\uc9c0\\uc624\\uc9c0\\uc544] \\ud3ec\\ucf13\\ud3ec\\uc778\\ud2b8 \\ud558\\uc774\\ub125 \\uc9d1\\uc5c5\\uc810\\ud37c ACT1FF1101KH': u'8274610760.jpg',\n",
       " u'[\\ubb34\\ub0d0\\ubb34\\ub0d0] \\ubb34\\ub0d0\\uc288\\uc2a4\\ud1a0\\ub9ac\\uae30\\ubaa8\\uc7a0\\uc637(MCWBBFEA03) [\\uac24\\ub7ec\\ub9ac\\uc544 \\ud0c0\\uc784\\uc6d4\\ub4dc]': u'7922992709.jpg',\n",
       " u'[\\ud574\\uc678]IntelIntel Core i7-3820 Quad-Core Processor 3.6 GHz 10 MB Cache LGA 2011 - BX80619I73820': u'8275920058.jpg',\n",
       " u'[4%\\uc989\\uc2dc\\ud560\\uc778\\ucfe0\\ud3f0]AutoCAD2015 LT \\ud55c\\uae00/Subscription \\ubbf8\\ud3ec\\ud568 \\uae30\\uc5c5\\uc6a9\\uc81c\\ud488': u'8217890342.jpg',\n",
       " u'[LGU  \\ubc88\\ud638\\uc774\\ub3d9]\\uac24\\ub7ed\\uc2dc A5[SM-A500L]/\\ubb34\\ud55c\\ub30089.9/\\uac00\\uc785\\ube44\\ubd84\\ub0a9/\\uc720\\uc2ec\\ube44\\ud6c4\\ub0a9/\\ubd80\\uac00 \\ubb34/24\\uac1c\\uc6d4\\uc57d\\uc815/\\uc704\\uc57d\\uae08\\u6709/139000': u'8277975883.jpg',\n",
       " u'[AK\\ubab0/\\ucca8\\uc774\\ucca8\\uc774]  [\\ucca8\\uc774\\ucca8\\uc774] \\ucca8\\uc774\\ud551\\ud06c\\ucea3\\uc7a0\\uc637': u'8314054871.jpg',\n",
       " u'[fashionplus][\\uc9c0\\uc624\\uc9c0\\uc544] \\ud3f4\\ub9ac \\uc9d1\\uc5c5\\uc810\\ud37c AAU1JJ1101NV': u'8303781605.jpg',\n",
       " u'[4%\\uc989\\uc2dc\\ud560\\uc778\\ucfe0\\ud3f0]\\uc870\\uc774\\uc804\\uc0b0 \\ub9ac\\ubcf8 JP 3400(SP2432J) 4355 4500 \\ube14\\ub799': u'8142582260.jpg',\n",
       " u'\\ud32c\\ud0dd \\ubca0\\uac00 IM-A920S (VEGA \\ud31d\\uc5c5 \\ub178\\ud2b8) [\\uae30\\uae30\\ubcc0\\uacbd]': u'8131738014.20141203102950.jpg',\n",
       " u'NETmate U-480 USB to DVI \\ubcc0\\ud658\\uae30(USB \\uadf8\\ub798\\ud53d\\uce74\\ub4dc)/\\ud655\\uc7a5 \\ubaa8\\ub2c8\\ud130/\\ub4c0\\uc5bc \\ubaa8\\ub2c8\\ud130/\\ubcf5\\uc81c \\ubaa8\\ub2c8\\ud130': u'6768218912.jpg',\n",
       " u'\\ud64d\\uc9c4 \\ud3ec\\ud130\\ube14\\ud32c/\\uc800\\uc18c\\uc74c/\\uacbd\\ub7c9\\ud654\\uc124\\uacc4/\\ub2e4\\uc591\\ud55c\\uc791\\uc5c5\\ud658\\uacbd': u'8267175538.jpg',\n",
       " u'(TW)\\uc0bc\\uc131\\uc804\\uc790  DDR3 4G PC3-12800 (\\uc815\\ud488) \\ub2e8\\uba74': u'8165758662.jpg',\n",
       " u'[4%\\uc989\\uc2dc\\ud560\\uc778\\ucfe0\\ud3f0][\\ud574\\uc678] Pyle - 800-Watt Dual Channel Wireless Rechargeable \\ucd5c\\uc800\\uac00 \\ud574\\uc678\\uad6c\\ub9e4\\ub300\\ud589 \\uc804\\ubb38\\uc11c\\ube44\\uc2a4': u'8270170966.jpg',\n",
       " u'[STL\\ubcf4\\ub4dc\\ubcf5]14/15\\uc2e0\\uc0c1 \\uc544\\ub3d9\\uc6a9\\uc2a4\\ud0a4\\ubcf5\\uc790\\ucf13 ver.3\\ud654\\uc774\\ud2b8/\\uadf8\\ub808\\uc774/\\ube14\\ub799': u'8118358568.jpg',\n",
       " u'\\uc18c\\ub2c8 NW F880 16GB': u'7190045152.20131010112250.jpg',\n",
       " u'LGLTE\\uccad\\uc18c\\ub144\\uc694\\uae08\\uc81c/\\uc2a4\\ub9c8\\ud2b8\\ud3f0\\ucffc\\ud2f0/\\uc911\\ub529\\uc2a4\\ub9c8\\ud2b8\\ud3f0': u'8152172042.jpg',\n",
       " u'\\ub374\\ud0c8 \\ud06c\\ub9ac\\uc5b4 \\uad6c\\uac15\\uc138\\uc815\\uae30 (\\uc787\\ubab8\\ub9c8\\uc0ac\\uc9c0\\uae30/\\uce58\\uc544\\uc138\\uc815\\uae30) [W183018]': u'8269808073.jpg',\n",
       " u'[\\ubcf4\\ub514\\uac00\\ub4dc]\\uace8\\ub4dc\\ud384\\ud638\\ud53c \\uc5ec\\uc131\\ube0c\\ub77c\\ud32c\\ud2f0\\uc14b\\ud2b8(BGWBQ911BGWPQ911)': u'7983511972.1.jpg',\n",
       " u'DVR \\uc790\\uc774\\ubdf0 USB 4\\ucc44\\ub110 \\uce74\\ub4dc (XY-USB)': u'6768219770.jpg',\n",
       " u'[\\uc774\\uad11\\ud76c] \\ud398\\ubbf8\\ub2ccSt \\ud2f0\\uc5b4\\ub4dc \\uc2a4\\ucee4\\ud2b8(LKWH0517ZZ_BL)': u'7686688774.jpg',\n",
       " u'[5% \\uc989\\uc2dc\\ud560\\uc778]Sexy s Lingeries Dark Ruffle Short Sleepwear Panty': u'8309645940.jpg',\n",
       " u'CAMAC CMK-680A': u'5483057680.20120211170932.jpg',\n",
       " u'\\uc0c8\\ub85c\\ud14d ECU-31 //\\ub178\\ud2b8\\ubd81\\uc6a9\\uce74\\ub4dc/USB3\\uce74\\ub4dc/USB\\uce74\\ub4dc/PCMCIA Express\\uce74\\ub4dc (ECU-31)': u'7671505657.jpg',\n",
       " u'[4%\\uc989\\uc2dc\\ud560\\uc778\\ucfe0\\ud3f0]\\ud050\\ub0c5 \\uace0\\uc131\\ub2a5 \\ub098\\uc2a4 NAS TS-851-4G 8\\ubca0\\uc774 48TB \\ub137\\ud558\\ub4dc': u'8257515698.jpg',\n",
       " u'[5% \\uc989\\uc2dc\\ud560\\uc778]  \\uc11c\\uc6b8\\uc6d0\\ubcf5 \\uc6d0\\ubcf5(1203)LG2015-\\uc5ec\\uc544\\uc6a9\\uc138\\ud2b8': u'8313944298.jpg',\n",
       " u'RNH-90L/\\ud558\\uce20/\\ub85c\\ube48 \\uc88c\\ud615/\\ub808\\uc778\\uc9c0\\ud6c4\\ub4dc/\\uc8fc\\ubc29\\ud6c4\\ub4dc': u'7429362695.1.jpg',\n",
       " u'\\ud5ec\\ub85c\\ud0a4\\ud2f0/\\ud5ec\\ub85c\\ud0a4\\ud2f0 \\ud0a4\\uc988 \\ud0a4\\ud2f0 \\ub2e8\\ucd94 \\ub465\\uadfc \\uce74\\ub77c \\ud2f0\\uc154\\uce20(KBA5T17)': u'7698246477.jpg',\n",
       " u'[\\ud574\\uc678]USB 2.0 TO DVD CD COMBO ROM RW Drive': u'8059412206.jpg',\n",
       " u'[\\ud574\\uc678] CTU BroHall CTU BroHall 2GB Santa Claus   Christmas Wreath Credit Card USB Flash Drive (R1) \\uad6c\\ub9e4\\ub300': u'8368291712.jpg',\n",
       " u'[AK PLAZA][\\uac8c\\uc2a4\\uc5b8\\ub354\\uc6e8\\uc5b4]\\ub85c\\uace0\\uc7c8\\uac00\\ub4dc\\uc548\\uacbd\\ube0c\\ub77c\\ucee4\\ud50c(LE4R1R16,LE4H1H16,UE4J1J16)BRN': u'8175362700.jpg',\n",
       " u'[\\uac70\\ud488\\ubc18\\uc8fd\\uae30] \\ucc44\\uc6c0\\ube48\\uc2a4\\uc2e4\\ub9ac\\ucf58\\uac70\\ud488\\uae30(\\uc18c) \\uac70\\ud488\\uae30': u'8284168875.jpg',\n",
       " u'\\uc368\\uba40\\ud14c\\uc774\\ud06c Urban T31 - mid-tower chassis': u'8352643203.jpg',\n",
       " u'[\\uc2e0\\ud55c\\uce74\\ub4dc 5%\\ud560\\uc778, 3/13][ZTOOU]\\ub0a8\\uc131 \\ub354\\ube14\\ud3ec\\ucf13 \\ucc28\\uc774\\ub098 \\uc591\\uac00\\uc8fd\\uc790\\ucf13(\\ube14\\ub799)': u'8247051926.jpg',\n",
       " u'[CJ \\uc2e0\\uaddc\\uac00\\uc785] F70(LG-F370K) 24\\uac1c\\uc6d4/\\ud560\\ubd80\\uc6d0\\uae08 159,400\\uc6d0/\\ud5ec\\ub85cLTE62/\\uac00\\uc785\\ube44\\ubd84\\ub0a9/\\uc720\\uc2ec\\ud6c4\\ub0a9/\\uc704\\uc57d\\uae08 \\ud560\\uc778\\ubc18\\ud658\\uae08 \\uacf5\\uc2dc\\uc9c0\\uc6d0\\uae08/\\ubd80\\uac00\\u7121': u'8053964994.jpg',\n",
       " u'G.SKILL 16G DDR3 17000 CL9 RIPJAWS XH KIT GSK': u'6681455427.20121126115535.jpg',\n",
       " u'\\uc0bc\\uc131\\uc804\\uc790 2G DDR2 6400 SAM': u'4063384379.20120211212511.jpg',\n",
       " u'[\\uc138\\uc774\\ucf54\\uba54\\ud2b8\\ub85c\\ud29c\\ub108] SEIKO Metronome Tuner STH-100   STH100 \\uba54\\ud2b8\\ub85c\\ub188 \\ud29c\\ub108 \\ud29c\\ub2dd\\uae30 \\uc870\\uc728\\uae30 \\uae30\\ud0c0\\ud29c\\ub108': u'7805279635.jpg',\n",
       " u'SAMDI \\uc6b0\\ub4dc iMac\\ud0a4\\ubcf4\\ub4dc\\uac70\\uce58\\ub300 / \\uc544\\uc774\\ub9e5 \\ud0a4\\ubcf4\\ub4dc \\uac70\\uce58\\ub300': u'8386294142.jpg',\n",
       " u'[5% \\uc989\\uc2dc\\ud560\\uc778](\\ud604\\ub300Hmall)[\\uc9c0\\uc624\\uc9c0\\uc544] \\uba74\\ud63c\\ubc29 \\uc194\\ub9ac\\ub4dc \\ub178\\ud131 \\uce90\\uc8fc\\uc5bc \\ud32c\\uce20 AAS2PP1101BE': u'7780537505.jpg',\n",
       " u'\\uc624\\ub77c\\ud074 \\ub370\\uc774\\ud130\\ubca0\\uc774\\uc2a4 \\ud37c\\uc2a4\\ub110 \\uc5d0\\ub514\\uc158 10g \\ub9ac\\ub205\\uc2a4\\uc6a9': u'8245964496.jpg',\n",
       " u'[\\ud574\\uc678]\\ub808\\ub178\\ubc84 y730a y730g y730 \\ud32c Y710 \\ud32c/Lenovo y730a y730g y730 fa': u'7448683172.jpg',\n",
       " u'(1%\\uc778\\ud558) \\uc5d1\\ud1a0 \\uc2a4\\uc704\\ud2b8 \\ud5e4\\ub4dc\\uc14b BKS-32 \\ub2e4\\uc870\\uc544\\uc2a4 \\ud669\\uae08\\uacf3\\uac04': u'8130630532.jpg',\n",
       " u'[KB\\uad6d\\ubbfc\\uce74\\ub4dc5%\\ud560\\uc778~13\\uc77c\\uae4c\\uc9c0]\\uc608\\ub2ee\\uc774 \\ub9cc\\ub4e4\\uc5b4 \\uaf3c\\uaf3c\\ud558\\uace0 \\uba4b\\uc2a4\\ub7ec\\uc6b4 \\uc720\\uc544\\ub3d9 \\ub0a8\\uc544 \\ud55c\\ubcf5 \\uc608\\uac74\\ud76c': u'8286353500.jpg',\n",
       " u'\\ub4dc\\ub808\\uc2a4\\ud558\\uc6b0\\uc2a4)\\uc96c\\ud53c\\ud130 \\uadf8\\ub808\\uc774 \\uc720\\ub2c8\\ud0c0\\ub4dc \\ub0a8\\uc544 \\ubc1c\\ub808\\ubcf5/\\uc720\\uc544\\ubc1c\\ub808\\ubcf5/\\uc544\\ub3d9\\ubc1c\\ub808\\ubcf5/\\ub0a8\\uc544\\ubc1c\\ub808\\ubcf5/\\uc5b4\\ub9b0\\uc774\\ubc1c\\ub808\\ubcf5/\\ubc1c\\ub808\\ubcf5': u'6203342446.jpg',\n",
       " u'[EMPOLHAM] [AK\\ud50c\\ub77c\\uc790][\\uc5e0\\ud3f4\\ud584](\\uc5ec\\uc131)\\ub77c\\uc6b4\\ub4dc \\ubcc0\\ud615 \\uc6d0\\ub2e8 \\ub9e8\\ud22c\\ub9e8 \\ud2f0\\uc154\\uce20(EPV1TP2535-SBL)_P020711109': u'8250830815.jpg',\n",
       " u'[SKT \\uae30\\uae30\\ubcc0\\uacbd]\\uac24\\ub7ed\\uc2dc\\uba54\\uac00[99,700\\uc6d0][24\\uac1c\\uc6d4][T\\ub07c\\ub9ac100\\uc694\\uae08\\uc81c\\uae30\\uc900][\\uac00\\uc785\\ube44\\uc5c6\\uc74c][\\uc720\\uc2ec\\ud6c4\\ub0a9][\\uc704\\uc57d\\uae08\\uc720][\\ubd80\\uac00\\ubb34]': u'8361099841.jpg',\n",
       " u'[\\uc720\\ub2c8\\ucf58 AV-A9]\\uc2a4\\ub9c8\\ud2b8TV\\ubc15\\uc2a4/\\uc548\\ub4dc\\ub85c\\uc774\\ub4dc \\uc14b\\ud0d1\\ubc15\\uc2a4 \\uc824\\ub9ac\\ube484.2/\\ub514\\ube45\\uc2a4\\ud50c\\ub808\\uc774\\uc5b4/\\uc548\\ub4dc\\ub85c\\uc774\\ub4dc\\uc14b\\ud0d1/\\ubbf8\\ub514\\uc5b4 \\ud50c\\ub808\\uc774\\uc5b4/\\ube14\\ub8e8\\ub808\\uc774 3D/\\uba40\\ud2f0\\ucf54\\ub371/\\ub3cc\\ube44 \\ub514\\uc9c0\\ud138/\\uc548\\ub4dc\\ub85c\\uc774\\ub4dc\\ubc15\\uc2a4': u'8111828525.jpg',\n",
       " u'\\uc5d0\\uc774\\uc218\\uc2a4 GF GT630 V5 DDR3 1G': u'7986117817.20141006164955.jpg',\n",
       " u'[4%\\uc989\\uc2dc\\ud560\\uc778\\ucfe0\\ud3f0]KW USB UTP KVM \\ubcc0\\ud658\\ubaa8\\ub4c8(Dongle)': u'8282100457.jpg',\n",
       " u'\\ud130\\ubbf8\\ub110/Y\\ub2e8\\uc790/\\ud30c\\ub791/4.3mm/1\\ubd09 100\\uac1c [PCD10628]': u'8277582620.jpg',\n",
       " u'Seagate 1TB Video ST1000VM002 3.5 HDD (SATA3/5900RPM/64MB)': u'7868676246.jpg',\n",
       " u'\\uc800\\uac00\\ud3f0/\\uac00\\uaca9\\uc800\\ub834\\ud55c\\uc2a4\\ub9c8\\ud2b8\\ud3f0/\\ucd08\\ub4f1\\ud559\\uc0dd\\ud734\\ub300\\ud3f0\\ucd94\\ucc9c': u'8152737086.jpg',\n",
       " u'[\\uc544\\ud2b8\\ubc15\\uc2a4 POOM(\\uc774\\ubbf8\\uc6a9,\\uc0dd\\ud65c)] (\\uc775\\uc2a4\\ud074\\ub77c\\uba54\\uc774\\uc158\\ub9c8\\ud06c) E044 NAVY': u'7507609612.jpg',\n",
       " u'[\\uc911\\uace0][5% \\uc989\\uc2dc\\ud560\\uc778]\\uce94\\ub514  132  \\ubca0\\ud2f0  \\ub9ac\\ubcf8 \\uc7a5\\uc2dd  \\ub118 \\uc139\\uc2dc \\ud558\\uace0 \\uc774\\uc05c \\ud050\\ube45 \\uba54\\uce58  \\uc774\\uc05c \\uc139\\uc2dc \\uc6d0\\ud53c\\uc2a4  44 55': u'6785205212.jpg',\n",
       " u'[4%\\uc989\\uc2dc\\ud560\\uc778\\ucfe0\\ud3f0]DC25 DSC-W330 \\uc18c\\ub2c8 \\ub514\\uce74(3\\uc778\\uce58) W330\\uc561\\uc815\\ubcf4\\ud638': u'8270213216.jpg',\n",
       " u'[5%\\uc989\\uc2dc\\ud560\\uc778\\ucfe0\\ud3f0]\\ubc14\\ubcf4\\uc0ac\\ub791 \\ub3c8\\ub3c8 \\ucf00\\uc774\\ube14\\ud53d\\uc2a4 2': u'8159122031.jpg',\n",
       " u'Coms LCD \\uac70\\uce58\\ub300 - Pan/tilt/ VESA 75/100/ \\ucd5c\\ub300 15Kg (MS2790)': u'8246406014.jpg',\n",
       " u'[CROOKLYN] [\\ud06c\\ub8e8\\ud074\\ub9b0] \\uc13c\\uc2a4\\ud2f0\\ube0c \\ub124\\uc624\\ud50c\\ub80c \\ud6c4\\ub4dc \\uc9d1\\uc5c5 HZL601': u'8010946181.jpg',\n",
       " u'\\ucf54\\ub370\\uc988\\ucef4\\ubc14\\uc778 \\ud3ec\\ub9e8 \\ub0a8\\uc131 \\uc5b4\\ubc18 \\uce90\\uc8fc\\uc5bc \\ucf54\\ud2bc \\ud32c\\uce20 CA (CWC-PT822M1)': u'8021427386.jpg',\n",
       " u'[\\ud574\\uc678] PS3 \\ub2e4\\ud06c \\uc18c\\uc6b8 2 \\ube14\\ub799 \\uc544\\uba38 \\uc5d0\\ub514\\uc158 (\\ubd81\\ubbf8\\ud310) \\ud574\\uc678 \\uc815\\ud488 \\uc9c1\\ubc30\\uc1a1': u'8279970967.jpg',\n",
       " u'[\\ud574\\uc678] Bag mail special 2014 new knitted blouses knitted sweater female knitted bottoming shirt number': u'8313530732.jpg',\n",
       " u'\\uc0c8\\ub85c\\ud14d MyClould Pro NAS-24': u'7155767291.20130926115306.jpg',\n",
       " u'[4%\\uc989\\uc2dc\\ud560\\uc778\\ucfe0\\ud3f0]\\uce90\\ub17c \\uce90\\ub17c\\uc815\\ud488EOS 100D \\ud0d0\\ub860 17-50VC \\ub80c\\uc988\\ud3ec\\ud568/32G\\ud480\\ud328\\ud0a4\\uc9c0': u'6860913505.jpg',\n",
       " u'[\\ud328\\uc158\\ud50c\\ub7ec\\uc2a4][Banana Pocket][\\ubc14\\ub098\\ub098\\ud3ec\\ucf13][2015 \\ubd04\\uc2e0\\uc0c1] \\ud551\\ud06c\\uacf5\\uc8fc_\\ub9c8\\ub9ac\\ud504\\ub9b4\\uc18c\\ub9e4\\ube14\\ub77c\\uc6b0\\uc2a4-BG12T75': u'8252623610.jpg',\n",
       " u'CCTV  \\uc544\\uc6b0\\ub77c AURA  HV-400H 960H DVR   \\uc801\\uc678\\uc120\\uce74\\uba54\\ub77c': u'5653092964.1.jpg',\n",
       " u'[\\ud574\\uc678]\\ud63c\\ub2e4 GX160 \\uc5d4\\uc9c4 5.5hp \\uc6b0\\uc218\\ud55c \\uc0c8\\ub85c\\uc6b4 \\ub4e4\\uc5b4 \\uc0b4\\ub9cc\\ud55c \\uc870\\uc815 \\uae30\\ud654\\uae30 \\uae30\\ud654\\uae30 \\uad50\\uccb4\\ub97c DollarStore/DollarStore buyable Adjustable Carb': u'8259837079.jpg',\n",
       " u'[6%\\uc989\\uc2dc\\ud560\\uc778\\ucfe0\\ud3f0][ATEN]CS1716A/16\\ud3ec\\ud2b8 PS2-USB KVMP \\uc2a4\\uc704\\uce58 CS1716A/U': u'8282828385.jpg',\n",
       " u'EA \\ub4dc\\ub798\\uace4 \\uc5d0\\uc774\\uc9c0 2': u'5737474915.20120211195337.jpg',\n",
       " u'\\ud06c\\ub9ac\\uc5d0\\uc774\\ud2f0\\ube0c INSPIRE T3130': u'5509585943.20120211164552.jpg',\n",
       " u'\\ud06c\\ub9ac\\ud2f1 [\\ud06c\\ub9ac\\ud2f1/\\ud06c\\ub8e8\\ub125] HIPSTER CREWNECK (GREY)_CTOFICR05UGY': u'8258238023.jpg',\n",
       " u'*Coms \\uc74c\\uc774\\uc628 \\uacf5\\uae30\\uccad\\uc815\\uae30 (USB\\ud0c0\\uc785)[IT120]*\\ub0c4\\uc0c8 \\ubc0f \\uba3c\\uc9c0 \\uc81c\\uac70\\uc5d0 \\ub9e4\\uc6b0 \\ud6a8\\uacfc\\uc801*\\uc9c0\\uc18d\\uc801\\uc778 \\ub9c8\\uc774\\ub108\\uc2a4 \\uc74c\\uc774\\uc628\\uc744 \\ubc1c\\uc0dd*': u'6573602353.jpg',\n",
       " u'(\\ubb34\\ub8cc\\ubc30\\uc1a1) \\uc624\\ub784\\ube44 \\ud68c\\uc804\\ud615 \\uc804\\ub3d9\\uce6b\\uc194\\ubaa8 \\ub9ac\\ud544 1P \\ud504\\ub9ac\\uc2dc\\uc98c \\ud074\\ub9b0 \\uc804\\uc790\\uce6b\\uc194 ORALB \\ud68c\\uc804\\uce6b\\uc194 \\uc804\\uae30\\uce6b\\uc194 \\uc9c4\\ub3d9\\uce6b\\uc194': u'8261451246.jpg',\n",
       " u'\\ub85c\\uc9c0\\ud14d C920 \\ubcd1\\ud589': u'6852760434.20130416153650.jpg',\n",
       " u'[4%\\uc989\\uc2dc\\ud560\\uc778\\ucfe0\\ud3f0]\\ub0a8\\ubc29CNA/\\uc804\\uae30/\\uc811\\uc810\\ubd80\\ud65c\\uc81c/BW-100/ECC-90 ?': u'8273954369.jpg',\n",
       " u'[\\uce74\\uc774\\uc544\\ud06c\\ub9cc][AK\\ud50c\\ub77c\\uc790][\\uce74\\uc774\\uc544\\ud06c\\ub9cc]\\uc5ec)\\ud5c8\\ub9ac\\uc2a4\\ud2b8\\ub9c1 \\ud32c\\uce20 (KMCPT246W0) \\u672c': u'8348539901.jpg',\n",
       " u'\\uc544\\uc774\\ud328\\ub4dc \\ubbf8\\ub2c82 \\ubaa9\\uac01/\\ubaa9\\uc5c5/\\ubaa8\\ud615\\ud3f0/Silver(ITA883)': u'8258235806.jpg',\n",
       " u'[4%\\uc989\\uc2dc\\ud560\\uc778\\ucfe0\\ud3f0]QNAP HS-210 (12TB) 2bay Fanless \\uc800\\uc18c\\uc74c NAS': u'8270633941.jpg',\n",
       " u'[5%\\uc989\\uc2dc\\ud560\\uc778\\ucfe0\\ud3f0]\\ucd08\\ud2b9\\uac00/ \\ud154\\ub808\\ubdf0 \\uc811\\uc548\\ub80c\\uc988/\\ub098\\uae00\\ub7ec 17mm \\ud0c0\\uc7854(2\\uc778\\uce58) /': u'8200327060.jpg',\n",
       " u'[CLRIDE] (\\ud074\\ub77c\\uc774\\ub4dc) \\uacf5\\uc6a9 \\ud3ec\\ucf13 \\ub77c\\uc6b4\\ub4dc \\ubc18\\ud314\\ud2f0\\uc154\\uce20 (CCCTS312U)_P021156047': u'8302981289.jpg',\n",
       " u'[4%\\uc989\\uc2dc\\ud560\\uc778\\ucfe0\\ud3f0] NETmate NMA-LM10 2\\ub2e8 \\uad00\\uc808\\ud615 \\ubaa8\\ub2c8\\ud130 \\uac70\\uce58\\ub300/VESA(75 x 75/100 x 100)/\\ub192\\uc774/\\uc88c\\uc6b0\\ud68c\\uc804/\\uae30\\uc6b8\\uae30 ((\\ube60\\ub978\\ubc30\\uc1a1))': u'6897048528.jpg',\n",
       " u'\\ucef4\\ud4e8\\ud130\\uc6a9\\ud488 \\ubbf8\\uc2a4\\ucef4 \\ucf69\\uc2a4\\ud1a0\\uc5b4': u'8277182497.jpg',\n",
       " u'[\\uae4c\\ub9ac\\uc81c]\\uc194\\ub9ac\\ub4dc\\ube14\\ub8e8\\ub0a8\\uc544\\ub7f0\\ub2dd(UOA-CR1PA)[\\uac24\\ub7ec\\ub9ac\\uc544]': u'8105186860.jpg',\n",
       " u'[\\uc544\\uc774\\ud3f06 Plus 16G] 622,700\\uc6d0 [\\uc21c\\uc644\\uc804\\ubb34\\ud55c99]\\uac00\\uc785\\ube44\\uba74\\uc81c/\\uc720\\uc2ec\\ud6c4\\ub0a9/\\ubd80\\uac00\\u7121/2\\ub144\\uc57d\\uc815/\\ud560\\uc778\\ubc18\\ud658\\uae08/\\uc9c0\\uc6d0\\ubc18\\ud658\\uae08/AIP6P-16/KT\\uae30\\uae30\\ubcc0\\uacbd': u'8070466090.1.jpg',\n",
       " u'\\ubc14\\ubcf4\\uc0ac\\ub791[\\ucc54\\ud504]NABAKEM TV\\uc804\\uc6a9 \\ud06c\\ub9ac\\ub108 LCD-7[\\ub178\\ud2b8\\ubd81\\uc545\\uc138\\uc11c\\ub9ac, \\uc815\\ub9ac\\uc6a9\\ud488, PC\\uc8fc\\ubcc0\\uae30\\uae30, \\ud2f0\\ube44\\uc804\\uc6a9\\ud06c]': u'5804633516.jpg',\n",
       " u'[4%\\uc989\\uc2dc\\ud560\\uc778\\ucfe0\\ud3f0]\\ud050\\ube45\\uc2a42 \\ud328\\ud134 \\ubaa8\\ub2c8\\ud130\\ubc1b\\uce68\\ub300 \\ucc45\\uc7a5 no.2/ \\ucc9c\\uc774\\ubc31\\uc5e0': u'8093187895.jpg',\n",
       " u'[CUBICA] [\\ucfe0\\ube44\\uce74]\\uc794\\uc0bc\\uac01 \\ud504\\ub9b0\\ud305 \\ud5c8\\ub9ac\\ubc34\\ub529 \\ub048 \\ube44\\uce58 \\uc6d0\\ud53c\\uc2a4(Size 55~66) CAO-CHP042_P016096758': u'7716957851.1.jpg',\n",
       " u'[4%\\uc989\\uc2dc\\ud560\\uc778\\ucfe0\\ud3f0][\\ud574\\uc678\\uc9c1\\ubc30\\uc1a1]HP EliteBook H3J23US ABA 15.6-Inch Laptop (Silver)/30093616': u'8280041666.jpg',\n",
       " u'[\\ubc14\\ubc14\\ub77c/BABARA(AK)] [\\ubc14\\ubc14\\ub77c] \\uc62c\\uc624\\ubc84\\ub808\\uc774\\uc2a4\\ud480\\uc2ac\\ub9bd(AFS4863)(6349540)': u'8187203686.jpg',\n",
       " u'\\uc720\\ub2c8\\ucf58 DW-4500N': u'7281435825.20131120165341.jpg',\n",
       " u'[4%\\uc989\\uc2dc\\ud560\\uc778\\ucfe0\\ud3f0][\\ud574\\uc678] APC - automatic circuit breaker \\ucd5c\\uc800\\uac00 \\ud574\\uc678\\uad6c\\ub9e4\\ub300\\ud589 \\uc804\\ubb38\\uc11c\\ube44\\uc2a4': u'8262389024.jpg',\n",
       " u'MSI GF GTX750 OC DDR5 1G V1 \\ube14\\ub799 \\uc544\\uba38 \\ubc18\\uc11d\\uc804\\uc790': u'8166877719.20141219173337.jpg',\n",
       " u'[4%\\uc989\\uc2dc\\ud560\\uc778\\ucfe0\\ud3f0]\\uc778\\ud154 intel \\ucf54\\uc5b44\\uc138\\ub300 \\ud558\\uc2a4\\uc6f0 i3-4160': u'8350292853.jpg',\n",
       " u'[NINTENDO-3DS] \\ubb34\\ub8cc\\ubc30\\uc1a1] 3DS) \\ub9c8\\ub9ac\\uc624\\uace8\\ud504 : \\uc6d4\\ub4dc\\ud22c\\uc5b4': u'7650483128.jpg',\n",
       " u'\\uc0ac\\ubb34\\uc6a9\\ud488 \\uc8fc\\uc2dd\\ud68c\\uc0ac\\uc5d1\\ud1a0 \\ucf69\\uc2a4\\ud1a0\\uc5b4': u'8277086358.jpg',\n",
       " u'[4%\\uc989\\uc2dc\\ud560\\uc778\\ucfe0\\ud3f0][ATEN]CS64A/USB\\ud3ec\\ud2b8': u'8276934262.jpg',\n",
       " u'\\uc774\\uc9c0\\ub137\\uc720\\ube44\\ucffc\\ud130\\uc2a4 NEXT-225SSD': u'6818017088.20130325163928.jpg',\n",
       " u'[BC\\uce74\\ub4dc5%\\ud560\\uc778][\\ud544\\uace8\\ub4dc] CH-411 \\ud3ec\\ucf13\\ub9bd \\uba74\\uc2a4\\ud310 \\uc2ac\\ub9bc\\uc77c\\uc790\\ud32c\\uce20 6\\uc885\\uc911\\ud0dd\\uc77c': u'8037966692.jpg',\n",
       " u'BENQ CB523C \\ud654\\uc774\\ud2b8': u'1100147439.20120211195252.jpg',\n",
       " u'[\\ud574\\uc678]/PJ Salvage PJ Salvage Elephant Print Pajama Pants': u'8355272081.jpg',\n",
       " u'\\uc0c8\\ub85c\\ud14d Abigs T20': u'5626027267.20120211164610.jpg',\n",
       " u'[\\ud574\\uc678] Aston Martin Aston Martin Waterproof down coat with a zip hood, fleece and nylon lining - Navy ': u'8275145860.1.jpg',\n",
       " u'[KT][\\uc2e0\\uaddc\\uac00\\uc785][\\uc57d\\uc81524\\uac1c\\uc6d4][SM-N750K][\\uac24\\ub7ed\\uc2dc\\ub178\\ud2b83\\ub124\\uc624][\\ud560\\ubd80\\uc6d0\\uae08291300\\uc6d0][\\uc694\\uae08\\uc81c:\\uc644\\uc804\\ubb34\\ud55c129][\\uac00\\uc785\\ube44\\ubd84\\ub0a9][\\uc720\\uc2ec\\ube44\\ud6c4\\ub0a9][\\ud560\\uc778\\ubc18\\ud658\\uae08\\uc801\\uc6a9][\\ubd80\\uac00\\uc11c\\ube44\\uc2a4\\uc5c6\\uc74c]': u'8275456356.jpg',\n",
       " u'[\\ud604\\ub300\\ubc31\\ud654\\uc810 IV\\uad00] [\\ube48\\ud3f4Kids] \\ub808\\ub4dc \\uc2a4\\ud2b8\\ub77c\\uc774\\ud504 \\ub354\\ube14 \\ud50c\\ub7ab \\uce74\\ub77c \\ud2f0\\uc154\\uce20 (BK51410316)': u'8337428437.jpg',\n",
       " u'[\\uc5d0\\ube14\\ub9b0] \\ud50c\\ub85c\\ub9ac \\ud551\\ud06c_\\uc6d0\\ud53c\\uc2a4 \\uc2ac\\ub9bd [EBFL34T051]': u'7740319063.jpg',\n",
       " u'[4%\\uc989\\uc2dc\\ud560\\uc778\\ucfe0\\ud3f0][\\uad6c\\ub9e4\\ub300\\ud589/\\ud574\\uc678\\uc9c1\\ubc30\\uc1a1] \\uadf8\\ub798\\ud53d\\uce74\\ub4dc Gigabyte GT 740 GDDR5-2GB 2 x DVI/D-SUB/HDMI OC Graphics Cards GV-N740D': u'8283665589.jpg',\n",
       " u'[6%\\uc989\\uc2dc\\ud560\\uc778\\ucfe0\\ud3f0]EFM\\ub124\\ud2b8\\uc705\\uc2a4 iptime NAS-III 2.5 \\uc678\\uc7a5\\ud558\\ub4dc\\ucf00\\uc774\\uc2a4 \\ud558\\ub4dc': u'8271472865.jpg',\n",
       " u'[\\ube14\\ub8e8\\ub808\\uc774] \\ud589\\uc624\\ubc843 (1DISC)[The Hangover Part III]': u'7131537011.jpg',\n",
       " u'[4%\\uc989\\uc2dc\\ud560\\uc778\\ucfe0\\ud3f0]\\ub178\\ud2b8\\ubd81\\uc6a9 \\uc18c\\ub2c8 \\ube14\\ub8e8\\ub808\\uc774 \\ucf64\\ubcf4 BC-5500H': u'8016521572.jpg',\n",
       " u'IMP\\ud578\\ub514\\ub9e8\\uce6b\\uc194 \\uc804\\uc6a9 \\uad50\\uccb4\\uc6a9 \\uce6b\\uc194\\ubaa82P \\ub9ac\\ud544\\uce6b\\uc194\\ubaa8 \\uc804\\ub3d9\\uce6b\\uc194\\ub9ac\\ud544 \\uce6b\\uc194\\ubaa8 \\uce6b\\uc194 \\uc5ec\\ud589\\uc6a9\\uce6b\\uc194': u'8258686715.jpg',\n",
       " u'[\\ubaa8\\uc870\\uc5d0\\uc2a4\\ud540]\\uc640\\ud50c\\ubbf8\\ub2c8\\uc2a4\\ucee4\\ud2b8(J143MSD014)': u'8349560090.jpg',\n",
       " u'EFM ipTIME PoE \\uc2a4\\ud50c\\ub9ac\\ud1301 1\\ud3ec\\ud2b8 / POE\\uc2a4\\ud50c\\ub9ac\\ud130': u'7911204139.jpg',\n",
       " u'\\uc0bc\\uc131\\uc804\\uc790 830 Series MZ-7PC256D/KR 256GB \\uc815\\ud488 (\\ub370\\uc2a4\\ud06c\\ud0d1\\uc6a9)': u'5991333386.20120211210927.jpg',\n",
       " u'[4%\\uc989\\uc2dc\\ud560\\uc778\\ucfe0\\ud3f0](DK)\\ubb34\\uc120AP/5dBi \\uc548\\ud14c\\ub098 2\\uac1c/POE': u'8276256726.jpg',\n",
       " u'[\\uc5e0\\ud504\\ub9ac\\uc624 \\uc544\\ub974\\ub9c8\\ub2c8] \\uc5ec\\uc131 \\uc18d\\uc637(\\ube0c\\ub798\\uc9c0\\uc5b4) 162387-9S237/4831/ \\uc5e0\\ud3ec\\ub9ac\\uc624 \\uc544\\ub974\\ub9c8\\ub2c8 \\uc5b8\\ub354\\uc6e8\\uc5b4': u'8123239791.jpg',\n",
       " u'[BC\\uce74\\ub4dc5%\\ud560\\uc778][\\uc824\\ub9ac\\uc2a4\\ud47c] \\uadc0\\uc694\\ubbf8\\uc655\\uae30\\ubaa8\\uc9c4\\uc2a4\\ucee4\\ud2b8\\ub808\\uae45\\uc2a4_B': u'8074896206.jpg',\n",
       " u'[\\ud558\\ud504\\ud074\\ub7fd/HARRISON]\\uc704\\uc7a5\\uc9c0 \\uae34\\ud314\\uc154\\uce20 DPH1079': u'8040024816.jpg',\n",
       " u'\\ubcf4\\uce74\\uc2dc \\uc704\\ube59\\ub77c\\uc6b4\\ub4dcKNIT\\ubca0\\uc774\\uc9c1\\ud55c \\ub514\\uc790\\uc778\\uc5d0 \\uac10\\uac01\\uc801\\uc778 \\ubcf4\\uce74\\uc2dc\\ud55c \\uceec\\ub7ec\\uac10\\uc774 \\ub354\\ud574\\uc9c4 \\ub2c8\\ud2b8\\uc544\\uc774\\ud15c(FREE)': u'7964085902.jpg',\n",
       " u'(\\ube60\\ub978\\ubc30\\uc1a1) (\\uc0c8\\uc0c1\\ud488) \\ube0c\\ub9ac\\uce20 BR-1100V \\uc2a4\\ud53c\\ucee4': u'8281691312.jpg',\n",
       " u'[\\ud604\\ub300\\ubc31\\ud654\\uc810][\\uae4c\\ub9ac\\uc81c]\\ud31c\\ube4c\\ub9ac\\uc9c07\\ubd80\\uc5ec\\uc7a0\\uc637 \\uae4c\\ub9ac\\uc81c UNSCS202 (60\\uc218 \\uc544\\uc0ac)': u'7544960819.jpg',\n",
       " u'[\\ud574\\uc678]CorelCorel Painter X3 Education Edition': u'8275673203.jpg',\n",
       " u'\\uc5d4\\ud14d HIARI-BL90 ': u'7608411849.20140408175623.jpg',\n",
       " u'\\ube14\\ub8e8\\uc5d0\\uc5b4 AV-203': u'5736093061.20120211193806.jpg',\n",
       " u'[\\ube44\\uc624\\uc720]BYC \\uc5ec\\uc131\\ubbfc\\uc18c\\ub9e4\\ub7f0\\ub2dd 5\\ub9e4 \\ubca0\\uc774\\uc9c1\\uc2a4\\ud0c0\\uc77c': u'8290475280.jpg',\n",
       " u'\\ub514\\ube44\\ucf54 TVIX PVR R-2210 ': u'4146170745.20120211164319.jpg',\n",
       " u'[4%\\uc989\\uc2dc\\ud560\\uc778\\ucfe0\\ud3f0]EM4536 \\ud1b5\\ud569\\ud615500mm Xergo\\uc554 \\ubd80\\uc18d \\uc545\\uc138\\uc11c\\ub9ac \\ubcbd\\uac78': u'8284070367.jpg',\n",
       " u'2K Games \\ub354 \\ubdf0\\ub85c : \\uae30\\ubc00 \\ud574\\uc81c\\ub41c \\uc5d1\\uc2a4\\ucef4 (The Bureau : XCOM Declassified) PC (\\ud55c\\uae00\\ud310)': u'7119832893.jpg',\n",
       " u'2TB 7200RPM 64MB RED PRO NAS HDD WD2001FFSX': u'7872150398.20140813100737.jpg',\n",
       " u'[5% \\uc989\\uc2dc\\ud560\\uc778][\\ub86f\\ub370\\ubc31\\ud654\\uc810]\\ubcf4\\ub514\\uac00\\ub4dc \\uace8\\ub4dc\\ud384\\ud638\\ud53c \\uc5ec\\uc131\\ube0c\\ub77c\\ud32c\\ud2f0\\uc14b\\ud2b8(BGWBQ911BGWPQ911)': u'7983501013.jpg',\n",
       " u'[\\ud574\\uc678]KitchenAid Pro 600 Stand Mixer': u'8260089023.jpg',\n",
       " u'[6%\\uc989\\uc2dc\\ud560\\uc778\\ucfe0\\ud3f0]BARO PLUG MASTER STP CAT.5E RJ-45 8P8C \\ud50c\\ub7ec\\uadf8-\\uace0\\uae09\\ud615(100\\uac1c) \\ube60\\ub978\\uc815\\ud655\\ud55c\\ubc30\\uc1a1': u'7145513557.1.jpg',\n",
       " u'\\uc81c\\ub2c9\\uc2a4 \\uac8c\\uc774\\ubc0d \\ud5e4\\ub4dc\\uc14b TESORO KUVEN/\\uc804\\uc6a9 \\ub9ac\\ubaa8\\ucf58/\\ubc84\\ucd94\\uc5bc 7.1 \\uc11c\\ub77c\\uc6b4\\ub4dc \\uc9c0\\uc6d0/\\uace0\\uc131\\ub2a5 \\ub9c8\\uc774\\ud06c/\\uc678\\ubd80 \\uc18c\\uc74c \\uc644\\ubcbd\\ucc28\\ub2e8/\\uc5d4\\uc824,\\ub370\\ube4c': u'8108764745.jpg',\n",
       " u'\\ucf54\\uc6d0 PMP O2 /4.3\\uc778\\uce58 1600\\ub9cc \\uceec\\ub7ec\\uc758 \\ud130\\uce58 LCD\\ub97c \\uc7a5\\ucc29\\ud558\\uace0\\ub3c4 119\\xd773\\xd718\\u339c \\uc0ac\\uc774\\uc988\\uc5d0 \\uc81c\\ud488 \\ubb34\\uac8c\\uac00 200\\uff47\\uc73c': u'7330823119.jpg',\n",
       " u'(\\ud604\\ub300Hmall)[\\uc5e0\\ud53c\\uc9c0\\uc624] \\ub808\\uc804\\ub4dcI \\uc778\\ud154CPU IPS\\ud328\\ub110 \\ud0dc\\ube14\\ub9bfPC \\ube14\\ub8e8\\ud22c\\uc2a4 GPS': u'7830871171.jpg',\n",
       " u'\\ud640\\ud558\\uc6b0\\uc2a4 \\uc2a4\\ud2b8\\ub77c\\uc774\\ud504 T (HE2TSF097)': u'8343854294.jpg',\n",
       " u'[\\ud604\\ub300\\ubc31\\ud654\\uc810\\u2163\\uad00][\\uc624\\uac00\\ub2c9\\ub9d8] \\uc720\\uae30\\ub18d\\ud1a0\\ubc84\\ub0a8\\uc544\\uc0bc\\uac01\\ud32c\\ud2f0[MAS3UP01]': u'8241134606.jpg',\n",
       " u'[\\uc5d1\\uc2a4\\ud3ec\\ub137]\\ud2b8\\ub77c\\uc774 \\ucfe8\\ub9e5\\uc2a4\\ube0c\\ub77c\\ud0d1443 \\ub77c\\uc774\\ud06c\\ub77c \\ud761\\uc2b5\\uc18d\\uac74 \\uc218\\ubd84\\ubc30\\ucd9c \\ud3b8\\uc548\\ud55c \\ucfe8\\ub9e5\\uc2a4 \\ube0c\\ub77c\\ud0d1 \\uc18d\\uc637 \\ube0c\\ub808\\uc9c0\\uc5b4 \\uc5ec\\uc131': u'8000842996.jpg',\n",
       " u'(AK\\ubab0)(2\\uc885)\\ub098\\uc804\\uace0\\uc6a9\\ub7c9 USB 4GB   \\uba85\\ud568\\ucf00\\uc774\\uc2a4(\\ud55c\\uae00)': u'8252417046.jpg',\n",
       " u'[10% \\uc989\\uc2dc\\ud560\\uc778][\\ud328\\uc158\\ud50c\\ub7ec\\uc2a4][\\uc564\\ud074\\ub9ac\\ud504(ANNCLIFF)](\\ub0a8\\uc131)\\ubca8\\ud2f0\\ub4dc\\uc7a5\\uc2dd\\ud14c\\uc77c\\ub7ec\\ub4dc\\ucf54\\ud2b8_FMNEBOSC411_56': u'8279982280.jpg',\n",
       " u'\\ud2b8\\ub79c\\uc13c\\ub4dc MTS600 M.2 SSD 256GB': u'7972795637.20140925153303.jpg',\n",
       " u'[4%\\uc989\\uc2dc\\ud560\\uc778\\ucfe0\\ud3f0]Coms \\ub9c8\\uc774\\ud06c(\\uc774\\uc5b4\\uac78\\uc774\\ud615) XTY-7/ITA873/\\uc774\\uc5b4\\uac78\\uc774 \\ud0c0\\uc785': u'8273911987.jpg',\n",
       " u'[AK\\ubab0/XESS(\\uc81c\\uc2a4)]\\uc2a4\\ud0e0\\ub529\\uce74\\ub77c \\ubaa8\\uc9c1\\uc790\\ucf13  [XESS]\\uc81c\\uc2a42013 \\uc2a4\\ud0e0\\ub529\\uce74\\ub77c \\ubaa8\\uc9c1\\uc790\\ucf13[X3JJA4212_039](\\ub2e4\\ud06c\\ub124\\uc774\\ube44)  \\uc2ac\\ub9bc\\ud55c\\uace0 \\uae54\\ub054\\ud55c \\ub77c\\uc778': u'7473769466.1.jpg',\n",
       " u'[LGU  \\uae30\\uae30\\ubcc0\\uacbd]SM-N915L \\ub9dd\\ub0b434\\u2605\\ud560\\uc6d0894500\\u25a0\\uc120\\ubc1c\\uc1a1\\ud6c4\\uac1c\\ud1b5\\u25a0\\ub2f9\\uc77c\\ubc1c\\uc1a1\\u2605\\ucf00\\uc774\\uc2a4,\\ud544\\ub984 \\uc0ac\\uc740\\ud488\\u25a0\\uac00\\uc785\\ube44\\ubb34\\u25a0\\uc720\\uc2ec\\uc720\\u25a0\\uae30\\uc874\\ud3f0\\ubbf8\\ubc18\\ub0a9\\u2605\\ubd80\\uac00\\ubb34\\u25a024\\uac1c\\uc6d4\\ud560\\ubd80 \\ud560\\uc778\\ubc18\\ud658\\uae08\\ubb34': u'8129202635.jpg',\n",
       " u'\\ub2e4\\uc6a9\\ub3c4\\ubc1b\\uce68\\ub300 PTI\\uc678 \\ucf69\\uc2a4\\ud1a0\\uc5b4': u'8268370506.jpg',\n",
       " u'Thursday Island(AK PLAZA)/\\uc368\\uc2a4\\ub370\\uc774\\uc544\\uc77c\\ub79c\\ub4dc\\uc5ec\\uc131v\\ud50c\\ub808\\uc5b4 \\ud328\\ud134 \\ube14\\ub77c\\uc6b0\\uc2a4(T148MBL235W)[\\uc2dc\\uc911\\uac00:139,000\\uc6d0,50% Sale]': u'7961159838.jpg',\n",
       " u'[5%\\uc989\\uc2dc\\ud560\\uc778\\ucfe0\\ud3f0]KT\\ud6c4\\ubd88\\uc720\\uc2ec \\uce5c\\uc808\\uc0c1\\ub2f4/\\uc120\\ubd88\\uc720\\uc2ec \\uc120\\ubd88\\ud3f0 \\ud53c\\ucc98\\ud3f0': u'8228916268.jpg',\n",
       " u'(E)HDMI\\ubd84\\ubc30\\uae30/\\ub9ac\\ud53c\\ud130\\uc6a9 IR\\uc13c\\uc11c KIT(\\uc6d0\\uaca9 \\uc81c\\uc5b4) [PCP0378]': u'8277593737.jpg',\n",
       " u'\\ubc84\\ubc14\\ud300 CDR 52\\ubc30\\uc18d 700MB \\ud504\\ub9b0\\ud130\\ube14': u'4062897931.20120211194711.jpg',\n",
       " u'[4%\\uc989\\uc2dc\\ud560\\uc778\\ucfe0\\ud3f0] ineo \\uc54c\\ub8e8\\ubbf8\\ub284 \\ud558\\ub4dc\\ub514\\uc2a4\\ud06c \\ubcf4\\uad00\\ud568(2.5 3Bay   3.': u'8277852559.jpg',\n",
       " u'NETmate \\uc77c\\uccb4\\ud615 USB KVM 21 \\uc2a4\\uc704\\uce58 [PCD0994]': u'8277532700.jpg',\n",
       " u'(D)\\uc678\\uc7a5\\ud558\\ub4dc 1TB (6.4CM(2.5\\ud615)\\uc790\\uac1c\\uc5d0\\ub514\\uc158/\\uc120\\uc720\\ub3c4) [PCD10184]': u'8274693624.jpg',\n",
       " u'[\\ud574\\uc678]GenericGamecube Black Controller': u'8275561476.jpg',\n",
       " u'[5% \\uc989\\uc2dc\\ud560\\uc778]\\uc9c0\\ube0c\\uc774\\ud22c  GV2 \\ud56d\\uade0\\uac00\\uacf5 \\uc21c\\uba74 \\ub370\\uc624\\ub3c4\\ub780\\ud2b8 \\ub0a8\\uc790\\ub7f0\\ub2dd/\\ud56d\\uade0\\uc131 99.9%': u'6918875228.jpg',\n",
       " u'\\uace0\\uae09 \\ud14c\\uc774\\ube14\\ubbf9\\uc11c KMC550/\\ubc18\\uc8fd\\uae30/\\uac70\\ud488\\uae30/\\uc81c\\ube75/\\uc6a9\\ub7c94.6L/\\uc0c9\\uc0c1\\uc2e4\\ubc84/800W\\uac15\\ub825\\ubaa8\\ud130/\\ub300\\uc6a9\\ub7c9\\ubbf9\\uc11c\\uae30/\\ub300\\uc6a9\\ub7c9\\ubc18\\uc8fd\\uae30': u'8263359609.jpg',\n",
       " u'[\\ube44\\ub108\\uc2a4]VBR0760 VI,BR 2015\\ub144\\ub354\\ube14\\uc719\\ube0c\\ub77c(E,F\\ucef5) (\\uae30\\uc874\\uac00:78000\\uc6d0)': u'8292660636.jpg',\n",
       " u'[4%\\uc989\\uc2dc\\ud560\\uc778\\ucfe0\\ud3f0]QNAP HS-251 (4TB) 2bay Fanless \\uc800\\uc18c\\uc74c NAS': u'8270941034.jpg',\n",
       " u'[4%\\uc989\\uc2dc\\ud560\\uc778\\ucfe0\\ud3f0]WireWorld\\uc640\\uc774\\uc5b4\\uc6d4\\ub4dc  \\uc740\\ub3c4\\uae08 \\ub3c4\\uccb4 USB ?': u'8282077247.jpg',\n",
       " u'[\\ud574\\uc678][\\uad6c\\ub9e4\\ub300\\ud589][B00AA0SSBI] 10G-XNPK-SR - Foundry Compatible - Factory New': u'8269353849.jpg',\n",
       " u'[\\ud574\\uc678]Z07-1 Mini Handheld Telescopic Selfie Monopod   Phone Holder Clip For Galaxy S3 S4 S5 Note2 / 3 ': u'8272100120.jpg',\n",
       " u'\\ud558\\uce20 SLH-160S': u'4024900020.20120211194914.jpg',\n",
       " u'\\ubc14\\ubcf4\\uc0ac\\ub791[\\ud3f0\\ud2b8\\ub9ac \\ud790\\ub9c1\\uc274\\ub4dc]\\uc694\\uac00 \\ud0c0\\ube14\\ub81b 10 HD  \\ube14\\ub8e8\\ub77c\\uc774\\ud2b8\\ucc28\\ub2e8 \\ud544\\ub984 1\\ub9e4 \\ud6c4\\uba74 2\\ub9e4[\\ubb34\\ub8cc\\ubc30\\uc1a1]': u'7949379685.jpg',\n",
       " u'[16% \\uc989\\uc2dc\\ud560\\uc778][AK\\ud50c\\ub77c\\uc790](AK\\ud50c\\ub77c\\uc790)[CK \\uc5b8\\ub354\\uc6e8\\uc5b4] \\ub0a8\\uc131 \\uc778\\ud150\\uc2a4\\ud30c\\uc6cc \\ub9c8\\uc774\\ud06c\\ub85c NB1047D-ICW(420)': u'8230831715.jpg',\n",
       " u'[\\uc2a4\\ud0c0\\uc77c\\ubc14\\uc774\\uc58c] [stylebyyam]\\ud540\\uc0dd\\uc9c0\\uc2a4\\ud0a4\\ub2c8_P020234808': u'8198949314.jpg',\n",
       " u'\\uc0c8\\ud55c DVD-R 16\\ubc30\\uc18d 4.7GB': u'4011706919.20120211194621.jpg',\n",
       " u'[4%\\uc989\\uc2dc\\ud560\\uc778\\ucfe0\\ud3f0]ggongcdcom/CD-R \\uace0\\uad11\\ud0dd \\uc18c\\ub7c9\\ud45c\\uba74 \\uc778\\uc1c4 \\ubc0f \\ubcf5\\uc0ac 50\\uac1c': u'8274262727.jpg',\n",
       " u'[\\ubc14\\ubcf4\\uc0ac\\ub791] snap sights \\ubc29\\uc218 mp3 \\ud50c\\ub808\\uc774\\uc5b4 H2OMan, MP3,MP3 \\uae30\\ud0c0, \\ubb34\\ub8cc\\ubc30\\uc1a1': u'8110627994.jpg',\n",
       " u'MSI GF GTX760 \\ud638\\ud06c DDR5 2G \\uc6e8\\uc774\\ucf54\\uc2a4': u'7055603823.20130808111230.jpg',\n",
       " u'[\\ud574\\uc678][\\uad6c\\ub9e4\\ub300\\ud589][B00AZVEZYQ] MAX3225EEPP ': u'8266270649.jpg',\n",
       " u'[U3373] Coms USB PC\\uc6a9 \\uba40\\ud2f0 \\ub9ac\\ubaa8\\ucf58 - \\uc801\\uc678\\uc120 [U3373] U3373 39450': u'6852313162.jpg',\n",
       " u'\\uc2a4\\ud53c\\ucee4 \\ub85c\\uc9c0\\ud14d \\ucf69\\uc2a4\\ud1a0\\uc5b4': u'8268737430.jpg',\n",
       " u'[\\ub514\\uc988\\ub2c8] \\ubbf8\\ud0a4 LED \\ubb34\\ub4dc\\ub4f1 \\uac00\\uc2b5\\uae30(3\\uac00\\uc9c0\\uc0c9\\uc0c1)': u'8050259616.jpg',\n",
       " u'[\\ud574\\uc678]\\uba54\\uc774\\uc2dc\\uc2a4\\ucf54\\ub9ac\\uc544/Aimo Wireless IPODTO5PCLMT100 Durable Rubberized Ie Case for iPod Touch 5 - Retail Packa': u'8281876130.jpg',\n",
       " u'[5% \\uc989\\uc2dc\\ud560\\uc778]\\ub77c\\ub77c\\uc0f5 \\uc640\\uc77c\\ub4dc \\uc2a4\\ud130\\ub4dc\\ud0d1/\\ud074\\ub7fd \\uc544\\uc774\\ub3cc \\uac00\\uc218 k\\ud31d \\ubc29\\uc1a1 \\ubb34\\ub300 \\uacf5\\uc5f0 \\ucd95\\uc81c \\ub2e8\\uccb4 \\uc720\\ub2c8\\ud06c \\uc2a4\\ud130\\ub4dc \\ucc21 \\uc139\\uc2dc \\ud29c\\ube0c \\ud0d1 \\ud074\\ub7fd \\ubc29\\uc1a1 \\uc544\\uc774\\ub3cc \\uacf5\\uc5f0 \\ubb34\\ub300\\uc758\\uc0c1 \\uc139\\uc2dc \\ucc21 \\ud0d1': u'7053041452.jpg',\n",
       " u'\\ud14c\\uc774\\uba3c \\ud5e8\\ub9ac\\ub125 \\uae34\\ud314\\ud2f0[2color]\\ud3ec\\ucf13\\uc758 \\uc2a4\\ud2f0\\uce58\\ud3ec\\uc778\\ud2b8\\ub85c \\uc720\\ub2c8\\ud06c\\uae30\\uc874\\uac00 18,000\\uc6d0': u'8320224279.jpg',\n",
       " u'\\uc624\\ub784\\ube44 \\ud68c\\uc804\\ud615 \\uc804\\ub3d9\\uce6b\\uc194 \\ud504\\ub9ac\\uc2dc\\uc98c \\ud074\\ub9b0 [OFD4518]': u'8270657552.jpg',\n",
       " u'\\ud788\\ud0c0\\uce58 1TB 5400RPM 8MB HTS541010A9E680': u'6308225089.20121226181207.jpg',\n",
       " u'[\\ud574\\uc678] \\ub2cc\\ud150\\ub3c4 \\uc544\\ubbf8\\ubcf4 \\uc824\\ub2e4 \\ud574\\uc678 \\uc815\\ud488 \\uc9c1\\ubc30\\uc1a1': u'8265639794.jpg',\n",
       " u'\\uc5e0\\ud53d\\uc2a8 \\ub514\\ube44\\ucf54 Fusion HDTV7 USB Home COMS\\uc6a9\\uc0b0\\ucd1d\\ud310\\uc810': u'8201308749.jpg',\n",
       " u'[L.mazel] \\ub530\\ub73b \\ub871 \\uac00\\ub514\\uac74 5\\uc885 \\ud0dd1_P018181553': u'7984241219.jpg',\n",
       " u'[6%\\uc989\\uc2dc\\ud560\\uc778\\ucfe0\\ud3f0][\\ud574\\uc678]TP-LINK TL-WN861N Wireless N300 Mini PCI Adapte... [\\ud574\\uc678\\uc1fc\\ud551/\\uc544\\ub9c8\\uc874\\uc0c1\\ud488/\\ud574\\uc678\\uc815\\ud488]': u'8280845687.jpg',\n",
       " u'ui [ \\ub2f9\\uc77c\\ud0dd\\ubc30\\ucd9c\\uace0 ] \\ud2b8\\ub79c\\uc13c\\ub4dc JetDrive Lite 360 64GB /Mac\\uc81c\\ud488\\uc6a9 SD\\uce74\\ub4dc/\\uc82f\\ub4dc\\ub77c\\uc774\\ube0c\\ub77c\\uc774\\ud2b8/TS64GJDL360': u'7769808857.jpg',\n",
       " u'[\\ud038\\uba54\\uc774\\ub4dc\\uce7c\\ube14\\ub7ed6\\uc885\\uc138\\ud2b8\\uc99d\\uc815][\\uc790\\ub3d9\\ubd88\\uaf43\\uc870\\uc808]\\ub9b0\\ub098\\uc774 3\\uad6c\\uadf8\\ub9b4 \\uc2a4\\ub9c8\\ud2b8\\ud50c\\ub7ec\\uc2a4\\uc13c\\uc11c \\uac00\\uc2a4\\ub80c\\uc9c0 RTR-J3100 \\ub9b0\\ub098\\uc774,\\uac00\\uc2a4\\ub80c\\uc9c0,\\uac00\\uc2a4\\ub808\\uc778\\uc9c0': u'8312920110.jpg',\n",
       " u'[\\ud574\\uc678]Aeronautica Militare Polo Shirt COSMO Color: Red': u'8272788658.jpg',\n",
       " u'\\uc824\\ud328\\ub4dc \\uac15\\uc6d0\\uc804\\uc790 \\ucf69\\uc2a4\\ud1a0\\uc5b4': u'8268744876.jpg',\n",
       " u'[4%\\uc989\\uc2dc\\ud560\\uc778\\ucfe0\\ud3f0](CN) XLR(\\uc554)  5.5 \\ubaa8\\ub178 \\ubcc0\\ud658 \\ucf00\\uc774\\ube14 7\\ubbf8\\ud130 (L-4E6S)': u'8284074297.jpg',\n",
       " u'[4%\\uc989\\uc2dc\\ud560\\uc778\\ucfe0\\ud3f0][\\ud574\\uc678] Fluke Networks LEAD-ABN-100 Test Lead with Angled  \\ucd5c\\uc800\\uac00 \\ud574\\uc678\\uad6c\\ub9e4\\ub300\\ud589 \\uc804\\ubb38\\uc11c\\ube44\\uc2a4': u'8261666128.jpg',\n",
       " u'\\ub3d9\\uc591\\ub9e4\\uc9c1 \\ud654\\uc7ac\\uc608\\ubc29 \\uc548\\uc2ec \\uc790\\ub3d9\\uc628\\ub3c4\\uc870\\uc808 \\uc13c\\uc11c 2\\uad6c \\uac00\\uc2a4\\ub808\\uc778\\uc9c0 GRAM2030V_\\ube14\\ub799 \\uc640\\uc778(\\ubc30\\ud130\\ub9ac \\ubd80\\uc871 \\uc54c\\ub9bc \\ubc0f \\uac04\\ud3b8 \\uad50\\uccb4/\\uc6d0\\ud130\\uce58 \\uc810\\ud654/ \\uad6d\\ub0b4 \\ucd5c\\ub2e4 \\ud488\\uc9c8 \\ud14c\\uc2a4\\ud2b8/ \\uccad\\uc18c \\uc138\\ucc99 \\uac04\\ud3b8': u'7735209571.jpg',\n",
       " u'3M \\ubaa8\\ub2c8\\ud130\\ubd80\\ucc29\\ud615 \\uba54\\ubaa8\\ubcf4\\ub4dc': u'8229985413.jpg',\n",
       " u'ipTIME V1024 \\uc720\\uc120\\uacf5\\uc720\\uae30 (24\\ud3ec\\ud2b8/2\\uae30\\uac00\\ud3ec\\ud2b8/32Mb\\uba54\\ubaa8\\ub9ac\\uc9c0\\uc6d0/\\ucf00\\uc774\\ube14 \\uc790\\ub3d9\\uac10\\uc9c0) [W070967]': u'8273688331.jpg',\n",
       " u'[\\ub9ac\\ubc14\\uc774\\uc2a4(AK\\ud50c\\ub77c\\uc790)/\\ub9ac\\ubc14\\uc774\\uc2a4(AK\\ud50c\\ub77c\\uc790)] [\\ub9ac\\ubc14\\uc774\\uc2a4]\\ub0a8\\uc131 \\ucee8\\ubc84\\ud130\\ube14 \\ud328\\ub529 \\ub2e4\\uc6b4 \\uc810\\ud37c(18462-0000)(6426602)': u'8254625969.jpg',\n",
       " u'[5% \\uc989\\uc2dc\\ud560\\uc778] \\ud0a4\\uc988\\ub098\\ub77c  \\ucf54\\uc2a4\\ud2ac \\ud560\\ub85c\\uc708 \\uc2a4\\ud30c\\uc774\\ub354\\ub9e8\\uac00\\uba74_3\\uc885\\uc138\\ud2b8(\\uc0c1\\uc758 \\ud558\\uc758 \\ub9c8\\uc2a4\\ud06c)': u'7788677961.jpg',\n",
       " u'[\\ubaa8\\ub3c4\\ucef4\\ud37c\\ub2c8][PC-CODE] \\ub77c\\uc774\\uc988 : \\uc120 \\uc624\\ube0c \\ub85c\\ub9c8 (RYSE : Son of Rome)': u'8235425252.jpg',\n",
       " u'MYN U1 \\uc5ec\\uc6b0\\uc640\\ub291\\ub300\\ucef4\\ud4e8\\ud130 UMPC \\ub124\\ube44\\uac8c\\uc774\\uc158 \\uc804\\uc6a9 7\\uc778\\uce58': u'8228245007.jpg',\n",
       " u'\\uc18c\\ub2c8 \\uc54c\\ud30c A230': u'5397594890.20130311182408.jpg',\n",
       " u'[4%\\uc989\\uc2dc\\ud560\\uc778\\ucfe0\\ud3f0] \\ub514\\uc9c0\\ud138\\uc874  DZONEI USB839V': u'8283961212.jpg',\n",
       " u'[5%\\uc989\\uc2dc\\ud560\\uc778\\ucfe0\\ud3f0]\\ud30c\\uc6cc\\ud53d\\ub9e5\\uc2a4 \\uad6c\\uac15\\uc138\\uc815\\uae30/\\uce58\\uc544\\uc138\\uc815\\uae30/\\uc787\\ubab8\\uc138\\uc815/\\uad6c\\uac15\\uad00\\ub9ac': u'8263062245.jpg',\n",
       " u'[4%\\uc989\\uc2dc\\ud560\\uc778\\ucfe0\\ud3f0][\\ubc14\\ubcf4\\uc0ac\\ub791]\\ubbf8\\ub2c8\\uc2a4\\uc719 Mini swing 4G USB\\uba54\\ubaa8\\ub9ac \\uc791\\uace0 \\uac00\\ubcbc\\uc6b4 \\uc2a4\\uc719\\ud0c0\\uc785[\\ubb34\\ub8cc\\ubc30\\uc1a1]': u'7259091479.jpg',\n",
       " u'\\uc2dc\\uadf8\\ub9c8 SD1 MERRILL': u'6212643679.20130523153045.jpg',\n",
       " u'[6%\\uc989\\uc2dc\\ud560\\uc778\\ucfe0\\ud3f0][\\ud574\\uc678]TP-Link TL-WA830RE Range Extender (TL-WA830RE) [\\ud574\\uc678\\uc1fc\\ud551/\\uc544\\ub9c8\\uc874\\uc0c1\\ud488/\\ud574\\uc678\\uc815\\ud488]': u'8280845453.jpg',\n",
       " u'[\\ub300\\uad6c\\ubc31\\ud654\\uc810 II\\uad00] [\\ub514\\ubc24\\ube44]\\ube14\\ub791101 \\ub9ac\\ubc84\\uc2dc\\ube14 \\ud03c\\ud305 \\ubca0\\uc2a4\\ud2b8(\\ud0dd1)': u'8220067678.jpg',\n",
       " u'[\\uc791\\uc740\\uc9d1\\ub2f7\\ucef4][\\ud06c\\ub9b0\\ub7a9] \\uc54c\\ub730 \\uc9c0\\ud37c\\ubc31(\\ub300) 1\\ubc15\\uc2a4 20P': u'7416520533.jpg',\n",
       " u'[BC\\uce74\\ub4dc5%\\ud560\\uc778][\\ub9c8\\ub760\\uc5d0\\ub974]\\ub7f0\\ub2dd\\ud615\\ubc14\\ub514\\uc250\\uc774\\ud37c2\\uc885': u'8198548048.jpg',\n",
       " u'[\\ud558\\ud504\\ud074\\ub7fd/Hippink]\\uc96c\\ub2c8 \\ube0c\\ub77c\\ud32c\\ud2f0\\uc138\\ud2b8': u'7785984763.jpg',\n",
       " u'\\ud560\\ub85c\\uac90\\ub7a8\\ud504 110V/250W ETB JD BA15D(Base)': u'7952777739.jpg',\n",
       " u'\\ub9c8\\uc774\\ud06c\\ub85c\\uc18c\\ud504\\ud2b8 (\\uc2e0\\uc0c1\\ud488 \\ub2f9\\uc77c\\ubc1c\\uc1a1) XBox One \\ubb34\\uc120\\ucee8\\ud2b8\\ub864\\ub7ec/\\ubb34\\uc120\\ud328\\ub4dc': u'8266329060.jpg',\n",
       " u'[KB\\uad6d\\ubbfc\\uce74\\ub4dc 5%\\ud560\\uc778, 3/14]\\ub4f1\\uc0b0 \\uc591\\ub9d0 \\uc99d\\uc815\\ubabd\\ubca8 \\ub0a8\\uc131 \\ud2b8\\ub808\\ud0b9\\ud654 \\uc9c0\\uadf8 (ML0MY15S021)': u'8334840691.jpg',\n",
       " u'[\\ubca0\\ubca0\\ub9ac\\ubaa8] \\ud5ec\\ub85c\\ud0a4\\ud2f0 \\ubc1c\\ub808\\uac00\\ubc29 [\\ud0ec\\ubc84\\ub9b0]': u'7587863882.jpg',\n",
       " u'\\u2605\\ud2b9\\uac00\\uc9c4\\ud589\\u2605 G0961  \\ud560\\ub85c\\uc708 \\ub9c8\\ub140\\uc758\\uc0c1  \\ubc30\\ud2b8\\ub9c8\\ub140  \\ud560\\ub85c\\uc708 \\uc720\\uce58\\uc6d0 \\uc5ed\\ud560\\uadf9': u'8021040180.jpg',\n",
       " u'DVD 1P \\ucf00\\uc774\\uc2a4 \\ud22c\\uba85 \\uc2ac\\ub9bc[10\\uac1c]': u'8203524052.jpg',\n",
       " u'\\uc2e0\\uc77c\\uc0b0\\uc5c5 SEC-8026F': u'7654786747.20140522121206.jpg',\n",
       " u'[\\ud574\\uc678]  \\ud574\\uc678\\ube60\\ub978\\ubc30\\uc1a1  \\ub274\\uc695\\ub9e4\\ub2c8\\uc544 Webroot/Webroot Spy Swee \\ud574\\uc678 \\uc815\\ud488 \\uc9c1\\ubc30\\uc1a1': u'8279934292.jpg',\n",
       " u'[\\ud328\\uc158\\ud50c\\ub7ec\\uc2a4][Bapool (\\ubc14\\ud480)]\\ubc14\\ud480  MG 021 \\ub0a8\\uc131 \\ud150\\uc140\\ub0b4\\uc758 \\uc0c1\\ud558\\uc138\\ud2b8 (95~105)': u'7293803925.jpg',\n",
       " u'[5% \\uc989\\uc2dc\\ud560\\uc778][\\ud574\\uc678\\uc9c1\\ubc30\\uc1a1]Panlong Digital to Analog Audio Converter - Optical SPDIF Toslink Coaxial to RCA L/R': u'8280548735.jpg',\n",
       " u'[\\uc0c8\\uc81c\\ud488] SKT 2G\\ud3f0 \\uacf5\\uae30\\uacc4 \\ubaa8\\ud1a0\\ub85c\\ub77c MS900 \\uc2a4\\ud0c0\\ud14d3 \\ud3f4\\ub354\\ud3f0 \\ud6a8\\ub3c4\\ud3f0 011 017\\uac00\\ub2a5': u'8279377836.jpg',\n",
       " u'[\\ubaa8\\ub9ac\\ucf00\\uc774\\ube14] [M07321] \\ub137\\uba54\\uc774\\ud2b8(Netmate) CAT5 KVM \\uc2a4\\uc704\\uce58 USB Dongle [DGU-01]': u'7310686046.jpg',\n",
       " u'\\uc9c0\\uc564\\uc9c0 \\uc218\\uc785\\uac00\\uc804 \\ub3c5\\uc77c \\ubca4\\ud0c0\\uc5d0\\uc5b4\\uc6cc\\uc154 CAC15': u'8271351850.jpg',\n",
       " u'\\uce90\\ub17c EOS 5D': u'1000160870.20130312174753.jpg',\n",
       " u'[\\ud574\\uc678][\\uad6c\\ub9e4\\ub300\\ud589][B00AZVJO06] AD8630ARUZ': u'8266271456.jpg',\n",
       " u'[\\ub2f9\\uc77c\\ubc30\\uc1a1 \\ubc14\\ub85c\\ucd9c\\ubc1c] Adobe Creative Suite 5 Production Premium (\\uc5c5\\uadf8\\ub808\\uc774\\ub4dc[\\ub2e4\\ub098\\uc640\\uc5f0\\ub3d9\\ubab0 \\ub9e4\\ucd9c1\\uc704/\\uace0\\uac1d\\ub9cc\\uc871\\ub3c4 \\ucd5c\\uc6b0\\uc218\\uc5c5\\uccb4]': u'8269911721.jpg',\n",
       " u'[\\ud6c4\\ucd94\\ud1b5][\\ud6c4\\ucd94\\ud1b5][\\uc5d1\\ud1a0]\\ud3f4\\ub4dc\\uc2a4\\ud0e0\\ub4dc\\ub9c8\\uc774\\ud06c-\\ube14\\ub799(MIC-03)': u'6644245906.jpg',\n",
       " u'\\ub178\\uc774\\uc988\\ud38c\\uc6e8\\uc5b4\\ud574\\uacb0 \\uc544\\uc774\\ub9ac\\ubc84 WoW tab(\\uc640\\uc6b0\\ud0ed) ITQ700 16GB PMP\\ud328\\ub4dc/IPS \\uc778\\uac15\\uc9c0\\uc6d0  \\uc815\\ud488\\uac00\\uc8fd\\ucf00\\uc774\\uc2a4 \\uc544\\uc774\\ub9ac\\ubc84\\uc815\\ud488 \\ub9c8\\uc774\\ud06c\\ub85cSD 16GB \\uace0\\uae09\\uc561\\uc815\\ud544\\ub984 \\ub2e4\\uc6b4\\ub85c\\ub4dc\\ucfe0\\ud3f0': u'6834597710.2.jpg',\n",
       " u'[\\ud574\\uc678][\\uad6c\\ub9e4\\ub300\\ud589][B00MMV4FMY] Voltage References Ultracompact Prec 3V (5 pieces)': u'8266191335.jpg',\n",
       " u'[Feltics] [\\ud3a0\\ud2f1\\uc2a4] 2014(FW) \\ub514\\uc988\\ub2c8 \\ubbf8\\ud0a4 \\ud6c4\\ub4dc \\uc9d1\\uc5c5 (\\ube14\\ub799) FENDMHZ50_P021012540': u'8283642436.jpg',\n",
       " u'[\\uc2a4\\ud33d\\uc2a4]SPANX FOR MEN COTTON COMPRESSION TANK (611)': u'8001008969.jpg',\n",
       " u'[5%\\uc989\\uc2dc\\ud560\\uc778\\ucfe0\\ud3f0]SM-A500L/\\uac24\\ub7ed\\uc2dcA5/LTE-A/\\uc0c8\\uc81c\\ud488/\\uacf5\\uae30\\uacc4/\\uac00\\uac1c\\ud1b5X': u'8282285283.jpg',\n",
       " u'\\uc571\\ucf54 BT230 \\ubc84\\ud314\\ub85c USB 3.0': u'6962324442.20130619122608.jpg',\n",
       " u'[e\\ud504\\ub791\\ud2f0\\uc2a4 \\uc811\\uc548\\ub80c\\uc988] LE 14.5mm(1.25\\uc778\\uce58)': u'7286889513.jpg',\n",
       " u'\\ud504\\ub77c\\uc784\\ub514\\ub809\\ud2b8  CPH001 PC\\ubcf8\\uccb4 \\ubc1b\\uce68\\ub300': u'7648050018.jpg',\n",
       " u'\\uac8c\\uc2a4(\\uc5b8\\ub354\\uc6e8\\uc5b4) [\\ub86f\\ub370\\ubc31\\ud654\\uc810]60\\uc218 \\uc8fc\\uc790 \\ub808\\uc624\\ud30c\\ub4dc \\uc120\\uc5fc\\uccb4\\ud06c \\uc778\\ubc34\\ub4dc \\ubc15\\uc11c 2\\uc885\\uc138\\ud2b8(UE4O1O32BRN31NVY)': u'8269603106.jpg',\n",
       " u'\\uac24\\ub7ed\\uc2dc \\uadf8\\ub79c\\ub4dc \\ub9e5\\uc2a4[SM-G720N0][\\ud560\\ubd80 10,800\\uc6d0][\\uc21c\\uc644\\uc804\\ubb34\\ud55c67][\\uac00\\uc785\\ube44\\ubd84\\ub0a9/\\uc720\\uc2ec\\ud6c4\\ub0a9][KT\\uc2e0\\uaddc\\uac00\\uc785][2\\ub144\\uc57d\\uc815/\\ud560\\uc778[\\uc758\\ubb34\\ubd80\\uac00\\u7121, \\ub2f9\\uc77c\\ubc1c\\uc1a1, \\uc0ac\\uc740\\ud488]': u'8217511391.jpg',\n",
       " u'SMX-100GG \\uc2e0\\uc77c\\uc0b0\\uc5c5 \\ubbf9\\uc11c\\uae30/\\uc720\\ub9ac\\ucef5/\\ubd84\\uc1c4\\uae30\\ub2a5 \\ubbf9\\uc11c\\uae30,\\ubd84\\uc1c4\\uae30': u'8326447823.jpg',\n",
       " u'[\\ud604\\ub300\\uce74\\ub4dc 5%\\ud560\\uc778, 3/15]\\ub85c\\uc9c0\\ud14d G430 (7.1\\ub3cc\\ube44 \\uc720\\uc120 \\uac8c\\uc774\\ubc0d \\ud5e4\\ub4dc\\uc14b)': u'7714025789.jpg',\n",
       " u'\\ud50c\\ub808\\uc774\\uc628 \\ud0a4\\ub125\\ud2b8 \\uc13c\\uc11c \\ub9dd\\uc6d0\\uacbd': u'6738431153.20130123174258.jpg',\n",
       " u'[4%\\uc989\\uc2dc\\ud560\\uc778\\ucfe0\\ud3f0]C\\uc624\\ub514\\uc624\\uad11 \\ucf00\\uc774\\ube14 2  Toslink to Toslink 3M \\uc2a4\\ud14c\\ub808': u'8276190861.jpg',\n",
       " u'\\u6b63\\u54c1 \\uc778\\ud154 \\ucf54\\uc5b44\\uc138\\ub300 i3-4150 \\ubc8c\\ud06c(\\ud558\\uc2a4\\uc6f0 \\ub9ac\\ud50c\\ub808\\uc2dc/3.5GHz/3MB/\\ucfe8\\ub7ec\\ubbf8\\ud3ec\\ud568)[1\\ubc152\\uc77c \\ub2f9\\uc77c\\ubc1c\\uc1a1]': u'8260631110.jpg',\n",
       " u'\\ubc14\\ubcf4\\uc0ac\\ub791[\\uc815\\uc560\\uc774\\ub178\\ubca0\\uc774\\uc158]\\uc81c\\uc774\\uba54\\ud0c0 S1 \\uace8\\ub4dc \\uc0ac\\uad70\\uc790 \\uc790\\uac1c-16GB[\\ubb34\\ub8cc\\ubc30\\uc1a1]': u'7797424755.jpg',\n",
       " u'\\uc560\\ud50c \\ub9e5\\ubd81\\uc5d0\\uc5b4 13\\ud615 MacBook Air 13.3/1.6/4/128FLASH MJVE2KH/A (\\uae30\\uc874\\uac00:1250000\\uc6d0)': u'8393059454.jpg',\n",
       " u'[CC collect] \\ubaa9\\uac78\\uc774 SET \\uc2ac\\ub9bc\\ub77c\\uc778 \\uc6d0\\ud53c\\uc2a4 (C143 MSE 010)': u'7945883732.1.jpg',\n",
       " u'\\ub2cc\\ud150\\ub3c4 Wii \\ub9c8\\ub9ac\\uc624\\ud30c\\ud2f09(\\uac8c\\uc784 \\ud0c0\\uc774\\ud2c0)': u'8267653328.jpg',\n",
       " u'\\ud50c\\ub77c\\ubaa8 FOCUS PLUS OTG USB\\uba54\\ubaa8\\ub9ac 64GB \\ud551\\ud06c': u'7511310120.jpg',\n",
       " u'[\\uc0bc\\uc131\\uce74\\ub4dc5%\\ud560\\uc778~15\\uc77c\\uae4c\\uc9c0][\\ud478\\ub9c8\\ubc14\\ub514\\uc6e8\\uc5b4]\\ud478\\ub9c8\\ube0c\\ub77c\\ud0d11\\ucc28 (ATB-100) 4\\uc885 GS-5FYBSD21': u'7058344250.jpg',\n",
       " u'{\\ub4c0\\ub809\\uc2a4}USB\\uac00\\uc2b5\\uae30 \\ud2b9\\uac00\\ubaa8\\uc74c\\uc804/\\uac1c\\uc131\\ub9cc\\uc810 \\uac00\\uc2b5\\uae30 \\uc804\\uc2dc': u'6648979153.jpg',\n",
       " u'[\\ud574\\uc678]Tripp LiteTripp Lite PDUV30HV PDU Basic 208V / 240V 30A 6 C19': u'8275847210.jpg',\n",
       " u'[\\ud0a4\\uc988\\ub098\\ub77c] \\ucf54\\uc2a4\\ud2ac \\ud560\\ub85c\\uc708 \\ub514\\uc988\\ub2c8\\uce74_S12\\uc138\\ud2b8(\\uc0c1\\uc758 \\ud558\\uc758 \\ubaa8\\uc790)] \\uc720\\uc544\\ud30c\\ud2f0\\uc6a9\\ud488 \\uc544\\ub3d9\\ud30c\\ud2f0\\uc6a9\\ud488 \\uc5b4\\ub9b0\\uc774\\ud30c\\ud2f0 \\ud560\\ub85c\\uc708\\uc18c\\ud488 \\uc544\\ub3d9\\ud560\\ub85c\\uc708\\uc758\\uc0c1 \\uc720\\uc544\\uc6a9\\ud488 \\uc544\\uc774\\uc120\\ubb3c \\uc8fc\\ub2c8\\uc5b4\\uc120\\ubb3c': u'8055642032.jpg',\n",
       " u'[AK PLAZA][JEEP] \\uc9c0\\ud504 \\ub0a8\\uc5ec \\uacf5\\uc6a9 \\uba74 \\uae30\\ubaa8 \\uc2ac\\ub9bc \\uc2a4\\ud2b8\\ub808\\uc774\\ud2b8 \\ud32c\\uce20(JF4PTU114)': u'8174838314.jpg',\n",
       " u'[\\ud574\\uc678] Antennacraft Yagi HD  Y5-7-13    /Antennacraft Yagi HD Antenna Y5-7-13 Everything Else': u'7894444734.1.jpg',\n",
       " u'[4%\\uc989\\uc2dc\\ud560\\uc778\\ucfe0\\ud3f0]\\uc2e0\\ub3c4\\ub9e4\\uc720\\ud1b5-TKDS  CAR/\\uc544\\uc774\\uc5b8\\ub9e8/\\ud5d0\\ud06c/\\ucea1\\ud2f4\\uc544\\uba54\\ub9ac\\uce74/\\ud1a0': u'8258781396.jpg',\n",
       " u'[\\ud50c\\ub808\\uc774\\uc628] \\ud22c\\ud1a4 \\uc2e4\\ub9ac\\ucf58 \\ucf00\\uc774\\uc2a4 PS VITA  _\\uac8c\\uc784\\uae30\\ucf00\\uc774\\uc2a4': u'8359637534.jpg',\n",
       " u'[\\ud150\\ubc14\\uc774\\ud150]rabito Post-Wall ears Premium': u'8267265988.jpg',\n",
       " u'\\ub9ac\\ubaa8\\ucee8/PC\\ub9ac\\ubaa8\\ucee8/PC\\ub9ac\\ubaa8\\ucf58/\\ub9ac\\ubaa8\\ucf58/\\ucef4\\ud4e8\\ud130/\\ub9c8\\uc6b0\\uc2a4/\\ud0a4\\ubcf4\\ub4dc/\\ubb34\\uc120/\\ucee8\\ud2b8\\ub864/\\ucef4\\ud4e8\\ud130\\ub9ac\\ubaa8\\ucee8': u'7018788210.jpg',\n",
       " u'[BC\\uce74\\ub4dc5%\\ud560\\uc778][\\ud574\\uc678\\ubc30\\uc1a1] \\uc544\\ubca0\\ud06c\\ub86c\\ube44\\ud0a4\\uc988 kids sweater pink': u'8290844214.jpg',\n",
       " u'\\uc61b\\ub0a0\\uc61b\\uc801 \\uce5c\\ud658\\uacbd \\ub9c8\\ud3ec \\ub098\\ub8fb\\ubc30 \\ucc9c\\uc5f0 \\uac00\\uc2b5\\uae30 \\u5c0f': u'8269196991.jpg',\n",
       " u'[5%\\uc989\\uc2dc\\ud560\\uc778\\ucfe0\\ud3f0]SKT\\ubc88\\ud638\\uc774\\ub3d9/\\uc635\\ud2f0\\uba38\\uc2a4G\\ud504\\ub85c/\\ub300\\ub780\\ud2b9\\uac00/\\uc0ac\\uc740\\ud488\\ucd5c\\uac15': u'8280950845.jpg',\n",
       " u'[5%\\uc989\\uc2dc\\ud560\\uc778\\ucfe0\\ud3f0] \\uc5d8\\uc9c0\\uc720\\ud50c\\ub7ec\\uc2a4\\uc778\\ud130\\ub137\\uac00\\uc785  \\ub9cc\\uc871\\ucd5c\\uace0': u'8280562845.jpg',\n",
       " u'[\\ud558\\ud504\\ud074\\ub7fd/\\ud6c4\\ucd94\\ud1b5(\\ud0a4\\ub35c\\ud2b8,\\ucde8\\ubbf8)]COMS \\ubaa8\\ub2c8\\ud130\\ubc1b\\uce68\\ub300 \\ud55c\\ub3c5 \\uac15\\ud654\\uc720\\ub9ac KH-100': u'7365004979.jpg',\n",
       " u'[4%\\uc989\\uc2dc\\ud560\\uc778\\ucfe0\\ud3f0]Thunderbolt  2 Express Dock HD \\uc36c\\ub354\\ubcfc\\ud2b8 2 \\uc775\\uc2a4\\ud504\\ub808\\uc2a4 \\ub3c5 HD (F4U085kr) 8\\uac1c \\uae30\\uae30 \\uc5f0\\uacb0/\\ub9e5\\ubd81\\ud5c8\\ube0c/PC\\ud5c8\\ube0c': u'8302396785.jpg',\n",
       " u'[\\ubc14\\ube44\\ud0a4\\uc988] [\\ubc14\\ube44]\\uc5ec\\uc544 \\uceec\\ub7ec\\ud480 \\ud3ec\\ub2c8\\ud14c\\uc77c \\ube14\\ub77c\\uc6b0\\uc2a4\\ud2f0(\\ubbfc\\ud2b8)[BBLA4301KU]': u'7893514070.jpg',\n",
       " u'[goldwing777]\\ud06c\\ub808\\uc774\\uc9c0\\ubc31_DSLR \\uce74\\uba54\\ub77c\\uac00\\ubc29 \\ud06c\\ub85c\\uc2a4\\ubc31 \\uc204\\ub354\\ubc31 \\uc5ec\\ud589': u'8280484043.jpg',\n",
       " u'\\ube60\\ub984\\ubc30\\uc1a1\\uc0c8\\ud55c\\uc5d8\\ub9ac\\ud2b8CD-R700MB 25P \\uacf5\\uc2dc\\ub514 dvd \\uacf5cd cd\\uad7d\\uae30 \\uc74c\\uc545\\uad7d\\uae30': u'8245129241.jpg',\n",
       " u'[\\ud604\\ub300\\uce74\\ub4dc 5%\\ud560\\uc778, 3/15] quot': u'7390480197.jpg',\n",
       " u'[LG U  \\ubc88\\ud638\\uc774\\ub3d9][LG \\uc544\\uc774\\uc2a4\\ud06c\\ub9bc\\uc2a4\\ub9c8\\ud2b8\\ud3f0][LG-F440L][24\\uac1c\\uc6d4\\uc57d\\uc815][1\\uc6d0][LTE\\ubb34\\ud55c\\ub30089.9][\\uac00\\uc785\\ube44\\ubd84\\ub0a9][\\uc720\\uc2ec\\ube44\\ud6c4\\ub0a9][\\ubd80\\uac00\\uc5c6\\uc74c][\\ud574\\uc9c0\\uc2dc\\uacf5\\uc2dc\\uc9c0\\uc6d0\\uc704\\uc57d\\uae08\\ubc1c\\uc0dd]': u'8275223176.2.jpg',\n",
       " u'\\uc5e0\\uc81c\\uc774\\ud14c\\ud06c\\ub180\\ub85c\\uc9c0 ENERGY OPTIMUS K-1 TINA USB 3.0': u'6971576712.20130624112453.jpg',\n",
       " u'[\\uc2e0\\ud55c\\uce74\\ub4dc5%\\ud560\\uc778~24\\uc77c\\uae4c\\uc9c0][\\uc9c0\\uc624\\uc9c0\\uc544] ANDZ \\ud6c4\\ub4dc \\uc9d1\\uc5c5 \\uc0ac\\ud30c\\ub9ac BZT1FF4101YE': u'8270546720.jpg',\n",
       " u'[17% \\uc989\\uc2dc\\ud560\\uc778]\\uc9c0\\uc624\\uc9c0\\uc544  \\uc9c0\\uc624\\uc9c0\\uc544  \\ubaa8\\ud63c\\ubc29 \\uccb4\\ud06c\\ud328\\ud134 \\uc6d0\\ubc84\\ud2bc \\uc790\\ucf13 AQ4A101MGR 15%\\ucfe0\\ud3f0': u'8302677941.jpg',\n",
       " u'[17% \\uc989\\uc2dc\\ud560\\uc778][AK\\ud50c\\ub77c\\uc790](AK\\ud50c\\ub77c\\uc790)[\\ube44\\ube44\\uc548]\\uac00\\ubcbc\\uc6b4\\uc18c\\uc7ac\\uac70\\ub4e4\\ud32c\\ud2f0(GP3186)': u'7614634241.jpg',\n",
       " u'\\ucef4\\uc0f7 \\ube14\\ub8e8\\ub808\\uc774/3D\\ucd9c\\ub825/ LG\\uc804\\uc790  BH16NS40 (\\uc815\\ud488 \\ubc15\\uc2a4) 16\\ubc30\\uc18d': u'8217623643.jpg',\n",
       " u'[\\ubc1c\\ub808\\ud0a4\\uc988(Balletkids)] [B839]\\uace8\\ub4e0\\ube14\\ub77c\\uc378/\\uc720\\uc544\\ub3d9 \\uc5b4\\ub9b0\\uc774 \\uc5ec\\uc544 \\ubc1c\\ub808\\ubcf5 \\uc288\\uc988 \\ud0c0\\uc774\\uc988': u'7380174876.jpg',\n",
       " u'[4%\\uc989\\uc2dc\\ud560\\uc778\\ucfe0\\ud3f0]ipTime_\\uc720\\ubb34\\uc120\\uacf5\\uc720\\uae30_A1004V': u'8274542303.jpg',\n",
       " u'\\uc571\\ucf54 NCORE \\uac00\\uc81c\\ud2b8 USB3.0': u'8121265429.20141208165921.jpg',\n",
       " u'[\\uc0ac\\ud2f4/SATIN] [SATIN] \\uc794\\uaf43\\ubb34\\ub2ac \\uc2ec\\ud50c\\ub77c\\uc778 \\uc6d0\\ud53c\\uc2a4 S143-A601(5937073)': u'7894793110.1.jpg',\n",
       " u'\\ubbf8\\ub2c8\\uba48 \\ud398\\ubbf8\\ub2cc \\ud50c\\ub9ac\\uce20 \\uc8fc\\ub984 \\uc6d0\\ud53c\\uc2a4 MNBAWO6310': u'7727795673.20140609135341.jpg',\n",
       " u'[5%\\uc989\\uc2dc\\ud560\\uc778\\ucfe0\\ud3f0]\\ud154\\ub808\\ubdf0 \\uc811\\uc548\\ub80c\\uc988/\\ub098\\uae00\\ub7ec 2-4mm \\uc90c(1.25\\uc778\\uce58) /\\ub178\\ub9c8\\uc9c4/': u'8197896315.jpg',\n",
       " u'[\\uc5d1\\ud1a0]\\ub2d8\\ud504\\uc2a4\\ud0e0\\ub4dc\\ub9c8\\uc774\\ud06c MIC-04': u'8164721920.jpg',\n",
       " u'\\uc0bc\\uc131\\uc804\\uc790 DDR3 8G PC3-12800 (\\uc815\\ud488)/\\uc591\\uba74/\\uc218\\ub7c9\\ud310\\ub9e4\\uac00\\ub2a5/\\ub2f9\\uc77c\\ubc1c\\uc1a1': u'8185057142.jpg',\n",
       " u'\\uac00\\uc628/LAW-C039BV/LG \\uc5d0\\uc5b4\\uc6cc\\uc154/\\ub2f9\\uc77c\\ud0dd\\ubc30\\ubc1c\\uc1a1': u'8191454791.jpg',\n",
       " u'[\\uc870\\uc149\\uc870\\uc149] \\ud2b8\\uc708 \\ube0c\\ub7ec\\uc26c \\uadf8\\ub9b0': u'7805226909.jpg',\n",
       " u'[\\uc0bc\\uc131\\uce74\\ub4dc5%\\ud560\\uc778][MONIZ][\\ubaa8\\ub2c8\\uc988] [BJ]077. \\ub124\\uc624\\ud504\\ub80c \\ub808\\ub354 \\ube14\\ub8e8\\uc885[\\ud328\\uc158\\ud50c\\ub7ec\\uc2a4]': u'8317091906.jpg',\n",
       " u'[14% \\uc989\\uc2dc\\ud560\\uc778]\\ud6c4\\ucd94\\ud1b5_ ahha 2in1 \\uc720\\uc2ec\\ud0a4\\ud2b8 \\ud734\\ub300\\uc6a9 \\uac01\\ub3c4\\uc870\\uc808 \\uc2a4\\ud0e0\\ub4dc-SIMKIT': u'8341038380.jpg',\n",
       " u'\\ud37c\\uc2a4\\ud2b8\\ub8e9 \\uc5d0\\ub514\\uc158 \\uce90\\uc2dc\\ubbf8\\uc5b4 \\uce74\\ub514\\uac74 \\uc138\\ud2b8(\\uc5ec\\uc131)': u'30033595L.jpg',\n",
       " u'[\\uc624\\uac00\\uac8c/\\ub3c4\\ub3c4\\uc2a4\\ud0c0\\uc77c ]\\ud654\\uc774\\ud2b8\\ubca8 \\uc559\\uace0\\ub77c\\ud22c\\ud53c\\uc2a4': u'8111336686.jpg',\n",
       " u'LG\\uc804\\uc790 GCC-4521B \\ube14\\ub799': u'1100059123.jpg',\n",
       " u'[BC\\uce74\\ub4dc5%\\ud560\\uc778][POLHAM][\\ud3f4\\ud584] \\uacf5\\uc6a9 \\uce90\\uc2dc\\ubbf8\\uc5b4 \\ud06c\\ub8e8\\ub125 \\ub2c8\\ud2b8 (PT4I011)[\\ud328\\uc158\\ud50c\\ub7ec\\uc2a4]': u'8084301539.jpg',\n",
       " u'\\ubc14\\ubcf4\\uc0ac\\ub791[\\uc789\\ud06c\\ubbf8\\ub514\\uc5b4]\\uce90\\ub17c \\ubb34\\uc120\\uc774\\uc9c0\\uce74\\ud2b8\\ub9ac\\uc9c0\\uc138\\ud2b8 \\uba54\\uac00\\ud3ec\\ud1a0\\uc789\\ud06c 5\\uc0c9': u'7346302759.jpg',\n",
       " u'\\uc704\\ub4dc\\uc2a4\\uc717\\ubab0 \\ucf54\\uc640 \\uc30d\\uc548\\uacbd YF30 6': u'8266336142.jpg',\n",
       " u'\\uc0bc\\uc131\\uc804\\uc790 UN28H4200AF': u'7469385724.20140207150255.jpg',\n",
       " u'\\ubd80\\ubaa8\\ub2d8\\ud3f0/\\uc5b4\\ub9b0\\uc774\\ud3f0/\\uc720\\ud50c\\ub7ec\\uc2a4\\ud578\\ub4dc\\ud3f0': u'8152741071.jpg',\n",
       " u'[\\ud574\\uc678]Bushiroad Deck Holder Collection Vol.162 Infini... [\\ud574\\uc678\\uc1fc\\ud551/\\uc544\\ub9c8\\uc874\\uc0c1\\ud488/\\ud574\\uc678\\uc815\\ud488]': u'8274253506.jpg',\n",
       " u'[\\uc0c8\\uc81c\\ud488] SKT \\uacf5\\uae30\\uacc4 \\uc0bc\\uc131 SHW-A240S \\uc640\\uc774\\uc988\\ubaa8\\ub358 3G \\ud6a8\\ub3c4\\ud3f0 \\ud3f4\\ub354\\ud3f0 \\ubbf8\\uc0ac\\uc6a9 \\ubc15\\uc2a4\\ud480\\uc14b': u'8257173905.jpg',\n",
       " u'[\\ud0dc\\ucc3dOX\\ubc00\\ub77c\\ub178]\\uc6d0\\uc801\\uc678\\uc120 \\uc138\\ub77c\\ubbf9\\uc6d0\\uc0ac-\\uc8fc\\uc694\\ubd80\\uc704\\ub367\\ub2e8 \\ub0a8\\uc131\\ub0b4\\ubcf5 \\uc0c1\\ud5581\\uc138\\ud2b8[MLXV049412/N1]': u'5872462125.jpg',\n",
       " u'[34% \\uc989\\uc2dc\\ud560\\uc778]BR0959 \\uc790\\uc2a4\\ubbfc \\ubc14\\uc774\\uc62c\\ub81b \\uc12c\\uc138\\ud55c \\ud50c\\ub77c\\uc6cc \\ub9dd\\uc0ac\\uc790\\uc218A\\ucef5\\ube0c': u'8308455582.jpg',\n",
       " u'[\\uc804\\uad6d \\uc804\\ubb38\\uae30\\uc0ac \\uc124\\uce58\\uc870\\uac74] \\ub9b0\\ub098\\uc774 \\uac00\\uc2a4\\uc2dd \\ube68\\ub798 \\uc758\\ub958\\uac74\\uc870\\uae30 RD-61S': u'7551321192.jpg',\n",
       " u'[\\ud574\\uc678][\\uad6c\\ub9e4\\ub300\\ud589][B00AZVMJO4] AD713JRZ-16-REEL7': u'8266272191.jpg',\n",
       " u'[4%\\uc989\\uc2dc\\ud560\\uc778\\ucfe0\\ud3f0][\\uc194\\ub85c\\ubaac\\uc0f5]14000 \\uc5d1\\ud1a0 \\ubcf4\\ub178\\ud5e4\\ub4dc\\uc14b(BKS-56)___\\uc5d1\\ud1a0\\ud5e4\\ub4dc\\ud3f0/\\ud5e4\\ub4dc\\uc14b/\\uc774\\uc5b4\\ud3f0/\\ube14\\ub8e8\\ud22c\\uc2a4/\\ubb34\\uc120\\ud5e4\\ub4dc\\ud3f0/\\ub9c8\\uc774\\ud06c/\\uc774\\uc5b4\\uc14b': u'7452093983.jpg',\n",
       " u'[\\ud574\\uc678]Enchanting Princess Cinderella Elite Collection Adult Cosplay Halloween Costume/\\ub9c8\\ubc95 \\uacf5\\uc8fc \\uc2e0\\ub370\\ub810\\ub77c \\uc5d8\\ub9ac\\ud2b8 \\uceec': u'8259716418.jpg',\n",
       " u'[\\ubc30\\ud050\\ube48]\\ubc14\\ud050\\ube48 \\uc561\\ud2f0\\ube0c\\ucfe8\\ub7ec\\uc640\\uc778 \\uadf8\\ub808\\uc774\\ud504\\ube14\\ub8e8': u'8409789500.1.jpg',\n",
       " u'[\\uc0bc\\uc131\\uce74\\ub4dc5%\\ud560\\uc778]_ \\ub9ac\\ud045 \\ud31d\\ucf58 \\uba54\\uc774\\ucee4(popcorn maker) LP-09/\\uac00\\uc815\\uc6a9 \\ud31d\\ucf58\\uae30/\\ubcf8\\uc0ac\\uc9c1\\uc601\\uc810': u'8252802906.jpg',\n",
       " u'\\ubc14\\ubcf4\\uc0ac\\ub791[\\uc6b0\\ub9ac\\uc0b4\\ub9bc]\\ub2e8\\uccadUSB\\uba54\\ubaa8\\ub9ac4G-\\ub9e4\\ud654\\uae08\\ubb38S(\\uc0bc\\uccad)': u'7136326458.1.jpg',\n",
       " u'BLX PS(\\ud504\\ub85c\\uc2a4\\ud0dc\\ud504) 6.1 \\ud22c\\uc5b4 90 \\ud14c\\ub2c8\\uc2a4\\ub77c\\ucf13': u'8268831856.jpg',\n",
       " u'[14% \\uc989\\uc2dc\\ud560\\uc778][\\ub86f\\ub370\\ubc31\\ud654\\uc810]\\ub0a8\\ub140\\uacf5\\uc6a9 \\uc6b8\\ud130\\uce58 \\ubaa9\\ub125 4\\ud3ec\\ucf13 \\ud328\\ub529\\ubca0\\uc2a4\\ud2b8(\\uc194\\ub9ac\\ub4dc) 074821/ \\uc9c0\\uc624\\ub2e4\\ub178': u'8325721882.jpg',\n",
       " u'[STL\\ubcf4\\ub4dc\\ubcf5]14/15\\uc2e0\\uc0c1 \\uc544\\ub3d9\\uc6a9\\uc2a4\\ud0a4\\ubcf5\\ud32c\\uce20 ver.2N.\\uc624\\ub80c\\uc9c0/N.\\ub77c\\uc784': u'8123151329.jpg',\n",
       " u'\\uc5d1\\ud1a0\\uc6f9\\uce74\\uba54\\ub77c WCM-03 \\ud504\\ub808\\uc784\\uc6f9\\uce74\\uba54\\ub77c \\ucd5c\\ub300 16Mega Pixel \\uace0\\ud574\\uc0c1\\ub3c4 \\uce74\\uba54\\ub77c \\uc6f9\\uce74\\uba54': u'6472603035.jpg',\n",
       " u'[\\ud574\\uc678][\\uad6c\\ub9e4\\ub300\\ud589][B00MMV2AYE] Voltage References Ultracompact Prec 5V (5 pieces)': u'8266191253.jpg',\n",
       " u'[\\ud574\\uc678]Z07-7 Mobile Phone Wired Monopod Audio Cable Wired Selfie Stick Extendable Handheld Monopod for ': u'8260151123.jpg',\n",
       " u'\\ub85c\\uc9c0\\ud14d C310 \\ubcd1\\ud589': u'6847942275.20130412174524.jpg',\n",
       " u'[KB\\uad6d\\ubbfc\\uce74\\ub4dc 5%\\ud560\\uc778, 3/14][\\uc5d4\\ud130\\uc2dd\\uc2a4]\\uce98\\ube48\\ud074\\ub77c\\uc778\\uc5b8\\ub354/CalvinKlein/E\\ube0c\\ub77c/\\ube0c\\ub77c\\ub048/\\ubab0\\ub4dc\\ube0c\\ub77c/249234620/\\ud37c\\ud399\\ud2c0\\ub9ac\\ud54f': u'7870340527.jpg',\n",
       " u'\\ubbf8\\ub798\\ud1b5\\uc0c1\\uae54\\uae54\\uc774 \\ubc14\\uc9c0(\\ube14\\ub799)-\\uae54\\uae54\\uc774/\\uad70\\ubcf5/\\ubcf4\\uc628\\ubcf5/\\uad70\\ub300\\ubc29\\ud55c\\ubcf5/\\ubc29\\ud55c\\ub0b4\\ud53c/\\uae54\\uae54\\uc774/\\ubc00\\ub9ac\\ud130\\ub9ac\\ubc29\\ud55c\\ub0b4\\ud53c/': u'8360063082.jpg',\n",
       " u'[4%\\uc989\\uc2dc\\ud560\\uc778\\ucfe0\\ud3f0]\\ub85c\\uc9c0\\ud14d H540 \\uc815\\ud488 \\uace0\\uae09 \\uc720\\uc120 USB \\uac8c\\uc774\\ubc0d \\ud5e4\\ub4dc\\uc14b': u'8258815185.jpg',\n",
       " u'[4%\\uc989\\uc2dc\\ud560\\uc778\\ucfe0\\ud3f0](CN)3.5 \\uc2a4\\ud14c\\ub808\\uc624 \\uace0\\uae09 \\ucf00\\uc774\\ube14 10M(L-2T2S)G \\uc81c\\uc791 (\\uc774': u'8284118349.jpg',\n",
       " u'[4%\\uc989\\uc2dc\\ud560\\uc778\\ucfe0\\ud3f0] \\uc774\\uc2a4\\ud018\\uc5b4 HuddleCamHD HuddleCamHD HuddleCam-HD 3X Wide PTZ USB Camera 100%\\uc815\\ud488 \\uad00\\ubd80\\uac00\\uc138\\ud3ec\\ud568': u'8262345701.jpg',\n",
       " u'[5%\\uc989\\uc2dc\\ud560\\uc778\\ucfe0\\ud3f0]\\ud1a0\\ud06c\\ub3cc\\uc988 \\uc561\\uc815 \\ud074\\ub9ac\\ub108': u'8280023196.jpg',\n",
       " u'[4%\\uc989\\uc2dc\\ud560\\uc778\\ucfe0\\ud3f0]\\ucee8\\ub125\\ud130 RCA FEMALE \\ub178\\ub791/\\uac80\\uc815 (\\ud0dd1)': u'8270208236.jpg',\n",
       " u'[7% \\uc989\\uc2dc\\ud560\\uc778]\\ucfe8\\ub9e5\\uc2a4\\ube0c\\ub77c\\ud0d1443\\ub77c\\uc774\\ud06c\\ub77c \\ud761\\uc2b5\\uc18d\\uac74 \\uc218\\ubd84\\ubc30\\ucd9c \\ud3b8\\uc548\\ud55c': u'7990333386.jpg',\n",
       " u'CAMAC CMK-30A Click USB': u'6589756522.20130424155848.jpg',\n",
       " u'CS BonoBoss  BOS-BS100 SOUNDWING': u'8217645005.jpg',\n",
       " u'\\ubca4\\ud0c0\\ud074\\ub9b0\\uce74\\ud2b8\\ub9ac\\uc9c0(VCC) - \\ubca4\\ud0c0\\uc5d0\\uc5b4\\uc6cc\\uc154/\\uacf5\\uae30\\uccad\\uc815\\uac00\\uc2b5/\\uc5d0\\uc5b4\\uc6cc\\uc154': u'7297878601.jpg',\n",
       " u'\\ub137\\uae30\\uc5b4 \\ub124\\ud2b8\\uc6cc\\ud06c\\ud558\\ub4dc ReadyNAS RN2120   16TB (4TB HDD x 4\\uac1c)': u'6923060468.jpg',\n",
       " u'[4%\\uc989\\uc2dc\\ud560\\uc778\\ucfe0\\ud3f0]\\ud130\\ubcf4\\ud578\\ub4dc\\ubbf9\\uc11c/\\ud578\\ub4dc\\ubbf9\\uc11c/\\ubbf9\\uc11c\\uae30/\\uac70\\ud488\\uae30/\\ubc24\\uc8fd\\uae30': u'8258705560.jpg',\n",
       " u'[\\ubc14\\ubcf4\\uc0ac\\ub791] Tailored Collar Jacket Cardigan, \\ub2c8\\ud2b8/\\uac00\\ub514\\uac74/\\ubca0\\uc2a4\\ud2b8,\\uac00\\ub514\\uac74, \\ubb34\\ub8cc\\ubc30\\uc1a1': u'8110520631.jpg',\n",
       " u'[\\ud574\\uc678] \\ub2cc\\ud150\\ub3c4 \\uc544\\ubbf8\\ubcf4 \\uba54\\ud0c0\\ub098\\uc774\\ud2b8 \\ud574\\uc678 \\uc815\\ud488 \\uc9c1\\ubc30\\uc1a1': u'8279965839.jpg',\n",
       " u'MK/\\ud55c\\uad6d \\ub9ac\\ubcf8 \\ud328\\ud134 \\uc544\\uae30\\uc815\\uc7a5 4\\uc885 \\ud551\\ud06c(3-24\\uac1c\\uc6d4) 202291[\\uc2dc\\uc911\\uac00:90,000\\uc6d0,53% Sale]': u'7961956100.jpg',\n",
       " u'\\uc9c8\\ubc14\\uc774\\uc9c8\\uc2a4\\ud29c\\uc5b4\\ud2b8 \\ubc14\\uc774 \\uc9c8\\uc2a4\\ud29c\\uc5b4\\ud2b8 \\ud551\\ud06c \\ud5e4\\ub9c1\\ubcf8\\ud328\\ud134 \\uc2dc\\uc2a4\\ub8e8\\ubc30\\uc0c9 \\uae34 \\ud314 \\ube14\\ub77c\\uc6b0\\uc2a4 JBB05A122PN': u'8287231796.20150210212408.jpg',\n",
       " u'\\uc18c\\ub2c8 \\ube44\\ud0c0 \\uc804\\uc6a9 \\uba54\\ubaa8\\ub9ac\\uce74\\ub4dc 16GB': u'6206251522.20120221174754.jpg',\n",
       " u'[4% \\uc989\\uc2dc\\ud560\\uc778][\\ub86f\\ub370\\ubc31\\ud654\\uc810]\\ud2f0\\ube44\\uc81c\\uc774 \\uc720\\ub2c8 \\ud14c\\uc774\\ud37c\\ub4dc D\\uc778\\ub514\\uace0 \\ub370\\ub2d8 (T145DP223M)': u'7936387331.jpg',\n",
       " u'[\\ud560\\ubd80\\uc6d0\\uae080\\uc6d0][CJ\\ud5ec\\ub85c\\ubaa8\\ubc14\\uc77c/\\ubc88\\ud638\\uc774\\ub3d9/24\\uac1c\\uc6d4\\uc57d\\uc815] LG-F300K \\ubdf03 /\\uac00\\uc785\\ube44\\ubd84\\ub0a9/\\uc720\\uc2ec\\ud6c4\\ubd88/52\\uc694\\uae08\\uc81c]': u'8200004439.jpg',\n",
       " u'[PC\\uac8c\\uc784] PC\\uac8c\\uc784\\ubc15\\uc2a4\\ud0c0\\uc774\\ud2c0 \\uc5b4\\ub460\\uc18d\\uc5d0 \\ub098\\ud640\\ub85c (\\uc644\\uc804': u'8283694999.jpg',\n",
       " u'[\\ud558\\ub8e8\\uba54\\uc774\\ube44] 937 \\ud050\\ud2f0\\ud55c \\uc6b8\\ud63c\\ubc29 \\ub77c\\uc6b4\\ub4dc\\ub125 \\ube14\\ub85d \\uc2a4\\ud2b8\\ub77c\\uc774\\ud504 A\\ub77c\\uc778 \\uc6d0\\ud53c\\uc2a4/\\ubcf4\\ub4dc\\ub808\\uc548\\uac10/\\uce58\\ub9c8/\\uc2a4\\ucee4\\ud2b8_P017081000': u'7844219508.1.jpg',\n",
       " u'[4%\\uc989\\uc2dc\\ud560\\uc778\\ucfe0\\ud3f0][\\uacf5\\uc7a5\\uc9c1\\ubc1c\\uc1a1][\\uc815\\ud488]\\uc528\\uc6d0 \\uc548\\uc804\\ud654 \\uc0b4\\uade0\\uac74\\uc870\\uae30 SDB-3008/30 \\ucf24\\ub808\\uc6a9/\\uc0b4\\uade0\\ud0c8\\ucde8/\\uc5f4\\ud48d\\uac74\\uc870/\\uc2e0\\ubc1c\\uc0b4\\uade0\\uac74\\uc870\\uae30/AS\\ubcf4\\uc7a5': u'6796448431.1.jpg',\n",
       " u'[\\ud604\\ub300\\ubc31\\ud654\\uc810 I\\uad00] \\uc5e0\\ube44\\uc624(MK4C129024)2014 F/W \\uc2e0\\uc0c1\\ud488 \\ud53c\\ud06c\\ub4dc\\ub77c\\ud3a0 2MIX \\ud37c\\ud399\\ud2b8 \\uc838\\uc9c0\\uc7ac\\ud0b7': u'7912439588.jpg',\n",
       " u'[\\ud3f4\\ubc0b] \\uc2e4\\ucf13 \\uc21c\\uba74 \\uccb4\\ud06c \\ud328\\ud134 \\ub0a8\\uc131 \\ubbfc\\uc18c\\ub9e4 \\ub7f0\\ub2dd 3\\ub9e4\\uc785(PMR423-2)': u'7450222883.1.jpg',\n",
       " u'\\uc5d0\\uc5b4\\uac74-M P9C \\uc0ac\\uc77c\\ub7f0\\uc11c (\\uc18c\\uc74c\\uae30)/\\uc2e0\\uc81c\\ud488': u'8250679273.jpg',\n",
       " u'[\\ud574\\uc678]\\uba54\\uc774\\uc2dc\\uc2a4\\ucf54\\ub9ac\\uc544/Skinit Protective Skin Fits Ipod Classic 6G University of Washington W Logo/Skinit/30087': u'8281832875.jpg',\n",
       " u'[4%\\uc989\\uc2dc\\ud560\\uc778\\ucfe0\\ud3f0]\\ub370\\uc774\\ud130/\\uc820\\ub354 \\uae30\\ud0c0 - PCDDA-KVM13M-C1.2mCS-716\\ud638\\ud658\\uc6a9K': u'8265245957.jpg',\n",
       " u'/(\\ud2b9\\uac00) [\\uc911\\uc678\\uc81c\\uc57d \\ud558\\uc774\\ub9bc\\uc5d0\\ub4c0 \\ud718\\uc0b0\\uae30\\u3161\\ub9ac\\ud544\\uc561500ml\\ud3ec\\ud568  \\ud53c\\ud1a4\\uce58\\ub4dc \\uc0b0\\ub9bc\\uc695\\uae30 \\uacf5\\uae30\\uccad\\uc815 \\uc815\\ud654 \\uc0b0\\uc18c\\ubc1c\\uc0dd /': u'8258518346.jpg',\n",
       " u'[mr.bacook] \\ud718\\ubc14 \\ud578\\ub4dc\\ubbf9\\uc11c\\uae30 WTF-4C (\\ube14\\ub799/\\ub808\\ub4dc/\\ud718\\ud551\\ubbf9\\uc11c\\uae30/3\\ub2e8\\uacc4\\uc870\\uc808/\\ube44\\ud130\\ud640\\ub354\\ud0d1\\uc7ac)': u'8136076535.jpg',\n",
       " u'\\ub9d1\\uc740\\ub204\\ub9acAROCKETRAID-2302X4-PCI [\\ud558\\uc774\\ud3ec\\uc778\\ud2b8]  RocketRAID 2302 PCI-E 1X 4ch RAID \\ucee8\\ud2b8\\ub864\\ub7ec': u'8245435298.jpg',\n",
       " u'[\\ub300\\uad6c\\ubc31\\ud654\\uc810 I\\uad00] [\\ud587\\uce20\\uc628]URBAN SWAGGER\\uc5b4\\ubc18\\ub0a8\\uc5ec\\ubc18\\ud314\\ud2f0(URBTSG2109WHURBTSG2108BK)': u'8349777919.jpg',\n",
       " u'\\uc5d1\\ud1a0 \\uc6f9\\uce74\\uba54\\ub77cWCM 05(\\uc0c9\\uc0c1\\uc784\\uc758\\ubc30\\uc1a1)  8 5 6 \\uc804\\uc0b0\\uc6a9\\ud488 \\uc5d1\\ud1a0 \\ucef4\\ud4e8\\ud130 \\ub178\\ud2b8\\ubd81 \\uc6f9\\ucea0 \\ud5e4\\ub4dc\\uc14b \\uc774\\uc5b4\\ud3f0 \\uc2a4\\ud53c\\ucee4 \\ub9c8\\uc6b0\\uc2a4 \\uc8fc\\ubcc0\\uae30\\uae30 \\uce74\\ub4dc\\ub9ac\\ub354\\uae30 \\uc0ac\\ubb34\\uc6a9\\ud488 \\uc77c\\ubc18\\uc6a9\\ud488 USB\\ucf00\\uc774\\ube14': u'8244757742.jpg',\n",
       " u'[BC\\uce74\\ub4dc5%\\ud560\\uc778]\\ubcf4\\ub2cc \\uc6b8\\ud63c\\ubc29 \\uc2ec\\ud50c \\ubca0\\uc774\\uc9c1 \\ub77c\\uc6b4\\ub4dc \\ub2c8\\ud2b8 \\ud551\\ud06c YHVC2317PK5': u'7832744477.1.jpg',\n",
       " u'[HDP1546] Any (SK)\\uc635\\ud2f0\\uba38\\uc2a4LTE(SU640) \\uc9c0\\ubb38\\ubc29\\uc9c0\\ud544\\ub984(2\\ub9e4)': u'8277913312.jpg',\n",
       " u'\\ucf54\\uc2dc BR1017WL': u'5932393728.20120211204910.jpg',\n",
       " u'[Madessou] \\ud37c\\ud4f8 \\ud328\\ud0a4\\uc9c0\\ub77c\\uc778 \\uc544\\uc774\\ud3f05/5S \\uc544\\uc774\\ud3f06 \\uc544\\uc774\\ud3f06\\ud50c\\ub7ec\\uc2a4 \\uac24\\ub7ed\\uc2dcS4 \\uac24\\ub7ed\\uc2dcS5 \\uac24\\ub7ed\\uc2dc\\ub178\\ud2b82 \\uac24\\ub7ed\\uc2dc\\ub178\\ud2b83 \\uac24\\ub7ed\\uc2dc\\ub178\\ud2b84 \\ud050\\ube45\\ucf00\\uc774\\uc2a4,\\ud578\\ub4dc\\uba54\\uc774\\ub4dc\\ucf00\\uc774\\uc2a4,\\uc3d8\\uc720,\\ud578\\ub4dc\\ud3f0\\ucf00\\uc774\\uc2a4,\\uc5ec': u'7853013504.jpg',\n",
       " u'[6%\\uc989\\uc2dc\\ud560\\uc778\\ucfe0\\ud3f0]\\ub2e8\\uc120 CAT.5E UTP \\ucf00\\uc774\\ube14 305M \\ud654\\uc774\\ud2b8': u'8284070826.jpg',\n",
       " u'[\\ud50c\\ub808\\uc774\\uc628] \\ud558\\ub4dc \\uc5d0\\uc5b4\\ud3fc \\ud30c\\uc6b0\\uce58 PS VITA _\\uac8c\\uc784\\uae30\\ucf00\\uc774\\uc2a4': u'8359637537.jpg',\n",
       " u'TG\\uc0bc\\ubcf4 Dvbrothers ROYAL \\uace8\\ub4dc USB\\uba54\\ubaa8\\ub9ac 64GB': u'7579751774.jpg',\n",
       " u'[6%\\uc989\\uc2dc\\ud560\\uc778\\ucfe0\\ud3f0][ATEN]CS9138/Rackmount KVM Switches/USB\\ud3ec\\ud2b8/\\ucf00\\uc774\\ube14': u'8282821913.jpg',\n",
       " u'BRAVOTEC V6  Black USB 3.0': u'7185226645.20131008095655.jpg',\n",
       " u'\\ubc94\\uc6a9 \\ub514\\uce74 \\uc5b4\\ub311\\ud130': u'8228720498.jpg',\n",
       " u'[ELLE][AK\\ud50c\\ub77c\\uc790][\\uc5d8\\ub974\\uc774\\ub108] [\\ucee4\\ud50c-70\\uc9c4\\ud589]\\uc2a4\\ud2b8\\ub77c\\uc774\\ud504 \\uba74 \\uc544\\uc6c3\\ubc34\\ub4dc \\ucee4\\ud50c\\uc138\\ud2b8(ESB1245/ESD2245/EHP5245)': u'8355261442.jpg',\n",
       " u'[\\ud574\\uc678]\\ud63c\\ub2e4 GX160 \\uc5d4\\uc9c4 5.5hp \\ud504\\ub85c\\ubaa8\\uc158 \\ud310\\ub9e4\\uc5d0 \\ub300\\ud55c superble \\uc870\\uc815 \\uae30\\ud654\\uae30 \\uae30\\ud654\\uae30 \\uad50\\uccb4\\ub97c dollarsale/dollarsale superble Adjustable': u'8259839374.jpg',\n",
       " u'ipTIME \\uacf5\\uc720\\uae30 NAS-I (NAS / 3.5\\uc778\\uce58 1\\ubca0\\uc774 / HDD \\ubbf8\\ud0d1\\uc7ac / \\uae30\\uac00\\ube44\\ud2b8 \\uc720\\uc120) [PCD0563]': u'8274526587.jpg',\n",
       " u'[\\uad6d\\ub0b4\\uc815\\uc2dd\\ubc1c\\ub9e4\\uc608\\uc815] Steinberg Cubase 8 Pro \\uc2a4\\ud14c\\uc778\\ubc84\\uadf8 \\ud050\\ubca0\\uc774\\uc2a4 \\uc5d0\\uc774\\ud2b8 \\ud504\\ub85c': u'8247572114.jpg',\n",
       " u'\\ud3f4\\ud584 [JOHN H. polham] \\ub0a8\\uc131 \\ube45\\ud3ec\\ucf13 \\ud3ec\\uc778\\ud2b8 \\ub9b0\\ub128 \\ubca0\\uc2a4\\ud2b8 BE (PS2E703)': u'7885479753.jpg',\n",
       " u'Apple MB570FE/A \\ubbf8\\ub2c8\\ub514\\uc2a4\\ud50c\\ub808\\uc774 DVI\\uc5b4\\ub311\\ud130': u'7003598667.1.jpg',\n",
       " u'\\ucd08\\ud2b9\\uac00/\\ube60\\ub978\\ubc30\\uc1a1/[\\uc815\\ud488] SWAROVSKI 30x W Eyepiece / \\uc30d\\uc548\\uacbd \\ub9dd\\uc6d0\\uacbd \\ub4f1\\uc0b0 \\ub808\\uc838 \\uc2a4\\ud3ec\\uce20\\uad00\\ub78c': u'8214110346.jpg',\n",
       " u'[Logitech] \\ucee8\\ud37c\\ub7f0\\uc2a4 \\uc6f9\\ucea0 BCC950 (\\ud654\\uc0c1 \\ud68c\\uc758 / \\uce7c\\uc790\\uc774\\uc2a4 AF \\ub80c\\uc988 / \\ubc1d\\uae30 \\uc790\\ub3d9 \\uc870\\uc808 / \\ub178\\uc774\\uc988 \\ucc28\\ub2e8 \\ub9c8\\uc774\\ud06c / \\ub2e4\\uae30\\ub2a5 \\ub9ac\\ubaa8\\ucee8 / \\uc88c\\uc6b0 78\\ub3c4 \\ud654\\uac01 / \\ud654\\uc0c1\\uce74\\uba54\\ub77c ': u'8057216017.jpg',\n",
       " u'[5%\\uc989\\uc2dc\\ud560\\uc778\\ucfe0\\ud3f0]DM\\uaca8\\ub4dc\\ub791\\uc774 \\ub540\\uc790\\uad6d \\ubc29\\uc9c0\\uc2dc\\ud2b8 \\uc18d\\uc637\\uc6a9\\ud488 \\ub540\\ud761\\uc218 \\ub540\\ud328\\ub4dc': u'8240936987.jpg',\n",
       " u'\\uc0ac\\uc6b4\\ub4dc\\uadf8\\ub798\\ud504 iMON 2.4G LT': u'1100182619.20120211165709.jpg',\n",
       " u'[\\ud574\\uc678] pullover sweater men knitting Winter pullover Quality Off-white O-neck Striped Mens Winter Swea': u'8313466580.jpg',\n",
       " u'[\\ud6c4\\ucd94\\ud1b5][\\ud6c4\\ucd94\\ud1b5][\\ucf00\\uc774\\uc2a4\\ub9c8\\ud2b8]\\uc774\\uc5b4\\ud3f0 \\ucee4\\ud50c \\uc820\\ub354': u'6806591623.1.jpg',\n",
       " u'[4%\\uc989\\uc2dc\\ud560\\uc778\\ucfe0\\ud3f0]\\uc704\\ub108\\uc2a4 \\uc704\\ub108\\uc2a4 \\uad6d\\uc0b0 \\uc140\\ud504\\ub9ac\\ubaa8\\ucf58\\uc2a4\\uc704\\uce58 1\\uad6c/\\ubc29\\ubc94\\uae30\\ub2a5/\\ucf58\\uc13c\\ud2b8': u'8274137184.jpg',\n",
       " u'[\\ud2b8\\ub79c\\uc13c\\ub4dc] TX2400KLN-8GK  DDR3-2400 \\uc9c4\\ubcf4\\ub41c \\uace0\\uc131\\ub2a5 \\uac8c\\uc774\\ubc0d \\uc804\\uc6a9\\uba54\\ubaa8\\ub9ac, \\uc624\\ubc84\\ud074\\ub9ad 8GB[DDR3-2400]': u'8131205458.jpg',\n",
       " u'THQ \\uc6cc\\ud574\\uba38 40,000 : \\ub358 \\uc624\\ube0c \\uc6cc 2 \\uce74\\uc624\\uc2a4 \\ub77c\\uc774\\uc9d5': u'5542871053.20120211194418.jpg',\n",
       " u'\\ubb34\\ub8cc\\ubc30\\uc1a1. \\uc544\\uc774\\uc2a4\\ud14c\\uc774\\uc158 T9 \\ud06c\\ub9ac\\uc2a4\\ud0c8 \\ud074\\ub9ac\\uc5b4': u'8255222536.jpg',\n",
       " u'\\ud30c\\uc138\\ucf54 \\ube4c\\ud2b8\\uc778 \\ub9c8\\uc6b4\\ud2f4 \\ud6c4\\ub4dc PHD-M670ST/\\ub808\\uc778\\uc9c0\\ud6c4\\ub4dc': u'8156805520.jpg',\n",
       " u'[\\ud0a4\\uc988\\ub098\\ub77c] \\ucf54\\uc2a4\\ud2ac \\ud560\\ub85c\\uc708 \\ub370\\ube4c\\ub9dd\\ud1a0 \\uc0bc\\uc9c0\\ucc3d\\uc138\\ud2b8(\\ub370\\ube4c\\ub9dd\\ud1a0 \\uc0bc\\uc9c0\\ucc3d)': u'7412576811.jpg',\n",
       " u'NETGEAR RN2120': u'7584037914.20140505144259.jpg',\n",
       " u'[ops1412011] Corduroy ops \\uc18c\\ud504\\ud2b8\\ud55c \\ub290\\ub08c\\uacfc \\uace0\\uae09\\uc2a4\\ub7ec\\uc6b4 \\uc0c9\\uc0c1 \\ub2e8\\uc815\\ud558\\uace0 \\ub530\\ub73b\\ud55c \\uace8\\ub374\\uc18c\\uc7ac \\uc784\\ubd80\\uc6d0\\ud53c\\uc2a4': u'8161783148.jpg',\n",
       " u'\\uc2e0\\uc77c \\ud589\\uc21c\\uc774 \\uc0b6\\ud1b5\\uc774 SWP-400HJ \\uc816\\ubcd1\\uc18c\\ub3c5 \\ud589\\uc8fc\\uc18c\\ub3c5 \\uc18c\\ub3c5 \\uc0b6\\uae30 \\uc0b6\\ud1b5': u'8418248637.jpg',\n",
       " u'[\\ub300\\uad6c\\ubc31\\ud654\\uc810 II\\uad00] [\\ud720\\ub77c\\uc2a4\\ud3ec\\uce20(FILA)]2014\\ub0a8\\uc5ec\\uacf5\\uc6a9\\uc2a4\\ud3ec\\uce20\\ubaa8\\uc790CP025NV(F4CPW025NV)': u'8298343371.jpg',\n",
       " u'\\uadfc\\ud638  QNAP TS-851-4G (\\ud558\\ub4dc\\ubbf8\\ud3ec\\ud568)': u'8403838841.jpg',\n",
       " u'\\uc811\\uc548\\ub80c\\uc988': u'8228720496.jpg',\n",
       " u'G2 (CJ\\ud5ec\\ub85c\\ubaa8\\ubc14\\uc77c)[\\uc2e0\\uaddc,32G] CJ\\uc54c\\ub730\\ud3f0/\\uc635\\ud2f0\\uba38\\uc2a4 G2(\\ud770\\uc0c9)/\\uc2e0\\uaddc\\uac00\\uc785/\\uc694\\uae08\\uc81c\\uc790\\uc720 \\ub9e4\\uc6d4\\uc694\\uae08\\ud560\\uc778/\\ub9e4\\uc6d4\\ub2e8\\ub9d0\\ud560\\uc778': u'8277761975.jpg',\n",
       " u'[\\ub2cc\\ud150\\ub3c4Wii/\\ud0c0\\uc774\\ud2c0] TT Games Lego Batman 2 DC Super Heroes \\ub808\\uace0 \\ubc30\\ud2b8\\ub9e8 \\ud22c \\ub514\\uc528 \\uc288\\ud37c \\ud788\\uc5b4\\ub85c\\uc988': u'6762488785.jpg',\n",
       " u'[5%\\uc989\\uc2dc\\ud560\\uc778\\ucfe0\\ud3f0]\\uace0\\uae09 \\uc6d0\\ubaa9 \\ubaa8\\ub2c8\\ud130 \\ubc1b\\uce68\\ub300 \\uc6d0\\ubaa9\\uc73c\\ub85c \\ub9cc\\ub4e0 \\uace0\\uae09 \\ubaa8\\ub2c8\\ud130 \\ubc1b\\uce68\\ub300\\uc785\\ub2c8\\ub2e4': u'7692675837.jpg',\n",
       " u'\\ud0d1\\uc900\\ud154\\ub808\\ucf64 CJ\\uc54c\\ub730\\ud3f0/\\uac24\\ub7ed\\uc2dc\\uadf8\\ub79c\\ub4dc\\ub9e5\\uc2a4.\\ube14\\ub799/\\uc2e0\\uaddc\\uac00\\uc785/\\uc694\\uae08\\uc81c\\uc790\\uc720 \\uc694\\uae08\\ud560\\uc778\\uc678 \\ub610 \\ucd94\\uac00\\ud560\\uc778/\\uc0ac\\uc740\\ud488\\uc99d\\uc815': u'8274090853.jpg',\n",
       " u'[AK\\ubab0/JEEP]  [JEEP] \\uc9c0\\ud504 \\ub0a8\\ub140 \\uacf5\\uc6a9 \\uc5e0\\ubcf4 \\ud504\\ub9b0\\ud2b8 \\ud2b8\\ub808\\uc774\\ub2dd \\ud32c\\uce20 (JG1TSU902)': u'8302487647.jpg',\n",
       " u'[4%\\uc989\\uc2dc\\ud560\\uc778\\ucfe0\\ud3f0](CN)\\ud50c\\ub799\\uc2dc\\ube14 BNC \\ucf00\\uc774\\ube14 25M(5C2VS)\\uc81c\\uc791': u'8284177838.jpg',\n",
       " u'[7% \\uc989\\uc2dc\\ud560\\uc778][\\ud328\\uc158\\ud50c\\ub7ec\\uc2a4][\\uc640\\ucf54\\ub8e8] \\uc120\\uc5fc\\uba74 \\uc640\\ud37c \\uc2a4\\ud2b8\\ub77c\\uc774\\ud504 \\ubc18\\ud314 \\ub7f0\\ub2dd (WMV8347A)': u'8314039012.jpg',\n",
       " u'[4%\\uc989\\uc2dc\\ud560\\uc778\\ucfe0\\ud3f0]MySQL Standard 1Year Subscription (1-4 Socket)': u'8266788271.jpg',\n",
       " u'\\uc5d0\\uc5b4\\ub85c \\ud50c\\ub77c\\uc774\\ud2b8 \\uc2dc\\ubbac\\ub808\\uc774\\ud130 \\uc5d1\\uc2a4 \\ud50c\\ub808\\uc778 10': u'6212615984.20120229103746.jpg',\n",
       " u'[4%\\uc989\\uc2dc\\ud560\\uc778\\ucfe0\\ud3f0] Logitech  H540 \\uc720\\uc120 \\ud5e4\\ub4dc\\uc14b': u'7882009051.jpg',\n",
       " u'[\\ud604\\ub300\\ubc31\\ud654\\uc810 V\\uad00] \\uac8c\\uc2a4\\ud0a4\\uc988 81\\ub808\\uc774\\uc5b4\\ub4dc \\ud2f0\\uc154\\uce20 (G51KAT013/B4) GUESS KIDS': u'8334090343.jpg',\n",
       " u'[\\ub514\\uc2a4\\ud018\\uc5b4\\ub4dc2] \\ud654\\uc774\\ud2b8 \\ud398\\uc778\\ud305 \\ub514\\uc2a4 15SS \\uc2ac\\ub9bc / LA0885 S30144 470 / \\ub0a8\\uc131 \\uc9c4': u'8201180892.jpg',\n",
       " u'[\\uc5d4\\uc528\\ud53c] \\uce90\\ub4dc\\ud30c\\uc6cc 2014 - gt': u'8241807809.jpg',\n",
       " u'[\\ud574\\uc678]  \\ud574\\uc678\\ube60\\ub978\\ubc30\\uc1a1  \\ub274\\uc695\\ub9e4\\ub2c8\\uc544 Play Incorporated/Play I \\ud574\\uc678 \\uc815\\ud488 \\uc9c1\\ubc30\\uc1a1': u'8279941972.jpg',\n",
       " u'KT\\uae30\\uae30\\ubcc0\\uacbd/\\uac24\\ub7ed\\uc2dc\\ub9e5\\uc2a4/SM-G720N0/24\\uac1c\\uc6d4/\\ud560\\ubd80\\uc6d0\\uae08 10,800\\uc6d0/\\uc21c \\uc644\\uc804\\ubb34\\ud55c67/\\uac00\\uc785\\ube44\\ubd84\\ub0a9/\\uc720\\uc2ec\\ud6c4\\ub0a9/\\uc704\\uc57d\\uae08 \\uacf5\\uc2dc\\uc9c0\\uc6d0\\uae08/\\ubd80\\uac00\\u7121': u'8214231408.jpg',\n",
       " u'[\\ud328\\uc158\\ud50c\\ub7ec\\uc2a4][EMPORIO ARMANI(\\uc5e0\\ud3ec\\ub9ac\\uc624 \\uc544\\ub974\\ub9c8\\ub2c8)]EA FANTASY COTTON TRUNK 111389-4P505 TURQUOISE': u'7634148301.jpg',\n",
       " u'[\\uc624\\ud0a4\\uc988] [E3180] \\ud560\\ub85c\\uc708 \\ub9c8\\ub140\\uc758\\uc0c1 [\\ub808\\ub4dc\\ub9c8\\ub140-HW130] \\ud30c\\ud2f0 \\ud560\\ub85c\\uc708 \\ucf54\\uc2a4\\ud2ac': u'5985693144.1.jpg',\n",
       " u'[4%\\uc989\\uc2dc\\ud560\\uc778\\ucfe0\\ud3f0]Crucial 8GB (2x4GB) FB-DIMM Mac Pro Memo/392554': u'8264841590.jpg',\n",
       " u'[\\uc815\\ud488] \\uce90\\ub17c EOS 7D(Body)   \\uc561\\uc815\\ud544\\ub984 \\ud06c\\ub9ac\\ub108\\uc735 \\uc0ac\\uc9c4\\uc778\\ud654\\uad8c[\\uce74\\ub4dc5%\\uccad\\uad6c\\ud560\\uc778 \\ud589\\uc0ac\\uc0c1\\ud488/\\ub300\\ubc15\\ud560\\uc778\\ucc2c\\uc2a4/\\ucd94\\uac00\\uc635\\uc158\\uc870\\uac74\\uc5c6]': u'6016700691.jpg',\n",
       " u'\\uc778\\ud154 \\ucf54\\uc5b4 i5 4\\uc138\\ub300 4690K \\ub370\\ube4c\\uc2a4\\uce90\\ub144 _\\ucef4\\ud4e8\\ud130/\\ubd80\\ud488/CPU': u'8352308550.jpg',\n",
       " u'[AK\\ubab0/\\ub2cc\\ud150\\ub3c4]  [\\ub2cc\\ud150\\ub3c43DS\\ud0c0\\uc774\\ud2c0]3DS-\\ub9c8\\ub9ac\\uc624\\uc640 \\uc18c\\ub2c9 \\ub7f0\\ub358\\uc62c\\ub9bc\\ud53d': u'7862022348.1.jpg',\n",
       " u'PS3 \\uc5b8\\ucc28\\ud2f0\\ub4dc2 \\ud669\\uae08\\ub3c4\\uc640 \\uc0ac\\ub77c\\uc9c4 \\ud568\\ub300 GOTY \\uc5d0\\ub514\\uc158 \\ube45\\ud788\\ud2b8 / \\uc5b8\\ucc60\\ud2f0\\ub4dc 2 / \\uc18c\\ub2c8\\uacf5\\uc2dd\\ud310\\ub9e4\\uc810': u'7468637218.jpg',\n",
       " u'[\\ud604\\ub300\\uce74\\ub4dc 5%\\ud560\\uc778, 3/15]\\uc100\\ub974\\ubc18 \\ub871\\ub77c\\uc6b4\\ub4dc\\ub9e8\\ud22c\\ub9e8 K15B1TS103': u'8323243191.jpg',\n",
       " u'\\uc591\\ubc29\\ud5a5\\ud1b5\\uc5ed\\uae30 \\ub2e4\\uad6d\\uc5b4\\ud1b5\\uc5ed/\\ubc88\\uc5ed/16\\uac1c\\uad6d/mp3\\ub77c\\ub514\\uc624 Q19': u'8276132857.jpg',\n",
       " u'TBJ \\ub0a8\\uc131 \\uc18c\\ub9e4 \\ubc30\\uc0c9 \\uac00\\ub514\\uac74 (T133KC300P)': u'32854637L.jpg',\n",
       " u'[BC\\uce74\\ub4dc5%\\ud560\\uc778]  \\ud5e4\\uc9c0\\uc2a4 \\ucc28\\ucf5c 4\\ub2e8\\ubc30\\uc0c9 \\ub77c\\uc6b4\\ub4dc \\uae34\\ud314\\ud2f0 HZE04D536CC': u'8000600334.jpg',\n",
       " u'[GOROKE] [\\uace0\\ub85c\\ucf00] \\ub358\\ud2b8\\ub370\\ub2d8 P /\\ubc14\\uc9c0/\\ud32c\\uce20/\\ub370\\ub2d8_P020859063': u'8267025743.jpg',\n",
       " u'\\ub85c\\uc9c0\\ud14d [Logitech] \\ub85c\\uc9c0\\ud14d \\ucf54\\ub9ac\\uc544 H540 \\uc720\\uc120 \\ud5e4\\ub4dc\\uc14b': u'7648279860.jpg',\n",
       " u'[\\ud574\\uc678]\\uc2e0\\uc0dd\\uc544 \\uc544\\uae30 \\ube14\\ub8e8\\uba38 redwhite \\uac19\\uc774 \\ud3f4\\uce74 \\ub3c4\\ud2b8 \\uc0c8\\ud2f4  \\uc544\\uae30 \\uae30\\uc800\\uadc0 \\ucee4\\ubc84 50 % OFF \\ud504\\ub85c\\ubaa8\\uc158/Newborn Baby Bloomers RedWhite Polka Do': u'8259913420.jpg',\n",
       " u'[\\uafb8\\ub2c8\\uc2a4\\ud1a0\\ub9ac] \\uad70\\ud654\\ubc29\\uc218\\ucee4\\ubc84  \\uc2e0\\ubc1c\\ubc29\\uc218 \\uc6b0\\uc758 \\uc6b0\\ube44 \\ube44\\uc637 \\uc6b0\\ucc9c \\ubc29\\uc218\\ubc1c\\ud1a0\\uc2dc': u'7850422868.jpg',\n",
       " u'[5%\\uc989\\uc2dc\\ud560\\uc778\\ucfe0\\ud3f0]SKT/2G \\uacf5\\uae30\\uacc4/\\ubb34\\uc57d\\uc815/\\uc911\\uace0\\ud3f0/SCH-S470/\\ud3f4\\ub354\\ud3f0/\\ud6a8\\ub3c4\\ud3f0': u'8271436177.jpg',\n",
       " u'[AK\\ubab0/[\\uc778\\uc2a4\\ud1a0\\uc5b4]\\uc2a4\\ubb34\\uc0b4\\ub354\\ud558\\uae30]  [\\uc2a4\\ubb34\\uc0b4\\ub354\\ud558\\uae30] 846_\\ube14\\ub799\\uccad\\ub370\\ub2d8jk': u'8352147869.jpg',\n",
       " u'[\\uc544\\uba54\\ub9ac\\uce78\\uc6e8\\uc2a4\\ud2b8] Oscar \\uae30\\ubaa8 \\ud32c\\uce20/\\ud2b8\\ub808\\uc774\\ub2dd\\ubcf5/\\uccb4\\uc721\\ubcf5/\\uc6b4\\ub3d9\\ubcf5/\\uce04\\ub9ac\\ub2dd/\\ub4f1\\uc0b0\\ubcf5/\\ub2e8\\uccb4\\ubcf5/\\uc800\\uc9c0[[]': u'8065848504.jpg',\n",
       " u'[\\ud604\\ub300\\uce74\\ub4dc 5%\\ud560\\uc778, 3/18]\\uc3d8\\ub85c\\uc0ac\\ub5bc \\uc62c\\uc778\\uc6d02\\uc885(7003)/\\ubcf4\\uc815\\uc18d\\uc637': u'8175352329.jpg',\n",
       " u'[KT\\ubc88\\ud638\\uc774\\ub3d9]\\uac24\\ub7ed\\uc2dcS5(SM-G900K) [\\ud560\\ubd80\\uc6d0\\uae08 358,400\\uc6d0 \\uc57d\\uc81524\\uac1c\\uc6d4 \\uc21c\\uc644\\uc804\\ubb34\\ud55c99 \\uac00\\uc785\\ube44\\ubd84\\ub0a9/\\uc720\\uc2ec\\ud6c4\\ub0a9 \\ud560\\uc778\\ubc18\\ud658\\uae08 \\uc9c0\\uc6d0\\ubc18\\ud658\\uae08][\\ubd80\\uac00\\uc11c\\ube44\\uc2a4 \\uc5c6\\uc74c]': u'8302060078.jpg',\n",
       " u'[\\ud574\\uc678]Sony Walkman NW-ZX1 128GB MP3 Player Hi-Res': u'8075587883.jpg',\n",
       " u'\\ub274\\uc6d4\\ub4dc\\ucf54\\ub9ac\\uc544 \\ub300\\ub098\\ubb34\\uc6d0\\ubaa9 \\ucc3b\\uc0c1 \\ubca0\\ub4dc\\ud2b8\\ub808\\uc774 \\ub178\\ud2b8\\ubd81\\ucc45\\uc0c1': u'8250562392.1.jpg',\n",
       " u'\\uc0bc\\uc131\\uc804\\uc790 UN22H5100AF': u'7536487526.20140305121758.jpg',\n",
       " u'\\ubc14\\ubcf4\\uc0ac\\ub791[\\uc5d8\\ub808\\ucef4]\\ub9c8\\uc774\\ud06c\\ub85c USB \\ucf00\\uc774\\ube14 MPA-AMBXLP10 Series': u'8200114423.jpg',\n",
       " u'\\uac24\\ub7ed\\uc2dcS5(SM-G900K) 24\\uac1c\\uc6d4/\\ud560\\ubd80\\uc6d0\\uae08 343,450\\uc6d0/\\uac00\\uc785\\ube44\\ubd84\\ub0a9/\\uc720\\uc2ec\\ud6c4\\ub0a9/\\uc704\\uc57d\\uae08 \\ud560\\uc778\\ubc18\\ud658\\uae08/\\ubd80\\uac00\\u7121/\\uc644\\uc804\\ubb34\\ud55c97/KT \\ubc88\\ud638\\uc774\\ub3d9': u'7965081836.jpg',\n",
       " u'[e\\ud504\\ub791\\ud2f0\\uc2a4] LE 12.5mm(1.25\\uc778\\uce58) /LE 12.5mm(Long Eyerelief) \\uc811\\uc548\\ub80c\\uc988': u'6307141667.1.jpg',\n",
       " u'--------    \\ub370\\ub4dc  \\ud5e4\\ub4dc \\ud504\\ub808\\ub4dc     psp    ------------ psp \\uac8c\\uc784 \\uc18c\\ud504\\ud2b8': u'6618833493.jpg',\n",
       " u'\\uc81c\\uc2dc\\uce74632 (2015\\ubd04)': u'8350158896.jpg',\n",
       " u'[BC\\uce74\\ub4dc5%\\ud560\\uc778][\\ucfe8\\ub8e9][KOOLLOOK] \\ucfe8\\ub8e9 \\uc815\\ud488/\\uc2ac\\ub9bc \\uc2a4\\ud310 \\ud22c\\ubc84\\ud2bc \\ube14\\ub808\\uc774\\uc838 DJK25/\\uc544\\uc6b0\\ud130/\\uc790\\ucf13/\\uc815\\uc7a5\\uc790\\ucf13[\\ud328\\uc158\\ud50c\\ub7ec\\uc2a4]': u'8114890162.jpg',\n",
       " u'[KOO] \\uc5b8\\ubc1c\\uc154\\ub9c1 \\ubbf8\\ub2c8\\uc2a4\\ucee4\\ud2b8[PS-0051]_P020155097': u'8188686855.jpg',\n",
       " u'ipTIME Q604 \\uc720\\uc120\\uacf5\\uc720\\uae30 (4\\ud3ec\\ud2b8/1WAN/100Mbps/16MB \\uba54\\ubaa8\\ub9ac\\uc9c0\\uc6d0/\\ucf00\\uc774\\ube14/\\uc790\\ub3d9\\uac10\\uc9c0) [W070963]': u'8276837326.jpg',\n",
       " u'[BUCKAROO] [AK\\ud50c\\ub77c\\uc790][\\ubc84\\ucee4\\ub8e8] \\ub0a8\\uc131\\uc6a9 3\\ub2e8\\ucb48\\ub9ac \\ube14\\ub799 \\uc5d4 \\ud654\\uc774\\ud2b8 \\ub9e8\\ud22c\\ub9e8 \\ud2f0\\uc154\\uce20(B151TS390P)_P021097183': u'8295395215.jpg',\n",
       " u'[\\ube44\\ud0a4/VIKI] \\ubc30\\uc0c9 \\ud3ec\\uc778\\ud2b8 \\ubaa8\\uc9c1 \\uc2a4\\ucee4\\ud2b8 (TFSAX2304)(5971494)': u'7916970866.jpg',\n",
       " u'[\\ubc84\\ucee4\\ub8e8] \\ub0a8\\uc5ec\\uacf5\\uc6a9 \\ub370\\ub2d8 \\uc9c0\\ud37c \\uc790\\ucf13(B135DJ070P)': u'7205148470.jpg',\n",
       " u'[4%\\uc989\\uc2dc\\ud560\\uc778\\ucfe0\\ud3f0]\\ud558\\uce20 \\ud558\\uce20 \\ube4c\\ud2b8\\uc778 3\\uad6c \\uc804\\uae30\\ucfe1\\ud0d1 EC-363CTS/\\uc804\\ub825\\uc81c\\uc5b4\\uae30\\ub2a5': u'8235150137.jpg',\n",
       " u'\\ud734\\ub300\\uc6a9\\ubbf8\\ub2c8\\uac8c\\uc784\\uae30/\\ubbf8\\ub2c8\\uc624\\ub77d\\uc2e4\\uac8c\\uc784\\uae30/240\\uac00\\uc9c0\\uac8c\\uc784\\ub0b4\\uc7a5/ \\uc624\\ub77d\\uc2e4\\uac8c\\uc784\\uae30': u'8281593926.jpg',\n",
       " u'750GB 7200RPM 16MB WD7500BPKX ': u'7085443254.20130826180010.jpg',\n",
       " u'[\\ud574\\uc678]Angie Printed Jumpsuit': u'8312860081.jpg',\n",
       " u'UL\\uc778\\uc99d2990 \\ucd5c\\uace0\\uae09\\ud615 RGB \\ucf00\\uc774\\ube14 10M [PCD9345]': u'8278060662.jpg',\n",
       " u'\\uc2a4\\ud14c\\ub808\\uc624\\ubd84\\ubc30\\ucf00\\uc774\\ube14 \\ub77c\\uc774\\ud2b8\\ucef4 \\ucf69\\uc2a4\\ud1a0\\uc5b4': u'8277590356.jpg',\n",
       " u'[\\ud574\\uc678][\\ud574\\uc678]                              PCI \\ub4c0\\uc5bc \\uc2ac\\ub86f PCI-1520-PDV CardBus PC,/PCMCIA \\uce74\\ub4dc \\uc5b4\\ub311\\ud130 \\ud310\\ub3c5\\uae30,/\\uae30\\ub85d\\uae30 \\ud14d\\uc0ac\\uc2a4 \\uae30\\uae30 P': u'8271546573.jpg',\n",
       " u'[\\uc704\\uc988\\ud648] \\uc2a4\\ud398\\uc15c \\ub77c\\uc6b4\\ub4dc 6\\ub2e8 \\ube68\\ub798\\uac74\\uc870\\ub300 / \\uc774\\ubd88\\ubd09\\ud480\\uc138\\ud2b8(\\uae38\\uc774\\uc870\\uc808\\ud615)': u'8323026117.jpg',\n",
       " u'[\\ud574\\uc678]Twin Blade Hand Mixer': u'8260086881.jpg',\n",
       " u'SHEMA \\ud53c\\ud1a4\\uce58\\ub4dc \\uc0b0\\ub9bc\\uc695\\uae30': u'6573447389.20120906125059.jpg',\n",
       " u'[5%\\uc989\\uc2dc\\ud560\\uc778\\ucfe0\\ud3f0]CVE45/\\uce7c\\uad6d\\uc218\\uc774\\uc5b4\\ud3f0/\\uac00\\uc131\\ube44\\uc774\\uc5b4\\ud3f0/\\ub9ac\\ubaa8\\ucf58\\uc774\\uc5b4\\ud3f0\\ub9c8\\uc774\\ud06c': u'8396094225.jpg',\n",
       " u'[\\uc544\\ud2b8\\ubc15\\uc2a4 POOM(\\uc774\\ubbf8\\uc6a9,\\uc0dd\\ud65c)] (\\uc775\\uc2a4\\ud074\\ub77c\\uba54\\uc774\\uc158\\ub9c8\\ud06c) E053 BROWN': u'7507609662.jpg',\n",
       " u'[\\ud574\\uc678][DreamGEAR][\\uc774\\uc2a4\\ud018\\uc5b4]80678347 DreamGEAR Xbox Orbiter Wireless Controller/100%\\uc815\\ud488/\\uad00\\ubd80\\uac00\\uc138\\ud3ec\\ud568': u'8270850390.jpg',\n",
       " u'[\\ube44\\ub108\\uc2a4]\\ubd80\\ub4dc\\ub7ec\\uc6b4 \\ud638\\ud53c \\ud504\\ub9b0\\ud2b8 \\uc62c\\uc778\\uc6d0vbt0756': u'7985549193.jpg',\n",
       " u'[Us n them]\\uc5b4\\uc2a4\\uc564\\ub380 \\uc5ec\\uc131 \\uce7c\\ub77c\\ube14\\ub7ed \\uac04\\uc808\\uae30\\ucf54\\ud2b8(TAHY101A)': u'8255823142.jpg',\n",
       " u'[5%\\uc989\\uc2dc\\ud560\\uc778\\ucfe0\\ud3f0]CJ\\ud5ec\\ub85c/\\ubc88\\ud638\\uc774\\ub3d9/\\uc635\\ud2f0\\uba38\\uc2a4\\ubdf02/\\ud560\\uc6d00\\uc6d0/\\uac00\\uc785\\uc720\\uc2ec\\uba74\\uc81c': u'8274702425.jpg',\n",
       " u'500GB 7200RPM 16MB WD5000BPKT ': u'5811810814.20121226182341.jpg',\n",
       " u'bs[\\uc560\\ud50c\\uc815\\ud488] iPod Nano 7\\uc138\\ub300 16GB / \\uc544\\uc774\\ud31f\\ub098\\ub178 / \\uc774\\uc5b4\\ud3f0\\ud3ec\\ud568 / \\uc815\\ud488\\ubbf8\\uac1c\\ubd09\\uc0c8\\uc81c\\ud488 / Apple / \\ucd94\\uac00\\uc635\\uc158\\u7121 \\ubc29\\ubb38\\uc218\\ub839, \\ud035 \\uac00\\ub2a5': u'7169690802.jpg',\n",
       " u'[\\ud53c\\uc2dc\\ud3ec\\uc62c] Canston FnD A511K (\\uc2a4\\ud53c\\ucee4/2.1\\ucc44\\ub110) [\\ub2f9\\uc77c\\ubc1c\\uc1a1/\\uc624\\ub298\\ucd9c\\ubc1c]': u'8280373375.jpg',\n",
       " u'[5%\\uc989\\uc2dc\\ud560\\uc778\\ucfe0\\ud3f0]\\uac24\\ub7ed\\uc2dc\\ub178\\ud2b82/\\uc911\\uace0\\ud3f0/\\uc911\\uace0\\uc2a4\\ub9c8\\ud2b8\\ud3f0/\\uac24\\ub7ed\\uc2dc/\\uacf5\\uae30\\uacc4/\\uac243': u'8137462204.jpg',\n",
       " u'[SKT \\ubcf4\\uc0c1\\uae30\\ubcc0] \\uac24\\ub7ed\\uc2dc\\uc708/SHV-E500S/\\ubb34\\uc81c\\ud55c 100 / \\ud560\\ubd80\\uae08 0\\uc6d0/\\uc704\\uc57d\\uae08 4 \\uc801\\uc6a9/\\ubd80\\uac00\\uc11c\\ube44\\uc2a4\\uc5c6\\uc74c/\\uac00\\uc785\\ube44\\uc5c6\\uc74c/\\uae30\\uc874 \\uc720\\uc2ec \\uc0ac\\uc6a9 /24\\uac1c\\uc6d4/LTE \\ud50c\\ub7ec\\uc2a4 \\ud560\\uc778': u'8215978180.jpg',\n",
       " u'[\\ubc15\\uc528\\uc0c1\\ubc29] (2\\uc885)\\uba85\\ud568\\ucf00\\uc774\\uc2a4 USB 16GB \\uba54\\ubaa8\\ub9ac/\\uc5b4\\ud559\\uc5f0\\uc218\\ud648\\uc2a4\\ud14c\\uc774\\uc678\\uad6d\\uc778\\uc120\\ubb3c\\ub85c\\ucd94\\ucc9c': u'8010761823.jpg',\n",
       " u'\\uc798\\ub9cc\\ud14c\\ud06c \\uc798\\ub9cc RADEON HD 7850 DDR5 1G VF1500': u'6807950465.20130319095918.jpg',\n",
       " u'PCD iptime NAS-III 2.5 \\uc678\\uc7a5\\ud558\\ub4dc\\ucf00\\uc774\\uc2a4\\ud558\\ub4dc\\ubbf8\\ud3ec\\ud568 \\ub137\\ud558\\ub4dc nas NAS3 \\uc2a4\\ud1a0\\ub9ac\\uc9c0 \\uc6f9\\ud558\\ub4dc': u'8273144522.jpg',\n",
       " u'[\\ud0dc\\ucc3dOX\\ubc00\\ub77c\\ub178]\\uc591\\uba74\\uace0\\uae09\\uc218\\uc774\\uc911\\uc9c1/\\ub0a8\\uc131\\uc6a9 \\uc21c\\uba74\\ub0b4\\ubcf5\\uc0c1\\ud558 1\\uc138\\ud2b8[MLXV049312/N1]': u'5661781653.jpg',\n",
       " u'\\ub9ac\\ubdf0\\uc548\\ud14c\\ud06c \\ub9ac\\ubdf0\\uc548 mSATA850 128GB': u'6643893492.20140605115222.jpg',\n",
       " u'\\ud53c\\ud1a4\\uce58\\ub4dc \\ud718\\uc0b0\\uc11d/\\ubc29\\ud5a5\\uc81c/\\ud0c8\\ucde8\\uc81c/\\ud53c\\ud1a4\\uce58\\ud2b8': u'8218249480.jpg',\n",
       " u'\\uc5d0\\ucf54\\uc6f0 T30-98B': u'7830223798.20140724112739.jpg',\n",
       " u'BIWIN SATA DOM Vertical D6214 16GB': u'7016604975.20140121165222.jpg',\n",
       " u'[\\ud574\\uc678][\\ud574\\uc678]                              32 \\uae30\\uac00\\ubc14\\uc774\\ud2b8 \\ud074\\ub798\\uc2a4 10 SDHC TS32GSDU1 \\ud504\\ub9ac\\ubbf8\\uc5c4 UHS x 300\\uc744 \\ucd08\\uc6d4-\\ub09c \\uba54\\ubaa8\\ub9ac \\uce74\\ub4dc   \\uace0\\uc18d \\ub9ac\\ub354': u'8271525462.jpg',\n",
       " u'[1300K][\\uc5d8\\ub8e8\\uc774\\uc988]eltop026 \\ud53c\\uce58\\uae30\\ubaa8 \\ud6c4\\ub808\\uc57c \\uce58\\ub9c8\\ub808\\uae45\\uc2a4': u'8155395588.jpg',\n",
       " u'\\uc778\\ud154\\ub9ac piggy CD\\ucf00\\uc774\\uc2a4': u'5422971947.20120211195939.jpg',\n",
       " u'\\uc81c\\ub108\\ub7f4 \\uc544\\uc774\\ub514\\uc5b4 YANNICK \\uceec\\ub809\\uc158 \\ub124\\uc624\\ud3fc \\ucf54\\ud2b8(\\ub0a8)': u'29899110L.jpg',\n",
       " u'[\\uc624\\uac00\\uac8c/SEOBEAN]\\ub204\\ube54\\uce74\\ub77c\\ubc30\\uc0c9 \\ubaa8\\uc9c1\\uc790\\ucf13 SBLBJK21': u'8144912623.jpg',\n",
       " u'\\uc544\\uc774\\ub9ac\\ubc84 P100 IPS Wi-Fi 32G': u'5724950050.20120211164428.jpg',\n",
       " u'\\ud544\\ub9bd\\uc2a4 \\uc18c\\ub2c9\\ucf00\\uc5b4 HX-9332': u'6206217867.20130416171548.jpg',\n",
       " u'[BYC] \\uc22f\\ud65c\\uc131 \\ub0a8\\uc131 \\ub0b4\\ubcf5 \\uc0c1\\ud558 \\uc138\\ud2b8 BYR6447[\\ucc38\\uc22f \\uac00\\uacf5/\\ud55c\\uad6d\\uc0b0 \\uace0\\uae09\\uc81c\\ud488]': u'5696930604.jpg',\n",
       " u'\\uc708\\ud3ec\\ub137 TRIUM-SH3104': u'5702542040.20120211211557.jpg',\n",
       " u'[4%\\uc989\\uc2dc\\ud560\\uc778\\ucfe0\\ud3f0][\\ud574\\uc678] Definitive Technology Sound Cylinder Blue.tooth Sp \\ud574\\uc678\\uc815\\ud488\\uc9c1\\ubc30\\uc1a1 \\uc815\\uc2dd\\ud1b5\\uad00 \\uad00\\ubd80\\uac00\\uc138\\ud3ec\\ud568': u'8229299646.jpg',\n",
       " u'[SKT \\ubc88\\ud638\\uc774\\ub3d9]N910 / \\uac24\\ub7ed\\uc2dc \\ub178\\ud2b84 /612,000\\uc6d0/ 100\\uc694\\uae08\\uc81c/ \\uac00\\uc785\\ube44\\uc5c6\\uc74c/\\uc720\\uc2ec\\ube44\\ud6c4\\ub0a9/\\ubd80\\uac00\\uc5c6\\uc74c/ \\uc57d\\uc81524/ \\uc704\\uc57d\\uae08:\\ub2e8\\ub9d0\\ud560\\uc778\\uae08\\uc561': u'8419662781.jpg',\n",
       " u'(\\uc3d8\\ub85c\\uc0ac\\ub5bc)(6655)\\ub9dd\\uc0ac\\ud30c\\uc6cc\\ub137 \\ub178\\uc640\\uc774\\uc5b4 \\ubab0\\ub4dc \\ube45\\uc0ac\\uc774\\uc988 \\ub9e4\\uc26c\\ube0c\\ub77c\\ub7f0\\ub2dd-3\\uac00\\uc9c0\\uc0c9\\uc0c1': u'8313631305.jpg',\n",
       " u'[\\uc544\\ud2b8\\ubc15\\uc2a4 POOM(\\uc774\\ubbf8\\uc6a9,\\uc0dd\\ud65c)] \\ud30c\\uc6b0\\uce58 \\ubbf8\\ub2c8 \\uc288\\ud06c\\ub9bc\\ud50c\\ub77c\\uc6cc': u'7929855402.1.jpg',\n",
       " u'COMS[\\ucef4\\uc2a4] U3373 USB \\ub9ac\\ubaa8\\ucf58/PC\\uc6a9 \\uba40\\ud2f0 \\ub9ac\\ubaa8\\ucf58/\\uc801\\uc678\\uc120/\\ud53c\\uc528 \\ud30c\\uc6cc \\ucee8\\ud2b8\\ub864\\ub7ec/\\uc774\\uba54\\uc77c/\\uc6f9\\uc11c\\ud551/\\ub9c8\\uc6b0\\uc2a4': u'6974458914.1.jpg',\n",
       " u'[ATEN]2L-1010P/PS/2 KVM \\ucf00\\uc774\\ube14 2L-1010P/PS/2 KVM Cables [PCP0105]': u'8274647362.jpg',\n",
       " u'\\uc2dc\\ud050\\uc778\\ud3ec SENTRY-5416': u'4091774522.20120211205644.jpg',\n",
       " u'CP 2015 LT /   AutoCAD 3rd party / cp2015LT / cp2015 / CPLT2014': u'8249917494.jpg',\n",
       " u'[4%\\uc989\\uc2dc\\ud560\\uc778\\ucfe0\\ud3f0]\\ucf00\\uc774\\ud0d1\\uc544\\uc774\\uc564\\ud2f0 KT-780 \\uac8c\\uc774\\ubc0d \\uc7a5\\ud328\\ub4dc (\\ube14\\ub8e8\\ub77c\\uc778)': u'8280746517.jpg',\n",
       " u'[\\uc2e0\\ub3c4\\ub9e4\\uc720\\ud1b5 \\ud50c\\ub7ec\\uc2a4\\ubab0]HDR-XR160/HDR-XR260/DCR-SX45 \\uc18c\\ub2c8 \\ud578\\ub514\\ucea0\\ucf54\\ub354': u'7492922253.jpg',\n",
       " u'[\\uc0bc\\uc131\\uce74\\ub4dc 5%\\ud560\\uc778, 2/8~2/9][\\ubbf8\\ub2c8\\ud32c \\uce90\\ub9ac\\ubc31\\uc99d\\uc815]\\ud5cc\\ud130 \\uc5d0\\uc5b4\\uc11c\\ud058\\ub808\\uc774\\ud130 HA-1900': u'8250480691.jpg',\n",
       " u'[4%\\uc989\\uc2dc\\ud560\\uc778\\ucfe0\\ud3f0][\\ud574\\uc678] GFCI Plug 2 Poles 2 Wires 10A Right Angle Leakage  \\ucd5c\\uc800\\uac00 \\ud574\\uc678\\uad6c\\ub9e4\\ub300\\ud589 \\uc804\\ubb38\\uc11c\\ube44\\uc2a4': u'8261674216.jpg',\n",
       " u'[5%\\uc989\\uc2dc\\ud560\\uc778\\ucfe0\\ud3f0]KT \\uac24\\ub7ed\\uc2dc\\uadf8\\ub79c\\ub4dc2 G710K A\\uae09 \\uacf5\\uae30\\uacc4': u'8389354724.jpg',\n",
       " u'[\\ud574\\uc678][\\uad6c\\ub9e4\\ub300\\ud589][B00AZVGFEE] INA114AU': u'8266274112.jpg',\n",
       " u'[\\ud574\\uc678]TV Stick Tronsmart T1000 Mirror2 Dongle Wireless Display Miracast AirPlay EZCast Full HD 1080P H': u'8266128731.jpg',\n",
       " u'3g\\uc2a4\\ub9c8\\ud2b8\\ud3f0/LG\\uc720\\ud50c\\ub7ec\\uc2a4\\uc815\\uc2dd\\ub300\\ub9ac\\uc810/\\ud654\\uc6e8\\uc774X3': u'8157170454.jpg',\n",
       " u'[\\uc0bc\\uc131\\uce74\\ub4dc5%\\ud560\\uc778~15\\uc77c\\uae4c\\uc9c0][\\ubbf8\\ub2c8\\uba48]\\ud56b\\ud53d\\uc2a4 \\uc7a5\\uc2dd \\ub808\\uc774\\uc5b4 \\uc6d0\\ud53c\\uc2a4 \\ub124\\ud06c\\ub9ac\\uc2a4 MOCAWO7010BK': u'7949318681.jpg',\n",
       " u'\\uc0bc\\uc131\\uc804\\uc790 850 series EVO MZ-75E250B/KR 250GB': u'8235161543.20150121165511.jpg',\n",
       " u'[4%\\uc989\\uc2dc\\ud560\\uc778\\ucfe0\\ud3f0]\\ub514\\uc5d4\\ud638\\ud504  \\ub514\\uc564\\ud638\\ud504   \\ub9ac\\ubdf0\\uc548\\ud14c\\ud06c  Warp USB 3.0 SSD (128GB)': u'7828546444.jpg',\n",
       " u'\\ube44\\ub108\\uc2a4 \\uba74\\ud3f4\\ub9ac \\uc2a4\\ud2b8\\ub77c\\uc774\\ud504 \\uc7c8\\uceac\\ub4dc \\ub7f0\\ub2dd VMV3404': u'8325049161.20150227074610.jpg',\n",
       " u'\\uc544\\ub514\\ub2e4\\uc2a4 \\ud2f0\\ub85c 15 \\ud2b8\\ub808\\uc774\\ub2dd \\ubc18\\ud314 \\uc800\\uc9c0(S22308) \\ube14\\ub799 \\ub2e8\\uccb4 \\ubc18\\ud314 \\ud2f0\\uc154\\uce20 \\ucd95\\uad6c\\uc720\\ub2c8\\ud3fc': u'8196272098.jpg',\n",
       " u'NETmate KVM 2-in-1 \\ucf00\\uc774\\ube14 10M (RGB) 3L-16100PU': u'7559080555.jpg',\n",
       " u'[4%\\uc989\\uc2dc\\ud560\\uc778\\ucfe0\\ud3f0]\\uc2e0\\ub3c4\\ub9e4\\uc720\\ud1b5-VGN-UX58 \\uc18c\\ub2c8 SONY UMPC \\uc804\\uc6a9 4.5\\uc778\\uce58 \\uc561': u'8247605196.jpg',\n",
       " u'[NETGEAR PTV3000] Intel WiDi \\ud0d1\\uc7ac\\ub41c \\ub178\\ud2b8\\ubd81\\uc5d0\\uc11c \\ub300\\ud615\\uc2a4\\ud06c\\ub9b0TV \\ud480HD\\ud654\\uba74\\uc73c\\ub85c \\ubbf8\\ub77c\\uce90\\uc2a4\\ud2b8 \\uc9c0\\uc6d0': u'8242176723.jpg',\n",
       " u'[AK\\ubab0/\\ub098\\uc774\\ud0a4(NIKE)]  [NIKE \\ub9e4\\uc7a5\\u6b63\\u54c1] \\ub098\\uc774\\ud0a4 \\uc758\\ub958 \\uc5ec\\uc131 \\uc9d0 \\ube48\\ud2f0\\uc9c0 \\uce74\\ud504\\ub9ac\\ud32c\\uce20 AS NIKE GYM VINTAGE CAPRI(\\uba5c\\ub780\\uc9c0\\uadf8\\ub808\\uc774) 668934-050': u'8305020671.jpg',\n",
       " u'[BC\\uce74\\ub4dc5%\\ud560\\uc778][\\ubc14\\ubcf4\\uc0ac\\ub791]M SIMPLE \\ubc94\\ud37c\\ucf00\\uc774\\uc2a4-\\uc635\\ud2f0\\uba38\\uc2a4G\\ud504\\ub85c2(F350)': u'7755613265.1.jpg',\n",
       " u'DAM GA-1503': u'5590921848.20120211200509.jpg',\n",
       " u'1300K MAXTEK[\\ub9e5\\uc2a4\\ud14d] MAXTEK VESA\\uaddc\\uaca9 3\\ub2e8 \\uad00\\uc808\\ud615 \\ubaa8\\ub2c8\\ud130 \\ucd94\\uac00\\uc6a9 \\uc554': u'6909877208.jpg',\n",
       " u'\\ub0a8\\uc5449\\ubd80\\ubc14\\uc9c0': u'6911442988.1.jpg',\n",
       " u'[\\ud574\\uc678]DEK PROT Full / Magic/Naruto/Pokemon Sized Card... [\\ud574\\uc678\\uc1fc\\ud551/\\uc544\\ub9c8\\uc874\\uc0c1\\ud488/\\ud574\\uc678\\uc815\\ud488]': u'8274247385.jpg',\n",
       " u'EK\\uba54\\ubaa8\\ub9ac 2G DDR3 10600 CL9 EKM': u'5493357325.20120211195127.jpg',\n",
       " u'\\ub2cc\\ud150\\ub3c4 Wii   Wii Fit, Wii \\uc2a4\\ud3ec\\uce20 \\ub9ac\\uc870\\ud2b8': u'5682427268.20120211173955.jpg',\n",
       " u'PURPLOW/\\ud37c\\ud50c\\ub85c\\uc6b0 \\ud050\\ube0c \\ud328\\ub529\\uc870\\ub07c(PNFWJP659)': u'8142246184.jpg',\n",
       " u'[\\ud604\\ub300\\uce74\\ub4dc 5%\\ud560\\uc778, 3/15]\\ubc84\\ucee4\\ub8e8 \\uc5ec\\uc131 \\ubbf8\\ub2c8\\ucbb8\\ub9ac \\uc804\\ud310\\ud50c\\ub77c\\uc6cc MTM(B151TS680P)': u'8268078083.jpg',\n",
       " u'[4%\\uc989\\uc2dc\\ud560\\uc778\\ucfe0\\ud3f0]\\uad70\\ud654/\\ub2e8\\uccb4\\uc6a9/\\uace8\\ud504\\uc7a5/\\uad50\\ud68c/\\ud68c\\uc0ac/\\uacf5\\uc7a5/\\ud559\\uad50/\\uae30\\uc219\\uc0ac/\\ub2e8\\uccb4/\\uc2e0\\ubc1c\\uc18c\\ub3c5\\uae30/\\uc2e0\\ubc1c\\uc18c\\ub3c5\\uac74\\uc870\\uc0b4\\uade0/12\\ucf24\\ub808/\\uc804\\ud22c\\ud654\\uac74\\uc870\\uc6a9': u'6575804724.1.jpg',\n",
       " u'[fashionplus]\\ud55c\\uad6d\\uc0dd\\uc0b0 \\uc57c\\uc639\\uc774 \\uc154\\uce20\\ud6c4\\ub4dc\\uc624\\ubc84\\ub864  3\\uc885 \\uc138\\ud2b8 \\ud551\\ud06c (0-24\\uac1c\\uc6d4) 201630': u'8107328106.jpg',\n",
       " u'[\\ud328\\uc158\\ud50c\\ub7ec\\uc2a4][ELLE_under(AK PLAZA)]\\uc5d8\\ub974\\uc774\\ub108 \\uadf8\\ub9b0\\ub124\\uc774\\ube44\\uc2a4\\ud2b8\\ub77c\\uc774\\ud504\\ud150\\uc140\\ub0a8\\uc131\\ub4dc\\ub85c\\uc988EHD7281': u'8250797382.jpg',\n",
       " u'[fashionplus][BYC] \\uc22f\\ud65c\\uc131 \\ub0a8\\uc131 \\ub0b4\\uc758 \\uc0c1\\ud558 \\uc138\\ud2b8 BYR6447': u'8112134169.jpg',\n",
       " u'[4%\\uc989\\uc2dc\\ud560\\uc778\\ucfe0\\ud3f0]KVM \\ucf00\\uc774\\ube14(\\uc5f0\\uc7a5 VGA) 15M': u'8277633580.jpg',\n",
       " u'[BC\\uce74\\ub4dc5%\\ud560\\uc778][\\ub298\\uc0ac\\ub791] \\ub178\\ub791 \\uc790\\uc218\\ub2f9\\uc758(1280-09 \\uc544\\ub3d9\\uc5ec)': u'6568021696.17.jpg',\n",
       " u'[BYC] \\ubca0\\uc774\\uc9c1 \\ub0a8\\uc131 \\ud0c0\\uc774\\uc988 1\\uc885 BYL9049_P008443985': u'6693276785.jpg',\n",
       " u'[5%\\uc989\\uc2dc\\ud560\\uc778\\ucfe0\\ud3f0]\\ud32c\\ud0dd \\ube0c\\ub9ac\\uc988\\ud3f0 P-2100/\\uc0c8\\uc81c\\ud488/\\uacf5\\uae30\\uacc4/3G\\ud3f0/SK/KT\\uac00\\ub2a5': u'8265085317.jpg',\n",
       " u'[LF]TOWNGENT \\ub124\\uc774\\ube44 \\ub871 \\ucf54\\ud2b8(TMH14D253NV)': u'8037153467.jpg',\n",
       " u'[16% \\uc989\\uc2dc\\ud560\\uc778]\\uc5d4\\ud130\\uc2dd\\uc2a4/\\ub9ac\\uc2a4\\ud2b8/LIST/\\uc655\\uc2ed\\ub9ac\\uc810/\\uc5ec\\uc131\\ube14\\ub77c\\uc6b0\\uc2a4/TWSTF50140': u'8312235109.jpg',\n",
       " u'[\\uc5d8\\ub974\\uc774\\ub108\\uc6e8\\uc5b4] \\ub7ec\\ube14\\ub9ac\\ud55c \\ud558\\ud2b8\\ub098\\uc5fc \\ub0a8\\uc131\\ud2b8\\ub801\\ud06c [EHX7315]': u'7678170893.jpg',\n",
       " u'\\ud6a8\\ub3c4\\ud3f0/\\uc5b4\\ub9b0\\uc774\\ud578\\ub4dc\\ud3f0\\ucd94\\ucc9c/\\uc774\\ub9c8\\ud2b8\\uc54c\\ub730\\ud3f0\\ub2e8\\ub9d0\\uae30': u'8152143419.jpg',\n",
       " u'[\\ud604\\ub300\\uce74\\ub4dc5%\\ud560\\uc778][\\uc2e0\\uc77c] 5.6Kg/\\uc54c\\ub958\\ubbf8\\ub284\\ud0c8\\uc218\\ud1b5/\\ud0c8\\uc218\\uc548\\uc804\\uc7a5\\uce58/5\\ubd84\\ud0c0\\uc774\\uba38/\\uc9e4\\uc21c\\uc774 \\uc2e0\\uc77c\\ud0c8\\uc218\\uae30 SDM-K750': u'8276105628.jpg',\n",
       " u'\\uc0cc\\ub514\\uc2a4\\ud06c Basic SSD 64GB': u'6636000096.20121017180139.jpg',\n",
       " u'\\uc778\\ud154 \\uc81c\\uc628 \\uc544\\uc774\\ube0c\\ub9bf\\uc9c0 E3-1240V2': u'6573389955.20120917142627.jpg',\n",
       " u'[4%\\uc989\\uc2dc\\ud560\\uc778\\ucfe0\\ud3f0](\\uc6f0\\ube59\\ub2e4\\uc774\\uc5b4\\ud2b8)\\uc640\\uc778(\\uacfc\\uc2e4\\uc8fc)/\\uac10\\uc2dd\\ucd08 \\uc81c\\uc870\\uae30 W-1000(\\uc694\\uad6c\\ub974\\ud2b8/\\uccad\\uad6d\\uc7a5 \\uae30\\ubcf8)\\uc2dd\\ucd08': u'5493919059.1.jpg',\n",
       " u'[9% \\uc989\\uc2dc\\ud560\\uc778]\\ud06c\\ub9ac\\ube44\\uc544  \\ud06c\\ub9ac\\ube44\\uc544  \\ud3f4\\ub9ac \\uc0e4\\ubba4\\uc988 V\\ub125 \\uc5ec\\uc131 \\ucf00\\ubbf8\\uc194 \\uc0c1\\ud558\\uc138\\ud2b8(CS5302A/5302P)': u'7287962710.1.jpg',\n",
       " u'[\\ud574\\uc678][\\uad6c\\ub9e4\\ub300\\ud589][B007XZ2X8W] Amphenol Industrial PT06SE-20-16S(SR) Circular Connector Socket Environ': u'8266285956.jpg',\n",
       " u'XBOX ONE PS4 \\ucee8\\ud2b8\\ub864\\ub7ec \\ubcf4\\ud638\\ucea1 \\uba40\\ud2f0\\ubc84\\ud2bc\\ud0b7 \\ubc84\\ud2bc\\ucea1': u'8159724180.jpg',\n",
       " u'[\\ud574\\uc678]  \\ud574\\uc678\\ube60\\ub978\\ubc30\\uc1a1  \\ub274\\uc695\\ub9e4\\ub2c8\\uc544 HomeArts/HomeArts Countr \\ud574\\uc678 \\uc815\\ud488 \\uc9c1\\ubc30\\uc1a1': u'8278188697.jpg',\n",
       " u'\\ube44\\ube44\\uc548 [\\ub86f\\ub370\\ubc31\\ud654\\uc810]\\uc7c8\\uac00\\ub4dc\\uba74\\ub9ac\\uc624\\uc140\\ud3f4\\ub9ac\\ub0a8\\uc131\\ub7f0\\ub2dd2\\uc885\\uc911\\ud0dd1(RU1356)': u'8269613140.jpg',\n",
       " u'[\\ud574\\uc678] 2014 Winter Warm Waterproof Ski Pants Trousers Child Skiing Pants Baby Bib Overalls 80-90cm Thi': u'8313495180.jpg',\n",
       " u'[fashionplus][\\uc62c\\uc820] \\uc2a4\\ud310 \\ud3ec\\ucf13\\ud3ec\\uc778\\ud2b8 \\ucef4\\ud3ec\\ud2b8\\ud54f \\uc790\\ucf13(ZOT1KC1301)': u'8296071478.jpg',\n",
       " u'[\\uac8c\\uc2a4\\ud0a4\\uc988]\\uc2a4\\ucee4\\ud2b8\\ub808\\uae45\\uc2a4G41KCP031-\\ube14\\ub799/\\uadf8\\ub808\\uc774 2\\uac00\\uc9c0\\uc0c9\\uc0c1': u'8243105491.jpg',\n",
       " u'PMR423PMT347 \\ud3f4\\ubc0b \\uc21c\\uba74 \\ub2c8\\ud2b8 \\ub0a8\\uc131 \\ub7f0\\ub2dd \\ud2b8\\ub801\\ud06c \\ud32c\\ud2f0 6\\uc885\\uc138\\ud2b8': u'7847422583.jpg',\n",
       " u'[\\ud574\\uc678]\\uba54\\uc774\\uc2dc\\uc2a4\\ucf54\\ub9ac\\uc544/JUJEO Butterfly Pattern TPU Case for iPod touch 5/JUJEO/30087367/100%\\uc815\\ud488/\\ud574\\uc678\\uad6c\\ub9e4\\ub300\\ud589/MacysKore': u'8281844021.jpg',\n",
       " u'[\\ud604\\ub300\\ubc31\\ud654\\uc810\\u2163\\uad00]\\uc7ad\\uc564\\uc9c8(31141JK004) \\ub370\\ub2d8\\uc6cc\\uc2f1\\uc7c8\\ucf13': u'8299490879.jpg',\n",
       " u'PS4 \\ub4c0\\uc5bc\\uc1fc\\ud06c4 XBOXONE \\uc544\\ub0a0\\ub85c\\uadf8\\uc2a4\\ud2f1 \\uc218\\ub9ac \\uac1c\\uc870 \\uad50\\ud658  \\uc644\\ubcbd\\uc791\\ub3d9 2\\uac1c 1SET(con_CAP)': u'8249233653.jpg',\n",
       " u'\\uc758\\ub958\\uac74\\uc870\\uae30\\uc758 \\ud601\\uba85 \\ud788\\uce20 \\uc804\\uae30 \\uc758\\ub958\\uac74\\uc870\\uae30 HD-500S (\\uac74\\uc870\\uc6a9\\ub7c9 5kg)': u'7775803881.jpg',\n",
       " u'\\uacf5\\uae30\\uc0b4\\uade0\\uccad\\uc815\\uae30 \\ud06c\\ub9b0\\ucf00\\uc5b4(\\uc2a4\\ud150\\ub4dc\\ud615) HAS-7001': u'8196257182.jpg',\n",
       " u'[6%\\uc989\\uc2dc\\ud560\\uc778\\ucfe0\\ud3f0]DA-SFTP14P1G-15M\\ubb34\\uc0b0\\uc18c\\ub3d948shieldUTPUTPCAT6\\ub79c\\ub124\\ud2b8\\uc6cc': u'8283839172.jpg',\n",
       " u'\\ubc14\\ubcf4\\uc0ac\\ub791[\\uc720\\uc5d0\\ub108\\uc2a4]\\uc720\\uc5d0\\ub108\\uc2a4 \\ud30c\\uc2a4\\ud154 \\uc5d0\\ubc84 \\uce74\\ub4dc\\ud615 USB\\uba54\\ubaa8\\ub9ac 8GB': u'7772521227.jpg',\n",
       " u'\\ub85c\\uc9c0\\ud14d \\ud50c\\ub808\\uc774\\uae30\\uc5b4 \\ud3ec\\ucf13': u'1100140322.20120211202131.jpg',\n",
       " u'[4%\\uc989\\uc2dc\\ud560\\uc778\\ucfe0\\ud3f0]\\ub0b4\\uc7a5 \\uc18c\\ub2c8 SONY \\ube14\\ub8e8\\ub808\\uc774 \\ucf64\\ubcf4 BC-5500H \\uc77d\\uae30 \\uac00\\ub2a5': u'8048346466.jpg',\n",
       " u'[BC\\uce74\\ub4dc5%\\ud560\\uc778][raymon homme][\\ub808\\uc774\\uba3c \\uc634\\ubbc0] \\uae30\\ud68d \\uc2a4\\ud0a4\\ub2c8 \\ud2b8\\ub808\\uc774\\ub2dd \\ud32c\\uce20 RH1084SP-1[\\ud328\\uc158\\ud50c\\ub7ec\\uc2a4]': u'7976858346.jpg',\n",
       " u'[AK\\ubab0/\\ub137\\uba54\\uc774\\ud2b8]  NETmate HT-750R/HT-850R \\uc77c\\ubc18 Category6/5 \\ub2e4\\uc774 [HT-750DIE]': u'6513332676.1.jpg',\n",
       " u'[4%\\uc989\\uc2dc\\ud560\\uc778\\ucfe0\\ud3f0] EFM  ipTIME NAS3 1\\ubca0\\uc774 NAS  \\ud558\\ub4dc \\ubbf8\\ud3ec\\ud568': u'8284131583.jpg',\n",
       " u'[14% \\uc989\\uc2dc\\ud560\\uc778]AKMALL  \\ud0a4\\uc988\\ub098\\ub77c  \\ucf54\\uc2a4\\ud2ac \\ud560\\ub85c\\uc708 \\ub9c8\\ubc95\\ub9dd\\ud1a0 \\ubaa8\\uc790\\uc138\\ud2b8': u'7400535115.1.jpg',\n",
       " u'3M \\ud654\\uc9c0\\uc591\\uba74\\ud14c\\uc774\\ud504 15mm x 50M \\ubc18\\ud22c\\uba85 \\ubc31\\uc0c9\\uc758 \\uc587\\uc740 3M \\uc815\\ud488 \\uc591\\uba74\\ud14c\\uc774\\ud504': u'8263169133.jpg',\n",
       " u'[5% \\uc989\\uc2dc\\ud560\\uc778]\\ube44\\uc640\\uc774\\uc528  BYC  \\uc2e0\\uc0ac \\ud53c\\ubd80\\uc5d0 \\uc21c\\ud55c \\uc21c\\uba74 \\uad6d\\uc0b0\\uc81c\\ud488 \\ud504\\ub9ac\\ubbf8\\uc5c4 \\ud654\\uc774\\ud2b8 \\ubc18\\ud314\\ub7f0\\ub2dd 1\\ub9e4/\\uba74\\ub7f0\\ub2dd 4292': u'7694263385.jpg',\n",
       " u'[\\ud574\\uc678] MP3 Battery For SONY NW-S710, NWZ-S600, NWZ-S600F, NWZ-S610, NWZ-S615, NWZ-S615F, NWZ-S616, NWZ': u'8327119391.jpg',\n",
       " u'\\uc0bc\\uc131\\uc804\\uc790 UN65HU8500F': u'7597811124.20140408111519.jpg',\n",
       " u'\\ub178\\ud2b8\\ubd81\\ud14c\\uc774\\ube14 (\\uc8fc)\\uc704\\ub4dc\\uc528\\uc5d4\\uc5d0\\uc2a4 \\ucf69\\uc2a4\\ud1a0\\uc5b4': u'8277069620.jpg',\n",
       " u'GGS \\uc561\\uc815\\ubcf4\\ud638\\ucee4\\ubc84 \\uc18c\\ub2c8 A5000 \\uc804\\uc6a9 (\\ucd5c\\uace0\\uae09/LARMOR)': u'8280332607.jpg',\n",
       " u'DELL S2340L LED\\ubaa8\\ub2c8\\ud130': u'8274228587.jpg',\n",
       " u'[\\ud0a4\\uc988\\ub098\\ub77c] \\ucf54\\uc2a4\\ud2ac \\ud560\\ub85c\\uc708 \\uaca8\\uc6b8\\uc655\\uad6d_\\uc548\\ub098 \\ub4dc\\ub808\\uc2a4 \\uace0\\uae09\\ud615(\\ub4dc\\ub808\\uc2a4 \\ub9dd\\ud1a0 \\uc655\\uad00 \\uacf5\\uc8fc\\ubd09 \\uc548\\ub098\\uba38\\ub9ac\\ud540\\uc18c\\ud488)': u'7767572362.jpg',\n",
       " u'\\ubb34\\ub0d0\\ubb34\\ub0d0 [\\ub86f\\ub370\\ubc31\\ud654\\uc810]\\ubb34\\ub0d0\\uc232\\uc18d\\uce5c\\uad6c\\ube0c\\ub77c1 MAYACFFF10': u'8319579491.jpg',\n",
       " u'\\ud734\\ub300\\ud3f0\\uc694\\uae08\\ub0a9\\ubd80/\\ucd94\\ucc9c\\ud578\\ub4dc\\ud3f0/\\ucd94\\ucc9c\\uc2a4\\ub9c8\\ud2b8\\ud3f0': u'8157172066.jpg',\n",
       " u'[\\uc544\\ub514\\ub2e4\\uc2a4] \\ud2f0\\ub85c 15 \\ud2b8\\ub808\\uc774\\ub2dd \\uc800\\uc9c0 S/S (\\uc544\\ub514\\ub2e4\\uc2a4 \\ubc18\\ud314) [S22308]': u'8085459092.jpg',\n",
       " u'Coms SVHS \\ubd84\\ubc30\\uae30 21 [PCD1794]': u'8277736325.jpg',\n",
       " u'DA-MULTI CLIPS(6\\uc0c9) \\ub2e4\\ubaa9\\uc801 \\uba40\\ud2f0 \\ud640\\ub354[\\ub2f9\\uc77c\\ucd9c\\uace0(\\uc624\\ub298\\ucd9c\\ubc1c)]': u'8284010628.jpg',\n",
       " u'[5% \\uc989\\uc2dc\\ud560\\uc778]\\ubc14\\ubcf4\\uc0ac\\ub791 \\ubaa8\\ub2c8\\uc988 (CT)048. \\ub0a0\\uac1c \\uba5c\\ud1a4 \\uc2f1\\uae00 \\ub9e5\\ucf54\\ud2b8(\\ubb34\\ub8cc\\ubc30\\uc1a1)': u'8305660235.jpg',\n",
       " u'\\ud2b8\\ub7ec\\uc2a4\\ud2b8\\ub9c8\\uc2a4\\ud130 T500 RS \\ub808\\uc774\\uc2f1 \\ud720': u'5760879916.20120211200416.jpg',\n",
       " u'\\ud038\\uc2a4 \\ubbf8\\ub2c8 \\uace0\\ub370\\uae30 BB-QM1(\\uc804\\uc6a9\\ud30c\\uc6b0\\uce58\\uc99d\\uc815)/\\uc2e4\\ub9ac\\ucf58 \\uc138\\ub77c\\ubbf9 \\ub4c0\\uc5bc \\ubc1c\\uc5f4\\ud310/\\ud574\\uc678\\uacb8\\uc6a9/\\ud734\\ub300\\uc6a9\\uace0\\ub370\\uae30/\\ub9e4\\uc9c1\\uae30/200\\ub3c4\\uc608\\uc5f4/\\uad6d\\uc0b0\\ud2b9\\ud5c8/\\ub0a8\\ub140\\uacf5\\uc6a9/\\ub2e8\\ubc1c\\uba38\\ub9ac': u'8103553634.jpg',\n",
       " u'\\uc6cc\\ub108\\ube0c\\ub77c\\ub354\\uc2a4 \\ud53c\\uc5b4 2 : \\ud504\\ub85c\\uc81d\\ud2b8 \\uc624\\ub9ac\\uc9c4': u'5362306784.20120211210512.jpg',\n",
       " u'(IN) Seagate 4TB Enterprise NAS ST4000VN0001 SATA3/7200 [\\uc528\\uac8c\\uc774\\ud2b8 \\ub370\\uc2a4\\ud06c\\ud0d1 \\ud558\\ub4dc]': u'8427398010.jpg',\n",
       " u'\\uc790\\uc678\\uc120 \\uce6b\\uc194 \\uae30 32\\uc778\\uc6a9/\\ucef518\\uac1c/KRS-TBC/\\uc790\\uc678\\uc120\\uce6b\\uc194 \\uae30/\\ubcbd\\uac78\\uc774\\ud615\\uce6b\\uc194 \\uae30/\\uc2a4\\ud0e0\\ub4dc': u'8250083876.jpg',\n",
       " u'\\uce74\\uc774\\uc544\\ud06c\\ub9cc \\uc2a4\\ud0a4\\ub2c8 \\ucf54\\ud305\\uc18c\\uc7ac \\ubc14\\uc9c0 KLADP355M0': u'7654894891.20140428124617.jpg',\n",
       " u'[5%\\uc989\\uc2dc\\ud560\\uc778\\ucfe0\\ud3f0]\\uacf5\\uae30\\uacc4\\uc0c8\\uc81c\\ud488 SKT KT LGT \\ud3f4\\ub354\\ud3f0 \\ud6a8\\ub3c4\\ud3f0 3G 2G \\ubbf8\\uc0ac\\uc6a9 \\uc804\\uc0c1\\ud488 \\ub2f9\\uc77c\\ucd9c\\uace0 100\\uc5ec\\uc885 \\uacf5\\uae30\\uacc4 \\ubc15\\uc2a4\\ud480\\uc14b \\uc0ac\\uc740\\ud488\\uc99d\\uc815': u'8266732511.jpg',\n",
       " u'ipTIME(\\uc544\\uc774\\ud53c\\ud0c0\\uc784) N900UA \\ubb34\\uc120\\ub79c 11n \\ub4c0\\uc5bc\\ubc34\\ub4dc [PCD3224]': u'8278058991.jpg',\n",
       " u'[\\ud574\\uc678]\\ub77c\\uc774\\ud2b8 \\uc628 TVT-1060 TVT1060 \\ubbf8\\ub2c8 PCI-E\\uc758 DVB-T \\uc544\\ub0a0\\ub85c\\uadf8 Hybird HD TV \\uce74\\ub4dc/Lite-On TVT-1060 TVT1060 Mini PCI-e': u'8207937347.jpg',\n",
       " u'[\\ud574\\uc678] Brand New 2014 Newest Women knitted Loose Geometry Printed Long Sleeve Pullover Sweaters Big Si': u'8313530361.jpg',\n",
       " u'[PCD9024] \\uc544\\ub2f5\\ud130/DC 12V/ 4.0A/LCD \\ubaa8\\ub2c8\\ud130\\uc6a9/110V-220V\\uacb8\\uc6a9': u'8264989576.jpg',\n",
       " u'[CC collect] [AK\\ud50c\\ub77c\\uc790][CC collect] \\ubaa9\\uac78\\uc774 SET \\uc2ac\\ub9bc\\ub77c\\uc778 \\uc6d0\\ud53c\\uc2a4 (C143 MSE 010)_P017845204': u'8067559653.jpg',\n",
       " u'[CC collect] [AK\\ud50c\\ub77c\\uc790][CC collect] \\ubaa9\\uac78\\uc774 SET \\uc2ac\\ub9bc\\ub77c\\uc778 \\uc6d0\\ud53c\\uc2a4 (C143 MSE 010)_P017845205': u'8067315191.jpg',\n",
       " u'[KB\\uad6d\\ubbfc\\uce74\\ub4dc 5%\\ud560\\uc778, 3/14]\\ud53c\\ucf00 \\uc624\\ubc84 \\ucf54\\ud2b8 (NS 144)': u'8290328785.jpg',\n",
       " u'[TRANSCEND] [\\ud2b8\\ub79c\\uc13c\\ub4dc] TX2133KLN-8GK  DDR3-2133 \\uc9c4\\ubcf4\\ub41c \\uace0\\uc131\\ub2a5 \\uac8c\\uc774\\ubc0d \\uc804\\uc6a9\\uba54\\ubaa8\\ub9ac, \\uc624\\ubc84\\ud074\\ub7ed 8GB': u'8165734216.jpg',\n",
       " u'[\\ud574\\uc678][\\uad6c\\ub9e4\\ub300\\ud589][B00AZV40ZA] REF43GPZ': u'8266267605.jpg',\n",
       " u'\\ub2cc\\ud150\\ub3c4 \\ub9c8\\ub9ac\\uc624\\uc640 \\uc18c\\ub2c9 \\ub7f0\\ub358 \\uc62c\\ub9bc\\ud53d': u'6469464469.20120613180558.jpg',\n",
       " u'[4%\\uc989\\uc2dc\\ud560\\uc778\\ucfe0\\ud3f0][\\ud574\\uc678] LARGE FEED BELT \\ucd5c\\uc800\\uac00 \\ud574\\uc678\\uad6c\\ub9e4\\ub300\\ud589 \\uc804\\ubb38\\uc11c\\ube44\\uc2a4': u'8261615528.jpg',\n",
       " u'LG\\uc804\\uc790 50PA4300': u'6203391597.20130329183117.jpg',\n",
       " u'[Wacoal] [AK\\ud50c\\ub77c\\uc790][\\uc640\\ucf54\\ub8e8]\\ub9c8\\uc774\\ud06c\\ub85c \\ubaa8\\ub2ec \\uce7c\\ub77c \\uba5c\\ub780 \\uc2a4\\ud2b8\\ub77c\\uc774\\ud504(\\uc544\\uc6c3\\ubc34\\ub4dc\\ud504\\ub9ac\\ud54f)\\ub4dc\\ub85c\\uc988(WMP8813)_P019947321': u'8167205425.jpg',\n",
       " u'\\ubc14\\ubcf4\\uc0ac\\ub791[\\ub9e5\\uc2a4\\ud14d]MAXTEK DELTA11 \\ub178\\ud2b8\\ubd81\\uc7a0\\uae08\\uc7a5\\uce58 \\ucf00\\uc774\\ube14\\ub77d \\ub378\\ud0c011[\\ubb34\\ub8cc\\ubc30\\uc1a1]': u'7819453140.jpg',\n",
       " u'(K)\\ud558\\ub4dc\\ub514\\uc2a4\\ud06c \\ubcf4\\ud638 \\ucf00\\uc774\\uc2a4/3.5/5\\uac1c \\uc218\\ub0a9\\uac00\\ub2a5 [PCD10499]': u'8277544177.jpg',\n",
       " u'EFM\\ub124\\ud2b8\\uc6cd\\uc2a4 ipTIME A5004NS': u'8178349700.20150107141642.jpg',\n",
       " u'[\\uc5e0\\ube44\\uc624]\\uc5e0\\ube44\\uc624 F/W \\uadf8\\ub9b0 \\ub85c\\uc6b0\\uac8c\\uc774\\uc9c0 \\ub77c\\uc6b4\\ub4dc\\ub125 \\uc6b8\\ud63c\\ubc29 \\uc2a4\\uc6e8\\ud130(MK4Y51004M)': u'8217845195.1.jpg',\n",
       " u'[18% \\uc989\\uc2dc\\ud560\\uc778]BYC\\uc5ec\\uc131 \\uc21c\\uba74 \\ubca0\\uc774\\uc9c1 \\ubbfc\\uc18c\\ub9e4\\uc5ec\\ub7f0\\ub2dd(C1906)': u'8220284192.jpg',\n",
       " u'[\\ud574\\uc678]SeagateSeagate FreeAgent Theater HD Media Player STCEA101-RK': u'8275722451.jpg',\n",
       " u'[\\ud2f0\\uc544\\uc774\\ud3ec\\ub9e8]\\uadf8\\ub808\\uc774\\uce7c\\ub77c \\uc2ac\\ub9bc\\ud54f \\ud328\\ub529\\uc790\\ucf13 - M148MJK805(AKBD) (\\uae30\\uc874\\uac00:548000\\uc6d0)': u'8214162696.jpg',\n",
       " u'[\\ud544\\uace8\\ub4dc] K552nK557 \\uccb4\\ud06c\\ud328\\ud134 \\ud5c8\\ub9ac\\ubc34\\ub4dc \\uace8\\ud504\\ud32c\\uce20[[]': u'8146401548.jpg',\n",
       " u'\\uce90\\ub17c\\uc815\\ud488 EOS 100D(18-55mm IS STM   40mm) \\ube14\\ub799 \\ub354\\ube14 \\ub80c\\uc988\\ud0b7 /\\ucd5c\\uc2e0\\uc0c1\\ud488': u'8443596402.jpg',\n",
       " u'[\\uc5d1\\ud1a0] \\uc2a4\\ud0e0\\ub4dc\\ub9c8\\uc774\\ud06c MIC-05 /120\\ub3c4\\uac01\\ub3c4\\uc870\\uc808/\\uc804\\ubc29\\ud5a5/\\uc804\\uc6d0\\uc2a4\\uc704\\uce58/3.5MM\\ud50c\\ub7ec\\uadf8 \\ube0c\\ub79c\\ub4dc\\uc815\\ud488/\\ucd1d\\uc54c\\ubc30\\uc1a1(MIC-05)': u'8247481448.jpg',\n",
       " u'\\uae00\\ub7a812 [\\uae00\\ub7a812] [3SET] 12AM \\ub8e8\\uc988\\ub871\\ud2f0   \\ud06c\\ub85c\\uc2a4 \\ub808\\uae45\\uc2a4    \\ub7f0\\ub358 \\ud3ec\\uadf8 \\ub871\\uc790\\ucf13': u'7187190330.jpg',\n",
       " u'[2% \\uc989\\uc2dc\\ud560\\uc778]\\ud3f4\\ubc0b  \\ud3f4\\ubc0b  \\uc2e4\\ucf13 \\uc21c\\uba74 \\uccb4\\ud06c \\ud328\\ud134 \\ub0a8\\uc131 \\ubbfc\\uc18c\\ub9e4 \\ub7f0\\ub2dd 3\\ub9e4\\uc785(PMR423-2)': u'7392445811.1.jpg',\n",
       " u'1TB Video ST1000VM002 3.5 HDD (SATA3/5900RPM/64MB)': u'7769943948.jpg',\n",
       " u'[SEOBEAN] [\\uc11c\\ube48]\\ub304\\ub514 \\uc2ac\\ub9bc\\ud54f \\ud558\\ud504\\ud32c\\uce20 SBHNHP-135052_P013862565': u'7535029013.1.jpg',\n",
       " u'[\\uce74\\uc774\\uc544\\ud06c\\ub9cc] 2015\\ub144 \\ubd04\\uc2e0\\uc0c1!! \\uce74\\ub77c \\ubc30\\uc0c9 \\uc2f1\\uae00 \\ub9e5\\ucf54\\ud2b8 (KNATC798M0)': u'8260336696.jpg',\n",
       " u'LG\\uc804\\uc790 \\uba85\\uc9c4/65EC9700 (\\ubcbd\\uac78\\uc774\\ud615_\\uac01\\ub3c4\\uc870\\uc808)/\\ubb3c\\ub958\\uc9c1\\ubc30\\uc1a1': u'8203108603.jpg',\n",
       " u'[\\ud328\\uc158\\ud50c\\ub7ec\\uc2a4][codes combine_under(AK PLAZA)]\\ucf54\\ub370\\uc988 \\uc774\\ub108 \\uce74\\ud0a4\\ud638\\ud53c\\uc544\\uc6c3\\ubc34\\ub4dc\\uc138\\ucee8\\ud32c\\ud2f0/PYB-PT632W1/\\uce74\\ud0a4': u'7831187393.jpg',\n",
       " u'(\\ucf54\\ub098)(\\ub77c\\ub760\\uc5d4\\ub290)(\\ub9c8\\uac70\\ub9bfSL/003) \\ubd80\\ub4dc\\ub7ec\\uc6b4\\uc26c\\ud3f0 \\ud558\\ub298\\ud558\\ub298 \\uc5ec\\uc131\\uc2a4\\ub7ec\\uc6b4 \\uc5ec\\uc2e0\\uc2ac\\ub9bd T\\ud32c\\ud2f0\\uc138\\ud2b8': u'8006633170.jpg',\n",
       " u'[\\ubcf5\\uc218\\uad6c\\ub9e4 10% \\ud560\\uc778] [\\ubc84\\ud2b8\\ub2c8] \\uc544\\ub984\\ub2e4\\uc6b4\\ub3d9\\ud589 \\uae34\\ud314\\ud2f0\\uc154\\uce20_ \\uc774\\uc0b0 \\uc791\\uac00': u'7949120403.jpg',\n",
       " u'NX10 \\uc0bc\\uc131\\ub514\\uc9c0\\ud138\\uc774\\ubbf8\\uc9d5 \\ud558\\uc774\\ube0c\\ub9ac\\ub4dc\\uce74?': u'8281598598.jpg',\n",
       " u'PANDORA by vivien/\\ud310\\ub3c4\\ub77cby\\ube44\\ube44\\uc548\\uc2a4\\ud2b8\\ub77c\\uc774\\ud504 \\ud328\\ud134 \\uc0b0\\uc804\\uc6a9 \\ube0c\\ub77c\\ud32c\\ud2f0\\uc138\\ud2b8 bp1547_a[\\uc2dc\\uc911\\uac00:45,000\\uc6d0,49% Sale]': u'7604822078.jpg',\n",
       " u'/\\ub2f9\\uc77c\\ubc1c\\uc1a1/\\uc815\\ud488\\ud310\\ub9e4/ WD  1TB Caviar Blue WD10EZEX (SATA3/7200/64M/\\ub9ac\\ud37c\\ube44\\uc2dc)[/\\ube60\\ub978\\ubc30\\uc1a1/\\uc2e0\\uc18d\\uc815\\ud655]': u'8208657763.jpg',\n",
       " u'\\uc544\\uc774\\uc2a4\\ud06c\\ub9bc\\uba54\\uc774\\ucee4(Major) AT957 (\\ud0a4\\uce5c\\uba38\\uc2e0 \\ubd80\\uc18d\\ud488/KM020  KMM020 \\ubd80\\ucc29\\uac00\\ub2a5)/ \\ucf04\\uc6b0\\ub4dc(\\uac00\\uc804)': u'8328840814.jpg',\n",
       " u'[4%\\uc989\\uc2dc\\ud560\\uc778\\ucfe0\\ud3f0][AMD \\uc815\\ud488] \\ud2b8\\ub9ac\\ub2c8\\ud2f0 A6 5400k (3.6GHz) /(\\uc8fc)\\ube44\\uc5d8\\ube44\\uc988 02-711-3540': u'8276739296.jpg',\n",
       " u'[STL\\ubcf4\\ub4dc\\ubcf5]14/15\\uc2e0\\uc0c1 \\uc544\\ub3d9\\uc6a9\\uc2a4\\ud0a4\\ubcf5\\ud32c\\uce20 ver.2N.\\uc624\\ub80c\\uc9c0/N.\\ub77c\\uc784 /\\ubcf4\\ub4dc\\ubcf5\\ucd94\\ucc9c/\\uc2a4\\ud0a4\\ubcf5': u'8118668640.jpg',\n",
       " u'[\\ud574\\uc678] \\ub2cc\\ud150\\ub3c4 \\uc544\\ubbf8\\ubcf4 \\ub9c8\\ub974\\uc2a4 \\ud574\\uc678 \\uc815\\ud488 \\uc9c1\\ubc30\\uc1a1': u'8271348529.jpg',\n",
       " u'[\\ud574\\uc678] Gino Gino 5 Pcs Dual Row 3P Screw Connector Barrier Terminal Block Board 25A  (T1) \\uad6c\\ub9e4\\ub300\\ud589 \\uc9c1\\uad6c': u'8278591550.jpg',\n",
       " u'[SKT\\ubc88\\ud638\\uc774\\ub3d9][24\\uac1c\\uc6d4\\uc57d\\uc815] SHV-E310S [\\ud560\\ubd80 190,200\\uc6d0][\\uac00\\uc785\\ube44\\uba74\\uc81c][\\uc720\\uc2ec\\ud6c4\\ub0a9][35\\uc694\\uae08\\uc81c][\\uc704\\uc57d\\uae08=\\uc57d\\uc8154][\\u2026': u'8204491043.jpg',\n",
       " u'\\uc0bc\\uc131\\uc804\\uc790 SM-N916S (Galaxy Note4 S LTE)[\\uc2e0\\uaddc\\uac00\\uc785]': u'8249725310.20150206101856.jpg',\n",
       " u'[MCHOMME] MC\\uc634\\ubbc0 \\uc2a4\\ud2b8\\ub9bf \\ub77c\\ub974 \\uae34\\ud314 \\ub0a8\\ubc29 \\uc154\\uce20 (RT14S103_G)_P018194454': u'7985858694.jpg',\n",
       " u'[\\ud574\\uc678] Fancy Fancy Chisel iPhone 6 Dock': u'8252544412.jpg',\n",
       " u'[\\uc5d0\\ube14\\ub9b0] \\uc2a4\\uc704\\ud2b8 \\ud398\\ubbf8\\ub2cc \\ud504\\ub9b4 \\ube0c\\ub77c-EBBR238051': u'7409650781.jpg',\n",
       " u'[PC] MS \\uc815\\ud488 \\uc2e0\\ud615 \\ud0a4\\ub125\\ud2b8 \\ud3ec \\uc708\\ub3c4\\uc6b0\\uc988 V2 \\ud328\\ud0a4\\uc9c0[\\uc138\\ubd80\\ub0b4\\uc6a9\\uc740 \\ud558\\ub2e8\\uc81c\\ud488 \\uc0c1\\uc138\\uc774\\ubbf8\\uc9c0 \\ud655\\uc778\\ubd80\\ud0c1\\ub4dc\\ub9bd\\ub2c8\\ub2e4]': u'8206806479.jpg',\n",
       " u'[AK\\ubab0/\\ub098\\uc774\\ud0a4(NIKE)]  [NIKE \\ub9e4\\uc7a5\\u6b63\\u54c1] \\ub098\\uc774\\ud0a4 \\uc758\\ub958 \\uc5ec\\uc131 \\ud504\\ub85c \\ud558\\uc774\\ud37c\\uc6dc \\ud06c\\ub8e8 \\uae30\\ub2a5\\uc131\\uae34\\ud314 AS NIKE PRO HYPERWARM CREW 3.0(\\ub2e4\\ud06c\\ubbfc\\ud2b8) 620430-': u'8055849801.jpg',\n",
       " u'\\uc544\\uc774\\ub514\\uc2a4 SDR-421': u'5528341755.20120211194429.jpg',\n",
       " u'[6%\\uc989\\uc2dc\\ud560\\uc778\\ucfe0\\ud3f0]CAT.6 UTP \\uace0\\uae09 \\ub79c\\ucf00\\uc774\\ube14 \\ub2e4\\uc774\\ub809\\ud2b8 5M': u'8270292622.jpg',\n",
       " u'[\\ud574\\uc678]  \\ud574\\uc678\\ube60\\ub978\\ubc30\\uc1a1  \\ub274\\uc695\\ub9e4\\ub2c8\\uc544 PC Treasures/PC Treasure \\ud574\\uc678 \\uc815\\ud488 \\uc9c1\\ubc30\\uc1a1': u'8279941946.jpg',\n",
       " u'[\\ud574\\uc678]\\uc5d0\\uc774\\uc11c 5830tg 5\\ucc9c8\\ubc3130\\ud1a4 5951g 8951g 5755\\uadf8\\ub7a8 V3-571g 551g 771g': u'7499183494.jpg',\n",
       " u'\\uc5d1\\ud1a0 BKS-65 \\ud5e4\\ub4dc\\uc14b': u'8229134371.jpg',\n",
       " u'\\uc54c\\ub730\\ud3f0\\ubc14\\ub85c\\uac1c\\ud1b5/\\uc54c\\ub730\\ud3f0\\ub9e4\\uc7a5/\\uc800\\uac00\\uc2a4\\ub9c8\\ud2b8\\ud3f0': u'8157169235.jpg',\n",
       " u'[\\ud574\\uc678][\\ud574\\uc678\\ube60\\ub978\\ubc30\\uc1a1][\\ub274\\uc695\\ub9e4\\ub2c8\\uc544]Olympus/[NY]Olympus OM-D E-M5 Mark II Black Body Only/90387798/100%\\uc815\\ud488': u'8325798452.jpg',\n",
       " u'[14% \\uc989\\uc2dc\\ud560\\uc778]\\ud6c4\\ucd94\\ud1b5_ \\ucda9\\uc804 \\ucef5\\ud640\\ub354 CA00-C101': u'8233788337.jpg',\n",
       " u'[\\ucf54\\uc6d0(COWON)]\\ucf54\\uc6d0 D3 DMB [32GB] MP3 CE1\\uc815\\ud488\\uc774\\uc5b4\\ud3f0 \\uc561\\uc815\\ubcf4\\ud638\\ud544\\ub984/\\uc544\\ubab0\\ub808\\ub4dc/WiFi/\\uc548\\ub4dc\\ub85c\\uc774\\ub4dc/\\ube14\\ub8e8\\ud22c\\uc2a4/\\uc804\\uc790\\uc0ac\\uc804/\\uc2a4\\ud53c\\ucee4/FM\\ub77c\\ub514\\uc624/\\uc74c\\uc131\\ub179\\uc74c/BBE /\\ub3d9\\uc601\\uc0c1': u'7884705299.1.jpg',\n",
       " u'[\\ud574\\uc678][\\uad6c\\ub9e4\\ub300\\ud589][B007IQZ680] Sparepart: IBM Therm Fan, 42W2676': u'8269242797.jpg',\n",
       " u'\\ubb38\\uad6c\\uc6a9\\ud488 \\uc8fc\\uc2dd\\ud68c\\uc0ac\\uc5d1\\ud1a0 \\ucf69\\uc2a4\\ud1a0\\uc5b4': u'8268222875.jpg',\n",
       " u'\\ub9ac\\ubdf0\\uc548\\ud14c\\ud06c \\ub9ac\\ubdf0\\uc548 m850G4 128GB': u'7091895549.20130829171934.jpg',\n",
       " u'[\\ub2cc\\ud150\\ub3c4 3DS \\ud0c0\\uc774\\ud2c0]\\ub9c8\\ub9ac\\uc624\\uc640\\uc18c\\ub2c9\\ub7f0\\ub358\\uc62c\\ub9bc\\ud53d(3DS)/ \\ub2cc\\ud150\\ub3c4 3DS': u'7902961056.jpg',\n",
       " u'[\\ub86f\\ub370\\ubc31\\ud654\\uc810]\\uc624\\uac00\\ub2c9\\ub9d8 \\ub85c\\uadf8\\ub0a8\\uc544\\uae34\\uc18c\\uc544\\ub3d9\\uc7a0\\uc637 MZF1SW01': u'8237711932.jpg',\n",
       " u'\\uc571\\ucf54 NCORE \\ubc14\\uc774\\ud37c \\ud5ec\\ud37c 3.0 \\ube14\\ub799': u'7287355315.20131122150233.jpg',\n",
       " u'[14% \\uc989\\uc2dc\\ud560\\uc778][W559]\\uc288\\uc988 \\ud504\\ub9b0\\ud2b8 \\uc204\\ub354\\ubc31/\\ubc1c\\ub808\\uac00\\ubc29 \\uc720\\uc544\\ub3d9 \\uc5b4\\ub9b0\\uc774 \\uc5ec\\uc544 \\ubc1c\\ub808\\ubcf5 \\uc288\\uc988/ \\ubc1c\\ub808\\ud0a4\\uc988': u'7639221881.jpg',\n",
       " u'DPF-D72N \\uc2dc\\ub9ac\\uc988 \\uc18c\\ub2c8 \\ub514\\uc9c0\\ud138\\uc561\\uc790 \\uc804\\uc6a9': u'8281601322.jpg',\n",
       " u'[\\ubc1c\\ub808\\ud558\\uc6b0\\uc2a4] \\ub2e4\\uc774\\uc544 \\ub808\\uc624\\ud0c0\\ub4dc \\ud551\\ud06c': u'7217144324.jpg',\n",
       " u'Millennium CDR 52\\ubc30\\uc18d 700MB \\ud504\\ub9b0\\ud130\\ube14': u'4010250686.20120211213105.jpg',\n",
       " u'\\ubaa8\\ub2c8\\ud130\\ubc1b\\uce68\\ub300 (\\uc0bc\\ub098\\ubb34\\uc6d0\\ubaa9/\\ud0a4\\ubcf4\\ub4dc\\uc218\\ub0a9) [W016060]': u'7181043375.jpg',\n",
       " u'\\uc5e0\\uc81c\\uc774\\ud14c\\ud06c\\ub180\\ub85c\\uc9c0 ENERGY OPTIMUS G-2 Elant USB 3.0 BLACK': u'7532009967.20140303100253.jpg',\n",
       " u'no.5305 \\ub124\\uc624\\ud504\\ub79c \\uc2ec\\ud50c \\uc544\\ubc29\\ucf54\\ud2b8[2color / \\uac04\\uc808\\uae30~\\ubd04 \\uac00\\uc744\\uae4c\\uc9c0 \\ucc29\\uc6a9\\uac00\\ub2a5\\ud569\\ub2c8\\ub2e4]': u'8238777002.jpg',\n",
       " u'[\\ud328\\uc158\\ud50c\\ub7ec\\uc2a4][Calvin Klein Underwear]CK BOLD MICRO LOW RISE TRUNK U8908 ASH POWDER': u'7330024506.jpg',\n",
       " u'[4%\\uc989\\uc2dc\\ud560\\uc778\\ucfe0\\ud3f0]DA-MULTI CLIPS(6\\uc0c9)/PC\\uc6a9/\\ucef4\\ud4e8\\ud130\\uc6a9\\ud488/\\uc8fc\\ubcc0\\uae30\\uae30/ PC/': u'8260443934.jpg',\n",
       " u'[\\uc0bc\\uc131\\uce74\\ub4dc5%\\ud560\\uc778~15\\uc77c\\uae4c\\uc9c0][\\ubcf4\\ub9ac\\ubcf4\\ub9ac/\\ub4dc\\ub808\\uc2a4\\ud558\\uc6b0\\uc2a4]hf80 \\ub2e4\\uc560_\\uc791\\uc740 \\uaf43 \\ud328\\uce58 \\uc0c9\\ub3d9\\uc18c\\ub9e4 \\ud55c\\ubcf5': u'8319072069.jpg',\n",
       " u'\\uc5d0\\ub4c0\\ud50c\\ub808\\uc774\\uc5b4 {\\uacf5\\uc2dd\\uc815\\ud488 \\uc5d0\\ub4c0\\ud50c3 16GB}- \\uc5d0\\ub4c0\\ud50c5 / pmp /\\uc804\\uc790\\uc0ac\\uc804 \\uacf5\\ubd80\\ub9cc\\uc744 \\uc6d0\\ud55c\\ub2e4\\uba74 \\uc5d0\\ub4c0\\ud50c3': u'7466263971.jpg',\n",
       " u'\\ucf54\\uc6f0 \\ud790\\ub9c1\\uac00\\uc2b5\\uae30 \\uac00\\uc2b5\\uc655': u'8170688657.20141222100206.jpg',\n",
       " u'[4%\\uc989\\uc2dc\\ud560\\uc778\\ucfe0\\ud3f0]\\uc0bc\\uc131\\uc804\\uc790 Super-WriteMaster SH-224DB(\\ube14\\ub799 \\uc815\\ud488\\ubc8c\\ud06c)': u'8260928160.jpg',\n",
       " u'[4%\\uc989\\uc2dc\\ud560\\uc778\\ucfe0\\ud3f0](CN) 3.5 \\ubaa8\\ub178 \\uace0\\uae09 \\ucf00\\uc774\\ube14 5\\ubbf8\\ud130 (L-4E6ATG) \\uc2a4\\ud0c0\\ucffc': u'8284073068.jpg',\n",
       " u'\\ube44\\uc5d4\\ub098 \\ud06c\\ub9ac\\uc2a4\\ud0c8 \\ud29c\\ud29c(\\uc784\\ud398\\ub9ac\\uc5bc \\uadf8\\ub9b0)': u'5439651783.jpg',\n",
       " u'\\ub9c8\\uc774\\ud06c\\ub85c\\uc18c\\ud504\\ud2b8 \\ubbf8\\ub514\\uc5b4\\uc13c\\ud0c0 \\uc5d0\\ub514\\uc158 \\uc804\\uc6a9 \\ub9ac\\ubaa8\\ucee8 \\ud0a4\\ud2b8': u'1100143903.20120211202651.jpg',\n",
       " u'\\ub098\\ub178\\ube0c\\ub77c\\uc778\\ub4dc - \\ubaa8\\ub2c8\\ud130\\uc6a9 \\uc815\\ubcf4\\ubcf4\\ud638\\ud544\\ub984 17 [W186524]': u'8276840575.jpg',\n",
       " u'EFM\\ub124\\ud2b8\\uc6cd\\uc2a4 ipTIME N104R': u'5682911787.20120211171938.jpg',\n",
       " u'[\\uce74\\uc774\\uc544\\ud06c\\ub9cc]\\ub0a8)KMBCD078M0 \\ub2c8\\ud2b8\\uc9c0 \\uac00\\ub514\\uac74 \\u672c[[AK\\ud50c\\ub77c\\uc790,\\uce74\\uc774\\uc544\\ud06c\\ub9cc,Kai aakmann,kai]': u'8338381839.jpg',\n",
       " u'[\\uc624\\uac00\\uac8c/BOOM STYLE]\\ud0c0\\uc2a4 \\uc9c0\\ud37c \\uc808\\uac1c \\ub370\\ub2d8': u'7946447501.jpg',\n",
       " u'[\\ud574\\uc678][\\ud504\\ub9ac\\ud53c\\ud50c] Free People Sleeveless Hardware Embellished Tunic': u'8312865915.jpg',\n",
       " u'[\\ub300\\uad6c\\ubc31\\ud654\\uc810 II\\uad00] [\\ube44\\ub108\\uc2a4]\\ub354\\ube14\\uc719 \\ube0c\\ub77c (A,B\\ucef5)(VBR0760)': u'8290017366.jpg',\n",
       " u'[AK PLAZA][\\ub974\\uc0f5]\\uacac\\uc7a5\\uc57c\\uc0c1\\ud615\\ube14\\ub77c\\uc6b0\\uc2a4(LF3BL365)': u'8312727651.jpg',\n",
       " u'\\ucd1d\\ud310-\\ud0d1\\uc564\\ud0d1- XBOX ONE GTA5 \\ud328\\ud0a4\\uc9c0': u'8054242892.jpg',\n",
       " u'\\ubbf8\\ub2c8\\uc2e4\\ubc84 32G USB\\uba54\\ubaa8\\ub9ac [MW-MS32]': u'5413898374.jpg',\n",
       " u'\\ub2f9\\uc77c\\ubc1c\\uc1a1 \\uc624\\uc131\\uc815\\ubc00 \\uc77c\\ubc18\\ud615 2\\uad6c \\uc811\\uc9c0 \\uba40\\ud2f0\\ud0ed 1.5M': u'8218311935.jpg',\n",
       " u'\\ud544\\ub9bd\\uc2a4 \\uc18c\\ub2c9\\ucf00\\uc5b4 HX-6072': u'6256930315.20120409154501.jpg',\n",
       " u'[3DS] \\ub2cc\\ud150\\ub3c4 3DSLL/3DSXL \\ud655\\uc7a5 \\uc2ac\\ub77c\\uc774\\ub4dc \\ud328\\ub4dc': u'8266685926.jpg',\n",
       " u'\\ud30c\\uc138\\ucf54 \\ud658\\ud48d\\uae30 PHD-S604 \\ub80c\\uc9c0\\ud6c4\\ub4dc/\\ube4c\\ud2b8\\uc778/\\uc8fc\\ubc29\\ud6c4\\ub4dc/\\uc2ac\\ub77c\\uc774\\ub4dc\\ud6c4\\ub4dc_f': u'8344450839.jpg',\n",
       " u'\\uc624\\ub77c\\ud074 \\ub370\\uc774\\ud130\\ubca0\\uc774\\uc2a4 \\ud37c\\uc2a4\\ub110 \\uc5d0\\ub514\\uc158 10g \\uc720\\ub2c9\\uc2a4\\uc6a9': u'8245964424.jpg',\n",
       " u'[6%\\uc989\\uc2dc\\ud560\\uc778\\ucfe0\\ud3f0](AK\\ubab0)(S-VIEW)(\\ud504\\ub77c\\uc774\\ubc84\\uc2dc \\ud544\\ud130) \\ubaa8\\ub2c8\\ud130 \\ub178\\ud2b8\\ubd81 \\ubcf4\\uc548\\ud544\\ub984 \\uc815\\ubcf4\\ubcf4\\ud638\\ubcf4\\uc548\\uae30 49.5cm(23)  \\uc640\\uc774\\ub4dc': u'7708855128.jpg',\n",
       " u'\\uc544\\ub9c8\\ud018\\uc2a4\\ud2b8 K439F 4U': u'8212342117.20150126174231.jpg',\n",
       " u'\\ucf54\\uc0ac\\uc9c0\\ud074\\ub9bd(\\uc0b4\\uad6c\\ud551\\ud06c,\\ud551\\ud06c,\\ubcf4\\ub77c,\\ube14\\ub8e8,\\uc610\\ub85c\\uc6b0,\\ube0c\\ub77c\\uc6b4)': u'7006521717.jpg',\n",
       " u'[5% \\uc989\\uc2dc\\ud560\\uc778]\\ud53c\\uc5d0\\ub974\\uac00\\ub974\\ub385 \\ubbfc\\uc18c\\ub9e4 \\ub7f0\\ub2dd 10\\uc885': u'7704257593.jpg',\n",
       " u'[SKT \\uae30\\uae30\\ubcc0\\uacbd]G3 Cat.6(LG-F460S)\\u2606\\uc804\\uad6d\\ubbfc\\ubb34\\ud55c100\\u2606\\ud560\\ubd80\\uc6d0\\uae08 512200\\u2606\\uac00\\uc785\\ube44\\uba74\\uc81c\\u2606\\uc720\\uc2ec\\ube44\\ud6c4\\uccad\\uad6c(9,900\\uc6d0)\\u2606\\uc704\\uc57d\\uae08(\\ub0a8\\uc740 \\ud560\\ubd80\\uc6d0\\uae08,\\ubc1b\\uc740 \\uc9c0\\uc6d0\\uae08,\\uc57d\\uc815\\ud560\\uc778\\uae08)\\u2606\\ubd80\\uac00\\uc11c': u'8121397253.jpg',\n",
       " u'\\ud53c\\ud1a4\\uce58\\ub4dc \\ub2e5\\ud130\\ud50c\\ub7ec\\uc2a470ml/\\ud53c\\ud1a4\\uce58\\ud2b8': u'8252111509.jpg',\n",
       " u'[KB\\uad6d\\ubbfc\\uce74\\ub4dc 5%\\ud560\\uc778, 3/14][\\ub514\\uc2a4\\ud018\\uc5b4\\ub4dc2] (QR\\ucf54\\ub4dc\\uc778\\uc99d)14FW 74LA0651 S30144 470 / \\ub514\\ud018 \\uc624\\ub80c\\uc9c0\\uc2a4\\ud31f \\ud578\\ub4dc\\ucee4\\ud504\\ud328\\uce58 \\ub514\\uc2a4\\uc9c4 \\uc2ac\\ub9bc\\ud54f / \\uc911\\uccad / \\ub0a8\\uc131 \\uccad\\ubc14\\uc9c0': u'8185307062.1.jpg',\n",
       " u'[5%\\uc989\\uc2dc\\ud560\\uc778\\ucfe0\\ud3f0]DAMOIL  DA-MULTI CLIPS2(2\\uad6c 6\\uc0c9) \\ube60\\ub978\\ubc30\\uc1a1/\\ub2f9\\uc77c\\ucd9c\\uace0': u'8240790482.jpg',\n",
       " u'\\ud55c\\uc77c\\uc804\\uae30\\uc9e4\\uc21c\\uc774 WS-6600/4\\uc911\\uc548\\uc804\\uc7a5\\uce58/\\uac15\\ub825 \\ub808\\ub4dc\\ubaa8\\ud130/\\uc6d0\\uc2ec \\ud0c8\\uc218 \\ubc29\\uc2dd/\\uc548\\uc804\\uc124\\uacc4\\ud615 \\ub69c\\uaed1/\\uac15\\ub825\\ud55c\\ud0c8\\uc218 (WS-6600)': u'5690155488.1.jpg',\n",
       " u'[\\ud0a4\\uc988\\ubc1c\\ub808\\ubab0][\\ud0a4\\uc988\\ubc1c\\ub808\\ubab0] \\ucf54\\ud2bc\\uce94\\ub514 \\ud29c\\ud29c \\ubc1c\\ub808\\ubcf5_\\ud654\\uc774\\ud2b8': u'8249783793.1.jpg',\n",
       " u'[\\ud574\\uc678][\\ud3f4\\uc5d0\\ub514\\ud2b8] \\ud574\\uc678 \\uc1fc\\ud551 / [Butler Creek]Butler Creek Flip-Open Objective Scope Cover, Size 39 (2.22-I/70916': u'8283037421.jpg',\n",
       " u'[OP0952] Cara Band One-Piece [\\ube14\\ub799,\\uce74\\ud0a4]-\\uc815\\ub9d0 \\ub0a0\\uc52c\\ud574\\ubcf4\\uc774\\ub294 \\ud54f\\uac10!! \\ubc43\\uc0b4\\uc744 \\uc7a1\\uc544\\uc918\\uc694\\uce74\\ub77c\\ub294 \\ud0c8\\ubd80\\ucc29 \\uac00\\ub2a5!! \\ub4dc\\ub808\\uc2dc \\uc778\\uae30\\ub9cc\\uc810 \\uc0c1\\ud488': u'8170961952.jpg',\n",
       " u'[\\ud574\\uc678]Bluetooth tripod selfie stick Rotary Extendable Handheld Camera Tripod Mobile Phone Monopod  Wir': u'8260151921.jpg',\n",
       " u'ysb/\\ud558\\uc6b4\\ub4dc\\ud22c\\uc2a4\\ud328\\ud134\\ubc30\\uc0c9\\uc6d0\\ud53c\\uc2a4-AV0214[\\uc2dc\\uc911\\uac00:178,000\\uc6d0,50% Sale]': u'8318889461.jpg',\n",
       " u'[4%\\uc989\\uc2dc\\ud560\\uc778\\ucfe0\\ud3f0]55EC9310  (\\ubcbd\\uac78\\uc774\\ud615 \\uac01\\ub3c4\\uc870\\uc808) 55\\uc778\\uce58 \\uace1\\uba74 OLED TV': u'8270958963.jpg',\n",
       " u'\\ub9c8\\uc774\\ud06c\\ub85c\\uc18c\\ud504\\ud2b8 XBOX360 \\ud0a4\\ub125\\ud2b8 \\uc560\\ub2c8\\uba40\\uc2a4 \\uacf0\\uce5c\\uad6c\\ub4e4\\uacfc \\ud568\\uaed8 \\uc0c8\\uc81c\\ud488': u'8090678551.jpg',\n",
       " u'\\uc624\\ub77c\\ud074 \\ub370\\uc774\\ud130\\ubca0\\uc774\\uc2a4 \\uc2a4\\ud150\\ub2e4\\ub4dc \\uc5d0\\ub514\\uc158 11g \\uc720\\ub2c9\\uc2a4\\uc6a9 60\\uc720\\uc800': u'8245964558.jpg',\n",
       " u'[SKT \\uc2e0\\uaddc\\uac00\\uc785][24\\uac1c\\uc6d4\\uc57d\\uc815][\\uac24\\ub7ed\\uc2dc \\ub178\\ud2b84 S-LTE][\\ud560\\ubd80\\uc6d0\\uae08 612,000\\uc6d0][\\uc804\\uad6d\\ubbfc\\ubb34\\ud55c100 \\uc694\\uae08][\\uac00\\uc785\\ube44\\uba74\\uc81c \\uc720\\uc2ec\\ud6c4\\ub0a9][\\uc704\\uc57d\\uae08 \\uc720][\\ubd80\\uac00 \\ubb34][SM-N916S]': u'8382940990.jpg',\n",
       " u'[14% \\uc989\\uc2dc\\ud560\\uc778]\\ud5ec\\ub85c\\ud0a4\\ud2f0 \\ud5ec\\ub85c\\ud0a4\\ud2f0 \\uc8fc\\ub2c8\\uc5b4 \\ud130\\ud2c0\\ub125 \\ubbfc\\uc18c\\ub9e4 \\ubc29\\ud55c \\uae30\\ubaa8 \\uc6d0\\ud53c\\uc2a4(KAW9O20)-1': u'7831804818.jpg',\n",
       " u'[35% \\uc989\\uc2dc\\ud560\\uc778]\\uaca8\\ub4dc\\ub791\\uc774 \\ub540\\uc790\\uad6d \\ubc29\\uc9c0\\uc2dc\\ud2b8 \\ub540\\ud328\\ub4dc \\ub540\\uc790\\uad6d \\ub540\\ubc29\\uc9c0\\ud328\\ub4dc': u'8312119612.jpg',\n",
       " u'(PSP) \\ub514\\uc81c\\uc774\\ub9e5\\uc2a4 \\ud3ec\\ud130\\ube14 \\ube14\\ub799\\uc2a4\\ud018\\uc5b4 /DJ MAX/\\uc0c8\\uc81c\\ud488 \\ud2b9\\uac00\\ud310\\ub9e4 \\ud569\\ub2c8\\ub2e4': u'7993794331.jpg',\n",
       " u'[\\ud574\\uc678][\\uad6c\\ub9e4\\ub300\\ud589][B005T8RX6M] Amphenol Industrial PT06A-14-12P(SR) Circular Connector Pin, General Du': u'8266286438.jpg',\n",
       " u'[\\ub9ac\\ubc14\\uc774\\uc2a4] \\ub0a8\\uc131 \\uc2ac\\ub9bc\\ud54f\\uc758 511 \\ubbf8\\ub4dc\\ud1a4 \\uc6cc\\uc2f1\\ud32c\\uce2004511-1475': u'7947703889.1.jpg',\n",
       " u'\\ud398\\ub9ac\\uc820\\uc2a8 \\uce90\\uc2dc\\ub77c\\uc774\\ud06c \\ub0a8\\uc131 \\ud130\\ud2c0\\ub125 4\\uc885': u'11176555_g.jpg',\n",
       " u'[\\ub300\\uad6c\\ubc31\\ud654\\uc810 II\\uad00] [\\uce98\\ube48\\ud074\\ub77c\\uc778\\uc5b8\\ub354\\uc6e8\\uc5b4]\\ud478\\uc26c \\ud3ec\\uc9c0\\ud2f0\\ube0c(SET)(\\ub9c8\\ubc95\\uac19\\uc740\\ubcfc\\ub968)(249237(23)56120)': u'7088775831.1.jpg',\n",
       " u'[\\ud574\\uc678]360 Degree Rotating Mount Buckle Quick Assembling Adapter Buckle for Gopro Hero 4 3  / 3 / 2 SJ4': u'8275517457.jpg',\n",
       " u'PC \\ud1a0\\ud0c8\\uc6cc \\uc544\\ud2f8\\ub77c \\uc608\\uc57d\\ud310\\ub9e4 / TOTAL WAR': u'8277627036.jpg',\n",
       " u'\\uc2a4\\ud1a0\\ub9ac\\ubc84\\ub4dc (\\uc2a4\\ud1a0\\ub9ac\\ubc84\\ub4dc)  \\uc774\\ub178\\ud558\\uc774 \\ud53c\\ud1a4\\uc0e4\\uc6cc \\uc0b0\\ub9bc\\uc695\\uae30 \\ub9ac\\ud544\\uc561 65': u'8256605201.jpg',\n",
       " u'\\uce90\\ub17c EOS 550D': u'5532420108.20130311112604.jpg',\n",
       " u'[4%\\uc989\\uc2dc\\ud560\\uc778\\ucfe0\\ud3f0]\\ub85c\\uc9c0\\ud14d \\ub85c\\uc9c0\\ud14d  HD WebCam C615 \\ud654\\uc0c1\\ucea0 ...': u'6201401363.jpg',\n",
       " u'[\\ud574\\uc678][MyDirectAdvantage][\\uc774\\uc2a4\\ud018\\uc5b4]80693288 MyDirectAdvantage C270 HD Webcam, 720p, Black - LOG960000694/1': u'8264507543.jpg',\n",
       " u'[\\uc640\\ucf54\\ub8e8] \\uba54\\ubaa8\\ub9ac \\ubab0\\ub4dc \\ube0c\\ub77c \\ud5f4\\ud32c\\ud2f0 \\uc138\\ud2b8 AB\\ucef5 (WBR1701ABWPT1701H)': u'7860167565.jpg',\n",
       " u'[KB\\uad6d\\ubbfc\\uce74\\ub4dc 5%\\ud560\\uc778, 3/14]\\ub2e5\\ud130\\ub9c8\\ud2f4 CHARLTON \\ub0a8\\uc131 \\ucc30\\ud134\\uc6cc\\ucee4 \\ube14\\ub799 16134001': u'8332323176.jpg',\n",
       " u'[NETGEAR] \\ub137\\uae30\\uc5b4 \\ub808\\ub514\\ub098\\uc2a4 ReadyNAS RN102 \\ubcf8\\uccb4(\\ud558\\ub4dc\\ubbf8\\ud3ec\\ud568) 2BAY SOHO NAS': u'7380271138.jpg',\n",
       " u'\\uba5c\\ub85c\\ub514 DVD\\uff0bR DL 8.5GB 8x \\uc2ac\\ub9bc 10\\uc7a5': u'8277815461.jpg',\n",
       " u'[4%\\uc989\\uc2dc\\ud560\\uc778\\ucfe0\\ud3f0]\\uc6cc\\ud130\\ud53d waterpik \\uad6c\\uac15\\uc138\\uc815\\uae30 WP-70K': u'8270721516.jpg',\n",
       " u'[\\ud2f0\\ud30c\\ub2c8(TIFFANY)]\\ube0c\\ub77c\\uc6b4\\uaf43\\ud504\\ub9b0\\ud2b8\\ub808\\uae45\\uc2a4(T45KAP030-R4)': u'8207164704.1.jpg',\n",
       " u'XFX RADEON R9 295X2 DDR5 8G': u'7702312000.20140523111851.jpg',\n",
       " u'[\\ud574\\uc678] 2014 summer female long-sleeve sweater sunscreen shirt cardigan air conditioning shirt outerwea': u'8313532585.jpg',\n",
       " u'[\\ucf54\\uc2dc]\\ucee8\\ud37c\\ub7f0\\uc2a4\\uc2a4\\ud0e0\\ub4dc\\ub9c8\\uc774\\ud06c/COV006': u'7171166012.jpg',\n",
       " u'\\uc0bc\\uc131\\uc804\\uc790 \\uac24\\ub7ed\\uc2dc SHV-E330S 16G (Galaxy S4 LTE-A)[\\uc2e0\\uaddc\\uac00\\uc785]': u'7552812472.20140312113747.jpg',\n",
       " u'\\ubc14\\ube44 \\uc5ec\\uc544 \\ubc0d\\ud06c\\uc18c\\uc7ac \\ubc18\\ubc14\\uc9c0 \\ub808\\uae45\\uc2a4[BBTM4403K][[AK\\ud50c\\ub77c\\uc790,\\ubc14\\ube44]': u'8058830194.jpg',\n",
       " u'\\ub2e4\\uc6d0\\uc2dc\\uc2a4 \\ubb34\\ub8cc\\ubc30\\uc1a1/\\ub3d9\\uc591\\ub9e4\\uc9c1 \\ube4c\\ud2b8\\uc778\\ub808\\uc778\\uc9c0\\ud6c4\\ub4dc[\\ub2e4\\uc6d0]RHD-305MS/\\ud658\\ud48d\\uae30/\\ub80c\\uc9c0\\ud6c4\\ub4dc/\\ub808\\uc778\\uc9c0\\ud6c4\\ub4dc/\\uc53d\\ud06c\\ub300/3\\ub2e8\\ud48d\\ub7c9/\\ud1b5\\ud6c4\\ub4dc LG/\\ud558\\uce20/\\ub3d9\\uc591/\\ud55c\\uc0d8/\\ub9b0\\ub098\\uc774/\\ube4c\\ud2b8\\uc778\\uc804\\ubb38\\uc810': u'6758953230.jpg',\n",
       " u'[\\ud574\\uc678] Samsung Samsung Galaxy S5 Mini G800H 16GB HSPA  Unlocked GSM Quad-Core Smartphone (Copper Gold)': u'8259551088.jpg',\n",
       " u'\\uc5d8\\ub808\\ucef4 CCD-F120NBK ': u'6684011708.20121127170732.jpg',\n",
       " u'[\\ud574\\uc678]  PC \\ud2b8\\ub77c\\uc778 2 \\uceec\\ub809\\ud130\\uc988 \\uc5d0\\ub514\\uc158 (\\uc720\\ub7fd\\ud310)   \\ud574\\uc678 \\uc815\\ud488 \\uc9c1\\ubc30\\uc1a1': u'8279925041.jpg',\n",
       " u'SKT /LG-G3/F400S/\\ubd80\\uac00\\ubb34/G3///\\ubc88\\ud638\\uc774\\ub3d9/': u'8280607738.jpg',\n",
       " u'[4%\\uc989\\uc2dc\\ud560\\uc778\\ucfe0\\ud3f0]DC25 VGN-UX50LN \\uc18c\\ub2c8 SONY UMPC \\uc804\\uc6a9 4.5\\uc778\\uce58 \\uc561\\uc815': u'8271102116.jpg',\n",
       " u'[BC\\uce74\\ub4dc5%\\ud560\\uc778]\\uc81c\\uc774\\uc81c\\uc774\\uc634\\ubbc0 \\uc720\\ub7ec\\ud53c\\uc5b8 \\uadf8\\ub808\\uc774 \\uccb4\\ud06c \\uc815\\uc7a5\\ud32c\\uce20 JJ_15BZ_04PT': u'8280647791.jpg',\n",
       " u'[\\ud574\\uc678] Fancy Fancy \\uc9c0\\ud14c\\ud06c(Gtech) \\uc5d0\\uc5b4\\ub7a8 \\uace0\\ucd9c\\ub825 \\ubb34\\uc120 \\uc9c4\\uacf5\\uccad\\uc18c\\uae30': u'8252544085.jpg',\n",
       " u'[8% \\uc989\\uc2dc\\ud560\\uc778](AK\\ubab0)\\ud5e4\\uc9c0\\uc2a4 \\ub124\\uc774\\ube44 \\uce74\\ub77c\\ub125 \\ubc18\\ud314\\ud2f0 HZE04B431NV': u'8302460058.jpg',\n",
       " u'\\uc571\\ucf54 SC260 ATOM3.0': u'8016199876.20141028150156.jpg',\n",
       " u'[LG\\uc628\\ub77c\\uc778\\uc778\\uc99d\\uc810]GP50NW40(S)\\ud654\\uc774\\ud2b8/\\uc2a4\\ub9c8\\ud2b8\\uc678\\uc7a5\\ud615ODD/\\uc2ac\\ub9bc\\uba40\\ud2f0DVD\\uc815\\ud488\\ubc15\\uc2a4/\\uc678\\uc7a5CD\\ub86c/\\uc678\\uc7a5DVD/DVD\\ud50c\\ub808\\uc774\\uc5b4/DVD\\ub86c/DVD-RW': u'6830263908.jpg',\n",
       " u'[\\ud574\\uc678]HI-FI Mini DAC TDA1543 DIR9001 NOS DAC Incl power ADP': u'8269188506.jpg',\n",
       " ...}"
      ]
     },
     "execution_count": 12,
     "metadata": {},
     "output_type": "execute_result"
    }
   ],
   "source": [
    "d_all"
   ]
  },
  {
   "cell_type": "code",
   "execution_count": 13,
   "metadata": {
    "collapsed": true
   },
   "outputs": [],
   "source": [
    "d_cache = {}"
   ]
  },
  {
   "cell_type": "code",
   "execution_count": null,
   "metadata": {
    "collapsed": false
   },
   "outputs": [
    {
     "name": "stderr",
     "output_type": "stream",
     "text": [
      "Bottle v0.12.9 server starting up (using WSGIRefServer())...\n",
      "Listening on http://0.0.0.0:8887/\n",
      "Hit Ctrl-C to quit.\n",
      "\n"
     ]
    },
    {
     "name": "stdout",
     "output_type": "stream",
     "text": [
      "classify called\n"
     ]
    },
    {
     "name": "stderr",
     "output_type": "stream",
     "text": [
      "121.140.65.88 - - [22/Aug/2016 08:11:27] \"GET /classify?name=%EC%9D%B8%ED%85%94CPU%EC%BD%94%EC%96%B4%20i3-4%EC%84%B8%EB%8C%80%20%ED%95%98%EC%8A%A4%EC%9B%B0%20%EB%A6%AC%ED%94%84%EB%A0%88%EC%8B%9C%204160(3.6GHz/INTEL)&img=http://shopping.phinf.naver.net/main_7975500/7975500771.jpg HTTP/1.1\" 200 62\n"
     ]
    },
    {
     "name": "stdout",
     "output_type": "stream",
     "text": [
      "classify called\n"
     ]
    },
    {
     "name": "stderr",
     "output_type": "stream",
     "text": [
      "121.140.65.88 - - [22/Aug/2016 08:11:27] \"GET /classify?name=[4%%EC%A6%89%EC%8B%9C%ED%95%A0%EC%9D%B8%EC%BF%A0%ED%8F%B0]%EC%9D%B8%ED%85%94%20intel%20%EC%BD%94%EC%96%B44%EC%84%B8%EB%8C%80%20%ED%95%98%EC%8A%A4%EC%9B%B0%20i3-4160&img=http://shopping.phinf.naver.net/main_8350292/8350292853.jpg HTTP/1.1\" 200 62\n"
     ]
    },
    {
     "name": "stdout",
     "output_type": "stream",
     "text": [
      "classify called\n"
     ]
    },
    {
     "name": "stderr",
     "output_type": "stream",
     "text": [
      "121.140.65.88 - - [22/Aug/2016 08:11:28] \"GET /classify?name=%EC%9D%B8%ED%85%94%20%EC%BD%94%EC%96%B4i3-4%EC%84%B8%EB%8C%80%204160%20(%ED%95%98%EC%8A%A4%EC%9B%B0%20%EB%A6%AC%ED%94%84%EB%A0%88%EC%8B%9C)%20(%EB%B2%8C%ED%81%AC)&img=http://shopping.phinf.naver.net/main_7939938/7939938154.jpg HTTP/1.1\" 200 62\n"
     ]
    },
    {
     "name": "stdout",
     "output_type": "stream",
     "text": [
      "classify called\n"
     ]
    },
    {
     "name": "stderr",
     "output_type": "stream",
     "text": [
      "121.140.65.88 - - [22/Aug/2016 08:11:28] \"GET /classify?name=ICODA%20[%EB%8C%80%EB%A6%AC%EC%A0%90%EC%A0%95%ED%92%88]%EC%9D%B8%ED%85%94%20%EC%A0%9C%EC%98%A8%20E5-2640V3%20%ED%95%98%EC%8A%A4%EC%9B%B0-EP%20(2.6GHz/8C/20MB/LGA2011-V3)%20[%EC%BF%A8%EB%9F%AC%EB%AF%B8%ED%8F%AC%ED%95%A8]&img=http://shopping.phinf.naver.net/main_8359760/8359760466.jpg HTTP/1.1\" 200 62\n"
     ]
    },
    {
     "name": "stdout",
     "output_type": "stream",
     "text": [
      "classify called\n"
     ]
    },
    {
     "name": "stderr",
     "output_type": "stream",
     "text": [
      "121.140.65.88 - - [22/Aug/2016 08:11:28] \"GET /classify?name=%EB%8D%B8Dell%20%EC%97%90%EC%9D%BC%EB%A6%AC%EC%96%B8%EC%9B%A8%EC%96%B4%2013%20X54E501AKR%20[i5-4210U/8G/1TB/13.3%ED%98%95FHD/GTX860%202G]&img=http://shopping.phinf.naver.net/main_8367575/8367575310.jpg HTTP/1.1\" 200 105\n"
     ]
    },
    {
     "name": "stdout",
     "output_type": "stream",
     "text": [
      "classify called\n"
     ]
    },
    {
     "name": "stderr",
     "output_type": "stream",
     "text": [
      "121.140.65.88 - - [22/Aug/2016 08:11:29] \"GET /classify?name=%EC%95%A0%ED%94%8C%20%EB%A7%A5%EB%B6%81%EC%97%90%EC%96%B4%2013%ED%98%95%20MacBook%20Air%2013.3/1.6/4/128FLASH%20MJVE2KH/A%20(%EA%B8%B0%EC%A1%B4%EA%B0%80:1250000%EC%9B%90)&img=http://shopping.phinf.naver.net/main_8393059/8393059454.jpg HTTP/1.1\" 200 62\n"
     ]
    },
    {
     "name": "stdout",
     "output_type": "stream",
     "text": [
      "classify called\n"
     ]
    },
    {
     "name": "stderr",
     "output_type": "stream",
     "text": [
      "121.140.65.88 - - [22/Aug/2016 08:11:29] \"GET /classify?name=%EC%9D%B8%ED%85%94%20%ED%8E%9C%ED%8B%B0%EC%97%84%20%ED%95%98%EC%8A%A4%EC%9B%B0%20G3258&img=http://shopping.phinf.naver.net/main_7808758/7808758563.20140714102303.jpg HTTP/1.1\" 200 62\n"
     ]
    },
    {
     "name": "stdout",
     "output_type": "stream",
     "text": [
      "classify called\n"
     ]
    },
    {
     "name": "stderr",
     "output_type": "stream",
     "text": [
      "121.140.65.88 - - [22/Aug/2016 08:11:30] \"GET /classify?name=%EC%9D%B8%ED%85%94%20%ED%95%98%EC%8A%A4%EC%9B%B0%20%EB%A6%AC%ED%94%84%EB%A0%88%EC%8B%9C%204460&img=http://shopping.phinf.naver.net/main_7680589/7680589707.20140513153341.jpg HTTP/1.1\" 200 62\n"
     ]
    },
    {
     "name": "stdout",
     "output_type": "stream",
     "text": [
      "classify called\n"
     ]
    },
    {
     "name": "stderr",
     "output_type": "stream",
     "text": [
      "121.140.65.88 - - [22/Aug/2016 08:11:30] \"GET /classify?name=%EC%9D%B8%ED%85%94%20%EC%BD%94%EC%96%B4%20i3%20%EC%95%84%EC%9D%B4%EB%B9%84%EB%B8%8C%EB%A6%BF%EC%A7%80%203240&img=http://shopping.phinf.naver.net/main_6571999/6571999387.20120917145814.jpg HTTP/1.1\" 200 62\n"
     ]
    },
    {
     "name": "stdout",
     "output_type": "stream",
     "text": [
      "classify called\n"
     ]
    },
    {
     "name": "stderr",
     "output_type": "stream",
     "text": [
      "121.140.65.88 - - [22/Aug/2016 08:11:31] \"GET /classify?name=AMD%20%EC%B9%B4%EB%B2%A0%EB%A6%AC%207850K&img=http://shopping.phinf.naver.net/main_7417523/7417523561.20140116102830.jpg HTTP/1.1\" 200 62\n"
     ]
    },
    {
     "name": "stdout",
     "output_type": "stream",
     "text": [
      "classify called\n"
     ]
    },
    {
     "name": "stderr",
     "output_type": "stream",
     "text": [
      "121.140.65.88 - - [22/Aug/2016 08:11:31] \"GET /classify?name=%EC%9D%B8%ED%85%94%20%EC%85%80%EB%9F%AC%EB%A1%A0%20%EC%95%84%EC%9D%B4%EB%B9%84%EB%B8%8C%EB%A6%BF%EC%A7%80%20G1610&img=http://shopping.phinf.naver.net/main_6736638/6736638537.20130129155750.jpg HTTP/1.1\" 200 62\n"
     ]
    },
    {
     "name": "stdout",
     "output_type": "stream",
     "text": [
      "classify called\n"
     ]
    },
    {
     "name": "stderr",
     "output_type": "stream",
     "text": [
      "121.140.65.88 - - [22/Aug/2016 08:11:31] \"GET /classify?name=%EC%9D%B8%ED%85%94%20%EC%BD%94%EC%96%B42%20%EC%BF%BC%EB%93%9C%20%EC%BC%84%EC%B8%A0%ED%95%84%EB%93%9C%20Q6600&img=http://shopping.phinf.naver.net/main_4038912/4038912044.20120211213604.jpg HTTP/1.1\" 200 62\n"
     ]
    },
    {
     "name": "stdout",
     "output_type": "stream",
     "text": [
      "classify called\n"
     ]
    },
    {
     "name": "stderr",
     "output_type": "stream",
     "text": [
      "121.140.65.88 - - [22/Aug/2016 08:11:32] \"GET /classify?name=AMD%20%EC%95%A0%EC%8A%AC%EB%A1%A0%20%EC%B9%B4%EB%B9%84%EB%8B%88%205150&img=http://shopping.phinf.naver.net/main_7656791/7656791348.20140429113148.jpg HTTP/1.1\" 200 62\n"
     ]
    },
    {
     "name": "stdout",
     "output_type": "stream",
     "text": [
      "classify called\n"
     ]
    },
    {
     "name": "stderr",
     "output_type": "stream",
     "text": [
      "121.140.65.88 - - [22/Aug/2016 08:11:32] \"GET /classify?name=%EC%9D%B8%ED%85%94%20%EC%A0%9C%EC%98%A8%20%ED%95%98%EC%8A%A4%EC%9B%B0-EP%20E5-2697V3&img=http://shopping.phinf.naver.net/main_8219836/8219836165.20150119172749.jpg HTTP/1.1\" 200 62\n"
     ]
    },
    {
     "name": "stdout",
     "output_type": "stream",
     "text": [
      "classify called\n"
     ]
    },
    {
     "name": "stderr",
     "output_type": "stream",
     "text": [
      "121.140.65.88 - - [22/Aug/2016 08:11:33] \"GET /classify?name=AMD%20%EB%8D%B0%EB%84%A4%EB%B8%8C%20955&img=http://shopping.phinf.naver.net/main_5707410/5707410293.20120211194246.jpg HTTP/1.1\" 200 62\n"
     ]
    },
    {
     "name": "stdout",
     "output_type": "stream",
     "text": [
      "classify called\n"
     ]
    },
    {
     "name": "stderr",
     "output_type": "stream",
     "text": [
      "121.140.65.88 - - [22/Aug/2016 08:11:33] \"GET /classify?name=%E6%AD%A3%E5%93%81%20%EC%9D%B8%ED%85%94%20%EC%BD%94%EC%96%B44%EC%84%B8%EB%8C%80%20i3-4150%20%EB%B2%8C%ED%81%AC(%ED%95%98%EC%8A%A4%EC%9B%B0%20%EB%A6%AC%ED%94%8C%EB%A0%88%EC%8B%9C/3.5GHz/3MB/%EC%BF%A8%EB%9F%AC%EB%AF%B8%ED%8F%AC%ED%95%A8)[1%EB%B0%952%EC%9D%BC%20%EB%8B%B9%EC%9D%BC%EB%B0%9C%EC%86%A1]&img=http://shopping.phinf.naver.net/main_8260631/8260631110.jpg HTTP/1.1\" 200 62\n"
     ]
    },
    {
     "name": "stdout",
     "output_type": "stream",
     "text": [
      "classify called\n"
     ]
    },
    {
     "name": "stderr",
     "output_type": "stream",
     "text": [
      "121.140.65.88 - - [22/Aug/2016 08:11:33] \"GET /classify?name=AMD%20%EB%A6%AC%EC%B9%98%EB%9E%9C%EB%93%9C%206300&img=http://shopping.phinf.naver.net/main_7389855/7389855215.20140113160538.jpg HTTP/1.1\" 200 62\n"
     ]
    },
    {
     "name": "stdout",
     "output_type": "stream",
     "text": [
      "classify called\n"
     ]
    },
    {
     "name": "stderr",
     "output_type": "stream",
     "text": [
      "121.140.65.88 - - [22/Aug/2016 08:11:34] \"GET /classify?name=%EC%9D%B8%ED%85%94%20%EC%A0%9C%EC%98%A8%20%EC%95%84%EC%9D%B4%EB%B9%84%EB%B8%8C%EB%A6%BF%EC%A7%80%20E5-2690V2&img=http://shopping.phinf.naver.net/main_7534573/7534573561.20140304164213.jpg HTTP/1.1\" 200 62\n"
     ]
    },
    {
     "name": "stdout",
     "output_type": "stream",
     "text": [
      "classify called\n"
     ]
    },
    {
     "name": "stderr",
     "output_type": "stream",
     "text": [
      "121.140.65.88 - - [22/Aug/2016 08:11:34] \"GET /classify?name=[4%%EC%A6%89%EC%8B%9C%ED%95%A0%EC%9D%B8%EC%BF%A0%ED%8F%B0]%EC%9D%B8%ED%85%94%20%EC%BD%94%EC%96%B4%20i5%204%EC%84%B8%EB%8C%80%204690%20%ED%95%98%EC%8A%A4%EC%9B%B0%20%EB%A6%AC%ED%94%84%EB%A0%88%EC%8B%9C%203.5GHz&img=http://shopping.phinf.naver.net/main_8265481/8265481156.jpg HTTP/1.1\" 200 62\n"
     ]
    },
    {
     "name": "stdout",
     "output_type": "stream",
     "text": [
      "classify called\n"
     ]
    },
    {
     "name": "stderr",
     "output_type": "stream",
     "text": [
      "121.140.65.88 - - [22/Aug/2016 08:11:35] \"GET /classify?name=YBH%20%EC%9D%B8%ED%85%94%20%EC%BD%94%EC%96%B4i3-4%EC%84%B8%EB%8C%80%204160%20(%ED%95%98%EC%8A%A4%EC%9B%B0%20%EB%A6%AC%ED%94%84%EB%A0%88%EC%8B%9C)%20(%EC%A0%95%ED%92%88)&img=http://shopping.phinf.naver.net/main_8258571/8258571328.jpg HTTP/1.1\" 200 62\n"
     ]
    },
    {
     "name": "stdout",
     "output_type": "stream",
     "text": [
      "classify called\n"
     ]
    },
    {
     "name": "stderr",
     "output_type": "stream",
     "text": [
      "121.140.65.88 - - [22/Aug/2016 08:11:35] \"GET /classify?name=[4%%EC%A6%89%EC%8B%9C%ED%95%A0%EC%9D%B8%EC%BF%A0%ED%8F%B0][AMD%20%EC%A0%95%ED%92%88]%20%ED%8A%B8%EB%A6%AC%EB%8B%88%ED%8B%B0%20A6%205400k%20(3.6GHz)%20/(%EC%A3%BC)%EB%B9%84%EC%97%98%EB%B9%84%EC%A6%88%2002-711-3540&img=http://shopping.phinf.naver.net/main_8276739/8276739296.jpg HTTP/1.1\" 200 62\n"
     ]
    },
    {
     "name": "stdout",
     "output_type": "stream",
     "text": [
      "classify called\n"
     ]
    },
    {
     "name": "stderr",
     "output_type": "stream",
     "text": [
      "121.140.65.88 - - [22/Aug/2016 08:11:36] \"GET /classify?name=%7BBLBiz%7D%20AMD%20%EC%95%A0%EC%8A%AC%EB%A1%A0%20APU%205350%20(%EC%B9%B4%EB%B9%84%EB%8B%88)%20(%EC%A0%95%ED%92%88)&img=http://shopping.phinf.naver.net/main_8281705/8281705849.jpg HTTP/1.1\" 200 62\n"
     ]
    },
    {
     "name": "stdout",
     "output_type": "stream",
     "text": [
      "classify called\n"
     ]
    },
    {
     "name": "stderr",
     "output_type": "stream",
     "text": [
      "121.140.65.88 - - [22/Aug/2016 08:11:36] \"GET /classify?name=%EC%9D%B8%ED%85%94%20%ED%8E%9C%ED%8B%B0%EC%97%84%20G3460%20(%ED%95%98%EC%8A%A4%EC%9B%B0%20%EB%A6%AC%ED%94%84%EB%A0%88%EC%8B%9C)%20(%EB%B2%8C%ED%81%AC/%EC%BF%A8%EB%9F%ACX)[%20%20%EB%8B%A8%EA%B3%A8%EC%B6%94%EA%B0%80%ED%95%A0%EC%9D%B8/%EB%B0%A9%EB%AC%B8%EC%88%98%EB%A0%B9/%EB%8B%B9%EC%9D%BC%EC%B6%9C%EA%B3%A0%20%20]&img=http://shopping.phinf.naver.net/main_8281671/8281671805.jpg HTTP/1.1\" 200 62\n"
     ]
    },
    {
     "name": "stdout",
     "output_type": "stream",
     "text": [
      "classify called\n"
     ]
    },
    {
     "name": "stderr",
     "output_type": "stream",
     "text": [
      "121.140.65.88 - - [22/Aug/2016 08:11:37] \"GET /classify?name=%EC%9D%B8%ED%85%94%20%EC%A0%9C%EC%98%A8%20%EC%95%84%EC%9D%B4%EB%B9%84%EB%B8%8C%EB%A6%BF%EC%A7%80%20E5-2680V2&img=http://shopping.phinf.naver.net/main_7534606/7534606762.20140304172305.jpg HTTP/1.1\" 200 62\n"
     ]
    },
    {
     "name": "stdout",
     "output_type": "stream",
     "text": [
      "classify called\n"
     ]
    },
    {
     "name": "stderr",
     "output_type": "stream",
     "text": [
      "121.140.65.88 - - [22/Aug/2016 08:11:37] \"GET /classify?name=[4%%EC%A6%89%EC%8B%9C%ED%95%A0%EC%9D%B8%EC%BF%A0%ED%8F%B0]%20%EC%9D%B8%ED%85%94%20G3440%20(%EC%A0%95%ED%92%88)&img=http://shopping.phinf.naver.net/main_8276155/8276155769.jpg HTTP/1.1\" 200 62\n"
     ]
    },
    {
     "name": "stdout",
     "output_type": "stream",
     "text": [
      "classify called\n"
     ]
    },
    {
     "name": "stderr",
     "output_type": "stream",
     "text": [
      "121.140.65.88 - - [22/Aug/2016 08:11:37] \"GET /classify?name=%EC%9D%B8%ED%85%94%20%ED%95%98%EC%8A%A4%EC%9B%B0%20%EB%A6%AC%ED%94%84%EB%A0%88%EC%8B%9C%204690&img=http://shopping.phinf.naver.net/main_7680476/7680476649.20140513142455.jpg HTTP/1.1\" 200 62\n"
     ]
    },
    {
     "name": "stdout",
     "output_type": "stream",
     "text": [
      "classify called\n"
     ]
    },
    {
     "name": "stderr",
     "output_type": "stream",
     "text": [
      "121.140.65.88 - - [22/Aug/2016 08:11:38] \"GET /classify?name=[4%%EC%A6%89%EC%8B%9C%ED%95%A0%EC%9D%B8%EC%BF%A0%ED%8F%B0]xeon%20E5440%EC%BF%BC%EB%93%9C%EC%BD%94%EC%96%B4%202.83G%20%EC%A0%9C%EC%98%A8E5440&img=http://shopping.phinf.naver.net/main_8276237/8276237505.jpg HTTP/1.1\" 200 62\n"
     ]
    },
    {
     "name": "stdout",
     "output_type": "stream",
     "text": [
      "classify called\n"
     ]
    },
    {
     "name": "stderr",
     "output_type": "stream",
     "text": [
      "121.140.65.88 - - [22/Aug/2016 08:11:38] \"GET /classify?name=%EC%9D%B8%ED%85%94%20%EC%A0%9C%EC%98%A8%20%EC%95%84%EC%9D%B4%EB%B8%8C%EB%A6%BF%EC%A7%80%20E3-1240V2&img=http://shopping.phinf.naver.net/main_6573389/6573389955.20120917142627.jpg HTTP/1.1\" 200 62\n"
     ]
    },
    {
     "name": "stdout",
     "output_type": "stream",
     "text": [
      "classify called\n"
     ]
    },
    {
     "name": "stderr",
     "output_type": "stream",
     "text": [
      "121.140.65.88 - - [22/Aug/2016 08:11:39] \"GET /classify?name=[4%%EC%A6%89%EC%8B%9C%ED%95%A0%EC%9D%B8%EC%BF%A0%ED%8F%B0]%EC%9D%B8%ED%85%94%20intel%20%EC%BD%94%EC%96%B44%EC%84%B8%EB%8C%80%20%ED%95%98%EC%8A%A4%EC%9B%B0%20i5-4690&img=http://shopping.phinf.naver.net/main_8351196/8351196291.jpg HTTP/1.1\" 200 62\n"
     ]
    },
    {
     "name": "stdout",
     "output_type": "stream",
     "text": [
      "classify called\n"
     ]
    },
    {
     "name": "stderr",
     "output_type": "stream",
     "text": [
      "121.140.65.88 - - [22/Aug/2016 08:11:39] \"GET /classify?name=[%ED%94%BC%EC%94%A8%EC%82%AC%EC%9E%90]%20%EC%9D%B8%ED%85%94%20%EC%BD%94%EC%96%B4i5-4%EC%84%B8%EB%8C%80%204690%20(%ED%95%98%EC%8A%A4%EC%9B%B0%20%EB%A6%AC%ED%94%84%EB%A0%88%EC%8B%9C)%20(%EB%B2%8C%ED%81%AC)&img=http://shopping.phinf.naver.net/main_8097113/8097113683.jpg HTTP/1.1\" 200 62\n"
     ]
    },
    {
     "name": "stdout",
     "output_type": "stream",
     "text": [
      "classify called\n"
     ]
    },
    {
     "name": "stderr",
     "output_type": "stream",
     "text": [
      "121.140.65.88 - - [22/Aug/2016 08:11:39] \"GET /classify?name=%EC%9D%B8%ED%85%94%20%EC%BD%94%EC%96%B4%20i5%204%EC%84%B8%EB%8C%80%204690K%20%EB%8D%B0%EB%B9%8C%EC%8A%A4%EC%BA%90%EB%85%84%20_%EC%BB%B4%ED%93%A8%ED%84%B0/%EB%B6%80%ED%92%88/CPU&img=http://shopping.phinf.naver.net/main_8352308/8352308550.jpg HTTP/1.1\" 200 62\n"
     ]
    },
    {
     "name": "stdout",
     "output_type": "stream",
     "text": [
      "classify called\n"
     ]
    },
    {
     "name": "stderr",
     "output_type": "stream",
     "text": [
      "121.140.65.88 - - [22/Aug/2016 08:11:40] \"GET /classify?name=[%EB%A7%88%EC%9D%B4%ED%94%BC%EC%94%A8%EC%83%B5]%20%EC%9D%B8%ED%85%94%20%EC%BD%94%EC%96%B4i5-4%EC%84%B8%EB%8C%80%204690%20(%ED%95%98%EC%8A%A4%EC%9B%B0%20%EB%A6%AC%ED%94%84%EB%A0%88%EC%8B%9C)%20(%EC%A0%95%ED%92%88)&img=http://shopping.phinf.naver.net/main_7802929/7802929194.jpg HTTP/1.1\" 200 62\n"
     ]
    },
    {
     "name": "stdout",
     "output_type": "stream",
     "text": [
      "classify called\n"
     ]
    },
    {
     "name": "stderr",
     "output_type": "stream",
     "text": [
      "121.140.65.88 - - [22/Aug/2016 08:11:40] \"GET /classify?name=[%ED%95%B4%EC%99%B8]IntelIntel%20MOBILE%20PENTIUM%204%20SL6FK:%202%20GHz%20400%20MHz%20512KB%20478%20Pin&img=http://shopping.phinf.naver.net/main_8275919/8275919989.jpg HTTP/1.1\" 200 62\n"
     ]
    },
    {
     "name": "stdout",
     "output_type": "stream",
     "text": [
      "classify called\n"
     ]
    },
    {
     "name": "stderr",
     "output_type": "stream",
     "text": [
      "121.140.65.88 - - [22/Aug/2016 08:11:41] \"GET /classify?name=[%ED%95%B4%EC%99%B8]AMDAMD%20A6-5400K%20APU%203.6Ghz%20Dual-Core%20Processor%20AD540KOKHJBOX&img=http://shopping.phinf.naver.net/main_8275987/8275987253.jpg HTTP/1.1\" 200 62\n"
     ]
    },
    {
     "name": "stdout",
     "output_type": "stream",
     "text": [
      "classify called\n"
     ]
    },
    {
     "name": "stderr",
     "output_type": "stream",
     "text": [
      "121.140.65.88 - - [22/Aug/2016 08:11:41] \"GET /classify?name=[4%%EC%A6%89%EC%8B%9C%ED%95%A0%EC%9D%B8%EC%BF%A0%ED%8F%B0]%EC%98%AC%ED%85%8C%ED%81%AC%20%ED%8E%80%EC%BF%A8%EB%9F%AC%20FC-8015-2P-BALL&img=http://shopping.phinf.naver.net/main_8268069/8268069269.jpg HTTP/1.1\" 200 109\n"
     ]
    },
    {
     "name": "stdout",
     "output_type": "stream",
     "text": [
      "classify called\n"
     ]
    },
    {
     "name": "stderr",
     "output_type": "stream",
     "text": [
      "121.140.65.88 - - [22/Aug/2016 08:11:42] \"GET /classify?name=[4%%EC%A6%89%EC%8B%9C%ED%95%A0%EC%9D%B8%EC%BF%A0%ED%8F%B0]%EC%9D%B8%ED%85%94%20%EC%BD%94%EC%96%B4i3-4%EC%84%B8%EB%8C%80%204330%20(%ED%95%98%EC%8A%A4%EC%9B%B0)%20(%EC%A0%95%ED%92%88)&img=http://shopping.phinf.naver.net/main_8278218/8278218985.jpg HTTP/1.1\" 200 62\n"
     ]
    },
    {
     "name": "stdout",
     "output_type": "stream",
     "text": [
      "classify called\n"
     ]
    },
    {
     "name": "stderr",
     "output_type": "stream",
     "text": [
      "121.140.65.88 - - [22/Aug/2016 08:11:42] \"GET /classify?name=[4%%EC%A6%89%EC%8B%9C%ED%95%A0%EC%9D%B8%EC%BF%A0%ED%8F%B0]SAFE-1000H&img=http://shopping.phinf.naver.net/main_8277623/8277623877.jpg HTTP/1.1\" 200 72\n"
     ]
    },
    {
     "name": "stdout",
     "output_type": "stream",
     "text": [
      "classify called\n"
     ]
    },
    {
     "name": "stderr",
     "output_type": "stream",
     "text": [
      "121.140.65.88 - - [22/Aug/2016 08:11:42] \"GET /classify?name=%EC%9D%B8%ED%85%94%20%EC%BD%94%EC%96%B4i3-4%EC%84%B8%EB%8C%80%204370%20%ED%95%98%EC%8A%A4%EC%9B%B0%20%EB%A6%AC%ED%94%84%EB%A0%88%EC%8B%9C%20(%EB%B2%8C%ED%81%AC/%EC%BF%A8%EB%9F%ACX&img=http://shopping.phinf.naver.net/main_8276685/8276685129.jpg HTTP/1.1\" 200 62\n"
     ]
    },
    {
     "name": "stdout",
     "output_type": "stream",
     "text": [
      "classify called\n"
     ]
    },
    {
     "name": "stderr",
     "output_type": "stream",
     "text": [
      "121.140.65.88 - - [22/Aug/2016 08:11:43] \"GET /classify?name=[%ED%95%B4%EC%99%B8]IntelIntel%20Core%20i3-4130%203.4%203%20FCLGA%201150%20Processor%20BX80646I34130&img=http://shopping.phinf.naver.net/main_8275987/8275987264.jpg HTTP/1.1\" 200 62\n"
     ]
    },
    {
     "name": "stdout",
     "output_type": "stream",
     "text": [
      "classify called\n"
     ]
    },
    {
     "name": "stderr",
     "output_type": "stream",
     "text": [
      "121.140.65.88 - - [22/Aug/2016 08:11:43] \"GET /classify?name=[%ED%95%B4%EC%99%B8]IntelIntel%20i7-4820K%20FCLGA2011%203.70%20GHz%2064%20bit%20Processor%2010MB%20Cache&img=http://shopping.phinf.naver.net/main_8275920/8275920068.jpg HTTP/1.1\" 200 62\n"
     ]
    },
    {
     "name": "stdout",
     "output_type": "stream",
     "text": [
      "classify called\n"
     ]
    },
    {
     "name": "stderr",
     "output_type": "stream",
     "text": [
      "121.140.65.88 - - [22/Aug/2016 08:11:44] \"GET /classify?name=[%ED%95%B4%EC%99%B8]HPHP%20Xeon%205140%202.33GHZ%20Dc%20Processor%20for%20BL460C&img=http://shopping.phinf.naver.net/main_8275919/8275919876.jpg HTTP/1.1\" 200 62\n"
     ]
    },
    {
     "name": "stdout",
     "output_type": "stream",
     "text": [
      "classify called\n"
     ]
    },
    {
     "name": "stderr",
     "output_type": "stream",
     "text": [
      "121.140.65.88 - - [22/Aug/2016 08:11:44] \"GET /classify?name=[%ED%95%B4%EC%99%B8]IBMIBM%20Xeon%20E5-2650V2%202.6%20GHz%208%20LGA%202011%20Processor%2046W4365&img=http://shopping.phinf.naver.net/main_8275919/8275919908.jpg HTTP/1.1\" 200 62\n"
     ]
    },
    {
     "name": "stdout",
     "output_type": "stream",
     "text": [
      "classify called\n"
     ]
    },
    {
     "name": "stderr",
     "output_type": "stream",
     "text": [
      "121.140.65.88 - - [22/Aug/2016 08:11:45] \"GET /classify?name=[%ED%95%B4%EC%99%B8]IntelIntel%20I5-4440%20Processor%20BX80646I54440&img=http://shopping.phinf.naver.net/main_8275920/8275920103.jpg HTTP/1.1\" 200 62\n"
     ]
    },
    {
     "name": "stdout",
     "output_type": "stream",
     "text": [
      "classify called\n"
     ]
    },
    {
     "name": "stderr",
     "output_type": "stream",
     "text": [
      "121.140.65.88 - - [22/Aug/2016 08:11:45] \"GET /classify?name=[%ED%95%B4%EC%99%B8]IntelIntel%20Core%20i7-5960X%20Haswell-E%208-Core%203.0GHz%20LGA%202011-v3%20140W%20Desktop%20Processor%20BX80648I7596&img=http://shopping.phinf.naver.net/main_8275920/8275920074.jpg HTTP/1.1\" 200 62\n"
     ]
    },
    {
     "name": "stdout",
     "output_type": "stream",
     "text": [
      "classify called\n"
     ]
    },
    {
     "name": "stderr",
     "output_type": "stream",
     "text": [
      "121.140.65.88 - - [22/Aug/2016 08:11:45] \"GET /classify?name=[%ED%95%B4%EC%99%B8]IntelIntel%20Xeon%20E5-2403%201.8%20GHz%20Processor%20BX80621E52403&img=http://shopping.phinf.naver.net/main_8275919/8275919886.jpg HTTP/1.1\" 200 62\n"
     ]
    },
    {
     "name": "stdout",
     "output_type": "stream",
     "text": [
      "classify called\n"
     ]
    },
    {
     "name": "stderr",
     "output_type": "stream",
     "text": [
      "121.140.65.88 - - [22/Aug/2016 08:11:46] \"GET /classify?name=[%ED%95%B4%EC%99%B8]IntelIntel%20Xeon%20E3-1245V3%20Haswell%203.4GHz%208MB%20L3%20Cache%20LGA%201150%2084W%20Quad-Core%20Server%20Processor%20BX&img=http://shopping.phinf.naver.net/main_8275919/8275919954.jpg HTTP/1.1\" 200 62\n"
     ]
    },
    {
     "name": "stdout",
     "output_type": "stream",
     "text": [
      "classify called\n"
     ]
    },
    {
     "name": "stderr",
     "output_type": "stream",
     "text": [
      "121.140.65.88 - - [22/Aug/2016 08:11:46] \"GET /classify?name=[%ED%95%B4%EC%99%B8]IntelIntel%20Xeon%206C%20E5%202620%202.0%20GHz%206%20LGA%202011%20Processor%20BX80621E52620&img=http://shopping.phinf.naver.net/main_8275919/8275919956.jpg HTTP/1.1\" 200 62\n"
     ]
    },
    {
     "name": "stdout",
     "output_type": "stream",
     "text": [
      "classify called\n"
     ]
    },
    {
     "name": "stderr",
     "output_type": "stream",
     "text": [
      "121.140.65.88 - - [22/Aug/2016 08:11:47] \"GET /classify?name=[%ED%95%B4%EC%99%B8]HPHP%20Xeon%20E5-2620%202%20GHz%206%20LGA%202011%20Processor%20660598-B21&img=http://shopping.phinf.naver.net/main_8275919/8275919893.jpg HTTP/1.1\" 200 62\n"
     ]
    },
    {
     "name": "stdout",
     "output_type": "stream",
     "text": [
      "classify called\n"
     ]
    },
    {
     "name": "stderr",
     "output_type": "stream",
     "text": [
      "121.140.65.88 - - [22/Aug/2016 08:11:47] \"GET /classify?name=[%ED%95%B4%EC%99%B8]IntelIntel%20Core%20i7-3820%20Quad-Core%20Processor%203.6%20GHz%2010%20MB%20Cache%20LGA%202011%20-%20BX80619I73820&img=http://shopping.phinf.naver.net/main_8275920/8275920058.jpg HTTP/1.1\" 200 62\n"
     ]
    },
    {
     "name": "stdout",
     "output_type": "stream",
     "text": [
      "classify called\n"
     ]
    },
    {
     "name": "stderr",
     "output_type": "stream",
     "text": [
      "121.140.65.88 - - [22/Aug/2016 08:11:47] \"GET /classify?name=[%ED%95%B4%EC%99%B8][%EA%B5%AC%EB%A7%A4%EB%8C%80%ED%96%89][B00MMVIFZM]%20Voltage%20References%203.3V%20Prec%20Micropwr%20LDO%20Low%20VRef%20(5%20pieces)&img=http://shopping.phinf.naver.net/main_8266191/8266191804.jpg HTTP/1.1\" 200 72\n"
     ]
    },
    {
     "name": "stdout",
     "output_type": "stream",
     "text": [
      "classify called\n"
     ]
    },
    {
     "name": "stderr",
     "output_type": "stream",
     "text": [
      "121.140.65.88 - - [22/Aug/2016 08:11:48] \"GET /classify?name=[%ED%95%B4%EC%99%B8][%EA%B5%AC%EB%A7%A4%EB%8C%80%ED%96%89][B00AZVJIEI]%20AD7524LNZ&img=http://shopping.phinf.naver.net/main_8266272/8266272594.jpg HTTP/1.1\" 200 72\n"
     ]
    },
    {
     "name": "stdout",
     "output_type": "stream",
     "text": [
      "classify called\n"
     ]
    },
    {
     "name": "stderr",
     "output_type": "stream",
     "text": [
      "121.140.65.88 - - [22/Aug/2016 08:11:48] \"GET /classify?name=[%ED%95%B4%EC%99%B8][%EA%B5%AC%EB%A7%A4%EB%8C%80%ED%96%89][B00MMUWSNS]%20LVDS%20Interface%20IC%20200Mbps%20Half-Duplex%203.3V%20Hi%20Spd%20(5%20pieces)&img=http://shopping.phinf.naver.net/main_8266191/8266191047.jpg HTTP/1.1\" 200 72\n"
     ]
    },
    {
     "name": "stdout",
     "output_type": "stream",
     "text": [
      "classify called\n"
     ]
    },
    {
     "name": "stderr",
     "output_type": "stream",
     "text": [
      "121.140.65.88 - - [22/Aug/2016 08:11:49] \"GET /classify?name=[%ED%95%B4%EC%99%B8][%EA%B5%AC%EB%A7%A4%EB%8C%80%ED%96%89][B00AZVFQG2]%20AD629BNZ&img=http://shopping.phinf.naver.net/main_8266270/8266270987.jpg HTTP/1.1\" 200 72\n"
     ]
    },
    {
     "name": "stdout",
     "output_type": "stream",
     "text": [
      "classify called\n"
     ]
    },
    {
     "name": "stderr",
     "output_type": "stream",
     "text": [
      "121.140.65.88 - - [22/Aug/2016 08:11:49] \"GET /classify?name=[%ED%95%B4%EC%99%B8][%EA%B5%AC%EB%A7%A4%EB%8C%80%ED%96%89][B00AZVMJO4]%20AD713JRZ-16-REEL7&img=http://shopping.phinf.naver.net/main_8266272/8266272191.jpg HTTP/1.1\" 200 72\n"
     ]
    },
    {
     "name": "stdout",
     "output_type": "stream",
     "text": [
      "classify called\n"
     ]
    },
    {
     "name": "stderr",
     "output_type": "stream",
     "text": [
      "121.140.65.88 - - [22/Aug/2016 08:11:50] \"GET /classify?name=[%ED%95%B4%EC%99%B8]HRTHRT%20-%20Istreamer%20-%20Outboard%20DAC%20for%20Idevices%2012v%20Version&img=http://shopping.phinf.naver.net/main_8275989/8275989792.jpg HTTP/1.1\" 200 72\n"
     ]
    },
    {
     "name": "stdout",
     "output_type": "stream",
     "text": [
      "classify called\n"
     ]
    },
    {
     "name": "stderr",
     "output_type": "stream",
     "text": [
      "121.140.65.88 - - [22/Aug/2016 08:11:50] \"GET /classify?name=[5%%20%EC%A6%89%EC%8B%9C%ED%95%A0%EC%9D%B8][%ED%95%B4%EC%99%B8%EC%A7%81%EB%B0%B0%EC%86%A1]Panlong%20Digital%20to%20Analog%20Audio%20Converter%20-%20Optical%20SPDIF%20Toslink%20Coaxial%20to%20RCA%20L/R&img=http://shopping.phinf.naver.net/main_8280548/8280548735.jpg HTTP/1.1\" 200 72\n"
     ]
    },
    {
     "name": "stdout",
     "output_type": "stream",
     "text": [
      "classify called\n"
     ]
    },
    {
     "name": "stderr",
     "output_type": "stream",
     "text": [
      "121.140.65.88 - - [22/Aug/2016 08:11:50] \"GET /classify?name=[4%%EC%A6%89%EC%8B%9C%ED%95%A0%EC%9D%B8%EC%BF%A0%ED%8F%B0][%ED%95%B4%EC%99%B8]%20Semlos%203-In%201-Out%20Spdif%20/%20Toslink%20Digital%20Optical%20%20%EC%B5%9C%EC%A0%80%EA%B0%80%20%ED%95%B4%EC%99%B8%EA%B5%AC%EB%A7%A4%EB%8C%80%ED%96%89%20%EC%A0%84%EB%AC%B8%EC%84%9C%EB%B9%84%EC%8A%A4&img=http://shopping.phinf.naver.net/main_8261585/8261585711.jpg HTTP/1.1\" 200 95\n"
     ]
    },
    {
     "name": "stdout",
     "output_type": "stream",
     "text": [
      "classify called\n"
     ]
    },
    {
     "name": "stderr",
     "output_type": "stream",
     "text": [
      "121.140.65.88 - - [22/Aug/2016 08:11:51] \"GET /classify?name=[%ED%95%B4%EC%99%B8][%EA%B5%AC%EB%A7%A4%EB%8C%80%ED%96%89][B00AZVIVWS]%20ADA4841-2YRZ&img=http://shopping.phinf.naver.net/main_8266271/8266271561.jpg HTTP/1.1\" 200 72\n"
     ]
    },
    {
     "name": "stdout",
     "output_type": "stream",
     "text": [
      "classify called\n"
     ]
    },
    {
     "name": "stderr",
     "output_type": "stream",
     "text": [
      "121.140.65.88 - - [22/Aug/2016 08:11:51] \"GET /classify?name=[%ED%95%B4%EC%99%B8][%EA%B5%AC%EB%A7%A4%EB%8C%80%ED%96%89][B00AZVMOH6]%20ADR445ARZ&img=http://shopping.phinf.naver.net/main_8266272/8266272177.jpg HTTP/1.1\" 200 72\n"
     ]
    },
    {
     "name": "stdout",
     "output_type": "stream",
     "text": [
      "classify called\n"
     ]
    },
    {
     "name": "stderr",
     "output_type": "stream",
     "text": [
      "121.140.65.88 - - [22/Aug/2016 08:11:52] \"GET /classify?name=[%ED%95%B4%EC%99%B8][%EA%B5%AC%EB%A7%A4%EB%8C%80%ED%96%89][B00MN4REVE]%20Interface%20-%20CODECs%202%20ADC%20%20frasl;%208%20DAC%20w%20%20frasl;%20%20PLL%20192kHz%2024B&img=http://shopping.phinf.naver.net/main_8266217/8266217901.jpg HTTP/1.1\" 200 72\n"
     ]
    },
    {
     "name": "stdout",
     "output_type": "stream",
     "text": [
      "classify called\n"
     ]
    },
    {
     "name": "stderr",
     "output_type": "stream",
     "text": [
      "121.140.65.88 - - [22/Aug/2016 08:11:52] \"GET /classify?name=[%ED%95%B4%EC%99%B8][%EA%B5%AC%EB%A7%A4%EB%8C%80%ED%96%89][B00AZVJL0Y]%20ADA4092-4ARUZ&img=http://shopping.phinf.naver.net/main_8266271/8266271811.jpg HTTP/1.1\" 200 72\n"
     ]
    },
    {
     "name": "stdout",
     "output_type": "stream",
     "text": [
      "classify called\n"
     ]
    },
    {
     "name": "stderr",
     "output_type": "stream",
     "text": [
      "121.140.65.88 - - [22/Aug/2016 08:11:53] \"GET /classify?name=[%ED%95%B4%EC%99%B8][%EA%B5%AC%EB%A7%A4%EB%8C%80%ED%96%89][B00AZVGFEE]%20INA114AU&img=http://shopping.phinf.naver.net/main_8266274/8266274112.jpg HTTP/1.1\" 200 72\n"
     ]
    },
    {
     "name": "stdout",
     "output_type": "stream",
     "text": [
      "classify called\n"
     ]
    },
    {
     "name": "stderr",
     "output_type": "stream",
     "text": [
      "121.140.65.88 - - [22/Aug/2016 08:11:53] \"GET /classify?name=[%ED%95%B4%EC%99%B8][%EA%B5%AC%EB%A7%A4%EB%8C%80%ED%96%89][B00AZVCBRY]%20OP747ARZ&img=http://shopping.phinf.naver.net/main_8266268/8266268940.jpg HTTP/1.1\" 200 72\n"
     ]
    },
    {
     "name": "stdout",
     "output_type": "stream",
     "text": [
      "classify called\n"
     ]
    },
    {
     "name": "stderr",
     "output_type": "stream",
     "text": [
      "121.140.65.88 - - [22/Aug/2016 08:11:53] \"GET /classify?name=[%ED%95%B4%EC%99%B8][%EA%B5%AC%EB%A7%A4%EB%8C%80%ED%96%89][B005TAG118]%20UC3825BDW&img=http://shopping.phinf.naver.net/main_8266273/8266273845.jpg HTTP/1.1\" 200 72\n"
     ]
    },
    {
     "name": "stdout",
     "output_type": "stream",
     "text": [
      "classify called\n"
     ]
    },
    {
     "name": "stderr",
     "output_type": "stream",
     "text": [
      "121.140.65.88 - - [22/Aug/2016 08:11:54] \"GET /classify?name=[%ED%95%B4%EC%99%B8][%EA%B5%AC%EB%A7%A4%EB%8C%80%ED%96%89][B005TAR8VA]%20INA114BU&img=http://shopping.phinf.naver.net/main_8266272/8266272533.jpg HTTP/1.1\" 200 72\n"
     ]
    },
    {
     "name": "stdout",
     "output_type": "stream",
     "text": [
      "classify called\n"
     ]
    },
    {
     "name": "stderr",
     "output_type": "stream",
     "text": [
      "121.140.65.88 - - [22/Aug/2016 08:11:54] \"GET /classify?name=[%ED%95%B4%EC%99%B8][%EA%B5%AC%EB%A7%A4%EB%8C%80%ED%96%89][B00AZVE2BC]%20MAX218CPP+&img=http://shopping.phinf.naver.net/main_8266270/8266270413.jpg HTTP/1.1\" 200 72\n"
     ]
    },
    {
     "name": "stdout",
     "output_type": "stream",
     "text": [
      "classify called\n"
     ]
    },
    {
     "name": "stderr",
     "output_type": "stream",
     "text": [
      "121.140.65.88 - - [22/Aug/2016 08:11:55] \"GET /classify?name=[%ED%95%B4%EC%99%B8][%EA%B5%AC%EB%A7%A4%EB%8C%80%ED%96%89][B00MMV8J58]%20RS-232%20Interface%20IC%20Hi-Spd%205V%20CMOS%20Driver%20%20frasl;%20Receiver%20(5%20pieces)&img=http://shopping.phinf.naver.net/main_8266191/8266191339.jpg HTTP/1.1\" 200 72\n"
     ]
    },
    {
     "name": "stdout",
     "output_type": "stream",
     "text": [
      "classify called\n"
     ]
    },
    {
     "name": "stderr",
     "output_type": "stream",
     "text": [
      "121.140.65.88 - - [22/Aug/2016 08:11:55] \"GET /classify?name=[%ED%95%B4%EC%99%B8][%EA%B5%AC%EB%A7%A4%EB%8C%80%ED%96%89][B00MN4PUS8]%20RS-232%20Interface%20IC%205V%20MultiCh%20RS-232%20Driver%20%20frasl;%20Receiver&img=http://shopping.phinf.naver.net/main_8266217/8266217360.jpg HTTP/1.1\" 200 72\n"
     ]
    },
    {
     "name": "stdout",
     "output_type": "stream",
     "text": [
      "classify called\n"
     ]
    },
    {
     "name": "stderr",
     "output_type": "stream",
     "text": [
      "121.140.65.88 - - [22/Aug/2016 08:11:56] \"GET /classify?name=[%ED%95%B4%EC%99%B8][%EA%B5%AC%EB%A7%A4%EB%8C%80%ED%96%89][B00MMV2AYE]%20Voltage%20References%20Ultracompact%20Prec%205V%20(5%20pieces)&img=http://shopping.phinf.naver.net/main_8266191/8266191253.jpg HTTP/1.1\" 200 72\n"
     ]
    },
    {
     "name": "stdout",
     "output_type": "stream",
     "text": [
      "classify called\n"
     ]
    },
    {
     "name": "stderr",
     "output_type": "stream",
     "text": [
      "121.140.65.88 - - [22/Aug/2016 08:11:56] \"GET /classify?name=[%ED%95%B4%EC%99%B8][%EA%B5%AC%EB%A7%A4%EB%8C%80%ED%96%89][B00AZV40ZA]%20REF43GPZ&img=http://shopping.phinf.naver.net/main_8266267/8266267605.jpg HTTP/1.1\" 200 72\n"
     ]
    },
    {
     "name": "stdout",
     "output_type": "stream",
     "text": [
      "classify called\n"
     ]
    },
    {
     "name": "stderr",
     "output_type": "stream",
     "text": [
      "121.140.65.88 - - [22/Aug/2016 08:11:56] \"GET /classify?name=[%ED%95%B4%EC%99%B8][%EA%B5%AC%EB%A7%A4%EB%8C%80%ED%96%89][B00AZVFGIA]%20AD7780BRZ&img=http://shopping.phinf.naver.net/main_8266270/8266270845.jpg HTTP/1.1\" 200 72\n"
     ]
    },
    {
     "name": "stdout",
     "output_type": "stream",
     "text": [
      "classify called\n"
     ]
    },
    {
     "name": "stderr",
     "output_type": "stream",
     "text": [
      "121.140.65.88 - - [22/Aug/2016 08:11:57] \"GET /classify?name=[%ED%95%B4%EC%99%B8]Gustard%20ES9018%20DAC%20x12%20DAC%20Decoder%20Xmos%20USB%20Support%20DSD%20XLR%20Balanced%20Output&img=http://shopping.phinf.naver.net/main_8260193/8260193943.jpg HTTP/1.1\" 200 72\n"
     ]
    },
    {
     "name": "stdout",
     "output_type": "stream",
     "text": [
      "classify called\n"
     ]
    },
    {
     "name": "stderr",
     "output_type": "stream",
     "text": [
      "121.140.65.88 - - [22/Aug/2016 08:11:57] \"GET /classify?name=[%ED%95%B4%EC%99%B8]HI-FI%20Mini%20DAC%20TDA1543%20DIR9001%20NOS%20DAC%20Incl%20power%20ADP&img=http://shopping.phinf.naver.net/main_8269188/8269188506.jpg HTTP/1.1\" 200 72\n"
     ]
    },
    {
     "name": "stdout",
     "output_type": "stream",
     "text": [
      "classify called\n"
     ]
    },
    {
     "name": "stderr",
     "output_type": "stream",
     "text": [
      "121.140.65.88 - - [22/Aug/2016 08:11:58] \"GET /classify?name=[%ED%95%B4%EC%99%B8]Muse%20AT-HA20%20Stereo%20Headphone%20Amplifier%2012V%20500mA%20Black%20Silver&img=http://shopping.phinf.naver.net/main_8275539/8275539052.jpg HTTP/1.1\" 200 72\n"
     ]
    },
    {
     "name": "stdout",
     "output_type": "stream",
     "text": [
      "classify called\n"
     ]
    },
    {
     "name": "stderr",
     "output_type": "stream",
     "text": [
      "121.140.65.88 - - [22/Aug/2016 08:11:58] \"GET /classify?name=[%ED%95%B4%EC%99%B8]TPA3123%20Class%20D%20Mini%20Digital%20Amplifier%20Board%2020W+20W&img=http://shopping.phinf.naver.net/main_8269186/8269186136.jpg HTTP/1.1\" 200 72\n"
     ]
    },
    {
     "name": "stdout",
     "output_type": "stream",
     "text": [
      "classify called\n"
     ]
    },
    {
     "name": "stderr",
     "output_type": "stream",
     "text": [
      "121.140.65.88 - - [22/Aug/2016 08:11:58] \"GET /classify?name=[%ED%95%B4%EC%99%B8]Free%20Shipping%20Assembled%20TDA7492%2025W+25W%20Class%20D%20power%20amplifier%20board%20DC12V&img=http://shopping.phinf.naver.net/main_8269184/8269184914.jpg HTTP/1.1\" 200 72\n"
     ]
    },
    {
     "name": "stdout",
     "output_type": "stream",
     "text": [
      "classify called\n"
     ]
    },
    {
     "name": "stderr",
     "output_type": "stream",
     "text": [
      "121.140.65.88 - - [22/Aug/2016 08:11:59] \"GET /classify?name=[%ED%95%B4%EC%99%B8]A1%20headphone%20amplifier%20preamplifier%20with%20BD139%20BD140%20NE5532&img=http://shopping.phinf.naver.net/main_8269177/8269177140.jpg HTTP/1.1\" 200 72\n"
     ]
    },
    {
     "name": "stdout",
     "output_type": "stream",
     "text": [
      "classify called\n"
     ]
    },
    {
     "name": "stderr",
     "output_type": "stream",
     "text": [
      "121.140.65.88 - - [22/Aug/2016 08:11:59] \"GET /classify?name=[%ED%95%B4%EC%99%B8]TAS5630%20300W+300W%20Class%20D%20stereo%20amplifier%20Assembled%20Board%20Highly%20Recommend&img=http://shopping.phinf.naver.net/main_8269185/8269185923.jpg HTTP/1.1\" 200 72\n"
     ]
    },
    {
     "name": "stdout",
     "output_type": "stream",
     "text": [
      "classify called\n"
     ]
    },
    {
     "name": "stderr",
     "output_type": "stream",
     "text": [
      "121.140.65.88 - - [22/Aug/2016 08:12:00] \"GET /classify?name=[%ED%95%B4%EC%99%B8]SMSL%20S2%20TA2024%20Class-T%20Amp%20HI-FI%20Amplifier%202*15W%20+%20Built-in%20Headphone%20Amplifier&img=http://shopping.phinf.naver.net/main_8269181/8269181305.jpg HTTP/1.1\" 200 72\n"
     ]
    },
    {
     "name": "stdout",
     "output_type": "stream",
     "text": [
      "classify called\n"
     ]
    },
    {
     "name": "stderr",
     "output_type": "stream",
     "text": [
      "121.140.65.88 - - [22/Aug/2016 08:12:00] \"GET /classify?name=[%ED%95%B4%EC%99%B8]+/-20-28VAC%20LM3886%20+%20NE5532%20mixer%20amplifier%20finished%20board%202*68W&img=http://shopping.phinf.naver.net/main_8269177/8269177147.jpg HTTP/1.1\" 200 72\n"
     ]
    },
    {
     "name": "stdout",
     "output_type": "stream",
     "text": [
      "classify called\n"
     ]
    },
    {
     "name": "stderr",
     "output_type": "stream",
     "text": [
      "121.140.65.88 - - [22/Aug/2016 08:12:01] \"GET /classify?name=[%ED%95%B4%EC%99%B8]YJ%2024VDC%202.0%20channel%20class%20D%20Digital%20bluetooth%204.0%20version%20TPA3116%20power%20amplifier%202*50W&img=http://shopping.phinf.naver.net/main_8260194/8260194902.jpg HTTP/1.1\" 200 72\n"
     ]
    },
    {
     "name": "stdout",
     "output_type": "stream",
     "text": [
      "classify called\n"
     ]
    },
    {
     "name": "stderr",
     "output_type": "stream",
     "text": [
      "121.140.65.88 - - [22/Aug/2016 08:12:01] \"GET /classify?name=[%ED%95%B4%EC%99%B8]TOPPING%20TP31%20TP-31%20STEREO%20AMP%20%20%20Head%20AMP%20%20%2024/192%20DAC%20N&img=http://shopping.phinf.naver.net/main_8269188/8269188537.jpg HTTP/1.1\" 200 72\n"
     ]
    },
    {
     "name": "stdout",
     "output_type": "stream",
     "text": [
      "classify called\n"
     ]
    },
    {
     "name": "stderr",
     "output_type": "stream",
     "text": [
      "121.140.65.88 - - [22/Aug/2016 08:12:01] \"GET /classify?name=%E2%97%80CHORD%EA%B3%B5%EC%8B%9D%EB%8C%80%EB%A6%AC%EC%A0%90:%EB%A7%A4%EC%9E%A5%EB%B0%A9%EB%AC%B8%EC%B6%94%EA%B0%80%ED%95%A0%EC%9D%B8%E2%96%B6CHORD(%EC%BD%94%EB%93%9C)%20HUGO%20%EC%B5%9C%EC%83%81%EC%9C%84%20%ED%94%84%EB%A6%AC%EB%AF%B8%EC%97%84%20%ED%9C%B4%EB%8C%80%EC%9A%A9%20DAC/%ED%97%A4%EB%93%9C%ED%8F%B0%EC%95%B0%ED%94%84+SENNHEISER(%EC%A0%A0%ED%95%98%EC%9D%B4%EC%A0%80)%20IE800%20%ED%94%84%EB%A6%AC%EB%AF%B8%EC%97%84%20%EC%B5%9C%EC%83%81%EC%9C%84%20%EC%9D%B4%EC%96%B4%ED%8F%B0&img=http://shopping.phinf.naver.net/main_7736112/7736112734.jpg HTTP/1.1\" 200 72\n"
     ]
    },
    {
     "name": "stdout",
     "output_type": "stream",
     "text": [
      "classify called\n"
     ]
    },
    {
     "name": "stderr",
     "output_type": "stream",
     "text": [
      "121.140.65.88 - - [22/Aug/2016 08:12:02] \"GET /classify?name=[%ED%95%B4%EC%99%B8][%EA%B5%AC%EB%A7%A4%EB%8C%80%ED%96%89][B002DAO94S]%20OYAIDE%20audio%20cable%20HPC-35/R2.5%20Headphone%20Amp%20Speaker%203.5%20Stereo%20MIni%20-&img=http://shopping.phinf.naver.net/main_8141385/8141385363.jpg HTTP/1.1\" 200 72\n"
     ]
    },
    {
     "name": "stdout",
     "output_type": "stream",
     "text": [
      "classify called\n"
     ]
    },
    {
     "name": "stderr",
     "output_type": "stream",
     "text": [
      "121.140.65.88 - - [22/Aug/2016 08:12:02] \"GET /classify?name=UFO-DSD&img=http://shopping.phinf.naver.net/main_8166598/8166598997.20141219135536.jpg HTTP/1.1\" 200 107\n"
     ]
    },
    {
     "name": "stdout",
     "output_type": "stream",
     "text": [
      "classify called\n"
     ]
    },
    {
     "name": "stderr",
     "output_type": "stream",
     "text": [
      "121.140.65.88 - - [22/Aug/2016 08:12:03] \"GET /classify?name=[4%%EC%A6%89%EC%8B%9C%ED%95%A0%EC%9D%B8%EC%BF%A0%ED%8F%B0][%ED%95%B4%EC%99%B8]%20Topping%20VX1%20Class-T%20AMP%20Stereo%20Hi-Fi%20Power%20Subwoof%20%EC%B5%9C%EC%A0%80%EA%B0%80%20%ED%95%B4%EC%99%B8%EA%B5%AC%EB%A7%A4%EB%8C%80%ED%96%89%20%EC%A0%84%EB%AC%B8%EC%84%9C%EB%B9%84%EC%8A%A4&img=http://shopping.phinf.naver.net/main_8249354/8249354279.jpg HTTP/1.1\" 200 72\n"
     ]
    },
    {
     "name": "stdout",
     "output_type": "stream",
     "text": [
      "classify called\n"
     ]
    },
    {
     "name": "stderr",
     "output_type": "stream",
     "text": [
      "121.140.65.88 - - [22/Aug/2016 08:12:03] \"GET /classify?name=[%ED%95%B4%EC%99%B8][%EA%B5%AC%EB%A7%A4%EB%8C%80%ED%96%89][B00AZVJV9A]%20AD8626ARZ&img=http://shopping.phinf.naver.net/main_8266271/8266271712.jpg HTTP/1.1\" 200 72\n"
     ]
    },
    {
     "name": "stdout",
     "output_type": "stream",
     "text": [
      "classify called\n"
     ]
    },
    {
     "name": "stderr",
     "output_type": "stream",
     "text": [
      "121.140.65.88 - - [22/Aug/2016 08:12:04] \"GET /classify?name=[%ED%95%B4%EC%99%B8][%EA%B5%AC%EB%A7%A4%EB%8C%80%ED%96%89][B00AZVKDA6]%20AD5620BRJZ-2500RL7&img=http://shopping.phinf.naver.net/main_8266271/8266271975.jpg HTTP/1.1\" 200 72\n"
     ]
    },
    {
     "name": "stdout",
     "output_type": "stream",
     "text": [
      "classify called\n"
     ]
    },
    {
     "name": "stderr",
     "output_type": "stream",
     "text": [
      "121.140.65.88 - - [22/Aug/2016 08:12:04] \"GET /classify?name=[%ED%95%B4%EC%99%B8][%EA%B5%AC%EB%A7%A4%EB%8C%80%ED%96%89][B00AZVF5V8]%20OP213FSZ&img=http://shopping.phinf.naver.net/main_8266270/8266270864.jpg HTTP/1.1\" 200 72\n"
     ]
    },
    {
     "name": "stdout",
     "output_type": "stream",
     "text": [
      "classify called\n"
     ]
    },
    {
     "name": "stderr",
     "output_type": "stream",
     "text": [
      "121.140.65.88 - - [22/Aug/2016 08:12:04] \"GET /classify?name=[%ED%95%B4%EC%99%B8][%EA%B5%AC%EB%A7%A4%EB%8C%80%ED%96%89][B00AZV4104]%20ST7FLITE29F2B6&img=http://shopping.phinf.naver.net/main_8266267/8266267739.jpg HTTP/1.1\" 200 72\n"
     ]
    },
    {
     "name": "stdout",
     "output_type": "stream",
     "text": [
      "classify called\n"
     ]
    },
    {
     "name": "stderr",
     "output_type": "stream",
     "text": [
      "121.140.65.88 - - [22/Aug/2016 08:12:05] \"GET /classify?name=[%ED%95%B4%EC%99%B8][%EA%B5%AC%EB%A7%A4%EB%8C%80%ED%96%89][B00AZVJO06]%20AD8630ARUZ&img=http://shopping.phinf.naver.net/main_8266271/8266271456.jpg HTTP/1.1\" 200 72\n"
     ]
    },
    {
     "name": "stdout",
     "output_type": "stream",
     "text": [
      "classify called\n"
     ]
    },
    {
     "name": "stderr",
     "output_type": "stream",
     "text": [
      "121.140.65.88 - - [22/Aug/2016 08:12:05] \"GET /classify?name=[%ED%95%B4%EC%99%B8][%EA%B5%AC%EB%A7%A4%EB%8C%80%ED%96%89][B00AZVEZYQ]%20MAX3225EEPP+&img=http://shopping.phinf.naver.net/main_8266270/8266270649.jpg HTTP/1.1\" 200 72\n"
     ]
    },
    {
     "name": "stdout",
     "output_type": "stream",
     "text": [
      "classify called\n"
     ]
    },
    {
     "name": "stderr",
     "output_type": "stream",
     "text": [
      "121.140.65.88 - - [22/Aug/2016 08:12:06] \"GET /classify?name=[%ED%95%B4%EC%99%B8][%EA%B5%AC%EB%A7%A4%EB%8C%80%ED%96%89][B00AZVGDOG]%20INA115AU&img=http://shopping.phinf.naver.net/main_8266273/8266273597.jpg HTTP/1.1\" 200 72\n"
     ]
    },
    {
     "name": "stdout",
     "output_type": "stream",
     "text": [
      "classify called\n"
     ]
    },
    {
     "name": "stderr",
     "output_type": "stream",
     "text": [
      "121.140.65.88 - - [22/Aug/2016 08:12:06] \"GET /classify?name=[%ED%95%B4%EC%99%B8][%EA%B5%AC%EB%A7%A4%EB%8C%80%ED%96%89][B00AZV3J3O]%20TLV1543CN&img=http://shopping.phinf.naver.net/main_8266267/8266267828.jpg HTTP/1.1\" 200 72\n"
     ]
    },
    {
     "name": "stdout",
     "output_type": "stream",
     "text": [
      "classify called\n"
     ]
    },
    {
     "name": "stderr",
     "output_type": "stream",
     "text": [
      "121.140.65.88 - - [22/Aug/2016 08:12:07] \"GET /classify?name=[%ED%95%B4%EC%99%B8][%EA%B5%AC%EB%A7%A4%EB%8C%80%ED%96%89][B00MMUZ6AA]%20Supervisory%20Circuits%205V%20CMOS%20MPU%20IC%20(5%20pieces)&img=http://shopping.phinf.naver.net/main_8266191/8266191065.jpg HTTP/1.1\" 200 72\n"
     ]
    },
    {
     "name": "stdout",
     "output_type": "stream",
     "text": [
      "classify called\n"
     ]
    },
    {
     "name": "stderr",
     "output_type": "stream",
     "text": [
      "121.140.65.88 - - [22/Aug/2016 08:12:07] \"GET /classify?name=[4%%EC%A6%89%EC%8B%9C%ED%95%A0%EC%9D%B8%EC%BF%A0%ED%8F%B0][%ED%95%B4%EC%99%B8]%20iView%201000STB%20ATSC%20Digital%20to%20Analog%20TV%20Converter%20%20%EC%B5%9C%EC%A0%80%EA%B0%80%20%ED%95%B4%EC%99%B8%EA%B5%AC%EB%A7%A4%EB%8C%80%ED%96%89%20%EC%A0%84%EB%AC%B8%EC%84%9C%EB%B9%84%EC%8A%A4&img=http://shopping.phinf.naver.net/main_8269460/8269460529.jpg HTTP/1.1\" 200 95\n"
     ]
    },
    {
     "name": "stdout",
     "output_type": "stream",
     "text": [
      "classify called\n"
     ]
    },
    {
     "name": "stderr",
     "output_type": "stream",
     "text": [
      "121.140.65.88 - - [22/Aug/2016 08:12:07] \"GET /classify?name=[%ED%95%B4%EC%99%B8][%EA%B5%AC%EB%A7%A4%EB%8C%80%ED%96%89][B00AZVG9NQ]%20AD5307BRUZ&img=http://shopping.phinf.naver.net/main_8266271/8266271076.jpg HTTP/1.1\" 200 72\n"
     ]
    },
    {
     "name": "stdout",
     "output_type": "stream",
     "text": [
      "classify called\n"
     ]
    },
    {
     "name": "stderr",
     "output_type": "stream",
     "text": [
      "121.140.65.88 - - [22/Aug/2016 08:12:08] \"GET /classify?name=[%ED%95%B4%EC%99%B8][%EA%B5%AC%EB%A7%A4%EB%8C%80%ED%96%89][B00MMV4FMY]%20Voltage%20References%20Ultracompact%20Prec%203V%20(5%20pieces)&img=http://shopping.phinf.naver.net/main_8266191/8266191335.jpg HTTP/1.1\" 200 72\n"
     ]
    },
    {
     "name": "stdout",
     "output_type": "stream",
     "text": [
      "classify called\n"
     ]
    },
    {
     "name": "stderr",
     "output_type": "stream",
     "text": [
      "121.140.65.88 - - [22/Aug/2016 08:12:08] \"GET /classify?name=[%EC%A0%95%ED%92%88]%20%EB%8B%88%EC%BD%98%20DSLR%20D800E%20Body+%EB%A7%A8%ED%94%84%EB%A1%9C%ED%86%A0%20MKBFRA4-BH%20%EC%82%BC%EA%B0%81%EB%8C%80%20+%EC%9D%B8%ED%99%94%EA%B6%8C+%EC%9B%B9%ED%95%98%EB%93%9C&img=http://shopping.phinf.naver.net/main_8303716/8303716371.jpg HTTP/1.1\" 200 116\n"
     ]
    },
    {
     "name": "stdout",
     "output_type": "stream",
     "text": [
      "classify called\n"
     ]
    },
    {
     "name": "stderr",
     "output_type": "stream",
     "text": [
      "121.140.65.88 - - [22/Aug/2016 08:12:09] \"GET /classify?name=[%EC%BA%90%EB%85%BC%EC%BD%94%EB%A6%AC%EC%95%84%EC%A0%95%ED%92%88]%20Canon%20EOS%2070D%2018-55%20IS%20II%20STM+%203355%EA%B0%80%EB%B0%A9%20+%20SDHC%208GB+UV%ED%95%84%ED%84%B0+%EB%A6%AC%EB%8D%94%EA%B8%B0+%ED%81%AC%EB%A6%AC%EB%84%88SET+%EC%95%A1%EC%A0%95%ED%95%84%EB%A6%84+%EC%9C%B5+%EC%A6%90%EA%B8%B0%EA%B8%B0%EC%B1%85%EC%9E%90+%EA%B7%B8%EC%99%B8%EC%82%AC%EC%9D%80%ED%92%88&img=http://shopping.phinf.naver.net/main_8064286/8064286604.jpg HTTP/1.1\" 200 116\n"
     ]
    },
    {
     "name": "stdout",
     "output_type": "stream",
     "text": [
      "classify called\n"
     ]
    },
    {
     "name": "stderr",
     "output_type": "stream",
     "text": [
      "121.140.65.88 - - [22/Aug/2016 08:12:09] \"GET /classify?name=[%EC%BA%90%EB%85%BC]%20%EC%BA%90%EB%85%BC%EC%A0%95%ED%92%88%20EOS%2070D%20+%20EF-S%2018-55mm%20is%20STM%20%EB%A0%8C%EC%A6%88KIT%20+%20SD8GB+%2070D%20%EC%A0%84%EC%9A%A9%EA%B0%80%EB%B0%A9%20[%EA%B0%A4%EB%9F%AC%EB%A6%AC%EC%95%84%20%ED%83%80%EC%9E%84%EC%9B%94%EB%93%9C]&img=http://shopping.phinf.naver.net/main_7184508/7184508045.jpg HTTP/1.1\" 200 116\n"
     ]
    },
    {
     "name": "stdout",
     "output_type": "stream",
     "text": [
      "classify called\n"
     ]
    },
    {
     "name": "stderr",
     "output_type": "stream",
     "text": [
      "121.140.65.88 - - [22/Aug/2016 08:12:10] \"GET /classify?name=(%EC%A0%95%ED%92%88)%20%EC%BA%90%EB%85%BC%2070D%20+%2018-55%20IS%20+%2050.8%20+%2055-250%20IS%20%ED%8A%B8%EB%A6%AC%ED%94%8C%20%EB%A0%8C%EC%A6%88%20%ED%82%B7%20(TURBO%20%EB%A9%94%EB%AA%A8%EB%A6%AC+%EA%B0%80%EB%B0%A9+%ED%95%84%EB%A6%84+%EB%A6%AC%EB%8D%94%EA%B8%B0%20%EB%93%B1%2010%EA%B0%80%EC%A7%80%20%EA%B8%B0%EB%B3%B8%EC%A6%9D%EC%A0%95)&img=http://shopping.phinf.naver.net/main_8344095/8344095455.jpg HTTP/1.1\" 200 116\n"
     ]
    },
    {
     "name": "stdout",
     "output_type": "stream",
     "text": [
      "classify called\n"
     ]
    },
    {
     "name": "stderr",
     "output_type": "stream",
     "text": [
      "121.140.65.88 - - [22/Aug/2016 08:12:10] \"GET /classify?name=%EC%BA%90%EB%85%BC%20[%EB%A1%AF%EB%8D%B0%EB%B0%B1%ED%99%94%EC%A0%90]%EC%BA%90%EB%85%BC%EC%A0%95%ED%92%88%20EOS%2070D%20+%20EF-S%2018-55mm%20is%20STM%20%EB%A0%8C%EC%A6%88KIT%20+%2070D%20%EC%A0%84%EC%9A%A9%EA%B0%80%EB%B0%A9&img=http://shopping.phinf.naver.net/main_8344723/8344723473.jpg HTTP/1.1\" 200 116\n"
     ]
    },
    {
     "name": "stdout",
     "output_type": "stream",
     "text": [
      "classify called\n"
     ]
    },
    {
     "name": "stderr",
     "output_type": "stream",
     "text": [
      "121.140.65.88 - - [22/Aug/2016 08:12:10] \"GET /classify?name=[%E2%98%85%EA%B9%9C%EC%A7%9D%ED%8A%B9%EA%B0%80%E2%98%85%20500ml%20%EC%83%9D%EC%88%98%20%ED%95%9C%20%EB%B3%91%EB%B3%B4%EB%8B%A4%20%EA%B0%80%EB%B2%BC%EC%9A%B4%20DSLR!]%EF%BC%BBDSLR%EF%BC%BD%EC%BA%90%EB%85%BC%20EOS-100D%20(18-55mm%20%EB%A0%8C%EC%A6%88%ED%8F%AC%ED%95%A8)%20[1800%EB%A7%8C%ED%99%94%EC%86%8C/%20IOS%2012800/%20%EC%B5%9C%EC%86%8C,%EC%B5%9C%EA%B2%BD%EB%9F%89%20DSLR/%20&img=http://shopping.phinf.naver.net/main_8245921/8245921940.jpg HTTP/1.1\" 200 116\n"
     ]
    },
    {
     "name": "stdout",
     "output_type": "stream",
     "text": [
      "classify called\n"
     ]
    },
    {
     "name": "stderr",
     "output_type": "stream",
     "text": [
      "121.140.65.88 - - [22/Aug/2016 08:12:11] \"GET /classify?name=[4%%EC%A6%89%EC%8B%9C%ED%95%A0%EC%9D%B8%EC%BF%A0%ED%8F%B0]%EC%BA%90%EB%85%BC%20%EC%BA%90%EB%85%BC%EC%A0%95%ED%92%88EOS%20100D%20%ED%83%90%EB%A1%A0%2017-50VC%20%EB%A0%8C%EC%A6%88%ED%8F%AC%ED%95%A8/32G%ED%92%80%ED%8C%A8%ED%82%A4%EC%A7%80&img=http://shopping.phinf.naver.net/main_6860913/6860913505.jpg HTTP/1.1\" 200 116\n"
     ]
    },
    {
     "name": "stdout",
     "output_type": "stream",
     "text": [
      "classify called\n"
     ]
    },
    {
     "name": "stderr",
     "output_type": "stream",
     "text": [
      "121.140.65.88 - - [22/Aug/2016 08:12:11] \"GET /classify?name=[%EC%A0%95%ED%92%88]%20%EC%BA%90%EB%85%BC%20EOS%207D(Body)%20+%20%EC%95%A1%EC%A0%95%ED%95%84%EB%A6%84+%ED%81%AC%EB%A6%AC%EB%84%88%EC%9C%B5+%EC%82%AC%EC%A7%84%EC%9D%B8%ED%99%94%EA%B6%8C[%EC%B9%B4%EB%93%9C5%%EC%B2%AD%EA%B5%AC%ED%95%A0%EC%9D%B8%20%ED%96%89%EC%82%AC%EC%83%81%ED%92%88/%EB%8C%80%EB%B0%95%ED%95%A0%EC%9D%B8%EC%B0%AC%EC%8A%A4/%EC%B6%94%EA%B0%80%EC%98%B5%EC%85%98%EC%A1%B0%EA%B1%B4%EC%97%86]&img=http://shopping.phinf.naver.net/main_6016700/6016700691.jpg HTTP/1.1\" 200 116\n"
     ]
    },
    {
     "name": "stdout",
     "output_type": "stream",
     "text": [
      "classify called\n"
     ]
    },
    {
     "name": "stderr",
     "output_type": "stream",
     "text": [
      "121.140.65.88 - - [22/Aug/2016 08:12:12] \"GET /classify?name=dn_[%EC%BA%90%EB%85%BC%EC%BD%94%EB%A6%AC%EC%95%84%20%EC%A0%95%ED%92%88]%20EOS%20100D%20%ED%99%94%EC%9D%B4%ED%8A%B8%EB%B0%94%EB%94%94%20+18-55mm%20STM%20+40mm%20STM%20%EB%8D%94%EB%B8%94%EB%A0%8C%EC%A6%88%ED%82%B7%20%7C%20%EB%AF%B8%EA%B0%9C%EB%B4%89/%EC%B5%9C%EC%8B%A0%EC%8B%9C%EB%A6%AC%EC%96%BC/[%EC%95%88%EC%A0%84%ED%95%98%EA%B3%A0%20%EB%B9%A0%EB%A5%B8%EB%B0%B0%EC%86%A1,%20%EC%B9%9C%EC%A0%88%ED%95%9C%20%EC%83%81%EB%8B%B4,%20%EC%97%B0%EC%A4%91%EB%AC%B4%ED%9C%B4]&img=http://shopping.phinf.naver.net/main_8123170/8123170993.jpg HTTP/1.1\" 200 116\n"
     ]
    },
    {
     "name": "stdout",
     "output_type": "stream",
     "text": [
      "classify called\n"
     ]
    },
    {
     "name": "stderr",
     "output_type": "stream",
     "text": [
      "121.140.65.88 - - [22/Aug/2016 08:12:12] \"GET /classify?name=[%EC%BA%90%EB%85%BC%EC%A0%95%ED%92%88]%20Canon%20EOS%20100D%20+18-55mm%20+40mm%EB%B8%94%EB%9E%99%20%EB%8D%94%EB%B8%94%EB%A0%8C%EC%A6%88%20[%EC%B4%88%EC%86%8C%ED%98%95/%ED%95%98%EC%9D%B4%EB%B8%8C%EB%A6%AC%EB%93%9CAF/%ED%84%B0%EC%B9%98LCD/1800%EB%A7%8C%ED%99%94%EC%86%8C/%ED%8C%9D%EC%97%85%ED%94%8C%EB%9E%98%EC%8B%9C][GNB]&img=http://shopping.phinf.naver.net/main_8293249/8293249122.jpg HTTP/1.1\" 200 116\n"
     ]
    },
    {
     "name": "stdout",
     "output_type": "stream",
     "text": [
      "classify called\n"
     ]
    },
    {
     "name": "stderr",
     "output_type": "stream",
     "text": [
      "121.140.65.88 - - [22/Aug/2016 08:12:12] \"GET /classify?name=%EC%BA%90%EB%85%BC%20EOS%20100D%20%EB%B8%94%EB%9E%99%EB%8D%94%EB%B8%94%EB%A0%8C%EC%A6%88%ED%8C%A8%ED%82%A4%EC%A7%80%20(18-55mm%20STM%20Lens+%2040mm%20f2.8%EB%A0%8C%EC%A6%88)&img=http://shopping.phinf.naver.net/main_8102432/8102432093.jpg HTTP/1.1\" 200 116\n"
     ]
    },
    {
     "name": "stdout",
     "output_type": "stream",
     "text": [
      "classify called\n"
     ]
    },
    {
     "name": "stderr",
     "output_type": "stream",
     "text": [
      "121.140.65.88 - - [22/Aug/2016 08:12:13] \"GET /classify?name=[%EA%B0%80)%EC%BA%90%EB%85%BC][%EC%BA%90%EB%85%BC%EC%BD%94%EB%A6%AC%EC%95%84%EC%A0%95%ED%92%88]%ED%99%94%EC%9D%B4%ED%8A%B8%EB%8D%94%EB%B8%94%EB%A0%8C%EC%A6%88%ED%8C%A8%ED%82%A4%EC%A7%80/DSLR%20EOS%20100D+18-55mm%20IS%20STM+EF%2040mm%20F2.8%20STM+16GB+%EC%A0%95%ED%92%88%EA%B0%80%EB%B0%A9+%EB%A6%AC%EB%8D%94%EA%B8%B0+UV%ED%95%84%ED%84%B0+%EC%95%A1%EC%A0%95+%EC%9C%B5+%ED%81%AC%EB%A6%AC%EB%84%88+&img=http://shopping.phinf.naver.net/main_7856745/7856745024.jpg HTTP/1.1\" 200 116\n"
     ]
    },
    {
     "name": "stdout",
     "output_type": "stream",
     "text": [
      "classify called\n"
     ]
    },
    {
     "name": "stderr",
     "output_type": "stream",
     "text": [
      "121.140.65.88 - - [22/Aug/2016 08:12:13] \"GET /classify?name=EOS%20100D%20(%ED%99%94%EC%9D%B4%ED%8A%B8)%EB%8D%94%EB%B8%94%EB%A0%8C%EC%A6%88%ED%82%B7+SDHC%2016GB+UV%2052/58mm+SD%EB%A6%AC%EB%8D%94%EA%B8%B0+%ED%81%AC%EB%A6%AC%EB%84%88%EC%9C%B5&img=http://shopping.phinf.naver.net/main_8217915/8217915031.jpg HTTP/1.1\" 200 116\n"
     ]
    },
    {
     "name": "stdout",
     "output_type": "stream",
     "text": [
      "classify called\n"
     ]
    },
    {
     "name": "stderr",
     "output_type": "stream",
     "text": [
      "121.140.65.88 - - [22/Aug/2016 08:12:14] \"GET /classify?name=%ED%8E%9C%ED%83%81%EC%8A%A4%20K-5%20II%20(18-135mm%20WR)%20+%ED%81%B4%EB%A6%AC%EB%84%88SET&img=http://shopping.phinf.naver.net/main_8379914/8379914811.jpg HTTP/1.1\" 200 116\n"
     ]
    },
    {
     "name": "stdout",
     "output_type": "stream",
     "text": [
      "classify called\n"
     ]
    },
    {
     "name": "stderr",
     "output_type": "stream",
     "text": [
      "121.140.65.88 - - [22/Aug/2016 08:12:14] \"GET /classify?name=[%ED%8E%9C%ED%83%81%EC%8A%A4]%20K-5%20II%20(Body)%20+SD%EB%A6%AC%EB%8D%94%EA%B8%B0+%ED%81%B4%EB%A6%AC%EB%84%88SET&img=http://shopping.phinf.naver.net/main_8369267/8369267590.jpg HTTP/1.1\" 200 116\n"
     ]
    },
    {
     "name": "stdout",
     "output_type": "stream",
     "text": [
      "classify called\n"
     ]
    },
    {
     "name": "stderr",
     "output_type": "stream",
     "text": [
      "121.140.65.88 - - [22/Aug/2016 08:12:15] \"GET /classify?name=[KB%EA%B5%AD%EB%AF%BC%EC%B9%B4%EB%93%9C%205%%ED%95%A0%EC%9D%B8,%203/26]%EC%98%AC%EB%A6%BC%ED%91%B8%EC%8A%A4%20%EC%B9%B4%EB%A9%94%EB%9D%BC%20OM-D%20E-M5%20Mark%20II%2012-50mm%20EZ%20KIT&img=http://shopping.phinf.naver.net/main_8367613/8367613087.jpg HTTP/1.1\" 200 130\n"
     ]
    },
    {
     "name": "stdout",
     "output_type": "stream",
     "text": [
      "classify called\n"
     ]
    },
    {
     "name": "stderr",
     "output_type": "stream",
     "text": [
      "121.140.65.88 - - [22/Aug/2016 08:12:15] \"GET /classify?name=[KB%EA%B5%AD%EB%AF%BC%EC%B9%B4%EB%93%9C%205%%ED%95%A0%EC%9D%B8,%203/26]%EC%98%AC%EB%A6%BC%ED%91%B8%EC%8A%A4%20%EC%B9%B4%EB%A9%94%EB%9D%BC%20OM-D%20E-M5%20Mark%20II%20BODY&img=http://shopping.phinf.naver.net/main_8367612/8367612716.jpg HTTP/1.1\" 200 107\n"
     ]
    },
    {
     "name": "stdout",
     "output_type": "stream",
     "text": [
      "classify called\n"
     ]
    },
    {
     "name": "stderr",
     "output_type": "stream",
     "text": [
      "121.140.65.88 - - [22/Aug/2016 08:12:15] \"GET /classify?name=[%ED%95%B4%EC%99%B8][%ED%95%B4%EC%99%B8%EB%B9%A0%EB%A5%B8%EB%B0%B0%EC%86%A1][%EB%89%B4%EC%9A%95%EB%A7%A4%EB%8B%88%EC%95%84]Olympus/[NY]Olympus%20OM-D%20E-M5%20Mark%20II%20Black%20Body%20Only/90387798/100%%EC%A0%95%ED%92%88&img=http://shopping.phinf.naver.net/main_8325798/8325798452.jpg HTTP/1.1\" 200 116\n"
     ]
    },
    {
     "name": "stdout",
     "output_type": "stream",
     "text": [
      "classify called\n"
     ]
    },
    {
     "name": "stderr",
     "output_type": "stream",
     "text": [
      "121.140.65.88 - - [22/Aug/2016 08:12:16] \"GET /classify?name=EOS%20%EC%BA%90%EB%85%BCEOS-100D%ED%99%94%EC%9D%B4%ED%8A%B8%EB%8D%94%EB%B8%94KIT(40mm%20F2.8+%2018-55mm%20STM)&img=http://shopping.phinf.naver.net/main_8333973/8333973667.jpg HTTP/1.1\" 200 116\n"
     ]
    },
    {
     "name": "stdout",
     "output_type": "stream",
     "text": [
      "classify called\n"
     ]
    },
    {
     "name": "stderr",
     "output_type": "stream",
     "text": [
      "121.140.65.88 - - [22/Aug/2016 08:12:16] \"GET /classify?name=%EC%BA%90%EB%85%BC%EC%A0%95%ED%92%88%20EOS%20100D(18-55mm%20IS%20STM%20+%2040mm)%20%EB%B8%94%EB%9E%99%20%EB%8D%94%EB%B8%94%20%EB%A0%8C%EC%A6%88%ED%82%B7%20/%EC%B5%9C%EC%8B%A0%EC%83%81%ED%92%88&img=http://shopping.phinf.naver.net/main_8443596/8443596402.jpg HTTP/1.1\" 200 116\n"
     ]
    },
    {
     "name": "stdout",
     "output_type": "stream",
     "text": [
      "classify called\n"
     ]
    },
    {
     "name": "stderr",
     "output_type": "stream",
     "text": [
      "121.140.65.88 - - [22/Aug/2016 08:12:17] \"GET /classify?name=[BC%EC%B9%B4%EB%93%9C%205%%ED%95%A0%EC%9D%B8,%203/20]%EC%BA%90%EB%85%BC%20EOS%20100D%20%EB%B8%94%EB%9E%99%ED%8A%B8%EB%A6%AC%ED%94%8C%EB%A0%8C%EC%A6%88%ED%8C%A8%ED%82%A4%EC%A7%80(18-55mm%20STM%20Lens+%2040mm%20f2.8%20+%2055-250mm%20IS%20STM%20)&img=http://shopping.phinf.naver.net/main_8133647/8133647159.jpg HTTP/1.1\" 200 116\n"
     ]
    },
    {
     "name": "stdout",
     "output_type": "stream",
     "text": [
      "classify called\n"
     ]
    },
    {
     "name": "stderr",
     "output_type": "stream",
     "text": [
      "121.140.65.88 - - [22/Aug/2016 08:12:17] \"GET /classify?name=[%EB%8B%88%EC%BD%98(NIKON)][%EC%A0%95%ED%92%88]%EB%8B%88%EC%BD%98%20D7100%20Body%EF%BC%8B%EC%9D%B8%ED%99%94%EA%B6%8C&img=http://shopping.phinf.naver.net/main_7330362/7330362107.jpg HTTP/1.1\" 200 116\n"
     ]
    },
    {
     "name": "stdout",
     "output_type": "stream",
     "text": [
      "classify called\n"
     ]
    },
    {
     "name": "stderr",
     "output_type": "stream",
     "text": [
      "121.140.65.88 - - [22/Aug/2016 08:12:18] \"GET /classify?name=%EC%BA%90%EB%85%BC%20EOS%20100D&img=http://shopping.phinf.naver.net/main_6821689/6821689112.20130523152354.jpg HTTP/1.1\" 200 116\n"
     ]
    },
    {
     "name": "stdout",
     "output_type": "stream",
     "text": [
      "classify called\n"
     ]
    },
    {
     "name": "stderr",
     "output_type": "stream",
     "text": [
      "121.140.65.88 - - [22/Aug/2016 08:12:18] \"GET /classify?name=%EB%8B%88%EC%BD%98%20D800&img=http://shopping.phinf.naver.net/main_5740712/5740712690.20130321122300.jpg HTTP/1.1\" 200 116\n"
     ]
    },
    {
     "name": "stdout",
     "output_type": "stream",
     "text": [
      "classify called\n"
     ]
    },
    {
     "name": "stderr",
     "output_type": "stream",
     "text": [
      "121.140.65.88 - - [22/Aug/2016 08:12:18] \"GET /classify?name=%EC%86%8C%EB%8B%88%20%EC%95%8C%ED%8C%8C%20A58&img=http://shopping.phinf.naver.net/main_6782466/6782466957.20130411093146.jpg HTTP/1.1\" 200 116\n"
     ]
    },
    {
     "name": "stdout",
     "output_type": "stream",
     "text": [
      "classify called\n"
     ]
    },
    {
     "name": "stderr",
     "output_type": "stream",
     "text": [
      "121.140.65.88 - - [22/Aug/2016 08:12:19] \"GET /classify?name=%EC%BA%90%EB%85%BC%20EOS%20550D&img=http://shopping.phinf.naver.net/main_5532420/5532420108.20130311112604.jpg HTTP/1.1\" 200 116\n"
     ]
    },
    {
     "name": "stdout",
     "output_type": "stream",
     "text": [
      "classify called\n"
     ]
    },
    {
     "name": "stderr",
     "output_type": "stream",
     "text": [
      "121.140.65.88 - - [22/Aug/2016 08:12:19] \"GET /classify?name=%EB%8B%88%EC%BD%98%20D90&img=http://shopping.phinf.naver.net/main_4138825/4138825891.20130311121225.jpg HTTP/1.1\" 200 116\n"
     ]
    },
    {
     "name": "stdout",
     "output_type": "stream",
     "text": [
      "classify called\n"
     ]
    },
    {
     "name": "stderr",
     "output_type": "stream",
     "text": [
      "121.140.65.88 - - [22/Aug/2016 08:12:20] \"GET /classify?name=%EC%BA%90%EB%85%BC%20EOS%205D&img=http://shopping.phinf.naver.net/main_1000160/1000160870.20130312174753.jpg HTTP/1.1\" 200 116\n"
     ]
    },
    {
     "name": "stdout",
     "output_type": "stream",
     "text": [
      "classify called\n"
     ]
    },
    {
     "name": "stderr",
     "output_type": "stream",
     "text": [
      "121.140.65.88 - - [22/Aug/2016 08:12:20] \"GET /classify?name=%EC%BA%90%EB%85%BC%20EOS%201100D&img=http://shopping.phinf.naver.net/main_5729643/5729643384.20130311111159.jpg HTTP/1.1\" 200 116\n"
     ]
    },
    {
     "name": "stdout",
     "output_type": "stream",
     "text": [
      "classify called\n"
     ]
    },
    {
     "name": "stderr",
     "output_type": "stream",
     "text": [
      "121.140.65.88 - - [22/Aug/2016 08:12:21] \"GET /classify?name=%EC%86%8C%EB%8B%88%20%EC%95%8C%ED%8C%8C%20A850&img=http://shopping.phinf.naver.net/main_5444693/5444693771.20130311182247.jpg HTTP/1.1\" 200 116\n"
     ]
    },
    {
     "name": "stdout",
     "output_type": "stream",
     "text": [
      "classify called\n"
     ]
    },
    {
     "name": "stderr",
     "output_type": "stream",
     "text": [
      "121.140.65.88 - - [22/Aug/2016 08:12:21] \"GET /classify?name=%EC%BA%90%EB%85%BC%20EOS%201Ds%20MARK%20II&img=http://shopping.phinf.naver.net/main_1000113/1000113553.20130523152813.jpg HTTP/1.1\" 200 116\n"
     ]
    },
    {
     "name": "stdout",
     "output_type": "stream",
     "text": [
      "classify called\n"
     ]
    },
    {
     "name": "stderr",
     "output_type": "stream",
     "text": [
      "121.140.65.88 - - [22/Aug/2016 08:12:21] \"GET /classify?name=%EB%9D%BC%EC%9D%B4%EC%B9%B4%20M&img=http://shopping.phinf.naver.net/main_7219625/7219625924.20131023182404.jpg HTTP/1.1\" 200 116\n"
     ]
    },
    {
     "name": "stdout",
     "output_type": "stream",
     "text": [
      "classify called\n"
     ]
    },
    {
     "name": "stderr",
     "output_type": "stream",
     "text": [
      "121.140.65.88 - - [22/Aug/2016 08:12:22] \"GET /classify?name=[4%%EC%A6%89%EC%8B%9C%ED%95%A0%EC%9D%B8%EC%BF%A0%ED%8F%B0]Nikon%20D5200(18-55mm%20VT%20Kit)%20%EC%A0%95%ED%92%88/%EB%8B%B9%EC%9D%BC%EB%B0%B0%EC%86%A1&img=http://shopping.phinf.naver.net/main_8272906/8272906737.jpg HTTP/1.1\" 200 116\n"
     ]
    },
    {
     "name": "stdout",
     "output_type": "stream",
     "text": [
      "classify called\n"
     ]
    },
    {
     "name": "stderr",
     "output_type": "stream",
     "text": [
      "121.140.65.88 - - [22/Aug/2016 08:12:22] \"GET /classify?name=%EC%86%8C%EB%8B%88%20%EC%95%8C%ED%8C%8C%20A230&img=http://shopping.phinf.naver.net/main_5397594/5397594890.20130311182408.jpg HTTP/1.1\" 200 116\n"
     ]
    },
    {
     "name": "stdout",
     "output_type": "stream",
     "text": [
      "classify called\n"
     ]
    },
    {
     "name": "stderr",
     "output_type": "stream",
     "text": [
      "121.140.65.88 - - [22/Aug/2016 08:12:23] \"GET /classify?name=[4%%EC%A6%89%EC%8B%9C%ED%95%A0%EC%9D%B8%EC%BF%A0%ED%8F%B0](%EC%A0%95%ED%92%88)%EC%BA%90%EB%85%BC%20100D%20+%2018-55%20IS%20ll%20+%2050.8%20+%2055-250mmIS&img=http://shopping.phinf.naver.net/main_8277349/8277349444.jpg HTTP/1.1\" 200 116\n"
     ]
    },
    {
     "name": "stdout",
     "output_type": "stream",
     "text": [
      "classify called\n"
     ]
    },
    {
     "name": "stderr",
     "output_type": "stream",
     "text": [
      "121.140.65.88 - - [22/Aug/2016 08:12:23] \"GET /classify?name=%EC%8B%9C%EA%B7%B8%EB%A7%88%20SD1%20MERRILL&img=http://shopping.phinf.naver.net/main_6212643/6212643679.20130523153045.jpg HTTP/1.1\" 200 116\n"
     ]
    },
    {
     "name": "stdout",
     "output_type": "stream",
     "text": [
      "classify called\n"
     ]
    },
    {
     "name": "stderr",
     "output_type": "stream",
     "text": [
      "121.140.65.88 - - [22/Aug/2016 08:12:24] \"GET /classify?name=(%EC%83%88%EC%83%81%ED%92%88)%20(%EC%A0%95%ED%92%88)%20%EB%8B%88%EC%BD%98%20%EB%A0%8C%EC%A6%88%20/%20AF%20NIKKOR%2050MM%20F1.8D&img=http://shopping.phinf.naver.net/main_8282097/8282097156.jpg HTTP/1.1\" 200 116\n"
     ]
    },
    {
     "name": "stdout",
     "output_type": "stream",
     "text": [
      "classify called\n"
     ]
    },
    {
     "name": "stderr",
     "output_type": "stream",
     "text": [
      "121.140.65.88 - - [22/Aug/2016 08:12:24] \"GET /classify?name=[(%EC%A3%BC)%EC%9C%A0%EC%BE%8C%ED%95%9C%EC%83%9D%EA%B0%81][%EC%9C%A0%EC%BE%8C%ED%95%9C%EC%83%9D%EA%B0%81]%20%EC%8A%A4%EB%A7%88%ED%8A%B8%ED%8F%B0%20%ED%94%84%EB%A6%AC%EB%B7%B0%20%EB%AA%A8%EB%8B%88%ED%84%B0%20%EC%84%B8%ED%8A%B8&img=http://shopping.phinf.naver.net/main_8266118/8266118071.jpg HTTP/1.1\" 200 116\n"
     ]
    },
    {
     "name": "stdout",
     "output_type": "stream",
     "text": [
      "classify called\n"
     ]
    },
    {
     "name": "stderr",
     "output_type": "stream",
     "text": [
      "121.140.65.88 - - [22/Aug/2016 08:12:24] \"GET /classify?name=Pedco%20%ED%8E%AB%EC%BD%94%20%EC%82%BC%EA%B0%81%EB%8C%80%20%ED%97%A4%EB%93%9C%20%20P-UP1-QUICK%20%EA%B3%A0%EC%A0%95%20%EB%82%98%EC%82%AC&img=http://shopping.phinf.naver.net/main_8277712/8277712381.jpg HTTP/1.1\" 200 116\n"
     ]
    },
    {
     "name": "stdout",
     "output_type": "stream",
     "text": [
      "classify called\n"
     ]
    },
    {
     "name": "stderr",
     "output_type": "stream",
     "text": [
      "121.140.65.88 - - [22/Aug/2016 08:12:25] \"GET /classify?name=[4%%EC%A6%89%EC%8B%9C%ED%95%A0%EC%9D%B8%EC%BF%A0%ED%8F%B0]G%20%EC%BA%90%EB%85%BC%20EOS%20700D%20+18-55mm%20STM%20%EC%A0%95%ED%92%88&img=http://shopping.phinf.naver.net/main_8277222/8277222846.jpg HTTP/1.1\" 200 116\n"
     ]
    },
    {
     "name": "stdout",
     "output_type": "stream",
     "text": [
      "classify called\n",
      "classify called\n"
     ]
    },
    {
     "name": "stderr",
     "output_type": "stream",
     "text": [
      "121.140.65.88 - - [22/Aug/2016 08:12:25] \"GET /classify?name=%EC%9D%B8%ED%85%94CPU%EC%BD%94%EC%96%B4%20i3-4%EC%84%B8%EB%8C%80%20%ED%95%98%EC%8A%A4%EC%9B%B0%20%EB%A6%AC%ED%94%84%EB%A0%88%EC%8B%9C%204160(3.6GHz/INTEL)&img=http://shopping.phinf.naver.net/main_7975500/7975500771.jpg HTTP/1.1\" 200 62\n",
      "121.140.65.88 - - [22/Aug/2016 08:12:25] \"GET /classify?name=%ED%98%B8%EB%A3%A8%EC%8A%A4%EB%B2%A4%EB%88%84%20%EC%82%BC%EA%B0%81%EB%8C%80%EC%9A%A9%20%EC%B9%B4%EC%9A%B4%ED%84%B0%EC%9B%A8%EC%9E%87%20H-TCW1%20(%EA%B0%80%EB%B0%A9%EA%B1%B8%EC%9D%B4)&img=http://shopping.phinf.naver.net/main_8281773/8281773961.jpg HTTP/1.1\" 200 105\n"
     ]
    },
    {
     "name": "stdout",
     "output_type": "stream",
     "text": [
      "classify called\n",
      "classify called\n"
     ]
    },
    {
     "name": "stderr",
     "output_type": "stream",
     "text": [
      "121.140.65.88 - - [22/Aug/2016 08:12:26] \"GET /classify?name=[4%%EC%A6%89%EC%8B%9C%ED%95%A0%EC%9D%B8%EC%BF%A0%ED%8F%B0]%EC%9D%B8%ED%85%94%20intel%20%EC%BD%94%EC%96%B44%EC%84%B8%EB%8C%80%20%ED%95%98%EC%8A%A4%EC%9B%B0%20i3-4160&img=http://shopping.phinf.naver.net/main_8350292/8350292853.jpg HTTP/1.1\" 200 62\n",
      "121.140.65.88 - - [22/Aug/2016 08:12:26] \"GET /classify?name=[4%%EC%A6%89%EC%8B%9C%ED%95%A0%EC%9D%B8%EC%BF%A0%ED%8F%B0]%EC%BA%90%EB%85%BC%20%EC%A0%95%ED%92%88%EC%A4%91%EA%B3%A0%EC%83%81%ED%92%88%20/%20%EC%BA%90%EB%85%BC%20EOS%207D%20/%20%EC%A7%84%EC%97%B4%EC%A4%91%EA%B3%A0%EC%83%81%ED%92%88&img=http://shopping.phinf.naver.net/main_8283826/8283826052.jpg HTTP/1.1\" 200 116\n"
     ]
    },
    {
     "name": "stdout",
     "output_type": "stream",
     "text": [
      "classify called\n",
      "classify called\n"
     ]
    },
    {
     "name": "stderr",
     "output_type": "stream",
     "text": [
      "121.140.65.88 - - [22/Aug/2016 08:12:26] \"GET /classify?name=%EC%9D%B8%ED%85%94%20%EC%BD%94%EC%96%B4i3-4%EC%84%B8%EB%8C%80%204160%20(%ED%95%98%EC%8A%A4%EC%9B%B0%20%EB%A6%AC%ED%94%84%EB%A0%88%EC%8B%9C)%20(%EB%B2%8C%ED%81%AC)&img=http://shopping.phinf.naver.net/main_7939938/7939938154.jpg HTTP/1.1\" 200 62\n",
      "121.140.65.88 - - [22/Aug/2016 08:12:26] \"GET /classify?name=[%EC%A0%95%ED%92%88%EC%A4%91%EA%B3%A0]%20%EC%BA%90%EB%85%BC%20EOS%207D%20%EB%B0%94%EB%94%94%20%EB%8B%A8%ED%92%88%EA%B5%AC%EB%A7%A4%EA%B0%80%EB%8A%A5%20/%20%EC%98%81%EC%96%B4%EC%A7%80%EC%9B%90%20/%20%EB%AC%B4%EB%A3%8C%EB%B0%B0%EC%86%A1%20/%20%EC%A7%84%EC%97%B4%EC%A4%91%EA%B3%A0%EC%83%81%ED%92%88&img=http://shopping.phinf.naver.net/main_8283753/8283753049.jpg HTTP/1.1\" 200 116\n"
     ]
    },
    {
     "name": "stdout",
     "output_type": "stream",
     "text": [
      "classify called\n",
      "classify called\n"
     ]
    },
    {
     "name": "stderr",
     "output_type": "stream",
     "text": [
      "121.140.65.88 - - [22/Aug/2016 08:12:26] \"GET /classify?name=ICODA%20[%EB%8C%80%EB%A6%AC%EC%A0%90%EC%A0%95%ED%92%88]%EC%9D%B8%ED%85%94%20%EC%A0%9C%EC%98%A8%20E5-2640V3%20%ED%95%98%EC%8A%A4%EC%9B%B0-EP%20(2.6GHz/8C/20MB/LGA2011-V3)%20[%EC%BF%A8%EB%9F%AC%EB%AF%B8%ED%8F%AC%ED%95%A8]&img=http://shopping.phinf.naver.net/main_8359760/8359760466.jpg HTTP/1.1\" 200 62\n",
      "121.140.65.88 - - [22/Aug/2016 08:12:27] \"GET /classify?name=[%ED%95%B4%EC%99%B8]3013661%20%20%20%20%20%20%20%20%20Hasselblad%20H5D-50%20DSLR%20Medium%20Format%20DSLR%20Camera%203013661%20[87664]&img=http://shopping.phinf.naver.net/main_8270005/8270005713.jpg HTTP/1.1\" 200 116\n"
     ]
    },
    {
     "name": "stdout",
     "output_type": "stream",
     "text": [
      "classify called\n"
     ]
    },
    {
     "name": "stderr",
     "output_type": "stream",
     "text": [
      "121.140.65.88 - - [22/Aug/2016 08:12:27] \"GET /classify?name=%EB%8D%B8Dell%20%EC%97%90%EC%9D%BC%EB%A6%AC%EC%96%B8%EC%9B%A8%EC%96%B4%2013%20X54E501AKR%20[i5-4210U/8G/1TB/13.3%ED%98%95FHD/GTX860%202G]&img=http://shopping.phinf.naver.net/main_8367575/8367575310.jpg HTTP/1.1\" 200 105\n"
     ]
    },
    {
     "name": "stdout",
     "output_type": "stream",
     "text": [
      "classify called\n",
      "classify called\n"
     ]
    },
    {
     "name": "stderr",
     "output_type": "stream",
     "text": [
      "121.140.65.88 - - [22/Aug/2016 08:12:27] \"GET /classify?name=[RICOH%20%EC%A0%95%ED%92%88]%20%EC%83%88%EB%A1%9C%EC%B6%9C%EC%8B%9C%20GRD4%20%ED%99%94%EC%9D%B4%ED%8A%B8%20%EC%95%A0%EB%94%94%EC%85%98%20%ED%95%9C%EC%A0%95%ED%8C%90%20/%EC%83%89%EA%B0%90%EC%A2%8B%EC%9D%80%20DSLR%20%EB%B6%80%EB%9F%BD%EC%A7%80%20%EC%95%8A%EC%9D%80%20%EC%9E%91%EC%9D%80%EA%B1%B0%EC%9D%B8%20[%EC%86%8C%EB%9F%89%EC%88%98%EB%9F%89%20%EC%9E%85%EA%B3%A0]%20(%EB%B9%A0%EB%A5%B8%EB%B0%B0%EC%86%A1)&img=http://shopping.phinf.naver.net/main_8237303/8237303994.jpg HTTP/1.1\" 200 116\n",
      "121.140.65.88 - - [22/Aug/2016 08:12:27] \"GET /classify?name=%EC%95%A0%ED%94%8C%20%EB%A7%A5%EB%B6%81%EC%97%90%EC%96%B4%2013%ED%98%95%20MacBook%20Air%2013.3/1.6/4/128FLASH%20MJVE2KH/A%20(%EA%B8%B0%EC%A1%B4%EA%B0%80:1250000%EC%9B%90)&img=http://shopping.phinf.naver.net/main_8393059/8393059454.jpg HTTP/1.1\" 200 62\n"
     ]
    },
    {
     "name": "stdout",
     "output_type": "stream",
     "text": [
      "classify called\n",
      "classify called\n"
     ]
    },
    {
     "name": "stderr",
     "output_type": "stream",
     "text": [
      "121.140.65.88 - - [22/Aug/2016 08:12:27] \"GET /classify?name=[%ED%95%B4%EC%99%B8]Tripp%20LiteTripp%20Lite%20PDUV30HV%20PDU%20Basic%20208V%20/%20240V%2030A%206%20C19;%2032%20C13%20L6-30P%20Vertical%200URM&img=http://shopping.phinf.naver.net/main_8275847/8275847210.jpg HTTP/1.1\" 200 116\n",
      "121.140.65.88 - - [22/Aug/2016 08:12:28] \"GET /classify?name=%EC%9D%B8%ED%85%94%20%ED%8E%9C%ED%8B%B0%EC%97%84%20%ED%95%98%EC%8A%A4%EC%9B%B0%20G3258&img=http://shopping.phinf.naver.net/main_7808758/7808758563.20140714102303.jpg HTTP/1.1\" 200 62\n"
     ]
    },
    {
     "name": "stdout",
     "output_type": "stream",
     "text": [
      "classify called\n",
      "classify called\n"
     ]
    },
    {
     "name": "stderr",
     "output_type": "stream",
     "text": [
      "121.140.65.88 - - [22/Aug/2016 08:12:28] \"GET /classify?name=[%ED%95%B4%EC%99%B8]Tripp%20LiteTripp%20Lite%20PDUMH20HVATNET%20PDU%20Switched%20ATS%20200-240V%2016/20A%208%20C13%202%20C19%20C20%20Horizontal%20&img=http://shopping.phinf.naver.net/main_8275845/8275845136.jpg HTTP/1.1\" 200 109\n",
      "121.140.65.88 - - [22/Aug/2016 08:12:28] \"GET /classify?name=%EC%9D%B8%ED%85%94%20%ED%95%98%EC%8A%A4%EC%9B%B0%20%EB%A6%AC%ED%94%84%EB%A0%88%EC%8B%9C%204460&img=http://shopping.phinf.naver.net/main_7680589/7680589707.20140513153341.jpg HTTP/1.1\" 200 62\n"
     ]
    },
    {
     "name": "stdout",
     "output_type": "stream",
     "text": [
      "classify called\n",
      "classify called\n"
     ]
    },
    {
     "name": "stderr",
     "output_type": "stream",
     "text": [
      "121.140.65.88 - - [22/Aug/2016 08:12:28] \"GET /classify?name=[%ED%95%B4%EC%99%B8]1548%20%20%20%20%20%20%20%20%20Nikon%20D5500%20DSLR%20Camera%20with%2018-140mm%20Lens%20Black%201548%20[87580]&img=http://shopping.phinf.naver.net/main_8270137/8270137187.jpg HTTP/1.1\" 200 116\n",
      "121.140.65.88 - - [22/Aug/2016 08:12:28] \"GET /classify?name=%EC%9D%B8%ED%85%94%20%EC%BD%94%EC%96%B4%20i3%20%EC%95%84%EC%9D%B4%EB%B9%84%EB%B8%8C%EB%A6%BF%EC%A7%80%203240&img=http://shopping.phinf.naver.net/main_6571999/6571999387.20120917145814.jpg HTTP/1.1\" 200 62\n"
     ]
    },
    {
     "name": "stdout",
     "output_type": "stream",
     "text": [
      "classify called\n",
      "classify called\n"
     ]
    },
    {
     "name": "stderr",
     "output_type": "stream",
     "text": [
      "121.140.65.88 - - [22/Aug/2016 08:12:29] \"GET /classify?name=[BC%EC%B9%B4%EB%93%9C%205%%ED%95%A0%EC%9D%B8,%203/20]%EC%BA%90%EB%85%BC%20EOS%20100D%20%ED%99%94%EC%9D%B4%ED%8A%B8%20%EB%8D%94%EB%B8%94%EB%A0%8C%EC%A6%88%ED%8C%A8%ED%82%A4%EC%A7%80(18-55mm%20STM%20+%2040mm%20F/2.8)&img=http://shopping.phinf.naver.net/main_8085670/8085670642.1.jpg HTTP/1.1\" 200 116\n",
      "121.140.65.88 - - [22/Aug/2016 08:12:29] \"GET /classify?name=AMD%20%EC%B9%B4%EB%B2%A0%EB%A6%AC%207850K&img=http://shopping.phinf.naver.net/main_7417523/7417523561.20140116102830.jpg HTTP/1.1\" 200 62\n"
     ]
    },
    {
     "name": "stdout",
     "output_type": "stream",
     "text": [
      "classify called\n",
      "classify called\n"
     ]
    },
    {
     "name": "stderr",
     "output_type": "stream",
     "text": [
      "121.140.65.88 - - [22/Aug/2016 08:12:29] \"GET /classify?name=%EC%9E%90%EC%9D%B4%EB%A1%9C%EC%BB%B4%20%EC%9E%90%EC%9D%B4%EB%B7%B0%20XV120PCI-BT%204%EC%B1%84%EB%84%90&img=http://shopping.phinf.naver.net/main_4105281/4105281894.20120211193211.jpg HTTP/1.1\" 200 90\n",
      "121.140.65.88 - - [22/Aug/2016 08:12:29] \"GET /classify?name=%EC%9D%B8%ED%85%94%20%EC%85%80%EB%9F%AC%EB%A1%A0%20%EC%95%84%EC%9D%B4%EB%B9%84%EB%B8%8C%EB%A6%BF%EC%A7%80%20G1610&img=http://shopping.phinf.naver.net/main_6736638/6736638537.20130129155750.jpg HTTP/1.1\" 200 62\n"
     ]
    },
    {
     "name": "stdout",
     "output_type": "stream",
     "text": [
      "classify called\n",
      "classify called\n"
     ]
    },
    {
     "name": "stderr",
     "output_type": "stream",
     "text": [
      "121.140.65.88 - - [22/Aug/2016 08:12:30] \"GET /classify?name=%EC%94%A8%EC%95%A4%EB%B9%84%ED%85%8D%20BDS1212&img=http://shopping.phinf.naver.net/main_4055288/4055288344.20120211202930.jpg HTTP/1.1\" 200 90\n",
      "121.140.65.88 - - [22/Aug/2016 08:12:30] \"GET /classify?name=%EC%9D%B8%ED%85%94%20%EC%BD%94%EC%96%B42%20%EC%BF%BC%EB%93%9C%20%EC%BC%84%EC%B8%A0%ED%95%84%EB%93%9C%20Q6600&img=http://shopping.phinf.naver.net/main_4038912/4038912044.20120211213604.jpg HTTP/1.1\" 200 62\n"
     ]
    },
    {
     "name": "stdout",
     "output_type": "stream",
     "text": [
      "classify called\n",
      "classify called\n"
     ]
    },
    {
     "name": "stderr",
     "output_type": "stream",
     "text": [
      "121.140.65.88 - - [22/Aug/2016 08:12:30] \"GET /classify?name=USB%20DVR%204%ED%8F%AC%ED%8A%B8%20%EC%9E%A5%EC%B9%98(WP9422)[%EC%A2%8B%EC%9D%80%EC%A0%9C%ED%92%88!!%EC%A0%95%EC%84%B1%EB%B0%B0%EC%86%A1!!]&img=http://shopping.phinf.naver.net/main_7682727/7682727201.jpg HTTP/1.1\" 200 98\n",
      "121.140.65.88 - - [22/Aug/2016 08:12:30] \"GET /classify?name=AMD%20%EC%95%A0%EC%8A%AC%EB%A1%A0%20%EC%B9%B4%EB%B9%84%EB%8B%88%205150&img=http://shopping.phinf.naver.net/main_7656791/7656791348.20140429113148.jpg HTTP/1.1\" 200 62\n"
     ]
    },
    {
     "name": "stdout",
     "output_type": "stream",
     "text": [
      "classify called\n",
      "classify called\n"
     ]
    },
    {
     "name": "stderr",
     "output_type": "stream",
     "text": [
      "121.140.65.88 - - [22/Aug/2016 08:12:30] \"GET /classify?name=MS120%204%EC%B1%84%EB%84%90%20%EC%B9%B4%EB%93%9C%20IDV120&img=http://shopping.phinf.naver.net/main_7776615/7776615081.jpg HTTP/1.1\" 200 90\n",
      "121.140.65.88 - - [22/Aug/2016 08:12:30] \"GET /classify?name=%EC%9D%B8%ED%85%94%20%EC%A0%9C%EC%98%A8%20%ED%95%98%EC%8A%A4%EC%9B%B0-EP%20E5-2697V3&img=http://shopping.phinf.naver.net/main_8219836/8219836165.20150119172749.jpg HTTP/1.1\" 200 62\n"
     ]
    },
    {
     "name": "stdout",
     "output_type": "stream",
     "text": [
      "classify called\n",
      "classify called\n"
     ]
    },
    {
     "name": "stderr",
     "output_type": "stream",
     "text": [
      "121.140.65.88 - - [22/Aug/2016 08:12:31] \"GET /classify?name=XV-USB%20[%ED%9A%8C%EC%9B%90%EA%B0%80%EC%9E%85%ED%9B%84%20%EC%A3%BC%EB%AC%B8%EC%8B%9C,%20%EC%82%AC%EC%97%85%EC%9E%90%EA%B0%80%EA%B2%A9%EC%9C%BC%EB%A1%9C%20%EC%A3%BC%EB%AC%B8%EA%B0%80%EB%8A%A5]&img=http://shopping.phinf.naver.net/main_7626302/7626302470.jpg HTTP/1.1\" 200 74\n",
      "121.140.65.88 - - [22/Aug/2016 08:12:31] \"GET /classify?name=AMD%20%EB%8D%B0%EB%84%A4%EB%B8%8C%20955&img=http://shopping.phinf.naver.net/main_5707410/5707410293.20120211194246.jpg HTTP/1.1\" 200 62\n"
     ]
    },
    {
     "name": "stdout",
     "output_type": "stream",
     "text": [
      "classify called\n",
      "classify called\n"
     ]
    },
    {
     "name": "stderr",
     "output_type": "stream",
     "text": [
      "121.140.65.88 - - [22/Aug/2016 08:12:31] \"GET /classify?name=SENTRY-3016&img=http://shopping.phinf.naver.net/main_7486566/7486566438.jpg HTTP/1.1\" 200 90\n",
      "121.140.65.88 - - [22/Aug/2016 08:12:31] \"GET /classify?name=%E6%AD%A3%E5%93%81%20%EC%9D%B8%ED%85%94%20%EC%BD%94%EC%96%B44%EC%84%B8%EB%8C%80%20i3-4150%20%EB%B2%8C%ED%81%AC(%ED%95%98%EC%8A%A4%EC%9B%B0%20%EB%A6%AC%ED%94%8C%EB%A0%88%EC%8B%9C/3.5GHz/3MB/%EC%BF%A8%EB%9F%AC%EB%AF%B8%ED%8F%AC%ED%95%A8)[1%EB%B0%952%EC%9D%BC%20%EB%8B%B9%EC%9D%BC%EB%B0%9C%EC%86%A1]&img=http://shopping.phinf.naver.net/main_8260631/8260631110.jpg HTTP/1.1\" 200 62\n"
     ]
    },
    {
     "name": "stdout",
     "output_type": "stream",
     "text": [
      "classify called\n",
      "classify called\n"
     ]
    },
    {
     "name": "stderr",
     "output_type": "stream",
     "text": [
      "121.140.65.88 - - [22/Aug/2016 08:12:32] \"GET /classify?name=[Coms]%20USB%20DVR%204%ED%8F%AC%ED%8A%B8%20%EC%9E%A5%EC%B9%98%20[EasyCAP%20DVR]&img=http://shopping.phinf.naver.net/main_8011538/8011538318.jpg HTTP/1.1\" 200 90\n",
      "121.140.65.88 - - [22/Aug/2016 08:12:32] \"GET /classify?name=AMD%20%EB%A6%AC%EC%B9%98%EB%9E%9C%EB%93%9C%206300&img=http://shopping.phinf.naver.net/main_7389855/7389855215.20140113160538.jpg HTTP/1.1\" 200 62\n"
     ]
    },
    {
     "name": "stdout",
     "output_type": "stream",
     "text": [
      "classify called\n",
      "classify called\n"
     ]
    },
    {
     "name": "stderr",
     "output_type": "stream",
     "text": [
      "121.140.65.88 - - [22/Aug/2016 08:12:32] \"GET /classify?name=[%ED%8B%B0%EB%B2%B3]%20PHP-04%204%EC%B1%84%EB%84%90%20H.264%20120/120FPS%20%EC%8A%A4%EB%A7%88%ED%8A%B8%ED%8F%B0%EC%A7%80%EC%9B%90%20%EC%82%AC%EC%9A%A9%EC%9E%90%EA%B0%80%ED%8E%B8%EB%A6%AC%ED%95%9C%EA%B8%B0%EB%8A%A5&img=http://shopping.phinf.naver.net/main_7225265/7225265661.jpg HTTP/1.1\" 200 90\n",
      "121.140.65.88 - - [22/Aug/2016 08:12:32] \"GET /classify?name=%EC%9D%B8%ED%85%94%20%EC%A0%9C%EC%98%A8%20%EC%95%84%EC%9D%B4%EB%B9%84%EB%B8%8C%EB%A6%BF%EC%A7%80%20E5-2690V2&img=http://shopping.phinf.naver.net/main_7534573/7534573561.20140304164213.jpg HTTP/1.1\" 200 62\n"
     ]
    },
    {
     "name": "stdout",
     "output_type": "stream",
     "text": [
      "classify called\n",
      "classify called\n"
     ]
    },
    {
     "name": "stderr",
     "output_type": "stream",
     "text": [
      "121.140.65.88 - - [22/Aug/2016 08:12:33] \"GET /classify?name=CQONE%20DV30%208%EC%B1%84%EB%84%90%ED%99%95%EC%9E%A5%EC%B9%B4%EB%93%9C%20CCTV%20DVR%20%EA%B0%90%EC%8B%9C%EC%B9%B4%EB%A9%94%EB%9D%BC%20%EB%85%B9%ED%99%94%EC%9E%A5%EC%B9%98&img=http://shopping.phinf.naver.net/main_6248468/6248468792.1.jpg HTTP/1.1\" 200 90\n",
      "121.140.65.88 - - [22/Aug/2016 08:12:33] \"GET /classify?name=[4%%EC%A6%89%EC%8B%9C%ED%95%A0%EC%9D%B8%EC%BF%A0%ED%8F%B0]%EC%9D%B8%ED%85%94%20%EC%BD%94%EC%96%B4%20i5%204%EC%84%B8%EB%8C%80%204690%20%ED%95%98%EC%8A%A4%EC%9B%B0%20%EB%A6%AC%ED%94%84%EB%A0%88%EC%8B%9C%203.5GHz&img=http://shopping.phinf.naver.net/main_8265481/8265481156.jpg HTTP/1.1\" 200 62\n"
     ]
    },
    {
     "name": "stdout",
     "output_type": "stream",
     "text": [
      "classify called\n",
      "classify called\n"
     ]
    },
    {
     "name": "stderr",
     "output_type": "stream",
     "text": [
      "121.140.65.88 - - [22/Aug/2016 08:12:33] \"GET /classify?name=%EC%9E%90%EC%9D%B4%EB%B7%B0%20XV120PCI-EXT4%204%EC%B2%B4%EB%84%90%20%ED%99%95%EC%9E%A5%EB%B3%B4%ED%8A%B8%20/%20%EB%8B%A8%EB%8F%85%EC%82%AC%EC%9A%A9%20%EB%B6%88%EA%B0%80%EB%8A%A5%20/%20XV120PCI%20%ED%99%95%EC%9E%A5%EB%B3%B4%EB%93%9C&img=http://shopping.phinf.naver.net/main_6768219/6768219769.jpg HTTP/1.1\" 200 90\n",
      "121.140.65.88 - - [22/Aug/2016 08:12:33] \"GET /classify?name=YBH%20%EC%9D%B8%ED%85%94%20%EC%BD%94%EC%96%B4i3-4%EC%84%B8%EB%8C%80%204160%20(%ED%95%98%EC%8A%A4%EC%9B%B0%20%EB%A6%AC%ED%94%84%EB%A0%88%EC%8B%9C)%20(%EC%A0%95%ED%92%88)&img=http://shopping.phinf.naver.net/main_8258571/8258571328.jpg HTTP/1.1\" 200 62\n"
     ]
    },
    {
     "name": "stdout",
     "output_type": "stream",
     "text": [
      "classify called\n",
      "classify called\n"
     ]
    },
    {
     "name": "stderr",
     "output_type": "stream",
     "text": [
      "121.140.65.88 - - [22/Aug/2016 08:12:33] \"GET /classify?name=[%EC%9E%90%EC%9D%B4%EB%B7%B0]%204%EC%B1%84%EB%84%90%2030%ED%94%84%EB%A0%88%EC%9E%84%20%EB%9D%BC%EC%9D%B4%ED%8A%B8%EB%B2%84%EC%A0%84%20%EB%85%B9%ED%99%94%EC%B9%B4%EB%93%9C%20(XV400PCI-Lite)&img=http://shopping.phinf.naver.net/main_7844452/7844452470.jpg HTTP/1.1\" 200 90\n",
      "121.140.65.88 - - [22/Aug/2016 08:12:33] \"GET /classify?name=[4%%EC%A6%89%EC%8B%9C%ED%95%A0%EC%9D%B8%EC%BF%A0%ED%8F%B0][AMD%20%EC%A0%95%ED%92%88]%20%ED%8A%B8%EB%A6%AC%EB%8B%88%ED%8B%B0%20A6%205400k%20(3.6GHz)%20/(%EC%A3%BC)%EB%B9%84%EC%97%98%EB%B9%84%EC%A6%88%2002-711-3540&img=http://shopping.phinf.naver.net/main_8276739/8276739296.jpg HTTP/1.1\" 200 62\n"
     ]
    },
    {
     "name": "stdout",
     "output_type": "stream",
     "text": [
      "classify called\n",
      "classify called\n"
     ]
    },
    {
     "name": "stderr",
     "output_type": "stream",
     "text": [
      "121.140.65.88 - - [22/Aug/2016 08:12:34] \"GET /classify?name=DVR%20%EC%9E%90%EC%9D%B4%EB%B7%B0%20USB%204%EC%B1%84%EB%84%90%20%EC%B9%B4%EB%93%9C%20(XY-USB)&img=http://shopping.phinf.naver.net/main_6768219/6768219770.jpg HTTP/1.1\" 200 90\n",
      "121.140.65.88 - - [22/Aug/2016 08:12:34] \"GET /classify?name=%7BBLBiz%7D%20AMD%20%EC%95%A0%EC%8A%AC%EB%A1%A0%20APU%205350%20(%EC%B9%B4%EB%B9%84%EB%8B%88)%20(%EC%A0%95%ED%92%88)&img=http://shopping.phinf.naver.net/main_8281705/8281705849.jpg HTTP/1.1\" 200 62\n"
     ]
    },
    {
     "name": "stdout",
     "output_type": "stream",
     "text": [
      "classify called\n",
      "classify called\n"
     ]
    },
    {
     "name": "stderr",
     "output_type": "stream",
     "text": [
      "121.140.65.88 - - [22/Aug/2016 08:12:34] \"GET /classify?name=%EC%9E%90%EC%9D%B4%EB%B7%B0%20XV400%20PCI%20%EB%9D%BC%EC%9D%B4%ED%8A%B8%20-4%EC%B1%84%EB%84%90%2030%ED%94%84%EB%A0%88%EC%9E%84%20%EB%85%B9%ED%99%94%EC%B9%B4%EB%93%9C/CCTV%20%EA%B0%90%EC%8B%9C%EC%B9%B4%EB%A9%94%EB%9D%BC%20DVR%EC%99%B8&img=http://shopping.phinf.naver.net/main_5517155/5517155477.jpg HTTP/1.1\" 200 90\n",
      "121.140.65.88 - - [22/Aug/2016 08:12:34] \"GET /classify?name=%EC%9D%B8%ED%85%94%20%ED%8E%9C%ED%8B%B0%EC%97%84%20G3460%20(%ED%95%98%EC%8A%A4%EC%9B%B0%20%EB%A6%AC%ED%94%84%EB%A0%88%EC%8B%9C)%20(%EB%B2%8C%ED%81%AC/%EC%BF%A8%EB%9F%ACX)[%20%20%EB%8B%A8%EA%B3%A8%EC%B6%94%EA%B0%80%ED%95%A0%EC%9D%B8/%EB%B0%A9%EB%AC%B8%EC%88%98%EB%A0%B9/%EB%8B%B9%EC%9D%BC%EC%B6%9C%EA%B3%A0%20%20]&img=http://shopping.phinf.naver.net/main_8281671/8281671805.jpg HTTP/1.1\" 200 62\n"
     ]
    },
    {
     "name": "stdout",
     "output_type": "stream",
     "text": [
      "classify called\n",
      "classify called\n"
     ]
    },
    {
     "name": "stderr",
     "output_type": "stream",
     "text": [
      "121.140.65.88 - - [22/Aug/2016 08:12:35] \"GET /classify?name=%EC%82%BC%EC%84%B1%ED%85%8C%ED%81%AC%EC%9C%88-1%EC%9C%84%EB%8C%80%EB%A6%AC%EC%A0%90%20%EC%82%BC%EC%84%B1%EC%A0%95%ED%92%88%20SRD-445%20+%20SCO-2040R%202%EC%85%8B%20%EB%B0%A9%EC%88%98%EC%A0%81%EC%99%B8%EC%84%A0%20CCTV%20CCTV%EC%97%85%EA%B3%84%20%EC%B5%9C%EB%8B%A4%ED%8C%90%EB%A7%A4%EC%9C%A81%EC%9C%84%20%EC%B5%9C%EC%9A%B0%EC%88%98%ED%8C%90%EB%A7%A4%EC%9E%90%20%EC%84%A0%EC%A0%95&img=http://shopping.phinf.naver.net/main_5874245/5874245022.1.jpg HTTP/1.1\" 200 90\n",
      "121.140.65.88 - - [22/Aug/2016 08:12:35] \"GET /classify?name=%EC%9D%B8%ED%85%94%20%EC%A0%9C%EC%98%A8%20%EC%95%84%EC%9D%B4%EB%B9%84%EB%B8%8C%EB%A6%BF%EC%A7%80%20E5-2680V2&img=http://shopping.phinf.naver.net/main_7534606/7534606762.20140304172305.jpg HTTP/1.1\" 200 62\n"
     ]
    },
    {
     "name": "stdout",
     "output_type": "stream",
     "text": [
      "classify called\n",
      "classify called\n"
     ]
    },
    {
     "name": "stderr",
     "output_type": "stream",
     "text": [
      "121.140.65.88 - - [22/Aug/2016 08:12:35] \"GET /classify?name=[4%%EC%A6%89%EC%8B%9C%ED%95%A0%EC%9D%B8%EC%BF%A0%ED%8F%B0]%20%EC%9E%90%EC%9D%B4%EB%B7%B0%20XV400%204CH%20PCI&img=http://shopping.phinf.naver.net/main_4090788/4090788056.jpg HTTP/1.1\" 200 90\n",
      "121.140.65.88 - - [22/Aug/2016 08:12:35] \"GET /classify?name=[4%%EC%A6%89%EC%8B%9C%ED%95%A0%EC%9D%B8%EC%BF%A0%ED%8F%B0]%20%EC%9D%B8%ED%85%94%20G3440%20(%EC%A0%95%ED%92%88)&img=http://shopping.phinf.naver.net/main_8276155/8276155769.jpg HTTP/1.1\" 200 62\n"
     ]
    },
    {
     "name": "stdout",
     "output_type": "stream",
     "text": [
      "classify called\n",
      "classify called\n"
     ]
    },
    {
     "name": "stderr",
     "output_type": "stream",
     "text": [
      "121.140.65.88 - - [22/Aug/2016 08:12:35] \"GET /classify?name=%EC%94%A8%ED%8A%B8%EB%A7%81%20PD-0412%20+%20%EC%B9%B4%EB%A9%94%EB%9D%BC&img=http://shopping.phinf.naver.net/main_5750941/5750941388.20120211211853.jpg HTTP/1.1\" 200 90\n",
      "121.140.65.88 - - [22/Aug/2016 08:12:35] \"GET /classify?name=%EC%9D%B8%ED%85%94%20%ED%95%98%EC%8A%A4%EC%9B%B0%20%EB%A6%AC%ED%94%84%EB%A0%88%EC%8B%9C%204690&img=http://shopping.phinf.naver.net/main_7680476/7680476649.20140513142455.jpg HTTP/1.1\" 200 62\n"
     ]
    },
    {
     "name": "stdout",
     "output_type": "stream",
     "text": [
      "classify called\n",
      "classify called\n"
     ]
    },
    {
     "name": "stderr",
     "output_type": "stream",
     "text": [
      "121.140.65.88 - - [22/Aug/2016 08:12:36] \"GET /classify?name=%EC%82%BC%EC%84%B1%ED%85%8C%ED%81%AC%EC%9C%88%20SDE-3002%20+%20%EC%B9%B4%EB%A9%94%EB%9D%BC&img=http://shopping.phinf.naver.net/main_5677627/5677627947.20120211205006.jpg HTTP/1.1\" 200 90\n",
      "121.140.65.88 - - [22/Aug/2016 08:12:36] \"GET /classify?name=[4%%EC%A6%89%EC%8B%9C%ED%95%A0%EC%9D%B8%EC%BF%A0%ED%8F%B0]xeon%20E5440%EC%BF%BC%EB%93%9C%EC%BD%94%EC%96%B4%202.83G%20%EC%A0%9C%EC%98%A8E5440&img=http://shopping.phinf.naver.net/main_8276237/8276237505.jpg HTTP/1.1\" 200 62\n"
     ]
    },
    {
     "name": "stdout",
     "output_type": "stream",
     "text": [
      "classify called\n",
      "classify called\n"
     ]
    },
    {
     "name": "stderr",
     "output_type": "stream",
     "text": [
      "121.140.65.88 - - [22/Aug/2016 08:12:36] \"GET /classify?name=5%EB%A7%8C%EC%9B%90%EC%9D%B4%EC%83%81%20%EB%AC%B4%EB%A3%8C%EB%B0%B0%EC%86%A1%EC%94%A8%EC%95%84%EC%9D%B4%EC%A6%88%20SC-16HDS%20[%20HD%EA%B8%89%20HDMI-1080P%EC%A7%80%EC%9B%90%2016%ED%99%94%EB%A9%B4%EB%B6%84%ED%95%A0%EA%B8%B0%20]&img=http://shopping.phinf.naver.net/main_6905556/6905556541.jpg HTTP/1.1\" 200 115\n",
      "121.140.65.88 - - [22/Aug/2016 08:12:36] \"GET /classify?name=%EC%9D%B8%ED%85%94%20%EC%A0%9C%EC%98%A8%20%EC%95%84%EC%9D%B4%EB%B8%8C%EB%A6%BF%EC%A7%80%20E3-1240V2&img=http://shopping.phinf.naver.net/main_6573389/6573389955.20120917142627.jpg HTTP/1.1\" 200 62\n"
     ]
    },
    {
     "name": "stdout",
     "output_type": "stream",
     "text": [
      "classify called\n",
      "classify called\n"
     ]
    },
    {
     "name": "stderr",
     "output_type": "stream",
     "text": [
      "121.140.65.88 - - [22/Aug/2016 08:12:37] \"GET /classify?name=SeeEyes%20SC-1NRR%20(%EC%88%98%EC%8B%A0%EA%B8%B0)%20%EA%B0%95%EB%A0%A5%ED%95%9C%20%EB%85%B8%EC%9D%B4%EC%A6%88%20%EC%A0%9C%EA%B1%B0%20%EB%B0%8F%20%EC%9C%A0%EC%9E%85%20%EB%B0%A9%EC%A7%80%EA%B8%B0%EB%8A%A5/CCTV%20DVR%20%EA%B0%90%EC%8B%9C%EC%B9%B4%EB%A9%94%EB%9D%BC%20%EB%85%B9%ED%99%94%EA%B8%B0%20%E2%99%A3%E2%99%A3%EC%B5%9C%EC%A0%80%EA%B0%80%EA%B2%A9%20%EC%B5%9C[%E2%99%A3%E2%99%A3%EC%B5%9C%EC%A0%80%EA%B0%80%EA%B2%A9%20%EC%B5%9C%EA%B3%A0%EC%84%B1%EB%8A%A5%E2%99%A3%E2%99%A3]&img=http://shopping.phinf.naver.net/main_6745211/6745211526.jpg HTTP/1.1\" 200 90\n",
      "121.140.65.88 - - [22/Aug/2016 08:12:37] \"GET /classify?name=[4%%EC%A6%89%EC%8B%9C%ED%95%A0%EC%9D%B8%EC%BF%A0%ED%8F%B0]%EC%9D%B8%ED%85%94%20intel%20%EC%BD%94%EC%96%B44%EC%84%B8%EB%8C%80%20%ED%95%98%EC%8A%A4%EC%9B%B0%20i5-4690&img=http://shopping.phinf.naver.net/main_8351196/8351196291.jpg HTTP/1.1\" 200 62\n"
     ]
    },
    {
     "name": "stdout",
     "output_type": "stream",
     "text": [
      "classify called\n",
      "classify called\n"
     ]
    },
    {
     "name": "stderr",
     "output_type": "stream",
     "text": [
      "121.140.65.88 - - [22/Aug/2016 08:12:37] \"GET /classify?name=[%ED%94%BC%EC%94%A8%EC%82%AC%EC%9E%90]%20%EC%9D%B8%ED%85%94%20%EC%BD%94%EC%96%B4i5-4%EC%84%B8%EB%8C%80%204690%20(%ED%95%98%EC%8A%A4%EC%9B%B0%20%EB%A6%AC%ED%94%84%EB%A0%88%EC%8B%9C)%20(%EB%B2%8C%ED%81%AC)&img=http://shopping.phinf.naver.net/main_8097113/8097113683.jpg HTTP/1.1\" 200 62\n",
      "121.140.65.88 - - [22/Aug/2016 08:12:37] \"GET /classify?name=[%ED%94%BC%EC%8B%9C%ED%8F%AC%EC%98%AC]%20%EC%9E%90%EC%9D%B4%EB%B7%B0%20XV400PCI%20+%20VX400PCI%20Lite%20%EC%9D%B8%ED%84%B0%EB%84%B7%EB%B2%84%EC%A0%84%20(8%EC%B1%84%EB%84%90/60%ED%94%84%EB%A0%88%EC%9E%84)%20%EB%8B%B9%EC%9D%BC%EB%B0%9C%EC%86%A1&img=http://shopping.phinf.naver.net/main_6735558/6735558466.6.jpg HTTP/1.1\" 200 90\n"
     ]
    },
    {
     "name": "stdout",
     "output_type": "stream",
     "text": [
      "classify called\n",
      "classify called\n"
     ]
    },
    {
     "name": "stderr",
     "output_type": "stream",
     "text": [
      "121.140.65.88 - - [22/Aug/2016 08:12:38] \"GET /classify?name=%EC%9D%B8%ED%85%94%20%EC%BD%94%EC%96%B4%20i5%204%EC%84%B8%EB%8C%80%204690K%20%EB%8D%B0%EB%B9%8C%EC%8A%A4%EC%BA%90%EB%85%84%20_%EC%BB%B4%ED%93%A8%ED%84%B0/%EB%B6%80%ED%92%88/CPU&img=http://shopping.phinf.naver.net/main_8352308/8352308550.jpg HTTP/1.1\" 200 62\n",
      "121.140.65.88 - - [22/Aug/2016 08:12:38] \"GET /classify?name=[151892](DVRcnc)%20DS-4208HFVI(H-264)%20%EB%82%B4%EC%9E%A5%ED%98%95%20DVR%EB%B3%B4%EB%93%9C%20[DS-2408HFD1(4CIF/8CH)H-264]&img=http://shopping.phinf.naver.net/main_7306382/7306382664.jpg HTTP/1.1\" 200 90\n"
     ]
    },
    {
     "name": "stdout",
     "output_type": "stream",
     "text": [
      "classify called\n",
      "classify called\n"
     ]
    },
    {
     "name": "stderr",
     "output_type": "stream",
     "text": [
      "121.140.65.88 - - [22/Aug/2016 08:12:38] \"GET /classify?name=[%EB%A7%88%EC%9D%B4%ED%94%BC%EC%94%A8%EC%83%B5]%20%EC%9D%B8%ED%85%94%20%EC%BD%94%EC%96%B4i5-4%EC%84%B8%EB%8C%80%204690%20(%ED%95%98%EC%8A%A4%EC%9B%B0%20%EB%A6%AC%ED%94%84%EB%A0%88%EC%8B%9C)%20(%EC%A0%95%ED%92%88)&img=http://shopping.phinf.naver.net/main_7802929/7802929194.jpg HTTP/1.1\" 200 62\n",
      "121.140.65.88 - - [22/Aug/2016 08:12:38] \"GET /classify?name=%EC%9E%90%EC%9D%B4%EB%B7%B0%EC%84%B8%ED%8A%B8-01%20[DVR%EB%B3%B4%EB%93%9C%204%EC%B1%84%EB%84%90%2030%ED%94%84%EB%A0%88%EC%9E%84%20%EC%83%A4%ED%94%84%EB%8F%94%2027%EB%A7%8C%201/4%20 HTTP/1.1\" 200 90\n"
     ]
    },
    {
     "name": "stdout",
     "output_type": "stream",
     "text": [
      "classify called\n",
      "classify called\n"
     ]
    },
    {
     "name": "stderr",
     "output_type": "stream",
     "text": [
      "121.140.65.88 - - [22/Aug/2016 08:12:38] \"GET /classify?name=[%ED%95%B4%EC%99%B8]IntelIntel%20MOBILE%20PENTIUM%204%20SL6FK:%202%20GHz%20400%20MHz%20512KB%20478%20Pin&img=http://shopping.phinf.naver.net/main_8275919/8275919989.jpg HTTP/1.1\" 200 62\n",
      "121.140.65.88 - - [22/Aug/2016 08:12:38] \"GET /classify?name=[AURA%20%EC%95%84%EC%9A%B0%EB%9D%BC]%20HV-2U%20Plus-400%20DVR%20+%20%EB%8F%94%EC%B9%B4%EB%A9%94%EB%9D%BC%202%EC%85%8B%ED%8A%B8/CCTV%20%EA%B0%90%EC%8B%9C%20%EC%B9%B4%EB%A9%94%EB%9D%BC%20%EB%85%B9%ED%99%94%EA%B8%B0%20%EC%99%B8[%20%EC%A2%8B%EC%9D%80%EC%A0%9C%ED%92%88%20%EB%B9%A0%EB%A5%B8%EB%B0%B0%EC%86%A1%20%EC%B9%9C%EC%A0%88%EC%83%81%EB%8B%B4%20]&img=http://shopping.phinf.naver.net/main_5629923/5629923167.jpg HTTP/1.1\" 200 90\n"
     ]
    },
    {
     "name": "stdout",
     "output_type": "stream",
     "text": [
      "classify called\n",
      "classify called\n"
     ]
    },
    {
     "name": "stderr",
     "output_type": "stream",
     "text": [
      "121.140.65.88 - - [22/Aug/2016 08:12:39] \"GET /classify?name=[%ED%95%B4%EC%99%B8]AMDAMD%20A6-5400K%20APU%203.6Ghz%20Dual-Core%20Processor%20AD540KOKHJBOX&img=http://shopping.phinf.naver.net/main_8275987/8275987253.jpg HTTP/1.1\" 200 62\n",
      "121.140.65.88 - - [22/Aug/2016 08:12:39] \"GET /classify?name=%EC%95%84%EC%9D%B4%EB%94%94%EC%A0%95%EB%B3%B4%ED%86%B5%EC%8B%A0%20MS30%204CH%20+%20%EC%B9%B4%EB%A9%94%EB%9D%BC&img=http://shopping.phinf.naver.net/main_1100202/1100202411.20120211200010.jpg HTTP/1.1\" 200 90\n"
     ]
    },
    {
     "name": "stdout",
     "output_type": "stream",
     "text": [
      "classify called\n",
      "classify called\n"
     ]
    },
    {
     "name": "stderr",
     "output_type": "stream",
     "text": [
      "121.140.65.88 - - [22/Aug/2016 08:12:39] \"GET /classify?name=[4%%EC%A6%89%EC%8B%9C%ED%95%A0%EC%9D%B8%EC%BF%A0%ED%8F%B0]%EC%98%AC%ED%85%8C%ED%81%AC%20%ED%8E%80%EC%BF%A8%EB%9F%AC%20FC-8015-2P-BALL&img=http://shopping.phinf.naver.net/main_8268069/8268069269.jpg HTTP/1.1\" 200 109\n",
      "121.140.65.88 - - [22/Aug/2016 08:12:39] \"GET /classify?name=%EC%95%84%EA%B5%AC%EC%8A%A4%20XAD-401%20+%20%EC%B9%B4%EB%A9%94%EB%9D%BC&img=http://shopping.phinf.naver.net/main_4753761/4753761202.20120211203555.jpg HTTP/1.1\" 200 90\n"
     ]
    },
    {
     "name": "stdout",
     "output_type": "stream",
     "text": [
      "classify called\n",
      "classify called\n"
     ]
    },
    {
     "name": "stderr",
     "output_type": "stream",
     "text": [
      "121.140.65.88 - - [22/Aug/2016 08:12:40] \"GET /classify?name=[4%%EC%A6%89%EC%8B%9C%ED%95%A0%EC%9D%B8%EC%BF%A0%ED%8F%B0]%EC%9D%B8%ED%85%94%20%EC%BD%94%EC%96%B4i3-4%EC%84%B8%EB%8C%80%204330%20(%ED%95%98%EC%8A%A4%EC%9B%B0)%20(%EC%A0%95%ED%92%88)&img=http://shopping.phinf.naver.net/main_8278218/8278218985.jpg HTTP/1.1\" 200 62\n",
      "121.140.65.88 - - [22/Aug/2016 08:12:40] \"GET /classify?name=%EC%82%BC%EC%84%B1%ED%85%8C%ED%81%AC%EC%9C%88-1%EC%9C%84%EB%8C%80%EB%A6%AC%EC%A0%90%20SRD-445%20+%20XBK-50S%202%EC%85%8B%20%EA%B3%A0%EA%B8%89%ED%98%95%20%EC%A0%81%EC%99%B8%EC%84%A0%EB%B0%A9%EC%88%98%EC%B9%B4%EB%A9%94%EB%9D%BC%20CCTV%20CCTV%EC%97%85%EA%B3%84%20%EC%B5%9C%EB%8B%A4%ED%8C%90%EB%A7%A4%EC%9C%A81%EC%9C%84%20%EC%B5%9C%EC%9A%B0%EC%88%98%ED%8C%90%EB%A7%A4%EC%9E%90%20%EC%84%A0%EC%A0%95&img=http://shopping.phinf.naver.net/main_5957515/5957515694.1.jpg HTTP/1.1\" 200 90\n"
     ]
    },
    {
     "name": "stdout",
     "output_type": "stream",
     "text": [
      "classify called\n",
      "classify called\n"
     ]
    },
    {
     "name": "stderr",
     "output_type": "stream",
     "text": [
      "121.140.65.88 - - [22/Aug/2016 08:12:40] \"GET /classify?name=[4%%EC%A6%89%EC%8B%9C%ED%95%A0%EC%9D%B8%EC%BF%A0%ED%8F%B0]SAFE-1000H&img=http://shopping.phinf.naver.net/main_8277623/8277623877.jpg HTTP/1.1\" 200 72\n",
      "121.140.65.88 - - [22/Aug/2016 08:12:40] \"GET /classify?name=CCTV%20%20%EC%95%84%EC%9A%B0%EB%9D%BC%20AURA%20%20HV-400H%20960H%20DVR%20+%20%EC%A0%81%EC%99%B8%EC%84%A0%EC%B9%B4%EB%A9%94%EB%9D%BC&img=http://shopping.phinf.naver.net/main_5653092/5653092964.1.jpg HTTP/1.1\" 200 90\n"
     ]
    },
    {
     "name": "stdout",
     "output_type": "stream",
     "text": [
      "classify called\n",
      "classify called\n"
     ]
    },
    {
     "name": "stderr",
     "output_type": "stream",
     "text": [
      "121.140.65.88 - - [22/Aug/2016 08:12:41] \"GET /classify?name=%EC%9D%B8%ED%85%94%20%EC%BD%94%EC%96%B4i3-4%EC%84%B8%EB%8C%80%204370%20%ED%95%98%EC%8A%A4%EC%9B%B0%20%EB%A6%AC%ED%94%84%EB%A0%88%EC%8B%9C%20(%EB%B2%8C%ED%81%AC/%EC%BF%A8%EB%9F%ACX&img=http://shopping.phinf.naver.net/main_8276685/8276685129.jpg HTTP/1.1\" 200 62\n",
      "121.140.65.88 - - [22/Aug/2016 08:12:41] \"GET /classify?name=%EC%9E%90%EC%9D%B4%EB%B7%B0%20120(XV120)%20CCTV%20DVR%EC%B9%B4%EB%93%9C%20%EB%8F%94%20%EA%B0%90%EC%8B%9C%EC%B9%B4%EB%A9%94%EB%9D%BC%204%EA%B0%9C(%EC%BC%80%EC%9D%B4%EB%B8%94%20%EC%96%B4%EB%8E%81%ED%84%B0)&img=http://shopping.phinf.naver.net/main_5506592/5506592654.jpg HTTP/1.1\" 200 90\n"
     ]
    },
    {
     "name": "stdout",
     "output_type": "stream",
     "text": [
      "classify called\n",
      "classify called\n"
     ]
    },
    {
     "name": "stderr",
     "output_type": "stream",
     "text": [
      "121.140.65.88 - - [22/Aug/2016 08:12:41] \"GET /classify?name=[%ED%95%B4%EC%99%B8]IntelIntel%20Core%20i3-4130%203.4%203%20FCLGA%201150%20Processor%20BX80646I34130&img=http://shopping.phinf.naver.net/main_8275987/8275987264.jpg HTTP/1.1\" 200 62\n",
      "121.140.65.88 - - [22/Aug/2016 08:12:41] \"GET /classify?name=[]%20XV400%EB%9D%BC%EC%9D%B4%ED%8A%B8+%EB%8F%94%EC%B9%B4%EB%A9%94%EB%9D%BC%204%EC%84%B8%ED%8A%B8&img=http://shopping.phinf.naver.net/main_6744921/6744921509.1.jpg HTTP/1.1\" 200 90\n"
     ]
    },
    {
     "name": "stdout",
     "output_type": "stream",
     "text": [
      "classify called\n",
      "classify called\n"
     ]
    },
    {
     "name": "stderr",
     "output_type": "stream",
     "text": [
      "121.140.65.88 - - [22/Aug/2016 08:12:41] \"GET /classify?name=[%ED%95%B4%EC%99%B8]IntelIntel%20i7-4820K%20FCLGA2011%203.70%20GHz%2064%20bit%20Processor%2010MB%20Cache&img=http://shopping.phinf.naver.net/main_8275920/8275920068.jpg HTTP/1.1\" 200 62\n",
      "121.140.65.88 - - [22/Aug/2016 08:12:41] \"GET /classify?name=[]%20XV120PCI%20+%20%EC%A0%81%EC%99%B8%EC%84%A0%EC%B9%B4%EB%A9%94%EB%9D%BC3%EA%B0%9C(%EC%BC%80%EC%9D%B4%EB%B8%94+%EC%96%B4%EB%8E%81%ED%84%B0%ED%8F%AC%ED%95%A8)&img=http://shopping.phinf.naver.net/main_6744921/6744921521.2.jpg HTTP/1.1\" 200 90\n"
     ]
    },
    {
     "name": "stdout",
     "output_type": "stream",
     "text": [
      "classify called\n",
      "classify called\n"
     ]
    },
    {
     "name": "stderr",
     "output_type": "stream",
     "text": [
      "121.140.65.88 - - [22/Aug/2016 08:12:42] \"GET /classify?name=[%ED%95%B4%EC%99%B8]HPHP%20Xeon%205140%202.33GHZ%20Dc%20Processor%20for%20BL460C&img=http://shopping.phinf.naver.net/main_8275919/8275919876.jpg HTTP/1.1\" 200 62\n",
      "121.140.65.88 - - [22/Aug/2016 08:12:42] \"GET /classify?name=%EC%95%8C%EB%9D%BC%EB%94%98%20DVR%20%EC%9E%90%EC%9D%B4%EB%B7%B0%20XV400PCI%20+%2041%EB%A7%8C%20%EB%8F%94%20%EC%B9%B4%EB%A9%94%EB%9D%BC%20%ED%8C%A8%ED%82%A4%EC%A7%801&img=http://shopping.phinf.naver.net/main_5743375/5743375891.jpg HTTP/1.1\" 200 90\n"
     ]
    },
    {
     "name": "stdout",
     "output_type": "stream",
     "text": [
      "classify called\n",
      "classify called\n"
     ]
    },
    {
     "name": "stderr",
     "output_type": "stream",
     "text": [
      "121.140.65.88 - - [22/Aug/2016 08:12:42] \"GET /classify?name=[%ED%95%B4%EC%99%B8]IBMIBM%20Xeon%20E5-2650V2%202.6%20GHz%208%20LGA%202011%20Processor%2046W4365&img=http://shopping.phinf.naver.net/main_8275919/8275919908.jpg HTTP/1.1\" 200 62\n",
      "121.140.65.88 - - [22/Aug/2016 08:12:42] \"GET /classify?name=%EC%9D%B4%EC%A7%80%ED%94%BC%EC%8A%A4%20EHR-F400%20+%20%EC%B9%B4%EB%A9%94%EB%9D%BC&img=http://shopping.phinf.naver.net/main_7428475/7428475687.20140124165358.jpg HTTP/1.1\" 200 90\n"
     ]
    },
    {
     "name": "stdout",
     "output_type": "stream",
     "text": [
      "classify called\n",
      "classify called\n"
     ]
    },
    {
     "name": "stderr",
     "output_type": "stream",
     "text": [
      "121.140.65.88 - - [22/Aug/2016 08:12:43] \"GET /classify?name=[%ED%95%B4%EC%99%B8]IntelIntel%20I5-4440%20Processor%20BX80646I54440&img=http://shopping.phinf.naver.net/main_8275920/8275920103.jpg HTTP/1.1\" 200 62\n",
      "121.140.65.88 - - [22/Aug/2016 08:12:43] \"GET /classify?name=%EC%95%84%EC%9D%B4%EB%94%94%EC%8A%A4%20EDR-410%20+%20%EC%B9%B4%EB%A9%94%EB%9D%BC&img=http://shopping.phinf.naver.net/main_5899435/5899435275.20120211210505.jpg HTTP/1.1\" 200 90\n"
     ]
    },
    {
     "name": "stdout",
     "output_type": "stream",
     "text": [
      "classify called\n",
      "classify called\n"
     ]
    },
    {
     "name": "stderr",
     "output_type": "stream",
     "text": [
      "121.140.65.88 - - [22/Aug/2016 08:12:43] \"GET /classify?name=[%ED%95%B4%EC%99%B8]IntelIntel%20Core%20i7-5960X%20Haswell-E%208-Core%203.0GHz%20LGA%202011-v3%20140W%20Desktop%20Processor%20BX80648I7596&img=http://shopping.phinf.naver.net/main_8275920/8275920074.jpg HTTP/1.1\" 200 62\n",
      "121.140.65.88 - - [22/Aug/2016 08:12:43] \"GET /classify?name=%EC%95%A0%EB%8B%88%EC%A7%80%EA%B8%B0%20YL-0430&img=http://shopping.phinf.naver.net/main_5909796/5909796535.20120211200009.jpg HTTP/1.1\" 200 99\n"
     ]
    },
    {
     "name": "stdout",
     "output_type": "stream",
     "text": [
      "classify called\n",
      "classify called\n"
     ]
    },
    {
     "name": "stderr",
     "output_type": "stream",
     "text": [
      "121.140.65.88 - - [22/Aug/2016 08:12:43] \"GET /classify?name=[%ED%95%B4%EC%99%B8]IntelIntel%20Xeon%20E5-2403%201.8%20GHz%20Processor%20BX80621E52403&img=http://shopping.phinf.naver.net/main_8275919/8275919886.jpg HTTP/1.1\" 200 62\n",
      "121.140.65.88 - - [22/Aug/2016 08:12:43] \"GET /classify?name=%EC%82%BC%EC%84%B1%ED%85%8C%ED%81%AC%EC%9C%88%20SRD-440%20+%20%EC%B9%B4%EB%A9%94%EB%9D%BC&img=http://shopping.phinf.naver.net/main_6225697/6225697878.20120316114310.jpg HTTP/1.1\" 200 90\n"
     ]
    },
    {
     "name": "stdout",
     "output_type": "stream",
     "text": [
      "classify called\n",
      "classify called\n"
     ]
    },
    {
     "name": "stderr",
     "output_type": "stream",
     "text": [
      "121.140.65.88 - - [22/Aug/2016 08:12:44] \"GET /classify?name=[%ED%95%B4%EC%99%B8]IntelIntel%20Xeon%20E3-1245V3%20Haswell%203.4GHz%208MB%20L3%20Cache%20LGA%201150%2084W%20Quad-Core%20Server%20Processor%20BX&img=http://shopping.phinf.naver.net/main_8275919/8275919954.jpg HTTP/1.1\" 200 62\n",
      "121.140.65.88 - - [22/Aug/2016 08:12:44] \"GET /classify?name=%EC%9E%90%EC%9D%B4%EB%A1%9C%EC%BB%B4%20%EC%9E%90%EC%9D%B4%EB%B7%B0%20XV120PCI-NX%204%EC%B1%84%EB%84%90&img=http://shopping.phinf.naver.net/main_5476072/5476072977.20120211202017.jpg HTTP/1.1\" 200 90\n"
     ]
    },
    {
     "name": "stdout",
     "output_type": "stream",
     "text": [
      "classify called\n",
      "classify called\n"
     ]
    },
    {
     "name": "stderr",
     "output_type": "stream",
     "text": [
      "121.140.65.88 - - [22/Aug/2016 08:12:44] \"GET /classify?name=[%ED%95%B4%EC%99%B8]IntelIntel%20Xeon%206C%20E5%202620%202.0%20GHz%206%20LGA%202011%20Processor%20BX80621E52620&img=http://shopping.phinf.naver.net/main_8275919/8275919956.jpg HTTP/1.1\" 200 62\n",
      "121.140.65.88 - - [22/Aug/2016 08:12:44] \"GET /classify?name=KCE%20K4-U800&img=http://shopping.phinf.naver.net/main_5693242/5693242543.20120211193349.jpg HTTP/1.1\" 200 101\n"
     ]
    },
    {
     "name": "stdout",
     "output_type": "stream",
     "text": [
      "classify called\n",
      "classify called\n"
     ]
    },
    {
     "name": "stderr",
     "output_type": "stream",
     "text": [
      "121.140.65.88 - - [22/Aug/2016 08:12:45] \"GET /classify?name=[%ED%95%B4%EC%99%B8]HPHP%20Xeon%20E5-2620%202%20GHz%206%20LGA%202011%20Processor%20660598-B21&img=http://shopping.phinf.naver.net/main_8275919/8275919893.jpg HTTP/1.1\" 200 62\n",
      "121.140.65.88 - - [22/Aug/2016 08:12:45] \"GET /classify?name=%EB%82%98%EB%8B%A4%ED%85%94%20NVR-04P&img=http://shopping.phinf.naver.net/main_7420653/7420653390.20140117123809.jpg HTTP/1.1\" 200 90\n"
     ]
    },
    {
     "name": "stdout",
     "output_type": "stream",
     "text": [
      "classify called\n",
      "classify called\n"
     ]
    },
    {
     "name": "stderr",
     "output_type": "stream",
     "text": [
      "121.140.65.88 - - [22/Aug/2016 08:12:45] \"GET /classify?name=[%ED%95%B4%EC%99%B8]IntelIntel%20Core%20i7-3820%20Quad-Core%20Processor%203.6%20GHz%2010%20MB%20Cache%20LGA%202011%20-%20BX80619I73820&img=http://shopping.phinf.naver.net/main_8275920/8275920058.jpg HTTP/1.1\" 200 62\n",
      "121.140.65.88 - - [22/Aug/2016 08:12:45] \"GET /classify?name=%EC%95%84%EC%9D%B4%EB%94%94%EC%8A%A4%20IDR-7216&img=http://shopping.phinf.naver.net/main_5588622/5588622777.20120211203400.jpg HTTP/1.1\" 200 90\n"
     ]
    },
    {
     "name": "stdout",
     "output_type": "stream",
     "text": [
      "classify called\n",
      "classify called\n"
     ]
    },
    {
     "name": "stderr",
     "output_type": "stream",
     "text": [
      "121.140.65.88 - - [22/Aug/2016 08:12:46] \"GET /classify?name=[%ED%95%B4%EC%99%B8][%EA%B5%AC%EB%A7%A4%EB%8C%80%ED%96%89][B00MMVIFZM]%20Voltage%20References%203.3V%20Prec%20Micropwr%20LDO%20Low%20VRef%20(5%20pieces)&img=http://shopping.phinf.naver.net/main_8266191/8266191804.jpg HTTP/1.1\" 200 72\n",
      "121.140.65.88 - - [22/Aug/2016 08:12:46] \"GET /classify?name=%EC%95%84%EC%9D%B4%EB%94%94%EC%8A%A4%20IDR-4516&img=http://shopping.phinf.naver.net/main_5521220/5521220092.20120211213101.jpg HTTP/1.1\" 200 90\n"
     ]
    },
    {
     "name": "stdout",
     "output_type": "stream",
     "text": [
      "classify called\n",
      "classify called\n"
     ]
    },
    {
     "name": "stderr",
     "output_type": "stream",
     "text": [
      "121.140.65.88 - - [22/Aug/2016 08:12:46] \"GET /classify?name=[%ED%95%B4%EC%99%B8][%EA%B5%AC%EB%A7%A4%EB%8C%80%ED%96%89][B00AZVJIEI]%20AD7524LNZ&img=http://shopping.phinf.naver.net/main_8266272/8266272594.jpg HTTP/1.1\" 200 72\n",
      "121.140.65.88 - - [22/Aug/2016 08:12:46] \"GET /classify?name=%EC%95%84%EC%9D%B4%EB%94%94%EC%8A%A4%20SDR-421&img=http://shopping.phinf.naver.net/main_5528341/5528341755.20120211194429.jpg HTTP/1.1\" 200 90\n"
     ]
    },
    {
     "name": "stdout",
     "output_type": "stream",
     "text": [
      "classify called\n",
      "classify called\n"
     ]
    },
    {
     "name": "stderr",
     "output_type": "stream",
     "text": [
      "121.140.65.88 - - [22/Aug/2016 08:12:46] \"GET /classify?name=[%ED%95%B4%EC%99%B8][%EA%B5%AC%EB%A7%A4%EB%8C%80%ED%96%89][B00MMUWSNS]%20LVDS%20Interface%20IC%20200Mbps%20Half-Duplex%203.3V%20Hi%20Spd%20(5%20pieces)&img=http://shopping.phinf.naver.net/main_8266191/8266191047.jpg HTTP/1.1\" 200 72\n",
      "121.140.65.88 - - [22/Aug/2016 08:12:46] \"GET /classify?name=%ED%9C%B4%EB%B0%94%EC%9D%B4%EB%A1%A0%20SK-R904&img=http://shopping.phinf.naver.net/main_7598294/7598294140.20140410115927.jpg HTTP/1.1\" 200 107\n"
     ]
    },
    {
     "name": "stdout",
     "output_type": "stream",
     "text": [
      "classify called\n",
      "classify called\n"
     ]
    },
    {
     "name": "stderr",
     "output_type": "stream",
     "text": [
      "121.140.65.88 - - [22/Aug/2016 08:12:47] \"GET /classify?name=[%ED%95%B4%EC%99%B8][%EA%B5%AC%EB%A7%A4%EB%8C%80%ED%96%89][B00AZVFQG2]%20AD629BNZ&img=http://shopping.phinf.naver.net/main_8266270/8266270987.jpg HTTP/1.1\" 200 72\n",
      "121.140.65.88 - - [22/Aug/2016 08:12:47] \"GET /classify?name=%EC%9C%88%ED%8F%AC%EB%84%B7%20TRIUM-SH3104&img=http://shopping.phinf.naver.net/main_5702542/5702542040.20120211211557.jpg HTTP/1.1\" 200 90\n"
     ]
    },
    {
     "name": "stdout",
     "output_type": "stream",
     "text": [
      "classify called\n",
      "classify called\n"
     ]
    },
    {
     "name": "stderr",
     "output_type": "stream",
     "text": [
      "121.140.65.88 - - [22/Aug/2016 08:12:47] \"GET /classify?name=[%ED%95%B4%EC%99%B8][%EA%B5%AC%EB%A7%A4%EB%8C%80%ED%96%89][B00AZVMJO4]%20AD713JRZ-16-REEL7&img=http://shopping.phinf.naver.net/main_8266272/8266272191.jpg HTTP/1.1\" 200 72\n",
      "121.140.65.88 - - [22/Aug/2016 08:12:47] \"GET /classify?name=%EC%82%BC%EC%84%B1%ED%85%8C%ED%81%AC%EC%9C%88%20SVR-1645&img=http://shopping.phinf.naver.net/main_5509528/5509528141.20120211210917.jpg HTTP/1.1\" 200 90\n"
     ]
    },
    {
     "name": "stdout",
     "output_type": "stream",
     "text": [
      "classify called\n",
      "classify called\n"
     ]
    },
    {
     "name": "stderr",
     "output_type": "stream",
     "text": [
      "121.140.65.88 - - [22/Aug/2016 08:12:48] \"GET /classify?name=[%ED%95%B4%EC%99%B8]HRTHRT%20-%20Istreamer%20-%20Outboard%20DAC%20for%20Idevices%2012v%20Version&img=http://shopping.phinf.naver.net/main_8275989/8275989792.jpg HTTP/1.1\" 200 72\n",
      "121.140.65.88 - - [22/Aug/2016 08:12:48] \"GET /classify?name=%EC%82%BC%EC%84%B1%ED%85%8C%ED%81%AC%EC%9C%88%20SVR-1650&img=http://shopping.phinf.naver.net/main_4840845/4840845085.20120211203336.jpg HTTP/1.1\" 200 90\n"
     ]
    },
    {
     "name": "stdout",
     "output_type": "stream",
     "text": [
      "classify called\n",
      "classify called\n"
     ]
    },
    {
     "name": "stderr",
     "output_type": "stream",
     "text": [
      "121.140.65.88 - - [22/Aug/2016 08:12:48] \"GET /classify?name=[5%%20%EC%A6%89%EC%8B%9C%ED%95%A0%EC%9D%B8][%ED%95%B4%EC%99%B8%EC%A7%81%EB%B0%B0%EC%86%A1]Panlong%20Digital%20to%20Analog%20Audio%20Converter%20-%20Optical%20SPDIF%20Toslink%20Coaxial%20to%20RCA%20L/R&img=http://shopping.phinf.naver.net/main_8280548/8280548735.jpg HTTP/1.1\" 200 72\n",
      "121.140.65.88 - - [22/Aug/2016 08:12:48] \"GET /classify?name=OPS-7204A&img=http://shopping.phinf.naver.net/main_7421061/7421061911.20140211113942.jpg HTTP/1.1\" 200 99\n"
     ]
    },
    {
     "name": "stdout",
     "output_type": "stream",
     "text": [
      "classify called\n",
      "classify called\n"
     ]
    },
    {
     "name": "stderr",
     "output_type": "stream",
     "text": [
      "121.140.65.88 - - [22/Aug/2016 08:12:48] \"GET /classify?name=[4%%EC%A6%89%EC%8B%9C%ED%95%A0%EC%9D%B8%EC%BF%A0%ED%8F%B0][%ED%95%B4%EC%99%B8]%20Semlos%203-In%201-Out%20Spdif%20/%20Toslink%20Digital%20Optical%20%20%EC%B5%9C%EC%A0%80%EA%B0%80%20%ED%95%B4%EC%99%B8%EA%B5%AC%EB%A7%A4%EB%8C%80%ED%96%89%20%EC%A0%84%EB%AC%B8%EC%84%9C%EB%B9%84%EC%8A%A4&img=http://shopping.phinf.naver.net/main_8261585/8261585711.jpg HTTP/1.1\" 200 95\n",
      "121.140.65.88 - - [22/Aug/2016 08:12:49] \"GET /classify?name=%EB%9D%BC%EC%9D%B4%ED%8A%B8%EC%BB%B4%20EasyCAP%20DVR&img=http://shopping.phinf.naver.net/main_5448588/5448588118.20120211210905.jpg HTTP/1.1\" 200 80\n"
     ]
    },
    {
     "name": "stdout",
     "output_type": "stream",
     "text": [
      "classify called\n",
      "classify called\n"
     ]
    },
    {
     "name": "stderr",
     "output_type": "stream",
     "text": [
      "121.140.65.88 - - [22/Aug/2016 08:12:49] \"GET /classify?name=[%ED%95%B4%EC%99%B8][%EA%B5%AC%EB%A7%A4%EB%8C%80%ED%96%89][B00AZVIVWS]%20ADA4841-2YRZ&img=http://shopping.phinf.naver.net/main_8266271/8266271561.jpg HTTP/1.1\" 200 72\n",
      "121.140.65.88 - - [22/Aug/2016 08:12:49] \"GET /classify?name=%EC%8B%9C%ED%81%90%EC%9D%B8%ED%8F%AC%20SENTRY-5416&img=http://shopping.phinf.naver.net/main_4091774/4091774522.20120211205644.jpg HTTP/1.1\" 200 90\n"
     ]
    },
    {
     "name": "stdout",
     "output_type": "stream",
     "text": [
      "classify called\n",
      "classify called\n"
     ]
    },
    {
     "name": "stderr",
     "output_type": "stream",
     "text": [
      "121.140.65.88 - - [22/Aug/2016 08:12:49] \"GET /classify?name=[%ED%95%B4%EC%99%B8][%EA%B5%AC%EB%A7%A4%EB%8C%80%ED%96%89][B00AZVMOH6]%20ADR445ARZ&img=http://shopping.phinf.naver.net/main_8266272/8266272177.jpg HTTP/1.1\" 200 72\n",
      "121.140.65.88 - - [22/Aug/2016 08:12:49] \"GET /classify?name=%EC%8B%9C%ED%81%90%EC%9D%B8%ED%8F%AC%20Sentry-5016&img=http://shopping.phinf.naver.net/main_4142965/4142965487.20120211202459.jpg HTTP/1.1\" 200 90\n"
     ]
    },
    {
     "name": "stdout",
     "output_type": "stream",
     "text": [
      "classify called\n",
      "classify called\n"
     ]
    },
    {
     "name": "stderr",
     "output_type": "stream",
     "text": [
      "121.140.65.88 - - [22/Aug/2016 08:12:50] \"GET /classify?name=[%ED%95%B4%EC%99%B8][%EA%B5%AC%EB%A7%A4%EB%8C%80%ED%96%89][B00MN4REVE]%20Interface%20-%20CODECs%202%20ADC%20%20frasl;%208%20DAC%20w%20%20frasl;%20%20PLL%20192kHz%2024B&img=http://shopping.phinf.naver.net/main_8266217/8266217901.jpg HTTP/1.1\" 200 72\n",
      "121.140.65.88 - - [22/Aug/2016 08:12:50] \"GET /classify?name=(D)%EC%99%B8%EC%9E%A5%ED%95%98%EB%93%9C%201TB%20(6.4CM(2.5%ED%98%95)%EC%9E%90%EA%B0%9C%EC%97%90%EB%94%94%EC%85%98/%EC%84%A0%EC%9C%A0%EB%8F%84)%20[PCD10184]&img=http://shopping.phinf.naver.net/main_8274693/8274693624.jpg HTTP/1.1\" 200 115\n"
     ]
    },
    {
     "name": "stdout",
     "output_type": "stream",
     "text": [
      "classify called\n",
      "classify called\n"
     ]
    },
    {
     "name": "stderr",
     "output_type": "stream",
     "text": [
      "121.140.65.88 - - [22/Aug/2016 08:12:50] \"GET /classify?name=[%ED%95%B4%EC%99%B8][%EA%B5%AC%EB%A7%A4%EB%8C%80%ED%96%89][B00AZVJL0Y]%20ADA4092-4ARUZ&img=http://shopping.phinf.naver.net/main_8266271/8266271811.jpg HTTP/1.1\" 200 72\n",
      "121.140.65.88 - - [22/Aug/2016 08:12:50] \"GET /classify?name=[PCD9114]%20%ED%95%98%EB%93%9C%20%EB%8F%84%ED%82%B9%20%EC%8A%A4%ED%85%8C%EC%9D%B4%EC%85%98%20(3500ES/eSATA%20USB2.0%206.4cm/8.9cm/%203.5%EC%9D%B8%EC%B9%98%ED%98%95%202.5%EC%9D%B8%EC%B9%98%ED%98%95/S-ATA%20%ED%95%98%EB%93%9C%20USB2.0%20%20%20eSATA/%ED%86%B5%EC%95%8C%EB%A3%A8%EB%AF%B8%EB%8A%84)&img=http://shopping.phinf.naver.net/main_8277891/8277891703.jpg HTTP/1.1\" 200 115\n"
     ]
    },
    {
     "name": "stdout",
     "output_type": "stream",
     "text": [
      "classify called\n",
      "classify called\n"
     ]
    },
    {
     "name": "stderr",
     "output_type": "stream",
     "text": [
      "121.140.65.88 - - [22/Aug/2016 08:12:51] \"GET /classify?name=[%ED%95%B4%EC%99%B8][%EA%B5%AC%EB%A7%A4%EB%8C%80%ED%96%89][B00AZVGFEE]%20INA114AU&img=http://shopping.phinf.naver.net/main_8266274/8266274112.jpg HTTP/1.1\" 200 72\n",
      "121.140.65.88 - - [22/Aug/2016 08:12:51] \"GET /classify?name=[4%%EC%A6%89%EC%8B%9C%ED%95%A0%EC%9D%B8%EC%BF%A0%ED%8F%B0]%EB%94%94%EB%B9%85%EC%8A%A4%20ATV1000%20%EC%95%88%EB%93%9C%EB%A1%9C%EC%9D%B4%EB%93%9COS%20%ED%83%91%EC%9E%AC&img=http://shopping.phinf.naver.net/main_8230840/8230840673.jpg HTTP/1.1\" 200 115\n"
     ]
    },
    {
     "name": "stdout",
     "output_type": "stream",
     "text": [
      "classify called\n",
      "classify called\n"
     ]
    },
    {
     "name": "stderr",
     "output_type": "stream",
     "text": [
      "121.140.65.88 - - [22/Aug/2016 08:12:51] \"GET /classify?name=[%ED%95%B4%EC%99%B8][%EA%B5%AC%EB%A7%A4%EB%8C%80%ED%96%89][B00AZVCBRY]%20OP747ARZ&img=http://shopping.phinf.naver.net/main_8266268/8266268940.jpg HTTP/1.1\" 200 72\n",
      "121.140.65.88 - - [22/Aug/2016 08:12:51] \"GET /classify?name=[%ED%95%B4%EC%99%B8]SeagateSeagate%20FreeAgent%20Theater%20HD%20Media%20Player%20STCEA101-RK&img=http://shopping.phinf.naver.net/main_8275722/8275722451.jpg HTTP/1.1\" 200 115\n"
     ]
    },
    {
     "name": "stdout",
     "output_type": "stream",
     "text": [
      "classify called\n",
      "classify called\n"
     ]
    },
    {
     "name": "stderr",
     "output_type": "stream",
     "text": [
      "121.140.65.88 - - [22/Aug/2016 08:12:51] \"GET /classify?name=[%ED%95%B4%EC%99%B8][%EA%B5%AC%EB%A7%A4%EB%8C%80%ED%96%89][B005TAG118]%20UC3825BDW&img=http://shopping.phinf.naver.net/main_8266273/8266273845.jpg HTTP/1.1\" 200 72\n",
      "121.140.65.88 - - [22/Aug/2016 08:12:51] \"GET /classify?name=ipTIME%20%EA%B3%B5%EC%9C%A0%EA%B8%B0%20NAS-I%20(NAS%20/%203.5%EC%9D%B8%EC%B9%98%201%EB%B2%A0%EC%9D%B4%20/%20HDD%20%EB%AF%B8%ED%83%91%EC%9E%AC%20/%20%EA%B8%B0%EA%B0%80%EB%B9%84%ED%8A%B8%20%EC%9C%A0%EC%84%A0)%20[PCD0563]&img=http://shopping.phinf.naver.net/main_8274526/8274526587.jpg HTTP/1.1\" 200 72\n"
     ]
    },
    {
     "name": "stdout",
     "output_type": "stream",
     "text": [
      "classify called\n",
      "classify called\n"
     ]
    },
    {
     "name": "stderr",
     "output_type": "stream",
     "text": [
      "121.140.65.88 - - [22/Aug/2016 08:12:52] \"GET /classify?name=[%ED%95%B4%EC%99%B8][%EA%B5%AC%EB%A7%A4%EB%8C%80%ED%96%89][B005TAR8VA]%20INA114BU&img=http://shopping.phinf.naver.net/main_8266272/8266272533.jpg HTTP/1.1\" 200 72\n",
      "121.140.65.88 - - [22/Aug/2016 08:12:52] \"GET /classify?name=ipTIME%20%EA%B3%B5%EC%9C%A0%EA%B8%B0%20NAS-I%20(NAS%20/%203.5%EC%9D%B8%EC%B9%98%201%EB%B2%A0%EC%9D%B4%20/%20HDD%20%EB%AF%B8%ED%83%91%EC%9E%AC%20/%20%EA%B8%B0%EA%B0%80%EB%B9%84%ED%8A%B8%20%EC%9C%A0%EC%84%A0)%20[PCD0563]&img=http://shopping.phinf.naver.net/main_8270642/8270642726.jpg HTTP/1.1\" 200 72\n"
     ]
    },
    {
     "name": "stdout",
     "output_type": "stream",
     "text": [
      "classify called\n",
      "classify called\n"
     ]
    },
    {
     "name": "stderr",
     "output_type": "stream",
     "text": [
      "121.140.65.88 - - [22/Aug/2016 08:12:52] \"GET /classify?name=[%ED%95%B4%EC%99%B8][%EA%B5%AC%EB%A7%A4%EB%8C%80%ED%96%89][B00AZVE2BC]%20MAX218CPP+&img=http://shopping.phinf.naver.net/main_8266270/8266270413.jpg HTTP/1.1\" 200 72\n",
      "121.140.65.88 - - [22/Aug/2016 08:12:52] \"GET /classify?name=(K)%ED%95%98%EB%93%9C%EB%94%94%EC%8A%A4%ED%81%AC%20%EB%B3%B4%ED%98%B8%20%EC%BC%80%EC%9D%B4%EC%8A%A4/3.5/5%EA%B0%9C%20%EC%88%98%EB%82%A9%EA%B0%80%EB%8A%A5%20[PCD10499]&img=http://shopping.phinf.naver.net/main_8277544/8277544177.jpg HTTP/1.1\" 200 109\n"
     ]
    },
    {
     "name": "stdout",
     "output_type": "stream",
     "text": [
      "classify called\n",
      "classify called\n"
     ]
    },
    {
     "name": "stderr",
     "output_type": "stream",
     "text": [
      "121.140.65.88 - - [22/Aug/2016 08:12:53] \"GET /classify?name=[%ED%95%B4%EC%99%B8][%EA%B5%AC%EB%A7%A4%EB%8C%80%ED%96%89][B00MMV8J58]%20RS-232%20Interface%20IC%20Hi-Spd%205V%20CMOS%20Driver%20%20frasl;%20Receiver%20(5%20pieces)&img=http://shopping.phinf.naver.net/main_8266191/8266191339.jpg HTTP/1.1\" 200 72\n",
      "121.140.65.88 - - [22/Aug/2016 08:12:53] \"GET /classify?name=%EC%83%88%EB%A1%9C%ED%85%8D%20Abigs%20T20&img=http://shopping.phinf.naver.net/main_5626027/5626027267.20120211164610.jpg HTTP/1.1\" 200 115\n"
     ]
    },
    {
     "name": "stdout",
     "output_type": "stream",
     "text": [
      "classify called\n",
      "classify called\n"
     ]
    },
    {
     "name": "stderr",
     "output_type": "stream",
     "text": [
      "121.140.65.88 - - [22/Aug/2016 08:12:53] \"GET /classify?name=[%ED%95%B4%EC%99%B8][%EA%B5%AC%EB%A7%A4%EB%8C%80%ED%96%89][B00MN4PUS8]%20RS-232%20Interface%20IC%205V%20MultiCh%20RS-232%20Driver%20%20frasl;%20Receiver&img=http://shopping.phinf.naver.net/main_8266217/8266217360.jpg HTTP/1.1\" 200 72\n",
      "121.140.65.88 - - [22/Aug/2016 08:12:53] \"GET /classify?name=LI-1100%20%EA%B8%89%EC%86%8D%EC%B6%A9%EC%A0%84%EA%B8%B0%2018650%EC%A0%84%EC%9A%A9%201%EC%95%8C&img=http://shopping.phinf.naver.net/main_8249116/8249116585.jpg HTTP/1.1\" 200 115\n"
     ]
    },
    {
     "name": "stdout",
     "output_type": "stream",
     "text": [
      "classify called\n",
      "classify called\n"
     ]
    },
    {
     "name": "stderr",
     "output_type": "stream",
     "text": [
      "121.140.65.88 - - [22/Aug/2016 08:12:54] \"GET /classify?name=[%ED%95%B4%EC%99%B8][%EA%B5%AC%EB%A7%A4%EB%8C%80%ED%96%89][B00MMV2AYE]%20Voltage%20References%20Ultracompact%20Prec%205V%20(5%20pieces)&img=http://shopping.phinf.naver.net/main_8266191/8266191253.jpg HTTP/1.1\" 200 72\n",
      "121.140.65.88 - - [22/Aug/2016 08:12:54] \"GET /classify?name=[G3965]%20Coms%20%EC%A0%84%ED%99%94%EC%84%A0%20%EC%BC%80%EC%9D%B4%EB%B8%94(%EC%9E%90%EB%8F%99%EA%B0%90%EA%B9%80)%203M%20%EB%B9%A8%EA%B0%95&img=http://shopping.phinf.naver.net/main_8250309/8250309958.jpg HTTP/1.1\" 200 115\n"
     ]
    },
    {
     "name": "stdout",
     "output_type": "stream",
     "text": [
      "classify called\n",
      "classify called\n"
     ]
    },
    {
     "name": "stderr",
     "output_type": "stream",
     "text": [
      "121.140.65.88 - - [22/Aug/2016 08:12:54] \"GET /classify?name=[%ED%95%B4%EC%99%B8][%EA%B5%AC%EB%A7%A4%EB%8C%80%ED%96%89][B00AZV40ZA]%20REF43GPZ&img=http://shopping.phinf.naver.net/main_8266267/8266267605.jpg HTTP/1.1\" 200 72\n",
      "121.140.65.88 - - [22/Aug/2016 08:12:54] \"GET /classify?name=Coms%20LCD%20%EA%B1%B0%EC%B9%98%EB%8C%80%20-%20Pan/tilt/%20VESA%2075/100/%20%EC%B5%9C%EB%8C%80%2015Kg%20(MS2790)&img=http://shopping.phinf.naver.net/main_8246406/8246406014.jpg HTTP/1.1\" 200 115\n"
     ]
    },
    {
     "name": "stdout",
     "output_type": "stream",
     "text": [
      "classify called\n",
      "classify called\n"
     ]
    },
    {
     "name": "stderr",
     "output_type": "stream",
     "text": [
      "121.140.65.88 - - [22/Aug/2016 08:12:54] \"GET /classify?name=[%ED%95%B4%EC%99%B8][%EA%B5%AC%EB%A7%A4%EB%8C%80%ED%96%89][B00AZVFGIA]%20AD7780BRZ&img=http://shopping.phinf.naver.net/main_8266270/8266270845.jpg HTTP/1.1\" 200 72\n",
      "121.140.65.88 - - [22/Aug/2016 08:12:54] \"GET /classify?name=%EC%8B%9C%EB%A6%AC%EC%96%BC%ED%8F%AC%ED%8A%B8%20LP%EA%B0%80%EC%9D%B4%EB%93%9C%2040CM%20%EB%A9%94%EC%9D%B8%EB%B3%B4%EB%93%9C%EC%9A%A9&img=http://shopping.phinf.naver.net/main_8246418/8246418826.jpg HTTP/1.1\" 200 89\n"
     ]
    },
    {
     "name": "stdout",
     "output_type": "stream",
     "text": [
      "classify called\n",
      "classify called\n"
     ]
    },
    {
     "name": "stderr",
     "output_type": "stream",
     "text": [
      "121.140.65.88 - - [22/Aug/2016 08:12:55] \"GET /classify?name=[%ED%95%B4%EC%99%B8]Gustard%20ES9018%20DAC%20x12%20DAC%20Decoder%20Xmos%20USB%20Support%20DSD%20XLR%20Balanced%20Output&img=http://shopping.phinf.naver.net/main_8260193/8260193943.jpg HTTP/1.1\" 200 72\n",
      "121.140.65.88 - - [22/Aug/2016 08:12:55] \"GET /classify?name=LevelOne%20USB%20%EB%AC%B4%EC%84%A0%EB%9E%9C%EC%B9%B4%EB%93%9C/%204dBi%20%EC%95%88%ED%85%8C%EB%82%98%20%EB%B6%84%EB%A6%AC%EA%B0%80%EB%8A%A5(%EA%B5%90%EC%B2%B4%ED%98%95)&img=http://shopping.phinf.naver.net/main_8246406/8246406004.jpg HTTP/1.1\" 200 101\n"
     ]
    },
    {
     "name": "stdout",
     "output_type": "stream",
     "text": [
      "classify called\n",
      "classify called\n"
     ]
    },
    {
     "name": "stderr",
     "output_type": "stream",
     "text": [
      "121.140.65.88 - - [22/Aug/2016 08:12:55] \"GET /classify?name=[%ED%95%B4%EC%99%B8]HI-FI%20Mini%20DAC%20TDA1543%20DIR9001%20NOS%20DAC%20Incl%20power%20ADP&img=http://shopping.phinf.naver.net/main_8269188/8269188506.jpg HTTP/1.1\" 200 72\n",
      "121.140.65.88 - - [22/Aug/2016 08:12:55] \"GET /classify?name=%ED%97%88%EB%B8%8C%EB%9E%99%2018U%20%EC%95%84%EC%9D%B4%EB%B3%B4%EB%A6%AC%20LS-1000H&img=http://shopping.phinf.naver.net/main_8246419/8246419159.jpg HTTP/1.1\" 200 98\n"
     ]
    },
    {
     "name": "stdout",
     "output_type": "stream",
     "text": [
      "classify called\n",
      "classify called\n"
     ]
    },
    {
     "name": "stderr",
     "output_type": "stream",
     "text": [
      "121.140.65.88 - - [22/Aug/2016 08:12:56] \"GET /classify?name=[%ED%95%B4%EC%99%B8]Muse%20AT-HA20%20Stereo%20Headphone%20Amplifier%2012V%20500mA%20Black%20Silver&img=http://shopping.phinf.naver.net/main_8275539/8275539052.jpg HTTP/1.1\" 200 72\n",
      "121.140.65.88 - - [22/Aug/2016 08:12:56] \"GET /classify?name=USB%20%EC%88%98%EB%8F%99%EC%84%A0%ED%83%9D%EA%B8%B0%204B%201A%20%EB%B2%BD%EA%B1%B8%EC%9D%B4%ED%98%95&img=http://shopping.phinf.naver.net/main_8246413/8246413724.jpg HTTP/1.1\" 200 115\n"
     ]
    },
    {
     "name": "stdout",
     "output_type": "stream",
     "text": [
      "classify called\n",
      "classify called\n"
     ]
    },
    {
     "name": "stderr",
     "output_type": "stream",
     "text": [
      "121.140.65.88 - - [22/Aug/2016 08:12:56] \"GET /classify?name=[%ED%95%B4%EC%99%B8]TPA3123%20Class%20D%20Mini%20Digital%20Amplifier%20Board%2020W+20W&img=http://shopping.phinf.naver.net/main_8269186/8269186136.jpg HTTP/1.1\" 200 72\n",
      "121.140.65.88 - - [22/Aug/2016 08:12:56] \"GET /classify?name=(D)%EC%99%B8%EC%9E%A5%ED%95%98%EB%93%9C%20500GB%20(6.4CM(2.5%ED%98%95)%EC%9E%90%EA%B0%9C%EC%97%90%EB%94%94%EC%85%98/%ED%9B%88%EB%AF%BC%EC%A0%95%EC%9D%8C)%20[PCD10178]&img=http://shopping.phinf.naver.net/main_8277586/8277586572.jpg HTTP/1.1\" 200 115\n"
     ]
    },
    {
     "name": "stdout",
     "output_type": "stream",
     "text": [
      "classify called\n",
      "classify called\n"
     ]
    },
    {
     "name": "stderr",
     "output_type": "stream",
     "text": [
      "121.140.65.88 - - [22/Aug/2016 08:12:56] \"GET /classify?name=[%ED%95%B4%EC%99%B8]Free%20Shipping%20Assembled%20TDA7492%2025W+25W%20Class%20D%20power%20amplifier%20board%20DC12V&img=http://shopping.phinf.naver.net/main_8269184/8269184914.jpg HTTP/1.1\" 200 72\n",
      "121.140.65.88 - - [22/Aug/2016 08:12:57] \"GET /classify?name=Coms%20LCD%20%EA%B1%B0%EC%B9%98%EB%8C%80%20-%20Low%20Profile/%20%EC%B5%9C%EB%8C%80%2035Kg%20(ML-L24)&img=http://shopping.phinf.naver.net/main_8246406/8246406018.jpg HTTP/1.1\" 200 115\n"
     ]
    },
    {
     "name": "stdout",
     "output_type": "stream",
     "text": [
      "classify called\n",
      "classify called\n"
     ]
    },
    {
     "name": "stderr",
     "output_type": "stream",
     "text": [
      "121.140.65.88 - - [22/Aug/2016 08:12:57] \"GET /classify?name=[%ED%95%B4%EC%99%B8]A1%20headphone%20amplifier%20preamplifier%20with%20BD139%20BD140%20NE5532&img=http://shopping.phinf.naver.net/main_8269177/8269177140.jpg HTTP/1.1\" 200 72\n",
      "121.140.65.88 - - [22/Aug/2016 08:12:57] \"GET /classify?name=[%ED%95%B4%EC%99%B8]TV%20Stick%20Tronsmart%20T1000%20Mirror2%20Dongle%20Wireless%20Display%20Miracast%20AirPlay%20EZCast%20Full%20HD%201080P%20H&img=http://shopping.phinf.naver.net/main_8266128/8266128731.jpg HTTP/1.1\" 200 115\n"
     ]
    },
    {
     "name": "stdout",
     "output_type": "stream",
     "text": [
      "classify called\n",
      "classify called\n"
     ]
    },
    {
     "name": "stderr",
     "output_type": "stream",
     "text": [
      "121.140.65.88 - - [22/Aug/2016 08:12:57] \"GET /classify?name=[%ED%95%B4%EC%99%B8]TAS5630%20300W+300W%20Class%20D%20stereo%20amplifier%20Assembled%20Board%20Highly%20Recommend&img=http://shopping.phinf.naver.net/main_8269185/8269185923.jpg HTTP/1.1\" 200 72\n",
      "121.140.65.88 - - [22/Aug/2016 08:12:57] \"GET /classify?name=[4%%EC%A6%89%EC%8B%9C%ED%95%A0%EC%9D%B8%EC%BF%A0%ED%8F%B0]%EC%9C%A0%EC%A0%A0%ED%8A%B8%20%EC%8A%A4%EB%A7%88%ED%8A%B8%ED%8F%B0/PTV2000%ED%9B%84%EC%86%8D%20%EB%84%B7%EA%B8%B0%EC%96%B4%20%EC%B0%A8%EC%84%B8%EB%8C%80%20%EB%AC%B4%EC%84%A0%EC%98%81%EC%83%81%EC%A0%84%EC%86%A1%EC%9E%A5%EC%B9%98%20PTVU1000%20%EB%85%B8%ED%8A%B8%EB%B6%81%20%EB%8C%80%EC%9D%91%20%ED%92%80HD%201080p%EC%A7%80%EC%9B%90%20/%EC%8A%A4%EB%A7%88%ED%8A%B8%ED%8F%B0&img=http://shopping.phinf.naver.net/main_7383129/7383129880.jpg HTTP/1.1\" 200 115\n"
     ]
    },
    {
     "name": "stdout",
     "output_type": "stream",
     "text": [
      "classify called\n",
      "classify called\n"
     ]
    },
    {
     "name": "stderr",
     "output_type": "stream",
     "text": [
      "121.140.65.88 - - [22/Aug/2016 08:12:58] \"GET /classify?name=[%ED%95%B4%EC%99%B8]SMSL%20S2%20TA2024%20Class-T%20Amp%20HI-FI%20Amplifier%202*15W%20+%20Built-in%20Headphone%20Amplifier&img=http://shopping.phinf.naver.net/main_8269181/8269181305.jpg HTTP/1.1\" 200 72\n",
      "121.140.65.88 - - [22/Aug/2016 08:12:58] \"GET /classify?name=%ED%86%A0%ED%94%BD%20%EC%82%B0%EC%95%85%EC%9E%90%EC%A0%84%EA%B1%B0%EC%9A%A9%20%ED%9C%B4%EB%8C%80%EC%9A%A9%20%EA%B3%B5%EA%B5%AC%20Mini%209%20MT&img=http://shopping.phinf.naver.net/main_8005659/8005659704.jpg HTTP/1.1\" 200 72\n"
     ]
    },
    {
     "name": "stdout",
     "output_type": "stream",
     "text": [
      "classify called\n",
      "classify called\n"
     ]
    },
    {
     "name": "stderr",
     "output_type": "stream",
     "text": [
      "121.140.65.88 - - [22/Aug/2016 08:12:58] \"GET /classify?name=[%ED%95%B4%EC%99%B8]+/-20-28VAC%20LM3886%20+%20NE5532%20mixer%20amplifier%20finished%20board%202*68W&img=http://shopping.phinf.naver.net/main_8269177/8269177147.jpg HTTP/1.1\" 200 72\n",
      "121.140.65.88 - - [22/Aug/2016 08:12:58] \"GET /classify?name=iXtreamer%20+%20ice%20cube(%EB%AC%B4%EB%A3%8C%EC%A6%9D%EC%A0%95)/%EB%94%94%EB%B9%85%EC%8A%A4%ED%94%8C%EB%A0%88%EC%9D%B4%EC%96%B4/%203.5%EC%9D%B8%EC%B9%98/%20SATA/1080%ED%92%80HD%20%EC%95%84%EC%9D%B4%ED%8F%B0%20%EC%95%84%EC%9D%B4%ED%8C%9F%20%EC%95%84%EC%9D%B4%ED%8C%A8%EB%93%9C%20%EB%8F%84%ED%82%B9%20%EB%A9%80%ED%8B%B0%EB%AF%B8%EB%94%94%EC%96%B4%20%ED%94%8C%EB%A0%88%EC%9D%B4(iXtreamer)&img=http://shopping.phinf.naver.net/main_6952319/6952319589.jpg HTTP/1.1\" 200 115\n"
     ]
    },
    {
     "name": "stdout",
     "output_type": "stream",
     "text": [
      "classify called\n",
      "classify called\n"
     ]
    },
    {
     "name": "stderr",
     "output_type": "stream",
     "text": [
      "121.140.65.88 - - [22/Aug/2016 08:12:59] \"GET /classify?name=[%ED%95%B4%EC%99%B8]YJ%2024VDC%202.0%20channel%20class%20D%20Digital%20bluetooth%204.0%20version%20TPA3116%20power%20amplifier%202*50W&img=http://shopping.phinf.naver.net/main_8260194/8260194902.jpg HTTP/1.1\" 200 72\n",
      "121.140.65.88 - - [22/Aug/2016 08:12:59] \"GET /classify?name=%EC%83%88%EB%A1%9C%ED%85%8D%20abigs%20Q3II&img=http://shopping.phinf.naver.net/main_7522069/7522069217.20140226155917.jpg HTTP/1.1\" 200 115\n"
     ]
    },
    {
     "name": "stdout",
     "output_type": "stream",
     "text": [
      "classify called\n",
      "classify called\n"
     ]
    },
    {
     "name": "stderr",
     "output_type": "stream",
     "text": [
      "121.140.65.88 - - [22/Aug/2016 08:12:59] \"GET /classify?name=[%ED%95%B4%EC%99%B8]TOPPING%20TP31%20TP-31%20STEREO%20AMP%20%20%20Head%20AMP%20%20%2024/192%20DAC%20N&img=http://shopping.phinf.naver.net/main_8269188/8269188537.jpg HTTP/1.1\" 200 72\n",
      "121.140.65.88 - - [22/Aug/2016 08:12:59] \"GET /classify?name=[4%%EC%A6%89%EC%8B%9C%ED%95%A0%EC%9D%B8%EC%BF%A0%ED%8F%B0]%EC%B9%B4%EB%A9%9C%20%EB%94%94%EB%B9%85%EC%8A%A4%20ATV1000%20%EC%95%88%EB%93%9C%EB%A1%9C%EC%9D%B4%EB%93%9COS%20%ED%83%91%EC%9E%AC&img=http://shopping.phinf.naver.net/main_8228747/8228747514.jpg HTTP/1.1\" 200 115\n"
     ]
    },
    {
     "name": "stdout",
     "output_type": "stream",
     "text": [
      "classify called\n",
      "classify called\n"
     ]
    },
    {
     "name": "stderr",
     "output_type": "stream",
     "text": [
      "121.140.65.88 - - [22/Aug/2016 08:12:59] \"GET /classify?name=%E2%97%80CHORD%EA%B3%B5%EC%8B%9D%EB%8C%80%EB%A6%AC%EC%A0%90:%EB%A7%A4%EC%9E%A5%EB%B0%A9%EB%AC%B8%EC%B6%94%EA%B0%80%ED%95%A0%EC%9D%B8%E2%96%B6CHORD(%EC%BD%94%EB%93%9C)%20HUGO%20%EC%B5%9C%EC%83%81%EC%9C%84%20%ED%94%84%EB%A6%AC%EB%AF%B8%EC%97%84%20%ED%9C%B4%EB%8C%80%EC%9A%A9%20DAC/%ED%97%A4%EB%93%9C%ED%8F%B0%EC%95%B0%ED%94%84+SENNHEISER(%EC%A0%A0%ED%95%98%EC%9D%B4%EC%A0%80)%20IE800%20%ED%94%84%EB%A6%AC%EB%AF%B8%EC%97%84%20%EC%B5%9C%EC%83%81%EC%9C%84%20%EC%9D%B4%EC%96%B4%ED%8F%B0&img=http://shopping.phinf.naver.net/main_7736112/7736112734.jpg HTTP/1.1\" 200 72\n",
      "121.140.65.88 - - [22/Aug/2016 08:12:59] \"GET /classify?name=[FV]%EB%8B%B9%EC%9D%BC%EC%B6%9C%EA%B3%A0%20AV-A9%20%EC%95%88%EB%93%9C%EB%A1%9C%EC%9D%B4%EB%93%9C%EC%85%8B%ED%83%91%20%EB%94%94%EB%B9%85%EC%8A%A4%ED%94%8C%EB%A0%88%EC%9D%B4%EC%96%B4,%EB%94%94%EB%B9%85%EC%8A%A4,%EC%8A%A4%EB%A7%88%ED%8A%B8TV&img=http://shopping.phinf.naver.net/main_8201026/8201026167.jpg HTTP/1.1\" 200 115\n"
     ]
    },
    {
     "name": "stdout",
     "output_type": "stream",
     "text": [
      "classify called\n",
      "classify called\n"
     ]
    },
    {
     "name": "stderr",
     "output_type": "stream",
     "text": [
      "121.140.65.88 - - [22/Aug/2016 08:13:00] \"GET /classify?name=[%ED%95%B4%EC%99%B8][%EA%B5%AC%EB%A7%A4%EB%8C%80%ED%96%89][B002DAO94S]%20OYAIDE%20audio%20cable%20HPC-35/R2.5%20Headphone%20Amp%20Speaker%203.5%20Stereo%20MIni%20-&img=http://shopping.phinf.naver.net/main_8141385/8141385363.jpg HTTP/1.1\" 200 72\n",
      "121.140.65.88 - - [22/Aug/2016 08:13:00] \"GET /classify?name=Full%20HD.%EB%AF%B8%EB%9D%BC%EC%BA%90%EC%8A%A4%ED%8A%B8.DLNA.AP%EB%AA%A8%EB%93%9C.MHL.%EC%8A%A4%ED%8A%B8%EB%A6%AC%EB%B0%8D.HDMI%20[%EC%9C%A0%EB%8B%88%EC%BD%98]Xtreamer%20WIFI-Display%20A1%20%EB%AC%B4%EC%84%A0%EC%98%81%EC%83%81%EC%96%B4%EB%8C%91%ED%84%B0&img=http://shopping.phinf.naver.net/main_8219112/8219112788.jpg HTTP/1.1\" 200 115\n"
     ]
    },
    {
     "name": "stdout",
     "output_type": "stream",
     "text": [
      "classify called\n",
      "classify called\n"
     ]
    },
    {
     "name": "stderr",
     "output_type": "stream",
     "text": [
      "121.140.65.88 - - [22/Aug/2016 08:13:00] \"GET /classify?name=UFO-DSD&img=http://shopping.phinf.naver.net/main_8166598/8166598997.20141219135536.jpg HTTP/1.1\" 200 107\n",
      "121.140.65.88 - - [22/Aug/2016 08:13:00] \"GET /classify?name=(D)%EC%99%B8%EC%9E%A5%ED%95%98%EB%93%9C%20500GB%20(6.4CM(2.5%ED%98%95)%EC%9E%90%EA%B0%9C%EC%97%90%EB%94%94%EC%85%98/%EC%84%A0%EC%9C%A0%EB%8F%84)%20[PCD10180]&img=http://shopping.phinf.naver.net/main_8277537/8277537306.jpg HTTP/1.1\" 200 115\n"
     ]
    },
    {
     "name": "stdout",
     "output_type": "stream",
     "text": [
      "classify called\n",
      "classify called\n"
     ]
    },
    {
     "name": "stderr",
     "output_type": "stream",
     "text": [
      "121.140.65.88 - - [22/Aug/2016 08:13:01] \"GET /classify?name=[4%%EC%A6%89%EC%8B%9C%ED%95%A0%EC%9D%B8%EC%BF%A0%ED%8F%B0][%ED%95%B4%EC%99%B8]%20Topping%20VX1%20Class-T%20AMP%20Stereo%20Hi-Fi%20Power%20Subwoof%20%EC%B5%9C%EC%A0%80%EA%B0%80%20%ED%95%B4%EC%99%B8%EA%B5%AC%EB%A7%A4%EB%8C%80%ED%96%89%20%EC%A0%84%EB%AC%B8%EC%84%9C%EB%B9%84%EC%8A%A4&img=http://shopping.phinf.naver.net/main_8249354/8249354279.jpg HTTP/1.1\" 200 72\n",
      "121.140.65.88 - - [22/Aug/2016 08:13:01] \"GET /classify?name=%EB%94%94%EB%B9%84%EC%BD%94%20TVIX%20PVR%20R-2210%20&img=http://shopping.phinf.naver.net/main_4146170/4146170745.20120211164319.jpg HTTP/1.1\" 200 107\n"
     ]
    },
    {
     "name": "stdout",
     "output_type": "stream",
     "text": [
      "classify called\n",
      "classify called\n"
     ]
    },
    {
     "name": "stderr",
     "output_type": "stream",
     "text": [
      "121.140.65.88 - - [22/Aug/2016 08:13:01] \"GET /classify?name=[%ED%95%B4%EC%99%B8][%EA%B5%AC%EB%A7%A4%EB%8C%80%ED%96%89][B00AZVJV9A]%20AD8626ARZ&img=http://shopping.phinf.naver.net/main_8266271/8266271712.jpg HTTP/1.1\" 200 72\n",
      "121.140.65.88 - - [22/Aug/2016 08:13:01] \"GET /classify?name=[PCD9127]%20USB3.0%208.9cm%20%EC%99%B8%EC%9E%A5%ED%95%98%EB%93%9C%EC%BC%80%EC%9D%B4%EC%8A%A4%20(HC5000/%ED%95%98%EB%93%9C%EB%AF%B8%ED%8F%AC%ED%95%A8/3.5%ED%98%95/COMBO(IDE/SATA)/%EC%99%B8%EB%B6%80AC%EC%A0%84%EC%9B%90)&img=http://shopping.phinf.naver.net/main_8274526/8274526081.jpg HTTP/1.1\" 200 79\n"
     ]
    },
    {
     "name": "stdout",
     "output_type": "stream",
     "text": [
      "classify called\n",
      "classify called\n"
     ]
    },
    {
     "name": "stderr",
     "output_type": "stream",
     "text": [
      "121.140.65.88 - - [22/Aug/2016 08:13:02] \"GET /classify?name=[%ED%95%B4%EC%99%B8][%EA%B5%AC%EB%A7%A4%EB%8C%80%ED%96%89][B00AZVKDA6]%20AD5620BRJZ-2500RL7&img=http://shopping.phinf.naver.net/main_8266271/8266271975.jpg HTTP/1.1\" 200 72\n",
      "121.140.65.88 - - [22/Aug/2016 08:13:02] \"GET /classify?name=%EC%BB%B4%ED%93%A8%ED%84%B0%EC%9A%A9%ED%92%88%20UNICORN%20%EC%BD%A9%EC%8A%A4%ED%86%A0%EC%96%B4&img=http://shopping.phinf.naver.net/main_8268994/8268994416.jpg HTTP/1.1\" 200 91\n"
     ]
    },
    {
     "name": "stdout",
     "output_type": "stream",
     "text": [
      "classify called\n",
      "classify called\n"
     ]
    },
    {
     "name": "stderr",
     "output_type": "stream",
     "text": [
      "121.140.65.88 - - [22/Aug/2016 08:13:02] \"GET /classify?name=[%ED%95%B4%EC%99%B8][%EA%B5%AC%EB%A7%A4%EB%8C%80%ED%96%89][B00AZVF5V8]%20OP213FSZ&img=http://shopping.phinf.naver.net/main_8266270/8266270864.jpg HTTP/1.1\" 200 72\n",
      "121.140.65.88 - - [22/Aug/2016 08:13:02] \"GET /classify?name=[PCD9108]%208.9cm%20%EC%99%B8%EC%9E%A5%20%ED%95%98%EB%93%9C%EC%BC%80%EC%9D%B4%EC%8A%A4%20(SATA/%ED%86%B5%EC%95%8C%EB%A3%A8%EB%AF%B8%EB%8A%84/3500S)&img=http://shopping.phinf.naver.net/main_8277578/8277578306.jpg HTTP/1.1\" 200 115\n"
     ]
    },
    {
     "name": "stdout",
     "output_type": "stream",
     "text": [
      "classify called\n",
      "classify called\n"
     ]
    },
    {
     "name": "stderr",
     "output_type": "stream",
     "text": [
      "121.140.65.88 - - [22/Aug/2016 08:13:02] \"GET /classify?name=[%ED%95%B4%EC%99%B8][%EA%B5%AC%EB%A7%A4%EB%8C%80%ED%96%89][B00AZV4104]%20ST7FLITE29F2B6&img=http://shopping.phinf.naver.net/main_8266267/8266267739.jpg HTTP/1.1\" 200 72\n",
      "121.140.65.88 - - [22/Aug/2016 08:13:02] \"GET /classify?name=USB%20%EC%99%B8%EC%9E%A5%ED%98%95%20COMBO%20ODD%20[PCD9216]&img=http://shopping.phinf.naver.net/main_8274598/8274598808.jpg HTTP/1.1\" 200 72\n"
     ]
    },
    {
     "name": "stdout",
     "output_type": "stream",
     "text": [
      "classify called\n",
      "classify called\n"
     ]
    },
    {
     "name": "stderr",
     "output_type": "stream",
     "text": [
      "121.140.65.88 - - [22/Aug/2016 08:13:03] \"GET /classify?name=[%ED%95%B4%EC%99%B8][%EA%B5%AC%EB%A7%A4%EB%8C%80%ED%96%89][B00AZVJO06]%20AD8630ARUZ&img=http://shopping.phinf.naver.net/main_8266271/8266271456.jpg HTTP/1.1\" 200 72\n",
      "121.140.65.88 - - [22/Aug/2016 08:13:03] \"GET /classify?name=[PCD7468]%20USB3.0%20%EC%99%B8%EC%9E%A5%20%ED%95%98%EB%93%9C%EB%AA%A8%EB%93%88(I-NA216U2%20Plus/%ED%95%98%EB%93%9C%EB%AF%B8%ED%8F%AC%ED%95%A8)%20USB3.0%20%EC%99%B8%EC%9E%A5%20%ED%95%98%EB%93%9C%EC%BC%80%EC%9D%B4%EC%8A%A4(%ED%94%8C%EB%9D%BC%EC%8A%A4%ED%8B%B1%20%EC%BC%80%EC%9D%B4%EC%8A%A4)&img=http://shopping.phinf.naver.net/main_8277543/8277543054.jpg HTTP/1.1\" 200 115\n"
     ]
    },
    {
     "name": "stdout",
     "output_type": "stream",
     "text": [
      "classify called\n",
      "classify called\n"
     ]
    },
    {
     "name": "stderr",
     "output_type": "stream",
     "text": [
      "121.140.65.88 - - [22/Aug/2016 08:13:03] \"GET /classify?name=[%ED%95%B4%EC%99%B8][%EA%B5%AC%EB%A7%A4%EB%8C%80%ED%96%89][B00AZVEZYQ]%20MAX3225EEPP+&img=http://shopping.phinf.naver.net/main_8266270/8266270649.jpg HTTP/1.1\" 200 72\n",
      "121.140.65.88 - - [22/Aug/2016 08:13:03] \"GET /classify?name=[%ED%95%B4%EC%99%B8]RCARCA%20DSB876WU-WH%20Wi-Fi%20Streaming%20Media%20Player&img=http://shopping.phinf.naver.net/main_8275771/8275771071.jpg HTTP/1.1\" 200 115\n"
     ]
    },
    {
     "name": "stdout",
     "output_type": "stream",
     "text": [
      "classify called\n",
      "classify called\n"
     ]
    },
    {
     "name": "stderr",
     "output_type": "stream",
     "text": [
      "121.140.65.88 - - [22/Aug/2016 08:13:04] \"GET /classify?name=[%ED%95%B4%EC%99%B8][%EA%B5%AC%EB%A7%A4%EB%8C%80%ED%96%89][B00AZVGDOG]%20INA115AU&img=http://shopping.phinf.naver.net/main_8266273/8266273597.jpg HTTP/1.1\" 200 72\n",
      "121.140.65.88 - - [22/Aug/2016 08:13:04] \"GET /classify?name=(K)%ED%95%98%EB%93%9C%EB%94%94%EC%8A%A4%ED%81%AC%20%EB%B3%B4%ED%98%B8%20%EC%BC%80%EC%9D%B4%EC%8A%A4/3.5/5%EA%B0%9C%20%EC%88%98%EB%82%A9%EA%B0%80%EB%8A%A5%20[PCD10499]&img=http://shopping.phinf.naver.net/main_8274529/8274529900.jpg HTTP/1.1\" 200 109\n"
     ]
    },
    {
     "name": "stdout",
     "output_type": "stream",
     "text": [
      "classify called\n",
      "classify called\n"
     ]
    },
    {
     "name": "stderr",
     "output_type": "stream",
     "text": [
      "121.140.65.88 - - [22/Aug/2016 08:13:04] \"GET /classify?name=[%ED%95%B4%EC%99%B8][%EA%B5%AC%EB%A7%A4%EB%8C%80%ED%96%89][B00AZV3J3O]%20TLV1543CN&img=http://shopping.phinf.naver.net/main_8266267/8266267828.jpg HTTP/1.1\" 200 72\n",
      "121.140.65.88 - - [22/Aug/2016 08:13:04] \"GET /classify?name=(K)%ED%95%98%EB%93%9C%EB%94%94%EC%8A%A4%ED%81%AC%20%EB%B3%B4%ED%98%B8%20%EC%BC%80%EC%9D%B4%EC%8A%A4/3.5/5%EA%B0%9C%20%EC%88%98%EB%82%A9%EA%B0%80%EB%8A%A5%20[PCD10499]&img=http://shopping.phinf.naver.net/main_8232040/8232040628.jpg HTTP/1.1\" 200 109\n"
     ]
    },
    {
     "name": "stdout",
     "output_type": "stream",
     "text": [
      "classify called\n",
      "classify called\n"
     ]
    },
    {
     "name": "stderr",
     "output_type": "stream",
     "text": [
      "121.140.65.88 - - [22/Aug/2016 08:13:04] \"GET /classify?name=[%ED%95%B4%EC%99%B8][%EA%B5%AC%EB%A7%A4%EB%8C%80%ED%96%89][B00MMUZ6AA]%20Supervisory%20Circuits%205V%20CMOS%20MPU%20IC%20(5%20pieces)&img=http://shopping.phinf.naver.net/main_8266191/8266191065.jpg HTTP/1.1\" 200 72\n",
      "121.140.65.88 - - [22/Aug/2016 08:13:05] \"GET /classify?name=[%ED%95%B4%EC%99%B8]Western%20DigitalWestern%20Digital%20WDBHG70000NBK-HESN%20(RECERTIFIED)%201080p%20WD%20TV%20Live%20Streaming%20Media&img=http://shopping.phinf.naver.net/main_8275771/8275771073.jpg HTTP/1.1\" 200 115\n"
     ]
    },
    {
     "name": "stdout",
     "output_type": "stream",
     "text": [
      "classify called\n",
      "classify called\n"
     ]
    },
    {
     "name": "stderr",
     "output_type": "stream",
     "text": [
      "121.140.65.88 - - [22/Aug/2016 08:13:05] \"GET /classify?name=[4%%EC%A6%89%EC%8B%9C%ED%95%A0%EC%9D%B8%EC%BF%A0%ED%8F%B0][%ED%95%B4%EC%99%B8]%20iView%201000STB%20ATSC%20Digital%20to%20Analog%20TV%20Converter%20%20%EC%B5%9C%EC%A0%80%EA%B0%80%20%ED%95%B4%EC%99%B8%EA%B5%AC%EB%A7%A4%EB%8C%80%ED%96%89%20%EC%A0%84%EB%AC%B8%EC%84%9C%EB%B9%84%EC%8A%A4&img=http://shopping.phinf.naver.net/main_8269460/8269460529.jpg HTTP/1.1\" 200 95\n",
      "121.140.65.88 - - [22/Aug/2016 08:13:05] \"GET /classify?name=[%ED%95%B4%EC%99%B8]GoogleGoogle%20Chromecast%20HDMI%20Streaming%20Media%20Player%20for%20TVs%20-%20HDMI%20Streaming%20For%20TV&img=http://shopping.phinf.naver.net/main_8275989/8275989418.jpg HTTP/1.1\" 200 115\n"
     ]
    },
    {
     "name": "stdout",
     "output_type": "stream",
     "text": [
      "classify called\n",
      "classify called\n"
     ]
    },
    {
     "name": "stderr",
     "output_type": "stream",
     "text": [
      "121.140.65.88 - - [22/Aug/2016 08:13:05] \"GET /classify?name=[%ED%95%B4%EC%99%B8][%EA%B5%AC%EB%A7%A4%EB%8C%80%ED%96%89][B00AZVG9NQ]%20AD5307BRUZ&img=http://shopping.phinf.naver.net/main_8266271/8266271076.jpg HTTP/1.1\" 200 72\n",
      "121.140.65.88 - - [22/Aug/2016 08:13:05] \"GET /classify?name=[%ED%95%B4%EC%99%B8]Western%20DigitalWestern%20Digital%20WD%20TV%20Live%20Media%20Player%20Wi-fi%201080p&img=http://shopping.phinf.naver.net/main_8275627/8275627277.jpg HTTP/1.1\" 200 115\n"
     ]
    },
    {
     "name": "stdout",
     "output_type": "stream",
     "text": [
      "classify called\n",
      "classify called\n"
     ]
    },
    {
     "name": "stderr",
     "output_type": "stream",
     "text": [
      "121.140.65.88 - - [22/Aug/2016 08:13:06] \"GET /classify?name=[%ED%95%B4%EC%99%B8][%EA%B5%AC%EB%A7%A4%EB%8C%80%ED%96%89][B00MMV4FMY]%20Voltage%20References%20Ultracompact%20Prec%203V%20(5%20pieces)&img=http://shopping.phinf.naver.net/main_8266191/8266191335.jpg HTTP/1.1\" 200 72\n",
      "121.140.65.88 - - [22/Aug/2016 08:13:06] \"GET /classify?name=Opticis%20HD%EB%AF%B8%EB%94%94%EC%96%B4%20%ED%94%8C%EB%A0%88%EC%9D%B4%EC%96%B4(%EB%84%A4%ED%8A%B8%EC%9B%8C%ED%81%AC%EC%A7%80%EC%9B%90)HDMP-1000&img=http://shopping.phinf.naver.net/main_8235341/8235341743.jpg HTTP/1.1\" 200 115\n"
     ]
    },
    {
     "name": "stdout",
     "output_type": "stream",
     "text": [
      "classify called\n",
      "classify called\n"
     ]
    },
    {
     "name": "stderr",
     "output_type": "stream",
     "text": [
      "121.140.65.88 - - [22/Aug/2016 08:13:06] \"GET /classify?name=[%EC%A0%95%ED%92%88]%20%EB%8B%88%EC%BD%98%20DSLR%20D800E%20Body+%EB%A7%A8%ED%94%84%EB%A1%9C%ED%86%A0%20MKBFRA4-BH%20%EC%82%BC%EA%B0%81%EB%8C%80%20+%EC%9D%B8%ED%99%94%EA%B6%8C+%EC%9B%B9%ED%95%98%EB%93%9C&img=http://shopping.phinf.naver.net/main_8303716/8303716371.jpg HTTP/1.1\" 200 116\n",
      "121.140.65.88 - - [22/Aug/2016 08:13:06] \"GET /classify?name=[NETGEAR%20PTV3000]%20Intel%20WiDi%20%ED%83%91%EC%9E%AC%EB%90%9C%20%EB%85%B8%ED%8A%B8%EB%B6%81%EC%97%90%EC%84%9C%20%EB%8C%80%ED%98%95%EC%8A%A4%ED%81%AC%EB%A6%B0TV%20%ED%92%80HD%ED%99%94%EB%A9%B4%EC%9C%BC%EB%A1%9C%20%EB%AF%B8%EB%9D%BC%EC%BA%90%EC%8A%A4%ED%8A%B8%20%EC%A7%80%EC%9B%90&img=http://shopping.phinf.naver.net/main_8242176/8242176723.jpg HTTP/1.1\" 200 101\n"
     ]
    }
   ],
   "source": [
    "from bottle import route, run, template,request,get, post\n",
    "from konlpy.tag import Twitter\n",
    "import  time\n",
    "from threading import  Condition\n",
    "\n",
    "_CONDITION = Condition()\n",
    "twitter = Twitter()\n",
    "@route('/classify')\n",
    "def classify():\n",
    "    print(\"classify called\")\n",
    "    img = request.GET.get('img','')\n",
    "    name = request.GET.get('name', '').decode('utf-8')\n",
    "    if name in d_all:\n",
    "        if d_all[name] in image_all_cache:\n",
    "            name = name + image_all_cache[d_all[name]][0][0]\n",
    "    if name in d_cache:\n",
    "        result = d_cache[name]\n",
    "    else:\n",
    "        parsed = twitter.pos(name)\n",
    "        r_list = []\n",
    "        for each in parsed:\n",
    "#            if each[1] == 'Noun' or each[1] == 'Alpha':\n",
    "            r_list.append(each[0])\n",
    "\n",
    "        result = ' '.join(r_list)\n",
    "        d_cache[name] = result\n",
    "        joblib.dump(d_cache,'d_cache.cache')\n",
    "    pred = clf.predict(vectorizer.transform([result]))[0]\n",
    "    return {'cate':cate_id_name_dict[pred]}\n",
    "\n",
    "run(host='0.0.0.0', port=8887)\n"
   ]
  },
  {
   "cell_type": "markdown",
   "metadata": {
    "collapsed": true
   },
   "source": [
    " * 추후 여기 docker 에서 뭔가 python package 설치할게 있으면 \n",
    " * /opt/conda/bin/pip2 install bottle 이런식으로 설치 가능"
   ]
  },
  {
   "cell_type": "code",
   "execution_count": null,
   "metadata": {
    "collapsed": false
   },
   "outputs": [],
   "source": [
    "d_list"
   ]
  },
  {
   "cell_type": "code",
   "execution_count": null,
   "metadata": {
    "collapsed": true
   },
   "outputs": [],
   "source": []
  }
 ],
 "metadata": {
  "kernelspec": {
   "display_name": "Python 2",
   "language": "python",
   "name": "python2"
  },
  "language_info": {
   "codemirror_mode": {
    "name": "ipython",
    "version": 2
   },
   "file_extension": ".py",
   "mimetype": "text/x-python",
   "name": "python",
   "nbconvert_exporter": "python",
   "pygments_lexer": "ipython2",
   "version": "2.7.9"
  },
  "widgets": {
   "state": {},
   "version": "1.1.2"
  }
 },
 "nbformat": 4,
 "nbformat_minor": 0
}
